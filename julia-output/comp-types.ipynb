{
 "cells": [
  {
   "cell_type": "code",
   "execution_count": 1,
   "metadata": {},
   "outputs": [],
   "source": [
    "struct Mystruct\n",
    "  num::Integer\n",
    "  str::String\n",
    "end"
   ]
  },
  {
   "cell_type": "code",
   "execution_count": 2,
   "metadata": {},
   "outputs": [
    {
     "data": {
      "text/plain": [
       "Mystruct(13, \"hello\")"
      ]
     },
     "metadata": {},
     "output_type": "display_data"
    }
   ],
   "source": [
    "m = Mystruct(13, \"hello\")"
   ]
  },
  {
   "cell_type": "code",
   "execution_count": 3,
   "metadata": {},
   "outputs": [
    {
     "data": {
      "text/plain": [
       "13"
      ]
     },
     "metadata": {},
     "output_type": "display_data"
    }
   ],
   "source": [
    "m.num"
   ]
  },
  {
   "cell_type": "code",
   "execution_count": 4,
   "metadata": {},
   "outputs": [
    {
     "data": {
      "text/plain": [
       "\"hello\""
      ]
     },
     "metadata": {},
     "output_type": "display_data"
    }
   ],
   "source": [
    "m.str"
   ]
  },
  {
   "cell_type": "code",
   "execution_count": 5,
   "metadata": {},
   "outputs": [
    {
     "data": {
      "text/plain": [
       "(:num, :str)"
      ]
     },
     "metadata": {},
     "output_type": "display_data"
    }
   ],
   "source": [
    "fieldnames(Mystruct)"
   ]
  },
  {
   "cell_type": "code",
   "execution_count": 6,
   "metadata": {},
   "outputs": [
    {
     "ename": "ErrorException",
     "evalue": "setfield!: immutable struct of type Mystruct cannot be changed",
     "output_type": "error",
     "traceback": [
      "setfield!: immutable struct of type Mystruct cannot be changed\n",
      "\n",
      "Stacktrace:\n",
      " [1] setproperty!(x::Mystruct, f::Symbol, v::String)\n",
      "   @ Base ./Base.jl:53\n",
      " [2] top-level scope\n",
      "   @ ~/code/sci-comp-book/julia-output/comp-types.ipynb:1"
     ]
    }
   ],
   "source": [
    "m.str = \"goodbye\""
   ]
  },
  {
   "cell_type": "code",
   "execution_count": 7,
   "metadata": {},
   "outputs": [],
   "source": [
    "mutable struct MutableStruct\n",
    "  a::Float64\n",
    "  b::Integer\n",
    "end"
   ]
  },
  {
   "cell_type": "code",
   "execution_count": 8,
   "metadata": {},
   "outputs": [
    {
     "data": {
      "text/plain": [
       "MutableStruct(1.0, 2)"
      ]
     },
     "metadata": {},
     "output_type": "display_data"
    }
   ],
   "source": [
    "s = MutableStruct(1,2)"
   ]
  },
  {
   "cell_type": "code",
   "execution_count": 9,
   "metadata": {},
   "outputs": [
    {
     "data": {
      "text/plain": [
       "4.5"
      ]
     },
     "metadata": {},
     "output_type": "display_data"
    }
   ],
   "source": [
    "s.a=4.5"
   ]
  },
  {
   "cell_type": "code",
   "execution_count": 10,
   "metadata": {},
   "outputs": [
    {
     "ename": "InexactError",
     "evalue": "InexactError: Int64(7.1)",
     "output_type": "error",
     "traceback": [
      "InexactError: Int64(7.1)\n",
      "\n",
      "Stacktrace:\n",
      " [1] Int64\n",
      "   @ ./float.jl:994 [inlined]\n",
      " [2] Integer\n",
      "   @ ./boot.jl:927 [inlined]\n",
      " [3] convert\n",
      "   @ ./number.jl:7 [inlined]\n",
      " [4] setproperty!(x::MutableStruct, f::Symbol, v::Float64)\n",
      "   @ Base ./Base.jl:52\n",
      " [5] top-level scope\n",
      "   @ ~/code/sci-comp-book/julia-output/comp-types.ipynb:1"
     ]
    }
   ],
   "source": [
    "s.b = 7.1"
   ]
  },
  {
   "cell_type": "code",
   "execution_count": 1,
   "metadata": {},
   "outputs": [
    {
     "data": {
      "text/plain": [
       "4-element Vector{Char}:\n",
       " '♠': Unicode U+2660 (category So: Symbol, other)\n",
       " '♡': Unicode U+2661 (category So: Symbol, other)\n",
       " '♢': Unicode U+2662 (category So: Symbol, other)\n",
       " '♣': Unicode U+2663 (category So: Symbol, other)"
      ]
     },
     "metadata": {},
     "output_type": "display_data"
    }
   ],
   "source": [
    "ranks = ['A','2','3','4','5','6','7','8','9','T','J','Q','K']\n",
    "suits = ['\\u2660','\\u2661','\\u2662','\\u2663']"
   ]
  },
  {
   "cell_type": "code",
   "execution_count": 12,
   "metadata": {},
   "outputs": [],
   "source": [
    "struct Card\n",
    "  rank::Integer\n",
    "  suit::Integer\n",
    "end"
   ]
  },
  {
   "cell_type": "code",
   "execution_count": 4,
   "metadata": {},
   "outputs": [
    {
     "data": {
      "text/plain": [
       "3♡"
      ]
     },
     "metadata": {},
     "output_type": "display_data"
    }
   ],
   "source": [
    "c = Card(3,2)"
   ]
  },
  {
   "cell_type": "code",
   "execution_count": 16,
   "metadata": {},
   "outputs": [
    {
     "data": {
      "text/plain": [
       "3"
      ]
     },
     "metadata": {},
     "output_type": "display_data"
    }
   ],
   "source": [
    "c.rank"
   ]
  },
  {
   "cell_type": "code",
   "execution_count": 17,
   "metadata": {},
   "outputs": [
    {
     "data": {
      "text/plain": [
       "2"
      ]
     },
     "metadata": {},
     "output_type": "display_data"
    }
   ],
   "source": [
    "c.suit"
   ]
  },
  {
   "cell_type": "code",
   "execution_count": 3,
   "metadata": {},
   "outputs": [],
   "source": [
    "Base.show(io::IO, c::Card) = print(io, \"$(ranks[c.rank])$(suits[c.suit])\")"
   ]
  },
  {
   "cell_type": "code",
   "execution_count": 5,
   "metadata": {},
   "outputs": [
    {
     "data": {
      "text/plain": [
       "3♡"
      ]
     },
     "metadata": {},
     "output_type": "display_data"
    }
   ],
   "source": [
    "c"
   ]
  },
  {
   "cell_type": "code",
   "execution_count": 20,
   "metadata": {},
   "outputs": [
    {
     "ename": "BoundsError",
     "evalue": "BoundsError: attempt to access 13-element Vector{Char} at index [-10]",
     "output_type": "error",
     "traceback": [
      "BoundsError: attempt to access 13-element Vector{Char} at index [-10]\n",
      "\n",
      "Stacktrace:\n",
      "  [1] throw_boundserror(A::Vector{Char}, I::Tuple{Int64})\n",
      "    @ Base ./essentials.jl:14\n",
      "  [2] getindex(A::Vector{Char}, i::Int64)\n",
      "    @ Base ./essentials.jl:892\n",
      "  [3] show(io::IOContext{IOBuffer}, c::Card)\n",
      "    @ Main ~/code/sci-comp-book/julia-output/comp-types.ipynb:1\n",
      "  [4] show\n",
      "    @ ./multimedia.jl:47 [inlined]\n",
      "  [5] limitstringmime(mime::MIME{Symbol(\"text/plain\")}, x::Card)\n",
      "    @ VSCodeServer.IJuliaCore ~/.vscode/extensions/julialang.language-julia-1.79.2/scripts/packages/IJuliaCore/src/inline.jl:22\n",
      "  [6] display_mimestring(m::MIME{Symbol(\"text/plain\")}, x::Card)\n",
      "    @ VSCodeServer.IJuliaCore ~/.vscode/extensions/julialang.language-julia-1.79.2/scripts/packages/IJuliaCore/src/display.jl:67\n",
      "  [7] display_dict(x::Card)\n",
      "    @ VSCodeServer.IJuliaCore ~/.vscode/extensions/julialang.language-julia-1.79.2/scripts/packages/IJuliaCore/src/display.jl:98\n",
      "  [8] display(::VSCodeServer.JuliaNotebookInlineDisplay, x::Card)\n",
      "    @ VSCodeServer ~/.vscode/extensions/julialang.language-julia-1.79.2/scripts/packages/VSCodeServer/src/notebookdisplay.jl:32\n",
      "  [9] display(x::Any)\n",
      "    @ Base.Multimedia ./multimedia.jl:340\n",
      " [10] #invokelatest#2\n",
      "    @ ./essentials.jl:1031 [inlined]\n",
      " [11] invokelatest\n",
      "    @ ./essentials.jl:1028 [inlined]\n",
      " [12] (::VSCodeServer.var\"#219#220\"{VSCodeServer.NotebookRunCellArguments, String})()\n",
      "    @ VSCodeServer ~/.vscode/extensions/julialang.language-julia-1.79.2/scripts/packages/VSCodeServer/src/serve_notebook.jl:48\n",
      " [13] withpath(f::VSCodeServer.var\"#219#220\"{VSCodeServer.NotebookRunCellArguments, String}, path::String)\n",
      "    @ VSCodeServer ~/.vscode/extensions/julialang.language-julia-1.79.2/scripts/packages/VSCodeServer/src/repl.jl:276\n",
      " [14] notebook_runcell_request(conn::VSCodeServer.JSONRPC.JSONRPCEndpoint{Base.PipeEndpoint, Base.PipeEndpoint}, params::VSCodeServer.NotebookRunCellArguments)\n",
      "    @ VSCodeServer ~/.vscode/extensions/julialang.language-julia-1.79.2/scripts/packages/VSCodeServer/src/serve_notebook.jl:13\n",
      " [15] dispatch_msg(x::VSCodeServer.JSONRPC.JSONRPCEndpoint{Base.PipeEndpoint, Base.PipeEndpoint}, dispatcher::VSCodeServer.JSONRPC.MsgDispatcher, msg::Dict{String, Any})\n",
      "    @ VSCodeServer.JSONRPC ~/.vscode/extensions/julialang.language-julia-1.79.2/scripts/packages/JSONRPC/src/typed.jl:67\n",
      " [16] serve_notebook(pipename::String, outputchannel_logger::Base.CoreLogging.SimpleLogger; crashreporting_pipename::String)\n",
      "    @ VSCodeServer ~/.vscode/extensions/julialang.language-julia-1.79.2/scripts/packages/VSCodeServer/src/serve_notebook.jl:139\n",
      " [17] top-level scope\n",
      "    @ ~/.vscode/extensions/julialang.language-julia-1.79.2/scripts/notebook/notebook.jl:35"
     ]
    }
   ],
   "source": [
    "Card(-10,78)"
   ]
  },
  {
   "cell_type": "code",
   "execution_count": 2,
   "metadata": {},
   "outputs": [],
   "source": [
    "struct Card\n",
    "  rank::Int\n",
    "  suit::Int\n",
    "\n",
    "  # construct a card based on the rank and suit\n",
    "  function Card(r::Int,s::Int)\n",
    "    1 <= r <=13  || throw(ArgumentError(\"The rank must be an integer between 1 and 13.\"))\n",
    "    1 <= s <= 4  || throw(ArgumentError(\"The suit must be an integer between 1 and 4.\"))\n",
    "    new(r,s)\n",
    "  end\n",
    "\n",
    "  # construct a card based on the number in a deck\n",
    "  function Card(i::Int)\n",
    "    1 <= i <= 52 || throw(ArgumentError(\"The argument must be an integer between 1 and 52\"))\n",
    "    mod(i,13)==0 ? new(13,div(i,13)) : new(mod(i,13),div(i,13)+1)\n",
    "  end\n",
    "end"
   ]
  },
  {
   "cell_type": "code",
   "execution_count": 8,
   "metadata": {},
   "outputs": [
    {
     "ename": "ArgumentError",
     "evalue": "ArgumentError: The rank must be an integer between 1 and 13.",
     "output_type": "error",
     "traceback": [
      "ArgumentError: The rank must be an integer between 1 and 13.\n",
      "\n",
      "Stacktrace:\n",
      " [1] Card(r::Int64, s::Int64)\n",
      "   @ Main ~/code/sci-comp-book/julia-output/comp-types.ipynb:7\n",
      " [2] top-level scope\n",
      "   @ ~/code/sci-comp-book/julia-output/comp-types.ipynb:1"
     ]
    }
   ],
   "source": [
    "Card(-10,12)"
   ]
  },
  {
   "cell_type": "code",
   "execution_count": 9,
   "metadata": {},
   "outputs": [
    {
     "data": {
      "text/plain": [
       "3♡"
      ]
     },
     "metadata": {},
     "output_type": "display_data"
    }
   ],
   "source": [
    "Card(3,2)"
   ]
  },
  {
   "cell_type": "code",
   "execution_count": 11,
   "metadata": {},
   "outputs": [
    {
     "data": {
      "text/plain": [
       "3♣"
      ]
     },
     "metadata": {},
     "output_type": "display_data"
    }
   ],
   "source": [
    "Card(42)"
   ]
  },
  {
   "cell_type": "code",
   "execution_count": 9,
   "metadata": {},
   "outputs": [],
   "source": [
    "struct Hand\n",
    "  cards::Vector{Card}\n",
    "end"
   ]
  },
  {
   "cell_type": "code",
   "execution_count": 10,
   "metadata": {},
   "outputs": [],
   "source": [
    "Base.show(io::IO,h::Hand) = print(io, \"[$(join(h.cards,\", \"))]\")"
   ]
  },
  {
   "cell_type": "code",
   "execution_count": 11,
   "metadata": {},
   "outputs": [
    {
     "data": {
      "text/plain": [
       "[2♢, Q♠, T♠, T♣, 5♡]"
      ]
     },
     "metadata": {},
     "output_type": "display_data"
    }
   ],
   "source": [
    "h1=Hand([Card(2,3),Card(12,1),Card(10,1),Card(10,4),Card(5,2)])"
   ]
  },
  {
   "cell_type": "code",
   "execution_count": 1,
   "metadata": {},
   "outputs": [],
   "source": [
    "struct Polynomial{T <: Number}\n",
    "  coeffs::Vector{T}\n",
    "end"
   ]
  },
  {
   "cell_type": "code",
   "execution_count": 2,
   "metadata": {},
   "outputs": [
    {
     "data": {
      "text/plain": [
       "Polynomial{Int64}([1, 2, 3, 4, 5, 6])"
      ]
     },
     "metadata": {},
     "output_type": "display_data"
    }
   ],
   "source": [
    "poly1=Polynomial([1,2,3])\n",
    "poly2=Polynomial([1.0,2.0,3.0])\n",
    "poly3=Polynomial([2//3,3//4,5//8])\n",
    "poly4=Polynomial([im,2+0im,3-2im,-im])\n",
    "poly5=Polynomial([n for n=1:6])"
   ]
  },
  {
   "cell_type": "code",
   "execution_count": 15,
   "metadata": {},
   "outputs": [
    {
     "data": {
      "text/plain": [
       "Polynomial{Rational{Int64}}(Rational{Int64}[2//3, 3//4, 5//8])"
      ]
     },
     "metadata": {},
     "output_type": "display_data"
    }
   ],
   "source": [
    "poly3"
   ]
  },
  {
   "cell_type": "code",
   "execution_count": 18,
   "metadata": {},
   "outputs": [],
   "source": [
    "function Base.show(io::IO, p::Polynomial)\n",
    "  print(io, reduce((str, n) -> \"$str $(n==1 ? \"\" : \"+\") $(p.coeffs[n]) x^$(n-1)\", 1:length(p.coeffs),init=\"\"))\n",
    "end"
   ]
  },
  {
   "cell_type": "code",
   "execution_count": 19,
   "metadata": {},
   "outputs": [
    {
     "data": {
      "text/plain": [
       "  1 x^0 + 2 x^1 + 3 x^2 + 4 x^3 + 5 x^4 + 6 x^5"
      ]
     },
     "metadata": {},
     "output_type": "display_data"
    }
   ],
   "source": [
    "poly5"
   ]
  },
  {
   "cell_type": "code",
   "execution_count": 20,
   "metadata": {},
   "outputs": [
    {
     "data": {
      "text/plain": [
       "  2//3 x^0 + 3//4 x^1 + 5//8 x^2"
      ]
     },
     "metadata": {},
     "output_type": "display_data"
    }
   ],
   "source": [
    "poly3"
   ]
  },
  {
   "cell_type": "code",
   "execution_count": 21,
   "metadata": {},
   "outputs": [
    {
     "ename": "MethodError",
     "evalue": "MethodError: no method matching +(::Polynomial{Int64}, ::Polynomial{Float64})\nThe function `+` exists, but no method is defined for this combination of argument types.\n\nClosest candidates are:\n  +(::Any, ::Any, !Matched::Any, !Matched::Any...)\n   @ Base operators.jl:596\n  +(!Matched::BitMatrix, !Matched::LinearAlgebra.UniformScaling)\n   @ LinearAlgebra ~/.julia/juliaup/julia-1.11.0-beta2+0.aarch64.apple.darwin14/share/julia/stdlib/v1.11/LinearAlgebra/src/uniformscaling.jl:151\n  +(!Matched::Bool, !Matched::Complex{Bool})\n   @ Base complex.jl:308\n  ...\n",
     "output_type": "error",
     "traceback": [
      "MethodError: no method matching +(::Polynomial{Int64}, ::Polynomial{Float64})\n",
      "The function `+` exists, but no method is defined for this combination of argument types.\n",
      "\n",
      "Closest candidates are:\n",
      "  +(::Any, ::Any, !Matched::Any, !Matched::Any...)\n",
      "   @ Base operators.jl:596\n",
      "  +(!Matched::BitMatrix, !Matched::LinearAlgebra.UniformScaling)\n",
      "   @ LinearAlgebra ~/.julia/juliaup/julia-1.11.0-beta2+0.aarch64.apple.darwin14/share/julia/stdlib/v1.11/LinearAlgebra/src/uniformscaling.jl:151\n",
      "  +(!Matched::Bool, !Matched::Complex{Bool})\n",
      "   @ Base complex.jl:308\n",
      "  ...\n",
      "\n",
      "\n",
      "Stacktrace:\n",
      " [1] top-level scope\n",
      "   @ ~/code/sci-comp-book/julia-output/comp-types.ipynb:1"
     ]
    }
   ],
   "source": [
    "poly1+poly2"
   ]
  },
  {
   "cell_type": "code",
   "execution_count": 22,
   "metadata": {},
   "outputs": [],
   "source": [
    "import Base.+"
   ]
  },
  {
   "cell_type": "code",
   "execution_count": 23,
   "metadata": {},
   "outputs": [
    {
     "data": {
      "text/plain": [
       "+ (generic function with 198 methods)"
      ]
     },
     "metadata": {},
     "output_type": "display_data"
    }
   ],
   "source": [
    "function +(p1::Polynomial{T},p2::Polynomial{S}) where {T <: Number, S <: Number}\n",
    "  Polynomial(p1.coeffs+p2.coeffs)\n",
    "end"
   ]
  },
  {
   "cell_type": "code",
   "execution_count": 24,
   "metadata": {},
   "outputs": [
    {
     "data": {
      "text/plain": [
       "  2.0 x^0 + 4.0 x^1 + 6.0 x^2"
      ]
     },
     "metadata": {},
     "output_type": "display_data"
    }
   ],
   "source": [
    "poly1+poly2"
   ]
  },
  {
   "cell_type": "code",
   "execution_count": 33,
   "metadata": {},
   "outputs": [
    {
     "data": {
      "text/plain": [
       "eval (generic function with 2 methods)"
      ]
     },
     "metadata": {},
     "output_type": "display_data"
    }
   ],
   "source": [
    "function eval(poly::Polynomial{T},x::Number) where T <: Number\n",
    "  reduce((val,i) -> val + poly.coeffs[i]*x^(i-1), 1:length(poly.coeffs))\n",
    "end"
   ]
  },
  {
   "cell_type": "code",
   "execution_count": 34,
   "metadata": {},
   "outputs": [
    {
     "data": {
      "text/plain": [
       "9"
      ]
     },
     "metadata": {},
     "output_type": "display_data"
    }
   ],
   "source": [
    "eval(poly1,-2)"
   ]
  },
  {
   "cell_type": "code",
   "execution_count": 31,
   "metadata": {},
   "outputs": [
    {
     "data": {
      "text/plain": [
       "eval (generic function with 2 methods)"
      ]
     },
     "metadata": {},
     "output_type": "display_data"
    }
   ],
   "source": [
    "function eval(poly::Polynomial{T}, x::Number) where T <: Number\n",
    "  reduce((val,c) -> x*val+c, reverse(poly.coeffs))\n",
    "end"
   ]
  },
  {
   "cell_type": "code",
   "execution_count": 32,
   "metadata": {},
   "outputs": [
    {
     "data": {
      "text/plain": [
       "9"
      ]
     },
     "metadata": {},
     "output_type": "display_data"
    }
   ],
   "source": [
    "eval(poly1,-2)"
   ]
  },
  {
   "cell_type": "code",
   "execution_count": 35,
   "metadata": {},
   "outputs": [],
   "source": [
    "struct Root\n",
    "  root::Float64    #  approximate value of the root\n",
    "  x_eps::Float64   #  estimate of the error in the x variable\n",
    "  f_eps::Float64   #  function value at the root f(root)\n",
    "  num_steps::Int   #  number of steps the method used\n",
    "  converged::Bool  #  whether or not the stopping criterion was reached\n",
    "  max_steps::Int   #  the maximum number of steps allowed\n",
    "end"
   ]
  },
  {
   "cell_type": "code",
   "execution_count": 36,
   "metadata": {},
   "outputs": [],
   "source": [
    "using ForwardDiff"
   ]
  },
  {
   "cell_type": "code",
   "execution_count": 37,
   "metadata": {},
   "outputs": [
    {
     "data": {
      "text/plain": [
       "newton (generic function with 1 method)"
      ]
     },
     "metadata": {},
     "output_type": "display_data"
    }
   ],
   "source": [
    "function newton(f::Function, x0::Number)\n",
    "  local dx = 1\n",
    "  local x1 = x0\n",
    "  local steps = 0\n",
    "  while abs(dx) > 1e-6 && steps < 10\n",
    "    dx = f(x1)/ForwardDiff.derivative(f,x1)\n",
    "    x1 -= dx\n",
    "    steps += 1\n",
    "  end\n",
    "  Root(x1, dx, f(x1), steps, steps < 10, 10)\n",
    "end"
   ]
  },
  {
   "cell_type": "code",
   "execution_count": 38,
   "metadata": {},
   "outputs": [
    {
     "data": {
      "text/plain": [
       "Root(1.4142135623730951, 1.5947429102833119e-12, 4.440892098500626e-16, 5, true, 10)"
      ]
     },
     "metadata": {},
     "output_type": "display_data"
    }
   ],
   "source": [
    "newton(x->x^2-2, 1)"
   ]
  },
  {
   "cell_type": "code",
   "execution_count": 39,
   "metadata": {},
   "outputs": [],
   "source": [
    "function Base.show(io::IO,r::Root)\n",
    "  str = r.converged ? \"\"\"The root is approximately x̂ = $(r.root)\n",
    "    An estimate for the error is $(r.x_eps)\n",
    "    with f(x̂) = $(r.f_eps)\n",
    "    which took $(r.num_steps) steps\"\"\" :\n",
    "    \"\"\"The root was not found within $(r.max_steps) steps.\n",
    "    Currently, the root is approximately x̂ = $(r.root).\n",
    "    An estimate for the error is $(r.x_eps)\n",
    "    with f(x̂) = $(r.f_eps).\"\"\"\n",
    "  print(io,str)\n",
    "end"
   ]
  },
  {
   "cell_type": "code",
   "execution_count": 40,
   "metadata": {},
   "outputs": [
    {
     "data": {
      "text/plain": [
       "The root is approximately x̂ = 1.4142135623730951\n",
       "An estimate for the error is 1.5947429102833119e-12\n",
       "with f(x̂) = 4.440892098500626e-16\n",
       "which took 5 steps"
      ]
     },
     "metadata": {},
     "output_type": "display_data"
    }
   ],
   "source": [
    "r = newton(x->x^2-2, 1)"
   ]
  },
  {
   "cell_type": "code",
   "execution_count": 12,
   "metadata": {},
   "outputs": [
    {
     "data": {
      "text/plain": [
       "The root was not found within 10 steps.\n",
       "Currently, the root is approximately x̂ = 0.030421004027873844.\n",
       "An estimate for the error is 1.0004626117382218\n",
       "with f(x̂) = 1.0009254374860639."
      ]
     },
     "metadata": {},
     "output_type": "display_data"
    }
   ],
   "source": [
    "newton(x->x^2+1,1.1)"
   ]
  },
  {
   "cell_type": "code",
   "execution_count": null,
   "metadata": {},
   "outputs": [],
   "source": []
  }
 ],
 "metadata": {
  "kernelspec": {
   "display_name": "Julia 1.11.0-rc2",
   "language": "julia",
   "name": "julia-1.11"
  },
  "language_info": {
   "file_extension": ".jl",
   "mimetype": "application/julia",
   "name": "julia",
   "version": "1.11.0-rc2"
  }
 },
 "nbformat": 4,
 "nbformat_minor": 2
}
