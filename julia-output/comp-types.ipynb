{
 "cells": [
  {
   "cell_type": "code",
   "execution_count": 1,
   "metadata": {},
   "outputs": [],
   "source": [
    "struct Mystruct\n",
    "  num::Integer\n",
    "  str::String\n",
    "end"
   ]
  },
  {
   "cell_type": "code",
   "execution_count": 2,
   "metadata": {},
   "outputs": [
    {
     "data": {
      "text/plain": [
       "Mystruct(13, \"hello\")"
      ]
     },
     "metadata": {},
     "output_type": "display_data"
    }
   ],
   "source": [
    "m = Mystruct(13, \"hello\")"
   ]
  },
  {
   "cell_type": "code",
   "execution_count": 3,
   "metadata": {},
   "outputs": [
    {
     "data": {
      "text/plain": [
       "13"
      ]
     },
     "metadata": {},
     "output_type": "display_data"
    }
   ],
   "source": [
    "m.num"
   ]
  },
  {
   "cell_type": "code",
   "execution_count": 4,
   "metadata": {},
   "outputs": [
    {
     "data": {
      "text/plain": [
       "\"hello\""
      ]
     },
     "metadata": {},
     "output_type": "display_data"
    }
   ],
   "source": [
    "m.str"
   ]
  },
  {
   "cell_type": "code",
   "execution_count": 5,
   "metadata": {},
   "outputs": [
    {
     "data": {
      "text/plain": [
       "(:num, :str)"
      ]
     },
     "metadata": {},
     "output_type": "display_data"
    }
   ],
   "source": [
    "fieldnames(Mystruct)"
   ]
  },
  {
   "cell_type": "code",
   "execution_count": 6,
   "metadata": {},
   "outputs": [
    {
     "name": "stdout",
     "output_type": "stream",
     "text": [
      "Mystruct\n",
      "  num: Int64 13\n",
      "  str: String \"hello\"\n"
     ]
    }
   ],
   "source": [
    "dump(m)"
   ]
  },
  {
   "cell_type": "code",
   "execution_count": 7,
   "metadata": {},
   "outputs": [
    {
     "ename": "ErrorException",
     "evalue": "setfield!: immutable struct of type Mystruct cannot be changed",
     "output_type": "error",
     "traceback": [
      "setfield!: immutable struct of type Mystruct cannot be changed\n",
      "\n",
      "Stacktrace:\n",
      " [1] setproperty!(x::Mystruct, f::Symbol, v::String)\n",
      "   @ Base ./Base.jl:53\n",
      " [2] top-level scope\n",
      "   @ ~/code/sci-comp-book/julia-output/jl_notebook_cell_df34fa98e69747e1a8f8a730347b8e2f_W6sZmlsZQ==.jl:1"
     ]
    }
   ],
   "source": [
    "m.str = \"goodbye\""
   ]
  },
  {
   "cell_type": "code",
   "execution_count": 8,
   "metadata": {},
   "outputs": [],
   "source": [
    "mutable struct MutableStruct\n",
    "  a::Float64\n",
    "  b::Integer\n",
    "end"
   ]
  },
  {
   "cell_type": "code",
   "execution_count": 9,
   "metadata": {},
   "outputs": [
    {
     "data": {
      "text/plain": [
       "MutableStruct(1.0, 2)"
      ]
     },
     "metadata": {},
     "output_type": "display_data"
    }
   ],
   "source": [
    "s = MutableStruct(1,2)"
   ]
  },
  {
   "cell_type": "code",
   "execution_count": 10,
   "metadata": {},
   "outputs": [
    {
     "data": {
      "text/plain": [
       "4.5"
      ]
     },
     "metadata": {},
     "output_type": "display_data"
    }
   ],
   "source": [
    "s.a=4.5"
   ]
  },
  {
   "cell_type": "code",
   "execution_count": 11,
   "metadata": {},
   "outputs": [
    {
     "ename": "InexactError",
     "evalue": "InexactError: Int64(7.1)",
     "output_type": "error",
     "traceback": [
      "InexactError: Int64(7.1)\n",
      "\n",
      "Stacktrace:\n",
      " [1] Int64\n",
      "   @ ./float.jl:994 [inlined]\n",
      " [2] Integer\n",
      "   @ ./boot.jl:926 [inlined]\n",
      " [3] convert\n",
      "   @ ./number.jl:7 [inlined]\n",
      " [4] setproperty!(x::MutableStruct, f::Symbol, v::Float64)\n",
      "   @ Base ./Base.jl:52\n",
      " [5] top-level scope\n",
      "   @ ~/code/sci-comp-book/julia-output/jl_notebook_cell_df34fa98e69747e1a8f8a730347b8e2f_X13sZmlsZQ==.jl:1"
     ]
    }
   ],
   "source": [
    "s.b = 7.1"
   ]
  },
  {
   "cell_type": "code",
   "execution_count": 3,
   "metadata": {},
   "outputs": [
    {
     "data": {
      "text/plain": [
       "4-element Vector{Char}:\n",
       " '♠': Unicode U+2660 (category So: Symbol, other)\n",
       " '♡': Unicode U+2661 (category So: Symbol, other)\n",
       " '♢': Unicode U+2662 (category So: Symbol, other)\n",
       " '♣': Unicode U+2663 (category So: Symbol, other)"
      ]
     },
     "metadata": {},
     "output_type": "display_data"
    }
   ],
   "source": [
    "ranks = ['A','2','3','4','5','6','7','8','9','T','J','Q','K']\n",
    "suits = ['\\u2660','\\u2661','\\u2662','\\u2663']"
   ]
  },
  {
   "cell_type": "code",
   "execution_count": 13,
   "metadata": {},
   "outputs": [],
   "source": [
    "struct Card\n",
    "  rank::Integer\n",
    "  suit::Integer\n",
    "end"
   ]
  },
  {
   "cell_type": "code",
   "execution_count": 14,
   "metadata": {},
   "outputs": [
    {
     "data": {
      "text/plain": [
       "Card(3, 2)"
      ]
     },
     "metadata": {},
     "output_type": "display_data"
    }
   ],
   "source": [
    "c = Card(3,2)"
   ]
  },
  {
   "cell_type": "code",
   "execution_count": 15,
   "metadata": {},
   "outputs": [
    {
     "data": {
      "text/plain": [
       "3"
      ]
     },
     "metadata": {},
     "output_type": "display_data"
    }
   ],
   "source": [
    "c.rank"
   ]
  },
  {
   "cell_type": "code",
   "execution_count": 16,
   "metadata": {},
   "outputs": [
    {
     "data": {
      "text/plain": [
       "2"
      ]
     },
     "metadata": {},
     "output_type": "display_data"
    }
   ],
   "source": [
    "c.suit"
   ]
  },
  {
   "cell_type": "code",
   "execution_count": 6,
   "metadata": {},
   "outputs": [],
   "source": [
    "Base.show(io::IO, c::Card) = print(io, \"$(ranks[c.rank])$(suits[c.suit])\")"
   ]
  },
  {
   "cell_type": "code",
   "execution_count": 18,
   "metadata": {},
   "outputs": [
    {
     "data": {
      "text/plain": [
       "3♡"
      ]
     },
     "metadata": {},
     "output_type": "display_data"
    }
   ],
   "source": [
    "c"
   ]
  },
  {
   "cell_type": "code",
   "execution_count": 6,
   "metadata": {},
   "outputs": [
    {
     "ename": "ArgumentError",
     "evalue": "ArgumentError: The rank must be an integer between 1 and 13.",
     "output_type": "error",
     "traceback": [
      "ArgumentError: The rank must be an integer between 1 and 13.\n",
      "\n",
      "Stacktrace:\n",
      " [1] Card(r::Int64, s::Int64)\n",
      "   @ Main ~/code/sci-comp-book/julia-output/jl_notebook_cell_df34fa98e69747e1a8f8a730347b8e2f_X25sZmlsZQ==.jl:7\n",
      " [2] top-level scope\n",
      "   @ ~/code/sci-comp-book/julia-output/jl_notebook_cell_df34fa98e69747e1a8f8a730347b8e2f_X24sZmlsZQ==.jl:1"
     ]
    }
   ],
   "source": [
    "Card(-10,78)"
   ]
  },
  {
   "cell_type": "code",
   "execution_count": 4,
   "metadata": {},
   "outputs": [],
   "source": [
    "struct Card\n",
    "  rank::Int\n",
    "  suit::Int\n",
    "\n",
    "  # construct a card based on the rank and suit\n",
    "  function Card(r::Int,s::Int)\n",
    "    1 <= r <=13  || throw(ArgumentError(\"The rank must be an integer between 1 and 13.\"))\n",
    "    1 <= s <= 4  || throw(ArgumentError(\"The suit must be an integer between 1 and 4.\"))\n",
    "    new(r,s)\n",
    "  end\n",
    "\n",
    "  # construct a card based on the number in a deck\n",
    "  function Card(i::Int)\n",
    "    1 <= i <= 52 || throw(ArgumentError(\"The argument must be an integer between 1 and 52\"))\n",
    "    # mod(i,13)==0 ? new(13,div(i,13)) : new(mod(i,13),div(i,13)+1)\n",
    "    new(mod1(i,13), div(i-1,13)+1)\n",
    "  end\n",
    "end"
   ]
  },
  {
   "cell_type": "code",
   "execution_count": 8,
   "metadata": {},
   "outputs": [
    {
     "ename": "ArgumentError",
     "evalue": "ArgumentError: The rank must be an integer between 1 and 13.",
     "output_type": "error",
     "traceback": [
      "ArgumentError: The rank must be an integer between 1 and 13.\n",
      "\n",
      "Stacktrace:\n",
      " [1] Card(r::Int64, s::Int64)\n",
      "   @ Main ~/code/sci-comp-book/julia-output/jl_notebook_cell_df34fa98e69747e1a8f8a730347b8e2f_X25sZmlsZQ==.jl:7\n",
      " [2] top-level scope\n",
      "   @ ~/code/sci-comp-book/julia-output/jl_notebook_cell_df34fa98e69747e1a8f8a730347b8e2f_X26sZmlsZQ==.jl:1"
     ]
    }
   ],
   "source": [
    "Card(-10,12)"
   ]
  },
  {
   "cell_type": "code",
   "execution_count": 7,
   "metadata": {},
   "outputs": [
    {
     "data": {
      "text/plain": [
       "52-element Vector{Card}:\n",
       " A♠\n",
       " 2♠\n",
       " 3♠\n",
       " 4♠\n",
       " 5♠\n",
       " 6♠\n",
       " 7♠\n",
       " 8♠\n",
       " 9♠\n",
       " T♠\n",
       " ⋮\n",
       " 5♣\n",
       " 6♣\n",
       " 7♣\n",
       " 8♣\n",
       " 9♣\n",
       " T♣\n",
       " J♣\n",
       " Q♣\n",
       " K♣"
      ]
     },
     "metadata": {},
     "output_type": "display_data"
    }
   ],
   "source": [
    "map(i -> Card(mod1(i,13), div(i-1,13)+1) , 1:52)"
   ]
  },
  {
   "cell_type": "code",
   "execution_count": 8,
   "metadata": {},
   "outputs": [
    {
     "data": {
      "text/plain": [
       "3♡"
      ]
     },
     "metadata": {},
     "output_type": "display_data"
    }
   ],
   "source": [
    "Card(3,2)"
   ]
  },
  {
   "cell_type": "code",
   "execution_count": 9,
   "metadata": {},
   "outputs": [
    {
     "data": {
      "text/plain": [
       "3♣"
      ]
     },
     "metadata": {},
     "output_type": "display_data"
    }
   ],
   "source": [
    "Card(42)"
   ]
  },
  {
   "cell_type": "code",
   "execution_count": 10,
   "metadata": {},
   "outputs": [],
   "source": [
    "struct Hand\n",
    "  cards::Vector{Card}\n",
    "end"
   ]
  },
  {
   "cell_type": "code",
   "execution_count": 11,
   "metadata": {},
   "outputs": [],
   "source": [
    "Base.show(io::IO,h::Hand) = print(io, \"[$(join(h.cards,\", \"))]\")"
   ]
  },
  {
   "cell_type": "code",
   "execution_count": 12,
   "metadata": {},
   "outputs": [
    {
     "data": {
      "text/plain": [
       "[2♢, Q♠, T♠, T♣, 5♡]"
      ]
     },
     "metadata": {},
     "output_type": "display_data"
    }
   ],
   "source": [
    "h1=Hand([Card(2,3),Card(12,1),Card(10,1),Card(10,4),Card(5,2)])"
   ]
  },
  {
   "cell_type": "code",
   "execution_count": 19,
   "metadata": {},
   "outputs": [],
   "source": [
    "struct Polynomial{T <: Number}\n",
    "  coeffs::Vector{T}\n",
    "end"
   ]
  },
  {
   "cell_type": "code",
   "execution_count": 24,
   "metadata": {},
   "outputs": [
    {
     "data": {
      "text/plain": [
       "1 x^0 + 2 x^1  + 3 x^2  + 4 x^3  + 5 x^4  + 6 x^5 "
      ]
     },
     "metadata": {},
     "output_type": "display_data"
    }
   ],
   "source": [
    "poly1=Polynomial([1,2,3])\n",
    "poly2=Polynomial([1.0,2.0,3.0])\n",
    "poly3=Polynomial([2//3,3//4,5//8])\n",
    "poly4=Polynomial([im,2+0im,3-2im,-im])\n",
    "poly5=Polynomial([n for n=1:6])"
   ]
  },
  {
   "cell_type": "code",
   "execution_count": 25,
   "metadata": {},
   "outputs": [
    {
     "data": {
      "text/plain": [
       "2//3 x^0 + 3//4 x^1  + 5//8 x^2 "
      ]
     },
     "metadata": {},
     "output_type": "display_data"
    }
   ],
   "source": [
    "poly3"
   ]
  },
  {
   "cell_type": "code",
   "execution_count": 23,
   "metadata": {},
   "outputs": [],
   "source": [
    "function Base.show(io::IO, p::Polynomial)\n",
    "  print(io, mapreduce(i -> \"$(p.coeffs[i]) x^$(i-1)\", (str, term) -> \"$str + $term \" , 1:length(p.coeffs)))\n",
    "end"
   ]
  },
  {
   "cell_type": "code",
   "execution_count": 19,
   "metadata": {},
   "outputs": [
    {
     "data": {
      "text/plain": [
       "  1 x^0 + 2 x^1 + 3 x^2 + 4 x^3 + 5 x^4 + 6 x^5"
      ]
     },
     "metadata": {},
     "output_type": "display_data"
    }
   ],
   "source": [
    "poly5"
   ]
  },
  {
   "cell_type": "code",
   "execution_count": 20,
   "metadata": {},
   "outputs": [
    {
     "data": {
      "text/plain": [
       "  2//3 x^0 + 3//4 x^1 + 5//8 x^2"
      ]
     },
     "metadata": {},
     "output_type": "display_data"
    }
   ],
   "source": [
    "poly3"
   ]
  },
  {
   "cell_type": "code",
   "execution_count": 26,
   "metadata": {},
   "outputs": [
    {
     "ename": "MethodError",
     "evalue": "MethodError: no method matching +(::Polynomial{Int64}, ::Polynomial{Float64})\nThe function `+` exists, but no method is defined for this combination of argument types.\n\nClosest candidates are:\n  +(::Any, ::Any, !Matched::Any, !Matched::Any...)\n   @ Base operators.jl:596\n  +(!Matched::Rational{BigInt}, !Matched::Rational{BigInt})\n   @ Base gmp.jl:1056\n  +(!Matched::Bool, !Matched::Complex{Bool})\n   @ Base complex.jl:308\n  ...\n",
     "output_type": "error",
     "traceback": [
      "MethodError: no method matching +(::Polynomial{Int64}, ::Polynomial{Float64})\n",
      "The function `+` exists, but no method is defined for this combination of argument types.\n",
      "\n",
      "Closest candidates are:\n",
      "  +(::Any, ::Any, !Matched::Any, !Matched::Any...)\n",
      "   @ Base operators.jl:596\n",
      "  +(!Matched::Rational{BigInt}, !Matched::Rational{BigInt})\n",
      "   @ Base gmp.jl:1056\n",
      "  +(!Matched::Bool, !Matched::Complex{Bool})\n",
      "   @ Base complex.jl:308\n",
      "  ...\n",
      "\n",
      "\n",
      "Stacktrace:\n",
      " [1] top-level scope\n",
      "   @ ~/code/sci-comp-book/julia-output/jl_notebook_cell_df34fa98e69747e1a8f8a730347b8e2f_X44sZmlsZQ==.jl:1"
     ]
    }
   ],
   "source": [
    "poly1+poly2"
   ]
  },
  {
   "cell_type": "code",
   "execution_count": 27,
   "metadata": {},
   "outputs": [],
   "source": [
    "import Base.+"
   ]
  },
  {
   "cell_type": "code",
   "execution_count": 28,
   "metadata": {},
   "outputs": [
    {
     "data": {
      "text/plain": [
       "+ (generic function with 199 methods)"
      ]
     },
     "metadata": {},
     "output_type": "display_data"
    }
   ],
   "source": [
    "function +(p1::Polynomial{<:Number},p2::Polynomial{<:Number})\n",
    "  Polynomial(p1.coeffs+p2.coeffs)\n",
    "end"
   ]
  },
  {
   "cell_type": "code",
   "execution_count": 29,
   "metadata": {},
   "outputs": [
    {
     "data": {
      "text/plain": [
       "2.0 x^0 + 4.0 x^1  + 6.0 x^2 "
      ]
     },
     "metadata": {},
     "output_type": "display_data"
    }
   ],
   "source": [
    "poly1+poly2"
   ]
  },
  {
   "cell_type": "code",
   "execution_count": 30,
   "metadata": {},
   "outputs": [
    {
     "data": {
      "text/plain": [
       "eval (generic function with 2 methods)"
      ]
     },
     "metadata": {},
     "output_type": "display_data"
    }
   ],
   "source": [
    "function eval(poly::Polynomial{<:Number},x::Number)\n",
    "  reduce((val,i) -> val + poly.coeffs[i]*x^(i-1), 1:length(poly.coeffs))\n",
    "end"
   ]
  },
  {
   "cell_type": "code",
   "execution_count": 31,
   "metadata": {},
   "outputs": [
    {
     "data": {
      "text/plain": [
       "9"
      ]
     },
     "metadata": {},
     "output_type": "display_data"
    }
   ],
   "source": [
    "eval(poly1,-2)"
   ]
  },
  {
   "cell_type": "code",
   "execution_count": 32,
   "metadata": {},
   "outputs": [
    {
     "data": {
      "text/plain": [
       "eval (generic function with 2 methods)"
      ]
     },
     "metadata": {},
     "output_type": "display_data"
    }
   ],
   "source": [
    "function eval(poly::Polynomial{<:Number}, x::Number)\n",
    "  reduce((val,c) -> x*val+c, reverse(poly.coeffs))\n",
    "end"
   ]
  },
  {
   "cell_type": "code",
   "execution_count": 33,
   "metadata": {},
   "outputs": [
    {
     "data": {
      "text/plain": [
       "9"
      ]
     },
     "metadata": {},
     "output_type": "display_data"
    }
   ],
   "source": [
    "eval(poly1,-2)"
   ]
  },
  {
   "cell_type": "code",
   "execution_count": 37,
   "metadata": {},
   "outputs": [],
   "source": [
    "struct Root\n",
    "  root::Float64    #  approximate value of the root\n",
    "  x_eps::Float64   #  estimate of the error in the x variable\n",
    "  f_eps::Float64   #  function value at the root f(root)\n",
    "  num_steps::Int   #  number of steps the method used\n",
    "  converged::Bool  #  whether or not the stopping criterion was reached\n",
    "  max_steps::Int   #  the maximum number of steps allowed\n",
    "end"
   ]
  },
  {
   "cell_type": "code",
   "execution_count": 36,
   "metadata": {},
   "outputs": [],
   "source": [
    "using ForwardDiff"
   ]
  },
  {
   "cell_type": "code",
   "execution_count": 69,
   "metadata": {},
   "outputs": [
    {
     "data": {
      "text/plain": [
       "newton (generic function with 1 method)"
      ]
     },
     "metadata": {},
     "output_type": "display_data"
    }
   ],
   "source": [
    "function newton(f::Function, x0::Number; tol::Real = 1e-6, max_steps = 10)\n",
    "  local dx\n",
    "  for i = 1:max_steps\n",
    "    dx = f(x0)/ForwardDiff.derivative(f, x0)\n",
    "    x0 -= dx\n",
    "    abs(dx) < 1e-6 && return Root(x0, dx, f(x0), i, true, max_steps)\n",
    "  end\n",
    "  Root(x0, dx, f(x0), max_steps, false, max_steps)\n",
    "end"
   ]
  },
  {
   "cell_type": "code",
   "execution_count": 70,
   "metadata": {},
   "outputs": [
    {
     "data": {
      "text/plain": [
       "The root is approximately x̂ = 1.4142135623730951\n",
       "An estimate for the error is 1.5947429102833119e-12\n",
       "with f(x̂) = 4.440892098500626e-16\n",
       "which took 5 steps"
      ]
     },
     "metadata": {},
     "output_type": "display_data"
    }
   ],
   "source": [
    "newton(x->x^2-2, 1)"
   ]
  },
  {
   "cell_type": "code",
   "execution_count": 71,
   "metadata": {},
   "outputs": [],
   "source": [
    "function Base.show(io::IO,r::Root)\n",
    "  str = r.converged ? \"\"\"The root is approximately x̂ = $(r.root)\n",
    "    An estimate for the error is $(r.x_eps)\n",
    "    with f(x̂) = $(r.f_eps)\n",
    "    which took $(r.num_steps) steps\"\"\" :\n",
    "    \"\"\"The root was not found within $(r.max_steps) steps.\n",
    "    Currently, the root is approximately x̂ = $(r.root).\n",
    "    An estimate for the error is $(r.x_eps)\n",
    "    with f(x̂) = $(r.f_eps).\"\"\"\n",
    "  print(io,str)\n",
    "end"
   ]
  },
  {
   "cell_type": "code",
   "execution_count": 72,
   "metadata": {},
   "outputs": [
    {
     "data": {
      "text/plain": [
       "The root is approximately x̂ = 1.4142135623730951\n",
       "An estimate for the error is 1.5947429102833119e-12\n",
       "with f(x̂) = 4.440892098500626e-16\n",
       "which took 5 steps"
      ]
     },
     "metadata": {},
     "output_type": "display_data"
    }
   ],
   "source": [
    "r = newton(x->x^2-2, 1)"
   ]
  },
  {
   "cell_type": "code",
   "execution_count": 73,
   "metadata": {},
   "outputs": [
    {
     "data": {
      "text/plain": [
       "The root was not found within 10 steps.\n",
       "Currently, the root is approximately x̂ = 0.030421004027873844.\n",
       "An estimate for the error is 1.0004626117382218\n",
       "with f(x̂) = 1.0009254374860639."
      ]
     },
     "metadata": {},
     "output_type": "display_data"
    }
   ],
   "source": [
    "newton(x->x^2+1,1.1)"
   ]
  },
  {
   "cell_type": "code",
   "execution_count": null,
   "metadata": {},
   "outputs": [],
   "source": []
  }
 ],
 "metadata": {
  "kernelspec": {
   "display_name": "Julia 1.11.2",
   "language": "julia",
   "name": "julia-1.11"
  },
  "language_info": {
   "file_extension": ".jl",
   "mimetype": "application/julia",
   "name": "julia",
   "version": "1.11.2"
  }
 },
 "nbformat": 4,
 "nbformat_minor": 2
}
