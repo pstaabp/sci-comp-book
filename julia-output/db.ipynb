{
 "cells": [
  {
   "cell_type": "code",
   "execution_count": 1,
   "metadata": {},
   "outputs": [
    {
     "data": {
      "text/plain": [
       "9-element Vector{@NamedTuple{date::String, high::Int64, low::Int64, precip::Int64, cond::String}}:\n",
       " (date = \"2024-12-07\", high = 37, low = 23, precip = 0, cond = \"Partly Cloudy\")\n",
       " (date = \"2024-12-08\", high = 44, low = 28, precip = 60, cond = \"Snow\")\n",
       " (date = \"2024-12-09\", high = 44, low = 32, precip = 75, cond = \"Rain\")\n",
       " (date = \"2024-12-10\", high = 44, low = 39, precip = 70, cond = \"Rain\")\n",
       " (date = \"2024-12-11\", high = 58, low = 40, precip = 80, cond = \"Rain\")\n",
       " (date = \"2024-12-12\", high = 48, low = 28, precip = 60, cond = \"Rain\")\n",
       " (date = \"2024-12-13\", high = 37, low = 25, precip = 0, cond = \"Sunny\")\n",
       " (date = \"2024-12-14\", high = 40, low = 24, precip = 0, cond = \"Sunny\")\n",
       " (date = \"2024-12-15\", high = 45, low = 30, precip = 0, cond = \"Cloudy\")"
      ]
     },
     "metadata": {},
     "output_type": "display_data"
    }
   ],
   "source": [
    "forecast = [\n",
    "  (date = \"2024-12-07\", high = 37, low = 23, precip = 0, cond = \"Partly Cloudy\"),\n",
    "  (date = \"2024-12-08\", high = 44, low = 28, precip = 60, cond = \"Snow\"),\n",
    "  (date = \"2024-12-09\", high = 44, low = 32, precip = 75, cond = \"Rain\"),\n",
    "  (date = \"2024-12-10\", high = 44, low = 39, precip = 70, cond = \"Rain\"),\n",
    "  (date = \"2024-12-11\", high = 58, low = 40, precip = 80, cond = \"Rain\"),\n",
    "  (date = \"2024-12-12\", high = 48, low = 28, precip = 60, cond = \"Rain\"),\n",
    "  (date = \"2024-12-13\", high = 37, low = 25, precip = 0, cond = \"Sunny\"),\n",
    "  (date = \"2024-12-14\", high = 40, low = 24, precip = 0, cond = \"Sunny\"),\n",
    "  (date = \"2024-12-15\", high = 45, low = 30, precip = 0, cond = \"Cloudy\"),\n",
    "]"
   ]
  },
  {
   "cell_type": "code",
   "execution_count": 2,
   "metadata": {},
   "outputs": [],
   "source": [
    "using SQLite"
   ]
  },
  {
   "cell_type": "code",
   "execution_count": 3,
   "metadata": {},
   "outputs": [
    {
     "data": {
      "text/plain": [
       "SQLite.DB(\"forecast.sqlite\")"
      ]
     },
     "metadata": {},
     "output_type": "display_data"
    }
   ],
   "source": [
    "db = SQLite.DB(\"forecast.sqlite\")"
   ]
  },
  {
   "cell_type": "code",
   "execution_count": 7,
   "metadata": {},
   "outputs": [
    {
     "data": {
      "text/plain": [
       "SQLite.Query{false}(SQLite.Stmt(SQLite.DB(\"forecast.sqlite\"), Base.RefValue{Ptr{SQLite.C.sqlite3_stmt}}(Ptr{SQLite.C.sqlite3_stmt} @0x000000014724d610), Dict{Int64, Any}()), Base.RefValue{Int32}(101), Symbol[], Type[], Dict{Symbol, Int64}(), Base.RefValue{Int64}(0))"
      ]
     },
     "metadata": {},
     "output_type": "display_data"
    }
   ],
   "source": [
    "DBInterface.execute(db,\n",
    "  \"\"\"CREATE TABLE IF NOT EXISTS FORECAST\n",
    "  (DATE_ID INTEGER PRIMARY KEY AUTOINCREMENT NOT NULL,\n",
    "  DATE TEXT NOT NULL,\n",
    "  HI_TEMP INTEGER NOT NULL,\n",
    "  LO_TEMP INTEGER NOT NULL,\n",
    "  PRECIP INTEGER NOT NULL,\n",
    "  COND TEXT NOT NULL\n",
    "  );\"\"\")"
   ]
  },
  {
   "cell_type": "code",
   "execution_count": 4,
   "metadata": {},
   "outputs": [],
   "source": [
    "for fc in forecast\n",
    "  DBInterface.execute(db, \"\"\"INSERT INTO FORECAST\n",
    "    (DATE, HI_TEMP, LO_TEMP, PRECIP, COND) VALUES\n",
    "    ('$(fc.date)', $(fc.high), $(fc.low), $(fc.precip), '$(fc.cond)')\"\"\" )\n",
    "end"
   ]
  },
  {
   "cell_type": "code",
   "execution_count": 5,
   "metadata": {},
   "outputs": [
    {
     "data": {
      "text/plain": [
       "SQLite.Query{false}(SQLite.Stmt(SQLite.DB(\"forecast.sqlite\"), Base.RefValue{Ptr{SQLite.C.sqlite3_stmt}}(Ptr{SQLite.C.sqlite3_stmt} @0x00000001480cbcf0), Dict{Int64, Any}()), Base.RefValue{Int32}(100), [:DATE_ID, :DATE, :HI_TEMP, :LO_TEMP, :PRECIP, :COND], Type[Union{Missing, Int64}, Union{Missing, String}, Union{Missing, Int64}, Union{Missing, Int64}, Union{Missing, Int64}, Union{Missing, String}], Dict(:COND => 6, :HI_TEMP => 3, :DATE => 2, :PRECIP => 5, :LO_TEMP => 4, :DATE_ID => 1), Base.RefValue{Int64}(0))"
      ]
     },
     "metadata": {},
     "output_type": "display_data"
    }
   ],
   "source": [
    "DBInterface.execute(db, \"SELECT * FROM FORECAST\")"
   ]
  },
  {
   "cell_type": "code",
   "execution_count": null,
   "metadata": {},
   "outputs": [],
   "source": []
  }
 ],
 "metadata": {
  "kernelspec": {
   "display_name": "Julia 1.11.2",
   "language": "julia",
   "name": "julia-1.11"
  },
  "language_info": {
   "file_extension": ".jl",
   "mimetype": "application/julia",
   "name": "julia",
   "version": "1.11.2"
  }
 },
 "nbformat": 4,
 "nbformat_minor": 2
}
