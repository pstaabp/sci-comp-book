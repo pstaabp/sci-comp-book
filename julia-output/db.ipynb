{
 "cells": [
  {
   "cell_type": "code",
   "execution_count": 1,
   "metadata": {},
   "outputs": [
    {
     "data": {
      "text/plain": [
       "9-element Vector{@NamedTuple{date::String, high::Int64, low::Int64, precip::Int64, cond::String}}:\n",
       " (date = \"2024-12-07\", high = 37, low = 23, precip = 0, cond = \"Partly Cloudy\")\n",
       " (date = \"2024-12-08\", high = 44, low = 28, precip = 60, cond = \"Snow\")\n",
       " (date = \"2024-12-09\", high = 44, low = 32, precip = 75, cond = \"Rain\")\n",
       " (date = \"2024-12-10\", high = 44, low = 39, precip = 70, cond = \"Rain\")\n",
       " (date = \"2024-12-11\", high = 58, low = 40, precip = 80, cond = \"Rain\")\n",
       " (date = \"2024-12-12\", high = 48, low = 28, precip = 60, cond = \"Rain\")\n",
       " (date = \"2024-12-13\", high = 37, low = 25, precip = 0, cond = \"Sunny\")\n",
       " (date = \"2024-12-14\", high = 40, low = 24, precip = 0, cond = \"Sunny\")\n",
       " (date = \"2024-12-15\", high = 45, low = 30, precip = 0, cond = \"Cloudy\")"
      ]
     },
     "metadata": {},
     "output_type": "display_data"
    }
   ],
   "source": [
    "forecast = [\n",
    "  (date = \"2024-12-07\", high = 37, low = 23, precip = 0, cond = \"Partly Cloudy\"),\n",
    "  (date = \"2024-12-08\", high = 44, low = 28, precip = 60, cond = \"Snow\"),\n",
    "  (date = \"2024-12-09\", high = 44, low = 32, precip = 75, cond = \"Rain\"),\n",
    "  (date = \"2024-12-10\", high = 44, low = 39, precip = 70, cond = \"Rain\"),\n",
    "  (date = \"2024-12-11\", high = 58, low = 40, precip = 80, cond = \"Rain\"),\n",
    "  (date = \"2024-12-12\", high = 48, low = 28, precip = 60, cond = \"Rain\"),\n",
    "  (date = \"2024-12-13\", high = 37, low = 25, precip = 0, cond = \"Sunny\"),\n",
    "  (date = \"2024-12-14\", high = 40, low = 24, precip = 0, cond = \"Sunny\"),\n",
    "  (date = \"2024-12-15\", high = 45, low = 30, precip = 0, cond = \"Cloudy\"),\n",
    "]"
   ]
  },
  {
   "cell_type": "code",
   "execution_count": 5,
   "metadata": {},
   "outputs": [],
   "source": [
    "using SQLite, DataFrames"
   ]
  },
  {
   "cell_type": "code",
   "execution_count": 9,
   "metadata": {},
   "outputs": [
    {
     "data": {
      "text/plain": [
       "SQLite.DB(\"forecast.sqlite\")"
      ]
     },
     "metadata": {},
     "output_type": "display_data"
    }
   ],
   "source": [
    "db = SQLite.DB(\"forecast.sqlite\")"
   ]
  },
  {
   "cell_type": "code",
   "execution_count": 10,
   "metadata": {},
   "outputs": [
    {
     "data": {
      "text/plain": [
       "101"
      ]
     },
     "metadata": {},
     "output_type": "display_data"
    }
   ],
   "source": [
    "SQLite.drop!(db, \"FORECAST\", ifexists = true)"
   ]
  },
  {
   "cell_type": "code",
   "execution_count": 12,
   "metadata": {},
   "outputs": [
    {
     "data": {
      "text/plain": [
       "SQLite.Query{false}(SQLite.Stmt(SQLite.DB(\"forecast.sqlite\"), Base.RefValue{Ptr{SQLite.C.sqlite3_stmt}}(Ptr{SQLite.C.sqlite3_stmt} @0x0000000152947760), Dict{Int64, Any}()), Base.RefValue{Int32}(101), Symbol[], Type[], Dict{Symbol, Int64}(), Base.RefValue{Int64}(0))"
      ]
     },
     "metadata": {},
     "output_type": "display_data"
    }
   ],
   "source": [
    "DBInterface.execute(db,\n",
    "  \"\"\"CREATE TABLE IF NOT EXISTS FORECAST\n",
    "  (DATE_ID INTEGER PRIMARY KEY AUTOINCREMENT NOT NULL,\n",
    "  DATE TEXT NOT NULL,\n",
    "  HI_TEMP INTEGER NOT NULL,\n",
    "  LO_TEMP INTEGER NOT NULL,\n",
    "  PRECIP INTEGER NOT NULL,\n",
    "  COND TEXT NOT NULL\n",
    "  );\"\"\")"
   ]
  },
  {
   "cell_type": "code",
   "execution_count": 13,
   "metadata": {},
   "outputs": [],
   "source": [
    "for fc in forecast\n",
    "  DBInterface.execute(db, \"\"\"INSERT INTO FORECAST\n",
    "    (DATE, HI_TEMP, LO_TEMP, PRECIP, COND) VALUES\n",
    "    ('$(fc.date)', $(fc.high), $(fc.low), $(fc.precip), '$(fc.cond)')\"\"\" )\n",
    "end"
   ]
  },
  {
   "cell_type": "code",
   "execution_count": 14,
   "metadata": {},
   "outputs": [
    {
     "data": {
      "text/html": [
       "<div><div style = \"float: left;\"><span>9×6 DataFrame</span></div><div style = \"clear: both;\"></div></div><div class = \"data-frame\" style = \"overflow-x: scroll;\"><table class = \"data-frame\" style = \"margin-bottom: 6px;\"><thead><tr class = \"header\"><th class = \"rowNumber\" style = \"font-weight: bold; text-align: right;\">Row</th><th style = \"text-align: left;\">DATE_ID</th><th style = \"text-align: left;\">DATE</th><th style = \"text-align: left;\">HI_TEMP</th><th style = \"text-align: left;\">LO_TEMP</th><th style = \"text-align: left;\">PRECIP</th><th style = \"text-align: left;\">COND</th></tr><tr class = \"subheader headerLastRow\"><th class = \"rowNumber\" style = \"font-weight: bold; text-align: right;\"></th><th title = \"Int64\" style = \"text-align: left;\">Int64</th><th title = \"String\" style = \"text-align: left;\">String</th><th title = \"Int64\" style = \"text-align: left;\">Int64</th><th title = \"Int64\" style = \"text-align: left;\">Int64</th><th title = \"Int64\" style = \"text-align: left;\">Int64</th><th title = \"String\" style = \"text-align: left;\">String</th></tr></thead><tbody><tr><td class = \"rowNumber\" style = \"font-weight: bold; text-align: right;\">1</td><td style = \"text-align: right;\">1</td><td style = \"text-align: left;\">2024-12-07</td><td style = \"text-align: right;\">37</td><td style = \"text-align: right;\">23</td><td style = \"text-align: right;\">0</td><td style = \"text-align: left;\">Partly Cloudy</td></tr><tr><td class = \"rowNumber\" style = \"font-weight: bold; text-align: right;\">2</td><td style = \"text-align: right;\">2</td><td style = \"text-align: left;\">2024-12-08</td><td style = \"text-align: right;\">44</td><td style = \"text-align: right;\">28</td><td style = \"text-align: right;\">60</td><td style = \"text-align: left;\">Snow</td></tr><tr><td class = \"rowNumber\" style = \"font-weight: bold; text-align: right;\">3</td><td style = \"text-align: right;\">3</td><td style = \"text-align: left;\">2024-12-09</td><td style = \"text-align: right;\">44</td><td style = \"text-align: right;\">32</td><td style = \"text-align: right;\">75</td><td style = \"text-align: left;\">Rain</td></tr><tr><td class = \"rowNumber\" style = \"font-weight: bold; text-align: right;\">4</td><td style = \"text-align: right;\">4</td><td style = \"text-align: left;\">2024-12-10</td><td style = \"text-align: right;\">44</td><td style = \"text-align: right;\">39</td><td style = \"text-align: right;\">70</td><td style = \"text-align: left;\">Rain</td></tr><tr><td class = \"rowNumber\" style = \"font-weight: bold; text-align: right;\">5</td><td style = \"text-align: right;\">5</td><td style = \"text-align: left;\">2024-12-11</td><td style = \"text-align: right;\">58</td><td style = \"text-align: right;\">40</td><td style = \"text-align: right;\">80</td><td style = \"text-align: left;\">Rain</td></tr><tr><td class = \"rowNumber\" style = \"font-weight: bold; text-align: right;\">6</td><td style = \"text-align: right;\">6</td><td style = \"text-align: left;\">2024-12-12</td><td style = \"text-align: right;\">48</td><td style = \"text-align: right;\">28</td><td style = \"text-align: right;\">60</td><td style = \"text-align: left;\">Rain</td></tr><tr><td class = \"rowNumber\" style = \"font-weight: bold; text-align: right;\">7</td><td style = \"text-align: right;\">7</td><td style = \"text-align: left;\">2024-12-13</td><td style = \"text-align: right;\">37</td><td style = \"text-align: right;\">25</td><td style = \"text-align: right;\">0</td><td style = \"text-align: left;\">Sunny</td></tr><tr><td class = \"rowNumber\" style = \"font-weight: bold; text-align: right;\">8</td><td style = \"text-align: right;\">8</td><td style = \"text-align: left;\">2024-12-14</td><td style = \"text-align: right;\">40</td><td style = \"text-align: right;\">24</td><td style = \"text-align: right;\">0</td><td style = \"text-align: left;\">Sunny</td></tr><tr><td class = \"rowNumber\" style = \"font-weight: bold; text-align: right;\">9</td><td style = \"text-align: right;\">9</td><td style = \"text-align: left;\">2024-12-15</td><td style = \"text-align: right;\">45</td><td style = \"text-align: right;\">30</td><td style = \"text-align: right;\">0</td><td style = \"text-align: left;\">Cloudy</td></tr></tbody></table></div>"
      ],
      "text/latex": [
       "\\begin{tabular}{r|cccccc}\n",
       "\t& DATE\\_ID & DATE & HI\\_TEMP & LO\\_TEMP & PRECIP & COND\\\\\n",
       "\t\\hline\n",
       "\t& Int64 & String & Int64 & Int64 & Int64 & String\\\\\n",
       "\t\\hline\n",
       "\t1 & 1 & 2024-12-07 & 37 & 23 & 0 & Partly Cloudy \\\\\n",
       "\t2 & 2 & 2024-12-08 & 44 & 28 & 60 & Snow \\\\\n",
       "\t3 & 3 & 2024-12-09 & 44 & 32 & 75 & Rain \\\\\n",
       "\t4 & 4 & 2024-12-10 & 44 & 39 & 70 & Rain \\\\\n",
       "\t5 & 5 & 2024-12-11 & 58 & 40 & 80 & Rain \\\\\n",
       "\t6 & 6 & 2024-12-12 & 48 & 28 & 60 & Rain \\\\\n",
       "\t7 & 7 & 2024-12-13 & 37 & 25 & 0 & Sunny \\\\\n",
       "\t8 & 8 & 2024-12-14 & 40 & 24 & 0 & Sunny \\\\\n",
       "\t9 & 9 & 2024-12-15 & 45 & 30 & 0 & Cloudy \\\\\n",
       "\\end{tabular}\n"
      ],
      "text/plain": [
       "\u001b[1m9×6 DataFrame\u001b[0m\n",
       "\u001b[1m Row \u001b[0m│\u001b[1m DATE_ID \u001b[0m\u001b[1m DATE       \u001b[0m\u001b[1m HI_TEMP \u001b[0m\u001b[1m LO_TEMP \u001b[0m\u001b[1m PRECIP \u001b[0m\u001b[1m COND          \u001b[0m\n",
       "     │\u001b[90m Int64   \u001b[0m\u001b[90m String     \u001b[0m\u001b[90m Int64   \u001b[0m\u001b[90m Int64   \u001b[0m\u001b[90m Int64  \u001b[0m\u001b[90m String        \u001b[0m\n",
       "─────┼──────────────────────────────────────────────────────────────\n",
       "   1 │       1  2024-12-07       37       23       0  Partly Cloudy\n",
       "   2 │       2  2024-12-08       44       28      60  Snow\n",
       "   3 │       3  2024-12-09       44       32      75  Rain\n",
       "   4 │       4  2024-12-10       44       39      70  Rain\n",
       "   5 │       5  2024-12-11       58       40      80  Rain\n",
       "   6 │       6  2024-12-12       48       28      60  Rain\n",
       "   7 │       7  2024-12-13       37       25       0  Sunny\n",
       "   8 │       8  2024-12-14       40       24       0  Sunny\n",
       "   9 │       9  2024-12-15       45       30       0  Cloudy"
      ]
     },
     "metadata": {},
     "output_type": "display_data"
    }
   ],
   "source": [
    "DataFrame(DBInterface.execute(db, \"SELECT * FROM FORECAST\"))"
   ]
  },
  {
   "cell_type": "code",
   "execution_count": 7,
   "metadata": {},
   "outputs": [
    {
     "data": {
      "text/plain": [
       "SQLite.Query{false}(SQLite.Stmt(SQLite.DB(\"forecast.sqlite\"), Base.RefValue{Ptr{SQLite.C.sqlite3_stmt}}(Ptr{SQLite.C.sqlite3_stmt} @0x00000001380f3b80), Dict{Int64, Any}()), Base.RefValue{Int32}(100), [:DATE_ID, :DATE, :HI_TEMP, :LO_TEMP, :PRECIP, :COND], Type[Union{Missing, Int64}, Union{Missing, String}, Union{Missing, Int64}, Union{Missing, Int64}, Union{Missing, Int64}, Union{Missing, String}], Dict(:COND => 6, :HI_TEMP => 3, :DATE => 2, :PRECIP => 5, :LO_TEMP => 4, :DATE_ID => 1), Base.RefValue{Int64}(0))"
      ]
     },
     "metadata": {},
     "output_type": "display_data"
    }
   ],
   "source": [
    "DBInterface.execute(db, \"SELECT * FROM FORECAST\")"
   ]
  },
  {
   "cell_type": "code",
   "execution_count": null,
   "metadata": {},
   "outputs": [],
   "source": []
  }
 ],
 "metadata": {
  "kernelspec": {
   "display_name": "Julia 1.11.2",
   "language": "julia",
   "name": "julia-1.11"
  },
  "language_info": {
   "file_extension": ".jl",
   "mimetype": "application/julia",
   "name": "julia",
   "version": "1.11.2"
  }
 },
 "nbformat": 4,
 "nbformat_minor": 2
}
