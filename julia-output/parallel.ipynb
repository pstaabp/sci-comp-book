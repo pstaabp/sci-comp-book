{
 "cells": [
  {
   "cell_type": "code",
   "execution_count": 1,
   "metadata": {},
   "outputs": [
    {
     "data": {
      "text/plain": [
       "countHeads (generic function with 1 method)"
      ]
     },
     "metadata": {},
     "output_type": "display_data"
    }
   ],
   "source": [
    "function countHeads(n::Int)\n",
    "  c::Int = 0\n",
    "  for i=1:n\n",
    "    c += rand(Bool)\n",
    "  end\n",
    "  c\n",
    "end"
   ]
  },
  {
   "cell_type": "code",
   "execution_count": 2,
   "metadata": {},
   "outputs": [
    {
     "name": "stdout",
     "output_type": "stream",
     "text": [
      "  2.513408 seconds\n"
     ]
    },
    {
     "data": {
      "text/plain": [
       "0.500001624"
      ]
     },
     "metadata": {},
     "output_type": "display_data"
    }
   ],
   "source": [
    "@time countHeads(2*10^9)/(2*10^9)"
   ]
  },
  {
   "cell_type": "code",
   "execution_count": 3,
   "metadata": {},
   "outputs": [],
   "source": [
    "using Distributed"
   ]
  },
  {
   "cell_type": "code",
   "execution_count": 4,
   "metadata": {},
   "outputs": [
    {
     "data": {
      "text/plain": [
       "1"
      ]
     },
     "metadata": {},
     "output_type": "display_data"
    }
   ],
   "source": [
    "nprocs()"
   ]
  },
  {
   "cell_type": "code",
   "execution_count": 5,
   "metadata": {},
   "outputs": [
    {
     "data": {
      "text/plain": [
       "3-element Vector{Int64}:\n",
       " 2\n",
       " 3\n",
       " 4"
      ]
     },
     "metadata": {},
     "output_type": "display_data"
    }
   ],
   "source": [
    "addprocs(3)"
   ]
  },
  {
   "cell_type": "code",
   "execution_count": 8,
   "metadata": {},
   "outputs": [
    {
     "data": {
      "text/plain": [
       "2"
      ]
     },
     "metadata": {},
     "output_type": "display_data"
    }
   ],
   "source": [
    "nprocs()"
   ]
  },
  {
   "cell_type": "code",
   "execution_count": 15,
   "metadata": {},
   "outputs": [],
   "source": [
    "@everywhere function countHeads(n::Int)\n",
    "  c::Int = 0\n",
    "  for i=1:n\n",
    "    c += rand(Bool)\n",
    "  end\n",
    "  c\n",
    "end"
   ]
  },
  {
   "cell_type": "code",
   "execution_count": 10,
   "metadata": {},
   "outputs": [
    {
     "data": {
      "text/plain": [
       "Future(2, 1, 6, ReentrantLock(nothing, 0x00000000, 0x00, Base.GenericCondition{Base.Threads.SpinLock}(Base.IntrusiveLinkedList{Task}(nothing, nothing), Base.Threads.SpinLock(0)), (4525748928, 4525749264, 0)), nothing)"
      ]
     },
     "metadata": {},
     "output_type": "display_data"
    }
   ],
   "source": [
    "a= @spawn countHeads(10^9)\n",
    "b= @spawn countHeads(10^9)"
   ]
  },
  {
   "cell_type": "code",
   "execution_count": 11,
   "metadata": {},
   "outputs": [
    {
     "data": {
      "text/plain": [
       "1000021582"
      ]
     },
     "metadata": {},
     "output_type": "display_data"
    }
   ],
   "source": [
    "fetch(a)+fetch(b)"
   ]
  },
  {
   "cell_type": "code",
   "execution_count": 12,
   "metadata": {},
   "outputs": [
    {
     "name": "stdout",
     "output_type": "stream",
     "text": [
      "  2.469003 seconds (204 allocations: 11.453 KiB, 1 lock conflict)\n"
     ]
    },
    {
     "data": {
      "text/plain": [
       "999962992"
      ]
     },
     "metadata": {},
     "output_type": "display_data"
    }
   ],
   "source": [
    "a= @spawn countHeads(10^9)\n",
    "b= @spawn countHeads(10^9)\n",
    "@time fetch(a)+fetch(b)"
   ]
  },
  {
   "cell_type": "code",
   "execution_count": 16,
   "metadata": {},
   "outputs": [
    {
     "name": "stdout",
     "output_type": "stream",
     "text": [
      "  1.719634 seconds (371 allocations: 22.766 KiB)\n"
     ]
    },
    {
     "data": {
      "text/plain": [
       "1000012099"
      ]
     },
     "metadata": {},
     "output_type": "display_data"
    }
   ],
   "source": [
    "a= @spawn countHeads(5*10^8)\n",
    "b= @spawn countHeads(5*10^8)\n",
    "c= @spawn countHeads(5*10^8)\n",
    "d= @spawn countHeads(5*10^8)\n",
    "@time fetch(a)+fetch(b)+fetch(c)+fetch(d)"
   ]
  },
  {
   "cell_type": "code",
   "execution_count": 25,
   "metadata": {},
   "outputs": [
    {
     "name": "stdout",
     "output_type": "stream",
     "text": [
      " 12.788984 seconds (15.46 k allocations: 786.367 KiB, 0.10% compilation time)\n"
     ]
    },
    {
     "data": {
      "text/plain": [
       "9999929928"
      ]
     },
     "metadata": {},
     "output_type": "display_data"
    }
   ],
   "source": [
    "@time let\n",
    "  nheads = @distributed (+) for i = 1:2*10^10\n",
    "    Int(rand(Bool))\n",
    "  end\n",
    "end"
   ]
  },
  {
   "cell_type": "code",
   "execution_count": 24,
   "metadata": {},
   "outputs": [
    {
     "data": {
      "text/plain": [
       "3"
      ]
     },
     "metadata": {},
     "output_type": "display_data"
    }
   ],
   "source": [
    "nprocs()"
   ]
  },
  {
   "cell_type": "code",
   "execution_count": 23,
   "metadata": {},
   "outputs": [
    {
     "name": "stderr",
     "output_type": "stream",
     "text": [
      "┌ Warning: rmprocs: process 1 not removed\n",
      "└ @ Distributed /Users/pstaab/.julia/juliaup/julia-1.11.0-rc1+0.aarch64.apple.darwin14/share/julia/stdlib/v1.11/Distributed/src/cluster.jl:1049\n"
     ]
    },
    {
     "data": {
      "text/plain": [
       "Task (done) @0x000000010c6595f0"
      ]
     },
     "metadata": {},
     "output_type": "display_data"
    }
   ],
   "source": [
    "rmprocs(1)"
   ]
  },
  {
   "cell_type": "code",
   "execution_count": 6,
   "metadata": {},
   "outputs": [
    {
     "data": {
      "text/plain": [
       "4-element Vector{Int64}:\n",
       " 1\n",
       " 2\n",
       " 3\n",
       " 4"
      ]
     },
     "metadata": {},
     "output_type": "display_data"
    }
   ],
   "source": [
    "procs()"
   ]
  },
  {
   "cell_type": "code",
   "execution_count": 12,
   "metadata": {},
   "outputs": [
    {
     "data": {
      "text/plain": [
       "Task (done) @0x000000015d3e0c90"
      ]
     },
     "metadata": {},
     "output_type": "display_data"
    }
   ],
   "source": [
    "rmprocs(2,3,4)"
   ]
  },
  {
   "cell_type": "code",
   "execution_count": 7,
   "metadata": {},
   "outputs": [
    {
     "data": {
      "text/plain": [
       "4-element Vector{Int64}:\n",
       " 5\n",
       " 6\n",
       " 7\n",
       " 8"
      ]
     },
     "metadata": {},
     "output_type": "display_data"
    }
   ],
   "source": [
    "addprocs()"
   ]
  },
  {
   "cell_type": "code",
   "execution_count": 13,
   "metadata": {},
   "outputs": [
    {
     "data": {
      "text/plain": [
       "1-element Vector{Int64}:\n",
       " 1"
      ]
     },
     "metadata": {},
     "output_type": "display_data"
    }
   ],
   "source": [
    "procs()"
   ]
  },
  {
   "cell_type": "code",
   "execution_count": 18,
   "metadata": {},
   "outputs": [
    {
     "name": "stdout",
     "output_type": "stream",
     "text": [
      "  5.423481 seconds (16.58 k allocations: 860.430 KiB, 0.20% compilation time)\n"
     ]
    },
    {
     "data": {
      "text/plain": [
       "10000028560"
      ]
     },
     "metadata": {},
     "output_type": "display_data"
    }
   ],
   "source": [
    "@time let\n",
    "  nheads = @distributed (+) for i = 1:2*10^10\n",
    "    Int(rand(Bool))\n",
    "  end\n",
    "end"
   ]
  },
  {
   "cell_type": "code",
   "execution_count": 17,
   "metadata": {},
   "outputs": [
    {
     "data": {
      "text/plain": [
       "4-element Vector{Int64}:\n",
       " 12\n",
       " 13\n",
       " 14\n",
       " 15"
      ]
     },
     "metadata": {},
     "output_type": "display_data"
    }
   ],
   "source": [
    "addprocs()"
   ]
  },
  {
   "cell_type": "code",
   "execution_count": 1,
   "metadata": {},
   "outputs": [],
   "source": [
    "include(\"PlayingCards.jl\")\n",
    "using .PlayingCards, Random, Distributed"
   ]
  },
  {
   "cell_type": "code",
   "execution_count": 2,
   "metadata": {},
   "outputs": [
    {
     "data": {
      "text/plain": [
       "countHands (generic function with 1 method)"
      ]
     },
     "metadata": {},
     "output_type": "display_data"
    }
   ],
   "source": [
    "function countHands(trials::Int,f::Function)\n",
    "  local deck=map(Card,1:52)\n",
    "  local num_hands=0\n",
    "  for i=1:trials\n",
    "      shuffle!(deck)\n",
    "      h = Hand(deck[1:5])\n",
    "      if(f(h))\n",
    "          num_hands+=1\n",
    "      end\n",
    "  end\n",
    "  num_hands\n",
    "end"
   ]
  },
  {
   "cell_type": "code",
   "execution_count": 3,
   "metadata": {},
   "outputs": [
    {
     "name": "stdout",
     "output_type": "stream",
     "text": [
      "  4.305718 seconds (60.00 M allocations: 3.129 GiB, 4.61% gc time)\n"
     ]
    },
    {
     "data": {
      "text/plain": [
       "14430"
      ]
     },
     "metadata": {},
     "output_type": "display_data"
    }
   ],
   "source": [
    "@time countHands(10_000_000,isFullHouse)"
   ]
  },
  {
   "cell_type": "code",
   "execution_count": 1,
   "metadata": {},
   "outputs": [],
   "source": [
    "using Distributed\n",
    "@everywhere include(\"PlayingCards.jl\")\n",
    "@everywhere using .PlayingCards, Random"
   ]
  },
  {
   "cell_type": "code",
   "execution_count": 2,
   "metadata": {},
   "outputs": [],
   "source": [
    "@everywhere function paraCountHands(trials::Integer,f::Function)\n",
    "  local deck=map(Card,1:52)\n",
    "  function checkHand(f::Function) ## shuffle the deck then check the hand.\n",
    "    shuffle!(deck)\n",
    "    f(Hand(deck[1:5]))\n",
    "  end\n",
    "  @distributed (+) for i = 1:trials\n",
    "    Int(checkHand(f))\n",
    "  end\n",
    "end"
   ]
  },
  {
   "cell_type": "code",
   "execution_count": 3,
   "metadata": {},
   "outputs": [
    {
     "data": {
      "text/plain": [
       "3-element Vector{Int64}:\n",
       " 2\n",
       " 3\n",
       " 4"
      ]
     },
     "metadata": {},
     "output_type": "display_data"
    }
   ],
   "source": [
    "addprocs(3)"
   ]
  },
  {
   "cell_type": "code",
   "execution_count": 4,
   "metadata": {},
   "outputs": [
    {
     "ename": "TaskFailedException",
     "evalue": "TaskFailedException\n\n    nested task error: On worker 2:\n    UndefVarError: `PlayingCards` not defined in `Main`\n    Suggestion: add an appropriate import or assignment. This global was declared but not assigned.\n    Stacktrace:\n      [1] deserialize_module\n        @ ~/.julia/juliaup/julia-1.11.0-rc1+0.aarch64.apple.darwin14/share/julia/stdlib/v1.11/Serialization/src/Serialization.jl:1027\n      [2] handle_deserialize\n        @ ~/.julia/juliaup/julia-1.11.0-rc1+0.aarch64.apple.darwin14/share/julia/stdlib/v1.11/Serialization/src/Serialization.jl:926\n      [3] deserialize\n        @ ~/.julia/juliaup/julia-1.11.0-rc1+0.aarch64.apple.darwin14/share/julia/stdlib/v1.11/Serialization/src/Serialization.jl:844\n      [4] deserialize_datatype\n        @ ~/.julia/juliaup/julia-1.11.0-rc1+0.aarch64.apple.darwin14/share/julia/stdlib/v1.11/Serialization/src/Serialization.jl:1470\n      [5] handle_deserialize\n        @ ~/.julia/juliaup/julia-1.11.0-rc1+0.aarch64.apple.darwin14/share/julia/stdlib/v1.11/Serialization/src/Serialization.jl:897\n      [6] deserialize\n        @ ~/.julia/juliaup/julia-1.11.0-rc1+0.aarch64.apple.darwin14/share/julia/stdlib/v1.11/Serialization/src/Serialization.jl:844\n      [7] deserialize_datatype\n        @ ~/.julia/juliaup/julia-1.11.0-rc1+0.aarch64.apple.darwin14/share/julia/stdlib/v1.11/Serialization/src/Serialization.jl:1495\n      [8] handle_deserialize\n        @ ~/.julia/juliaup/julia-1.11.0-rc1+0.aarch64.apple.darwin14/share/julia/stdlib/v1.11/Serialization/src/Serialization.jl:899\n      [9] deserialize\n        @ ~/.julia/juliaup/julia-1.11.0-rc1+0.aarch64.apple.darwin14/share/julia/stdlib/v1.11/Serialization/src/Serialization.jl:844\n     [10] handle_deserialize\n        @ ~/.julia/juliaup/julia-1.11.0-rc1+0.aarch64.apple.darwin14/share/julia/stdlib/v1.11/Serialization/src/Serialization.jl:904\n     [11] deserialize\n        @ ~/.julia/juliaup/julia-1.11.0-rc1+0.aarch64.apple.darwin14/share/julia/stdlib/v1.11/Serialization/src/Serialization.jl:844 [inlined]\n     [12] deserialize_msg\n        @ ~/.julia/juliaup/julia-1.11.0-rc1+0.aarch64.apple.darwin14/share/julia/stdlib/v1.11/Distributed/src/messages.jl:87\n     [13] #invokelatest#2\n        @ ./essentials.jl:1043 [inlined]\n     [14] invokelatest\n        @ ./essentials.jl:1040 [inlined]\n     [15] message_handler_loop\n        @ ~/.julia/juliaup/julia-1.11.0-rc1+0.aarch64.apple.darwin14/share/julia/stdlib/v1.11/Distributed/src/process_messages.jl:176\n     [16] process_tcp_streams\n        @ ~/.julia/juliaup/julia-1.11.0-rc1+0.aarch64.apple.darwin14/share/julia/stdlib/v1.11/Distributed/src/process_messages.jl:133\n     [17] #103\n        @ ~/.julia/juliaup/julia-1.11.0-rc1+0.aarch64.apple.darwin14/share/julia/stdlib/v1.11/Distributed/src/process_messages.jl:121\n    Stacktrace:\n     [1] remotecall_fetch(::Function, ::Distributed.Worker, ::Function, ::Vararg{Any}; kwargs::@Kwargs{})\n       @ Distributed ~/.julia/juliaup/julia-1.11.0-rc1+0.aarch64.apple.darwin14/share/julia/stdlib/v1.11/Distributed/src/remotecall.jl:465\n     [2] remotecall_fetch(::Function, ::Distributed.Worker, ::Function, ::Vararg{Any})\n       @ Distributed ~/.julia/juliaup/julia-1.11.0-rc1+0.aarch64.apple.darwin14/share/julia/stdlib/v1.11/Distributed/src/remotecall.jl:454\n     [3] remotecall_fetch\n       @ ~/.julia/juliaup/julia-1.11.0-rc1+0.aarch64.apple.darwin14/share/julia/stdlib/v1.11/Distributed/src/remotecall.jl:492 [inlined]\n     [4] (::Distributed.var\"#175#176\"{typeof(+), var\"#9#11\"{typeof(isFullHouse), var\"#checkHand#10\"{Vector{Card}}}, UnitRange{Int64}, Vector{UnitRange{Int64}}, Int64, Int64})()\n       @ Distributed ~/.julia/juliaup/julia-1.11.0-rc1+0.aarch64.apple.darwin14/share/julia/stdlib/v1.11/Distributed/src/macros.jl:270",
     "output_type": "error",
     "traceback": [
      "TaskFailedException\n",
      "\n",
      "    nested task error: On worker 2:\n",
      "    UndefVarError: `PlayingCards` not defined in `Main`\n",
      "    Suggestion: add an appropriate import or assignment. This global was declared but not assigned.\n",
      "    Stacktrace:\n",
      "      [1] deserialize_module\n",
      "        @ ~/.julia/juliaup/julia-1.11.0-rc1+0.aarch64.apple.darwin14/share/julia/stdlib/v1.11/Serialization/src/Serialization.jl:1027\n",
      "      [2] handle_deserialize\n",
      "        @ ~/.julia/juliaup/julia-1.11.0-rc1+0.aarch64.apple.darwin14/share/julia/stdlib/v1.11/Serialization/src/Serialization.jl:926\n",
      "      [3] deserialize\n",
      "        @ ~/.julia/juliaup/julia-1.11.0-rc1+0.aarch64.apple.darwin14/share/julia/stdlib/v1.11/Serialization/src/Serialization.jl:844\n",
      "      [4] deserialize_datatype\n",
      "        @ ~/.julia/juliaup/julia-1.11.0-rc1+0.aarch64.apple.darwin14/share/julia/stdlib/v1.11/Serialization/src/Serialization.jl:1470\n",
      "      [5] handle_deserialize\n",
      "        @ ~/.julia/juliaup/julia-1.11.0-rc1+0.aarch64.apple.darwin14/share/julia/stdlib/v1.11/Serialization/src/Serialization.jl:897\n",
      "      [6] deserialize\n",
      "        @ ~/.julia/juliaup/julia-1.11.0-rc1+0.aarch64.apple.darwin14/share/julia/stdlib/v1.11/Serialization/src/Serialization.jl:844\n",
      "      [7] deserialize_datatype\n",
      "        @ ~/.julia/juliaup/julia-1.11.0-rc1+0.aarch64.apple.darwin14/share/julia/stdlib/v1.11/Serialization/src/Serialization.jl:1495\n",
      "      [8] handle_deserialize\n",
      "        @ ~/.julia/juliaup/julia-1.11.0-rc1+0.aarch64.apple.darwin14/share/julia/stdlib/v1.11/Serialization/src/Serialization.jl:899\n",
      "      [9] deserialize\n",
      "        @ ~/.julia/juliaup/julia-1.11.0-rc1+0.aarch64.apple.darwin14/share/julia/stdlib/v1.11/Serialization/src/Serialization.jl:844\n",
      "     [10] handle_deserialize\n",
      "        @ ~/.julia/juliaup/julia-1.11.0-rc1+0.aarch64.apple.darwin14/share/julia/stdlib/v1.11/Serialization/src/Serialization.jl:904\n",
      "     [11] deserialize\n",
      "        @ ~/.julia/juliaup/julia-1.11.0-rc1+0.aarch64.apple.darwin14/share/julia/stdlib/v1.11/Serialization/src/Serialization.jl:844 [inlined]\n",
      "     [12] deserialize_msg\n",
      "        @ ~/.julia/juliaup/julia-1.11.0-rc1+0.aarch64.apple.darwin14/share/julia/stdlib/v1.11/Distributed/src/messages.jl:87\n",
      "     [13] #invokelatest#2\n",
      "        @ ./essentials.jl:1043 [inlined]\n",
      "     [14] invokelatest\n",
      "        @ ./essentials.jl:1040 [inlined]\n",
      "     [15] message_handler_loop\n",
      "        @ ~/.julia/juliaup/julia-1.11.0-rc1+0.aarch64.apple.darwin14/share/julia/stdlib/v1.11/Distributed/src/process_messages.jl:176\n",
      "     [16] process_tcp_streams\n",
      "        @ ~/.julia/juliaup/julia-1.11.0-rc1+0.aarch64.apple.darwin14/share/julia/stdlib/v1.11/Distributed/src/process_messages.jl:133\n",
      "     [17] #103\n",
      "        @ ~/.julia/juliaup/julia-1.11.0-rc1+0.aarch64.apple.darwin14/share/julia/stdlib/v1.11/Distributed/src/process_messages.jl:121\n",
      "    Stacktrace:\n",
      "     [1] remotecall_fetch(::Function, ::Distributed.Worker, ::Function, ::Vararg{Any}; kwargs::@Kwargs{})\n",
      "       @ Distributed ~/.julia/juliaup/julia-1.11.0-rc1+0.aarch64.apple.darwin14/share/julia/stdlib/v1.11/Distributed/src/remotecall.jl:465\n",
      "     [2] remotecall_fetch(::Function, ::Distributed.Worker, ::Function, ::Vararg{Any})\n",
      "       @ Distributed ~/.julia/juliaup/julia-1.11.0-rc1+0.aarch64.apple.darwin14/share/julia/stdlib/v1.11/Distributed/src/remotecall.jl:454\n",
      "     [3] remotecall_fetch\n",
      "       @ ~/.julia/juliaup/julia-1.11.0-rc1+0.aarch64.apple.darwin14/share/julia/stdlib/v1.11/Distributed/src/remotecall.jl:492 [inlined]\n",
      "     [4] (::Distributed.var\"#175#176\"{typeof(+), var\"#9#11\"{typeof(isFullHouse), var\"#checkHand#10\"{Vector{Card}}}, UnitRange{Int64}, Vector{UnitRange{Int64}}, Int64, Int64})()\n",
      "       @ Distributed ~/.julia/juliaup/julia-1.11.0-rc1+0.aarch64.apple.darwin14/share/julia/stdlib/v1.11/Distributed/src/macros.jl:270\n",
      "\n",
      "Stacktrace:\n",
      " [1] wait(t::Task)\n",
      "   @ Base ./task.jl:370\n",
      " [2] fetch\n",
      "   @ ./task.jl:390 [inlined]\n",
      " [3] preduce(reducer::Function, f::Function, R::UnitRange{Int64})\n",
      "   @ Distributed ~/.julia/juliaup/julia-1.11.0-rc1+0.aarch64.apple.darwin14/share/julia/stdlib/v1.11/Distributed/src/macros.jl:274\n",
      " [4] paraCountHands\n",
      "   @ ~/code/sci-comp-book/julia-output/parallel.ipynb:7 [inlined]\n",
      " [5] macro expansion\n",
      "   @ ./timing.jl:578 [inlined]\n",
      " [6] top-level scope\n",
      "   @ ~/code/sci-comp-book/julia-output/parallel.ipynb:1"
     ]
    }
   ],
   "source": [
    "@time fh = paraCountHands(10_000_000,isFullHouse)"
   ]
  },
  {
   "cell_type": "code",
   "execution_count": null,
   "metadata": {},
   "outputs": [],
   "source": []
  }
 ],
 "metadata": {
  "kernelspec": {
   "display_name": "Julia 1.11.0-rc1",
   "language": "julia",
   "name": "julia-1.11"
  },
  "language_info": {
   "file_extension": ".jl",
   "mimetype": "application/julia",
   "name": "julia",
   "version": "1.11.0-rc1"
  }
 },
 "nbformat": 4,
 "nbformat_minor": 2
}
