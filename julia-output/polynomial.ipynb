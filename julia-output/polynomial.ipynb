{
 "cells": [
  {
   "cell_type": "code",
   "execution_count": 1,
   "metadata": {},
   "outputs": [],
   "source": [
    "using Revise\n",
    "includet(\"Polynomial.jl\")\n",
    "using .Poly"
   ]
  },
  {
   "cell_type": "code",
   "execution_count": 17,
   "metadata": {},
   "outputs": [
    {
     "data": {
      "text/plain": [
       "0 + 1im x^0 + 2 + 0im x^1 + 3 - 2im x^2 + 0 - 1im x^3"
      ]
     },
     "metadata": {},
     "output_type": "display_data"
    }
   ],
   "source": [
    "p1 = Polynomial([1,2,3])\n",
    "poly3 = Polynomial([2//3,3//4,5//8])\n",
    "poly4 = Polynomial([im,2+0im,3-2im,-im])"
   ]
  },
  {
   "cell_type": "code",
   "execution_count": 2,
   "metadata": {},
   "outputs": [
    {
     "name": "stdout",
     "output_type": "stream",
     "text": [
      "\u001b[0m\u001b[1mTest Summary:                                     | \u001b[22m\u001b[32m\u001b[1mPass  \u001b[22m\u001b[39m\u001b[36m\u001b[1mTotal  \u001b[22m\u001b[39m\u001b[0m\u001b[1mTime\u001b[22m\n",
      "Creating a Polynomial as a Vector of Coefficients | \u001b[32m  12  \u001b[39m\u001b[36m   12  \u001b[39m\u001b[0m0.2s\n",
      "\u001b[0m\u001b[1mTest Summary: | \u001b[22m\u001b[32m\u001b[1mPass  \u001b[22m\u001b[39m\u001b[36m\u001b[1mTotal  \u001b[22m\u001b[39m\u001b[0m\u001b[1mTime\u001b[22m\n",
      "Base.show     | \u001b[32m   3  \u001b[39m\u001b[36m    3  \u001b[39m\u001b[0m0.1s\n",
      "Addition, Subtraction and Constant Multiplication: \u001b[91m\u001b[1mError During Test\u001b[22m\u001b[39m at \u001b[39m\u001b[1m/Users/pstaab/code/sci-comp-book/julia-output/test-polynomial.jl:42\u001b[22m\n",
      "  Test threw exception\n",
      "  Expression: poly10 + poly11 == Polynomial([-1, 3, 3, 1])\n",
      "  MethodError: no method matching +(::Polynomial{Int64}, ::Polynomial{Int64})\n",
      "  The function `+` exists, but no method is defined for this combination of argument types.\n",
      "  \n",
      "  \u001b[0mClosest candidates are:\n",
      "  \u001b[0m  +(::Any, ::Any, \u001b[91m::Any\u001b[39m, \u001b[91m::Any...\u001b[39m)\n",
      "  \u001b[0m\u001b[90m   @\u001b[39m \u001b[90mBase\u001b[39m \u001b[90m\u001b[4moperators.jl:596\u001b[24m\u001b[39m\n",
      "  \u001b[0m  +(\u001b[91m::Bool\u001b[39m, \u001b[91m::Complex{Bool}\u001b[39m)\n",
      "  \u001b[0m\u001b[90m   @\u001b[39m \u001b[90mBase\u001b[39m \u001b[90m\u001b[4mcomplex.jl:308\u001b[24m\u001b[39m\n",
      "  \u001b[0m  +(\u001b[91m::Bool\u001b[39m, \u001b[91m::Bool\u001b[39m)\n",
      "  \u001b[0m\u001b[90m   @\u001b[39m \u001b[90mBase\u001b[39m \u001b[90m\u001b[4mbool.jl:166\u001b[24m\u001b[39m\n",
      "  \u001b[0m  ...\n",
      "  \n",
      "  Stacktrace:\n",
      "   [1] \u001b[0m\u001b[1mmacro expansion\u001b[22m\n",
      "  \u001b[90m   @\u001b[39m \u001b[90m~/.julia/juliaup/julia-1.11.0-rc2+0.aarch64.apple.darwin14/share/julia/stdlib/v1.11/Test/src/\u001b[39m\u001b[90m\u001b[4mTest.jl:676\u001b[24m\u001b[39m\u001b[90m [inlined]\u001b[39m\n",
      "   [2] \u001b[0m\u001b[1mmacro expansion\u001b[22m\n",
      "  \u001b[90m   @\u001b[39m \u001b[90m~/code/sci-comp-book/julia-output/\u001b[39m\u001b[90m\u001b[4mtest-polynomial.jl:42\u001b[24m\u001b[39m\u001b[90m [inlined]\u001b[39m\n",
      "   [3] \u001b[0m\u001b[1mmacro expansion\u001b[22m\n",
      "  \u001b[90m   @\u001b[39m \u001b[90m~/.julia/juliaup/julia-1.11.0-rc2+0.aarch64.apple.darwin14/share/julia/stdlib/v1.11/Test/src/\u001b[39m\u001b[90m\u001b[4mTest.jl:1700\u001b[24m\u001b[39m\u001b[90m [inlined]\u001b[39m\n",
      "   [4] top-level scope\n",
      "  \u001b[90m   @\u001b[39m \u001b[90m~/code/sci-comp-book/julia-output/\u001b[39m\u001b[90m\u001b[4mtest-polynomial.jl:42\u001b[24m\u001b[39m\n",
      "Addition, Subtraction and Constant Multiplication: \u001b[91m\u001b[1mError During Test\u001b[22m\u001b[39m at \u001b[39m\u001b[1m/Users/pstaab/code/sci-comp-book/julia-output/test-polynomial.jl:43\u001b[22m\n",
      "  Test threw exception\n",
      "  Expression: poly11 - poly10 == Polynomial([-3, -1, -3, 1])\n",
      "  MethodError: no method matching -(::Polynomial{Int64}, ::Polynomial{Int64})\n",
      "  The function `-` exists, but no method is defined for this combination of argument types.\n",
      "  \n",
      "  \u001b[0mClosest candidates are:\n",
      "  \u001b[0m  -(\u001b[91m::Bool\u001b[39m, \u001b[91m::Complex{Bool}\u001b[39m)\n",
      "  \u001b[0m\u001b[90m   @\u001b[39m \u001b[90mBase\u001b[39m \u001b[90m\u001b[4mcomplex.jl:310\u001b[24m\u001b[39m\n",
      "  \u001b[0m  -(\u001b[91m::Bool\u001b[39m, \u001b[91m::Bool\u001b[39m)\n",
      "  \u001b[0m\u001b[90m   @\u001b[39m \u001b[90mBase\u001b[39m \u001b[90m\u001b[4mbool.jl:167\u001b[24m\u001b[39m\n",
      "  \u001b[0m  -(\u001b[91m::Bool\u001b[39m)\n",
      "  \u001b[0m\u001b[90m   @\u001b[39m \u001b[90mBase\u001b[39m \u001b[90m\u001b[4mbool.jl:164\u001b[24m\u001b[39m\n",
      "  \u001b[0m  ...\n",
      "  \n",
      "  Stacktrace:\n",
      "   [1] \u001b[0m\u001b[1mmacro expansion\u001b[22m\n",
      "  \u001b[90m   @\u001b[39m \u001b[90m~/.julia/juliaup/julia-1.11.0-rc2+0.aarch64.apple.darwin14/share/julia/stdlib/v1.11/Test/src/\u001b[39m\u001b[90m\u001b[4mTest.jl:676\u001b[24m\u001b[39m\u001b[90m [inlined]\u001b[39m\n",
      "   [2] \u001b[0m\u001b[1mmacro expansion\u001b[22m\n",
      "  \u001b[90m   @\u001b[39m \u001b[90m~/code/sci-comp-book/julia-output/\u001b[39m\u001b[90m\u001b[4mtest-polynomial.jl:43\u001b[24m\u001b[39m\u001b[90m [inlined]\u001b[39m\n",
      "   [3] \u001b[0m\u001b[1mmacro expansion\u001b[22m\n",
      "  \u001b[90m   @\u001b[39m \u001b[90m~/.julia/juliaup/julia-1.11.0-rc2+0.aarch64.apple.darwin14/share/julia/stdlib/v1.11/Test/src/\u001b[39m\u001b[90m\u001b[4mTest.jl:1700\u001b[24m\u001b[39m\u001b[90m [inlined]\u001b[39m\n",
      "   [4] top-level scope\n",
      "  \u001b[90m   @\u001b[39m \u001b[90m~/code/sci-comp-book/julia-output/\u001b[39m\u001b[90m\u001b[4mtest-polynomial.jl:42\u001b[24m\u001b[39m\n",
      "Addition, Subtraction and Constant Multiplication: \u001b[91m\u001b[1mError During Test\u001b[22m\u001b[39m at \u001b[39m\u001b[1m/Users/pstaab/code/sci-comp-book/julia-output/test-polynomial.jl:44\u001b[22m\n",
      "  Test threw exception\n",
      "  Expression: 4poly10 == Polynomial([4, 8, 12])\n",
      "  MethodError: no method matching *(::Int64, ::Polynomial{Int64})\n",
      "  The function `*` exists, but no method is defined for this combination of argument types.\n",
      "  \n",
      "  \u001b[0mClosest candidates are:\n",
      "  \u001b[0m  *(::Any, ::Any, \u001b[91m::Any\u001b[39m, \u001b[91m::Any...\u001b[39m)\n",
      "  \u001b[0m\u001b[90m   @\u001b[39m \u001b[90mBase\u001b[39m \u001b[90m\u001b[4moperators.jl:596\u001b[24m\u001b[39m\n",
      "  \u001b[0m  *(::Real, \u001b[91m::Complex{Bool}\u001b[39m)\n",
      "  \u001b[0m\u001b[90m   @\u001b[39m \u001b[90mBase\u001b[39m \u001b[90m\u001b[4mcomplex.jl:330\u001b[24m\u001b[39m\n",
      "  \u001b[0m  *(::Integer, \u001b[91m::CartesianIndex{N}\u001b[39m) where N\n",
      "  \u001b[0m\u001b[90m   @\u001b[39m \u001b[90mBase\u001b[39m \u001b[90m\u001b[4mmultidimensional.jl:129\u001b[24m\u001b[39m\n",
      "  \u001b[0m  ...\n",
      "  \n",
      "  Stacktrace:\n",
      "   [1] \u001b[0m\u001b[1mmacro expansion\u001b[22m\n",
      "  \u001b[90m   @\u001b[39m \u001b[90m~/.julia/juliaup/julia-1.11.0-rc2+0.aarch64.apple.darwin14/share/julia/stdlib/v1.11/Test/src/\u001b[39m\u001b[90m\u001b[4mTest.jl:676\u001b[24m\u001b[39m\u001b[90m [inlined]\u001b[39m\n",
      "   [2] \u001b[0m\u001b[1mmacro expansion\u001b[22m\n",
      "  \u001b[90m   @\u001b[39m \u001b[90m~/code/sci-comp-book/julia-output/\u001b[39m\u001b[90m\u001b[4mtest-polynomial.jl:44\u001b[24m\u001b[39m\u001b[90m [inlined]\u001b[39m\n",
      "   [3] \u001b[0m\u001b[1mmacro expansion\u001b[22m\n",
      "  \u001b[90m   @\u001b[39m \u001b[90m~/.julia/juliaup/julia-1.11.0-rc2+0.aarch64.apple.darwin14/share/julia/stdlib/v1.11/Test/src/\u001b[39m\u001b[90m\u001b[4mTest.jl:1700\u001b[24m\u001b[39m\u001b[90m [inlined]\u001b[39m\n",
      "   [4] top-level scope\n",
      "  \u001b[90m   @\u001b[39m \u001b[90m~/code/sci-comp-book/julia-output/\u001b[39m\u001b[90m\u001b[4mtest-polynomial.jl:42\u001b[24m\u001b[39m\n",
      "Addition, Subtraction and Constant Multiplication: \u001b[91m\u001b[1mError During Test\u001b[22m\u001b[39m at \u001b[39m\u001b[1m/Users/pstaab/code/sci-comp-book/julia-output/test-polynomial.jl:45\u001b[22m\n",
      "  Test threw exception\n",
      "  Expression: poly10 * poly11 == Polynomial([-2, -3, -4, 4, 3])\n",
      "  MethodError: no method matching *(::Polynomial{Int64}, ::Polynomial{Int64})\n",
      "  The function `*` exists, but no method is defined for this combination of argument types.\n",
      "  \n",
      "  \u001b[0mClosest candidates are:\n",
      "  \u001b[0m  *(::Any, ::Any, \u001b[91m::Any\u001b[39m, \u001b[91m::Any...\u001b[39m)\n",
      "  \u001b[0m\u001b[90m   @\u001b[39m \u001b[90mBase\u001b[39m \u001b[90m\u001b[4moperators.jl:596\u001b[24m\u001b[39m\n",
      "  \u001b[0m  *(\u001b[91m::BigInt\u001b[39m, \u001b[91m::BigFloat\u001b[39m)\n",
      "  \u001b[0m\u001b[90m   @\u001b[39m \u001b[90mBase\u001b[39m \u001b[90m\u001b[4mmpfr.jl:527\u001b[24m\u001b[39m\n",
      "  \u001b[0m  *(\u001b[91m::BigInt\u001b[39m, \u001b[91m::BigInt\u001b[39m, \u001b[91m::BigInt\u001b[39m, \u001b[91m::BigInt\u001b[39m, \u001b[91m::BigInt\u001b[39m)\n",
      "  \u001b[0m\u001b[90m   @\u001b[39m \u001b[90mBase\u001b[39m \u001b[90m\u001b[4mgmp.jl:538\u001b[24m\u001b[39m\n",
      "  \u001b[0m  ...\n",
      "  \n",
      "  Stacktrace:\n",
      "   [1] \u001b[0m\u001b[1mmacro expansion\u001b[22m\n",
      "  \u001b[90m   @\u001b[39m \u001b[90m~/.julia/juliaup/julia-1.11.0-rc2+0.aarch64.apple.darwin14/share/julia/stdlib/v1.11/Test/src/\u001b[39m\u001b[90m\u001b[4mTest.jl:676\u001b[24m\u001b[39m\u001b[90m [inlined]\u001b[39m\n",
      "   [2] \u001b[0m\u001b[1mmacro expansion\u001b[22m\n",
      "  \u001b[90m   @\u001b[39m \u001b[90m~/code/sci-comp-book/julia-output/\u001b[39m\u001b[90m\u001b[4mtest-polynomial.jl:45\u001b[24m\u001b[39m\u001b[90m [inlined]\u001b[39m\n",
      "   [3] \u001b[0m\u001b[1mmacro expansion\u001b[22m\n",
      "  \u001b[90m   @\u001b[39m \u001b[90m~/.julia/juliaup/julia-1.11.0-rc2+0.aarch64.apple.darwin14/share/julia/stdlib/v1.11/Test/src/\u001b[39m\u001b[90m\u001b[4mTest.jl:1700\u001b[24m\u001b[39m\u001b[90m [inlined]\u001b[39m\n",
      "   [4] top-level scope\n",
      "  \u001b[90m   @\u001b[39m \u001b[90m~/code/sci-comp-book/julia-output/\u001b[39m\u001b[90m\u001b[4mtest-polynomial.jl:42\u001b[24m\u001b[39m\n",
      "\u001b[0m\u001b[1mTest Summary:                                     | \u001b[22m\u001b[91m\u001b[1mError  \u001b[22m\u001b[39m\u001b[36m\u001b[1mTotal  \u001b[22m\u001b[39m\u001b[0m\u001b[1mTime\u001b[22m\n",
      "Addition, Subtraction and Constant Multiplication | \u001b[91m    4  \u001b[39m\u001b[36m    4  \u001b[39m\u001b[0m2.3s\n"
     ]
    },
    {
     "ename": "LoadError",
     "evalue": "LoadError: Some tests did not pass: 0 passed, 0 failed, 4 errored, 0 broken.\nin expression starting at /Users/pstaab/code/sci-comp-book/julia-output/test-polynomial.jl:41",
     "output_type": "error",
     "traceback": [
      "LoadError: Some tests did not pass: 0 passed, 0 failed, 4 errored, 0 broken.\n",
      "in expression starting at /Users/pstaab/code/sci-comp-book/julia-output/test-polynomial.jl:41\n",
      "\n",
      "Stacktrace:\n",
      " [1] finish(ts::Test.DefaultTestSet; print_results::Bool)\n",
      "   @ Test ~/.julia/juliaup/julia-1.11.0-rc2+0.aarch64.apple.darwin14/share/julia/stdlib/v1.11/Test/src/Test.jl:1254\n",
      " [2] finish(ts::Test.DefaultTestSet)\n",
      "   @ Test ~/.julia/juliaup/julia-1.11.0-rc2+0.aarch64.apple.darwin14/share/julia/stdlib/v1.11/Test/src/Test.jl:1229\n",
      " [3] macro expansion\n",
      "   @ ~/.julia/juliaup/julia-1.11.0-rc2+0.aarch64.apple.darwin14/share/julia/stdlib/v1.11/Test/src/Test.jl:1716 [inlined]\n",
      " [4] top-level scope\n",
      "   @ ~/code/sci-comp-book/julia-output/test-polynomial.jl:42"
     ]
    }
   ],
   "source": [
    "include(\"test-polynomial.jl\")"
   ]
  },
  {
   "cell_type": "code",
   "execution_count": 18,
   "metadata": {},
   "outputs": [
    {
     "data": {
      "text/plain": [
       "\"0 + 1im x^0 + 2 + 0im x^1 + 3 - 2im x^2 + 0 - 1im x^3\""
      ]
     },
     "metadata": {},
     "output_type": "display_data"
    }
   ],
   "source": [
    "string(poly4)"
   ]
  },
  {
   "cell_type": "code",
   "execution_count": 13,
   "metadata": {},
   "outputs": [
    {
     "name": "stdout",
     "output_type": "stream",
     "text": [
      "\u001b[0m\u001b[1mTest Summary: | \u001b[22m\u001b[32m\u001b[1mPass  \u001b[22m\u001b[39m\u001b[36m\u001b[1mTotal  \u001b[22m\u001b[39m\u001b[0m\u001b[1mTime\u001b[22m\n",
      "Base.show     | \u001b[32m   1  \u001b[39m\u001b[36m    1  \u001b[39m\u001b[0m0.0s\n"
     ]
    },
    {
     "data": {
      "text/plain": [
       "Test.DefaultTestSet(\"Base.show\", Any[], 1, false, false, true, 1.72234915762887e9, 1.722349157629973e9, false, \"/Users/pstaab/code/sci-comp-book/julia-output/jl_notebook_cell_df34fa98e69747e1a8f8a730347b8e2f_W4sZmlsZQ==.jl\")"
      ]
     },
     "metadata": {},
     "output_type": "display_data"
    }
   ],
   "source": [
    "@testset \"Base.show\" begin\n",
    "  @test string(p1) == \"1 x^0 + 2 x^1 + 3 x^2\"\n",
    "end"
   ]
  },
  {
   "cell_type": "code",
   "execution_count": null,
   "metadata": {},
   "outputs": [],
   "source": []
  }
 ],
 "metadata": {
  "kernelspec": {
   "display_name": "Julia 1.11.0-rc2",
   "language": "julia",
   "name": "julia-1.11"
  },
  "language_info": {
   "file_extension": ".jl",
   "mimetype": "application/julia",
   "name": "julia",
   "version": "1.11.0-rc2"
  }
 },
 "nbformat": 4,
 "nbformat_minor": 2
}
