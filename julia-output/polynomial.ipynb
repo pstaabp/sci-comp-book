{
 "cells": [
  {
   "cell_type": "code",
   "execution_count": 12,
   "metadata": {},
   "outputs": [],
   "source": [
    "using Revise\n",
    "includet(\"Polynomial.jl\")\n",
    "using .Poly"
   ]
  },
  {
   "cell_type": "code",
   "execution_count": 13,
   "metadata": {},
   "outputs": [
    {
     "data": {
      "text/plain": [
       "0 + 1im x^0 + 2 + 0im x^1 + 3 - 2im x^2 + 0 - 1im x^3"
      ]
     },
     "metadata": {},
     "output_type": "display_data"
    }
   ],
   "source": [
    "p1 = Polynomial([1,2,3])\n",
    "poly3 = Polynomial([2//3,3//4,5//8])\n",
    "poly4 = Polynomial([im,2+0im,3-2im,-im])"
   ]
  },
  {
   "cell_type": "code",
   "execution_count": 26,
   "metadata": {},
   "outputs": [
    {
     "name": "stdout",
     "output_type": "stream",
     "text": [
      "\u001b[0m\u001b[1mTest Summary:                                     | \u001b[22m\u001b[32m\u001b[1mPass  \u001b[22m\u001b[39m\u001b[36m\u001b[1mTotal  \u001b[22m\u001b[39m\u001b[0m\u001b[1mTime\u001b[22m\n",
      "Creating a Polynomial as a Vector of Coefficients | \u001b[32m  12  \u001b[39m\u001b[36m   12  \u001b[39m\u001b[0m0.0s\n",
      "\u001b[0m\u001b[1mTest Summary: | \u001b[22m\u001b[32m\u001b[1mPass  \u001b[22m\u001b[39m\u001b[36m\u001b[1mTotal  \u001b[22m\u001b[39m\u001b[0m\u001b[1mTime\u001b[22m\n",
      "Base.show     | \u001b[32m   3  \u001b[39m\u001b[36m    3  \u001b[39m\u001b[0m0.0s\n",
      "\u001b[0m\u001b[1mTest Summary:                                     | \u001b[22m\u001b[33m\u001b[1mBroken  \u001b[22m\u001b[39m\u001b[36m\u001b[1mTotal  \u001b[22m\u001b[39m\u001b[0m\u001b[1mTime\u001b[22m\n",
      "Addition, Subtraction and Constant Multiplication | \u001b[33m     4  \u001b[39m\u001b[36m    4  \u001b[39m\u001b[0m0.0s\n",
      "\u001b[0m\u001b[1mTest Summary:                                                 | \u001b[22m\u001b[32m\u001b[1mPass  \u001b[22m\u001b[39m\u001b[36m\u001b[1mTotal  \u001b[22m\u001b[39m\u001b[0m\u001b[1mTime\u001b[22m\n",
      "Creating a Polynomial from a string with integer coefficients | \u001b[32m   9  \u001b[39m\u001b[36m    9  \u001b[39m\u001b[0m0.0s\n"
     ]
    },
    {
     "ename": "LoadError",
     "evalue": "LoadError: InexactError: Int64(0.5)\nin expression starting at /Users/pstaab/code/sci-comp-book/julia-output/test-polynomial.jl:82",
     "output_type": "error",
     "traceback": [
      "LoadError: InexactError: Int64(0.5)\n",
      "in expression starting at /Users/pstaab/code/sci-comp-book/julia-output/test-polynomial.jl:82\n",
      "\n",
      "Stacktrace:\n",
      " [1] Int64\n",
      "   @ ./float.jl:994 [inlined]\n",
      " [2] convert\n",
      "   @ ./number.jl:7 [inlined]\n",
      " [3] setindex!(A::Vector{Int64}, x::Float64, i::Int64)\n",
      "   @ Base ./array.jl:976\n",
      " [4] Polynomial(str::String)\n",
      "   @ Main.Poly ~/code/sci-comp-book/julia-output/Polynomial.jl:16\n",
      " [5] top-level scope\n",
      "   @ ~/code/sci-comp-book/julia-output/test-polynomial.jl:85"
     ]
    }
   ],
   "source": [
    "skip_arith = true\n",
    "skip_str_const = false\n",
    "skip_poly_eval = true\n",
    "include(\"test-polynomial.jl\");"
   ]
  },
  {
   "cell_type": "code",
   "execution_count": 28,
   "metadata": {},
   "outputs": [
    {
     "name": "stdout",
     "output_type": "stream",
     "text": [
      "m = RegexMatch(\"0.5\", 1=\"\", 2=\"0.5\", 3=\".5\", 4=nothing, 5=nothing, 6=nothing)\n",
      "m = RegexMatch(\"+0.25x\", 1=\"+\", 2=\"0.25\", 3=\".25\", 4=\"x\", 5=nothing, 6=nothing)\n",
      "m = RegexMatch(\"+0.125x^2\", 1=\"+\", 2=\"0.125\", 3=\".125\", 4=\"x^2\", 5=\"^2\", 6=\"2\")\n",
      "m = RegexMatch(\"+0.1x^3\", 1=\"+\", 2=\"0.1\", 3=\".1\", 4=\"x^3\", 5=\"^3\", 6=\"3\")\n"
     ]
    },
    {
     "ename": "InexactError",
     "evalue": "InexactError: Int64(0.5)",
     "output_type": "error",
     "traceback": [
      "InexactError: Int64(0.5)\n",
      "\n",
      "Stacktrace:\n",
      " [1] Int64\n",
      "   @ ./float.jl:994 [inlined]\n",
      " [2] convert\n",
      "   @ ./number.jl:7 [inlined]\n",
      " [3] setindex!(A::Vector{Int64}, x::Float64, i::Int64)\n",
      "   @ Base ./array.jl:976\n",
      " [4] Polynomial(str::String)\n",
      "   @ Main.Poly ~/code/sci-comp-book/julia-output/Polynomial.jl:16\n",
      " [5] top-level scope\n",
      "   @ ~/code/sci-comp-book/julia-output/jl_notebook_cell_df34fa98e69747e1a8f8a730347b8e2f_X11sZmlsZQ==.jl:1"
     ]
    }
   ],
   "source": [
    "Polynomial(\"0.5+0.25x+0.125x^2+0.1x^3\")"
   ]
  },
  {
   "cell_type": "code",
   "execution_count": null,
   "metadata": {},
   "outputs": [
    {
     "data": {
      "text/plain": [
       "1 x^0 + 2 x^1 + 3 x^2"
      ]
     },
     "metadata": {},
     "output_type": "display_data"
    }
   ],
   "source": []
  },
  {
   "cell_type": "code",
   "execution_count": 10,
   "metadata": {},
   "outputs": [
    {
     "data": {
      "text/plain": [
       "\"0 + 1im x^0 + 2 + 0im x^1 + 3 - 2im x^2 + 0 - 1im x^3\""
      ]
     },
     "metadata": {},
     "output_type": "display_data"
    }
   ],
   "source": [
    "string(poly4)"
   ]
  },
  {
   "cell_type": "code",
   "execution_count": 11,
   "metadata": {},
   "outputs": [
    {
     "name": "stdout",
     "output_type": "stream",
     "text": [
      "\u001b[0m\u001b[1mTest Summary: | \u001b[22m\u001b[32m\u001b[1mPass  \u001b[22m\u001b[39m\u001b[36m\u001b[1mTotal  \u001b[22m\u001b[39m\u001b[0m\u001b[1mTime\u001b[22m\n",
      "Base.show     | \u001b[32m   1  \u001b[39m\u001b[36m    1  \u001b[39m\u001b[0m0.0s\n"
     ]
    },
    {
     "data": {
      "text/plain": [
       "Test.DefaultTestSet(\"Base.show\", Any[], 1, false, false, true, 1.732908628704435e9, 1.732908628704488e9, false, \"/Users/pstaab/code/sci-comp-book/julia-output/jl_notebook_cell_df34fa98e69747e1a8f8a730347b8e2f_W4sZmlsZQ==.jl\")"
      ]
     },
     "metadata": {},
     "output_type": "display_data"
    }
   ],
   "source": [
    "@testset \"Base.show\" begin\n",
    "  @test string(p1) == \"1 x^0 + 2 x^1 + 3 x^2\"\n",
    "end"
   ]
  },
  {
   "cell_type": "code",
   "execution_count": null,
   "metadata": {},
   "outputs": [],
   "source": []
  }
 ],
 "metadata": {
  "kernelspec": {
   "display_name": "Julia 1.11.1",
   "language": "julia",
   "name": "julia-1.11"
  },
  "language_info": {
   "file_extension": ".jl",
   "mimetype": "application/julia",
   "name": "julia",
   "version": "1.11.1"
  }
 },
 "nbformat": 4,
 "nbformat_minor": 2
}
