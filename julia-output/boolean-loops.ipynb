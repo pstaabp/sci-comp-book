{
 "cells": [
  {
   "cell_type": "code",
   "execution_count": 1,
   "metadata": {},
   "outputs": [
    {
     "data": {
      "text/plain": [
       "10"
      ]
     },
     "metadata": {},
     "output_type": "display_data"
    }
   ],
   "source": [
    "x=3\n",
    "y=10"
   ]
  },
  {
   "cell_type": "code",
   "execution_count": 2,
   "metadata": {},
   "outputs": [
    {
     "data": {
      "text/plain": [
       "false"
      ]
     },
     "metadata": {},
     "output_type": "display_data"
    }
   ],
   "source": [
    "x>=0 && y==5"
   ]
  },
  {
   "cell_type": "code",
   "execution_count": 3,
   "metadata": {},
   "outputs": [
    {
     "data": {
      "text/plain": [
       "true"
      ]
     },
     "metadata": {},
     "output_type": "display_data"
    }
   ],
   "source": [
    "x >= 0 || y == 5"
   ]
  },
  {
   "cell_type": "code",
   "execution_count": 4,
   "metadata": {},
   "outputs": [
    {
     "data": {
      "text/plain": [
       "true"
      ]
     },
     "metadata": {},
     "output_type": "display_data"
    }
   ],
   "source": [
    "x >= 0 && y > 7 || y == 5"
   ]
  },
  {
   "cell_type": "code",
   "execution_count": 2,
   "metadata": {},
   "outputs": [
    {
     "name": "stdout",
     "output_type": "stream",
     "text": [
      "n = 1\n",
      "n = 2\n",
      "2 is even\n",
      "n = 3\n",
      "n = 4\n",
      "4 is even\n",
      "n = 5\n",
      "n = 6\n",
      "6 is even\n",
      "n = 7\n",
      "n = 8\n",
      "8 is even\n"
     ]
    }
   ],
   "source": [
    "for n=1:8\n",
    "  @show n\n",
    "  if n%2 == 0\n",
    "    println(\"$n is even\")\n",
    "  end\n",
    "end"
   ]
  },
  {
   "cell_type": "code",
   "execution_count": 3,
   "metadata": {},
   "outputs": [
    {
     "name": "stdout",
     "output_type": "stream",
     "text": [
      "n = 1\n",
      "n = 2\n",
      "2 is even\n",
      "n = 3\n",
      "n = 4\n",
      "4 is even\n",
      "n = 5\n",
      "n = 6\n",
      "6 is even\n",
      "n = 7\n",
      "n = 8\n",
      "8 is even\n"
     ]
    }
   ],
   "source": [
    "for n=1:8\n",
    "  @show n\n",
    "  n%2 == 0 && println(\"$n is even\")\n",
    "end"
   ]
  },
  {
   "cell_type": "code",
   "execution_count": 4,
   "metadata": {},
   "outputs": [
    {
     "data": {
      "text/plain": [
       "isOdd (generic function with 1 method)"
      ]
     },
     "metadata": {},
     "output_type": "display_data"
    }
   ],
   "source": [
    "function isOdd(n::Integer)\n",
    "  n >=0 || error(\"The input $n must be non negative\")\n",
    "  n%2 == 1\n",
    "end"
   ]
  },
  {
   "cell_type": "code",
   "execution_count": 5,
   "metadata": {},
   "outputs": [
    {
     "data": {
      "text/plain": [
       "true"
      ]
     },
     "metadata": {},
     "output_type": "display_data"
    }
   ],
   "source": [
    "isOdd(3)"
   ]
  },
  {
   "cell_type": "code",
   "execution_count": 6,
   "metadata": {},
   "outputs": [
    {
     "ename": "ErrorException",
     "evalue": "The input -1 must be non negative",
     "output_type": "error",
     "traceback": [
      "The input -1 must be non negative\n",
      "\n",
      "Stacktrace:\n",
      " [1] error(s::String)\n",
      "   @ Base ./error.jl:35\n",
      " [2] isOdd(n::Int64)\n",
      "   @ Main ~/code/sci-comp-book/julia-output/jl_notebook_cell_df34fa98e69747e1a8f8a730347b8e2f_X34sZmlsZQ==.jl:2\n",
      " [3] top-level scope\n",
      "   @ ~/code/sci-comp-book/julia-output/jl_notebook_cell_df34fa98e69747e1a8f8a730347b8e2f_X36sZmlsZQ==.jl:1"
     ]
    }
   ],
   "source": [
    "isOdd(-1)"
   ]
  },
  {
   "cell_type": "code",
   "execution_count": null,
   "metadata": {},
   "outputs": [],
   "source": [
    "function isOdd(n::Integer)\n",
    "  if !(n >=0)\n",
    "    error(\"The input $n must be non negative\")\n",
    "  end\n",
    "  n%2 == 1\n",
    "end"
   ]
  },
  {
   "cell_type": "code",
   "execution_count": 17,
   "metadata": {},
   "outputs": [
    {
     "data": {
      "text/plain": [
       "bisection (generic function with 1 method)"
      ]
     },
     "metadata": {},
     "output_type": "display_data"
    }
   ],
   "source": [
    "function bisection(f::Function, a::Real, b::Real)\n",
    "  local c\n",
    "  while (b-a) > 1e-6\n",
    "    c = 0.5*(a+b)  # find the midpoint\n",
    "    # test if f(a) and f(c) have opposite signs to determine the new interval\n",
    "    (a,b) = f(a)*f(c) < 0 ? (a,c) : (c,b)\n",
    "  end\n",
    "  c\n",
    "end"
   ]
  },
  {
   "cell_type": "code",
   "execution_count": 18,
   "metadata": {},
   "outputs": [
    {
     "data": {
      "text/plain": [
       "f (generic function with 1 method)"
      ]
     },
     "metadata": {},
     "output_type": "display_data"
    }
   ],
   "source": [
    "f(x) = x^2-2"
   ]
  },
  {
   "cell_type": "code",
   "execution_count": 19,
   "metadata": {},
   "outputs": [
    {
     "data": {
      "text/plain": [
       "1.4142141342163086"
      ]
     },
     "metadata": {},
     "output_type": "display_data"
    }
   ],
   "source": [
    "bisection(f,1,2)"
   ]
  },
  {
   "cell_type": "code",
   "execution_count": 5,
   "metadata": {},
   "outputs": [
    {
     "data": {
      "text/plain": [
       "quadrant (generic function with 1 method)"
      ]
     },
     "metadata": {},
     "output_type": "display_data"
    }
   ],
   "source": [
    "function quadrant(x::Real,y::Real)\n",
    "  if x > 0 && y > 0\n",
    "    return \"I\"\n",
    "  elseif x < 0 && y > 0\n",
    "    return \"II\"\n",
    "  elseif x < 0 && y < 0\n",
    "    return \"III\"\n",
    "  elseif x > 0 && y < 0\n",
    "    return \"IV\"\n",
    "  else\n",
    "    return \"NONE\"\n",
    "  end\n",
    "end"
   ]
  },
  {
   "cell_type": "code",
   "execution_count": 9,
   "metadata": {},
   "outputs": [
    {
     "data": {
      "text/plain": [
       "\"NONE\""
      ]
     },
     "metadata": {},
     "output_type": "display_data"
    }
   ],
   "source": [
    "quadrant(0,-3)"
   ]
  },
  {
   "cell_type": "code",
   "execution_count": 10,
   "metadata": {},
   "outputs": [
    {
     "data": {
      "text/plain": [
       "quadrant2 (generic function with 1 method)"
      ]
     },
     "metadata": {},
     "output_type": "display_data"
    }
   ],
   "source": [
    "function quadrant2(x::Real, y::Real)\n",
    "  x > 0 && y > 0 ? \"I\" :\n",
    "    x < 0 && y > 0 ? \"II\" :\n",
    "    x < 0 && y < 0 ? \"III\" :\n",
    "    x > 0 && y < 0 ? \"IV\" : \"NONE\"\n",
    "end"
   ]
  },
  {
   "cell_type": "code",
   "execution_count": 15,
   "metadata": {},
   "outputs": [
    {
     "data": {
      "text/plain": [
       "\"NONE\""
      ]
     },
     "metadata": {},
     "output_type": "display_data"
    }
   ],
   "source": [
    "quadrant2(0,-3)"
   ]
  },
  {
   "cell_type": "code",
   "execution_count": null,
   "metadata": {},
   "outputs": [],
   "source": [
    "function bisection(f::Function, a::Real, b::Real)\n",
    "  local c\n",
    "  local n = 0\n",
    "  while (b-a) > 1e-6 && n < 10\n",
    "    c = 0.5*(a+b)  # find the midpoint\n",
    "    # test if f(a) and f(c) have opposite signs to determine the new interval\n",
    "    (a,b) = f(a)*f(c) < 0 ? (a,c) : (c,b)\n",
    "    n += 1\n",
    "  end\n",
    "  c\n",
    "end"
   ]
  },
  {
   "cell_type": "code",
   "execution_count": 1,
   "metadata": {},
   "outputs": [
    {
     "name": "stdout",
     "output_type": "stream",
     "text": [
      "n = 1\n",
      "n = 2\n",
      "n = 3\n",
      "n = 4\n",
      "n = 5\n",
      "n = 6\n"
     ]
    }
   ],
   "source": [
    "let\n",
    "  n = 1\n",
    "  while n < 10\n",
    "    @show n\n",
    "    if n > 5\n",
    "      break\n",
    "    end\n",
    "    n += 1\n",
    "  end\n",
    "end"
   ]
  },
  {
   "cell_type": "code",
   "execution_count": 2,
   "metadata": {},
   "outputs": [
    {
     "name": "stdout",
     "output_type": "stream",
     "text": [
      "n = 1\n",
      "n = 2\n",
      "n = 3\n",
      "n = 4\n",
      "n = 5\n",
      "n = 6\n"
     ]
    }
   ],
   "source": [
    "let\n",
    "  n = 1\n",
    "  while n < 10\n",
    "    @show n\n",
    "    n > 5 && break\n",
    "    n += 1\n",
    "  end\n",
    "end"
   ]
  },
  {
   "cell_type": "code",
   "execution_count": 3,
   "metadata": {},
   "outputs": [
    {
     "name": "stdout",
     "output_type": "stream",
     "text": [
      "n = 1\n",
      "n = 2\n",
      "n = 3\n",
      "n = 4\n",
      "n = 5\n",
      "n = 6\n"
     ]
    }
   ],
   "source": [
    "let\n",
    "  n = 1\n",
    "  while true\n",
    "    @show n\n",
    "    n > 5 && break\n",
    "    n += 1\n",
    "  end\n",
    "end"
   ]
  },
  {
   "cell_type": "code",
   "execution_count": 4,
   "metadata": {},
   "outputs": [
    {
     "data": {
      "text/plain": [
       "bisection (generic function with 1 method)"
      ]
     },
     "metadata": {},
     "output_type": "display_data"
    }
   ],
   "source": [
    "function bisection(f::Function, a::Real, b::Real)\n",
    "  local c\n",
    "  local n = 0\n",
    "  while true\n",
    "    c = 0.5*(a+b)  # find the midpoint\n",
    "    # test if f(a) and f(c) have opposite signs to determine the new interval\n",
    "    (a,b) = f(a)*f(c) < 0 ? (a,c) : (c,b)\n",
    "    ((b-a) < 1e-6 || n > 10) && break\n",
    "    n += 1\n",
    "  end\n",
    "  c\n",
    "end"
   ]
  },
  {
   "cell_type": "code",
   "execution_count": 11,
   "metadata": {},
   "outputs": [
    {
     "name": "stdout",
     "output_type": "stream",
     "text": [
      "n = 1\n",
      "n = 2\n",
      "n = 3\n",
      "n = 4\n",
      "n = 5\n",
      "n = 6\n"
     ]
    }
   ],
   "source": [
    "let\n",
    "  n = 0\n",
    "  while true\n",
    "    n > 6 && break\n",
    "    n += 1\n",
    "    @show n\n",
    "  end\n",
    "end"
   ]
  },
  {
   "cell_type": "code",
   "execution_count": 12,
   "metadata": {},
   "outputs": [
    {
     "name": "stdout",
     "output_type": "stream",
     "text": [
      "n = 2\n",
      "n = 4\n",
      "n = 6\n"
     ]
    }
   ],
   "source": [
    "let\n",
    "  n = 0\n",
    "  while true\n",
    "    n > 6 && break\n",
    "    n += 1\n",
    "    n % 2 == 1 && continue\n",
    "    @show n\n",
    "  end\n",
    "end"
   ]
  },
  {
   "cell_type": "code",
   "execution_count": null,
   "metadata": {},
   "outputs": [
    {
     "data": {
      "text/plain": [
       "playDieGame (generic function with 1 method)"
      ]
     },
     "metadata": {},
     "output_type": "display_data"
    }
   ],
   "source": [
    "function playDieGame()\n",
    "  local roll = rand(1:6)\n",
    "  @show roll\n",
    "  local n = 1\n",
    "  local win = roll != 1\n",
    "  while roll != 1 && n <=10\n",
    "    roll = rand(1:6)\n",
    "    @show roll\n",
    "    roll == 1 && (win = false)\n",
    "    n += 1\n",
    "  end\n",
    "  win\n",
    "end"
   ]
  },
  {
   "cell_type": "code",
   "execution_count": 96,
   "metadata": {},
   "outputs": [
    {
     "name": "stdout",
     "output_type": "stream",
     "text": [
      "roll = 6\n",
      "roll = 5\n",
      "roll = 1\n"
     ]
    },
    {
     "data": {
      "text/plain": [
       "false"
      ]
     },
     "metadata": {},
     "output_type": "display_data"
    }
   ],
   "source": [
    "playDieGame()"
   ]
  },
  {
   "cell_type": "code",
   "execution_count": 159,
   "metadata": {},
   "outputs": [
    {
     "data": {
      "text/plain": [
       "playDieGame (generic function with 1 method)"
      ]
     },
     "metadata": {},
     "output_type": "display_data"
    }
   ],
   "source": [
    "function playDieGame()\n",
    "  for n=1:10\n",
    "    roll = rand(1:6)\n",
    "    @show roll\n",
    "    roll == 1 && return false\n",
    "    n == 10 && return true\n",
    "  end\n",
    "end"
   ]
  },
  {
   "cell_type": "code",
   "execution_count": 165,
   "metadata": {},
   "outputs": [
    {
     "name": "stdout",
     "output_type": "stream",
     "text": [
      "roll = 6\n",
      "roll = 3\n",
      "roll = 5\n",
      "roll = 6\n",
      "roll = 6\n",
      "roll = 3\n",
      "roll = 4\n",
      "roll = 4\n",
      "roll = 4\n",
      "roll = 6\n"
     ]
    },
    {
     "data": {
      "text/plain": [
       "true"
      ]
     },
     "metadata": {},
     "output_type": "display_data"
    }
   ],
   "source": [
    "playDieGame()"
   ]
  },
  {
   "cell_type": "code",
   "execution_count": 166,
   "metadata": {},
   "outputs": [
    {
     "data": {
      "text/plain": [
       "playDieGame (generic function with 1 method)"
      ]
     },
     "metadata": {},
     "output_type": "display_data"
    }
   ],
   "source": [
    "function playDieGame()\n",
    "  for _=1:10\n",
    "    rand(1:6) == 1 && return false\n",
    "  end\n",
    "  true\n",
    "end"
   ]
  },
  {
   "cell_type": "code",
   "execution_count": 173,
   "metadata": {},
   "outputs": [
    {
     "data": {
      "text/plain": [
       "false"
      ]
     },
     "metadata": {},
     "output_type": "display_data"
    }
   ],
   "source": [
    "playDieGame()"
   ]
  },
  {
   "cell_type": "code",
   "execution_count": 175,
   "metadata": {},
   "outputs": [
    {
     "name": "stdout",
     "output_type": "stream",
     "text": [
      "n = 1\n",
      "n = 2\n",
      "n = 3\n",
      "n = 4\n",
      "n = 5\n"
     ]
    }
   ],
   "source": [
    "\n",
    "for n=1:10\n",
    "  @show n\n",
    "  n == 5 && break\n",
    "end\n"
   ]
  },
  {
   "cell_type": "code",
   "execution_count": 176,
   "metadata": {},
   "outputs": [
    {
     "name": "stdout",
     "output_type": "stream",
     "text": [
      "n = 1\n",
      "n = 3\n",
      "n = 5\n",
      "n = 7\n",
      "n = 9\n"
     ]
    }
   ],
   "source": [
    "for n=1:10\n",
    "  n % 2 == 0 && continue\n",
    "  @show n\n",
    "end"
   ]
  },
  {
   "cell_type": "code",
   "execution_count": 113,
   "metadata": {},
   "outputs": [
    {
     "data": {
      "text/plain": [
       "UnitRange{Int64}"
      ]
     },
     "metadata": {},
     "output_type": "display_data"
    }
   ],
   "source": [
    "typeof(1:4)"
   ]
  },
  {
   "cell_type": "code",
   "execution_count": 9,
   "metadata": {},
   "outputs": [
    {
     "data": {
      "text/plain": [
       "StepRangeLen{Float64, Base.TwicePrecision{Float64}, Base.TwicePrecision{Float64}, Int64}"
      ]
     },
     "metadata": {},
     "output_type": "display_data"
    }
   ],
   "source": [
    "typeof(1.0:4.0)"
   ]
  },
  {
   "cell_type": "code",
   "execution_count": 10,
   "metadata": {},
   "outputs": [
    {
     "data": {
      "text/plain": [
       "StepRange{Int64, Int64}"
      ]
     },
     "metadata": {},
     "output_type": "display_data"
    }
   ],
   "source": [
    "typeof(1:2:11)"
   ]
  },
  {
   "cell_type": "code",
   "execution_count": 11,
   "metadata": {},
   "outputs": [
    {
     "data": {
      "text/plain": [
       "3.0:2.0:11.0"
      ]
     },
     "metadata": {},
     "output_type": "display_data"
    }
   ],
   "source": [
    "range(3,11,length=5)"
   ]
  },
  {
   "cell_type": "code",
   "execution_count": 12,
   "metadata": {},
   "outputs": [
    {
     "data": {
      "text/plain": [
       "5-element LinRange{Float64, Int64}:\n",
       " 3.0, 5.0, 7.0, 9.0, 11.0"
      ]
     },
     "metadata": {},
     "output_type": "display_data"
    }
   ],
   "source": [
    "LinRange(3,11,5)"
   ]
  },
  {
   "cell_type": "code",
   "execution_count": 180,
   "metadata": {},
   "outputs": [],
   "source": [
    "using BenchmarkTools"
   ]
  },
  {
   "cell_type": "code",
   "execution_count": null,
   "metadata": {},
   "outputs": [],
   "source": []
  }
 ],
 "metadata": {
  "kernelspec": {
   "display_name": "Julia 1.11.2",
   "language": "julia",
   "name": "julia-1.11"
  },
  "language_info": {
   "file_extension": ".jl",
   "mimetype": "application/julia",
   "name": "julia",
   "version": "1.11.2"
  }
 },
 "nbformat": 4,
 "nbformat_minor": 2
}
