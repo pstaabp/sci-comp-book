{
 "cells": [
  {
   "cell_type": "code",
   "execution_count": 1,
   "metadata": {},
   "outputs": [
    {
     "data": {
      "text/plain": [
       "13×13 Matrix{Int64}:\n",
       " 0  1   0   0   0   0  0  0  0  0  0  0   0\n",
       " 0  0   0   0   0   2  0  0  0  0  0  0   0\n",
       " 0  0  -1   0   0   0  0  0  0  0  0  0   0\n",
       " 0  0   0   0   0   0  0  0  0  1  0  0   0\n",
       " 0  0   0   0  -2   0  0  0  0  0  0  0   0\n",
       " 1  0   0   0   0   0  0  0  0  0  0  0   0\n",
       " 0  0   0   0   0   0  0  0  0  0  0  0  -1\n",
       " 0  0   0   0   0   0  2  0  0  0  0  0   0\n",
       " 0  0   0  -1   0   0  0  0  0  0  0  0   0\n",
       " 0  0   0   0   0  -2  0  0  0  0  0  0   0\n",
       " 0  0   0   0   0   0  0  0  0  0  0  1   0\n",
       " 0  0   0   0   0   0  0  0  0  0  2  0   0\n",
       " 0  0   0   0   0   0  0  0  1  0  0  0   0"
      ]
     },
     "metadata": {},
     "output_type": "display_data"
    }
   ],
   "source": [
    "A = [\n",
    "        0   1   0   0   0   0   0   0   0   0   0   0   0 ;\n",
    "        0   0   0   0   0   2   0   0   0   0   0   0   0 ;\n",
    "        0   0   -1   0   0   0   0   0   0   0   0   0   0 ;\n",
    "        0   0   0   0   0   0   0   0   0   1   0   0   0 ;\n",
    "        0   0   0   0   -2   0   0   0   0   0   0   0   0 ;\n",
    "        1   0   0   0   0   0   0   0   0   0   0   0   0 ;\n",
    "        0   0   0   0   0   0   0   0   0   0   0   0   -1 ;\n",
    "        0   0   0   0   0   0   2   0   0   0   0   0   0 ;\n",
    "        0   0   0   -1   0   0   0   0   0   0   0   0   0 ;\n",
    "        0   0   0   0   0   -2   0   0   0   0   0   0   0 ;\n",
    "        0   0   0   0   0   0   0   0   0   0   0    1  0 ;\n",
    "        0   0   0   0   0   0   0   0   0   0   2   0   0 ;\n",
    "        0   0   0   0   0   0   0   0   1   0   0   0   0 ]"
   ]
  },
  {
   "cell_type": "code",
   "execution_count": 2,
   "metadata": {},
   "outputs": [
    {
     "data": {
      "text/plain": [
       "1352"
      ]
     },
     "metadata": {},
     "output_type": "display_data"
    }
   ],
   "source": [
    "sizeof(A)"
   ]
  },
  {
   "cell_type": "code",
   "execution_count": 3,
   "metadata": {},
   "outputs": [
    {
     "data": {
      "text/plain": [
       "13×13 SparseMatrixCSC{Int64, Int64} with 13 stored entries:\n",
       " ⋅  1   ⋅   ⋅   ⋅   ⋅  ⋅  ⋅  ⋅  ⋅  ⋅  ⋅   ⋅\n",
       " ⋅  ⋅   ⋅   ⋅   ⋅   2  ⋅  ⋅  ⋅  ⋅  ⋅  ⋅   ⋅\n",
       " ⋅  ⋅  -1   ⋅   ⋅   ⋅  ⋅  ⋅  ⋅  ⋅  ⋅  ⋅   ⋅\n",
       " ⋅  ⋅   ⋅   ⋅   ⋅   ⋅  ⋅  ⋅  ⋅  1  ⋅  ⋅   ⋅\n",
       " ⋅  ⋅   ⋅   ⋅  -2   ⋅  ⋅  ⋅  ⋅  ⋅  ⋅  ⋅   ⋅\n",
       " 1  ⋅   ⋅   ⋅   ⋅   ⋅  ⋅  ⋅  ⋅  ⋅  ⋅  ⋅   ⋅\n",
       " ⋅  ⋅   ⋅   ⋅   ⋅   ⋅  ⋅  ⋅  ⋅  ⋅  ⋅  ⋅  -1\n",
       " ⋅  ⋅   ⋅   ⋅   ⋅   ⋅  2  ⋅  ⋅  ⋅  ⋅  ⋅   ⋅\n",
       " ⋅  ⋅   ⋅  -1   ⋅   ⋅  ⋅  ⋅  ⋅  ⋅  ⋅  ⋅   ⋅\n",
       " ⋅  ⋅   ⋅   ⋅   ⋅  -2  ⋅  ⋅  ⋅  ⋅  ⋅  ⋅   ⋅\n",
       " ⋅  ⋅   ⋅   ⋅   ⋅   ⋅  ⋅  ⋅  ⋅  ⋅  ⋅  1   ⋅\n",
       " ⋅  ⋅   ⋅   ⋅   ⋅   ⋅  ⋅  ⋅  ⋅  ⋅  2  ⋅   ⋅\n",
       " ⋅  ⋅   ⋅   ⋅   ⋅   ⋅  ⋅  ⋅  1  ⋅  ⋅  ⋅   ⋅"
      ]
     },
     "metadata": {},
     "output_type": "display_data"
    }
   ],
   "source": [
    "using SparseArrays\n",
    "SA = SparseMatrixCSC(A)"
   ]
  },
  {
   "cell_type": "code",
   "execution_count": 4,
   "metadata": {},
   "outputs": [
    {
     "data": {
      "text/plain": [
       "40"
      ]
     },
     "metadata": {},
     "output_type": "display_data"
    }
   ],
   "source": [
    "sizeof(SA)"
   ]
  }
 ],
 "metadata": {
  "kernelspec": {
   "display_name": "Julia 1.11.1",
   "language": "julia",
   "name": "julia-1.11"
  },
  "language_info": {
   "file_extension": ".jl",
   "mimetype": "application/julia",
   "name": "julia",
   "version": "1.11.1"
  }
 },
 "nbformat": 4,
 "nbformat_minor": 2
}
