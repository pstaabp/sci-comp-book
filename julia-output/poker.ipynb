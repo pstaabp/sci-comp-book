{
 "cells": [
  {
   "cell_type": "code",
   "execution_count": 13,
   "metadata": {},
   "outputs": [],
   "source": [
    "using Revise, BenchmarkTools\n",
    "includet(\"PlayingCards.jl\")\n",
    "using .PlayingCards"
   ]
  },
  {
   "cell_type": "code",
   "execution_count": 4,
   "metadata": {},
   "outputs": [
    {
     "data": {
      "text/plain": [
       "[4♠,4♢,4♣,7♠,7♡]"
      ]
     },
     "metadata": {},
     "output_type": "display_data"
    }
   ],
   "source": [
    "fh1 = Hand([Card(4,1),Card(4,3),Card(4,4),Card(7,1),Card(7,2)])"
   ]
  },
  {
   "cell_type": "code",
   "execution_count": 5,
   "metadata": {},
   "outputs": [
    {
     "data": {
      "text/plain": [
       "[4♠,4♢,7♣,7♠,7♡]"
      ]
     },
     "metadata": {},
     "output_type": "display_data"
    }
   ],
   "source": [
    "fh2 = Hand([Card(4,1),Card(4,3),Card(7,4),Card(7,1),Card(7,2)])"
   ]
  },
  {
   "cell_type": "code",
   "execution_count": 6,
   "metadata": {},
   "outputs": [
    {
     "data": {
      "text/plain": [
       "[2♠,4♢,4♣,7♠,7♡]"
      ]
     },
     "metadata": {},
     "output_type": "display_data"
    }
   ],
   "source": [
    "fh3 = Hand([Card(2,1),Card(4,3),Card(4,4),Card(7,1),Card(7,2)])\n"
   ]
  },
  {
   "cell_type": "code",
   "execution_count": 7,
   "metadata": {},
   "outputs": [
    {
     "data": {
      "text/plain": [
       "isFullHouse (generic function with 1 method)"
      ]
     },
     "metadata": {},
     "output_type": "display_data"
    }
   ],
   "source": [
    "function isFullHouse(h::Hand)\n",
    "  local r = sort(map(c -> c.rank, h.cards))\n",
    "  r[2]==r[1] && r[5]==r[4] && r[2] != r[4] && (r[3]==r[2] || r[4]==r[3])\n",
    "&"
   ]
  },
  {
   "cell_type": "code",
   "execution_count": 9,
   "metadata": {},
   "outputs": [
    {
     "data": {
      "text/plain": [
       "(true, true, false)"
      ]
     },
     "metadata": {},
     "output_type": "display_data"
    }
   ],
   "source": [
    "isFullHouse(fh1),isFullHouse(fh2), isFullHouse(fh3)"
   ]
  },
  {
   "cell_type": "code",
   "execution_count": 17,
   "metadata": {},
   "outputs": [
    {
     "data": {
      "text/plain": [
       "runTrials (generic function with 1 method)"
      ]
     },
     "metadata": {},
     "output_type": "display_data"
    }
   ],
   "source": [
    "using Random\n",
    "function runTrials(f::Function, trials::Integer)\n",
    "  local deck = collect(1:52) # creates the array [1,2,3,...,52]\n",
    "  local num_hands=0\n",
    "  for i=1:trials\n",
    "    shuffle!(deck)\n",
    "    h = Hand(map(Card,deck[1:5]))  # creates a hand of the first five cards of the shuffled deck\n",
    "    if(f(h))\n",
    "        num_hands+=1\n",
    "    &\n",
    "  &\n",
    "  num_hands/trials\n",
    "&"
   ]
  },
  {
   "cell_type": "code",
   "execution_count": 18,
   "metadata": {},
   "outputs": [
    {
     "name": "stdout",
     "output_type": "stream",
     "text": [
      "  690.272 ms (8000002 allocations: 411.99 MiB)\n"
     ]
    },
    {
     "data": {
      "text/plain": [
       "0.001408"
      ]
     },
     "metadata": {},
     "output_type": "display_data"
    }
   ],
   "source": [
    "@btime runTrials(isFullHouse,1_000_000)"
   ]
  },
  {
   "cell_type": "code",
   "execution_count": 20,
   "metadata": {},
   "outputs": [
    {
     "data": {
      "text/plain": [
       "isOneSuit (generic function with 1 method)"
      ]
     },
     "metadata": {},
     "output_type": "display_data"
    }
   ],
   "source": [
    "function isOneSuit(h::Hand)\n",
    "  local s = map(c -> c.suit,h.cards)\n",
    "  s[1]==s[2]==s[3]==s[4]==s[5]\n",
    "&"
   ]
  },
  {
   "cell_type": "code",
   "execution_count": 22,
   "metadata": {},
   "outputs": [
    {
     "data": {
      "text/plain": [
       "hasRun (generic function with 1 method)"
      ]
     },
     "metadata": {},
     "output_type": "display_data"
    }
   ],
   "source": [
    "function hasRun(h::Hand)\n",
    "  local r = sort(map(c -> c.rank,h.cards))\n",
    "  r[2]==r[1]+1 && r[3]==r[2]+1 && r[4]==r[3]+1 && r[5]==r[4]+1 ||\n",
    "  r[1]==1 && r[2]==10 && r[3]==11 && r[4]==12 && r[5]==13 ## ace high run\n",
    "&"
   ]
  },
  {
   "cell_type": "code",
   "execution_count": 23,
   "metadata": {},
   "outputs": [
    {
     "data": {
      "text/plain": [
       "isRoyalFlush (generic function with 1 method)"
      ]
     },
     "metadata": {},
     "output_type": "display_data"
    }
   ],
   "source": [
    "function isRoyalFlush(h::Hand)\n",
    "  local r = sort(map(c -> c.rank,h.cards))\n",
    "  r[1]==1 && r[2]==10 && r[3]==11 && r[4]==12 && r[5]==13 && isOneSuit(h)\n",
    "&"
   ]
  },
  {
   "cell_type": "code",
   "execution_count": 25,
   "metadata": {},
   "outputs": [
    {
     "data": {
      "text/plain": [
       "2.0e-6"
      ]
     },
     "metadata": {},
     "output_type": "display_data"
    }
   ],
   "source": [
    "runTrials(isRoyalFlush, 10_000_000)"
   ]
  },
  {
   "cell_type": "code",
   "execution_count": 29,
   "metadata": {},
   "outputs": [
    {
     "data": {
      "text/plain": [
       "isTwoPair (generic function with 1 method)"
      ]
     },
     "metadata": {},
     "output_type": "display_data"
    }
   ],
   "source": [
    "function isTwoPair(h::Hand)\n",
    "  local r = sort(map(c -> c.rank,h.cards))\n",
    "  (r[1]==r[2] && r[3] == r[4]) ||\n",
    "  (r[1]==r[2] && r[4] == r[5]) ||\n",
    "  (r[2]==r[3] && r[4] == r[5])\n",
    "end"
   ]
  },
  {
   "cell_type": "code",
   "execution_count": 30,
   "metadata": {},
   "outputs": [
    {
     "data": {
      "text/plain": [
       "0.049242"
      ]
     },
     "metadata": {},
     "output_type": "display_data"
    }
   ],
   "source": [
    "runTrials(isTwoPair, 1_000_000)"
   ]
  },
  {
   "cell_type": "code",
   "execution_count": 31,
   "metadata": {},
   "outputs": [
    {
     "data": {
      "text/plain": [
       "isTwoPair (generic function with 1 method)"
      ]
     },
     "metadata": {},
     "output_type": "display_data"
    }
   ],
   "source": [
    "function isTwoPair(h::Hand)\n",
    "  local r = sort(map(c -> c.rank,h.cards))\n",
    "  ! isFullHouse(h) &&\n",
    "    # ! isFourOfAKind(h) ## remove the # at the beginning of the line if you have a isFourOfAKind function\n",
    "  ( (r[1]==r[2] && r[3] == r[4]) ||\n",
    "    (r[1]==r[2] && r[4] == r[5]) ||\n",
    "    (r[2]==r[3] && r[4] == r[5]) )\n",
    "end"
   ]
  },
  {
   "cell_type": "code",
   "execution_count": 33,
   "metadata": {},
   "outputs": [
    {
     "data": {
      "text/plain": [
       "0.047795"
      ]
     },
     "metadata": {},
     "output_type": "display_data"
    }
   ],
   "source": [
    "runTrials(isTwoPair, 10_000_000)"
   ]
  },
  {
   "cell_type": "code",
   "execution_count": null,
   "metadata": {},
   "outputs": [],
   "source": []
  }
 ],
 "metadata": {
  "kernelspec": {
   "display_name": "Julia 1.11.0-rc1",
   "language": "julia",
   "name": "julia-1.11"
  },
  "language_info": {
   "file_extension": ".jl",
   "mimetype": "application/julia",
   "name": "julia",
   "version": "1.11.0-rc1"
  }
 },
 "nbformat": 4,
 "nbformat_minor": 2
}
