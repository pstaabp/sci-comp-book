{
 "cells": [
  {
   "cell_type": "code",
   "execution_count": 1,
   "metadata": {},
   "outputs": [],
   "source": [
    "using Plots"
   ]
  },
  {
   "cell_type": "code",
   "execution_count": 2,
   "metadata": {},
   "outputs": [
    {
     "data": {
      "text/plain": [
       "3.0418396189294032"
      ]
     },
     "metadata": {},
     "output_type": "display_data"
    }
   ],
   "source": [
    "4*(1-1/3+1/5-1/7+1/9-1/11+1/13-1/15+1/17-1/19)"
   ]
  },
  {
   "cell_type": "code",
   "execution_count": 3,
   "metadata": {},
   "outputs": [
    {
     "data": {
      "text/plain": [
       "calcPi (generic function with 1 method)"
      ]
     },
     "metadata": {},
     "output_type": "display_data"
    }
   ],
   "source": [
    "function calcPi(n::Integer)\n",
    "  n > 0 || throw(ArgumentError(\"The input n must be positive.\"))\n",
    "  local sum = 1.0\n",
    "  for k=1:n\n",
    "    sum += (-1)^k/(2k+1)\n",
    "  end\n",
    "  4*sum\n",
    "end\n"
   ]
  },
  {
   "cell_type": "code",
   "execution_count": 4,
   "metadata": {},
   "outputs": [
    {
     "data": {
      "text/plain": [
       "3.1416926435905346"
      ]
     },
     "metadata": {},
     "output_type": "display_data"
    }
   ],
   "source": [
    "pi10_000 = calcPi(10_000)"
   ]
  },
  {
   "cell_type": "code",
   "execution_count": 7,
   "metadata": {},
   "outputs": [
    {
     "data": {
      "text/plain": [
       "absErr (generic function with 1 method)"
      ]
     },
     "metadata": {},
     "output_type": "display_data"
    }
   ],
   "source": [
    "absErr(x::Real)=abs(x-pi)"
   ]
  },
  {
   "cell_type": "code",
   "execution_count": 6,
   "metadata": {},
   "outputs": [
    {
     "data": {
      "text/plain": [
       "9.99900007414567e-5"
      ]
     },
     "metadata": {},
     "output_type": "display_data"
    }
   ],
   "source": [
    "absErr(pi10_000)"
   ]
  },
  {
   "cell_type": "code",
   "execution_count": 7,
   "metadata": {},
   "outputs": [
    {
     "data": {
      "text/plain": [
       "7-element Vector{Float64}:\n",
       " 0.09072315581580082\n",
       " 0.009900747481198291\n",
       " 0.0009990007497511222\n",
       " 9.99900007414567e-5\n",
       " 9.999899927226608e-6\n",
       " 9.999989813991306e-7\n",
       " 9.999998829002266e-8"
      ]
     },
     "metadata": {},
     "output_type": "display_data"
    }
   ],
   "source": [
    "errors = map(n->absErr(calcPi(10^n)),1:7)"
   ]
  },
  {
   "cell_type": "code",
   "execution_count": 8,
   "metadata": {},
   "outputs": [
    {
     "data": {
      "image/png": "[encoded data removed]",
      "image/svg+xml": [
       "<?xml version=\"1.0\" encoding=\"utf-8\"?>\n",
       "<svg xmlns=\"http://www.w3.org/2000/svg\" xmlns:xlink=\"http://www.w3.org/1999/xlink\" width=\"600\" height=\"400\" viewBox=\"0 0 2400 1600\">\n",
       "<defs>\n",
       "  <clipPath id=\"clip480\">\n",
       "    <rect x=\"0\" y=\"0\" width=\"2400\" height=\"1600\"/>\n",
       "  </clipPath>\n",
       "</defs>\n",
       "<path clip-path=\"url(#clip480)\" d=\"M0 1600 L2400 1600 L2400 8.88178e-14 L0 8.88178e-14  Z\" fill=\"#ffffff\" fill-rule=\"evenodd\" fill-opacity=\"1\"/>\n",
       "<defs>\n",
       "  <clipPath id=\"clip481\">\n",
       "    <rect x=\"480\" y=\"0\" width=\"1681\" height=\"1600\"/>\n",
       "  </clipPath>\n",
       "</defs>\n",
       "<path clip-path=\"url(#clip480)\" d=\"M112.177 1486.45 L2352.76 1486.45 L2352.76 47.2441 L112.177 47.2441  Z\" fill=\"#ffffff\" fill-rule=\"evenodd\" fill-opacity=\"1\"/>\n",
       "<defs>\n",
       "  <clipPath id=\"clip482\">\n",
       "    <rect x=\"112\" y=\"47\" width=\"2242\" height=\"1440\"/>\n",
       "  </clipPath>\n",
       "</defs>\n",
       "<polyline clip-path=\"url(#clip482)\" style=\"stroke:#000000; stroke-linecap:round; stroke-linejoin:round; stroke-width:2; stroke-opacity:0.1; fill:none\" points=\"175.59,1486.45 175.59,47.2441 \"/>\n",
       "<polyline clip-path=\"url(#clip482)\" style=\"stroke:#000000; stroke-linecap:round; stroke-linejoin:round; stroke-width:2; stroke-opacity:0.1; fill:none\" points=\"527.882,1486.45 527.882,47.2441 \"/>\n",
       "<polyline clip-path=\"url(#clip482)\" style=\"stroke:#000000; stroke-linecap:round; stroke-linejoin:round; stroke-width:2; stroke-opacity:0.1; fill:none\" points=\"880.174,1486.45 880.174,47.2441 \"/>\n",
       "<polyline clip-path=\"url(#clip482)\" style=\"stroke:#000000; stroke-linecap:round; stroke-linejoin:round; stroke-width:2; stroke-opacity:0.1; fill:none\" points=\"1232.47,1486.45 1232.47,47.2441 \"/>\n",
       "<polyline clip-path=\"url(#clip482)\" style=\"stroke:#000000; stroke-linecap:round; stroke-linejoin:round; stroke-width:2; stroke-opacity:0.1; fill:none\" points=\"1584.76,1486.45 1584.76,47.2441 \"/>\n",
       "<polyline clip-path=\"url(#clip482)\" style=\"stroke:#000000; stroke-linecap:round; stroke-linejoin:round; stroke-width:2; stroke-opacity:0.1; fill:none\" points=\"1937.05,1486.45 1937.05,47.2441 \"/>\n",
       "<polyline clip-path=\"url(#clip482)\" style=\"stroke:#000000; stroke-linecap:round; stroke-linejoin:round; stroke-width:2; stroke-opacity:0.1; fill:none\" points=\"2289.34,1486.45 2289.34,47.2441 \"/>\n",
       "<polyline clip-path=\"url(#clip480)\" style=\"stroke:#000000; stroke-linecap:round; stroke-linejoin:round; stroke-width:4; stroke-opacity:1; fill:none\" points=\"112.177,1486.45 2352.76,1486.45 \"/>\n",
       "<polyline clip-path=\"url(#clip480)\" style=\"stroke:#000000; stroke-linecap:round; stroke-linejoin:round; stroke-width:4; stroke-opacity:1; fill:none\" points=\"175.59,1486.45 175.59,1467.55 \"/>\n",
       "<polyline clip-path=\"url(#clip480)\" style=\"stroke:#000000; stroke-linecap:round; stroke-linejoin:round; stroke-width:4; stroke-opacity:1; fill:none\" points=\"527.882,1486.45 527.882,1467.55 \"/>\n",
       "<polyline clip-path=\"url(#clip480)\" style=\"stroke:#000000; stroke-linecap:round; stroke-linejoin:round; stroke-width:4; stroke-opacity:1; fill:none\" points=\"880.174,1486.45 880.174,1467.55 \"/>\n",
       "<polyline clip-path=\"url(#clip480)\" style=\"stroke:#000000; stroke-linecap:round; stroke-linejoin:round; stroke-width:4; stroke-opacity:1; fill:none\" points=\"1232.47,1486.45 1232.47,1467.55 \"/>\n",
       "<polyline clip-path=\"url(#clip480)\" style=\"stroke:#000000; stroke-linecap:round; stroke-linejoin:round; stroke-width:4; stroke-opacity:1; fill:none\" points=\"1584.76,1486.45 1584.76,1467.55 \"/>\n",
       "<polyline clip-path=\"url(#clip480)\" style=\"stroke:#000000; stroke-linecap:round; stroke-linejoin:round; stroke-width:4; stroke-opacity:1; fill:none\" points=\"1937.05,1486.45 1937.05,1467.55 \"/>\n",
       "<polyline clip-path=\"url(#clip480)\" style=\"stroke:#000000; stroke-linecap:round; stroke-linejoin:round; stroke-width:4; stroke-opacity:1; fill:none\" points=\"2289.34,1486.45 2289.34,1467.55 \"/>\n",
       "<path clip-path=\"url(#clip480)\" d=\"M165.972 1544.91 L173.611 1544.91 L173.611 1518.55 L165.3 1520.21 L165.3 1515.95 L173.564 1514.29 L178.24 1514.29 L178.24 1544.91 L185.879 1544.91 L185.879 1548.85 L165.972 1548.85 L165.972 1544.91 Z\" fill=\"#000000\" fill-rule=\"nonzero\" fill-opacity=\"1\" /><path clip-path=\"url(#clip480)\" d=\"M522.535 1544.91 L538.854 1544.91 L538.854 1548.85 L516.91 1548.85 L516.91 1544.91 Q519.572 1542.16 524.155 1537.53 Q528.762 1532.88 529.942 1531.53 Q532.188 1529.01 533.067 1527.27 Q533.97 1525.51 533.97 1523.82 Q533.97 1521.07 532.026 1519.33 Q530.104 1517.6 527.002 1517.6 Q524.803 1517.6 522.35 1518.36 Q519.919 1519.13 517.141 1520.68 L517.141 1515.95 Q519.965 1514.82 522.419 1514.24 Q524.873 1513.66 526.91 1513.66 Q532.28 1513.66 535.475 1516.35 Q538.669 1519.03 538.669 1523.52 Q538.669 1525.65 537.859 1527.57 Q537.072 1529.47 534.965 1532.07 Q534.387 1532.74 531.285 1535.95 Q528.183 1539.15 522.535 1544.91 Z\" fill=\"#000000\" fill-rule=\"nonzero\" fill-opacity=\"1\" /><path clip-path=\"url(#clip480)\" d=\"M884.422 1530.21 Q887.778 1530.93 889.653 1533.2 Q891.552 1535.47 891.552 1538.8 Q891.552 1543.92 888.033 1546.72 Q884.515 1549.52 878.033 1549.52 Q875.857 1549.52 873.542 1549.08 Q871.251 1548.66 868.797 1547.81 L868.797 1543.29 Q870.741 1544.43 873.056 1545.01 Q875.371 1545.58 877.894 1545.58 Q882.292 1545.58 884.584 1543.85 Q886.899 1542.11 886.899 1538.8 Q886.899 1535.75 884.746 1534.03 Q882.616 1532.3 878.797 1532.3 L874.769 1532.3 L874.769 1528.45 L878.982 1528.45 Q882.431 1528.45 884.26 1527.09 Q886.089 1525.7 886.089 1523.11 Q886.089 1520.45 884.19 1519.03 Q882.315 1517.6 878.797 1517.6 Q876.876 1517.6 874.677 1518.01 Q872.478 1518.43 869.839 1519.31 L869.839 1515.14 Q872.501 1514.4 874.816 1514.03 Q877.153 1513.66 879.214 1513.66 Q884.538 1513.66 887.64 1516.09 Q890.741 1518.5 890.741 1522.62 Q890.741 1525.49 889.098 1527.48 Q887.454 1529.45 884.422 1530.21 Z\" fill=\"#000000\" fill-rule=\"nonzero\" fill-opacity=\"1\" /><path clip-path=\"url(#clip480)\" d=\"M1235.48 1518.36 L1223.67 1536.81 L1235.48 1536.81 L1235.48 1518.36 M1234.25 1514.29 L1240.13 1514.29 L1240.13 1536.81 L1245.06 1536.81 L1245.06 1540.7 L1240.13 1540.7 L1240.13 1548.85 L1235.48 1548.85 L1235.48 1540.7 L1219.87 1540.7 L1219.87 1536.19 L1234.25 1514.29 Z\" fill=\"#000000\" fill-rule=\"nonzero\" fill-opacity=\"1\" /><path clip-path=\"url(#clip480)\" d=\"M1575.04 1514.29 L1593.39 1514.29 L1593.39 1518.22 L1579.32 1518.22 L1579.32 1526.7 Q1580.34 1526.35 1581.36 1526.19 Q1582.37 1526 1583.39 1526 Q1589.18 1526 1592.56 1529.17 Q1595.94 1532.34 1595.94 1537.76 Q1595.94 1543.34 1592.47 1546.44 Q1588.99 1549.52 1582.68 1549.52 Q1580.5 1549.52 1578.23 1549.15 Q1575.99 1548.78 1573.58 1548.04 L1573.58 1543.34 Q1575.66 1544.47 1577.88 1545.03 Q1580.11 1545.58 1582.58 1545.58 Q1586.59 1545.58 1588.93 1543.48 Q1591.26 1541.37 1591.26 1537.76 Q1591.26 1534.15 1588.93 1532.04 Q1586.59 1529.94 1582.58 1529.94 Q1580.71 1529.94 1578.83 1530.35 Q1576.98 1530.77 1575.04 1531.65 L1575.04 1514.29 Z\" fill=\"#000000\" fill-rule=\"nonzero\" fill-opacity=\"1\" /><path clip-path=\"url(#clip480)\" d=\"M1937.46 1529.7 Q1934.31 1529.7 1932.46 1531.86 Q1930.63 1534.01 1930.63 1537.76 Q1930.63 1541.49 1932.46 1543.66 Q1934.31 1545.82 1937.46 1545.82 Q1940.6 1545.82 1942.43 1543.66 Q1944.28 1541.49 1944.28 1537.76 Q1944.28 1534.01 1942.43 1531.86 Q1940.6 1529.7 1937.46 1529.7 M1946.74 1515.05 L1946.74 1519.31 Q1944.98 1518.48 1943.17 1518.04 Q1941.39 1517.6 1939.63 1517.6 Q1935 1517.6 1932.55 1520.72 Q1930.12 1523.85 1929.77 1530.17 Q1931.14 1528.15 1933.2 1527.09 Q1935.26 1526 1937.73 1526 Q1942.94 1526 1945.95 1529.17 Q1948.98 1532.32 1948.98 1537.76 Q1948.98 1543.08 1945.84 1546.3 Q1942.69 1549.52 1937.46 1549.52 Q1931.46 1549.52 1928.29 1544.94 Q1925.12 1540.33 1925.12 1531.6 Q1925.12 1523.41 1929.01 1518.55 Q1932.9 1513.66 1939.45 1513.66 Q1941.21 1513.66 1942.99 1514.01 Q1944.79 1514.36 1946.74 1515.05 Z\" fill=\"#000000\" fill-rule=\"nonzero\" fill-opacity=\"1\" /><path clip-path=\"url(#clip480)\" d=\"M2278.23 1514.29 L2300.45 1514.29 L2300.45 1516.28 L2287.91 1548.85 L2283.02 1548.85 L2294.83 1518.22 L2278.23 1518.22 L2278.23 1514.29 Z\" fill=\"#000000\" fill-rule=\"nonzero\" fill-opacity=\"1\" /><polyline clip-path=\"url(#clip482)\" style=\"stroke:#000000; stroke-linecap:round; stroke-linejoin:round; stroke-width:2; stroke-opacity:0.1; fill:none\" points=\"112.177,1455.35 2352.76,1455.35 \"/>\n",
       "<polyline clip-path=\"url(#clip482)\" style=\"stroke:#000000; stroke-linecap:round; stroke-linejoin:round; stroke-width:2; stroke-opacity:0.1; fill:none\" points=\"112.177,1227.46 2352.76,1227.46 \"/>\n",
       "<polyline clip-path=\"url(#clip482)\" style=\"stroke:#000000; stroke-linecap:round; stroke-linejoin:round; stroke-width:2; stroke-opacity:0.1; fill:none\" points=\"112.177,999.56 2352.76,999.56 \"/>\n",
       "<polyline clip-path=\"url(#clip482)\" style=\"stroke:#000000; stroke-linecap:round; stroke-linejoin:round; stroke-width:2; stroke-opacity:0.1; fill:none\" points=\"112.177,771.664 2352.76,771.664 \"/>\n",
       "<polyline clip-path=\"url(#clip482)\" style=\"stroke:#000000; stroke-linecap:round; stroke-linejoin:round; stroke-width:2; stroke-opacity:0.1; fill:none\" points=\"112.177,543.768 2352.76,543.768 \"/>\n",
       "<polyline clip-path=\"url(#clip482)\" style=\"stroke:#000000; stroke-linecap:round; stroke-linejoin:round; stroke-width:2; stroke-opacity:0.1; fill:none\" points=\"112.177,315.872 2352.76,315.872 \"/>\n",
       "<polyline clip-path=\"url(#clip482)\" style=\"stroke:#000000; stroke-linecap:round; stroke-linejoin:round; stroke-width:2; stroke-opacity:0.1; fill:none\" points=\"112.177,87.9763 2352.76,87.9763 \"/>\n",
       "<polyline clip-path=\"url(#clip480)\" style=\"stroke:#000000; stroke-linecap:round; stroke-linejoin:round; stroke-width:4; stroke-opacity:1; fill:none\" points=\"112.177,1486.45 112.177,47.2441 \"/>\n",
       "<polyline clip-path=\"url(#clip480)\" style=\"stroke:#000000; stroke-linecap:round; stroke-linejoin:round; stroke-width:4; stroke-opacity:1; fill:none\" points=\"112.177,1455.35 131.075,1455.35 \"/>\n",
       "<polyline clip-path=\"url(#clip480)\" style=\"stroke:#000000; stroke-linecap:round; stroke-linejoin:round; stroke-width:4; stroke-opacity:1; fill:none\" points=\"112.177,1227.46 131.075,1227.46 \"/>\n",
       "<polyline clip-path=\"url(#clip480)\" style=\"stroke:#000000; stroke-linecap:round; stroke-linejoin:round; stroke-width:4; stroke-opacity:1; fill:none\" points=\"112.177,999.56 131.075,999.56 \"/>\n",
       "<polyline clip-path=\"url(#clip480)\" style=\"stroke:#000000; stroke-linecap:round; stroke-linejoin:round; stroke-width:4; stroke-opacity:1; fill:none\" points=\"112.177,771.664 131.075,771.664 \"/>\n",
       "<polyline clip-path=\"url(#clip480)\" style=\"stroke:#000000; stroke-linecap:round; stroke-linejoin:round; stroke-width:4; stroke-opacity:1; fill:none\" points=\"112.177,543.768 131.075,543.768 \"/>\n",
       "<polyline clip-path=\"url(#clip480)\" style=\"stroke:#000000; stroke-linecap:round; stroke-linejoin:round; stroke-width:4; stroke-opacity:1; fill:none\" points=\"112.177,315.872 131.075,315.872 \"/>\n",
       "<polyline clip-path=\"url(#clip480)\" style=\"stroke:#000000; stroke-linecap:round; stroke-linejoin:round; stroke-width:4; stroke-opacity:1; fill:none\" points=\"112.177,87.9763 131.075,87.9763 \"/>\n",
       "<path clip-path=\"url(#clip480)\" d=\"M56.2699 1468.7 L63.9087 1468.7 L63.9087 1442.33 L55.5986 1444 L55.5986 1439.74 L63.8624 1438.07 L68.5383 1438.07 L68.5383 1468.7 L76.1772 1468.7 L76.1772 1472.63 L56.2699 1472.63 L56.2699 1468.7 Z\" fill=\"#000000\" fill-rule=\"nonzero\" fill-opacity=\"1\" /><path clip-path=\"url(#clip480)\" d=\"M59.8578 1240.8 L76.1772 1240.8 L76.1772 1244.74 L54.2328 1244.74 L54.2328 1240.8 Q56.8949 1238.05 61.4782 1233.42 Q66.0846 1228.76 67.2652 1227.42 Q69.5105 1224.9 70.3902 1223.16 Q71.2929 1221.4 71.2929 1219.71 Q71.2929 1216.96 69.3485 1215.22 Q67.4272 1213.49 64.3254 1213.49 Q62.1263 1213.49 59.6726 1214.25 Q57.2421 1215.01 54.4643 1216.56 L54.4643 1211.84 Q57.2884 1210.71 59.7421 1210.13 Q62.1958 1209.55 64.2328 1209.55 Q69.6031 1209.55 72.7976 1212.24 Q75.992 1214.92 75.992 1219.41 Q75.992 1221.54 75.1818 1223.46 Q74.3948 1225.36 72.2883 1227.95 Q71.7096 1228.62 68.6078 1231.84 Q65.5059 1235.04 59.8578 1240.8 Z\" fill=\"#000000\" fill-rule=\"nonzero\" fill-opacity=\"1\" /><path clip-path=\"url(#clip480)\" d=\"M69.0476 998.206 Q72.404 998.923 74.279 1001.19 Q76.1772 1003.46 76.1772 1006.79 Q76.1772 1011.91 72.6587 1014.71 Q69.1402 1017.51 62.6587 1017.51 Q60.4828 1017.51 58.168 1017.07 Q55.8764 1016.65 53.4227 1015.8 L53.4227 1011.28 Q55.3671 1012.42 57.6819 1013 Q59.9967 1013.58 62.5198 1013.58 Q66.918 1013.58 69.2096 1011.84 Q71.5244 1010.1 71.5244 1006.79 Q71.5244 1003.74 69.3717 1002.03 Q67.242 1000.29 63.4226 1000.29 L59.3949 1000.29 L59.3949 996.446 L63.6078 996.446 Q67.0569 996.446 68.8855 995.081 Q70.7142 993.692 70.7142 991.099 Q70.7142 988.437 68.8161 987.025 Q66.9411 985.59 63.4226 985.59 Q61.5013 985.59 59.3023 986.007 Q57.1032 986.423 54.4643 987.303 L54.4643 983.136 Q57.1264 982.396 59.4412 982.025 Q61.7791 981.655 63.8393 981.655 Q69.1633 981.655 72.2652 984.085 Q75.367 986.493 75.367 990.613 Q75.367 993.483 73.7235 995.474 Q72.08 997.442 69.0476 998.206 Z\" fill=\"#000000\" fill-rule=\"nonzero\" fill-opacity=\"1\" /><path clip-path=\"url(#clip480)\" d=\"M66.5939 758.458 L54.7884 776.907 L66.5939 776.907 L66.5939 758.458 M65.367 754.384 L71.2466 754.384 L71.2466 776.907 L76.1772 776.907 L76.1772 780.796 L71.2466 780.796 L71.2466 788.944 L66.5939 788.944 L66.5939 780.796 L50.9921 780.796 L50.9921 776.282 L65.367 754.384 Z\" fill=\"#000000\" fill-rule=\"nonzero\" fill-opacity=\"1\" /><path clip-path=\"url(#clip480)\" d=\"M55.2745 526.488 L73.6309 526.488 L73.6309 530.423 L59.5569 530.423 L59.5569 538.895 Q60.5754 538.548 61.5939 538.386 Q62.6124 538.201 63.6309 538.201 Q69.418 538.201 72.7976 541.372 Q76.1772 544.544 76.1772 549.96 Q76.1772 555.539 72.705 558.641 Q69.2328 561.719 62.9134 561.719 Q60.7374 561.719 58.4689 561.349 Q56.2236 560.979 53.8162 560.238 L53.8162 555.539 Q55.8995 556.673 58.1217 557.229 Q60.3439 557.784 62.8208 557.784 Q66.8254 557.784 69.1633 555.678 Q71.5013 553.571 71.5013 549.96 Q71.5013 546.349 69.1633 544.243 Q66.8254 542.136 62.8208 542.136 Q60.9458 542.136 59.0708 542.553 Q57.2189 542.969 55.2745 543.849 L55.2745 526.488 Z\" fill=\"#000000\" fill-rule=\"nonzero\" fill-opacity=\"1\" /><path clip-path=\"url(#clip480)\" d=\"M64.6495 314.009 Q61.5013 314.009 59.6495 316.162 Q57.8208 318.314 57.8208 322.064 Q57.8208 325.791 59.6495 327.967 Q61.5013 330.12 64.6495 330.12 Q67.7976 330.12 69.6263 327.967 Q71.4781 325.791 71.4781 322.064 Q71.4781 318.314 69.6263 316.162 Q67.7976 314.009 64.6495 314.009 M73.9318 299.356 L73.9318 303.615 Q72.1726 302.782 70.367 302.342 Q68.5846 301.902 66.8254 301.902 Q62.1958 301.902 59.7421 305.027 Q57.3115 308.152 56.9643 314.472 Q58.33 312.458 60.3902 311.393 Q62.4504 310.305 64.9272 310.305 Q70.1355 310.305 73.1448 313.476 Q76.1772 316.624 76.1772 322.064 Q76.1772 327.388 73.029 330.606 Q69.8809 333.823 64.6495 333.823 Q58.6541 333.823 55.4828 329.24 Q52.3116 324.634 52.3116 315.907 Q52.3116 307.712 56.2004 302.851 Q60.0893 297.967 66.6402 297.967 Q68.3994 297.967 70.1818 298.314 Q71.9874 298.662 73.9318 299.356 Z\" fill=\"#000000\" fill-rule=\"nonzero\" fill-opacity=\"1\" /><path clip-path=\"url(#clip480)\" d=\"M53.9551 70.6963 L76.1772 70.6963 L76.1772 72.687 L63.6309 105.256 L58.7467 105.256 L70.5522 74.6315 L53.9551 74.6315 L53.9551 70.6963 Z\" fill=\"#000000\" fill-rule=\"nonzero\" fill-opacity=\"1\" /><circle clip-path=\"url(#clip482)\" cx=\"175.59\" cy=\"1445.72\" r=\"14.4\" fill=\"#009af9\" fill-rule=\"evenodd\" fill-opacity=\"1\" stroke=\"#000000\" stroke-opacity=\"1\" stroke-width=\"3.2\"/>\n",
       "<circle clip-path=\"url(#clip482)\" cx=\"527.882\" cy=\"1226.47\" r=\"14.4\" fill=\"#009af9\" fill-rule=\"evenodd\" fill-opacity=\"1\" stroke=\"#000000\" stroke-opacity=\"1\" stroke-width=\"3.2\"/>\n",
       "<circle clip-path=\"url(#clip482)\" cx=\"880.174\" cy=\"999.461\" r=\"14.4\" fill=\"#009af9\" fill-rule=\"evenodd\" fill-opacity=\"1\" stroke=\"#000000\" stroke-opacity=\"1\" stroke-width=\"3.2\"/>\n",
       "<circle clip-path=\"url(#clip482)\" cx=\"1232.47\" cy=\"771.654\" r=\"14.4\" fill=\"#009af9\" fill-rule=\"evenodd\" fill-opacity=\"1\" stroke=\"#000000\" stroke-opacity=\"1\" stroke-width=\"3.2\"/>\n",
       "<circle clip-path=\"url(#clip482)\" cx=\"1584.76\" cy=\"543.767\" r=\"14.4\" fill=\"#009af9\" fill-rule=\"evenodd\" fill-opacity=\"1\" stroke=\"#000000\" stroke-opacity=\"1\" stroke-width=\"3.2\"/>\n",
       "<circle clip-path=\"url(#clip482)\" cx=\"1937.05\" cy=\"315.872\" r=\"14.4\" fill=\"#009af9\" fill-rule=\"evenodd\" fill-opacity=\"1\" stroke=\"#000000\" stroke-opacity=\"1\" stroke-width=\"3.2\"/>\n",
       "<circle clip-path=\"url(#clip482)\" cx=\"2289.34\" cy=\"87.9763\" r=\"14.4\" fill=\"#009af9\" fill-rule=\"evenodd\" fill-opacity=\"1\" stroke=\"#000000\" stroke-opacity=\"1\" stroke-width=\"3.2\"/>\n",
       "</svg>\n"
      ],
      "text/html": [
       "<?xml version=\"1.0\" encoding=\"utf-8\"?>\n",
       "<svg xmlns=\"http://www.w3.org/2000/svg\" xmlns:xlink=\"http://www.w3.org/1999/xlink\" width=\"600\" height=\"400\" viewBox=\"0 0 2400 1600\">\n",
       "<defs>\n",
       "  <clipPath id=\"clip530\">\n",
       "    <rect x=\"0\" y=\"0\" width=\"2400\" height=\"1600\"/>\n",
       "  </clipPath>\n",
       "</defs>\n",
       "<path clip-path=\"url(#clip530)\" d=\"M0 1600 L2400 1600 L2400 8.88178e-14 L0 8.88178e-14  Z\" fill=\"#ffffff\" fill-rule=\"evenodd\" fill-opacity=\"1\"/>\n",
       "<defs>\n",
       "  <clipPath id=\"clip531\">\n",
       "    <rect x=\"480\" y=\"0\" width=\"1681\" height=\"1600\"/>\n",
       "  </clipPath>\n",
       "</defs>\n",
       "<path clip-path=\"url(#clip530)\" d=\"M112.177 1486.45 L2352.76 1486.45 L2352.76 47.2441 L112.177 47.2441  Z\" fill=\"#ffffff\" fill-rule=\"evenodd\" fill-opacity=\"1\"/>\n",
       "<defs>\n",
       "  <clipPath id=\"clip532\">\n",
       "    <rect x=\"112\" y=\"47\" width=\"2242\" height=\"1440\"/>\n",
       "  </clipPath>\n",
       "</defs>\n",
       "<polyline clip-path=\"url(#clip532)\" style=\"stroke:#000000; stroke-linecap:round; stroke-linejoin:round; stroke-width:2; stroke-opacity:0.1; fill:none\" points=\"175.59,1486.45 175.59,47.2441 \"/>\n",
       "<polyline clip-path=\"url(#clip532)\" style=\"stroke:#000000; stroke-linecap:round; stroke-linejoin:round; stroke-width:2; stroke-opacity:0.1; fill:none\" points=\"527.882,1486.45 527.882,47.2441 \"/>\n",
       "<polyline clip-path=\"url(#clip532)\" style=\"stroke:#000000; stroke-linecap:round; stroke-linejoin:round; stroke-width:2; stroke-opacity:0.1; fill:none\" points=\"880.174,1486.45 880.174,47.2441 \"/>\n",
       "<polyline clip-path=\"url(#clip532)\" style=\"stroke:#000000; stroke-linecap:round; stroke-linejoin:round; stroke-width:2; stroke-opacity:0.1; fill:none\" points=\"1232.47,1486.45 1232.47,47.2441 \"/>\n",
       "<polyline clip-path=\"url(#clip532)\" style=\"stroke:#000000; stroke-linecap:round; stroke-linejoin:round; stroke-width:2; stroke-opacity:0.1; fill:none\" points=\"1584.76,1486.45 1584.76,47.2441 \"/>\n",
       "<polyline clip-path=\"url(#clip532)\" style=\"stroke:#000000; stroke-linecap:round; stroke-linejoin:round; stroke-width:2; stroke-opacity:0.1; fill:none\" points=\"1937.05,1486.45 1937.05,47.2441 \"/>\n",
       "<polyline clip-path=\"url(#clip532)\" style=\"stroke:#000000; stroke-linecap:round; stroke-linejoin:round; stroke-width:2; stroke-opacity:0.1; fill:none\" points=\"2289.34,1486.45 2289.34,47.2441 \"/>\n",
       "<polyline clip-path=\"url(#clip530)\" style=\"stroke:#000000; stroke-linecap:round; stroke-linejoin:round; stroke-width:4; stroke-opacity:1; fill:none\" points=\"112.177,1486.45 2352.76,1486.45 \"/>\n",
       "<polyline clip-path=\"url(#clip530)\" style=\"stroke:#000000; stroke-linecap:round; stroke-linejoin:round; stroke-width:4; stroke-opacity:1; fill:none\" points=\"175.59,1486.45 175.59,1467.55 \"/>\n",
       "<polyline clip-path=\"url(#clip530)\" style=\"stroke:#000000; stroke-linecap:round; stroke-linejoin:round; stroke-width:4; stroke-opacity:1; fill:none\" points=\"527.882,1486.45 527.882,1467.55 \"/>\n",
       "<polyline clip-path=\"url(#clip530)\" style=\"stroke:#000000; stroke-linecap:round; stroke-linejoin:round; stroke-width:4; stroke-opacity:1; fill:none\" points=\"880.174,1486.45 880.174,1467.55 \"/>\n",
       "<polyline clip-path=\"url(#clip530)\" style=\"stroke:#000000; stroke-linecap:round; stroke-linejoin:round; stroke-width:4; stroke-opacity:1; fill:none\" points=\"1232.47,1486.45 1232.47,1467.55 \"/>\n",
       "<polyline clip-path=\"url(#clip530)\" style=\"stroke:#000000; stroke-linecap:round; stroke-linejoin:round; stroke-width:4; stroke-opacity:1; fill:none\" points=\"1584.76,1486.45 1584.76,1467.55 \"/>\n",
       "<polyline clip-path=\"url(#clip530)\" style=\"stroke:#000000; stroke-linecap:round; stroke-linejoin:round; stroke-width:4; stroke-opacity:1; fill:none\" points=\"1937.05,1486.45 1937.05,1467.55 \"/>\n",
       "<polyline clip-path=\"url(#clip530)\" style=\"stroke:#000000; stroke-linecap:round; stroke-linejoin:round; stroke-width:4; stroke-opacity:1; fill:none\" points=\"2289.34,1486.45 2289.34,1467.55 \"/>\n",
       "<path clip-path=\"url(#clip530)\" d=\"M165.972 1544.91 L173.611 1544.91 L173.611 1518.55 L165.3 1520.21 L165.3 1515.95 L173.564 1514.29 L178.24 1514.29 L178.24 1544.91 L185.879 1544.91 L185.879 1548.85 L165.972 1548.85 L165.972 1544.91 Z\" fill=\"#000000\" fill-rule=\"nonzero\" fill-opacity=\"1\" /><path clip-path=\"url(#clip530)\" d=\"M522.535 1544.91 L538.854 1544.91 L538.854 1548.85 L516.91 1548.85 L516.91 1544.91 Q519.572 1542.16 524.155 1537.53 Q528.762 1532.88 529.942 1531.53 Q532.188 1529.01 533.067 1527.27 Q533.97 1525.51 533.97 1523.82 Q533.97 1521.07 532.026 1519.33 Q530.104 1517.6 527.002 1517.6 Q524.803 1517.6 522.35 1518.36 Q519.919 1519.13 517.141 1520.68 L517.141 1515.95 Q519.965 1514.82 522.419 1514.24 Q524.873 1513.66 526.91 1513.66 Q532.28 1513.66 535.475 1516.35 Q538.669 1519.03 538.669 1523.52 Q538.669 1525.65 537.859 1527.57 Q537.072 1529.47 534.965 1532.07 Q534.387 1532.74 531.285 1535.95 Q528.183 1539.15 522.535 1544.91 Z\" fill=\"#000000\" fill-rule=\"nonzero\" fill-opacity=\"1\" /><path clip-path=\"url(#clip530)\" d=\"M884.422 1530.21 Q887.778 1530.93 889.653 1533.2 Q891.552 1535.47 891.552 1538.8 Q891.552 1543.92 888.033 1546.72 Q884.515 1549.52 878.033 1549.52 Q875.857 1549.52 873.542 1549.08 Q871.251 1548.66 868.797 1547.81 L868.797 1543.29 Q870.741 1544.43 873.056 1545.01 Q875.371 1545.58 877.894 1545.58 Q882.292 1545.58 884.584 1543.85 Q886.899 1542.11 886.899 1538.8 Q886.899 1535.75 884.746 1534.03 Q882.616 1532.3 878.797 1532.3 L874.769 1532.3 L874.769 1528.45 L878.982 1528.45 Q882.431 1528.45 884.26 1527.09 Q886.089 1525.7 886.089 1523.11 Q886.089 1520.45 884.19 1519.03 Q882.315 1517.6 878.797 1517.6 Q876.876 1517.6 874.677 1518.01 Q872.478 1518.43 869.839 1519.31 L869.839 1515.14 Q872.501 1514.4 874.816 1514.03 Q877.153 1513.66 879.214 1513.66 Q884.538 1513.66 887.64 1516.09 Q890.741 1518.5 890.741 1522.62 Q890.741 1525.49 889.098 1527.48 Q887.454 1529.45 884.422 1530.21 Z\" fill=\"#000000\" fill-rule=\"nonzero\" fill-opacity=\"1\" /><path clip-path=\"url(#clip530)\" d=\"M1235.48 1518.36 L1223.67 1536.81 L1235.48 1536.81 L1235.48 1518.36 M1234.25 1514.29 L1240.13 1514.29 L1240.13 1536.81 L1245.06 1536.81 L1245.06 1540.7 L1240.13 1540.7 L1240.13 1548.85 L1235.48 1548.85 L1235.48 1540.7 L1219.87 1540.7 L1219.87 1536.19 L1234.25 1514.29 Z\" fill=\"#000000\" fill-rule=\"nonzero\" fill-opacity=\"1\" /><path clip-path=\"url(#clip530)\" d=\"M1575.04 1514.29 L1593.39 1514.29 L1593.39 1518.22 L1579.32 1518.22 L1579.32 1526.7 Q1580.34 1526.35 1581.36 1526.19 Q1582.37 1526 1583.39 1526 Q1589.18 1526 1592.56 1529.17 Q1595.94 1532.34 1595.94 1537.76 Q1595.94 1543.34 1592.47 1546.44 Q1588.99 1549.52 1582.68 1549.52 Q1580.5 1549.52 1578.23 1549.15 Q1575.99 1548.78 1573.58 1548.04 L1573.58 1543.34 Q1575.66 1544.47 1577.88 1545.03 Q1580.11 1545.58 1582.58 1545.58 Q1586.59 1545.58 1588.93 1543.48 Q1591.26 1541.37 1591.26 1537.76 Q1591.26 1534.15 1588.93 1532.04 Q1586.59 1529.94 1582.58 1529.94 Q1580.71 1529.94 1578.83 1530.35 Q1576.98 1530.77 1575.04 1531.65 L1575.04 1514.29 Z\" fill=\"#000000\" fill-rule=\"nonzero\" fill-opacity=\"1\" /><path clip-path=\"url(#clip530)\" d=\"M1937.46 1529.7 Q1934.31 1529.7 1932.46 1531.86 Q1930.63 1534.01 1930.63 1537.76 Q1930.63 1541.49 1932.46 1543.66 Q1934.31 1545.82 1937.46 1545.82 Q1940.6 1545.82 1942.43 1543.66 Q1944.28 1541.49 1944.28 1537.76 Q1944.28 1534.01 1942.43 1531.86 Q1940.6 1529.7 1937.46 1529.7 M1946.74 1515.05 L1946.74 1519.31 Q1944.98 1518.48 1943.17 1518.04 Q1941.39 1517.6 1939.63 1517.6 Q1935 1517.6 1932.55 1520.72 Q1930.12 1523.85 1929.77 1530.17 Q1931.14 1528.15 1933.2 1527.09 Q1935.26 1526 1937.73 1526 Q1942.94 1526 1945.95 1529.17 Q1948.98 1532.32 1948.98 1537.76 Q1948.98 1543.08 1945.84 1546.3 Q1942.69 1549.52 1937.46 1549.52 Q1931.46 1549.52 1928.29 1544.94 Q1925.12 1540.33 1925.12 1531.6 Q1925.12 1523.41 1929.01 1518.55 Q1932.9 1513.66 1939.45 1513.66 Q1941.21 1513.66 1942.99 1514.01 Q1944.79 1514.36 1946.74 1515.05 Z\" fill=\"#000000\" fill-rule=\"nonzero\" fill-opacity=\"1\" /><path clip-path=\"url(#clip530)\" d=\"M2278.23 1514.29 L2300.45 1514.29 L2300.45 1516.28 L2287.91 1548.85 L2283.02 1548.85 L2294.83 1518.22 L2278.23 1518.22 L2278.23 1514.29 Z\" fill=\"#000000\" fill-rule=\"nonzero\" fill-opacity=\"1\" /><polyline clip-path=\"url(#clip532)\" style=\"stroke:#000000; stroke-linecap:round; stroke-linejoin:round; stroke-width:2; stroke-opacity:0.1; fill:none\" points=\"112.177,1455.35 2352.76,1455.35 \"/>\n",
       "<polyline clip-path=\"url(#clip532)\" style=\"stroke:#000000; stroke-linecap:round; stroke-linejoin:round; stroke-width:2; stroke-opacity:0.1; fill:none\" points=\"112.177,1227.46 2352.76,1227.46 \"/>\n",
       "<polyline clip-path=\"url(#clip532)\" style=\"stroke:#000000; stroke-linecap:round; stroke-linejoin:round; stroke-width:2; stroke-opacity:0.1; fill:none\" points=\"112.177,999.56 2352.76,999.56 \"/>\n",
       "<polyline clip-path=\"url(#clip532)\" style=\"stroke:#000000; stroke-linecap:round; stroke-linejoin:round; stroke-width:2; stroke-opacity:0.1; fill:none\" points=\"112.177,771.664 2352.76,771.664 \"/>\n",
       "<polyline clip-path=\"url(#clip532)\" style=\"stroke:#000000; stroke-linecap:round; stroke-linejoin:round; stroke-width:2; stroke-opacity:0.1; fill:none\" points=\"112.177,543.768 2352.76,543.768 \"/>\n",
       "<polyline clip-path=\"url(#clip532)\" style=\"stroke:#000000; stroke-linecap:round; stroke-linejoin:round; stroke-width:2; stroke-opacity:0.1; fill:none\" points=\"112.177,315.872 2352.76,315.872 \"/>\n",
       "<polyline clip-path=\"url(#clip532)\" style=\"stroke:#000000; stroke-linecap:round; stroke-linejoin:round; stroke-width:2; stroke-opacity:0.1; fill:none\" points=\"112.177,87.9763 2352.76,87.9763 \"/>\n",
       "<polyline clip-path=\"url(#clip530)\" style=\"stroke:#000000; stroke-linecap:round; stroke-linejoin:round; stroke-width:4; stroke-opacity:1; fill:none\" points=\"112.177,1486.45 112.177,47.2441 \"/>\n",
       "<polyline clip-path=\"url(#clip530)\" style=\"stroke:#000000; stroke-linecap:round; stroke-linejoin:round; stroke-width:4; stroke-opacity:1; fill:none\" points=\"112.177,1455.35 131.075,1455.35 \"/>\n",
       "<polyline clip-path=\"url(#clip530)\" style=\"stroke:#000000; stroke-linecap:round; stroke-linejoin:round; stroke-width:4; stroke-opacity:1; fill:none\" points=\"112.177,1227.46 131.075,1227.46 \"/>\n",
       "<polyline clip-path=\"url(#clip530)\" style=\"stroke:#000000; stroke-linecap:round; stroke-linejoin:round; stroke-width:4; stroke-opacity:1; fill:none\" points=\"112.177,999.56 131.075,999.56 \"/>\n",
       "<polyline clip-path=\"url(#clip530)\" style=\"stroke:#000000; stroke-linecap:round; stroke-linejoin:round; stroke-width:4; stroke-opacity:1; fill:none\" points=\"112.177,771.664 131.075,771.664 \"/>\n",
       "<polyline clip-path=\"url(#clip530)\" style=\"stroke:#000000; stroke-linecap:round; stroke-linejoin:round; stroke-width:4; stroke-opacity:1; fill:none\" points=\"112.177,543.768 131.075,543.768 \"/>\n",
       "<polyline clip-path=\"url(#clip530)\" style=\"stroke:#000000; stroke-linecap:round; stroke-linejoin:round; stroke-width:4; stroke-opacity:1; fill:none\" points=\"112.177,315.872 131.075,315.872 \"/>\n",
       "<polyline clip-path=\"url(#clip530)\" style=\"stroke:#000000; stroke-linecap:round; stroke-linejoin:round; stroke-width:4; stroke-opacity:1; fill:none\" points=\"112.177,87.9763 131.075,87.9763 \"/>\n",
       "<path clip-path=\"url(#clip530)\" d=\"M56.2699 1468.7 L63.9087 1468.7 L63.9087 1442.33 L55.5986 1444 L55.5986 1439.74 L63.8624 1438.07 L68.5383 1438.07 L68.5383 1468.7 L76.1772 1468.7 L76.1772 1472.63 L56.2699 1472.63 L56.2699 1468.7 Z\" fill=\"#000000\" fill-rule=\"nonzero\" fill-opacity=\"1\" /><path clip-path=\"url(#clip530)\" d=\"M59.8578 1240.8 L76.1772 1240.8 L76.1772 1244.74 L54.2328 1244.74 L54.2328 1240.8 Q56.8949 1238.05 61.4782 1233.42 Q66.0846 1228.76 67.2652 1227.42 Q69.5105 1224.9 70.3902 1223.16 Q71.2929 1221.4 71.2929 1219.71 Q71.2929 1216.96 69.3485 1215.22 Q67.4272 1213.49 64.3254 1213.49 Q62.1263 1213.49 59.6726 1214.25 Q57.2421 1215.01 54.4643 1216.56 L54.4643 1211.84 Q57.2884 1210.71 59.7421 1210.13 Q62.1958 1209.55 64.2328 1209.55 Q69.6031 1209.55 72.7976 1212.24 Q75.992 1214.92 75.992 1219.41 Q75.992 1221.54 75.1818 1223.46 Q74.3948 1225.36 72.2883 1227.95 Q71.7096 1228.62 68.6078 1231.84 Q65.5059 1235.04 59.8578 1240.8 Z\" fill=\"#000000\" fill-rule=\"nonzero\" fill-opacity=\"1\" /><path clip-path=\"url(#clip530)\" d=\"M69.0476 998.206 Q72.404 998.923 74.279 1001.19 Q76.1772 1003.46 76.1772 1006.79 Q76.1772 1011.91 72.6587 1014.71 Q69.1402 1017.51 62.6587 1017.51 Q60.4828 1017.51 58.168 1017.07 Q55.8764 1016.65 53.4227 1015.8 L53.4227 1011.28 Q55.3671 1012.42 57.6819 1013 Q59.9967 1013.58 62.5198 1013.58 Q66.918 1013.58 69.2096 1011.84 Q71.5244 1010.1 71.5244 1006.79 Q71.5244 1003.74 69.3717 1002.03 Q67.242 1000.29 63.4226 1000.29 L59.3949 1000.29 L59.3949 996.446 L63.6078 996.446 Q67.0569 996.446 68.8855 995.081 Q70.7142 993.692 70.7142 991.099 Q70.7142 988.437 68.8161 987.025 Q66.9411 985.59 63.4226 985.59 Q61.5013 985.59 59.3023 986.007 Q57.1032 986.423 54.4643 987.303 L54.4643 983.136 Q57.1264 982.396 59.4412 982.025 Q61.7791 981.655 63.8393 981.655 Q69.1633 981.655 72.2652 984.085 Q75.367 986.493 75.367 990.613 Q75.367 993.483 73.7235 995.474 Q72.08 997.442 69.0476 998.206 Z\" fill=\"#000000\" fill-rule=\"nonzero\" fill-opacity=\"1\" /><path clip-path=\"url(#clip530)\" d=\"M66.5939 758.458 L54.7884 776.907 L66.5939 776.907 L66.5939 758.458 M65.367 754.384 L71.2466 754.384 L71.2466 776.907 L76.1772 776.907 L76.1772 780.796 L71.2466 780.796 L71.2466 788.944 L66.5939 788.944 L66.5939 780.796 L50.9921 780.796 L50.9921 776.282 L65.367 754.384 Z\" fill=\"#000000\" fill-rule=\"nonzero\" fill-opacity=\"1\" /><path clip-path=\"url(#clip530)\" d=\"M55.2745 526.488 L73.6309 526.488 L73.6309 530.423 L59.5569 530.423 L59.5569 538.895 Q60.5754 538.548 61.5939 538.386 Q62.6124 538.201 63.6309 538.201 Q69.418 538.201 72.7976 541.372 Q76.1772 544.544 76.1772 549.96 Q76.1772 555.539 72.705 558.641 Q69.2328 561.719 62.9134 561.719 Q60.7374 561.719 58.4689 561.349 Q56.2236 560.979 53.8162 560.238 L53.8162 555.539 Q55.8995 556.673 58.1217 557.229 Q60.3439 557.784 62.8208 557.784 Q66.8254 557.784 69.1633 555.678 Q71.5013 553.571 71.5013 549.96 Q71.5013 546.349 69.1633 544.243 Q66.8254 542.136 62.8208 542.136 Q60.9458 542.136 59.0708 542.553 Q57.2189 542.969 55.2745 543.849 L55.2745 526.488 Z\" fill=\"#000000\" fill-rule=\"nonzero\" fill-opacity=\"1\" /><path clip-path=\"url(#clip530)\" d=\"M64.6495 314.009 Q61.5013 314.009 59.6495 316.162 Q57.8208 318.314 57.8208 322.064 Q57.8208 325.791 59.6495 327.967 Q61.5013 330.12 64.6495 330.12 Q67.7976 330.12 69.6263 327.967 Q71.4781 325.791 71.4781 322.064 Q71.4781 318.314 69.6263 316.162 Q67.7976 314.009 64.6495 314.009 M73.9318 299.356 L73.9318 303.615 Q72.1726 302.782 70.367 302.342 Q68.5846 301.902 66.8254 301.902 Q62.1958 301.902 59.7421 305.027 Q57.3115 308.152 56.9643 314.472 Q58.33 312.458 60.3902 311.393 Q62.4504 310.305 64.9272 310.305 Q70.1355 310.305 73.1448 313.476 Q76.1772 316.624 76.1772 322.064 Q76.1772 327.388 73.029 330.606 Q69.8809 333.823 64.6495 333.823 Q58.6541 333.823 55.4828 329.24 Q52.3116 324.634 52.3116 315.907 Q52.3116 307.712 56.2004 302.851 Q60.0893 297.967 66.6402 297.967 Q68.3994 297.967 70.1818 298.314 Q71.9874 298.662 73.9318 299.356 Z\" fill=\"#000000\" fill-rule=\"nonzero\" fill-opacity=\"1\" /><path clip-path=\"url(#clip530)\" d=\"M53.9551 70.6963 L76.1772 70.6963 L76.1772 72.687 L63.6309 105.256 L58.7467 105.256 L70.5522 74.6315 L53.9551 74.6315 L53.9551 70.6963 Z\" fill=\"#000000\" fill-rule=\"nonzero\" fill-opacity=\"1\" /><circle clip-path=\"url(#clip532)\" cx=\"175.59\" cy=\"1445.72\" r=\"14.4\" fill=\"#009af9\" fill-rule=\"evenodd\" fill-opacity=\"1\" stroke=\"#000000\" stroke-opacity=\"1\" stroke-width=\"3.2\"/>\n",
       "<circle clip-path=\"url(#clip532)\" cx=\"527.882\" cy=\"1226.47\" r=\"14.4\" fill=\"#009af9\" fill-rule=\"evenodd\" fill-opacity=\"1\" stroke=\"#000000\" stroke-opacity=\"1\" stroke-width=\"3.2\"/>\n",
       "<circle clip-path=\"url(#clip532)\" cx=\"880.174\" cy=\"999.461\" r=\"14.4\" fill=\"#009af9\" fill-rule=\"evenodd\" fill-opacity=\"1\" stroke=\"#000000\" stroke-opacity=\"1\" stroke-width=\"3.2\"/>\n",
       "<circle clip-path=\"url(#clip532)\" cx=\"1232.47\" cy=\"771.654\" r=\"14.4\" fill=\"#009af9\" fill-rule=\"evenodd\" fill-opacity=\"1\" stroke=\"#000000\" stroke-opacity=\"1\" stroke-width=\"3.2\"/>\n",
       "<circle clip-path=\"url(#clip532)\" cx=\"1584.76\" cy=\"543.767\" r=\"14.4\" fill=\"#009af9\" fill-rule=\"evenodd\" fill-opacity=\"1\" stroke=\"#000000\" stroke-opacity=\"1\" stroke-width=\"3.2\"/>\n",
       "<circle clip-path=\"url(#clip532)\" cx=\"1937.05\" cy=\"315.872\" r=\"14.4\" fill=\"#009af9\" fill-rule=\"evenodd\" fill-opacity=\"1\" stroke=\"#000000\" stroke-opacity=\"1\" stroke-width=\"3.2\"/>\n",
       "<circle clip-path=\"url(#clip532)\" cx=\"2289.34\" cy=\"87.9763\" r=\"14.4\" fill=\"#009af9\" fill-rule=\"evenodd\" fill-opacity=\"1\" stroke=\"#000000\" stroke-opacity=\"1\" stroke-width=\"3.2\"/>\n",
       "</svg>\n"
      ]
     },
     "metadata": {},
     "output_type": "display_data"
    }
   ],
   "source": [
    "scatter(1:7,-log10.(errors), legend=false)"
   ]
  },
  {
   "cell_type": "code",
   "execution_count": 9,
   "metadata": {},
   "outputs": [
    {
     "data": {
      "text/plain": [
       "\"/Users/pstaab/code/sci-comp-book/assets/plots/calc-pi/pi-atan-error.png\""
      ]
     },
     "metadata": {},
     "output_type": "display_data"
    }
   ],
   "source": [
    "savefig(\"../assets/plots/calc-pi/pi-atan-error.png\")"
   ]
  },
  {
   "cell_type": "code",
   "execution_count": 10,
   "metadata": {},
   "outputs": [
    {
     "name": "stdout",
     "output_type": "stream",
     "text": [
      "  0.079734 seconds\n"
     ]
    },
    {
     "data": {
      "text/plain": [
       "3.1415936535887745"
      ]
     },
     "metadata": {},
     "output_type": "display_data"
    }
   ],
   "source": [
    "@time calcPi(1_000_000)"
   ]
  },
  {
   "cell_type": "code",
   "execution_count": 11,
   "metadata": {},
   "outputs": [
    {
     "data": {
      "text/plain": [
       "245015.2207001522"
      ]
     },
     "metadata": {},
     "output_type": "display_data"
    }
   ],
   "source": [
    "0.077268 * 10^14 /60/60/24/365"
   ]
  },
  {
   "cell_type": "code",
   "execution_count": 12,
   "metadata": {},
   "outputs": [
    {
     "data": {
      "text/plain": [
       "atan_series (generic function with 1 method)"
      ]
     },
     "metadata": {},
     "output_type": "display_data"
    }
   ],
   "source": [
    "function atan_series(x::Real,n::Integer)\n",
    "  n > 0 || throw(ArgumentError(\"The input n must be positive.\"))\n",
    "  local sum = x\n",
    "  for k=1:n\n",
    "    sum += (-1)^k*x^(2k+1)/(2k+1)\n",
    "  end\n",
    "  sum\n",
    "end"
   ]
  },
  {
   "cell_type": "code",
   "execution_count": 13,
   "metadata": {},
   "outputs": [
    {
     "data": {
      "text/plain": [
       "3.1415926704506854"
      ]
     },
     "metadata": {},
     "output_type": "display_data"
    }
   ],
   "source": [
    "4*(atan_series(1/2,10)+atan_series(1/3,10))"
   ]
  },
  {
   "cell_type": "code",
   "execution_count": 14,
   "metadata": {},
   "outputs": [
    {
     "data": {
      "text/plain": [
       "1.6860892237957614e-8"
      ]
     },
     "metadata": {},
     "output_type": "display_data"
    }
   ],
   "source": [
    "absErr(4*(atan_series(1/2,10)+atan_series(1/3,10)))"
   ]
  },
  {
   "cell_type": "code",
   "execution_count": 15,
   "metadata": {},
   "outputs": [
    {
     "data": {
      "text/plain": [
       "7.993605777301127e-15"
      ]
     },
     "metadata": {},
     "output_type": "display_data"
    }
   ],
   "source": [
    "absErr(4*(atan_series(1/2,20)+atan_series(1/3,20)))"
   ]
  },
  {
   "cell_type": "code",
   "execution_count": 16,
   "metadata": {},
   "outputs": [
    {
     "data": {
      "text/plain": [
       "3.141592653589801775394859982612606961085892242193168775435423632752985359741545"
      ]
     },
     "metadata": {},
     "output_type": "display_data"
    }
   ],
   "source": [
    "4*(atan_series(1/big(2),20)+atan_series(1/big(3),20))"
   ]
  },
  {
   "cell_type": "code",
   "execution_count": 17,
   "metadata": {},
   "outputs": [
    {
     "data": {
      "text/plain": [
       "5-element Vector{BigFloat}:\n",
       " 1.686089269049955549324338738573041181676956757596130409476023763757476121934317e-08\n",
       " 8.536932216599333104076888722842818062954460479040445168953455346681077569196179e-15\n",
       " 5.541360098004753291440085860743946761847969162268014510791810751138256936210001e-21\n",
       " 4.005347048909364704518520476811412326265959273017889120734252574465535050431139e-27\n",
       " 3.075296346725383632749782433311833539450331895967037047902902585859740513243069e-33"
      ]
     },
     "metadata": {},
     "output_type": "display_data"
    }
   ],
   "source": [
    "errors2=map(n -> absErr(4*(atan_series(1/big(2), 10n) + atan_series(1/big(3), 10n))), 1:5)"
   ]
  },
  {
   "cell_type": "code",
   "execution_count": 18,
   "metadata": {},
   "outputs": [
    {
     "data": {
      "image/png": "[encoded data removed]",
      "image/svg+xml": [
       "<?xml version=\"1.0\" encoding=\"utf-8\"?>\n",
       "<svg xmlns=\"http://www.w3.org/2000/svg\" xmlns:xlink=\"http://www.w3.org/1999/xlink\" width=\"600\" height=\"400\" viewBox=\"0 0 2400 1600\">\n",
       "<defs>\n",
       "  <clipPath id=\"clip580\">\n",
       "    <rect x=\"0\" y=\"0\" width=\"2400\" height=\"1600\"/>\n",
       "  </clipPath>\n",
       "</defs>\n",
       "<path clip-path=\"url(#clip580)\" d=\"M0 1600 L2400 1600 L2400 8.88178e-14 L0 8.88178e-14  Z\" fill=\"#ffffff\" fill-rule=\"evenodd\" fill-opacity=\"1\"/>\n",
       "<defs>\n",
       "  <clipPath id=\"clip581\">\n",
       "    <rect x=\"480\" y=\"0\" width=\"1681\" height=\"1600\"/>\n",
       "  </clipPath>\n",
       "</defs>\n",
       "<path clip-path=\"url(#clip580)\" d=\"M203.964 1423.18 L2352.76 1423.18 L2352.76 47.2441 L203.964 47.2441  Z\" fill=\"#ffffff\" fill-rule=\"evenodd\" fill-opacity=\"1\"/>\n",
       "<defs>\n",
       "  <clipPath id=\"clip582\">\n",
       "    <rect x=\"203\" y=\"47\" width=\"2150\" height=\"1377\"/>\n",
       "  </clipPath>\n",
       "</defs>\n",
       "<polyline clip-path=\"url(#clip582)\" style=\"stroke:#000000; stroke-linecap:round; stroke-linejoin:round; stroke-width:2; stroke-opacity:0.1; fill:none\" points=\"264.778,1423.18 264.778,47.2441 \"/>\n",
       "<polyline clip-path=\"url(#clip582)\" style=\"stroke:#000000; stroke-linecap:round; stroke-linejoin:round; stroke-width:2; stroke-opacity:0.1; fill:none\" points=\"771.569,1423.18 771.569,47.2441 \"/>\n",
       "<polyline clip-path=\"url(#clip582)\" style=\"stroke:#000000; stroke-linecap:round; stroke-linejoin:round; stroke-width:2; stroke-opacity:0.1; fill:none\" points=\"1278.36,1423.18 1278.36,47.2441 \"/>\n",
       "<polyline clip-path=\"url(#clip582)\" style=\"stroke:#000000; stroke-linecap:round; stroke-linejoin:round; stroke-width:2; stroke-opacity:0.1; fill:none\" points=\"1785.15,1423.18 1785.15,47.2441 \"/>\n",
       "<polyline clip-path=\"url(#clip582)\" style=\"stroke:#000000; stroke-linecap:round; stroke-linejoin:round; stroke-width:2; stroke-opacity:0.1; fill:none\" points=\"2291.94,1423.18 2291.94,47.2441 \"/>\n",
       "<polyline clip-path=\"url(#clip580)\" style=\"stroke:#000000; stroke-linecap:round; stroke-linejoin:round; stroke-width:4; stroke-opacity:1; fill:none\" points=\"203.964,1423.18 2352.76,1423.18 \"/>\n",
       "<polyline clip-path=\"url(#clip580)\" style=\"stroke:#000000; stroke-linecap:round; stroke-linejoin:round; stroke-width:4; stroke-opacity:1; fill:none\" points=\"264.778,1423.18 264.778,1404.28 \"/>\n",
       "<polyline clip-path=\"url(#clip580)\" style=\"stroke:#000000; stroke-linecap:round; stroke-linejoin:round; stroke-width:4; stroke-opacity:1; fill:none\" points=\"771.569,1423.18 771.569,1404.28 \"/>\n",
       "<polyline clip-path=\"url(#clip580)\" style=\"stroke:#000000; stroke-linecap:round; stroke-linejoin:round; stroke-width:4; stroke-opacity:1; fill:none\" points=\"1278.36,1423.18 1278.36,1404.28 \"/>\n",
       "<polyline clip-path=\"url(#clip580)\" style=\"stroke:#000000; stroke-linecap:round; stroke-linejoin:round; stroke-width:4; stroke-opacity:1; fill:none\" points=\"1785.15,1423.18 1785.15,1404.28 \"/>\n",
       "<polyline clip-path=\"url(#clip580)\" style=\"stroke:#000000; stroke-linecap:round; stroke-linejoin:round; stroke-width:4; stroke-opacity:1; fill:none\" points=\"2291.94,1423.18 2291.94,1404.28 \"/>\n",
       "<path clip-path=\"url(#clip580)\" d=\"M239.466 1481.64 L247.105 1481.64 L247.105 1455.28 L238.795 1456.95 L238.795 1452.69 L247.059 1451.02 L251.735 1451.02 L251.735 1481.64 L259.373 1481.64 L259.373 1485.58 L239.466 1485.58 L239.466 1481.64 Z\" fill=\"#000000\" fill-rule=\"nonzero\" fill-opacity=\"1\" /><path clip-path=\"url(#clip580)\" d=\"M278.818 1454.1 Q275.207 1454.1 273.378 1457.66 Q271.572 1461.2 271.572 1468.33 Q271.572 1475.44 273.378 1479.01 Q275.207 1482.55 278.818 1482.55 Q282.452 1482.55 284.258 1479.01 Q286.086 1475.44 286.086 1468.33 Q286.086 1461.2 284.258 1457.66 Q282.452 1454.1 278.818 1454.1 M278.818 1450.39 Q284.628 1450.39 287.683 1455 Q290.762 1459.58 290.762 1468.33 Q290.762 1477.06 287.683 1481.67 Q284.628 1486.25 278.818 1486.25 Q273.008 1486.25 269.929 1481.67 Q266.873 1477.06 266.873 1468.33 Q266.873 1459.58 269.929 1455 Q273.008 1450.39 278.818 1450.39 Z\" fill=\"#000000\" fill-rule=\"nonzero\" fill-opacity=\"1\" /><path clip-path=\"url(#clip580)\" d=\"M750.342 1481.64 L766.662 1481.64 L766.662 1485.58 L744.717 1485.58 L744.717 1481.64 Q747.379 1478.89 751.963 1474.26 Q756.569 1469.61 757.75 1468.27 Q759.995 1465.74 760.875 1464.01 Q761.777 1462.25 761.777 1460.56 Q761.777 1457.8 759.833 1456.07 Q757.912 1454.33 754.81 1454.33 Q752.611 1454.33 750.157 1455.09 Q747.727 1455.86 744.949 1457.41 L744.949 1452.69 Q747.773 1451.55 750.227 1450.97 Q752.68 1450.39 754.717 1450.39 Q760.088 1450.39 763.282 1453.08 Q766.477 1455.77 766.477 1460.26 Q766.477 1462.39 765.666 1464.31 Q764.879 1466.2 762.773 1468.8 Q762.194 1469.47 759.092 1472.69 Q755.99 1475.88 750.342 1481.64 Z\" fill=\"#000000\" fill-rule=\"nonzero\" fill-opacity=\"1\" /><path clip-path=\"url(#clip580)\" d=\"M786.476 1454.1 Q782.865 1454.1 781.037 1457.66 Q779.231 1461.2 779.231 1468.33 Q779.231 1475.44 781.037 1479.01 Q782.865 1482.55 786.476 1482.55 Q790.111 1482.55 791.916 1479.01 Q793.745 1475.44 793.745 1468.33 Q793.745 1461.2 791.916 1457.66 Q790.111 1454.1 786.476 1454.1 M786.476 1450.39 Q792.287 1450.39 795.342 1455 Q798.421 1459.58 798.421 1468.33 Q798.421 1477.06 795.342 1481.67 Q792.287 1486.25 786.476 1486.25 Q780.666 1486.25 777.588 1481.67 Q774.532 1477.06 774.532 1468.33 Q774.532 1459.58 777.588 1455 Q780.666 1450.39 786.476 1450.39 Z\" fill=\"#000000\" fill-rule=\"nonzero\" fill-opacity=\"1\" /><path clip-path=\"url(#clip580)\" d=\"M1267.2 1466.95 Q1270.56 1467.66 1272.43 1469.93 Q1274.33 1472.2 1274.33 1475.53 Q1274.33 1480.65 1270.81 1483.45 Q1267.29 1486.25 1260.81 1486.25 Q1258.64 1486.25 1256.32 1485.81 Q1254.03 1485.39 1251.58 1484.54 L1251.58 1480.02 Q1253.52 1481.16 1255.84 1481.74 Q1258.15 1482.32 1260.67 1482.32 Q1265.07 1482.32 1267.36 1480.58 Q1269.68 1478.84 1269.68 1475.53 Q1269.68 1472.48 1267.53 1470.77 Q1265.4 1469.03 1261.58 1469.03 L1257.55 1469.03 L1257.55 1465.19 L1261.76 1465.19 Q1265.21 1465.19 1267.04 1463.82 Q1268.87 1462.43 1268.87 1459.84 Q1268.87 1457.18 1266.97 1455.77 Q1265.1 1454.33 1261.58 1454.33 Q1259.66 1454.33 1257.46 1454.75 Q1255.26 1455.16 1252.62 1456.04 L1252.62 1451.88 Q1255.28 1451.14 1257.6 1450.77 Q1259.93 1450.39 1261.99 1450.39 Q1267.32 1450.39 1270.42 1452.83 Q1273.52 1455.23 1273.52 1459.35 Q1273.52 1462.22 1271.88 1464.21 Q1270.23 1466.18 1267.2 1466.95 Z\" fill=\"#000000\" fill-rule=\"nonzero\" fill-opacity=\"1\" /><path clip-path=\"url(#clip580)\" d=\"M1293.2 1454.1 Q1289.59 1454.1 1287.76 1457.66 Q1285.95 1461.2 1285.95 1468.33 Q1285.95 1475.44 1287.76 1479.01 Q1289.59 1482.55 1293.2 1482.55 Q1296.83 1482.55 1298.64 1479.01 Q1300.47 1475.44 1300.47 1468.33 Q1300.47 1461.2 1298.64 1457.66 Q1296.83 1454.1 1293.2 1454.1 M1293.2 1450.39 Q1299.01 1450.39 1302.06 1455 Q1305.14 1459.58 1305.14 1468.33 Q1305.14 1477.06 1302.06 1481.67 Q1299.01 1486.25 1293.2 1486.25 Q1287.39 1486.25 1284.31 1481.67 Q1281.25 1477.06 1281.25 1468.33 Q1281.25 1459.58 1284.31 1455 Q1287.39 1450.39 1293.2 1450.39 Z\" fill=\"#000000\" fill-rule=\"nonzero\" fill-opacity=\"1\" /><path clip-path=\"url(#clip580)\" d=\"M1773.32 1455.09 L1761.52 1473.54 L1773.32 1473.54 L1773.32 1455.09 M1772.09 1451.02 L1777.97 1451.02 L1777.97 1473.54 L1782.91 1473.54 L1782.91 1477.43 L1777.97 1477.43 L1777.97 1485.58 L1773.32 1485.58 L1773.32 1477.43 L1757.72 1477.43 L1757.72 1472.92 L1772.09 1451.02 Z\" fill=\"#000000\" fill-rule=\"nonzero\" fill-opacity=\"1\" /><path clip-path=\"url(#clip580)\" d=\"M1800.64 1454.1 Q1797.03 1454.1 1795.2 1457.66 Q1793.39 1461.2 1793.39 1468.33 Q1793.39 1475.44 1795.2 1479.01 Q1797.03 1482.55 1800.64 1482.55 Q1804.27 1482.55 1806.08 1479.01 Q1807.9 1475.44 1807.9 1468.33 Q1807.9 1461.2 1806.08 1457.66 Q1804.27 1454.1 1800.64 1454.1 M1800.64 1450.39 Q1806.45 1450.39 1809.5 1455 Q1812.58 1459.58 1812.58 1468.33 Q1812.58 1477.06 1809.5 1481.67 Q1806.45 1486.25 1800.64 1486.25 Q1794.83 1486.25 1791.75 1481.67 Q1788.69 1477.06 1788.69 1468.33 Q1788.69 1459.58 1791.75 1455 Q1794.83 1450.39 1800.64 1450.39 Z\" fill=\"#000000\" fill-rule=\"nonzero\" fill-opacity=\"1\" /><path clip-path=\"url(#clip580)\" d=\"M2266.64 1451.02 L2285 1451.02 L2285 1454.96 L2270.92 1454.96 L2270.92 1463.43 Q2271.94 1463.08 2272.96 1462.92 Q2273.98 1462.73 2275 1462.73 Q2280.78 1462.73 2284.16 1465.9 Q2287.54 1469.08 2287.54 1474.49 Q2287.54 1480.07 2284.07 1483.17 Q2280.6 1486.25 2274.28 1486.25 Q2272.1 1486.25 2269.83 1485.88 Q2267.59 1485.51 2265.18 1484.77 L2265.18 1480.07 Q2267.27 1481.2 2269.49 1481.76 Q2271.71 1482.32 2274.19 1482.32 Q2278.19 1482.32 2280.53 1480.21 Q2282.87 1478.1 2282.87 1474.49 Q2282.87 1470.88 2280.53 1468.77 Q2278.19 1466.67 2274.19 1466.67 Q2272.31 1466.67 2270.44 1467.08 Q2268.58 1467.5 2266.64 1468.38 L2266.64 1451.02 Z\" fill=\"#000000\" fill-rule=\"nonzero\" fill-opacity=\"1\" /><path clip-path=\"url(#clip580)\" d=\"M2306.76 1454.1 Q2303.14 1454.1 2301.32 1457.66 Q2299.51 1461.2 2299.51 1468.33 Q2299.51 1475.44 2301.32 1479.01 Q2303.14 1482.55 2306.76 1482.55 Q2310.39 1482.55 2312.2 1479.01 Q2314.02 1475.44 2314.02 1468.33 Q2314.02 1461.2 2312.2 1457.66 Q2310.39 1454.1 2306.76 1454.1 M2306.76 1450.39 Q2312.57 1450.39 2315.62 1455 Q2318.7 1459.58 2318.7 1468.33 Q2318.7 1477.06 2315.62 1481.67 Q2312.57 1486.25 2306.76 1486.25 Q2300.95 1486.25 2297.87 1481.67 Q2294.81 1477.06 2294.81 1468.33 Q2294.81 1459.58 2297.87 1455 Q2300.95 1450.39 2306.76 1450.39 Z\" fill=\"#000000\" fill-rule=\"nonzero\" fill-opacity=\"1\" /><path clip-path=\"url(#clip580)\" d=\"M1214.78 1522.27 L1214.78 1532.4 L1226.85 1532.4 L1226.85 1536.95 L1214.78 1536.95 L1214.78 1556.3 Q1214.78 1560.66 1215.96 1561.9 Q1217.17 1563.14 1220.83 1563.14 L1226.85 1563.14 L1226.85 1568.04 L1220.83 1568.04 Q1214.05 1568.04 1211.47 1565.53 Q1208.89 1562.98 1208.89 1556.3 L1208.89 1536.95 L1204.6 1536.95 L1204.6 1532.4 L1208.89 1532.4 L1208.89 1522.27 L1214.78 1522.27 Z\" fill=\"#000000\" fill-rule=\"nonzero\" fill-opacity=\"1\" /><path clip-path=\"url(#clip580)\" d=\"M1265.04 1548.76 L1265.04 1551.62 L1238.11 1551.62 Q1238.49 1557.67 1241.74 1560.85 Q1245.02 1564 1250.84 1564 Q1254.22 1564 1257.37 1563.17 Q1260.55 1562.35 1263.67 1560.69 L1263.67 1566.23 Q1260.52 1567.57 1257.21 1568.27 Q1253.9 1568.97 1250.49 1568.97 Q1241.96 1568.97 1236.97 1564 Q1232 1559.04 1232 1550.57 Q1232 1541.82 1236.71 1536.69 Q1241.45 1531.54 1249.48 1531.54 Q1256.67 1531.54 1260.84 1536.18 Q1265.04 1540.8 1265.04 1548.76 M1259.18 1547.04 Q1259.12 1542.23 1256.48 1539.37 Q1253.87 1536.5 1249.54 1536.5 Q1244.64 1536.5 1241.68 1539.27 Q1238.75 1542.04 1238.3 1547.07 L1259.18 1547.04 Z\" fill=\"#000000\" fill-rule=\"nonzero\" fill-opacity=\"1\" /><path clip-path=\"url(#clip580)\" d=\"M1295.31 1537.87 Q1294.32 1537.3 1293.14 1537.04 Q1292 1536.76 1290.6 1536.76 Q1285.63 1536.76 1282.96 1540 Q1280.32 1543.22 1280.32 1549.27 L1280.32 1568.04 L1274.43 1568.04 L1274.43 1532.4 L1280.32 1532.4 L1280.32 1537.93 Q1282.16 1534.69 1285.12 1533.13 Q1288.08 1531.54 1292.32 1531.54 Q1292.92 1531.54 1293.65 1531.63 Q1294.39 1531.7 1295.28 1531.85 L1295.31 1537.87 Z\" fill=\"#000000\" fill-rule=\"nonzero\" fill-opacity=\"1\" /><path clip-path=\"url(#clip580)\" d=\"M1328.06 1539.24 Q1330.26 1535.29 1333.31 1533.41 Q1336.37 1531.54 1340.5 1531.54 Q1346.07 1531.54 1349.1 1535.45 Q1352.12 1539.33 1352.12 1546.53 L1352.12 1568.04 L1346.23 1568.04 L1346.23 1546.72 Q1346.23 1541.59 1344.42 1539.11 Q1342.61 1536.63 1338.88 1536.63 Q1334.33 1536.63 1331.69 1539.65 Q1329.05 1542.68 1329.05 1547.9 L1329.05 1568.04 L1323.16 1568.04 L1323.16 1546.72 Q1323.16 1541.56 1321.34 1539.11 Q1319.53 1536.63 1315.74 1536.63 Q1311.25 1536.63 1308.61 1539.68 Q1305.97 1542.71 1305.97 1547.9 L1305.97 1568.04 L1300.08 1568.04 L1300.08 1532.4 L1305.97 1532.4 L1305.97 1537.93 Q1307.98 1534.66 1310.78 1533.1 Q1313.58 1531.54 1317.43 1531.54 Q1321.31 1531.54 1324.02 1533.51 Q1326.76 1535.48 1328.06 1539.24 Z\" fill=\"#000000\" fill-rule=\"nonzero\" fill-opacity=\"1\" /><polyline clip-path=\"url(#clip582)\" style=\"stroke:#000000; stroke-linecap:round; stroke-linejoin:round; stroke-width:2; stroke-opacity:0.1; fill:none\" points=\"203.964,1267.39 2352.76,1267.39 \"/>\n",
       "<polyline clip-path=\"url(#clip582)\" style=\"stroke:#000000; stroke-linecap:round; stroke-linejoin:round; stroke-width:2; stroke-opacity:0.1; fill:none\" points=\"203.964,1005.04 2352.76,1005.04 \"/>\n",
       "<polyline clip-path=\"url(#clip582)\" style=\"stroke:#000000; stroke-linecap:round; stroke-linejoin:round; stroke-width:2; stroke-opacity:0.1; fill:none\" points=\"203.964,742.695 2352.76,742.695 \"/>\n",
       "<polyline clip-path=\"url(#clip582)\" style=\"stroke:#000000; stroke-linecap:round; stroke-linejoin:round; stroke-width:2; stroke-opacity:0.1; fill:none\" points=\"203.964,480.346 2352.76,480.346 \"/>\n",
       "<polyline clip-path=\"url(#clip582)\" style=\"stroke:#000000; stroke-linecap:round; stroke-linejoin:round; stroke-width:2; stroke-opacity:0.1; fill:none\" points=\"203.964,217.996 2352.76,217.996 \"/>\n",
       "<polyline clip-path=\"url(#clip580)\" style=\"stroke:#000000; stroke-linecap:round; stroke-linejoin:round; stroke-width:4; stroke-opacity:1; fill:none\" points=\"203.964,1423.18 203.964,47.2441 \"/>\n",
       "<polyline clip-path=\"url(#clip580)\" style=\"stroke:#000000; stroke-linecap:round; stroke-linejoin:round; stroke-width:4; stroke-opacity:1; fill:none\" points=\"203.964,1267.39 222.861,1267.39 \"/>\n",
       "<polyline clip-path=\"url(#clip580)\" style=\"stroke:#000000; stroke-linecap:round; stroke-linejoin:round; stroke-width:4; stroke-opacity:1; fill:none\" points=\"203.964,1005.04 222.861,1005.04 \"/>\n",
       "<polyline clip-path=\"url(#clip580)\" style=\"stroke:#000000; stroke-linecap:round; stroke-linejoin:round; stroke-width:4; stroke-opacity:1; fill:none\" points=\"203.964,742.695 222.861,742.695 \"/>\n",
       "<polyline clip-path=\"url(#clip580)\" style=\"stroke:#000000; stroke-linecap:round; stroke-linejoin:round; stroke-width:4; stroke-opacity:1; fill:none\" points=\"203.964,480.346 222.861,480.346 \"/>\n",
       "<polyline clip-path=\"url(#clip580)\" style=\"stroke:#000000; stroke-linecap:round; stroke-linejoin:round; stroke-width:4; stroke-opacity:1; fill:none\" points=\"203.964,217.996 222.861,217.996 \"/>\n",
       "<path clip-path=\"url(#clip580)\" d=\"M116.668 1280.74 L124.306 1280.74 L124.306 1254.37 L115.996 1256.04 L115.996 1251.78 L124.26 1250.11 L128.936 1250.11 L128.936 1280.74 L136.575 1280.74 L136.575 1284.67 L116.668 1284.67 L116.668 1280.74 Z\" fill=\"#000000\" fill-rule=\"nonzero\" fill-opacity=\"1\" /><path clip-path=\"url(#clip580)\" d=\"M156.019 1253.19 Q152.408 1253.19 150.579 1256.76 Q148.774 1260.3 148.774 1267.43 Q148.774 1274.54 150.579 1278.1 Q152.408 1281.64 156.019 1281.64 Q159.653 1281.64 161.459 1278.1 Q163.288 1274.54 163.288 1267.43 Q163.288 1260.3 161.459 1256.76 Q159.653 1253.19 156.019 1253.19 M156.019 1249.49 Q161.829 1249.49 164.885 1254.1 Q167.964 1258.68 167.964 1267.43 Q167.964 1276.16 164.885 1280.76 Q161.829 1285.35 156.019 1285.35 Q150.209 1285.35 147.13 1280.76 Q144.075 1276.16 144.075 1267.43 Q144.075 1258.68 147.13 1254.1 Q150.209 1249.49 156.019 1249.49 Z\" fill=\"#000000\" fill-rule=\"nonzero\" fill-opacity=\"1\" /><path clip-path=\"url(#clip580)\" d=\"M117.663 1018.39 L125.302 1018.39 L125.302 992.024 L116.992 993.69 L116.992 989.431 L125.255 987.765 L129.931 987.765 L129.931 1018.39 L137.57 1018.39 L137.57 1022.32 L117.663 1022.32 L117.663 1018.39 Z\" fill=\"#000000\" fill-rule=\"nonzero\" fill-opacity=\"1\" /><path clip-path=\"url(#clip580)\" d=\"M147.061 987.765 L165.417 987.765 L165.417 991.7 L151.343 991.7 L151.343 1000.17 Q152.362 999.825 153.38 999.663 Q154.399 999.477 155.417 999.477 Q161.204 999.477 164.584 1002.65 Q167.964 1005.82 167.964 1011.24 Q167.964 1016.82 164.491 1019.92 Q161.019 1023 154.7 1023 Q152.524 1023 150.255 1022.63 Q148.01 1022.26 145.603 1021.51 L145.603 1016.82 Q147.686 1017.95 149.908 1018.51 Q152.13 1019.06 154.607 1019.06 Q158.612 1019.06 160.95 1016.95 Q163.288 1014.85 163.288 1011.24 Q163.288 1007.63 160.95 1005.52 Q158.612 1003.41 154.607 1003.41 Q152.732 1003.41 150.857 1003.83 Q149.005 1004.25 147.061 1005.13 L147.061 987.765 Z\" fill=\"#000000\" fill-rule=\"nonzero\" fill-opacity=\"1\" /><path clip-path=\"url(#clip580)\" d=\"M119.885 756.04 L136.204 756.04 L136.204 759.975 L114.26 759.975 L114.26 756.04 Q116.922 753.285 121.505 748.656 Q126.112 744.003 127.292 742.66 Q129.538 740.137 130.417 738.401 Q131.32 736.642 131.32 734.952 Q131.32 732.197 129.376 730.461 Q127.455 728.725 124.353 728.725 Q122.154 728.725 119.7 729.489 Q117.269 730.253 114.492 731.804 L114.492 727.082 Q117.316 725.947 119.769 725.369 Q122.223 724.79 124.26 724.79 Q129.63 724.79 132.825 727.475 Q136.019 730.16 136.019 734.651 Q136.019 736.781 135.209 738.702 Q134.422 740.6 132.316 743.193 Q131.737 743.864 128.635 747.082 Q125.533 750.276 119.885 756.04 Z\" fill=\"#000000\" fill-rule=\"nonzero\" fill-opacity=\"1\" /><path clip-path=\"url(#clip580)\" d=\"M156.019 728.494 Q152.408 728.494 150.579 732.059 Q148.774 735.6 148.774 742.73 Q148.774 749.836 150.579 753.401 Q152.408 756.943 156.019 756.943 Q159.653 756.943 161.459 753.401 Q163.288 749.836 163.288 742.73 Q163.288 735.6 161.459 732.059 Q159.653 728.494 156.019 728.494 M156.019 724.79 Q161.829 724.79 164.885 729.396 Q167.964 733.98 167.964 742.73 Q167.964 751.457 164.885 756.063 Q161.829 760.646 156.019 760.646 Q150.209 760.646 147.13 756.063 Q144.075 751.457 144.075 742.73 Q144.075 733.98 147.13 729.396 Q150.209 724.79 156.019 724.79 Z\" fill=\"#000000\" fill-rule=\"nonzero\" fill-opacity=\"1\" /><path clip-path=\"url(#clip580)\" d=\"M120.88 493.69 L137.2 493.69 L137.2 497.626 L115.256 497.626 L115.256 493.69 Q117.918 490.936 122.501 486.306 Q127.107 481.653 128.288 480.311 Q130.533 477.788 131.413 476.052 Q132.316 474.292 132.316 472.602 Q132.316 469.848 130.371 468.112 Q128.45 466.376 125.348 466.376 Q123.149 466.376 120.695 467.14 Q118.265 467.903 115.487 469.454 L115.487 464.732 Q118.311 463.598 120.765 463.019 Q123.218 462.441 125.255 462.441 Q130.626 462.441 133.82 465.126 Q137.015 467.811 137.015 472.302 Q137.015 474.431 136.204 476.352 Q135.417 478.251 133.311 480.843 Q132.732 481.514 129.63 484.732 Q126.529 487.926 120.88 493.69 Z\" fill=\"#000000\" fill-rule=\"nonzero\" fill-opacity=\"1\" /><path clip-path=\"url(#clip580)\" d=\"M147.061 463.066 L165.417 463.066 L165.417 467.001 L151.343 467.001 L151.343 475.473 Q152.362 475.126 153.38 474.964 Q154.399 474.778 155.417 474.778 Q161.204 474.778 164.584 477.95 Q167.964 481.121 167.964 486.538 Q167.964 492.116 164.491 495.218 Q161.019 498.297 154.7 498.297 Q152.524 498.297 150.255 497.926 Q148.01 497.556 145.603 496.815 L145.603 492.116 Q147.686 493.251 149.908 493.806 Q152.13 494.362 154.607 494.362 Q158.612 494.362 160.95 492.255 Q163.288 490.149 163.288 486.538 Q163.288 482.927 160.95 480.82 Q158.612 478.714 154.607 478.714 Q152.732 478.714 150.857 479.13 Q149.005 479.547 147.061 480.427 L147.061 463.066 Z\" fill=\"#000000\" fill-rule=\"nonzero\" fill-opacity=\"1\" /><path clip-path=\"url(#clip580)\" d=\"M130.024 216.642 Q133.38 217.359 135.255 219.628 Q137.154 221.896 137.154 225.23 Q137.154 230.345 133.635 233.146 Q130.117 235.947 123.635 235.947 Q121.459 235.947 119.144 235.507 Q116.853 235.091 114.399 234.234 L114.399 229.72 Q116.343 230.855 118.658 231.433 Q120.973 232.012 123.496 232.012 Q127.894 232.012 130.186 230.276 Q132.501 228.54 132.501 225.23 Q132.501 222.174 130.348 220.461 Q128.218 218.725 124.399 218.725 L120.371 218.725 L120.371 214.883 L124.584 214.883 Q128.033 214.883 129.862 213.517 Q131.691 212.128 131.691 209.535 Q131.691 206.873 129.792 205.461 Q127.917 204.026 124.399 204.026 Q122.478 204.026 120.279 204.443 Q118.08 204.859 115.441 205.739 L115.441 201.572 Q118.103 200.832 120.418 200.461 Q122.755 200.091 124.816 200.091 Q130.14 200.091 133.242 202.522 Q136.343 204.929 136.343 209.049 Q136.343 211.92 134.7 213.91 Q133.056 215.878 130.024 216.642 Z\" fill=\"#000000\" fill-rule=\"nonzero\" fill-opacity=\"1\" /><path clip-path=\"url(#clip580)\" d=\"M156.019 203.795 Q152.408 203.795 150.579 207.359 Q148.774 210.901 148.774 218.031 Q148.774 225.137 150.579 228.702 Q152.408 232.244 156.019 232.244 Q159.653 232.244 161.459 228.702 Q163.288 225.137 163.288 218.031 Q163.288 210.901 161.459 207.359 Q159.653 203.795 156.019 203.795 M156.019 200.091 Q161.829 200.091 164.885 204.697 Q167.964 209.281 167.964 218.031 Q167.964 226.758 164.885 231.364 Q161.829 235.947 156.019 235.947 Q150.209 235.947 147.13 231.364 Q144.075 226.758 144.075 218.031 Q144.075 209.281 147.13 204.697 Q150.209 200.091 156.019 200.091 Z\" fill=\"#000000\" fill-rule=\"nonzero\" fill-opacity=\"1\" /><path clip-path=\"url(#clip580)\" d=\"M42.4881 873.475 L64.0042 873.475 L64.0042 879.332 L42.679 879.332 Q37.6183 879.332 35.1038 881.305 Q32.5894 883.278 32.5894 887.225 Q32.5894 891.967 35.6131 894.705 Q38.6368 897.442 43.8567 897.442 L64.0042 897.442 L64.0042 903.33 L28.3562 903.33 L28.3562 897.442 L33.8944 897.442 Q30.6797 895.341 29.0883 892.509 Q27.4968 889.644 27.4968 885.92 Q27.4968 879.777 31.3163 876.626 Q35.1038 873.475 42.4881 873.475 Z\" fill=\"#000000\" fill-rule=\"nonzero\" fill-opacity=\"1\" /><path clip-path=\"url(#clip580)\" d=\"M49.9359 862.399 L28.3562 862.399 L28.3562 856.542 L49.7131 856.542 Q54.7739 856.542 57.3202 854.569 Q59.8346 852.596 59.8346 848.649 Q59.8346 843.906 56.8109 841.169 Q53.7872 838.4 48.5673 838.4 L28.3562 838.4 L28.3562 832.544 L64.0042 832.544 L64.0042 838.4 L58.5296 838.4 Q61.7762 840.533 63.3676 843.365 Q64.9272 846.166 64.9272 849.89 Q64.9272 856.033 61.1078 859.216 Q57.2883 862.399 49.9359 862.399 M27.4968 847.662 L27.4968 847.662 Z\" fill=\"#000000\" fill-rule=\"nonzero\" fill-opacity=\"1\" /><path clip-path=\"url(#clip580)\" d=\"M35.1993 792.726 Q31.2526 790.53 29.3747 787.474 Q27.4968 784.419 27.4968 780.281 Q27.4968 774.711 31.4117 771.687 Q35.2948 768.664 42.4881 768.664 L64.0042 768.664 L64.0042 774.552 L42.679 774.552 Q37.5546 774.552 35.072 776.366 Q32.5894 778.18 32.5894 781.904 Q32.5894 786.456 35.6131 789.098 Q38.6368 791.739 43.8567 791.739 L64.0042 791.739 L64.0042 797.628 L42.679 797.628 Q37.5228 797.628 35.072 799.442 Q32.5894 801.256 32.5894 805.044 Q32.5894 809.532 35.6449 812.173 Q38.6686 814.815 43.8567 814.815 L64.0042 814.815 L64.0042 820.703 L28.3562 820.703 L28.3562 814.815 L33.8944 814.815 Q30.616 812.81 29.0564 810.009 Q27.4968 807.208 27.4968 803.357 Q27.4968 799.474 29.4702 796.768 Q31.4436 794.031 35.1993 792.726 Z\" fill=\"#000000\" fill-rule=\"nonzero\" fill-opacity=\"1\" /><path clip-path=\"url(#clip580)\" d=\"M33.7671 712.805 L14.479 712.805 L14.479 706.948 L64.0042 706.948 L64.0042 712.805 L58.657 712.805 Q61.8398 714.651 63.3994 717.483 Q64.9272 720.284 64.9272 724.231 Q64.9272 730.692 59.771 734.766 Q54.6147 738.809 46.212 738.809 Q37.8093 738.809 32.6531 734.766 Q27.4968 730.692 27.4968 724.231 Q27.4968 720.284 29.0564 717.483 Q30.5842 714.651 33.7671 712.805 M46.212 732.761 Q52.6732 732.761 56.3653 730.119 Q60.0256 727.446 60.0256 722.799 Q60.0256 718.152 56.3653 715.478 Q52.6732 712.805 46.212 712.805 Q39.7508 712.805 36.0905 715.478 Q32.3984 718.152 32.3984 722.799 Q32.3984 727.446 36.0905 730.119 Q39.7508 732.761 46.212 732.761 Z\" fill=\"#000000\" fill-rule=\"nonzero\" fill-opacity=\"1\" /><path clip-path=\"url(#clip580)\" d=\"M28.3562 694.885 L28.3562 689.029 L64.0042 689.029 L64.0042 694.885 L28.3562 694.885 M14.479 694.885 L14.479 689.029 L21.895 689.029 L21.895 694.885 L14.479 694.885 Z\" fill=\"#000000\" fill-rule=\"nonzero\" fill-opacity=\"1\" /><path clip-path=\"url(#clip580)\" d=\"M45.7664 653.317 Q39.4007 653.317 35.8996 655.959 Q32.3984 658.569 32.3984 663.311 Q32.3984 668.022 35.8996 670.664 Q39.4007 673.274 45.7664 673.274 Q52.1003 673.274 55.6014 670.664 Q59.1026 668.022 59.1026 663.311 Q59.1026 658.569 55.6014 655.959 Q52.1003 653.317 45.7664 653.317 M59.58 647.461 Q68.683 647.461 73.1071 651.503 Q77.5631 655.545 77.5631 663.884 Q77.5631 666.972 77.0857 669.709 Q76.6401 672.446 75.6852 675.024 L69.9879 675.024 Q71.3884 672.446 72.0568 669.932 Q72.7252 667.417 72.7252 664.807 Q72.7252 659.046 69.7015 656.182 Q66.7096 653.317 60.6303 653.317 L57.7339 653.317 Q60.885 655.131 62.4446 657.964 Q64.0042 660.797 64.0042 664.744 Q64.0042 671.3 59.0071 675.311 Q54.01 679.321 45.7664 679.321 Q37.491 679.321 32.4939 675.311 Q27.4968 671.3 27.4968 664.744 Q27.4968 660.797 29.0564 657.964 Q30.616 655.131 33.7671 653.317 L28.3562 653.317 L28.3562 647.461 L59.58 647.461 Z\" fill=\"#000000\" fill-rule=\"nonzero\" fill-opacity=\"1\" /><path clip-path=\"url(#clip580)\" d=\"M28.3562 635.398 L28.3562 629.541 L64.0042 629.541 L64.0042 635.398 L28.3562 635.398 M14.479 635.398 L14.479 629.541 L21.895 629.541 L21.895 635.398 L14.479 635.398 Z\" fill=\"#000000\" fill-rule=\"nonzero\" fill-opacity=\"1\" /><path clip-path=\"url(#clip580)\" d=\"M18.2347 611.494 L28.3562 611.494 L28.3562 599.431 L32.9077 599.431 L32.9077 611.494 L52.2594 611.494 Q56.6199 611.494 57.8613 610.317 Q59.1026 609.107 59.1026 605.447 L59.1026 599.431 L64.0042 599.431 L64.0042 605.447 Q64.0042 612.227 61.4897 614.805 Q58.9434 617.383 52.2594 617.383 L32.9077 617.383 L32.9077 621.68 L28.3562 621.68 L28.3562 617.383 L18.2347 617.383 L18.2347 611.494 Z\" fill=\"#000000\" fill-rule=\"nonzero\" fill-opacity=\"1\" /><path clip-path=\"url(#clip580)\" d=\"M29.4065 569.003 L34.9447 569.003 Q33.6716 571.486 33.035 574.16 Q32.3984 576.833 32.3984 579.698 Q32.3984 584.058 33.7352 586.254 Q35.072 588.419 37.7456 588.419 Q39.7826 588.419 40.9603 586.859 Q42.1061 585.3 43.1565 580.589 L43.6021 578.584 Q44.9389 572.345 47.3897 569.735 Q49.8086 567.094 54.1691 567.094 Q59.1344 567.094 62.0308 571.04 Q64.9272 574.955 64.9272 581.83 Q64.9272 584.695 64.3543 587.814 Q63.8132 590.901 62.6992 594.339 L56.6518 594.339 Q58.3387 591.092 59.198 587.941 Q60.0256 584.79 60.0256 581.703 Q60.0256 577.565 58.6251 575.337 Q57.1929 573.109 54.6147 573.109 Q52.2276 573.109 50.9545 574.733 Q49.6813 576.324 48.5037 581.767 L48.0262 583.804 Q46.8804 589.246 44.5251 591.665 Q42.138 594.084 38.0002 594.084 Q32.9713 594.084 30.2341 590.519 Q27.4968 586.955 27.4968 580.398 Q27.4968 577.151 27.9743 574.287 Q28.4517 571.422 29.4065 569.003 Z\" fill=\"#000000\" fill-rule=\"nonzero\" fill-opacity=\"1\" /><circle clip-path=\"url(#clip582)\" cx=\"264.778\" cy=\"1384.24\" r=\"14.4\" fill=\"#009af9\" fill-rule=\"evenodd\" fill-opacity=\"1\" stroke=\"#000000\" stroke-opacity=\"1\" stroke-width=\"3.2\"/>\n",
       "<circle clip-path=\"url(#clip582)\" cx=\"771.569\" cy=\"1053.91\" r=\"14.4\" fill=\"#009af9\" fill-rule=\"evenodd\" fill-opacity=\"1\" stroke=\"#000000\" stroke-opacity=\"1\" stroke-width=\"3.2\"/>\n",
       "<circle clip-path=\"url(#clip582)\" cx=\"1278.36\" cy=\"729.243\" r=\"14.4\" fill=\"#009af9\" fill-rule=\"evenodd\" fill-opacity=\"1\" stroke=\"#000000\" stroke-opacity=\"1\" stroke-width=\"3.2\"/>\n",
       "<circle clip-path=\"url(#clip582)\" cx=\"1785.15\" cy=\"407.026\" r=\"14.4\" fill=\"#009af9\" fill-rule=\"evenodd\" fill-opacity=\"1\" stroke=\"#000000\" stroke-opacity=\"1\" stroke-width=\"3.2\"/>\n",
       "<circle clip-path=\"url(#clip582)\" cx=\"2291.94\" cy=\"86.1857\" r=\"14.4\" fill=\"#009af9\" fill-rule=\"evenodd\" fill-opacity=\"1\" stroke=\"#000000\" stroke-opacity=\"1\" stroke-width=\"3.2\"/>\n",
       "</svg>\n"
      ],
      "text/html": [
       "<?xml version=\"1.0\" encoding=\"utf-8\"?>\n",
       "<svg xmlns=\"http://www.w3.org/2000/svg\" xmlns:xlink=\"http://www.w3.org/1999/xlink\" width=\"600\" height=\"400\" viewBox=\"0 0 2400 1600\">\n",
       "<defs>\n",
       "  <clipPath id=\"clip630\">\n",
       "    <rect x=\"0\" y=\"0\" width=\"2400\" height=\"1600\"/>\n",
       "  </clipPath>\n",
       "</defs>\n",
       "<path clip-path=\"url(#clip630)\" d=\"M0 1600 L2400 1600 L2400 8.88178e-14 L0 8.88178e-14  Z\" fill=\"#ffffff\" fill-rule=\"evenodd\" fill-opacity=\"1\"/>\n",
       "<defs>\n",
       "  <clipPath id=\"clip631\">\n",
       "    <rect x=\"480\" y=\"0\" width=\"1681\" height=\"1600\"/>\n",
       "  </clipPath>\n",
       "</defs>\n",
       "<path clip-path=\"url(#clip630)\" d=\"M203.964 1423.18 L2352.76 1423.18 L2352.76 47.2441 L203.964 47.2441  Z\" fill=\"#ffffff\" fill-rule=\"evenodd\" fill-opacity=\"1\"/>\n",
       "<defs>\n",
       "  <clipPath id=\"clip632\">\n",
       "    <rect x=\"203\" y=\"47\" width=\"2150\" height=\"1377\"/>\n",
       "  </clipPath>\n",
       "</defs>\n",
       "<polyline clip-path=\"url(#clip632)\" style=\"stroke:#000000; stroke-linecap:round; stroke-linejoin:round; stroke-width:2; stroke-opacity:0.1; fill:none\" points=\"264.778,1423.18 264.778,47.2441 \"/>\n",
       "<polyline clip-path=\"url(#clip632)\" style=\"stroke:#000000; stroke-linecap:round; stroke-linejoin:round; stroke-width:2; stroke-opacity:0.1; fill:none\" points=\"771.569,1423.18 771.569,47.2441 \"/>\n",
       "<polyline clip-path=\"url(#clip632)\" style=\"stroke:#000000; stroke-linecap:round; stroke-linejoin:round; stroke-width:2; stroke-opacity:0.1; fill:none\" points=\"1278.36,1423.18 1278.36,47.2441 \"/>\n",
       "<polyline clip-path=\"url(#clip632)\" style=\"stroke:#000000; stroke-linecap:round; stroke-linejoin:round; stroke-width:2; stroke-opacity:0.1; fill:none\" points=\"1785.15,1423.18 1785.15,47.2441 \"/>\n",
       "<polyline clip-path=\"url(#clip632)\" style=\"stroke:#000000; stroke-linecap:round; stroke-linejoin:round; stroke-width:2; stroke-opacity:0.1; fill:none\" points=\"2291.94,1423.18 2291.94,47.2441 \"/>\n",
       "<polyline clip-path=\"url(#clip630)\" style=\"stroke:#000000; stroke-linecap:round; stroke-linejoin:round; stroke-width:4; stroke-opacity:1; fill:none\" points=\"203.964,1423.18 2352.76,1423.18 \"/>\n",
       "<polyline clip-path=\"url(#clip630)\" style=\"stroke:#000000; stroke-linecap:round; stroke-linejoin:round; stroke-width:4; stroke-opacity:1; fill:none\" points=\"264.778,1423.18 264.778,1404.28 \"/>\n",
       "<polyline clip-path=\"url(#clip630)\" style=\"stroke:#000000; stroke-linecap:round; stroke-linejoin:round; stroke-width:4; stroke-opacity:1; fill:none\" points=\"771.569,1423.18 771.569,1404.28 \"/>\n",
       "<polyline clip-path=\"url(#clip630)\" style=\"stroke:#000000; stroke-linecap:round; stroke-linejoin:round; stroke-width:4; stroke-opacity:1; fill:none\" points=\"1278.36,1423.18 1278.36,1404.28 \"/>\n",
       "<polyline clip-path=\"url(#clip630)\" style=\"stroke:#000000; stroke-linecap:round; stroke-linejoin:round; stroke-width:4; stroke-opacity:1; fill:none\" points=\"1785.15,1423.18 1785.15,1404.28 \"/>\n",
       "<polyline clip-path=\"url(#clip630)\" style=\"stroke:#000000; stroke-linecap:round; stroke-linejoin:round; stroke-width:4; stroke-opacity:1; fill:none\" points=\"2291.94,1423.18 2291.94,1404.28 \"/>\n",
       "<path clip-path=\"url(#clip630)\" d=\"M239.466 1481.64 L247.105 1481.64 L247.105 1455.28 L238.795 1456.95 L238.795 1452.69 L247.059 1451.02 L251.735 1451.02 L251.735 1481.64 L259.373 1481.64 L259.373 1485.58 L239.466 1485.58 L239.466 1481.64 Z\" fill=\"#000000\" fill-rule=\"nonzero\" fill-opacity=\"1\" /><path clip-path=\"url(#clip630)\" d=\"M278.818 1454.1 Q275.207 1454.1 273.378 1457.66 Q271.572 1461.2 271.572 1468.33 Q271.572 1475.44 273.378 1479.01 Q275.207 1482.55 278.818 1482.55 Q282.452 1482.55 284.258 1479.01 Q286.086 1475.44 286.086 1468.33 Q286.086 1461.2 284.258 1457.66 Q282.452 1454.1 278.818 1454.1 M278.818 1450.39 Q284.628 1450.39 287.683 1455 Q290.762 1459.58 290.762 1468.33 Q290.762 1477.06 287.683 1481.67 Q284.628 1486.25 278.818 1486.25 Q273.008 1486.25 269.929 1481.67 Q266.873 1477.06 266.873 1468.33 Q266.873 1459.58 269.929 1455 Q273.008 1450.39 278.818 1450.39 Z\" fill=\"#000000\" fill-rule=\"nonzero\" fill-opacity=\"1\" /><path clip-path=\"url(#clip630)\" d=\"M750.342 1481.64 L766.662 1481.64 L766.662 1485.58 L744.717 1485.58 L744.717 1481.64 Q747.379 1478.89 751.963 1474.26 Q756.569 1469.61 757.75 1468.27 Q759.995 1465.74 760.875 1464.01 Q761.777 1462.25 761.777 1460.56 Q761.777 1457.8 759.833 1456.07 Q757.912 1454.33 754.81 1454.33 Q752.611 1454.33 750.157 1455.09 Q747.727 1455.86 744.949 1457.41 L744.949 1452.69 Q747.773 1451.55 750.227 1450.97 Q752.68 1450.39 754.717 1450.39 Q760.088 1450.39 763.282 1453.08 Q766.477 1455.77 766.477 1460.26 Q766.477 1462.39 765.666 1464.31 Q764.879 1466.2 762.773 1468.8 Q762.194 1469.47 759.092 1472.69 Q755.99 1475.88 750.342 1481.64 Z\" fill=\"#000000\" fill-rule=\"nonzero\" fill-opacity=\"1\" /><path clip-path=\"url(#clip630)\" d=\"M786.476 1454.1 Q782.865 1454.1 781.037 1457.66 Q779.231 1461.2 779.231 1468.33 Q779.231 1475.44 781.037 1479.01 Q782.865 1482.55 786.476 1482.55 Q790.111 1482.55 791.916 1479.01 Q793.745 1475.44 793.745 1468.33 Q793.745 1461.2 791.916 1457.66 Q790.111 1454.1 786.476 1454.1 M786.476 1450.39 Q792.287 1450.39 795.342 1455 Q798.421 1459.58 798.421 1468.33 Q798.421 1477.06 795.342 1481.67 Q792.287 1486.25 786.476 1486.25 Q780.666 1486.25 777.588 1481.67 Q774.532 1477.06 774.532 1468.33 Q774.532 1459.58 777.588 1455 Q780.666 1450.39 786.476 1450.39 Z\" fill=\"#000000\" fill-rule=\"nonzero\" fill-opacity=\"1\" /><path clip-path=\"url(#clip630)\" d=\"M1267.2 1466.95 Q1270.56 1467.66 1272.43 1469.93 Q1274.33 1472.2 1274.33 1475.53 Q1274.33 1480.65 1270.81 1483.45 Q1267.29 1486.25 1260.81 1486.25 Q1258.64 1486.25 1256.32 1485.81 Q1254.03 1485.39 1251.58 1484.54 L1251.58 1480.02 Q1253.52 1481.16 1255.84 1481.74 Q1258.15 1482.32 1260.67 1482.32 Q1265.07 1482.32 1267.36 1480.58 Q1269.68 1478.84 1269.68 1475.53 Q1269.68 1472.48 1267.53 1470.77 Q1265.4 1469.03 1261.58 1469.03 L1257.55 1469.03 L1257.55 1465.19 L1261.76 1465.19 Q1265.21 1465.19 1267.04 1463.82 Q1268.87 1462.43 1268.87 1459.84 Q1268.87 1457.18 1266.97 1455.77 Q1265.1 1454.33 1261.58 1454.33 Q1259.66 1454.33 1257.46 1454.75 Q1255.26 1455.16 1252.62 1456.04 L1252.62 1451.88 Q1255.28 1451.14 1257.6 1450.77 Q1259.93 1450.39 1261.99 1450.39 Q1267.32 1450.39 1270.42 1452.83 Q1273.52 1455.23 1273.52 1459.35 Q1273.52 1462.22 1271.88 1464.21 Q1270.23 1466.18 1267.2 1466.95 Z\" fill=\"#000000\" fill-rule=\"nonzero\" fill-opacity=\"1\" /><path clip-path=\"url(#clip630)\" d=\"M1293.2 1454.1 Q1289.59 1454.1 1287.76 1457.66 Q1285.95 1461.2 1285.95 1468.33 Q1285.95 1475.44 1287.76 1479.01 Q1289.59 1482.55 1293.2 1482.55 Q1296.83 1482.55 1298.64 1479.01 Q1300.47 1475.44 1300.47 1468.33 Q1300.47 1461.2 1298.64 1457.66 Q1296.83 1454.1 1293.2 1454.1 M1293.2 1450.39 Q1299.01 1450.39 1302.06 1455 Q1305.14 1459.58 1305.14 1468.33 Q1305.14 1477.06 1302.06 1481.67 Q1299.01 1486.25 1293.2 1486.25 Q1287.39 1486.25 1284.31 1481.67 Q1281.25 1477.06 1281.25 1468.33 Q1281.25 1459.58 1284.31 1455 Q1287.39 1450.39 1293.2 1450.39 Z\" fill=\"#000000\" fill-rule=\"nonzero\" fill-opacity=\"1\" /><path clip-path=\"url(#clip630)\" d=\"M1773.32 1455.09 L1761.52 1473.54 L1773.32 1473.54 L1773.32 1455.09 M1772.09 1451.02 L1777.97 1451.02 L1777.97 1473.54 L1782.91 1473.54 L1782.91 1477.43 L1777.97 1477.43 L1777.97 1485.58 L1773.32 1485.58 L1773.32 1477.43 L1757.72 1477.43 L1757.72 1472.92 L1772.09 1451.02 Z\" fill=\"#000000\" fill-rule=\"nonzero\" fill-opacity=\"1\" /><path clip-path=\"url(#clip630)\" d=\"M1800.64 1454.1 Q1797.03 1454.1 1795.2 1457.66 Q1793.39 1461.2 1793.39 1468.33 Q1793.39 1475.44 1795.2 1479.01 Q1797.03 1482.55 1800.64 1482.55 Q1804.27 1482.55 1806.08 1479.01 Q1807.9 1475.44 1807.9 1468.33 Q1807.9 1461.2 1806.08 1457.66 Q1804.27 1454.1 1800.64 1454.1 M1800.64 1450.39 Q1806.45 1450.39 1809.5 1455 Q1812.58 1459.58 1812.58 1468.33 Q1812.58 1477.06 1809.5 1481.67 Q1806.45 1486.25 1800.64 1486.25 Q1794.83 1486.25 1791.75 1481.67 Q1788.69 1477.06 1788.69 1468.33 Q1788.69 1459.58 1791.75 1455 Q1794.83 1450.39 1800.64 1450.39 Z\" fill=\"#000000\" fill-rule=\"nonzero\" fill-opacity=\"1\" /><path clip-path=\"url(#clip630)\" d=\"M2266.64 1451.02 L2285 1451.02 L2285 1454.96 L2270.92 1454.96 L2270.92 1463.43 Q2271.94 1463.08 2272.96 1462.92 Q2273.98 1462.73 2275 1462.73 Q2280.78 1462.73 2284.16 1465.9 Q2287.54 1469.08 2287.54 1474.49 Q2287.54 1480.07 2284.07 1483.17 Q2280.6 1486.25 2274.28 1486.25 Q2272.1 1486.25 2269.83 1485.88 Q2267.59 1485.51 2265.18 1484.77 L2265.18 1480.07 Q2267.27 1481.2 2269.49 1481.76 Q2271.71 1482.32 2274.19 1482.32 Q2278.19 1482.32 2280.53 1480.21 Q2282.87 1478.1 2282.87 1474.49 Q2282.87 1470.88 2280.53 1468.77 Q2278.19 1466.67 2274.19 1466.67 Q2272.31 1466.67 2270.44 1467.08 Q2268.58 1467.5 2266.64 1468.38 L2266.64 1451.02 Z\" fill=\"#000000\" fill-rule=\"nonzero\" fill-opacity=\"1\" /><path clip-path=\"url(#clip630)\" d=\"M2306.76 1454.1 Q2303.14 1454.1 2301.32 1457.66 Q2299.51 1461.2 2299.51 1468.33 Q2299.51 1475.44 2301.32 1479.01 Q2303.14 1482.55 2306.76 1482.55 Q2310.39 1482.55 2312.2 1479.01 Q2314.02 1475.44 2314.02 1468.33 Q2314.02 1461.2 2312.2 1457.66 Q2310.39 1454.1 2306.76 1454.1 M2306.76 1450.39 Q2312.57 1450.39 2315.62 1455 Q2318.7 1459.58 2318.7 1468.33 Q2318.7 1477.06 2315.62 1481.67 Q2312.57 1486.25 2306.76 1486.25 Q2300.95 1486.25 2297.87 1481.67 Q2294.81 1477.06 2294.81 1468.33 Q2294.81 1459.58 2297.87 1455 Q2300.95 1450.39 2306.76 1450.39 Z\" fill=\"#000000\" fill-rule=\"nonzero\" fill-opacity=\"1\" /><path clip-path=\"url(#clip630)\" d=\"M1214.78 1522.27 L1214.78 1532.4 L1226.85 1532.4 L1226.85 1536.95 L1214.78 1536.95 L1214.78 1556.3 Q1214.78 1560.66 1215.96 1561.9 Q1217.17 1563.14 1220.83 1563.14 L1226.85 1563.14 L1226.85 1568.04 L1220.83 1568.04 Q1214.05 1568.04 1211.47 1565.53 Q1208.89 1562.98 1208.89 1556.3 L1208.89 1536.95 L1204.6 1536.95 L1204.6 1532.4 L1208.89 1532.4 L1208.89 1522.27 L1214.78 1522.27 Z\" fill=\"#000000\" fill-rule=\"nonzero\" fill-opacity=\"1\" /><path clip-path=\"url(#clip630)\" d=\"M1265.04 1548.76 L1265.04 1551.62 L1238.11 1551.62 Q1238.49 1557.67 1241.74 1560.85 Q1245.02 1564 1250.84 1564 Q1254.22 1564 1257.37 1563.17 Q1260.55 1562.35 1263.67 1560.69 L1263.67 1566.23 Q1260.52 1567.57 1257.21 1568.27 Q1253.9 1568.97 1250.49 1568.97 Q1241.96 1568.97 1236.97 1564 Q1232 1559.04 1232 1550.57 Q1232 1541.82 1236.71 1536.69 Q1241.45 1531.54 1249.48 1531.54 Q1256.67 1531.54 1260.84 1536.18 Q1265.04 1540.8 1265.04 1548.76 M1259.18 1547.04 Q1259.12 1542.23 1256.48 1539.37 Q1253.87 1536.5 1249.54 1536.5 Q1244.64 1536.5 1241.68 1539.27 Q1238.75 1542.04 1238.3 1547.07 L1259.18 1547.04 Z\" fill=\"#000000\" fill-rule=\"nonzero\" fill-opacity=\"1\" /><path clip-path=\"url(#clip630)\" d=\"M1295.31 1537.87 Q1294.32 1537.3 1293.14 1537.04 Q1292 1536.76 1290.6 1536.76 Q1285.63 1536.76 1282.96 1540 Q1280.32 1543.22 1280.32 1549.27 L1280.32 1568.04 L1274.43 1568.04 L1274.43 1532.4 L1280.32 1532.4 L1280.32 1537.93 Q1282.16 1534.69 1285.12 1533.13 Q1288.08 1531.54 1292.32 1531.54 Q1292.92 1531.54 1293.65 1531.63 Q1294.39 1531.7 1295.28 1531.85 L1295.31 1537.87 Z\" fill=\"#000000\" fill-rule=\"nonzero\" fill-opacity=\"1\" /><path clip-path=\"url(#clip630)\" d=\"M1328.06 1539.24 Q1330.26 1535.29 1333.31 1533.41 Q1336.37 1531.54 1340.5 1531.54 Q1346.07 1531.54 1349.1 1535.45 Q1352.12 1539.33 1352.12 1546.53 L1352.12 1568.04 L1346.23 1568.04 L1346.23 1546.72 Q1346.23 1541.59 1344.42 1539.11 Q1342.61 1536.63 1338.88 1536.63 Q1334.33 1536.63 1331.69 1539.65 Q1329.05 1542.68 1329.05 1547.9 L1329.05 1568.04 L1323.16 1568.04 L1323.16 1546.72 Q1323.16 1541.56 1321.34 1539.11 Q1319.53 1536.63 1315.74 1536.63 Q1311.25 1536.63 1308.61 1539.68 Q1305.97 1542.71 1305.97 1547.9 L1305.97 1568.04 L1300.08 1568.04 L1300.08 1532.4 L1305.97 1532.4 L1305.97 1537.93 Q1307.98 1534.66 1310.78 1533.1 Q1313.58 1531.54 1317.43 1531.54 Q1321.31 1531.54 1324.02 1533.51 Q1326.76 1535.48 1328.06 1539.24 Z\" fill=\"#000000\" fill-rule=\"nonzero\" fill-opacity=\"1\" /><polyline clip-path=\"url(#clip632)\" style=\"stroke:#000000; stroke-linecap:round; stroke-linejoin:round; stroke-width:2; stroke-opacity:0.1; fill:none\" points=\"203.964,1267.39 2352.76,1267.39 \"/>\n",
       "<polyline clip-path=\"url(#clip632)\" style=\"stroke:#000000; stroke-linecap:round; stroke-linejoin:round; stroke-width:2; stroke-opacity:0.1; fill:none\" points=\"203.964,1005.04 2352.76,1005.04 \"/>\n",
       "<polyline clip-path=\"url(#clip632)\" style=\"stroke:#000000; stroke-linecap:round; stroke-linejoin:round; stroke-width:2; stroke-opacity:0.1; fill:none\" points=\"203.964,742.695 2352.76,742.695 \"/>\n",
       "<polyline clip-path=\"url(#clip632)\" style=\"stroke:#000000; stroke-linecap:round; stroke-linejoin:round; stroke-width:2; stroke-opacity:0.1; fill:none\" points=\"203.964,480.346 2352.76,480.346 \"/>\n",
       "<polyline clip-path=\"url(#clip632)\" style=\"stroke:#000000; stroke-linecap:round; stroke-linejoin:round; stroke-width:2; stroke-opacity:0.1; fill:none\" points=\"203.964,217.996 2352.76,217.996 \"/>\n",
       "<polyline clip-path=\"url(#clip630)\" style=\"stroke:#000000; stroke-linecap:round; stroke-linejoin:round; stroke-width:4; stroke-opacity:1; fill:none\" points=\"203.964,1423.18 203.964,47.2441 \"/>\n",
       "<polyline clip-path=\"url(#clip630)\" style=\"stroke:#000000; stroke-linecap:round; stroke-linejoin:round; stroke-width:4; stroke-opacity:1; fill:none\" points=\"203.964,1267.39 222.861,1267.39 \"/>\n",
       "<polyline clip-path=\"url(#clip630)\" style=\"stroke:#000000; stroke-linecap:round; stroke-linejoin:round; stroke-width:4; stroke-opacity:1; fill:none\" points=\"203.964,1005.04 222.861,1005.04 \"/>\n",
       "<polyline clip-path=\"url(#clip630)\" style=\"stroke:#000000; stroke-linecap:round; stroke-linejoin:round; stroke-width:4; stroke-opacity:1; fill:none\" points=\"203.964,742.695 222.861,742.695 \"/>\n",
       "<polyline clip-path=\"url(#clip630)\" style=\"stroke:#000000; stroke-linecap:round; stroke-linejoin:round; stroke-width:4; stroke-opacity:1; fill:none\" points=\"203.964,480.346 222.861,480.346 \"/>\n",
       "<polyline clip-path=\"url(#clip630)\" style=\"stroke:#000000; stroke-linecap:round; stroke-linejoin:round; stroke-width:4; stroke-opacity:1; fill:none\" points=\"203.964,217.996 222.861,217.996 \"/>\n",
       "<path clip-path=\"url(#clip630)\" d=\"M116.668 1280.74 L124.306 1280.74 L124.306 1254.37 L115.996 1256.04 L115.996 1251.78 L124.26 1250.11 L128.936 1250.11 L128.936 1280.74 L136.575 1280.74 L136.575 1284.67 L116.668 1284.67 L116.668 1280.74 Z\" fill=\"#000000\" fill-rule=\"nonzero\" fill-opacity=\"1\" /><path clip-path=\"url(#clip630)\" d=\"M156.019 1253.19 Q152.408 1253.19 150.579 1256.76 Q148.774 1260.3 148.774 1267.43 Q148.774 1274.54 150.579 1278.1 Q152.408 1281.64 156.019 1281.64 Q159.653 1281.64 161.459 1278.1 Q163.288 1274.54 163.288 1267.43 Q163.288 1260.3 161.459 1256.76 Q159.653 1253.19 156.019 1253.19 M156.019 1249.49 Q161.829 1249.49 164.885 1254.1 Q167.964 1258.68 167.964 1267.43 Q167.964 1276.16 164.885 1280.76 Q161.829 1285.35 156.019 1285.35 Q150.209 1285.35 147.13 1280.76 Q144.075 1276.16 144.075 1267.43 Q144.075 1258.68 147.13 1254.1 Q150.209 1249.49 156.019 1249.49 Z\" fill=\"#000000\" fill-rule=\"nonzero\" fill-opacity=\"1\" /><path clip-path=\"url(#clip630)\" d=\"M117.663 1018.39 L125.302 1018.39 L125.302 992.024 L116.992 993.69 L116.992 989.431 L125.255 987.765 L129.931 987.765 L129.931 1018.39 L137.57 1018.39 L137.57 1022.32 L117.663 1022.32 L117.663 1018.39 Z\" fill=\"#000000\" fill-rule=\"nonzero\" fill-opacity=\"1\" /><path clip-path=\"url(#clip630)\" d=\"M147.061 987.765 L165.417 987.765 L165.417 991.7 L151.343 991.7 L151.343 1000.17 Q152.362 999.825 153.38 999.663 Q154.399 999.477 155.417 999.477 Q161.204 999.477 164.584 1002.65 Q167.964 1005.82 167.964 1011.24 Q167.964 1016.82 164.491 1019.92 Q161.019 1023 154.7 1023 Q152.524 1023 150.255 1022.63 Q148.01 1022.26 145.603 1021.51 L145.603 1016.82 Q147.686 1017.95 149.908 1018.51 Q152.13 1019.06 154.607 1019.06 Q158.612 1019.06 160.95 1016.95 Q163.288 1014.85 163.288 1011.24 Q163.288 1007.63 160.95 1005.52 Q158.612 1003.41 154.607 1003.41 Q152.732 1003.41 150.857 1003.83 Q149.005 1004.25 147.061 1005.13 L147.061 987.765 Z\" fill=\"#000000\" fill-rule=\"nonzero\" fill-opacity=\"1\" /><path clip-path=\"url(#clip630)\" d=\"M119.885 756.04 L136.204 756.04 L136.204 759.975 L114.26 759.975 L114.26 756.04 Q116.922 753.285 121.505 748.656 Q126.112 744.003 127.292 742.66 Q129.538 740.137 130.417 738.401 Q131.32 736.642 131.32 734.952 Q131.32 732.197 129.376 730.461 Q127.455 728.725 124.353 728.725 Q122.154 728.725 119.7 729.489 Q117.269 730.253 114.492 731.804 L114.492 727.082 Q117.316 725.947 119.769 725.369 Q122.223 724.79 124.26 724.79 Q129.63 724.79 132.825 727.475 Q136.019 730.16 136.019 734.651 Q136.019 736.781 135.209 738.702 Q134.422 740.6 132.316 743.193 Q131.737 743.864 128.635 747.082 Q125.533 750.276 119.885 756.04 Z\" fill=\"#000000\" fill-rule=\"nonzero\" fill-opacity=\"1\" /><path clip-path=\"url(#clip630)\" d=\"M156.019 728.494 Q152.408 728.494 150.579 732.059 Q148.774 735.6 148.774 742.73 Q148.774 749.836 150.579 753.401 Q152.408 756.943 156.019 756.943 Q159.653 756.943 161.459 753.401 Q163.288 749.836 163.288 742.73 Q163.288 735.6 161.459 732.059 Q159.653 728.494 156.019 728.494 M156.019 724.79 Q161.829 724.79 164.885 729.396 Q167.964 733.98 167.964 742.73 Q167.964 751.457 164.885 756.063 Q161.829 760.646 156.019 760.646 Q150.209 760.646 147.13 756.063 Q144.075 751.457 144.075 742.73 Q144.075 733.98 147.13 729.396 Q150.209 724.79 156.019 724.79 Z\" fill=\"#000000\" fill-rule=\"nonzero\" fill-opacity=\"1\" /><path clip-path=\"url(#clip630)\" d=\"M120.88 493.69 L137.2 493.69 L137.2 497.626 L115.256 497.626 L115.256 493.69 Q117.918 490.936 122.501 486.306 Q127.107 481.653 128.288 480.311 Q130.533 477.788 131.413 476.052 Q132.316 474.292 132.316 472.602 Q132.316 469.848 130.371 468.112 Q128.45 466.376 125.348 466.376 Q123.149 466.376 120.695 467.14 Q118.265 467.903 115.487 469.454 L115.487 464.732 Q118.311 463.598 120.765 463.019 Q123.218 462.441 125.255 462.441 Q130.626 462.441 133.82 465.126 Q137.015 467.811 137.015 472.302 Q137.015 474.431 136.204 476.352 Q135.417 478.251 133.311 480.843 Q132.732 481.514 129.63 484.732 Q126.529 487.926 120.88 493.69 Z\" fill=\"#000000\" fill-rule=\"nonzero\" fill-opacity=\"1\" /><path clip-path=\"url(#clip630)\" d=\"M147.061 463.066 L165.417 463.066 L165.417 467.001 L151.343 467.001 L151.343 475.473 Q152.362 475.126 153.38 474.964 Q154.399 474.778 155.417 474.778 Q161.204 474.778 164.584 477.95 Q167.964 481.121 167.964 486.538 Q167.964 492.116 164.491 495.218 Q161.019 498.297 154.7 498.297 Q152.524 498.297 150.255 497.926 Q148.01 497.556 145.603 496.815 L145.603 492.116 Q147.686 493.251 149.908 493.806 Q152.13 494.362 154.607 494.362 Q158.612 494.362 160.95 492.255 Q163.288 490.149 163.288 486.538 Q163.288 482.927 160.95 480.82 Q158.612 478.714 154.607 478.714 Q152.732 478.714 150.857 479.13 Q149.005 479.547 147.061 480.427 L147.061 463.066 Z\" fill=\"#000000\" fill-rule=\"nonzero\" fill-opacity=\"1\" /><path clip-path=\"url(#clip630)\" d=\"M130.024 216.642 Q133.38 217.359 135.255 219.628 Q137.154 221.896 137.154 225.23 Q137.154 230.345 133.635 233.146 Q130.117 235.947 123.635 235.947 Q121.459 235.947 119.144 235.507 Q116.853 235.091 114.399 234.234 L114.399 229.72 Q116.343 230.855 118.658 231.433 Q120.973 232.012 123.496 232.012 Q127.894 232.012 130.186 230.276 Q132.501 228.54 132.501 225.23 Q132.501 222.174 130.348 220.461 Q128.218 218.725 124.399 218.725 L120.371 218.725 L120.371 214.883 L124.584 214.883 Q128.033 214.883 129.862 213.517 Q131.691 212.128 131.691 209.535 Q131.691 206.873 129.792 205.461 Q127.917 204.026 124.399 204.026 Q122.478 204.026 120.279 204.443 Q118.08 204.859 115.441 205.739 L115.441 201.572 Q118.103 200.832 120.418 200.461 Q122.755 200.091 124.816 200.091 Q130.14 200.091 133.242 202.522 Q136.343 204.929 136.343 209.049 Q136.343 211.92 134.7 213.91 Q133.056 215.878 130.024 216.642 Z\" fill=\"#000000\" fill-rule=\"nonzero\" fill-opacity=\"1\" /><path clip-path=\"url(#clip630)\" d=\"M156.019 203.795 Q152.408 203.795 150.579 207.359 Q148.774 210.901 148.774 218.031 Q148.774 225.137 150.579 228.702 Q152.408 232.244 156.019 232.244 Q159.653 232.244 161.459 228.702 Q163.288 225.137 163.288 218.031 Q163.288 210.901 161.459 207.359 Q159.653 203.795 156.019 203.795 M156.019 200.091 Q161.829 200.091 164.885 204.697 Q167.964 209.281 167.964 218.031 Q167.964 226.758 164.885 231.364 Q161.829 235.947 156.019 235.947 Q150.209 235.947 147.13 231.364 Q144.075 226.758 144.075 218.031 Q144.075 209.281 147.13 204.697 Q150.209 200.091 156.019 200.091 Z\" fill=\"#000000\" fill-rule=\"nonzero\" fill-opacity=\"1\" /><path clip-path=\"url(#clip630)\" d=\"M42.4881 873.475 L64.0042 873.475 L64.0042 879.332 L42.679 879.332 Q37.6183 879.332 35.1038 881.305 Q32.5894 883.278 32.5894 887.225 Q32.5894 891.967 35.6131 894.705 Q38.6368 897.442 43.8567 897.442 L64.0042 897.442 L64.0042 903.33 L28.3562 903.33 L28.3562 897.442 L33.8944 897.442 Q30.6797 895.341 29.0883 892.509 Q27.4968 889.644 27.4968 885.92 Q27.4968 879.777 31.3163 876.626 Q35.1038 873.475 42.4881 873.475 Z\" fill=\"#000000\" fill-rule=\"nonzero\" fill-opacity=\"1\" /><path clip-path=\"url(#clip630)\" d=\"M49.9359 862.399 L28.3562 862.399 L28.3562 856.542 L49.7131 856.542 Q54.7739 856.542 57.3202 854.569 Q59.8346 852.596 59.8346 848.649 Q59.8346 843.906 56.8109 841.169 Q53.7872 838.4 48.5673 838.4 L28.3562 838.4 L28.3562 832.544 L64.0042 832.544 L64.0042 838.4 L58.5296 838.4 Q61.7762 840.533 63.3676 843.365 Q64.9272 846.166 64.9272 849.89 Q64.9272 856.033 61.1078 859.216 Q57.2883 862.399 49.9359 862.399 M27.4968 847.662 L27.4968 847.662 Z\" fill=\"#000000\" fill-rule=\"nonzero\" fill-opacity=\"1\" /><path clip-path=\"url(#clip630)\" d=\"M35.1993 792.726 Q31.2526 790.53 29.3747 787.474 Q27.4968 784.419 27.4968 780.281 Q27.4968 774.711 31.4117 771.687 Q35.2948 768.664 42.4881 768.664 L64.0042 768.664 L64.0042 774.552 L42.679 774.552 Q37.5546 774.552 35.072 776.366 Q32.5894 778.18 32.5894 781.904 Q32.5894 786.456 35.6131 789.098 Q38.6368 791.739 43.8567 791.739 L64.0042 791.739 L64.0042 797.628 L42.679 797.628 Q37.5228 797.628 35.072 799.442 Q32.5894 801.256 32.5894 805.044 Q32.5894 809.532 35.6449 812.173 Q38.6686 814.815 43.8567 814.815 L64.0042 814.815 L64.0042 820.703 L28.3562 820.703 L28.3562 814.815 L33.8944 814.815 Q30.616 812.81 29.0564 810.009 Q27.4968 807.208 27.4968 803.357 Q27.4968 799.474 29.4702 796.768 Q31.4436 794.031 35.1993 792.726 Z\" fill=\"#000000\" fill-rule=\"nonzero\" fill-opacity=\"1\" /><path clip-path=\"url(#clip630)\" d=\"M33.7671 712.805 L14.479 712.805 L14.479 706.948 L64.0042 706.948 L64.0042 712.805 L58.657 712.805 Q61.8398 714.651 63.3994 717.483 Q64.9272 720.284 64.9272 724.231 Q64.9272 730.692 59.771 734.766 Q54.6147 738.809 46.212 738.809 Q37.8093 738.809 32.6531 734.766 Q27.4968 730.692 27.4968 724.231 Q27.4968 720.284 29.0564 717.483 Q30.5842 714.651 33.7671 712.805 M46.212 732.761 Q52.6732 732.761 56.3653 730.119 Q60.0256 727.446 60.0256 722.799 Q60.0256 718.152 56.3653 715.478 Q52.6732 712.805 46.212 712.805 Q39.7508 712.805 36.0905 715.478 Q32.3984 718.152 32.3984 722.799 Q32.3984 727.446 36.0905 730.119 Q39.7508 732.761 46.212 732.761 Z\" fill=\"#000000\" fill-rule=\"nonzero\" fill-opacity=\"1\" /><path clip-path=\"url(#clip630)\" d=\"M28.3562 694.885 L28.3562 689.029 L64.0042 689.029 L64.0042 694.885 L28.3562 694.885 M14.479 694.885 L14.479 689.029 L21.895 689.029 L21.895 694.885 L14.479 694.885 Z\" fill=\"#000000\" fill-rule=\"nonzero\" fill-opacity=\"1\" /><path clip-path=\"url(#clip630)\" d=\"M45.7664 653.317 Q39.4007 653.317 35.8996 655.959 Q32.3984 658.569 32.3984 663.311 Q32.3984 668.022 35.8996 670.664 Q39.4007 673.274 45.7664 673.274 Q52.1003 673.274 55.6014 670.664 Q59.1026 668.022 59.1026 663.311 Q59.1026 658.569 55.6014 655.959 Q52.1003 653.317 45.7664 653.317 M59.58 647.461 Q68.683 647.461 73.1071 651.503 Q77.5631 655.545 77.5631 663.884 Q77.5631 666.972 77.0857 669.709 Q76.6401 672.446 75.6852 675.024 L69.9879 675.024 Q71.3884 672.446 72.0568 669.932 Q72.7252 667.417 72.7252 664.807 Q72.7252 659.046 69.7015 656.182 Q66.7096 653.317 60.6303 653.317 L57.7339 653.317 Q60.885 655.131 62.4446 657.964 Q64.0042 660.797 64.0042 664.744 Q64.0042 671.3 59.0071 675.311 Q54.01 679.321 45.7664 679.321 Q37.491 679.321 32.4939 675.311 Q27.4968 671.3 27.4968 664.744 Q27.4968 660.797 29.0564 657.964 Q30.616 655.131 33.7671 653.317 L28.3562 653.317 L28.3562 647.461 L59.58 647.461 Z\" fill=\"#000000\" fill-rule=\"nonzero\" fill-opacity=\"1\" /><path clip-path=\"url(#clip630)\" d=\"M28.3562 635.398 L28.3562 629.541 L64.0042 629.541 L64.0042 635.398 L28.3562 635.398 M14.479 635.398 L14.479 629.541 L21.895 629.541 L21.895 635.398 L14.479 635.398 Z\" fill=\"#000000\" fill-rule=\"nonzero\" fill-opacity=\"1\" /><path clip-path=\"url(#clip630)\" d=\"M18.2347 611.494 L28.3562 611.494 L28.3562 599.431 L32.9077 599.431 L32.9077 611.494 L52.2594 611.494 Q56.6199 611.494 57.8613 610.317 Q59.1026 609.107 59.1026 605.447 L59.1026 599.431 L64.0042 599.431 L64.0042 605.447 Q64.0042 612.227 61.4897 614.805 Q58.9434 617.383 52.2594 617.383 L32.9077 617.383 L32.9077 621.68 L28.3562 621.68 L28.3562 617.383 L18.2347 617.383 L18.2347 611.494 Z\" fill=\"#000000\" fill-rule=\"nonzero\" fill-opacity=\"1\" /><path clip-path=\"url(#clip630)\" d=\"M29.4065 569.003 L34.9447 569.003 Q33.6716 571.486 33.035 574.16 Q32.3984 576.833 32.3984 579.698 Q32.3984 584.058 33.7352 586.254 Q35.072 588.419 37.7456 588.419 Q39.7826 588.419 40.9603 586.859 Q42.1061 585.3 43.1565 580.589 L43.6021 578.584 Q44.9389 572.345 47.3897 569.735 Q49.8086 567.094 54.1691 567.094 Q59.1344 567.094 62.0308 571.04 Q64.9272 574.955 64.9272 581.83 Q64.9272 584.695 64.3543 587.814 Q63.8132 590.901 62.6992 594.339 L56.6518 594.339 Q58.3387 591.092 59.198 587.941 Q60.0256 584.79 60.0256 581.703 Q60.0256 577.565 58.6251 575.337 Q57.1929 573.109 54.6147 573.109 Q52.2276 573.109 50.9545 574.733 Q49.6813 576.324 48.5037 581.767 L48.0262 583.804 Q46.8804 589.246 44.5251 591.665 Q42.138 594.084 38.0002 594.084 Q32.9713 594.084 30.2341 590.519 Q27.4968 586.955 27.4968 580.398 Q27.4968 577.151 27.9743 574.287 Q28.4517 571.422 29.4065 569.003 Z\" fill=\"#000000\" fill-rule=\"nonzero\" fill-opacity=\"1\" /><circle clip-path=\"url(#clip632)\" cx=\"264.778\" cy=\"1384.24\" r=\"14.4\" fill=\"#009af9\" fill-rule=\"evenodd\" fill-opacity=\"1\" stroke=\"#000000\" stroke-opacity=\"1\" stroke-width=\"3.2\"/>\n",
       "<circle clip-path=\"url(#clip632)\" cx=\"771.569\" cy=\"1053.91\" r=\"14.4\" fill=\"#009af9\" fill-rule=\"evenodd\" fill-opacity=\"1\" stroke=\"#000000\" stroke-opacity=\"1\" stroke-width=\"3.2\"/>\n",
       "<circle clip-path=\"url(#clip632)\" cx=\"1278.36\" cy=\"729.243\" r=\"14.4\" fill=\"#009af9\" fill-rule=\"evenodd\" fill-opacity=\"1\" stroke=\"#000000\" stroke-opacity=\"1\" stroke-width=\"3.2\"/>\n",
       "<circle clip-path=\"url(#clip632)\" cx=\"1785.15\" cy=\"407.026\" r=\"14.4\" fill=\"#009af9\" fill-rule=\"evenodd\" fill-opacity=\"1\" stroke=\"#000000\" stroke-opacity=\"1\" stroke-width=\"3.2\"/>\n",
       "<circle clip-path=\"url(#clip632)\" cx=\"2291.94\" cy=\"86.1857\" r=\"14.4\" fill=\"#009af9\" fill-rule=\"evenodd\" fill-opacity=\"1\" stroke=\"#000000\" stroke-opacity=\"1\" stroke-width=\"3.2\"/>\n",
       "</svg>\n"
      ]
     },
     "metadata": {},
     "output_type": "display_data"
    }
   ],
   "source": [
    "scatter(10:10:50, -log10.(errors2), xlabel=\"term\", ylabel=\"num digits\", legend=false)"
   ]
  },
  {
   "cell_type": "code",
   "execution_count": 19,
   "metadata": {},
   "outputs": [
    {
     "data": {
      "text/plain": [
       "\"/Users/pstaab/code/sci-comp-book/assets/plots/calc-pi/error-euler.png\""
      ]
     },
     "metadata": {},
     "output_type": "display_data"
    }
   ],
   "source": [
    "savefig(\"../assets/plots/calc-pi/error-euler.png\")"
   ]
  },
  {
   "cell_type": "code",
   "execution_count": 20,
   "metadata": {},
   "outputs": [
    {
     "name": "stdout",
     "output_type": "stream",
     "text": [
      "  0.000257 seconds (1.82 k allocations: 93.180 KiB)\n"
     ]
    },
    {
     "data": {
      "text/plain": [
       "1.228611811943582079576172348238260677444453102891747999520879961795376821279531e-63"
      ]
     },
     "metadata": {},
     "output_type": "display_data"
    }
   ],
   "source": [
    "@time absErr(4*(atan_series(1/big(2),100)+atan_series(1/big(3),100)))"
   ]
  },
  {
   "cell_type": "code",
   "execution_count": 21,
   "metadata": {},
   "outputs": [
    {
     "data": {
      "text/plain": [
       "1.228611811943582079576172348238260677444453102891747999520879961795376821279531e-63"
      ]
     },
     "metadata": {},
     "output_type": "display_data"
    }
   ],
   "source": [
    "absErr(4*(atan_series(1/big(2),100)+atan_series(1/big(3),100)))"
   ]
  },
  {
   "cell_type": "code",
   "execution_count": 22,
   "metadata": {},
   "outputs": [
    {
     "name": "stdout",
     "output_type": "stream",
     "text": [
      "1237"
     ]
    }
   ],
   "source": [
    "setprecision(4096) do\n",
    "  print(length(string(1/big(3))))\n",
    "end"
   ]
  },
  {
   "cell_type": "code",
   "execution_count": 23,
   "metadata": {},
   "outputs": [
    {
     "name": "stdout",
     "output_type": "stream",
     "text": [
      "pi1000 = 4 * (atan_series(1 / big(2), 1594) + atan_series(1 / big(3), 1594)) = 3.1415926535897932384626433832795028841971693993751058209749445923078164062862089986280348253421170679821480865132823066470938446095505822317253594081284811174502841027019385211055596446229489549303819644288109756659334461284756482337867831652712019091456485669234603486104543266482133936072602491412737245870066063155881748815209209628292540917153643678925903600113305305488204665213841469519415116094330572703657595919530921861173819326117931051185480744623799627495673518857527248912279381830119491298336733624406566430860213949463952247371907021798609437027705392171762931767523846748184676694051320005681271452635608277857713427577896091736371787214684409012249534301465495853710507922796892589235420199561121290219608640344181598136297747713099605187072113499999983729780499510597317328160963185950244594553469083026425223082533446850352619311881710100031378387528865875332083814206171776691473035982534904287554687311595628638823537875937519577818577805321714865601239565154256531508207949971669743165722740018351762297978126407660203701569790495607661311942951883071049126683863914353996276446515815532113161156858922687498386163189387937947070163492538574522358773840865866641344202158314334039229961783600168318495477941285685\n"
     ]
    },
    {
     "data": {
      "text/plain": [
       "2.5975351095458754904195491157857696803622131507293634931295093187648738419240192667709752546427822529941468450549877713666966011614851313600669596886196498994143921672175459108290471960863459461639251291662232368565896246328120598260939106463457479630917174483761218561210120412869465176525005824807899438481196329993790493359900522454759482318202266105921331249007978097775724687956301642633550860637174924190228399842631614879639158046917042635291042631965291845166527036203452319813178296082929894900734880740547269432828997961816403444163166354514484699977363284177623290122184020750178932873624933570074682872942723076449879540864947698524422632479056630893008599428469562364494768790325744031011930601596329086026289242110179341279393200929314660273031057473081913078692798691499162555114494444741975803032974623739919031238086655685280832758980871795419698822680825529239750189369473347847251964195124706746244861133322038379060583915976636069455518781609572437864178386621806568957217481465862297442152542221932061173187093506126070914995792754149603406706779637343994385988667569337732890340690567393340395500287349361658707200982844137221365907346244068359959729947248038871713897283543740693133197921478035649291888640453449e-964"
      ]
     },
     "metadata": {},
     "output_type": "display_data"
    }
   ],
   "source": [
    "setprecision(4096) do\n",
    "  @show pi1000=4*(atan_series(1/big(2),1594)+atan_series(1/big(3),1594))\n",
    "  absErr(pi1000)\n",
    "end"
   ]
  },
  {
   "cell_type": "code",
   "execution_count": 24,
   "metadata": {},
   "outputs": [
    {
     "ename": "UndefVarError",
     "evalue": "UndefVarError: `pi1000` not defined in `Main`\nSuggestion: check for spelling errors or missing imports.",
     "output_type": "error",
     "traceback": [
      "UndefVarError: `pi1000` not defined in `Main`\n",
      "Suggestion: check for spelling errors or missing imports.\n"
     ]
    }
   ],
   "source": [
    "pi1000"
   ]
  },
  {
   "cell_type": "code",
   "execution_count": 5,
   "metadata": {},
   "outputs": [
    {
     "data": {
      "text/plain": [
       "numDigits (generic function with 1 method)"
      ]
     },
     "metadata": {},
     "output_type": "display_data"
    }
   ],
   "source": [
    "numDigits(pi_approx::Real) = floor(Int,-log10(absErr(pi_approx)))"
   ]
  },
  {
   "cell_type": "code",
   "execution_count": 26,
   "metadata": {},
   "outputs": [
    {
     "name": "stdout",
     "output_type": "stream",
     "text": [
      "pi1000 = 4 * (atan_series(1 / big(2), 1594) + atan_series(1 / big(3), 1594)) = 3.1415926535897932384626433832795028841971693993751058209749445923078164062862089986280348253421170679821480865132823066470938446095505822317253594081284811174502841027019385211055596446229489549303819644288109756659334461284756482337867831652712019091456485669234603486104543266482133936072602491412737245870066063155881748815209209628292540917153643678925903600113305305488204665213841469519415116094330572703657595919530921861173819326117931051185480744623799627495673518857527248912279381830119491298336733624406566430860213949463952247371907021798609437027705392171762931767523846748184676694051320005681271452635608277857713427577896091736371787214684409012249534301465495853710507922796892589235420199561121290219608640344181598136297747713099605187072113499999983729780499510597317328160963185950244594553469083026425223082533446850352619311881710100031378387528865875332083814206171776691473035982534904287554687311595628638823537875937519577818577805321714865601239565154256531508207949971669743165722740018351762297978126407660203701569790495607661311942951883071049126683863914353996276446515815532113161156858922687498386163189387937947070163492538574522358773840865866641344202158314334039229961783600168318495477941285685\n"
     ]
    },
    {
     "data": {
      "text/plain": [
       "963"
      ]
     },
     "metadata": {},
     "output_type": "display_data"
    }
   ],
   "source": [
    "setprecision(4096) do\n",
    "  @show pi1000=4*(atan_series(1/big(2),1594)+atan_series(1/big(3),1594))\n",
    "  numDigits(pi1000)\n",
    "end"
   ]
  },
  {
   "cell_type": "code",
   "execution_count": 27,
   "metadata": {},
   "outputs": [
    {
     "name": "stdout",
     "output_type": "stream",
     "text": [
      "  0.095727 seconds (49.16 k allocations: 10.358 MiB, 9.36% gc time, 15.63% compilation time)\n"
     ]
    },
    {
     "data": {
      "text/plain": [
       "1027"
      ]
     },
     "metadata": {},
     "output_type": "display_data"
    }
   ],
   "source": [
    "@time setprecision(4096) do\n",
    "  pi1000=4*(atan_series(1/big(2),1700)+atan_series(1/big(3),1700))\n",
    "  numDigits(pi1000)\n",
    "end"
   ]
  },
  {
   "cell_type": "code",
   "execution_count": 28,
   "metadata": {},
   "outputs": [
    {
     "data": {
      "text/plain": [
       "atan_series2 (generic function with 1 method)"
      ]
     },
     "metadata": {},
     "output_type": "display_data"
    }
   ],
   "source": [
    "function atan_series2(x::Real,n::Integer)\n",
    "  n > 0 || throw(ArgumentError(\"The input n must be positive.\"))\n",
    "  local negxsq = -x^2\n",
    "  local sum = 1\n",
    "  local ak=1\n",
    "  for k=2:n\n",
    "    ak *= negxsq\n",
    "    sum += ak/(2k-1)\n",
    "  end\n",
    "  x*sum\n",
    "end"
   ]
  },
  {
   "cell_type": "code",
   "execution_count": 29,
   "metadata": {},
   "outputs": [],
   "source": [
    "using BenchmarkTools"
   ]
  },
  {
   "cell_type": "code",
   "execution_count": 30,
   "metadata": {},
   "outputs": [
    {
     "name": "stdout",
     "output_type": "stream",
     "text": [
      "  399.951 ms (30633 allocations: 35.60 MiB)\n"
     ]
    },
    {
     "data": {
      "text/plain": [
       "1027"
      ]
     },
     "metadata": {},
     "output_type": "display_data"
    }
   ],
   "source": [
    "@btime setprecision(2^14) do\n",
    "  numDigits(4*(atan_series(1/big(2),1700)+atan_series(1/big(3),1700)))\n",
    "end"
   ]
  },
  {
   "cell_type": "code",
   "execution_count": 31,
   "metadata": {},
   "outputs": [
    {
     "name": "stdout",
     "output_type": "stream",
     "text": [
      "  45.818 ms (20433 allocations: 21.67 MiB)\n"
     ]
    },
    {
     "data": {
      "text/plain": [
       "1026"
      ]
     },
     "metadata": {},
     "output_type": "display_data"
    }
   ],
   "source": [
    "@btime setprecision(2^14) do\n",
    "  numDigits(4*(atan_series2(1/big(2),1700)+atan_series2(1/big(3),1700)))\n",
    "end"
   ]
  },
  {
   "cell_type": "code",
   "execution_count": 32,
   "metadata": {},
   "outputs": [
    {
     "data": {
      "text/plain": [
       "16384"
      ]
     },
     "metadata": {},
     "output_type": "display_data"
    }
   ],
   "source": [
    "2^14"
   ]
  },
  {
   "cell_type": "code",
   "execution_count": 33,
   "metadata": {},
   "outputs": [
    {
     "data": {
      "text/plain": [
       "1262615"
      ]
     },
     "metadata": {},
     "output_type": "display_data"
    }
   ],
   "source": [
    "setprecision(2^22) do\n",
    "  length(string(1/big(3)))\n",
    "end"
   ]
  },
  {
   "cell_type": "code",
   "execution_count": 34,
   "metadata": {},
   "outputs": [
    {
     "name": "stdout",
     "output_type": "stream",
     "text": [
      " 18.756047 seconds (180.73 k allocations: 5.190 GiB, 3.04% gc time, 0.10% compilation time)\n"
     ]
    },
    {
     "data": {
      "text/plain": [
       "62"
      ]
     },
     "metadata": {},
     "output_type": "display_data"
    }
   ],
   "source": [
    "@time setprecision(2^22) do\n",
    "  numDigits(4*(atan_series2(1/big(2),100)+atan_series2(1/big(3),100)))\n",
    "end"
   ]
  },
  {
   "cell_type": "code",
   "execution_count": 35,
   "metadata": {},
   "outputs": [
    {
     "data": {
      "text/plain": [
       "57.98059964726632"
      ]
     },
     "metadata": {},
     "output_type": "display_data"
    }
   ],
   "source": [
    "1_000_000/63 * 13.15 / 60 /60"
   ]
  },
  {
   "cell_type": "code",
   "execution_count": 36,
   "metadata": {},
   "outputs": [
    {
     "data": {
      "text/plain": [
       "machin (generic function with 1 method)"
      ]
     },
     "metadata": {},
     "output_type": "display_data"
    }
   ],
   "source": [
    "function machin(coeffs::Vector{Int}, xvals::Vector{T},n::Int) where T <: Integer\n",
    "  length(coeffs) == length(xvals) || throw(ArgumentError(\"The lengths of the vectors must match\"))\n",
    "  local sum=big(0)\n",
    "  for i=1:length(coeffs)\n",
    "    sum += coeffs[i]*atan_series2(1/big(xvals[i]),n)\n",
    "  end\n",
    "  4*sum\n",
    "end"
   ]
  },
  {
   "cell_type": "code",
   "execution_count": 37,
   "metadata": {},
   "outputs": [
    {
     "data": {
      "text/plain": [
       "62"
      ]
     },
     "metadata": {},
     "output_type": "display_data"
    }
   ],
   "source": [
    "setprecision(2^14) do\n",
    "  numDigits(machin([1,1],[2,3],100))\n",
    "end"
   ]
  },
  {
   "cell_type": "code",
   "execution_count": 38,
   "metadata": {},
   "outputs": [
    {
     "name": "stdout",
     "output_type": "stream",
     "text": [
      " 16.316848 seconds (116.36 k allocations: 4.161 GiB, 4.30% gc time, 0.11% compilation time)\n"
     ]
    },
    {
     "data": {
      "text/plain": [
       "141"
      ]
     },
     "metadata": {},
     "output_type": "display_data"
    }
   ],
   "source": [
    "@time setprecision(2^22) do\n",
    "  numDigits(machin([4,-1],[5,239], 100))\n",
    "end"
   ]
  },
  {
   "cell_type": "code",
   "execution_count": 39,
   "metadata": {},
   "outputs": [
    {
     "name": "stdout",
     "output_type": "stream",
     "text": [
      " 17.260348 seconds (128.60 k allocations: 6.190 GiB, 5.93% gc time, 0.10% compilation time)\n"
     ]
    },
    {
     "data": {
      "text/plain": [
       "281"
      ]
     },
     "metadata": {},
     "output_type": "display_data"
    }
   ],
   "source": [
    "@time setprecision(2^22) do\n",
    "  numDigits(machin([4,-1],[5,239], 200))\n",
    "end"
   ]
  },
  {
   "cell_type": "code",
   "execution_count": 40,
   "metadata": {},
   "outputs": [
    {
     "name": "stdout",
     "output_type": "stream",
     "text": [
      " 26.974207 seconds (153.00 k allocations: 10.245 GiB, 6.53% gc time, 0.06% compilation time)\n"
     ]
    },
    {
     "data": {
      "text/plain": [
       "561"
      ]
     },
     "metadata": {},
     "output_type": "display_data"
    }
   ],
   "source": [
    "@time setprecision(2^22) do\n",
    "  numDigits(machin([4,-1],[5,239], 400))\n",
    "end"
   ]
  },
  {
   "cell_type": "code",
   "execution_count": 41,
   "metadata": {},
   "outputs": [
    {
     "data": {
      "text/plain": [
       "13.567042978807685"
      ]
     },
     "metadata": {},
     "output_type": "display_data"
    }
   ],
   "source": [
    "1_000_000/561 * 27.4 /60 / 60"
   ]
  },
  {
   "cell_type": "markdown",
   "metadata": {},
   "source": [
    "### Takano's method"
   ]
  },
  {
   "cell_type": "code",
   "execution_count": 42,
   "metadata": {},
   "outputs": [
    {
     "name": "stdout",
     "output_type": "stream",
     "text": [
      " 16.336060 seconds (130.62 k allocations: 6.236 GiB, 6.07% gc time, 0.10% compilation time)\n"
     ]
    },
    {
     "data": {
      "text/plain": [
       "352"
      ]
     },
     "metadata": {},
     "output_type": "display_data"
    }
   ],
   "source": [
    "@time setprecision(2^22) do\n",
    "  numDigits(machin([44,7,-12,24],[57,239,682,12943], 100))\n",
    "end"
   ]
  },
  {
   "cell_type": "code",
   "execution_count": 43,
   "metadata": {},
   "outputs": [
    {
     "name": "stdout",
     "output_type": "stream",
     "text": [
      " 29.504017 seconds (155.00 k allocations: 10.291 GiB, 6.26% gc time, 0.06% compilation time)\n"
     ]
    },
    {
     "data": {
      "text/plain": [
       "704"
      ]
     },
     "metadata": {},
     "output_type": "display_data"
    }
   ],
   "source": [
    "@time setprecision(2^22) do\n",
    "  numDigits(machin([44,7,-12,24],[57,239,682,12943], 200))\n",
    "end"
   ]
  },
  {
   "cell_type": "code",
   "execution_count": 44,
   "metadata": {},
   "outputs": [
    {
     "data": {
      "text/plain": [
       "10.871804766414142"
      ]
     },
     "metadata": {},
     "output_type": "display_data"
    }
   ],
   "source": [
    "1_000_000/704 * 27.553502 /60/60"
   ]
  },
  {
   "cell_type": "markdown",
   "metadata": {},
   "source": [
    "### Parker's method"
   ]
  },
  {
   "cell_type": "code",
   "execution_count": 45,
   "metadata": {},
   "outputs": [
    {
     "name": "stdout",
     "output_type": "stream",
     "text": [
      " 25.689139 seconds (233.15 k allocations: 9.350 GiB, 6.73% gc time, 0.26% compilation time)\n"
     ]
    },
    {
     "data": {
      "text/plain": [
       "407"
      ]
     },
     "metadata": {},
     "output_type": "display_data"
    }
   ],
   "source": [
    "@time setprecision(2^22) do\n",
    "  numDigits(machin([83,17,-22,-24,-44,12,22],\n",
    "    [big(107),big(1710),big(103697),big(2513489),big(18280007883),big(7939642926390344818), big(3054211727257704725384731479018)], 100))\n",
    "end"
   ]
  },
  {
   "cell_type": "code",
   "execution_count": 46,
   "metadata": {},
   "outputs": [
    {
     "name": "stdout",
     "output_type": "stream",
     "text": [
      " 45.513066 seconds (242.34 k allocations: 16.445 GiB, 7.24% gc time, 0.06% compilation time)\n"
     ]
    },
    {
     "data": {
      "text/plain": [
       "813"
      ]
     },
     "metadata": {},
     "output_type": "display_data"
    }
   ],
   "source": [
    "@time setprecision(2^22) do\n",
    "  numDigits(machin([83,17,-22,-24,-44,12,22],\n",
    "    [big(107),big(1710),big(103697),big(2513489),big(18280007883),big(7939642926390344818), big(3054211727257704725384731479018)], 200))\n",
    "end"
   ]
  },
  {
   "cell_type": "code",
   "execution_count": 47,
   "metadata": {},
   "outputs": [
    {
     "name": "stdout",
     "output_type": "stream",
     "text": [
      " 83.266263 seconds (327.76 k allocations: 30.640 GiB, 7.64% gc time, 0.03% compilation time)\n"
     ]
    },
    {
     "data": {
      "text/plain": [
       "1625"
      ]
     },
     "metadata": {},
     "output_type": "display_data"
    }
   ],
   "source": [
    "@time setprecision(2^22) do\n",
    "  numDigits(machin([83,17,-22,-24,-44,12,22],\n",
    "    [big(107),big(1710),big(103697),big(2513489),big(18280007883),big(7939642926390344818), big(3054211727257704725384731479018)], 400))\n",
    "end"
   ]
  },
  {
   "cell_type": "code",
   "execution_count": 48,
   "metadata": {},
   "outputs": [
    {
     "data": {
      "text/plain": [
       "14.933305999726665"
      ]
     },
     "metadata": {},
     "output_type": "display_data"
    }
   ],
   "source": [
    "1_000_000/813 *43.7068/60/60"
   ]
  },
  {
   "cell_type": "code",
   "execution_count": 49,
   "metadata": {},
   "outputs": [
    {
     "data": {
      "text/plain": [
       "chud (generic function with 1 method)"
      ]
     },
     "metadata": {},
     "output_type": "display_data"
    }
   ],
   "source": [
    "function chud(n::Integer)\n",
    "  sum = big(0)\n",
    "  for k=0:n\n",
    "    ak =  (-1)^k*factorial(big(6k))/factorial(big(3k))/ factorial(big(k))^3/ (big(640320)^3)^(k+0.5)\n",
    "    sum += big(545140134)*k*ak + big(13591409)*ak\n",
    "  end\n",
    "  1/(12sum)\n",
    "end"
   ]
  },
  {
   "cell_type": "code",
   "execution_count": 50,
   "metadata": {},
   "outputs": [
    {
     "name": "stdout",
     "output_type": "stream",
     "text": [
      "150.715615 seconds (1.78 M allocations: 49.943 GiB, 1.76% gc time, 0.04% compilation time)\n"
     ]
    },
    {
     "data": {
      "text/plain": [
       "297"
      ]
     },
     "metadata": {},
     "output_type": "display_data"
    }
   ],
   "source": [
    "@time setprecision(2^22) do\n",
    "  numDigits(chud(20))\n",
    "end"
   ]
  },
  {
   "cell_type": "code",
   "execution_count": 12,
   "metadata": {},
   "outputs": [
    {
     "data": {
      "text/plain": [
       "chudnovsky (generic function with 1 method)"
      ]
     },
     "metadata": {},
     "output_type": "display_data"
    }
   ],
   "source": [
    "function chudnovsky(n::Integer)\n",
    "  local sum1 = big(1.0)\n",
    "  local sum2 = big(0.0)\n",
    "  local top = big(1)\n",
    "  local bottom = big(1)\n",
    "  local C = big(640320)^3\n",
    "  for k=1:n\n",
    "    top *= -24*(6*k-5)*(2*k-1)*(6*k-1)\n",
    "    bottom *= C*k^3\n",
    "    sum1 += top/bottom\n",
    "    sum2 += k * top/bottom\n",
    "  end\n",
    "  426880*sqrt(big(10005))/(13591409*sum1 + 545140134*sum2)\n",
    "end"
   ]
  },
  {
   "cell_type": "code",
   "execution_count": 13,
   "metadata": {},
   "outputs": [
    {
     "name": "stdout",
     "output_type": "stream",
     "text": [
      "  7.650933 seconds (181.37 k allocations: 3.083 GiB, 4.64% gc time, 0.36% compilation time)\n"
     ]
    },
    {
     "data": {
      "text/plain": [
       "297"
      ]
     },
     "metadata": {},
     "output_type": "display_data"
    }
   ],
   "source": [
    "@time setprecision(2^22) do\n",
    "  numDigits(chudnovsky(20))\n",
    "end"
   ]
  },
  {
   "cell_type": "code",
   "execution_count": 14,
   "metadata": {},
   "outputs": [
    {
     "name": "stdout",
     "output_type": "stream",
     "text": [
      "  9.611015 seconds (207.36 k allocations: 4.028 GiB, 4.56% gc time, 0.10% compilation time)\n"
     ]
    },
    {
     "data": {
      "text/plain": [
       "581"
      ]
     },
     "metadata": {},
     "output_type": "display_data"
    }
   ],
   "source": [
    "@time setprecision(2^22) do\n",
    "  numDigits(chudnovsky(40))\n",
    "end"
   ]
  },
  {
   "cell_type": "code",
   "execution_count": 54,
   "metadata": {},
   "outputs": [
    {
     "name": "stdout",
     "output_type": "stream",
     "text": [
      " 14.364569 seconds (284.09 k allocations: 5.921 GiB, 7.08% gc time, 0.07% compilation time)\n"
     ]
    },
    {
     "data": {
      "text/plain": [
       "1148"
      ]
     },
     "metadata": {},
     "output_type": "display_data"
    }
   ],
   "source": [
    "@time setprecision(2^22) do\n",
    "  numDigits(chudnovsky(80))\n",
    "end"
   ]
  },
  {
   "cell_type": "code",
   "execution_count": 55,
   "metadata": {},
   "outputs": [
    {
     "data": {
      "text/plain": [
       "3.6730545876887337"
      ]
     },
     "metadata": {},
     "output_type": "display_data"
    }
   ],
   "source": [
    "1_000_000/1148 * 15.18/60/60"
   ]
  },
  {
   "cell_type": "code",
   "execution_count": 56,
   "metadata": {},
   "outputs": [
    {
     "name": "stdout",
     "output_type": "stream",
     "text": [
      " 32.081879 seconds (514.24 k allocations: 11.598 GiB, 7.89% gc time, 0.04% compilation time)\n"
     ]
    },
    {
     "data": {
      "text/plain": [
       "2850"
      ]
     },
     "metadata": {},
     "output_type": "display_data"
    }
   ],
   "source": [
    "@time setprecision(2^22) do\n",
    "  numDigits(chudnovsky(200))\n",
    "end"
   ]
  },
  {
   "cell_type": "code",
   "execution_count": 58,
   "metadata": {},
   "outputs": [
    {
     "data": {
      "text/plain": [
       "3.126705653021442"
      ]
     },
     "metadata": {},
     "output_type": "display_data"
    }
   ],
   "source": [
    "1_000_000/2850 * 32.08/60/60"
   ]
  },
  {
   "cell_type": "code",
   "execution_count": 2,
   "metadata": {},
   "outputs": [
    {
     "data": {
      "text/plain": [
       "3-element Vector{Int64}:\n",
       " 6\n",
       " 7\n",
       " 8"
      ]
     },
     "metadata": {},
     "output_type": "display_data"
    }
   ],
   "source": [
    "using Distributed\n",
    "addprocs(3)"
   ]
  },
  {
   "cell_type": "code",
   "execution_count": 3,
   "metadata": {},
   "outputs": [],
   "source": [
    "@everywhere function paraChud(n1::Integer,n2::Integer,prec::Integer)\n",
    "  setprecision(prec)\n",
    "  local C = big(640320)^3\n",
    "  local bottom = big(1)\n",
    "  local top = big(1)\n",
    "  for k=1:n1\n",
    "    bottom *= k^3*C\n",
    "    top *= -8*(6k-1)*(6k-3)*(6k-5)\n",
    "  end\n",
    "  local sum1 = n1*top/bottom\n",
    "  local sum2 = top/bottom\n",
    "  for k=n1+1:n2\n",
    "    bottom *= k^3*C\n",
    "    top *= -8*(6k-1)*(6k-3)*(6k-5)\n",
    "    sum1 += k*top/bottom\n",
    "    sum2 += top/bottom\n",
    "  end\n",
    "  545140134*sum1 + 13591409*sum2\n",
    "end"
   ]
  },
  {
   "cell_type": "code",
   "execution_count": 9,
   "metadata": {},
   "outputs": [
    {
     "name": "stdout",
     "output_type": "stream",
     "text": [
      " 10.849719 seconds (164.81 k allocations: 4.026 GiB, 5.38% gc time)\n"
     ]
    },
    {
     "data": {
      "text/plain": [
       "567"
      ]
     },
     "metadata": {},
     "output_type": "display_data"
    }
   ],
   "source": [
    "@time let\n",
    "  prec = 2^22\n",
    "  p1 = paraChud(0,9,prec)\n",
    "  p2 = paraChud(10,19,prec)\n",
    "  p3 = paraChud(20,29,prec)\n",
    "  p4 = paraChud(30,39,prec)\n",
    "  numDigits(sqrt(big(640320)^3)/(12*(p1+p2+p3+p4)))\n",
    "end"
   ]
  },
  {
   "cell_type": "code",
   "execution_count": 10,
   "metadata": {},
   "outputs": [
    {
     "name": "stdout",
     "output_type": "stream",
     "text": [
      " 10.676557 seconds (2.96 M allocations: 2.277 GiB, 1.00% gc time, 9.98% compilation time)\n"
     ]
    },
    {
     "data": {
      "text/plain": [
       "567"
      ]
     },
     "metadata": {},
     "output_type": "display_data"
    }
   ],
   "source": [
    "@time setprecision(2^22) do\n",
    "  local p = pmap(i->paraChud(10*(i-1),10i-1,2^22),1:4)\n",
    "  local s = sum(p)\n",
    "  numDigits(sqrt(big(640320)^3)/(12s))\n",
    "end"
   ]
  },
  {
   "cell_type": "code",
   "execution_count": 11,
   "metadata": {},
   "outputs": [
    {
     "name": "stdout",
     "output_type": "stream",
     "text": [
      " 11.959962 seconds (1.05 M allocations: 2.183 GiB, 1.99% gc time, 3.86% compilation time)\n"
     ]
    },
    {
     "data": {
      "text/plain": [
       "1134"
      ]
     },
     "metadata": {},
     "output_type": "display_data"
    }
   ],
   "source": [
    "@time setprecision(2^22) do\n",
    "  local p = pmap(i -> paraChud(10*(i-1), 10i-1, 2^22),1:8)\n",
    "  local s = sum(p)\n",
    "  numDigits(sqrt(big(640320)^3)/(12s))\n",
    "end"
   ]
  },
  {
   "cell_type": "code",
   "execution_count": 83,
   "metadata": {},
   "outputs": [
    {
     "name": "stdout",
     "output_type": "stream",
     "text": [
      " 21.931441 seconds (1.03 M allocations: 2.181 GiB, 1.20% gc time, 0.84% compilation time)\n"
     ]
    },
    {
     "data": {
      "text/plain": [
       "5672"
      ]
     },
     "metadata": {},
     "output_type": "display_data"
    }
   ],
   "source": [
    "@time setprecision(2^22) do\n",
    "  local p = pmap(i->paraChud(50*(i-1),50i-1,2^22),1:8)\n",
    "  local s = sum(p)\n",
    "  numDigits(sqrt(big(640320)^3)/(12s))\n",
    "end"
   ]
  },
  {
   "cell_type": "code",
   "execution_count": 15,
   "metadata": {},
   "outputs": [
    {
     "name": "stdout",
     "output_type": "stream",
     "text": [
      " 48.279909 seconds (1.03 M allocations: 2.181 GiB, 0.30% gc time, 0.46% compilation time)\n"
     ]
    },
    {
     "data": {
      "text/plain": [
       "11345"
      ]
     },
     "metadata": {},
     "output_type": "display_data"
    }
   ],
   "source": [
    "@time setprecision(2^22) do\n",
    "  local p = pmap(i->paraChud(100*(i-1),100i-1,2^22),1:8)\n",
    "  local s = sum(p)\n",
    "  numDigits(sqrt(big(640320)^3)/(12s))\n",
    "end"
   ]
  },
  {
   "cell_type": "code",
   "execution_count": 16,
   "metadata": {},
   "outputs": [
    {
     "data": {
      "text/plain": [
       "71.17085353312767"
      ]
     },
     "metadata": {},
     "output_type": "display_data"
    }
   ],
   "source": [
    "1_000_000/11345 *48.446 /60"
   ]
  },
  {
   "cell_type": "code",
   "execution_count": null,
   "metadata": {},
   "outputs": [],
   "source": []
  }
 ],
 "metadata": {
  "kernelspec": {
   "display_name": "Julia 1.11.0-rc1",
   "language": "julia",
   "name": "julia-1.11"
  },
  "language_info": {
   "file_extension": ".jl",
   "mimetype": "application/julia",
   "name": "julia",
   "version": "1.11.0-rc1"
  }
 },
 "nbformat": 4,
 "nbformat_minor": 2
}
