{
 "cells": [
  {
   "cell_type": "code",
   "execution_count": 1,
   "metadata": {},
   "outputs": [],
   "source": [
    "using DataFrames, Chain, Statistics"
   ]
  },
  {
   "cell_type": "code",
   "execution_count": 2,
   "metadata": {},
   "outputs": [
    {
     "data": {
      "text/html": [
       "<div><div style = \"float: left;\"><span>7×4 DataFrame</span></div><div style = \"clear: both;\"></div></div><div class = \"data-frame\" style = \"overflow-x: scroll;\"><table class = \"data-frame\" style = \"margin-bottom: 6px;\"><thead><tr class = \"header\"><th class = \"rowNumber\" style = \"font-weight: bold; text-align: right;\">Row</th><th style = \"text-align: left;\">A</th><th style = \"text-align: left;\">B</th><th style = \"text-align: left;\">C</th><th style = \"text-align: left;\">D</th></tr><tr class = \"subheader headerLastRow\"><th class = \"rowNumber\" style = \"font-weight: bold; text-align: right;\"></th><th title = \"Int64\" style = \"text-align: left;\">Int64</th><th title = \"String\" style = \"text-align: left;\">String</th><th title = \"Float64\" style = \"text-align: left;\">Float64</th><th title = \"Rational{Int64}\" style = \"text-align: left;\">Rational…</th></tr></thead><tbody><tr><td class = \"rowNumber\" style = \"font-weight: bold; text-align: right;\">1</td><td style = \"text-align: right;\">1</td><td style = \"text-align: left;\">M</td><td style = \"text-align: right;\">3.0</td><td style = \"text-align: right;\">-1//1</td></tr><tr><td class = \"rowNumber\" style = \"font-weight: bold; text-align: right;\">2</td><td style = \"text-align: right;\">3</td><td style = \"text-align: left;\">F</td><td style = \"text-align: right;\">2.5</td><td style = \"text-align: right;\">1//2</td></tr><tr><td class = \"rowNumber\" style = \"font-weight: bold; text-align: right;\">3</td><td style = \"text-align: right;\">5</td><td style = \"text-align: left;\">F</td><td style = \"text-align: right;\">3.14159</td><td style = \"text-align: right;\">-1//3</td></tr><tr><td class = \"rowNumber\" style = \"font-weight: bold; text-align: right;\">4</td><td style = \"text-align: right;\">7</td><td style = \"text-align: left;\">M</td><td style = \"text-align: right;\">-2.3</td><td style = \"text-align: right;\">1//4</td></tr><tr><td class = \"rowNumber\" style = \"font-weight: bold; text-align: right;\">5</td><td style = \"text-align: right;\">9</td><td style = \"text-align: left;\">X</td><td style = \"text-align: right;\">0.333333</td><td style = \"text-align: right;\">-1//5</td></tr><tr><td class = \"rowNumber\" style = \"font-weight: bold; text-align: right;\">6</td><td style = \"text-align: right;\">11</td><td style = \"text-align: left;\">F</td><td style = \"text-align: right;\">56.0</td><td style = \"text-align: right;\">1//6</td></tr><tr><td class = \"rowNumber\" style = \"font-weight: bold; text-align: right;\">7</td><td style = \"text-align: right;\">13</td><td style = \"text-align: left;\">M</td><td style = \"text-align: right;\">100.0</td><td style = \"text-align: right;\">-1//7</td></tr></tbody></table></div>"
      ],
      "text/latex": [
       "\\begin{tabular}{r|cccc}\n",
       "\t& A & B & C & D\\\\\n",
       "\t\\hline\n",
       "\t& Int64 & String & Float64 & Rational…\\\\\n",
       "\t\\hline\n",
       "\t1 & 1 & M & 3.0 & -1 \\\\\n",
       "\t2 & 3 & F & 2.5 & 1//2 \\\\\n",
       "\t3 & 5 & F & 3.14159 & -1//3 \\\\\n",
       "\t4 & 7 & M & -2.3 & 1//4 \\\\\n",
       "\t5 & 9 & X & 0.333333 & -1//5 \\\\\n",
       "\t6 & 11 & F & 56.0 & 1//6 \\\\\n",
       "\t7 & 13 & M & 100.0 & -1//7 \\\\\n",
       "\\end{tabular}\n"
      ],
      "text/plain": [
       "\u001b[1m7×4 DataFrame\u001b[0m\n",
       "\u001b[1m Row \u001b[0m│\u001b[1m A     \u001b[0m\u001b[1m B      \u001b[0m\u001b[1m C          \u001b[0m\u001b[1m D         \u001b[0m\n",
       "     │\u001b[90m Int64 \u001b[0m\u001b[90m String \u001b[0m\u001b[90m Float64    \u001b[0m\u001b[90m Rational… \u001b[0m\n",
       "─────┼──────────────────────────────────────\n",
       "   1 │     1  M         3.0           -1//1\n",
       "   2 │     3  F         2.5            1//2\n",
       "   3 │     5  F         3.14159       -1//3\n",
       "   4 │     7  M        -2.3            1//4\n",
       "   5 │     9  X         0.333333      -1//5\n",
       "   6 │    11  F        56.0            1//6\n",
       "   7 │    13  M       100.0           -1//7"
      ]
     },
     "metadata": {},
     "output_type": "display_data"
    }
   ],
   "source": [
    "data = DataFrame(\n",
    "\t\t\t\t  A = 1:2:13,\n",
    "\t\t\t\t  B = [\"M\", \"F\", \"F\", \"M\", \"X\", \"F\", \"M\"],\n",
    "\t\t\t\t  C = [3.0, 2.5, pi, -2.3, 1/3, 56, 100],\n",
    "\t\t\t\t  D = [(-1)^n//n for n=1:7]\n",
    "\t\t\t\t)"
   ]
  },
  {
   "cell_type": "code",
   "execution_count": 3,
   "metadata": {},
   "outputs": [
    {
     "data": {
      "text/html": [
       "<div><div style = \"float: left;\"><span>7×2 DataFrame</span></div><div style = \"clear: both;\"></div></div><div class = \"data-frame\" style = \"overflow-x: scroll;\"><table class = \"data-frame\" style = \"margin-bottom: 6px;\"><thead><tr class = \"header\"><th class = \"rowNumber\" style = \"font-weight: bold; text-align: right;\">Row</th><th style = \"text-align: left;\">A</th><th style = \"text-align: left;\">D</th></tr><tr class = \"subheader headerLastRow\"><th class = \"rowNumber\" style = \"font-weight: bold; text-align: right;\"></th><th title = \"Int64\" style = \"text-align: left;\">Int64</th><th title = \"Rational{Int64}\" style = \"text-align: left;\">Rational…</th></tr></thead><tbody><tr><td class = \"rowNumber\" style = \"font-weight: bold; text-align: right;\">1</td><td style = \"text-align: right;\">1</td><td style = \"text-align: right;\">-1//1</td></tr><tr><td class = \"rowNumber\" style = \"font-weight: bold; text-align: right;\">2</td><td style = \"text-align: right;\">3</td><td style = \"text-align: right;\">1//2</td></tr><tr><td class = \"rowNumber\" style = \"font-weight: bold; text-align: right;\">3</td><td style = \"text-align: right;\">5</td><td style = \"text-align: right;\">-1//3</td></tr><tr><td class = \"rowNumber\" style = \"font-weight: bold; text-align: right;\">4</td><td style = \"text-align: right;\">7</td><td style = \"text-align: right;\">1//4</td></tr><tr><td class = \"rowNumber\" style = \"font-weight: bold; text-align: right;\">5</td><td style = \"text-align: right;\">9</td><td style = \"text-align: right;\">-1//5</td></tr><tr><td class = \"rowNumber\" style = \"font-weight: bold; text-align: right;\">6</td><td style = \"text-align: right;\">11</td><td style = \"text-align: right;\">1//6</td></tr><tr><td class = \"rowNumber\" style = \"font-weight: bold; text-align: right;\">7</td><td style = \"text-align: right;\">13</td><td style = \"text-align: right;\">-1//7</td></tr></tbody></table></div>"
      ],
      "text/latex": [
       "\\begin{tabular}{r|cc}\n",
       "\t& A & D\\\\\n",
       "\t\\hline\n",
       "\t& Int64 & Rational…\\\\\n",
       "\t\\hline\n",
       "\t1 & 1 & -1 \\\\\n",
       "\t2 & 3 & 1//2 \\\\\n",
       "\t3 & 5 & -1//3 \\\\\n",
       "\t4 & 7 & 1//4 \\\\\n",
       "\t5 & 9 & -1//5 \\\\\n",
       "\t6 & 11 & 1//6 \\\\\n",
       "\t7 & 13 & -1//7 \\\\\n",
       "\\end{tabular}\n"
      ],
      "text/plain": [
       "\u001b[1m7×2 DataFrame\u001b[0m\n",
       "\u001b[1m Row \u001b[0m│\u001b[1m A     \u001b[0m\u001b[1m D         \u001b[0m\n",
       "     │\u001b[90m Int64 \u001b[0m\u001b[90m Rational… \u001b[0m\n",
       "─────┼──────────────────\n",
       "   1 │     1      -1//1\n",
       "   2 │     3       1//2\n",
       "   3 │     5      -1//3\n",
       "   4 │     7       1//4\n",
       "   5 │     9      -1//5\n",
       "   6 │    11       1//6\n",
       "   7 │    13      -1//7"
      ]
     },
     "metadata": {},
     "output_type": "display_data"
    }
   ],
   "source": [
    "data[!,[:A,:D]]"
   ]
  },
  {
   "cell_type": "code",
   "execution_count": 4,
   "metadata": {},
   "outputs": [
    {
     "data": {
      "text/html": [
       "<div><div style = \"float: left;\"><span>7×2 DataFrame</span></div><div style = \"clear: both;\"></div></div><div class = \"data-frame\" style = \"overflow-x: scroll;\"><table class = \"data-frame\" style = \"margin-bottom: 6px;\"><thead><tr class = \"header\"><th class = \"rowNumber\" style = \"font-weight: bold; text-align: right;\">Row</th><th style = \"text-align: left;\">A</th><th style = \"text-align: left;\">D</th></tr><tr class = \"subheader headerLastRow\"><th class = \"rowNumber\" style = \"font-weight: bold; text-align: right;\"></th><th title = \"Int64\" style = \"text-align: left;\">Int64</th><th title = \"Rational{Int64}\" style = \"text-align: left;\">Rational…</th></tr></thead><tbody><tr><td class = \"rowNumber\" style = \"font-weight: bold; text-align: right;\">1</td><td style = \"text-align: right;\">1</td><td style = \"text-align: right;\">-1//1</td></tr><tr><td class = \"rowNumber\" style = \"font-weight: bold; text-align: right;\">2</td><td style = \"text-align: right;\">3</td><td style = \"text-align: right;\">1//2</td></tr><tr><td class = \"rowNumber\" style = \"font-weight: bold; text-align: right;\">3</td><td style = \"text-align: right;\">5</td><td style = \"text-align: right;\">-1//3</td></tr><tr><td class = \"rowNumber\" style = \"font-weight: bold; text-align: right;\">4</td><td style = \"text-align: right;\">7</td><td style = \"text-align: right;\">1//4</td></tr><tr><td class = \"rowNumber\" style = \"font-weight: bold; text-align: right;\">5</td><td style = \"text-align: right;\">9</td><td style = \"text-align: right;\">-1//5</td></tr><tr><td class = \"rowNumber\" style = \"font-weight: bold; text-align: right;\">6</td><td style = \"text-align: right;\">11</td><td style = \"text-align: right;\">1//6</td></tr><tr><td class = \"rowNumber\" style = \"font-weight: bold; text-align: right;\">7</td><td style = \"text-align: right;\">13</td><td style = \"text-align: right;\">-1//7</td></tr></tbody></table></div>"
      ],
      "text/latex": [
       "\\begin{tabular}{r|cc}\n",
       "\t& A & D\\\\\n",
       "\t\\hline\n",
       "\t& Int64 & Rational…\\\\\n",
       "\t\\hline\n",
       "\t1 & 1 & -1 \\\\\n",
       "\t2 & 3 & 1//2 \\\\\n",
       "\t3 & 5 & -1//3 \\\\\n",
       "\t4 & 7 & 1//4 \\\\\n",
       "\t5 & 9 & -1//5 \\\\\n",
       "\t6 & 11 & 1//6 \\\\\n",
       "\t7 & 13 & -1//7 \\\\\n",
       "\\end{tabular}\n"
      ],
      "text/plain": [
       "\u001b[1m7×2 DataFrame\u001b[0m\n",
       "\u001b[1m Row \u001b[0m│\u001b[1m A     \u001b[0m\u001b[1m D         \u001b[0m\n",
       "     │\u001b[90m Int64 \u001b[0m\u001b[90m Rational… \u001b[0m\n",
       "─────┼──────────────────\n",
       "   1 │     1      -1//1\n",
       "   2 │     3       1//2\n",
       "   3 │     5      -1//3\n",
       "   4 │     7       1//4\n",
       "   5 │     9      -1//5\n",
       "   6 │    11       1//6\n",
       "   7 │    13      -1//7"
      ]
     },
     "metadata": {},
     "output_type": "display_data"
    }
   ],
   "source": [
    "select(data,:A,:D)"
   ]
  },
  {
   "cell_type": "code",
   "execution_count": 5,
   "metadata": {},
   "outputs": [
    {
     "data": {
      "text/html": [
       "<div><div style = \"float: left;\"><span>7×3 DataFrame</span></div><div style = \"clear: both;\"></div></div><div class = \"data-frame\" style = \"overflow-x: scroll;\"><table class = \"data-frame\" style = \"margin-bottom: 6px;\"><thead><tr class = \"header\"><th class = \"rowNumber\" style = \"font-weight: bold; text-align: right;\">Row</th><th style = \"text-align: left;\">A</th><th style = \"text-align: left;\">C</th><th style = \"text-align: left;\">D</th></tr><tr class = \"subheader headerLastRow\"><th class = \"rowNumber\" style = \"font-weight: bold; text-align: right;\"></th><th title = \"Int64\" style = \"text-align: left;\">Int64</th><th title = \"Float64\" style = \"text-align: left;\">Float64</th><th title = \"Rational{Int64}\" style = \"text-align: left;\">Rational…</th></tr></thead><tbody><tr><td class = \"rowNumber\" style = \"font-weight: bold; text-align: right;\">1</td><td style = \"text-align: right;\">1</td><td style = \"text-align: right;\">3.0</td><td style = \"text-align: right;\">-1//1</td></tr><tr><td class = \"rowNumber\" style = \"font-weight: bold; text-align: right;\">2</td><td style = \"text-align: right;\">3</td><td style = \"text-align: right;\">2.5</td><td style = \"text-align: right;\">1//2</td></tr><tr><td class = \"rowNumber\" style = \"font-weight: bold; text-align: right;\">3</td><td style = \"text-align: right;\">5</td><td style = \"text-align: right;\">3.14159</td><td style = \"text-align: right;\">-1//3</td></tr><tr><td class = \"rowNumber\" style = \"font-weight: bold; text-align: right;\">4</td><td style = \"text-align: right;\">7</td><td style = \"text-align: right;\">-2.3</td><td style = \"text-align: right;\">1//4</td></tr><tr><td class = \"rowNumber\" style = \"font-weight: bold; text-align: right;\">5</td><td style = \"text-align: right;\">9</td><td style = \"text-align: right;\">0.333333</td><td style = \"text-align: right;\">-1//5</td></tr><tr><td class = \"rowNumber\" style = \"font-weight: bold; text-align: right;\">6</td><td style = \"text-align: right;\">11</td><td style = \"text-align: right;\">56.0</td><td style = \"text-align: right;\">1//6</td></tr><tr><td class = \"rowNumber\" style = \"font-weight: bold; text-align: right;\">7</td><td style = \"text-align: right;\">13</td><td style = \"text-align: right;\">100.0</td><td style = \"text-align: right;\">-1//7</td></tr></tbody></table></div>"
      ],
      "text/latex": [
       "\\begin{tabular}{r|ccc}\n",
       "\t& A & C & D\\\\\n",
       "\t\\hline\n",
       "\t& Int64 & Float64 & Rational…\\\\\n",
       "\t\\hline\n",
       "\t1 & 1 & 3.0 & -1 \\\\\n",
       "\t2 & 3 & 2.5 & 1//2 \\\\\n",
       "\t3 & 5 & 3.14159 & -1//3 \\\\\n",
       "\t4 & 7 & -2.3 & 1//4 \\\\\n",
       "\t5 & 9 & 0.333333 & -1//5 \\\\\n",
       "\t6 & 11 & 56.0 & 1//6 \\\\\n",
       "\t7 & 13 & 100.0 & -1//7 \\\\\n",
       "\\end{tabular}\n"
      ],
      "text/plain": [
       "\u001b[1m7×3 DataFrame\u001b[0m\n",
       "\u001b[1m Row \u001b[0m│\u001b[1m A     \u001b[0m\u001b[1m C          \u001b[0m\u001b[1m D         \u001b[0m\n",
       "     │\u001b[90m Int64 \u001b[0m\u001b[90m Float64    \u001b[0m\u001b[90m Rational… \u001b[0m\n",
       "─────┼──────────────────────────────\n",
       "   1 │     1    3.0           -1//1\n",
       "   2 │     3    2.5            1//2\n",
       "   3 │     5    3.14159       -1//3\n",
       "   4 │     7   -2.3            1//4\n",
       "   5 │     9    0.333333      -1//5\n",
       "   6 │    11   56.0            1//6\n",
       "   7 │    13  100.0           -1//7"
      ]
     },
     "metadata": {},
     "output_type": "display_data"
    }
   ],
   "source": [
    "@chain data begin\n",
    "  select(Not(:B))\n",
    "end"
   ]
  },
  {
   "cell_type": "code",
   "execution_count": 6,
   "metadata": {},
   "outputs": [
    {
     "data": {
      "text/html": [
       "<div><div style = \"float: left;\"><span>7×3 DataFrame</span></div><div style = \"clear: both;\"></div></div><div class = \"data-frame\" style = \"overflow-x: scroll;\"><table class = \"data-frame\" style = \"margin-bottom: 6px;\"><thead><tr class = \"header\"><th class = \"rowNumber\" style = \"font-weight: bold; text-align: right;\">Row</th><th style = \"text-align: left;\">B</th><th style = \"text-align: left;\">C</th><th style = \"text-align: left;\">D</th></tr><tr class = \"subheader headerLastRow\"><th class = \"rowNumber\" style = \"font-weight: bold; text-align: right;\"></th><th title = \"String\" style = \"text-align: left;\">String</th><th title = \"Float64\" style = \"text-align: left;\">Float64</th><th title = \"Rational{Int64}\" style = \"text-align: left;\">Rational…</th></tr></thead><tbody><tr><td class = \"rowNumber\" style = \"font-weight: bold; text-align: right;\">1</td><td style = \"text-align: left;\">M</td><td style = \"text-align: right;\">3.0</td><td style = \"text-align: right;\">-1//1</td></tr><tr><td class = \"rowNumber\" style = \"font-weight: bold; text-align: right;\">2</td><td style = \"text-align: left;\">F</td><td style = \"text-align: right;\">2.5</td><td style = \"text-align: right;\">1//2</td></tr><tr><td class = \"rowNumber\" style = \"font-weight: bold; text-align: right;\">3</td><td style = \"text-align: left;\">F</td><td style = \"text-align: right;\">3.14159</td><td style = \"text-align: right;\">-1//3</td></tr><tr><td class = \"rowNumber\" style = \"font-weight: bold; text-align: right;\">4</td><td style = \"text-align: left;\">M</td><td style = \"text-align: right;\">-2.3</td><td style = \"text-align: right;\">1//4</td></tr><tr><td class = \"rowNumber\" style = \"font-weight: bold; text-align: right;\">5</td><td style = \"text-align: left;\">X</td><td style = \"text-align: right;\">0.333333</td><td style = \"text-align: right;\">-1//5</td></tr><tr><td class = \"rowNumber\" style = \"font-weight: bold; text-align: right;\">6</td><td style = \"text-align: left;\">F</td><td style = \"text-align: right;\">56.0</td><td style = \"text-align: right;\">1//6</td></tr><tr><td class = \"rowNumber\" style = \"font-weight: bold; text-align: right;\">7</td><td style = \"text-align: left;\">M</td><td style = \"text-align: right;\">100.0</td><td style = \"text-align: right;\">-1//7</td></tr></tbody></table></div>"
      ],
      "text/latex": [
       "\\begin{tabular}{r|ccc}\n",
       "\t& B & C & D\\\\\n",
       "\t\\hline\n",
       "\t& String & Float64 & Rational…\\\\\n",
       "\t\\hline\n",
       "\t1 & M & 3.0 & -1 \\\\\n",
       "\t2 & F & 2.5 & 1//2 \\\\\n",
       "\t3 & F & 3.14159 & -1//3 \\\\\n",
       "\t4 & M & -2.3 & 1//4 \\\\\n",
       "\t5 & X & 0.333333 & -1//5 \\\\\n",
       "\t6 & F & 56.0 & 1//6 \\\\\n",
       "\t7 & M & 100.0 & -1//7 \\\\\n",
       "\\end{tabular}\n"
      ],
      "text/plain": [
       "\u001b[1m7×3 DataFrame\u001b[0m\n",
       "\u001b[1m Row \u001b[0m│\u001b[1m B      \u001b[0m\u001b[1m C          \u001b[0m\u001b[1m D         \u001b[0m\n",
       "     │\u001b[90m String \u001b[0m\u001b[90m Float64    \u001b[0m\u001b[90m Rational… \u001b[0m\n",
       "─────┼───────────────────────────────\n",
       "   1 │ M         3.0           -1//1\n",
       "   2 │ F         2.5            1//2\n",
       "   3 │ F         3.14159       -1//3\n",
       "   4 │ M        -2.3            1//4\n",
       "   5 │ X         0.333333      -1//5\n",
       "   6 │ F        56.0            1//6\n",
       "   7 │ M       100.0           -1//7"
      ]
     },
     "metadata": {},
     "output_type": "display_data"
    }
   ],
   "source": [
    "@chain data begin\n",
    "  select(Between(:B,:D))\n",
    "end"
   ]
  },
  {
   "cell_type": "code",
   "execution_count": 7,
   "metadata": {},
   "outputs": [
    {
     "data": {
      "text/html": [
       "<div><div style = \"float: left;\"><span>5×4 DataFrame</span></div><div style = \"clear: both;\"></div></div><div class = \"data-frame\" style = \"overflow-x: scroll;\"><table class = \"data-frame\" style = \"margin-bottom: 6px;\"><thead><tr class = \"header\"><th class = \"rowNumber\" style = \"font-weight: bold; text-align: right;\">Row</th><th style = \"text-align: left;\">A</th><th style = \"text-align: left;\">B</th><th style = \"text-align: left;\">C</th><th style = \"text-align: left;\">D</th></tr><tr class = \"subheader headerLastRow\"><th class = \"rowNumber\" style = \"font-weight: bold; text-align: right;\"></th><th title = \"Int64\" style = \"text-align: left;\">Int64</th><th title = \"String\" style = \"text-align: left;\">String</th><th title = \"Float64\" style = \"text-align: left;\">Float64</th><th title = \"Rational{Int64}\" style = \"text-align: left;\">Rational…</th></tr></thead><tbody><tr><td class = \"rowNumber\" style = \"font-weight: bold; text-align: right;\">1</td><td style = \"text-align: right;\">1</td><td style = \"text-align: left;\">M</td><td style = \"text-align: right;\">3.0</td><td style = \"text-align: right;\">-1//1</td></tr><tr><td class = \"rowNumber\" style = \"font-weight: bold; text-align: right;\">2</td><td style = \"text-align: right;\">3</td><td style = \"text-align: left;\">F</td><td style = \"text-align: right;\">2.5</td><td style = \"text-align: right;\">1//2</td></tr><tr><td class = \"rowNumber\" style = \"font-weight: bold; text-align: right;\">3</td><td style = \"text-align: right;\">5</td><td style = \"text-align: left;\">F</td><td style = \"text-align: right;\">3.14159</td><td style = \"text-align: right;\">-1//3</td></tr><tr><td class = \"rowNumber\" style = \"font-weight: bold; text-align: right;\">4</td><td style = \"text-align: right;\">7</td><td style = \"text-align: left;\">M</td><td style = \"text-align: right;\">-2.3</td><td style = \"text-align: right;\">1//4</td></tr><tr><td class = \"rowNumber\" style = \"font-weight: bold; text-align: right;\">5</td><td style = \"text-align: right;\">9</td><td style = \"text-align: left;\">X</td><td style = \"text-align: right;\">0.333333</td><td style = \"text-align: right;\">-1//5</td></tr></tbody></table></div>"
      ],
      "text/latex": [
       "\\begin{tabular}{r|cccc}\n",
       "\t& A & B & C & D\\\\\n",
       "\t\\hline\n",
       "\t& Int64 & String & Float64 & Rational…\\\\\n",
       "\t\\hline\n",
       "\t1 & 1 & M & 3.0 & -1 \\\\\n",
       "\t2 & 3 & F & 2.5 & 1//2 \\\\\n",
       "\t3 & 5 & F & 3.14159 & -1//3 \\\\\n",
       "\t4 & 7 & M & -2.3 & 1//4 \\\\\n",
       "\t5 & 9 & X & 0.333333 & -1//5 \\\\\n",
       "\\end{tabular}\n"
      ],
      "text/plain": [
       "\u001b[1m5×4 DataFrame\u001b[0m\n",
       "\u001b[1m Row \u001b[0m│\u001b[1m A     \u001b[0m\u001b[1m B      \u001b[0m\u001b[1m C         \u001b[0m\u001b[1m D         \u001b[0m\n",
       "     │\u001b[90m Int64 \u001b[0m\u001b[90m String \u001b[0m\u001b[90m Float64   \u001b[0m\u001b[90m Rational… \u001b[0m\n",
       "─────┼─────────────────────────────────────\n",
       "   1 │     1  M        3.0           -1//1\n",
       "   2 │     3  F        2.5            1//2\n",
       "   3 │     5  F        3.14159       -1//3\n",
       "   4 │     7  M       -2.3            1//4\n",
       "   5 │     9  X        0.333333      -1//5"
      ]
     },
     "metadata": {},
     "output_type": "display_data"
    }
   ],
   "source": [
    "@chain data begin\n",
    "  subset(:A => a -> a .< 10)\n",
    "end"
   ]
  },
  {
   "cell_type": "code",
   "execution_count": 8,
   "metadata": {},
   "outputs": [
    {
     "data": {
      "text/html": [
       "<div><div style = \"float: left;\"><span>3×4 DataFrame</span></div><div style = \"clear: both;\"></div></div><div class = \"data-frame\" style = \"overflow-x: scroll;\"><table class = \"data-frame\" style = \"margin-bottom: 6px;\"><thead><tr class = \"header\"><th class = \"rowNumber\" style = \"font-weight: bold; text-align: right;\">Row</th><th style = \"text-align: left;\">A</th><th style = \"text-align: left;\">B</th><th style = \"text-align: left;\">C</th><th style = \"text-align: left;\">D</th></tr><tr class = \"subheader headerLastRow\"><th class = \"rowNumber\" style = \"font-weight: bold; text-align: right;\"></th><th title = \"Int64\" style = \"text-align: left;\">Int64</th><th title = \"String\" style = \"text-align: left;\">String</th><th title = \"Float64\" style = \"text-align: left;\">Float64</th><th title = \"Rational{Int64}\" style = \"text-align: left;\">Rational…</th></tr></thead><tbody><tr><td class = \"rowNumber\" style = \"font-weight: bold; text-align: right;\">1</td><td style = \"text-align: right;\">3</td><td style = \"text-align: left;\">F</td><td style = \"text-align: right;\">2.5</td><td style = \"text-align: right;\">1//2</td></tr><tr><td class = \"rowNumber\" style = \"font-weight: bold; text-align: right;\">2</td><td style = \"text-align: right;\">5</td><td style = \"text-align: left;\">F</td><td style = \"text-align: right;\">3.14159</td><td style = \"text-align: right;\">-1//3</td></tr><tr><td class = \"rowNumber\" style = \"font-weight: bold; text-align: right;\">3</td><td style = \"text-align: right;\">11</td><td style = \"text-align: left;\">F</td><td style = \"text-align: right;\">56.0</td><td style = \"text-align: right;\">1//6</td></tr></tbody></table></div>"
      ],
      "text/latex": [
       "\\begin{tabular}{r|cccc}\n",
       "\t& A & B & C & D\\\\\n",
       "\t\\hline\n",
       "\t& Int64 & String & Float64 & Rational…\\\\\n",
       "\t\\hline\n",
       "\t1 & 3 & F & 2.5 & 1//2 \\\\\n",
       "\t2 & 5 & F & 3.14159 & -1//3 \\\\\n",
       "\t3 & 11 & F & 56.0 & 1//6 \\\\\n",
       "\\end{tabular}\n"
      ],
      "text/plain": [
       "\u001b[1m3×4 DataFrame\u001b[0m\n",
       "\u001b[1m Row \u001b[0m│\u001b[1m A     \u001b[0m\u001b[1m B      \u001b[0m\u001b[1m C        \u001b[0m\u001b[1m D         \u001b[0m\n",
       "     │\u001b[90m Int64 \u001b[0m\u001b[90m String \u001b[0m\u001b[90m Float64  \u001b[0m\u001b[90m Rational… \u001b[0m\n",
       "─────┼────────────────────────────────────\n",
       "   1 │     3  F        2.5           1//2\n",
       "   2 │     5  F        3.14159      -1//3\n",
       "   3 │    11  F       56.0           1//6"
      ]
     },
     "metadata": {},
     "output_type": "display_data"
    }
   ],
   "source": [
    "@chain data begin\n",
    "  subset(:B => b -> b .== \"F\")\n",
    "end"
   ]
  },
  {
   "cell_type": "code",
   "execution_count": 9,
   "metadata": {},
   "outputs": [
    {
     "data": {
      "text/html": [
       "<div><div style = \"float: left;\"><span>1×4 DataFrame</span></div><div style = \"clear: both;\"></div></div><div class = \"data-frame\" style = \"overflow-x: scroll;\"><table class = \"data-frame\" style = \"margin-bottom: 6px;\"><thead><tr class = \"header\"><th class = \"rowNumber\" style = \"font-weight: bold; text-align: right;\">Row</th><th style = \"text-align: left;\">A</th><th style = \"text-align: left;\">B</th><th style = \"text-align: left;\">C</th><th style = \"text-align: left;\">D</th></tr><tr class = \"subheader headerLastRow\"><th class = \"rowNumber\" style = \"font-weight: bold; text-align: right;\"></th><th title = \"Int64\" style = \"text-align: left;\">Int64</th><th title = \"String\" style = \"text-align: left;\">String</th><th title = \"Float64\" style = \"text-align: left;\">Float64</th><th title = \"Rational{Int64}\" style = \"text-align: left;\">Rational…</th></tr></thead><tbody><tr><td class = \"rowNumber\" style = \"font-weight: bold; text-align: right;\">1</td><td style = \"text-align: right;\">11</td><td style = \"text-align: left;\">F</td><td style = \"text-align: right;\">56.0</td><td style = \"text-align: right;\">1//6</td></tr></tbody></table></div>"
      ],
      "text/latex": [
       "\\begin{tabular}{r|cccc}\n",
       "\t& A & B & C & D\\\\\n",
       "\t\\hline\n",
       "\t& Int64 & String & Float64 & Rational…\\\\\n",
       "\t\\hline\n",
       "\t1 & 11 & F & 56.0 & 1//6 \\\\\n",
       "\\end{tabular}\n"
      ],
      "text/plain": [
       "\u001b[1m1×4 DataFrame\u001b[0m\n",
       "\u001b[1m Row \u001b[0m│\u001b[1m A     \u001b[0m\u001b[1m B      \u001b[0m\u001b[1m C       \u001b[0m\u001b[1m D         \u001b[0m\n",
       "     │\u001b[90m Int64 \u001b[0m\u001b[90m String \u001b[0m\u001b[90m Float64 \u001b[0m\u001b[90m Rational… \u001b[0m\n",
       "─────┼───────────────────────────────────\n",
       "   1 │    11  F          56.0       1//6"
      ]
     },
     "metadata": {},
     "output_type": "display_data"
    }
   ],
   "source": [
    "@chain data begin\n",
    "  subset([:C, :D] => (c, d) -> c .* d .> 2)\n",
    "end"
   ]
  },
  {
   "cell_type": "code",
   "execution_count": 10,
   "metadata": {},
   "outputs": [
    {
     "data": {
      "text/html": [
       "<div><div style = \"float: left;\"><span>1×4 DataFrame</span></div><div style = \"clear: both;\"></div></div><div class = \"data-frame\" style = \"overflow-x: scroll;\"><table class = \"data-frame\" style = \"margin-bottom: 6px;\"><thead><tr class = \"header\"><th class = \"rowNumber\" style = \"font-weight: bold; text-align: right;\">Row</th><th style = \"text-align: left;\">A</th><th style = \"text-align: left;\">B</th><th style = \"text-align: left;\">C</th><th style = \"text-align: left;\">D</th></tr><tr class = \"subheader headerLastRow\"><th class = \"rowNumber\" style = \"font-weight: bold; text-align: right;\"></th><th title = \"Int64\" style = \"text-align: left;\">Int64</th><th title = \"String\" style = \"text-align: left;\">String</th><th title = \"Float64\" style = \"text-align: left;\">Float64</th><th title = \"Rational{Int64}\" style = \"text-align: left;\">Rational…</th></tr></thead><tbody><tr><td class = \"rowNumber\" style = \"font-weight: bold; text-align: right;\">1</td><td style = \"text-align: right;\">11</td><td style = \"text-align: left;\">F</td><td style = \"text-align: right;\">56.0</td><td style = \"text-align: right;\">1//6</td></tr></tbody></table></div>"
      ],
      "text/latex": [
       "\\begin{tabular}{r|cccc}\n",
       "\t& A & B & C & D\\\\\n",
       "\t\\hline\n",
       "\t& Int64 & String & Float64 & Rational…\\\\\n",
       "\t\\hline\n",
       "\t1 & 11 & F & 56.0 & 1//6 \\\\\n",
       "\\end{tabular}\n"
      ],
      "text/plain": [
       "\u001b[1m1×4 DataFrame\u001b[0m\n",
       "\u001b[1m Row \u001b[0m│\u001b[1m A     \u001b[0m\u001b[1m B      \u001b[0m\u001b[1m C       \u001b[0m\u001b[1m D         \u001b[0m\n",
       "     │\u001b[90m Int64 \u001b[0m\u001b[90m String \u001b[0m\u001b[90m Float64 \u001b[0m\u001b[90m Rational… \u001b[0m\n",
       "─────┼───────────────────────────────────\n",
       "   1 │    11  F          56.0       1//6"
      ]
     },
     "metadata": {},
     "output_type": "display_data"
    }
   ],
   "source": [
    "@chain data begin\n",
    "  subset([:C, :D] => ByRow((c, d) -> c * d > 2))\n",
    "end"
   ]
  },
  {
   "cell_type": "code",
   "execution_count": 11,
   "metadata": {},
   "outputs": [
    {
     "data": {
      "text/html": [
       "<div><div style = \"float: left;\"><span>1×4 DataFrame</span></div><div style = \"clear: both;\"></div></div><div class = \"data-frame\" style = \"overflow-x: scroll;\"><table class = \"data-frame\" style = \"margin-bottom: 6px;\"><thead><tr class = \"header\"><th class = \"rowNumber\" style = \"font-weight: bold; text-align: right;\">Row</th><th style = \"text-align: left;\">A</th><th style = \"text-align: left;\">B</th><th style = \"text-align: left;\">C</th><th style = \"text-align: left;\">D</th></tr><tr class = \"subheader headerLastRow\"><th class = \"rowNumber\" style = \"font-weight: bold; text-align: right;\"></th><th title = \"Int64\" style = \"text-align: left;\">Int64</th><th title = \"String\" style = \"text-align: left;\">String</th><th title = \"Float64\" style = \"text-align: left;\">Float64</th><th title = \"Rational{Int64}\" style = \"text-align: left;\">Rational…</th></tr></thead><tbody><tr><td class = \"rowNumber\" style = \"font-weight: bold; text-align: right;\">1</td><td style = \"text-align: right;\">11</td><td style = \"text-align: left;\">F</td><td style = \"text-align: right;\">56.0</td><td style = \"text-align: right;\">1//6</td></tr></tbody></table></div>"
      ],
      "text/latex": [
       "\\begin{tabular}{r|cccc}\n",
       "\t& A & B & C & D\\\\\n",
       "\t\\hline\n",
       "\t& Int64 & String & Float64 & Rational…\\\\\n",
       "\t\\hline\n",
       "\t1 & 11 & F & 56.0 & 1//6 \\\\\n",
       "\\end{tabular}\n"
      ],
      "text/plain": [
       "\u001b[1m1×4 DataFrame\u001b[0m\n",
       "\u001b[1m Row \u001b[0m│\u001b[1m A     \u001b[0m\u001b[1m B      \u001b[0m\u001b[1m C       \u001b[0m\u001b[1m D         \u001b[0m\n",
       "     │\u001b[90m Int64 \u001b[0m\u001b[90m String \u001b[0m\u001b[90m Float64 \u001b[0m\u001b[90m Rational… \u001b[0m\n",
       "─────┼───────────────────────────────────\n",
       "   1 │    11  F          56.0       1//6"
      ]
     },
     "metadata": {},
     "output_type": "display_data"
    }
   ],
   "source": [
    "@chain data begin\n",
    "  subset([:C, :D] => (c, d) -> @. c * d > 2)\n",
    "end"
   ]
  },
  {
   "cell_type": "code",
   "execution_count": 12,
   "metadata": {},
   "outputs": [
    {
     "data": {
      "text/html": [
       "<div><div style = \"float: left;\"><span>7×1 DataFrame</span></div><div style = \"clear: both;\"></div></div><div class = \"data-frame\" style = \"overflow-x: scroll;\"><table class = \"data-frame\" style = \"margin-bottom: 6px;\"><thead><tr class = \"header\"><th class = \"rowNumber\" style = \"font-weight: bold; text-align: right;\">Row</th><th style = \"text-align: left;\">A_function</th></tr><tr class = \"subheader headerLastRow\"><th class = \"rowNumber\" style = \"font-weight: bold; text-align: right;\"></th><th title = \"Int64\" style = \"text-align: left;\">Int64</th></tr></thead><tbody><tr><td class = \"rowNumber\" style = \"font-weight: bold; text-align: right;\">1</td><td style = \"text-align: right;\">1</td></tr><tr><td class = \"rowNumber\" style = \"font-weight: bold; text-align: right;\">2</td><td style = \"text-align: right;\">9</td></tr><tr><td class = \"rowNumber\" style = \"font-weight: bold; text-align: right;\">3</td><td style = \"text-align: right;\">25</td></tr><tr><td class = \"rowNumber\" style = \"font-weight: bold; text-align: right;\">4</td><td style = \"text-align: right;\">49</td></tr><tr><td class = \"rowNumber\" style = \"font-weight: bold; text-align: right;\">5</td><td style = \"text-align: right;\">81</td></tr><tr><td class = \"rowNumber\" style = \"font-weight: bold; text-align: right;\">6</td><td style = \"text-align: right;\">121</td></tr><tr><td class = \"rowNumber\" style = \"font-weight: bold; text-align: right;\">7</td><td style = \"text-align: right;\">169</td></tr></tbody></table></div>"
      ],
      "text/latex": [
       "\\begin{tabular}{r|c}\n",
       "\t& A\\_function\\\\\n",
       "\t\\hline\n",
       "\t& Int64\\\\\n",
       "\t\\hline\n",
       "\t1 & 1 \\\\\n",
       "\t2 & 9 \\\\\n",
       "\t3 & 25 \\\\\n",
       "\t4 & 49 \\\\\n",
       "\t5 & 81 \\\\\n",
       "\t6 & 121 \\\\\n",
       "\t7 & 169 \\\\\n",
       "\\end{tabular}\n"
      ],
      "text/plain": [
       "\u001b[1m7×1 DataFrame\u001b[0m\n",
       "\u001b[1m Row \u001b[0m│\u001b[1m A_function \u001b[0m\n",
       "     │\u001b[90m Int64      \u001b[0m\n",
       "─────┼────────────\n",
       "   1 │          1\n",
       "   2 │          9\n",
       "   3 │         25\n",
       "   4 │         49\n",
       "   5 │         81\n",
       "   6 │        121\n",
       "   7 │        169"
      ]
     },
     "metadata": {},
     "output_type": "display_data"
    }
   ],
   "source": [
    "@chain data begin\n",
    "  select(:A => a -> a.^2)\n",
    "end"
   ]
  },
  {
   "cell_type": "code",
   "execution_count": 13,
   "metadata": {},
   "outputs": [
    {
     "data": {
      "text/html": [
       "<div><div style = \"float: left;\"><span>7×5 DataFrame</span></div><div style = \"clear: both;\"></div></div><div class = \"data-frame\" style = \"overflow-x: scroll;\"><table class = \"data-frame\" style = \"margin-bottom: 6px;\"><thead><tr class = \"header\"><th class = \"rowNumber\" style = \"font-weight: bold; text-align: right;\">Row</th><th style = \"text-align: left;\">A</th><th style = \"text-align: left;\">B</th><th style = \"text-align: left;\">C</th><th style = \"text-align: left;\">D</th><th style = \"text-align: left;\">Asq</th></tr><tr class = \"subheader headerLastRow\"><th class = \"rowNumber\" style = \"font-weight: bold; text-align: right;\"></th><th title = \"Int64\" style = \"text-align: left;\">Int64</th><th title = \"String\" style = \"text-align: left;\">String</th><th title = \"Float64\" style = \"text-align: left;\">Float64</th><th title = \"Rational{Int64}\" style = \"text-align: left;\">Rational…</th><th title = \"Int64\" style = \"text-align: left;\">Int64</th></tr></thead><tbody><tr><td class = \"rowNumber\" style = \"font-weight: bold; text-align: right;\">1</td><td style = \"text-align: right;\">1</td><td style = \"text-align: left;\">M</td><td style = \"text-align: right;\">3.0</td><td style = \"text-align: right;\">-1//1</td><td style = \"text-align: right;\">1</td></tr><tr><td class = \"rowNumber\" style = \"font-weight: bold; text-align: right;\">2</td><td style = \"text-align: right;\">3</td><td style = \"text-align: left;\">F</td><td style = \"text-align: right;\">2.5</td><td style = \"text-align: right;\">1//2</td><td style = \"text-align: right;\">9</td></tr><tr><td class = \"rowNumber\" style = \"font-weight: bold; text-align: right;\">3</td><td style = \"text-align: right;\">5</td><td style = \"text-align: left;\">F</td><td style = \"text-align: right;\">3.14159</td><td style = \"text-align: right;\">-1//3</td><td style = \"text-align: right;\">25</td></tr><tr><td class = \"rowNumber\" style = \"font-weight: bold; text-align: right;\">4</td><td style = \"text-align: right;\">7</td><td style = \"text-align: left;\">M</td><td style = \"text-align: right;\">-2.3</td><td style = \"text-align: right;\">1//4</td><td style = \"text-align: right;\">49</td></tr><tr><td class = \"rowNumber\" style = \"font-weight: bold; text-align: right;\">5</td><td style = \"text-align: right;\">9</td><td style = \"text-align: left;\">X</td><td style = \"text-align: right;\">0.333333</td><td style = \"text-align: right;\">-1//5</td><td style = \"text-align: right;\">81</td></tr><tr><td class = \"rowNumber\" style = \"font-weight: bold; text-align: right;\">6</td><td style = \"text-align: right;\">11</td><td style = \"text-align: left;\">F</td><td style = \"text-align: right;\">56.0</td><td style = \"text-align: right;\">1//6</td><td style = \"text-align: right;\">121</td></tr><tr><td class = \"rowNumber\" style = \"font-weight: bold; text-align: right;\">7</td><td style = \"text-align: right;\">13</td><td style = \"text-align: left;\">M</td><td style = \"text-align: right;\">100.0</td><td style = \"text-align: right;\">-1//7</td><td style = \"text-align: right;\">169</td></tr></tbody></table></div>"
      ],
      "text/latex": [
       "\\begin{tabular}{r|ccccc}\n",
       "\t& A & B & C & D & Asq\\\\\n",
       "\t\\hline\n",
       "\t& Int64 & String & Float64 & Rational… & Int64\\\\\n",
       "\t\\hline\n",
       "\t1 & 1 & M & 3.0 & -1 & 1 \\\\\n",
       "\t2 & 3 & F & 2.5 & 1//2 & 9 \\\\\n",
       "\t3 & 5 & F & 3.14159 & -1//3 & 25 \\\\\n",
       "\t4 & 7 & M & -2.3 & 1//4 & 49 \\\\\n",
       "\t5 & 9 & X & 0.333333 & -1//5 & 81 \\\\\n",
       "\t6 & 11 & F & 56.0 & 1//6 & 121 \\\\\n",
       "\t7 & 13 & M & 100.0 & -1//7 & 169 \\\\\n",
       "\\end{tabular}\n"
      ],
      "text/plain": [
       "\u001b[1m7×5 DataFrame\u001b[0m\n",
       "\u001b[1m Row \u001b[0m│\u001b[1m A     \u001b[0m\u001b[1m B      \u001b[0m\u001b[1m C          \u001b[0m\u001b[1m D         \u001b[0m\u001b[1m Asq   \u001b[0m\n",
       "     │\u001b[90m Int64 \u001b[0m\u001b[90m String \u001b[0m\u001b[90m Float64    \u001b[0m\u001b[90m Rational… \u001b[0m\u001b[90m Int64 \u001b[0m\n",
       "─────┼─────────────────────────────────────────────\n",
       "   1 │     1  M         3.0           -1//1      1\n",
       "   2 │     3  F         2.5            1//2      9\n",
       "   3 │     5  F         3.14159       -1//3     25\n",
       "   4 │     7  M        -2.3            1//4     49\n",
       "   5 │     9  X         0.333333      -1//5     81\n",
       "   6 │    11  F        56.0            1//6    121\n",
       "   7 │    13  M       100.0           -1//7    169"
      ]
     },
     "metadata": {},
     "output_type": "display_data"
    }
   ],
   "source": [
    "@chain data begin\n",
    "  transform(:A => (a -> a.^2) => :Asq)\n",
    "end"
   ]
  },
  {
   "cell_type": "code",
   "execution_count": 14,
   "metadata": {},
   "outputs": [
    {
     "data": {
      "text/html": [
       "<div><div style = \"float: left;\"><span>7×1 DataFrame</span></div><div style = \"clear: both;\"></div></div><div class = \"data-frame\" style = \"overflow-x: scroll;\"><table class = \"data-frame\" style = \"margin-bottom: 6px;\"><thead><tr class = \"header\"><th class = \"rowNumber\" style = \"font-weight: bold; text-align: right;\">Row</th><th style = \"text-align: left;\">prod</th></tr><tr class = \"subheader headerLastRow\"><th class = \"rowNumber\" style = \"font-weight: bold; text-align: right;\"></th><th title = \"Float64\" style = \"text-align: left;\">Float64</th></tr></thead><tbody><tr><td class = \"rowNumber\" style = \"font-weight: bold; text-align: right;\">1</td><td style = \"text-align: right;\">-3.0</td></tr><tr><td class = \"rowNumber\" style = \"font-weight: bold; text-align: right;\">2</td><td style = \"text-align: right;\">1.25</td></tr><tr><td class = \"rowNumber\" style = \"font-weight: bold; text-align: right;\">3</td><td style = \"text-align: right;\">-1.0472</td></tr><tr><td class = \"rowNumber\" style = \"font-weight: bold; text-align: right;\">4</td><td style = \"text-align: right;\">-0.575</td></tr><tr><td class = \"rowNumber\" style = \"font-weight: bold; text-align: right;\">5</td><td style = \"text-align: right;\">-0.0666667</td></tr><tr><td class = \"rowNumber\" style = \"font-weight: bold; text-align: right;\">6</td><td style = \"text-align: right;\">9.33333</td></tr><tr><td class = \"rowNumber\" style = \"font-weight: bold; text-align: right;\">7</td><td style = \"text-align: right;\">-14.2857</td></tr></tbody></table></div>"
      ],
      "text/latex": [
       "\\begin{tabular}{r|c}\n",
       "\t& prod\\\\\n",
       "\t\\hline\n",
       "\t& Float64\\\\\n",
       "\t\\hline\n",
       "\t1 & -3.0 \\\\\n",
       "\t2 & 1.25 \\\\\n",
       "\t3 & -1.0472 \\\\\n",
       "\t4 & -0.575 \\\\\n",
       "\t5 & -0.0666667 \\\\\n",
       "\t6 & 9.33333 \\\\\n",
       "\t7 & -14.2857 \\\\\n",
       "\\end{tabular}\n"
      ],
      "text/plain": [
       "\u001b[1m7×1 DataFrame\u001b[0m\n",
       "\u001b[1m Row \u001b[0m│\u001b[1m prod        \u001b[0m\n",
       "     │\u001b[90m Float64     \u001b[0m\n",
       "─────┼─────────────\n",
       "   1 │  -3.0\n",
       "   2 │   1.25\n",
       "   3 │  -1.0472\n",
       "   4 │  -0.575\n",
       "   5 │  -0.0666667\n",
       "   6 │   9.33333\n",
       "   7 │ -14.2857"
      ]
     },
     "metadata": {},
     "output_type": "display_data"
    }
   ],
   "source": [
    "@chain data begin\n",
    "  select([:C, :D] => ((c,d) -> @. c*d) => :prod)\n",
    "end"
   ]
  },
  {
   "cell_type": "code",
   "execution_count": 15,
   "metadata": {},
   "outputs": [
    {
     "data": {
      "text/html": [
       "<div><div style = \"float: left;\"><span>7×4 DataFrame</span></div><div style = \"clear: both;\"></div></div><div class = \"data-frame\" style = \"overflow-x: scroll;\"><table class = \"data-frame\" style = \"margin-bottom: 6px;\"><thead><tr class = \"header\"><th class = \"rowNumber\" style = \"font-weight: bold; text-align: right;\">Row</th><th style = \"text-align: left;\">A</th><th style = \"text-align: left;\">B</th><th style = \"text-align: left;\">C</th><th style = \"text-align: left;\">D</th></tr><tr class = \"subheader headerLastRow\"><th class = \"rowNumber\" style = \"font-weight: bold; text-align: right;\"></th><th title = \"Int64\" style = \"text-align: left;\">Int64</th><th title = \"String\" style = \"text-align: left;\">String</th><th title = \"Float64\" style = \"text-align: left;\">Float64</th><th title = \"Rational{Int64}\" style = \"text-align: left;\">Rational…</th></tr></thead><tbody><tr><td class = \"rowNumber\" style = \"font-weight: bold; text-align: right;\">1</td><td style = \"text-align: right;\">7</td><td style = \"text-align: left;\">M</td><td style = \"text-align: right;\">-2.3</td><td style = \"text-align: right;\">1//4</td></tr><tr><td class = \"rowNumber\" style = \"font-weight: bold; text-align: right;\">2</td><td style = \"text-align: right;\">9</td><td style = \"text-align: left;\">X</td><td style = \"text-align: right;\">0.333333</td><td style = \"text-align: right;\">-1//5</td></tr><tr><td class = \"rowNumber\" style = \"font-weight: bold; text-align: right;\">3</td><td style = \"text-align: right;\">3</td><td style = \"text-align: left;\">F</td><td style = \"text-align: right;\">2.5</td><td style = \"text-align: right;\">1//2</td></tr><tr><td class = \"rowNumber\" style = \"font-weight: bold; text-align: right;\">4</td><td style = \"text-align: right;\">1</td><td style = \"text-align: left;\">M</td><td style = \"text-align: right;\">3.0</td><td style = \"text-align: right;\">-1//1</td></tr><tr><td class = \"rowNumber\" style = \"font-weight: bold; text-align: right;\">5</td><td style = \"text-align: right;\">5</td><td style = \"text-align: left;\">F</td><td style = \"text-align: right;\">3.14159</td><td style = \"text-align: right;\">-1//3</td></tr><tr><td class = \"rowNumber\" style = \"font-weight: bold; text-align: right;\">6</td><td style = \"text-align: right;\">11</td><td style = \"text-align: left;\">F</td><td style = \"text-align: right;\">56.0</td><td style = \"text-align: right;\">1//6</td></tr><tr><td class = \"rowNumber\" style = \"font-weight: bold; text-align: right;\">7</td><td style = \"text-align: right;\">13</td><td style = \"text-align: left;\">M</td><td style = \"text-align: right;\">100.0</td><td style = \"text-align: right;\">-1//7</td></tr></tbody></table></div>"
      ],
      "text/latex": [
       "\\begin{tabular}{r|cccc}\n",
       "\t& A & B & C & D\\\\\n",
       "\t\\hline\n",
       "\t& Int64 & String & Float64 & Rational…\\\\\n",
       "\t\\hline\n",
       "\t1 & 7 & M & -2.3 & 1//4 \\\\\n",
       "\t2 & 9 & X & 0.333333 & -1//5 \\\\\n",
       "\t3 & 3 & F & 2.5 & 1//2 \\\\\n",
       "\t4 & 1 & M & 3.0 & -1 \\\\\n",
       "\t5 & 5 & F & 3.14159 & -1//3 \\\\\n",
       "\t6 & 11 & F & 56.0 & 1//6 \\\\\n",
       "\t7 & 13 & M & 100.0 & -1//7 \\\\\n",
       "\\end{tabular}\n"
      ],
      "text/plain": [
       "\u001b[1m7×4 DataFrame\u001b[0m\n",
       "\u001b[1m Row \u001b[0m│\u001b[1m A     \u001b[0m\u001b[1m B      \u001b[0m\u001b[1m C          \u001b[0m\u001b[1m D         \u001b[0m\n",
       "     │\u001b[90m Int64 \u001b[0m\u001b[90m String \u001b[0m\u001b[90m Float64    \u001b[0m\u001b[90m Rational… \u001b[0m\n",
       "─────┼──────────────────────────────────────\n",
       "   1 │     7  M        -2.3            1//4\n",
       "   2 │     9  X         0.333333      -1//5\n",
       "   3 │     3  F         2.5            1//2\n",
       "   4 │     1  M         3.0           -1//1\n",
       "   5 │     5  F         3.14159       -1//3\n",
       "   6 │    11  F        56.0            1//6\n",
       "   7 │    13  M       100.0           -1//7"
      ]
     },
     "metadata": {},
     "output_type": "display_data"
    }
   ],
   "source": [
    "sort(data,:C)"
   ]
  },
  {
   "cell_type": "code",
   "execution_count": 16,
   "metadata": {},
   "outputs": [
    {
     "data": {
      "text/html": [
       "<div><div style = \"float: left;\"><span>7×4 DataFrame</span></div><div style = \"clear: both;\"></div></div><div class = \"data-frame\" style = \"overflow-x: scroll;\"><table class = \"data-frame\" style = \"margin-bottom: 6px;\"><thead><tr class = \"header\"><th class = \"rowNumber\" style = \"font-weight: bold; text-align: right;\">Row</th><th style = \"text-align: left;\">A</th><th style = \"text-align: left;\">B</th><th style = \"text-align: left;\">C</th><th style = \"text-align: left;\">D</th></tr><tr class = \"subheader headerLastRow\"><th class = \"rowNumber\" style = \"font-weight: bold; text-align: right;\"></th><th title = \"Int64\" style = \"text-align: left;\">Int64</th><th title = \"String\" style = \"text-align: left;\">String</th><th title = \"Float64\" style = \"text-align: left;\">Float64</th><th title = \"Rational{Int64}\" style = \"text-align: left;\">Rational…</th></tr></thead><tbody><tr><td class = \"rowNumber\" style = \"font-weight: bold; text-align: right;\">1</td><td style = \"text-align: right;\">3</td><td style = \"text-align: left;\">F</td><td style = \"text-align: right;\">2.5</td><td style = \"text-align: right;\">1//2</td></tr><tr><td class = \"rowNumber\" style = \"font-weight: bold; text-align: right;\">2</td><td style = \"text-align: right;\">5</td><td style = \"text-align: left;\">F</td><td style = \"text-align: right;\">3.14159</td><td style = \"text-align: right;\">-1//3</td></tr><tr><td class = \"rowNumber\" style = \"font-weight: bold; text-align: right;\">3</td><td style = \"text-align: right;\">11</td><td style = \"text-align: left;\">F</td><td style = \"text-align: right;\">56.0</td><td style = \"text-align: right;\">1//6</td></tr><tr><td class = \"rowNumber\" style = \"font-weight: bold; text-align: right;\">4</td><td style = \"text-align: right;\">1</td><td style = \"text-align: left;\">M</td><td style = \"text-align: right;\">3.0</td><td style = \"text-align: right;\">-1//1</td></tr><tr><td class = \"rowNumber\" style = \"font-weight: bold; text-align: right;\">5</td><td style = \"text-align: right;\">7</td><td style = \"text-align: left;\">M</td><td style = \"text-align: right;\">-2.3</td><td style = \"text-align: right;\">1//4</td></tr><tr><td class = \"rowNumber\" style = \"font-weight: bold; text-align: right;\">6</td><td style = \"text-align: right;\">13</td><td style = \"text-align: left;\">M</td><td style = \"text-align: right;\">100.0</td><td style = \"text-align: right;\">-1//7</td></tr><tr><td class = \"rowNumber\" style = \"font-weight: bold; text-align: right;\">7</td><td style = \"text-align: right;\">9</td><td style = \"text-align: left;\">X</td><td style = \"text-align: right;\">0.333333</td><td style = \"text-align: right;\">-1//5</td></tr></tbody></table></div>"
      ],
      "text/latex": [
       "\\begin{tabular}{r|cccc}\n",
       "\t& A & B & C & D\\\\\n",
       "\t\\hline\n",
       "\t& Int64 & String & Float64 & Rational…\\\\\n",
       "\t\\hline\n",
       "\t1 & 3 & F & 2.5 & 1//2 \\\\\n",
       "\t2 & 5 & F & 3.14159 & -1//3 \\\\\n",
       "\t3 & 11 & F & 56.0 & 1//6 \\\\\n",
       "\t4 & 1 & M & 3.0 & -1 \\\\\n",
       "\t5 & 7 & M & -2.3 & 1//4 \\\\\n",
       "\t6 & 13 & M & 100.0 & -1//7 \\\\\n",
       "\t7 & 9 & X & 0.333333 & -1//5 \\\\\n",
       "\\end{tabular}\n"
      ],
      "text/plain": [
       "\u001b[1m7×4 DataFrame\u001b[0m\n",
       "\u001b[1m Row \u001b[0m│\u001b[1m A     \u001b[0m\u001b[1m B      \u001b[0m\u001b[1m C          \u001b[0m\u001b[1m D         \u001b[0m\n",
       "     │\u001b[90m Int64 \u001b[0m\u001b[90m String \u001b[0m\u001b[90m Float64    \u001b[0m\u001b[90m Rational… \u001b[0m\n",
       "─────┼──────────────────────────────────────\n",
       "   1 │     3  F         2.5            1//2\n",
       "   2 │     5  F         3.14159       -1//3\n",
       "   3 │    11  F        56.0            1//6\n",
       "   4 │     1  M         3.0           -1//1\n",
       "   5 │     7  M        -2.3            1//4\n",
       "   6 │    13  M       100.0           -1//7\n",
       "   7 │     9  X         0.333333      -1//5"
      ]
     },
     "metadata": {},
     "output_type": "display_data"
    }
   ],
   "source": [
    "@chain data begin\n",
    "  sort(:B)\n",
    "end"
   ]
  },
  {
   "cell_type": "code",
   "execution_count": 17,
   "metadata": {},
   "outputs": [
    {
     "data": {
      "text/html": [
       "<div><div style = \"float: left;\"><span>7×4 DataFrame</span></div><div style = \"clear: both;\"></div></div><div class = \"data-frame\" style = \"overflow-x: scroll;\"><table class = \"data-frame\" style = \"margin-bottom: 6px;\"><thead><tr class = \"header\"><th class = \"rowNumber\" style = \"font-weight: bold; text-align: right;\">Row</th><th style = \"text-align: left;\">A</th><th style = \"text-align: left;\">B</th><th style = \"text-align: left;\">C</th><th style = \"text-align: left;\">D</th></tr><tr class = \"subheader headerLastRow\"><th class = \"rowNumber\" style = \"font-weight: bold; text-align: right;\"></th><th title = \"Int64\" style = \"text-align: left;\">Int64</th><th title = \"String\" style = \"text-align: left;\">String</th><th title = \"Float64\" style = \"text-align: left;\">Float64</th><th title = \"Rational{Int64}\" style = \"text-align: left;\">Rational…</th></tr></thead><tbody><tr><td class = \"rowNumber\" style = \"font-weight: bold; text-align: right;\">1</td><td style = \"text-align: right;\">5</td><td style = \"text-align: left;\">F</td><td style = \"text-align: right;\">3.14159</td><td style = \"text-align: right;\">-1//3</td></tr><tr><td class = \"rowNumber\" style = \"font-weight: bold; text-align: right;\">2</td><td style = \"text-align: right;\">11</td><td style = \"text-align: left;\">F</td><td style = \"text-align: right;\">56.0</td><td style = \"text-align: right;\">1//6</td></tr><tr><td class = \"rowNumber\" style = \"font-weight: bold; text-align: right;\">3</td><td style = \"text-align: right;\">3</td><td style = \"text-align: left;\">F</td><td style = \"text-align: right;\">2.5</td><td style = \"text-align: right;\">1//2</td></tr><tr><td class = \"rowNumber\" style = \"font-weight: bold; text-align: right;\">4</td><td style = \"text-align: right;\">1</td><td style = \"text-align: left;\">M</td><td style = \"text-align: right;\">3.0</td><td style = \"text-align: right;\">-1//1</td></tr><tr><td class = \"rowNumber\" style = \"font-weight: bold; text-align: right;\">5</td><td style = \"text-align: right;\">13</td><td style = \"text-align: left;\">M</td><td style = \"text-align: right;\">100.0</td><td style = \"text-align: right;\">-1//7</td></tr><tr><td class = \"rowNumber\" style = \"font-weight: bold; text-align: right;\">6</td><td style = \"text-align: right;\">7</td><td style = \"text-align: left;\">M</td><td style = \"text-align: right;\">-2.3</td><td style = \"text-align: right;\">1//4</td></tr><tr><td class = \"rowNumber\" style = \"font-weight: bold; text-align: right;\">7</td><td style = \"text-align: right;\">9</td><td style = \"text-align: left;\">X</td><td style = \"text-align: right;\">0.333333</td><td style = \"text-align: right;\">-1//5</td></tr></tbody></table></div>"
      ],
      "text/latex": [
       "\\begin{tabular}{r|cccc}\n",
       "\t& A & B & C & D\\\\\n",
       "\t\\hline\n",
       "\t& Int64 & String & Float64 & Rational…\\\\\n",
       "\t\\hline\n",
       "\t1 & 5 & F & 3.14159 & -1//3 \\\\\n",
       "\t2 & 11 & F & 56.0 & 1//6 \\\\\n",
       "\t3 & 3 & F & 2.5 & 1//2 \\\\\n",
       "\t4 & 1 & M & 3.0 & -1 \\\\\n",
       "\t5 & 13 & M & 100.0 & -1//7 \\\\\n",
       "\t6 & 7 & M & -2.3 & 1//4 \\\\\n",
       "\t7 & 9 & X & 0.333333 & -1//5 \\\\\n",
       "\\end{tabular}\n"
      ],
      "text/plain": [
       "\u001b[1m7×4 DataFrame\u001b[0m\n",
       "\u001b[1m Row \u001b[0m│\u001b[1m A     \u001b[0m\u001b[1m B      \u001b[0m\u001b[1m C          \u001b[0m\u001b[1m D         \u001b[0m\n",
       "     │\u001b[90m Int64 \u001b[0m\u001b[90m String \u001b[0m\u001b[90m Float64    \u001b[0m\u001b[90m Rational… \u001b[0m\n",
       "─────┼──────────────────────────────────────\n",
       "   1 │     5  F         3.14159       -1//3\n",
       "   2 │    11  F        56.0            1//6\n",
       "   3 │     3  F         2.5            1//2\n",
       "   4 │     1  M         3.0           -1//1\n",
       "   5 │    13  M       100.0           -1//7\n",
       "   6 │     7  M        -2.3            1//4\n",
       "   7 │     9  X         0.333333      -1//5"
      ]
     },
     "metadata": {},
     "output_type": "display_data"
    }
   ],
   "source": [
    "@chain data begin\n",
    "  sort([:B,:D])\n",
    "end"
   ]
  },
  {
   "cell_type": "code",
   "execution_count": 18,
   "metadata": {},
   "outputs": [
    {
     "data": {
      "text/html": [
       "<div><div style = \"float: left;\"><span>9×4 DataFrame</span></div><div style = \"clear: both;\"></div></div><div class = \"data-frame\" style = \"overflow-x: scroll;\"><table class = \"data-frame\" style = \"margin-bottom: 6px;\"><thead><tr class = \"header\"><th class = \"rowNumber\" style = \"font-weight: bold; text-align: right;\">Row</th><th style = \"text-align: left;\">name</th><th style = \"text-align: left;\">age</th><th style = \"text-align: left;\">current_school_grade</th><th style = \"text-align: left;\">favorite_food</th></tr><tr class = \"subheader headerLastRow\"><th class = \"rowNumber\" style = \"font-weight: bold; text-align: right;\"></th><th title = \"String\" style = \"text-align: left;\">String</th><th title = \"Int64\" style = \"text-align: left;\">Int64</th><th title = \"Union{Missing, Int64}\" style = \"text-align: left;\">Int64?</th><th title = \"Union{Missing, String}\" style = \"text-align: left;\">String?</th></tr></thead><tbody><tr><td class = \"rowNumber\" style = \"font-weight: bold; text-align: right;\">1</td><td style = \"text-align: left;\">Homer</td><td style = \"text-align: right;\">45</td><td style = \"font-style: italic; text-align: right;\">missing</td><td style = \"text-align: left;\">pork chops</td></tr><tr><td class = \"rowNumber\" style = \"font-weight: bold; text-align: right;\">2</td><td style = \"text-align: left;\">Marge</td><td style = \"text-align: right;\">42</td><td style = \"font-style: italic; text-align: right;\">missing</td><td style = \"text-align: left;\">casserole</td></tr><tr><td class = \"rowNumber\" style = \"font-weight: bold; text-align: right;\">3</td><td style = \"text-align: left;\">Lisa</td><td style = \"text-align: right;\">8</td><td style = \"text-align: right;\">2</td><td style = \"text-align: left;\">salad</td></tr><tr><td class = \"rowNumber\" style = \"font-weight: bold; text-align: right;\">4</td><td style = \"text-align: left;\">Bart</td><td style = \"text-align: right;\">10</td><td style = \"text-align: right;\">4</td><td style = \"text-align: left;\">hamburger</td></tr><tr><td class = \"rowNumber\" style = \"font-weight: bold; text-align: right;\">5</td><td style = \"text-align: left;\">Maggie</td><td style = \"text-align: right;\">1</td><td style = \"font-style: italic; text-align: right;\">missing</td><td style = \"font-style: italic; text-align: left;\">missing</td></tr><tr><td class = \"rowNumber\" style = \"font-weight: bold; text-align: right;\">6</td><td style = \"text-align: left;\">Apu</td><td style = \"text-align: right;\">38</td><td style = \"font-style: italic; text-align: right;\">missing</td><td style = \"text-align: left;\">saag paneer</td></tr><tr><td class = \"rowNumber\" style = \"font-weight: bold; text-align: right;\">7</td><td style = \"text-align: left;\">Moe</td><td style = \"text-align: right;\">59</td><td style = \"font-style: italic; text-align: right;\">missing</td><td style = \"text-align: left;\">peanuts</td></tr><tr><td class = \"rowNumber\" style = \"font-weight: bold; text-align: right;\">8</td><td style = \"text-align: left;\">Milhouse</td><td style = \"text-align: right;\">1</td><td style = \"text-align: right;\">4</td><td style = \"font-style: italic; text-align: left;\">missing</td></tr><tr><td class = \"rowNumber\" style = \"font-weight: bold; text-align: right;\">9</td><td style = \"text-align: left;\">Patty</td><td style = \"text-align: right;\">46</td><td style = \"font-style: italic; text-align: right;\">missing</td><td style = \"text-align: left;\">Lady Laramie 100s</td></tr></tbody></table></div>"
      ],
      "text/latex": [
       "\\begin{tabular}{r|cccc}\n",
       "\t& name & age & current\\_school\\_grade & favorite\\_food\\\\\n",
       "\t\\hline\n",
       "\t& String & Int64 & Int64? & String?\\\\\n",
       "\t\\hline\n",
       "\t1 & Homer & 45 & \\emph{missing} & pork chops \\\\\n",
       "\t2 & Marge & 42 & \\emph{missing} & casserole \\\\\n",
       "\t3 & Lisa & 8 & 2 & salad \\\\\n",
       "\t4 & Bart & 10 & 4 & hamburger \\\\\n",
       "\t5 & Maggie & 1 & \\emph{missing} & \\emph{missing} \\\\\n",
       "\t6 & Apu & 38 & \\emph{missing} & saag paneer \\\\\n",
       "\t7 & Moe & 59 & \\emph{missing} & peanuts \\\\\n",
       "\t8 & Milhouse & 1 & 4 & \\emph{missing} \\\\\n",
       "\t9 & Patty & 46 & \\emph{missing} & Lady Laramie 100s \\\\\n",
       "\\end{tabular}\n"
      ],
      "text/plain": [
       "\u001b[1m9×4 DataFrame\u001b[0m\n",
       "\u001b[1m Row \u001b[0m│\u001b[1m name     \u001b[0m\u001b[1m age   \u001b[0m\u001b[1m current_school_grade \u001b[0m\u001b[1m favorite_food     \u001b[0m\n",
       "     │\u001b[90m String   \u001b[0m\u001b[90m Int64 \u001b[0m\u001b[90m Int64?               \u001b[0m\u001b[90m String?           \u001b[0m\n",
       "─────┼──────────────────────────────────────────────────────────\n",
       "   1 │ Homer        45 \u001b[90m              missing \u001b[0m pork chops\n",
       "   2 │ Marge        42 \u001b[90m              missing \u001b[0m casserole\n",
       "   3 │ Lisa          8                     2  salad\n",
       "   4 │ Bart         10                     4  hamburger\n",
       "   5 │ Maggie        1 \u001b[90m              missing \u001b[0m\u001b[90m missing           \u001b[0m\n",
       "   6 │ Apu          38 \u001b[90m              missing \u001b[0m saag paneer\n",
       "   7 │ Moe          59 \u001b[90m              missing \u001b[0m peanuts\n",
       "   8 │ Milhouse      1                     4 \u001b[90m missing           \u001b[0m\n",
       "   9 │ Patty        46 \u001b[90m              missing \u001b[0m Lady Laramie 100s"
      ]
     },
     "metadata": {},
     "output_type": "display_data"
    }
   ],
   "source": [
    "simpsons = DataFrame(\n",
    "  name=[\"Homer\",\"Marge\",\"Lisa\",\"Bart\",\"Maggie\",\"Apu\",\"Moe\", \"Milhouse\", \"Patty\"],\n",
    "  age =[45,42,8,10,1,38,59, 1, 46],\n",
    "  current_school_grade = [missing, missing, 2, 4, missing, missing, missing, 4, missing],\n",
    "  favorite_food = [\"pork chops\",\"casserole\",\"salad\",\"hamburger\",missing,\"saag paneer\",\"peanuts\", missing, \"Lady Laramie 100s\"]\n",
    ")"
   ]
  },
  {
   "cell_type": "code",
   "execution_count": 19,
   "metadata": {},
   "outputs": [
    {
     "data": {
      "text/html": [
       "<div><div style = \"float: left;\"><span>6×3 DataFrame</span></div><div style = \"clear: both;\"></div></div><div class = \"data-frame\" style = \"overflow-x: scroll;\"><table class = \"data-frame\" style = \"margin-bottom: 6px;\"><thead><tr class = \"header\"><th class = \"rowNumber\" style = \"font-weight: bold; text-align: right;\">Row</th><th style = \"text-align: left;\">name</th><th style = \"text-align: left;\">job</th><th style = \"text-align: left;\">salary</th></tr><tr class = \"subheader headerLastRow\"><th class = \"rowNumber\" style = \"font-weight: bold; text-align: right;\"></th><th title = \"String\" style = \"text-align: left;\">String</th><th title = \"String\" style = \"text-align: left;\">String</th><th title = \"Union{Missing, Int64}\" style = \"text-align: left;\">Int64?</th></tr></thead><tbody><tr><td class = \"rowNumber\" style = \"font-weight: bold; text-align: right;\">1</td><td style = \"text-align: left;\">Homer</td><td style = \"text-align: left;\">nuclear technician</td><td style = \"text-align: right;\">50000</td></tr><tr><td class = \"rowNumber\" style = \"font-weight: bold; text-align: right;\">2</td><td style = \"text-align: left;\">Marge</td><td style = \"text-align: left;\">housewife</td><td style = \"text-align: right;\">25000</td></tr><tr><td class = \"rowNumber\" style = \"font-weight: bold; text-align: right;\">3</td><td style = \"text-align: left;\">Apu</td><td style = \"text-align: left;\">store owner</td><td style = \"text-align: right;\">60000</td></tr><tr><td class = \"rowNumber\" style = \"font-weight: bold; text-align: right;\">4</td><td style = \"text-align: left;\">Moe</td><td style = \"text-align: left;\">bartender</td><td style = \"text-align: right;\">15000</td></tr><tr><td class = \"rowNumber\" style = \"font-weight: bold; text-align: right;\">5</td><td style = \"text-align: left;\">Patty</td><td style = \"text-align: left;\">DMV clerk</td><td style = \"font-style: italic; text-align: right;\">missing</td></tr><tr><td class = \"rowNumber\" style = \"font-weight: bold; text-align: right;\">6</td><td style = \"text-align: left;\">Wiggam</td><td style = \"text-align: left;\">police chief</td><td style = \"text-align: right;\">75000</td></tr></tbody></table></div>"
      ],
      "text/latex": [
       "\\begin{tabular}{r|ccc}\n",
       "\t& name & job & salary\\\\\n",
       "\t\\hline\n",
       "\t& String & String & Int64?\\\\\n",
       "\t\\hline\n",
       "\t1 & Homer & nuclear technician & 50000 \\\\\n",
       "\t2 & Marge & housewife & 25000 \\\\\n",
       "\t3 & Apu & store owner & 60000 \\\\\n",
       "\t4 & Moe & bartender & 15000 \\\\\n",
       "\t5 & Patty & DMV clerk & \\emph{missing} \\\\\n",
       "\t6 & Wiggam & police chief & 75000 \\\\\n",
       "\\end{tabular}\n"
      ],
      "text/plain": [
       "\u001b[1m6×3 DataFrame\u001b[0m\n",
       "\u001b[1m Row \u001b[0m│\u001b[1m name   \u001b[0m\u001b[1m job                \u001b[0m\u001b[1m salary  \u001b[0m\n",
       "     │\u001b[90m String \u001b[0m\u001b[90m String             \u001b[0m\u001b[90m Int64?  \u001b[0m\n",
       "─────┼─────────────────────────────────────\n",
       "   1 │ Homer   nuclear technician    50000\n",
       "   2 │ Marge   housewife             25000\n",
       "   3 │ Apu     store owner           60000\n",
       "   4 │ Moe     bartender             15000\n",
       "   5 │ Patty   DMV clerk          \u001b[90m missing \u001b[0m\n",
       "   6 │ Wiggam  police chief          75000"
      ]
     },
     "metadata": {},
     "output_type": "display_data"
    }
   ],
   "source": [
    "jobs = DataFrame(\n",
    "  name = [\"Homer\",\"Marge\",\"Apu\",\"Moe\", \"Patty\", \"Wiggam\"],\n",
    "  job = [\"nuclear technician\", \"housewife\", \"store owner\", \"bartender\", \"DMV clerk\", \"police chief\"],\n",
    "  salary = [50_000, 25_000, 60_000, 15_000, missing, 75_000]\n",
    ")"
   ]
  },
  {
   "cell_type": "code",
   "execution_count": 39,
   "metadata": {},
   "outputs": [
    {
     "data": {
      "text/html": [
       "<div><div style = \"float: left;\"><span>5×6 DataFrame</span></div><div style = \"clear: both;\"></div></div><div class = \"data-frame\" style = \"overflow-x: scroll;\"><table class = \"data-frame\" style = \"margin-bottom: 6px;\"><thead><tr class = \"header\"><th class = \"rowNumber\" style = \"font-weight: bold; text-align: right;\">Row</th><th style = \"text-align: left;\">name</th><th style = \"text-align: left;\">age</th><th style = \"text-align: left;\">current_school_grade</th><th style = \"text-align: left;\">favorite_food</th><th style = \"text-align: left;\">job</th><th style = \"text-align: left;\">salary</th></tr><tr class = \"subheader headerLastRow\"><th class = \"rowNumber\" style = \"font-weight: bold; text-align: right;\"></th><th title = \"String\" style = \"text-align: left;\">String</th><th title = \"Int64\" style = \"text-align: left;\">Int64</th><th title = \"Union{Missing, Int64}\" style = \"text-align: left;\">Int64?</th><th title = \"Union{Missing, String}\" style = \"text-align: left;\">String?</th><th title = \"String\" style = \"text-align: left;\">String</th><th title = \"Union{Missing, Int64}\" style = \"text-align: left;\">Int64?</th></tr></thead><tbody><tr><td class = \"rowNumber\" style = \"font-weight: bold; text-align: right;\">1</td><td style = \"text-align: left;\">Homer</td><td style = \"text-align: right;\">45</td><td style = \"font-style: italic; text-align: right;\">missing</td><td style = \"text-align: left;\">pork chops</td><td style = \"text-align: left;\">nuclear technician</td><td style = \"text-align: right;\">50000</td></tr><tr><td class = \"rowNumber\" style = \"font-weight: bold; text-align: right;\">2</td><td style = \"text-align: left;\">Marge</td><td style = \"text-align: right;\">42</td><td style = \"font-style: italic; text-align: right;\">missing</td><td style = \"text-align: left;\">casserole</td><td style = \"text-align: left;\">housewife</td><td style = \"text-align: right;\">25000</td></tr><tr><td class = \"rowNumber\" style = \"font-weight: bold; text-align: right;\">3</td><td style = \"text-align: left;\">Apu</td><td style = \"text-align: right;\">38</td><td style = \"font-style: italic; text-align: right;\">missing</td><td style = \"text-align: left;\">saag paneer</td><td style = \"text-align: left;\">store owner</td><td style = \"text-align: right;\">60000</td></tr><tr><td class = \"rowNumber\" style = \"font-weight: bold; text-align: right;\">4</td><td style = \"text-align: left;\">Moe</td><td style = \"text-align: right;\">59</td><td style = \"font-style: italic; text-align: right;\">missing</td><td style = \"text-align: left;\">peanuts</td><td style = \"text-align: left;\">bartender</td><td style = \"text-align: right;\">15000</td></tr><tr><td class = \"rowNumber\" style = \"font-weight: bold; text-align: right;\">5</td><td style = \"text-align: left;\">Patty</td><td style = \"text-align: right;\">46</td><td style = \"font-style: italic; text-align: right;\">missing</td><td style = \"text-align: left;\">Lady Laramie 100s</td><td style = \"text-align: left;\">DMV clerk</td><td style = \"font-style: italic; text-align: right;\">missing</td></tr></tbody></table></div>"
      ],
      "text/latex": [
       "\\begin{tabular}{r|cccccc}\n",
       "\t& name & age & current\\_school\\_grade & favorite\\_food & job & salary\\\\\n",
       "\t\\hline\n",
       "\t& String & Int64 & Int64? & String? & String & Int64?\\\\\n",
       "\t\\hline\n",
       "\t1 & Homer & 45 & \\emph{missing} & pork chops & nuclear technician & 50000 \\\\\n",
       "\t2 & Marge & 42 & \\emph{missing} & casserole & housewife & 25000 \\\\\n",
       "\t3 & Apu & 38 & \\emph{missing} & saag paneer & store owner & 60000 \\\\\n",
       "\t4 & Moe & 59 & \\emph{missing} & peanuts & bartender & 15000 \\\\\n",
       "\t5 & Patty & 46 & \\emph{missing} & Lady Laramie 100s & DMV clerk & \\emph{missing} \\\\\n",
       "\\end{tabular}\n"
      ],
      "text/plain": [
       "\u001b[1m5×6 DataFrame\u001b[0m\n",
       "\u001b[1m Row \u001b[0m│\u001b[1m name   \u001b[0m\u001b[1m age   \u001b[0m\u001b[1m current_school_grade \u001b[0m\u001b[1m favorite_food     \u001b[0m\u001b[1m job            \u001b[0m ⋯\n",
       "     │\u001b[90m String \u001b[0m\u001b[90m Int64 \u001b[0m\u001b[90m Int64?               \u001b[0m\u001b[90m String?           \u001b[0m\u001b[90m String         \u001b[0m ⋯\n",
       "─────┼──────────────────────────────────────────────────────────────────────────\n",
       "   1 │ Homer      45 \u001b[90m              missing \u001b[0m pork chops         nuclear technic ⋯\n",
       "   2 │ Marge      42 \u001b[90m              missing \u001b[0m casserole          housewife\n",
       "   3 │ Apu        38 \u001b[90m              missing \u001b[0m saag paneer        store owner\n",
       "   4 │ Moe        59 \u001b[90m              missing \u001b[0m peanuts            bartender\n",
       "   5 │ Patty      46 \u001b[90m              missing \u001b[0m Lady Laramie 100s  DMV clerk       ⋯\n",
       "\u001b[36m                                                               2 columns omitted\u001b[0m"
      ]
     },
     "metadata": {},
     "output_type": "display_data"
    }
   ],
   "source": [
    "innerjoin(simpsons, jobs, on = :name)"
   ]
  },
  {
   "cell_type": "code",
   "execution_count": 40,
   "metadata": {},
   "outputs": [
    {
     "data": {
      "text/html": [
       "<div><div style = \"float: left;\"><span>10×6 DataFrame</span></div><div style = \"clear: both;\"></div></div><div class = \"data-frame\" style = \"overflow-x: scroll;\"><table class = \"data-frame\" style = \"margin-bottom: 6px;\"><thead><tr class = \"header\"><th class = \"rowNumber\" style = \"font-weight: bold; text-align: right;\">Row</th><th style = \"text-align: left;\">name</th><th style = \"text-align: left;\">age</th><th style = \"text-align: left;\">current_school_grade</th><th style = \"text-align: left;\">favorite_food</th><th style = \"text-align: left;\">job</th><th style = \"text-align: left;\">salary</th></tr><tr class = \"subheader headerLastRow\"><th class = \"rowNumber\" style = \"font-weight: bold; text-align: right;\"></th><th title = \"String\" style = \"text-align: left;\">String</th><th title = \"Union{Missing, Int64}\" style = \"text-align: left;\">Int64?</th><th title = \"Union{Missing, Int64}\" style = \"text-align: left;\">Int64?</th><th title = \"Union{Missing, String}\" style = \"text-align: left;\">String?</th><th title = \"Union{Missing, String}\" style = \"text-align: left;\">String?</th><th title = \"Union{Missing, Int64}\" style = \"text-align: left;\">Int64?</th></tr></thead><tbody><tr><td class = \"rowNumber\" style = \"font-weight: bold; text-align: right;\">1</td><td style = \"text-align: left;\">Homer</td><td style = \"text-align: right;\">45</td><td style = \"font-style: italic; text-align: right;\">missing</td><td style = \"text-align: left;\">pork chops</td><td style = \"text-align: left;\">nuclear technician</td><td style = \"text-align: right;\">50000</td></tr><tr><td class = \"rowNumber\" style = \"font-weight: bold; text-align: right;\">2</td><td style = \"text-align: left;\">Marge</td><td style = \"text-align: right;\">42</td><td style = \"font-style: italic; text-align: right;\">missing</td><td style = \"text-align: left;\">casserole</td><td style = \"text-align: left;\">housewife</td><td style = \"text-align: right;\">25000</td></tr><tr><td class = \"rowNumber\" style = \"font-weight: bold; text-align: right;\">3</td><td style = \"text-align: left;\">Apu</td><td style = \"text-align: right;\">38</td><td style = \"font-style: italic; text-align: right;\">missing</td><td style = \"text-align: left;\">saag paneer</td><td style = \"text-align: left;\">store owner</td><td style = \"text-align: right;\">60000</td></tr><tr><td class = \"rowNumber\" style = \"font-weight: bold; text-align: right;\">4</td><td style = \"text-align: left;\">Moe</td><td style = \"text-align: right;\">59</td><td style = \"font-style: italic; text-align: right;\">missing</td><td style = \"text-align: left;\">peanuts</td><td style = \"text-align: left;\">bartender</td><td style = \"text-align: right;\">15000</td></tr><tr><td class = \"rowNumber\" style = \"font-weight: bold; text-align: right;\">5</td><td style = \"text-align: left;\">Patty</td><td style = \"text-align: right;\">46</td><td style = \"font-style: italic; text-align: right;\">missing</td><td style = \"text-align: left;\">Lady Laramie 100s</td><td style = \"text-align: left;\">DMV clerk</td><td style = \"font-style: italic; text-align: right;\">missing</td></tr><tr><td class = \"rowNumber\" style = \"font-weight: bold; text-align: right;\">6</td><td style = \"text-align: left;\">Lisa</td><td style = \"text-align: right;\">8</td><td style = \"text-align: right;\">2</td><td style = \"text-align: left;\">salad</td><td style = \"font-style: italic; text-align: left;\">missing</td><td style = \"font-style: italic; text-align: right;\">missing</td></tr><tr><td class = \"rowNumber\" style = \"font-weight: bold; text-align: right;\">7</td><td style = \"text-align: left;\">Bart</td><td style = \"text-align: right;\">10</td><td style = \"text-align: right;\">4</td><td style = \"text-align: left;\">hamburger</td><td style = \"font-style: italic; text-align: left;\">missing</td><td style = \"font-style: italic; text-align: right;\">missing</td></tr><tr><td class = \"rowNumber\" style = \"font-weight: bold; text-align: right;\">8</td><td style = \"text-align: left;\">Maggie</td><td style = \"text-align: right;\">1</td><td style = \"font-style: italic; text-align: right;\">missing</td><td style = \"font-style: italic; text-align: left;\">missing</td><td style = \"font-style: italic; text-align: left;\">missing</td><td style = \"font-style: italic; text-align: right;\">missing</td></tr><tr><td class = \"rowNumber\" style = \"font-weight: bold; text-align: right;\">9</td><td style = \"text-align: left;\">Milhouse</td><td style = \"text-align: right;\">1</td><td style = \"text-align: right;\">4</td><td style = \"font-style: italic; text-align: left;\">missing</td><td style = \"font-style: italic; text-align: left;\">missing</td><td style = \"font-style: italic; text-align: right;\">missing</td></tr><tr><td class = \"rowNumber\" style = \"font-weight: bold; text-align: right;\">10</td><td style = \"text-align: left;\">Wiggam</td><td style = \"font-style: italic; text-align: right;\">missing</td><td style = \"font-style: italic; text-align: right;\">missing</td><td style = \"font-style: italic; text-align: left;\">missing</td><td style = \"text-align: left;\">police chief</td><td style = \"text-align: right;\">75000</td></tr></tbody></table></div>"
      ],
      "text/latex": [
       "\\begin{tabular}{r|cccccc}\n",
       "\t& name & age & current\\_school\\_grade & favorite\\_food & job & \\\\\n",
       "\t\\hline\n",
       "\t& String & Int64? & Int64? & String? & String? & \\\\\n",
       "\t\\hline\n",
       "\t1 & Homer & 45 & \\emph{missing} & pork chops & nuclear technician & $\\dots$ \\\\\n",
       "\t2 & Marge & 42 & \\emph{missing} & casserole & housewife & $\\dots$ \\\\\n",
       "\t3 & Apu & 38 & \\emph{missing} & saag paneer & store owner & $\\dots$ \\\\\n",
       "\t4 & Moe & 59 & \\emph{missing} & peanuts & bartender & $\\dots$ \\\\\n",
       "\t5 & Patty & 46 & \\emph{missing} & Lady Laramie 100s & DMV clerk & $\\dots$ \\\\\n",
       "\t6 & Lisa & 8 & 2 & salad & \\emph{missing} & $\\dots$ \\\\\n",
       "\t7 & Bart & 10 & 4 & hamburger & \\emph{missing} & $\\dots$ \\\\\n",
       "\t8 & Maggie & 1 & \\emph{missing} & \\emph{missing} & \\emph{missing} & $\\dots$ \\\\\n",
       "\t9 & Milhouse & 1 & 4 & \\emph{missing} & \\emph{missing} & $\\dots$ \\\\\n",
       "\t10 & Wiggam & \\emph{missing} & \\emph{missing} & \\emph{missing} & police chief & $\\dots$ \\\\\n",
       "\\end{tabular}\n"
      ],
      "text/plain": [
       "\u001b[1m10×6 DataFrame\u001b[0m\n",
       "\u001b[1m Row \u001b[0m│\u001b[1m name     \u001b[0m\u001b[1m age     \u001b[0m\u001b[1m current_school_grade \u001b[0m\u001b[1m favorite_food     \u001b[0m\u001b[1m job        \u001b[0m ⋯\n",
       "     │\u001b[90m String   \u001b[0m\u001b[90m Int64?  \u001b[0m\u001b[90m Int64?               \u001b[0m\u001b[90m String?           \u001b[0m\u001b[90m String?    \u001b[0m ⋯\n",
       "─────┼──────────────────────────────────────────────────────────────────────────\n",
       "   1 │ Homer          45 \u001b[90m              missing \u001b[0m pork chops         nuclear tec ⋯\n",
       "   2 │ Marge          42 \u001b[90m              missing \u001b[0m casserole          housewife\n",
       "   3 │ Apu            38 \u001b[90m              missing \u001b[0m saag paneer        store owner\n",
       "   4 │ Moe            59 \u001b[90m              missing \u001b[0m peanuts            bartender\n",
       "   5 │ Patty          46 \u001b[90m              missing \u001b[0m Lady Laramie 100s  DMV clerk   ⋯\n",
       "   6 │ Lisa            8                     2  salad             \u001b[90m missing    \u001b[0m\n",
       "   7 │ Bart           10                     4  hamburger         \u001b[90m missing    \u001b[0m\n",
       "   8 │ Maggie          1 \u001b[90m              missing \u001b[0m\u001b[90m missing           \u001b[0m\u001b[90m missing    \u001b[0m\n",
       "   9 │ Milhouse        1                     4 \u001b[90m missing           \u001b[0m\u001b[90m missing    \u001b[0m ⋯\n",
       "  10 │ Wiggam   \u001b[90m missing \u001b[0m\u001b[90m              missing \u001b[0m\u001b[90m missing           \u001b[0m police chie\n",
       "\u001b[36m                                                               2 columns omitted\u001b[0m"
      ]
     },
     "metadata": {},
     "output_type": "display_data"
    }
   ],
   "source": [
    "outerjoin(simpsons, jobs, on = :name)"
   ]
  },
  {
   "cell_type": "code",
   "execution_count": 41,
   "metadata": {},
   "outputs": [
    {
     "data": {
      "text/html": [
       "<div><div style = \"float: left;\"><span>1×4 DataFrame</span></div><div style = \"clear: both;\"></div></div><div class = \"data-frame\" style = \"overflow-x: scroll;\"><table class = \"data-frame\" style = \"margin-bottom: 6px;\"><thead><tr class = \"header\"><th class = \"rowNumber\" style = \"font-weight: bold; text-align: right;\">Row</th><th style = \"text-align: left;\">C_mean</th><th style = \"text-align: left;\">D_mean</th><th style = \"text-align: left;\">C_std</th><th style = \"text-align: left;\">C_length</th></tr><tr class = \"subheader headerLastRow\"><th class = \"rowNumber\" style = \"font-weight: bold; text-align: right;\"></th><th title = \"Float64\" style = \"text-align: left;\">Float64</th><th title = \"Rational{Int64}\" style = \"text-align: left;\">Rational…</th><th title = \"Float64\" style = \"text-align: left;\">Float64</th><th title = \"Int64\" style = \"text-align: left;\">Int64</th></tr></thead><tbody><tr><td class = \"rowNumber\" style = \"font-weight: bold; text-align: right;\">1</td><td style = \"text-align: right;\">23.2393</td><td style = \"text-align: right;\">-319//2940</td><td style = \"text-align: right;\">39.5518</td><td style = \"text-align: right;\">7</td></tr></tbody></table></div>"
      ],
      "text/latex": [
       "\\begin{tabular}{r|cccc}\n",
       "\t& C\\_mean & D\\_mean & C\\_std & C\\_length\\\\\n",
       "\t\\hline\n",
       "\t& Float64 & Rational… & Float64 & Int64\\\\\n",
       "\t\\hline\n",
       "\t1 & 23.2393 & -319//2940 & 39.5518 & 7 \\\\\n",
       "\\end{tabular}\n"
      ],
      "text/plain": [
       "\u001b[1m1×4 DataFrame\u001b[0m\n",
       "\u001b[1m Row \u001b[0m│\u001b[1m C_mean  \u001b[0m\u001b[1m D_mean     \u001b[0m\u001b[1m C_std   \u001b[0m\u001b[1m C_length \u001b[0m\n",
       "     │\u001b[90m Float64 \u001b[0m\u001b[90m Rational…  \u001b[0m\u001b[90m Float64 \u001b[0m\u001b[90m Int64    \u001b[0m\n",
       "─────┼────────────────────────────────────────\n",
       "   1 │ 23.2393  -319//2940  39.5518         7"
      ]
     },
     "metadata": {},
     "output_type": "display_data"
    }
   ],
   "source": [
    "combine(data, :C => mean, :D => mean, :C=> std, :C => length)"
   ]
  },
  {
   "cell_type": "code",
   "execution_count": 48,
   "metadata": {},
   "outputs": [
    {
     "data": {
      "text/html": [
       "<div><div style = \"float: left;\"><span>3×4 DataFrame</span></div><div style = \"clear: both;\"></div></div><div class = \"data-frame\" style = \"overflow-x: scroll;\"><table class = \"data-frame\" style = \"margin-bottom: 6px;\"><thead><tr class = \"header\"><th class = \"rowNumber\" style = \"font-weight: bold; text-align: right;\">Row</th><th style = \"text-align: left;\">name</th><th style = \"text-align: left;\">age</th><th style = \"text-align: left;\">favorite_food</th><th style = \"text-align: left;\">happiness</th></tr><tr class = \"subheader headerLastRow\"><th class = \"rowNumber\" style = \"font-weight: bold; text-align: right;\"></th><th title = \"String\" style = \"text-align: left;\">String</th><th title = \"Int64\" style = \"text-align: left;\">Int64</th><th title = \"Union{Missing, String}\" style = \"text-align: left;\">String?</th><th title = \"Int64\" style = \"text-align: left;\">Int64</th></tr></thead><tbody><tr><td class = \"rowNumber\" style = \"font-weight: bold; text-align: right;\">1</td><td style = \"text-align: left;\">Apu</td><td style = \"text-align: right;\">38</td><td style = \"text-align: left;\">saag paneer</td><td style = \"text-align: right;\">44800</td></tr><tr><td class = \"rowNumber\" style = \"font-weight: bold; text-align: right;\">2</td><td style = \"text-align: left;\">Homer</td><td style = \"text-align: right;\">45</td><td style = \"text-align: left;\">pork chops</td><td style = \"text-align: right;\">32000</td></tr><tr><td class = \"rowNumber\" style = \"font-weight: bold; text-align: right;\">3</td><td style = \"text-align: left;\">Marge</td><td style = \"text-align: right;\">42</td><td style = \"text-align: left;\">casserole</td><td style = \"text-align: right;\">8200</td></tr></tbody></table></div>"
      ],
      "text/latex": [
       "\\begin{tabular}{r|cccc}\n",
       "\t& name & age & favorite\\_food & happiness\\\\\n",
       "\t\\hline\n",
       "\t& String & Int64 & String? & Int64\\\\\n",
       "\t\\hline\n",
       "\t1 & Apu & 38 & saag paneer & 44800 \\\\\n",
       "\t2 & Homer & 45 & pork chops & 32000 \\\\\n",
       "\t3 & Marge & 42 & casserole & 8200 \\\\\n",
       "\\end{tabular}\n"
      ],
      "text/plain": [
       "\u001b[1m3×4 DataFrame\u001b[0m\n",
       "\u001b[1m Row \u001b[0m│\u001b[1m name   \u001b[0m\u001b[1m age   \u001b[0m\u001b[1m favorite_food \u001b[0m\u001b[1m happiness \u001b[0m\n",
       "     │\u001b[90m String \u001b[0m\u001b[90m Int64 \u001b[0m\u001b[90m String?       \u001b[0m\u001b[90m Int64     \u001b[0m\n",
       "─────┼─────────────────────────────────────────\n",
       "   1 │ Apu        38  saag paneer        44800\n",
       "   2 │ Homer      45  pork chops         32000\n",
       "   3 │ Marge      42  casserole           8200"
      ]
     },
     "metadata": {},
     "output_type": "display_data"
    }
   ],
   "source": [
    "@chain simpsons begin\n",
    "  innerjoin(jobs, on = :name)\n",
    "  transform([:age, :salary] => ((a, s) -> @. s - 400*a) => :happiness)\n",
    "  dropmissing(:happiness)\n",
    "  subset(:happiness => h -> h .> 0)\n",
    "  select(:name, :age, :favorite_food, :happiness)\n",
    "  sort(:happiness, rev = true)\n",
    "end"
   ]
  },
  {
   "cell_type": "code",
   "execution_count": 49,
   "metadata": {},
   "outputs": [],
   "source": [
    "using RDatasets"
   ]
  },
  {
   "cell_type": "code",
   "execution_count": 52,
   "metadata": {},
   "outputs": [
    {
     "data": {
      "text/html": [
       "<div><div style = \"float: left;\"><span>150×5 DataFrame</span></div><div style = \"float: right;\"><span style = \"font-style: italic;\">125 rows omitted</span></div><div style = \"clear: both;\"></div></div><div class = \"data-frame\" style = \"overflow-x: scroll;\"><table class = \"data-frame\" style = \"margin-bottom: 6px;\"><thead><tr class = \"header\"><th class = \"rowNumber\" style = \"font-weight: bold; text-align: right;\">Row</th><th style = \"text-align: left;\">SepalLength</th><th style = \"text-align: left;\">SepalWidth</th><th style = \"text-align: left;\">PetalLength</th><th style = \"text-align: left;\">PetalWidth</th><th style = \"text-align: left;\">Species</th></tr><tr class = \"subheader headerLastRow\"><th class = \"rowNumber\" style = \"font-weight: bold; text-align: right;\"></th><th title = \"Float64\" style = \"text-align: left;\">Float64</th><th title = \"Float64\" style = \"text-align: left;\">Float64</th><th title = \"Float64\" style = \"text-align: left;\">Float64</th><th title = \"Float64\" style = \"text-align: left;\">Float64</th><th title = \"CategoricalArrays.CategoricalValue{String, UInt8}\" style = \"text-align: left;\">Cat…</th></tr></thead><tbody><tr><td class = \"rowNumber\" style = \"font-weight: bold; text-align: right;\">1</td><td style = \"text-align: right;\">5.1</td><td style = \"text-align: right;\">3.5</td><td style = \"text-align: right;\">1.4</td><td style = \"text-align: right;\">0.2</td><td style = \"text-align: left;\">setosa</td></tr><tr><td class = \"rowNumber\" style = \"font-weight: bold; text-align: right;\">2</td><td style = \"text-align: right;\">4.9</td><td style = \"text-align: right;\">3.0</td><td style = \"text-align: right;\">1.4</td><td style = \"text-align: right;\">0.2</td><td style = \"text-align: left;\">setosa</td></tr><tr><td class = \"rowNumber\" style = \"font-weight: bold; text-align: right;\">3</td><td style = \"text-align: right;\">4.7</td><td style = \"text-align: right;\">3.2</td><td style = \"text-align: right;\">1.3</td><td style = \"text-align: right;\">0.2</td><td style = \"text-align: left;\">setosa</td></tr><tr><td class = \"rowNumber\" style = \"font-weight: bold; text-align: right;\">4</td><td style = \"text-align: right;\">4.6</td><td style = \"text-align: right;\">3.1</td><td style = \"text-align: right;\">1.5</td><td style = \"text-align: right;\">0.2</td><td style = \"text-align: left;\">setosa</td></tr><tr><td class = \"rowNumber\" style = \"font-weight: bold; text-align: right;\">5</td><td style = \"text-align: right;\">5.0</td><td style = \"text-align: right;\">3.6</td><td style = \"text-align: right;\">1.4</td><td style = \"text-align: right;\">0.2</td><td style = \"text-align: left;\">setosa</td></tr><tr><td class = \"rowNumber\" style = \"font-weight: bold; text-align: right;\">6</td><td style = \"text-align: right;\">5.4</td><td style = \"text-align: right;\">3.9</td><td style = \"text-align: right;\">1.7</td><td style = \"text-align: right;\">0.4</td><td style = \"text-align: left;\">setosa</td></tr><tr><td class = \"rowNumber\" style = \"font-weight: bold; text-align: right;\">7</td><td style = \"text-align: right;\">4.6</td><td style = \"text-align: right;\">3.4</td><td style = \"text-align: right;\">1.4</td><td style = \"text-align: right;\">0.3</td><td style = \"text-align: left;\">setosa</td></tr><tr><td class = \"rowNumber\" style = \"font-weight: bold; text-align: right;\">8</td><td style = \"text-align: right;\">5.0</td><td style = \"text-align: right;\">3.4</td><td style = \"text-align: right;\">1.5</td><td style = \"text-align: right;\">0.2</td><td style = \"text-align: left;\">setosa</td></tr><tr><td class = \"rowNumber\" style = \"font-weight: bold; text-align: right;\">9</td><td style = \"text-align: right;\">4.4</td><td style = \"text-align: right;\">2.9</td><td style = \"text-align: right;\">1.4</td><td style = \"text-align: right;\">0.2</td><td style = \"text-align: left;\">setosa</td></tr><tr><td class = \"rowNumber\" style = \"font-weight: bold; text-align: right;\">10</td><td style = \"text-align: right;\">4.9</td><td style = \"text-align: right;\">3.1</td><td style = \"text-align: right;\">1.5</td><td style = \"text-align: right;\">0.1</td><td style = \"text-align: left;\">setosa</td></tr><tr><td class = \"rowNumber\" style = \"font-weight: bold; text-align: right;\">11</td><td style = \"text-align: right;\">5.4</td><td style = \"text-align: right;\">3.7</td><td style = \"text-align: right;\">1.5</td><td style = \"text-align: right;\">0.2</td><td style = \"text-align: left;\">setosa</td></tr><tr><td class = \"rowNumber\" style = \"font-weight: bold; text-align: right;\">12</td><td style = \"text-align: right;\">4.8</td><td style = \"text-align: right;\">3.4</td><td style = \"text-align: right;\">1.6</td><td style = \"text-align: right;\">0.2</td><td style = \"text-align: left;\">setosa</td></tr><tr><td class = \"rowNumber\" style = \"font-weight: bold; text-align: right;\">13</td><td style = \"text-align: right;\">4.8</td><td style = \"text-align: right;\">3.0</td><td style = \"text-align: right;\">1.4</td><td style = \"text-align: right;\">0.1</td><td style = \"text-align: left;\">setosa</td></tr><tr><td style = \"text-align: right;\">&vellip;</td><td style = \"text-align: right;\">&vellip;</td><td style = \"text-align: right;\">&vellip;</td><td style = \"text-align: right;\">&vellip;</td><td style = \"text-align: right;\">&vellip;</td><td style = \"text-align: right;\">&vellip;</td></tr><tr><td class = \"rowNumber\" style = \"font-weight: bold; text-align: right;\">139</td><td style = \"text-align: right;\">6.0</td><td style = \"text-align: right;\">3.0</td><td style = \"text-align: right;\">4.8</td><td style = \"text-align: right;\">1.8</td><td style = \"text-align: left;\">virginica</td></tr><tr><td class = \"rowNumber\" style = \"font-weight: bold; text-align: right;\">140</td><td style = \"text-align: right;\">6.9</td><td style = \"text-align: right;\">3.1</td><td style = \"text-align: right;\">5.4</td><td style = \"text-align: right;\">2.1</td><td style = \"text-align: left;\">virginica</td></tr><tr><td class = \"rowNumber\" style = \"font-weight: bold; text-align: right;\">141</td><td style = \"text-align: right;\">6.7</td><td style = \"text-align: right;\">3.1</td><td style = \"text-align: right;\">5.6</td><td style = \"text-align: right;\">2.4</td><td style = \"text-align: left;\">virginica</td></tr><tr><td class = \"rowNumber\" style = \"font-weight: bold; text-align: right;\">142</td><td style = \"text-align: right;\">6.9</td><td style = \"text-align: right;\">3.1</td><td style = \"text-align: right;\">5.1</td><td style = \"text-align: right;\">2.3</td><td style = \"text-align: left;\">virginica</td></tr><tr><td class = \"rowNumber\" style = \"font-weight: bold; text-align: right;\">143</td><td style = \"text-align: right;\">5.8</td><td style = \"text-align: right;\">2.7</td><td style = \"text-align: right;\">5.1</td><td style = \"text-align: right;\">1.9</td><td style = \"text-align: left;\">virginica</td></tr><tr><td class = \"rowNumber\" style = \"font-weight: bold; text-align: right;\">144</td><td style = \"text-align: right;\">6.8</td><td style = \"text-align: right;\">3.2</td><td style = \"text-align: right;\">5.9</td><td style = \"text-align: right;\">2.3</td><td style = \"text-align: left;\">virginica</td></tr><tr><td class = \"rowNumber\" style = \"font-weight: bold; text-align: right;\">145</td><td style = \"text-align: right;\">6.7</td><td style = \"text-align: right;\">3.3</td><td style = \"text-align: right;\">5.7</td><td style = \"text-align: right;\">2.5</td><td style = \"text-align: left;\">virginica</td></tr><tr><td class = \"rowNumber\" style = \"font-weight: bold; text-align: right;\">146</td><td style = \"text-align: right;\">6.7</td><td style = \"text-align: right;\">3.0</td><td style = \"text-align: right;\">5.2</td><td style = \"text-align: right;\">2.3</td><td style = \"text-align: left;\">virginica</td></tr><tr><td class = \"rowNumber\" style = \"font-weight: bold; text-align: right;\">147</td><td style = \"text-align: right;\">6.3</td><td style = \"text-align: right;\">2.5</td><td style = \"text-align: right;\">5.0</td><td style = \"text-align: right;\">1.9</td><td style = \"text-align: left;\">virginica</td></tr><tr><td class = \"rowNumber\" style = \"font-weight: bold; text-align: right;\">148</td><td style = \"text-align: right;\">6.5</td><td style = \"text-align: right;\">3.0</td><td style = \"text-align: right;\">5.2</td><td style = \"text-align: right;\">2.0</td><td style = \"text-align: left;\">virginica</td></tr><tr><td class = \"rowNumber\" style = \"font-weight: bold; text-align: right;\">149</td><td style = \"text-align: right;\">6.2</td><td style = \"text-align: right;\">3.4</td><td style = \"text-align: right;\">5.4</td><td style = \"text-align: right;\">2.3</td><td style = \"text-align: left;\">virginica</td></tr><tr><td class = \"rowNumber\" style = \"font-weight: bold; text-align: right;\">150</td><td style = \"text-align: right;\">5.9</td><td style = \"text-align: right;\">3.0</td><td style = \"text-align: right;\">5.1</td><td style = \"text-align: right;\">1.8</td><td style = \"text-align: left;\">virginica</td></tr></tbody></table></div>"
      ],
      "text/latex": [
       "\\begin{tabular}{r|ccccc}\n",
       "\t& SepalLength & SepalWidth & PetalLength & PetalWidth & Species\\\\\n",
       "\t\\hline\n",
       "\t& Float64 & Float64 & Float64 & Float64 & Cat…\\\\\n",
       "\t\\hline\n",
       "\t1 & 5.1 & 3.5 & 1.4 & 0.2 & setosa \\\\\n",
       "\t2 & 4.9 & 3.0 & 1.4 & 0.2 & setosa \\\\\n",
       "\t3 & 4.7 & 3.2 & 1.3 & 0.2 & setosa \\\\\n",
       "\t4 & 4.6 & 3.1 & 1.5 & 0.2 & setosa \\\\\n",
       "\t5 & 5.0 & 3.6 & 1.4 & 0.2 & setosa \\\\\n",
       "\t6 & 5.4 & 3.9 & 1.7 & 0.4 & setosa \\\\\n",
       "\t7 & 4.6 & 3.4 & 1.4 & 0.3 & setosa \\\\\n",
       "\t8 & 5.0 & 3.4 & 1.5 & 0.2 & setosa \\\\\n",
       "\t9 & 4.4 & 2.9 & 1.4 & 0.2 & setosa \\\\\n",
       "\t10 & 4.9 & 3.1 & 1.5 & 0.1 & setosa \\\\\n",
       "\t11 & 5.4 & 3.7 & 1.5 & 0.2 & setosa \\\\\n",
       "\t12 & 4.8 & 3.4 & 1.6 & 0.2 & setosa \\\\\n",
       "\t13 & 4.8 & 3.0 & 1.4 & 0.1 & setosa \\\\\n",
       "\t14 & 4.3 & 3.0 & 1.1 & 0.1 & setosa \\\\\n",
       "\t15 & 5.8 & 4.0 & 1.2 & 0.2 & setosa \\\\\n",
       "\t16 & 5.7 & 4.4 & 1.5 & 0.4 & setosa \\\\\n",
       "\t17 & 5.4 & 3.9 & 1.3 & 0.4 & setosa \\\\\n",
       "\t18 & 5.1 & 3.5 & 1.4 & 0.3 & setosa \\\\\n",
       "\t19 & 5.7 & 3.8 & 1.7 & 0.3 & setosa \\\\\n",
       "\t20 & 5.1 & 3.8 & 1.5 & 0.3 & setosa \\\\\n",
       "\t21 & 5.4 & 3.4 & 1.7 & 0.2 & setosa \\\\\n",
       "\t22 & 5.1 & 3.7 & 1.5 & 0.4 & setosa \\\\\n",
       "\t23 & 4.6 & 3.6 & 1.0 & 0.2 & setosa \\\\\n",
       "\t24 & 5.1 & 3.3 & 1.7 & 0.5 & setosa \\\\\n",
       "\t$\\dots$ & $\\dots$ & $\\dots$ & $\\dots$ & $\\dots$ & $\\dots$ \\\\\n",
       "\\end{tabular}\n"
      ],
      "text/plain": [
       "\u001b[1m150×5 DataFrame\u001b[0m\n",
       "\u001b[1m Row \u001b[0m│\u001b[1m SepalLength \u001b[0m\u001b[1m SepalWidth \u001b[0m\u001b[1m PetalLength \u001b[0m\u001b[1m PetalWidth \u001b[0m\u001b[1m Species   \u001b[0m\n",
       "     │\u001b[90m Float64     \u001b[0m\u001b[90m Float64    \u001b[0m\u001b[90m Float64     \u001b[0m\u001b[90m Float64    \u001b[0m\u001b[90m Cat…      \u001b[0m\n",
       "─────┼─────────────────────────────────────────────────────────────\n",
       "   1 │         5.1         3.5          1.4         0.2  setosa\n",
       "   2 │         4.9         3.0          1.4         0.2  setosa\n",
       "   3 │         4.7         3.2          1.3         0.2  setosa\n",
       "   4 │         4.6         3.1          1.5         0.2  setosa\n",
       "   5 │         5.0         3.6          1.4         0.2  setosa\n",
       "   6 │         5.4         3.9          1.7         0.4  setosa\n",
       "   7 │         4.6         3.4          1.4         0.3  setosa\n",
       "   8 │         5.0         3.4          1.5         0.2  setosa\n",
       "  ⋮  │      ⋮           ⋮            ⋮           ⋮           ⋮\n",
       " 144 │         6.8         3.2          5.9         2.3  virginica\n",
       " 145 │         6.7         3.3          5.7         2.5  virginica\n",
       " 146 │         6.7         3.0          5.2         2.3  virginica\n",
       " 147 │         6.3         2.5          5.0         1.9  virginica\n",
       " 148 │         6.5         3.0          5.2         2.0  virginica\n",
       " 149 │         6.2         3.4          5.4         2.3  virginica\n",
       " 150 │         5.9         3.0          5.1         1.8  virginica\n",
       "\u001b[36m                                                   135 rows omitted\u001b[0m"
      ]
     },
     "metadata": {},
     "output_type": "display_data"
    }
   ],
   "source": [
    "iris = RDatasets.dataset(\"datasets\",\"iris\")"
   ]
  },
  {
   "cell_type": "code",
   "execution_count": 56,
   "metadata": {},
   "outputs": [
    {
     "data": {
      "text/html": [
       "<div><div style = \"float: left;\"><span>3×2 DataFrame</span></div><div style = \"clear: both;\"></div></div><div class = \"data-frame\" style = \"overflow-x: scroll;\"><table class = \"data-frame\" style = \"margin-bottom: 6px;\"><thead><tr class = \"header\"><th class = \"rowNumber\" style = \"font-weight: bold; text-align: right;\">Row</th><th style = \"text-align: left;\">Species</th><th style = \"text-align: left;\">SepalLength_mean</th></tr><tr class = \"subheader headerLastRow\"><th class = \"rowNumber\" style = \"font-weight: bold; text-align: right;\"></th><th title = \"CategoricalArrays.CategoricalValue{String, UInt8}\" style = \"text-align: left;\">Cat…</th><th title = \"Float64\" style = \"text-align: left;\">Float64</th></tr></thead><tbody><tr><td class = \"rowNumber\" style = \"font-weight: bold; text-align: right;\">1</td><td style = \"text-align: left;\">setosa</td><td style = \"text-align: right;\">5.006</td></tr><tr><td class = \"rowNumber\" style = \"font-weight: bold; text-align: right;\">2</td><td style = \"text-align: left;\">versicolor</td><td style = \"text-align: right;\">5.936</td></tr><tr><td class = \"rowNumber\" style = \"font-weight: bold; text-align: right;\">3</td><td style = \"text-align: left;\">virginica</td><td style = \"text-align: right;\">6.588</td></tr></tbody></table></div>"
      ],
      "text/latex": [
       "\\begin{tabular}{r|cc}\n",
       "\t& Species & SepalLength\\_mean\\\\\n",
       "\t\\hline\n",
       "\t& Cat… & Float64\\\\\n",
       "\t\\hline\n",
       "\t1 & setosa & 5.006 \\\\\n",
       "\t2 & versicolor & 5.936 \\\\\n",
       "\t3 & virginica & 6.588 \\\\\n",
       "\\end{tabular}\n"
      ],
      "text/plain": [
       "\u001b[1m3×2 DataFrame\u001b[0m\n",
       "\u001b[1m Row \u001b[0m│\u001b[1m Species    \u001b[0m\u001b[1m SepalLength_mean \u001b[0m\n",
       "     │\u001b[90m Cat…       \u001b[0m\u001b[90m Float64          \u001b[0m\n",
       "─────┼──────────────────────────────\n",
       "   1 │ setosa                 5.006\n",
       "   2 │ versicolor             5.936\n",
       "   3 │ virginica              6.588"
      ]
     },
     "metadata": {},
     "output_type": "display_data"
    }
   ],
   "source": [
    "@chain iris begin\n",
    "  groupby(:Species)\n",
    "  combine(:SepalLength => mean)\n",
    "end"
   ]
  },
  {
   "cell_type": "code",
   "execution_count": 57,
   "metadata": {},
   "outputs": [
    {
     "data": {
      "text/html": [
       "<div><div style = \"float: left;\"><span>3×2 DataFrame</span></div><div style = \"clear: both;\"></div></div><div class = \"data-frame\" style = \"overflow-x: scroll;\"><table class = \"data-frame\" style = \"margin-bottom: 6px;\"><thead><tr class = \"header\"><th class = \"rowNumber\" style = \"font-weight: bold; text-align: right;\">Row</th><th style = \"text-align: left;\">Species</th><th style = \"text-align: left;\">nrow</th></tr><tr class = \"subheader headerLastRow\"><th class = \"rowNumber\" style = \"font-weight: bold; text-align: right;\"></th><th title = \"CategoricalArrays.CategoricalValue{String, UInt8}\" style = \"text-align: left;\">Cat…</th><th title = \"Int64\" style = \"text-align: left;\">Int64</th></tr></thead><tbody><tr><td class = \"rowNumber\" style = \"font-weight: bold; text-align: right;\">1</td><td style = \"text-align: left;\">setosa</td><td style = \"text-align: right;\">50</td></tr><tr><td class = \"rowNumber\" style = \"font-weight: bold; text-align: right;\">2</td><td style = \"text-align: left;\">versicolor</td><td style = \"text-align: right;\">50</td></tr><tr><td class = \"rowNumber\" style = \"font-weight: bold; text-align: right;\">3</td><td style = \"text-align: left;\">virginica</td><td style = \"text-align: right;\">50</td></tr></tbody></table></div>"
      ],
      "text/latex": [
       "\\begin{tabular}{r|cc}\n",
       "\t& Species & nrow\\\\\n",
       "\t\\hline\n",
       "\t& Cat… & Int64\\\\\n",
       "\t\\hline\n",
       "\t1 & setosa & 50 \\\\\n",
       "\t2 & versicolor & 50 \\\\\n",
       "\t3 & virginica & 50 \\\\\n",
       "\\end{tabular}\n"
      ],
      "text/plain": [
       "\u001b[1m3×2 DataFrame\u001b[0m\n",
       "\u001b[1m Row \u001b[0m│\u001b[1m Species    \u001b[0m\u001b[1m nrow  \u001b[0m\n",
       "     │\u001b[90m Cat…       \u001b[0m\u001b[90m Int64 \u001b[0m\n",
       "─────┼───────────────────\n",
       "   1 │ setosa         50\n",
       "   2 │ versicolor     50\n",
       "   3 │ virginica      50"
      ]
     },
     "metadata": {},
     "output_type": "display_data"
    }
   ],
   "source": [
    "@chain iris begin\n",
    "  groupby(:Species)\n",
    "  combine(nrow)\n",
    "end"
   ]
  },
  {
   "cell_type": "code",
   "execution_count": 59,
   "metadata": {},
   "outputs": [
    {
     "data": {
      "text/html": [
       "<div><div style = \"float: left;\"><span>3×5 DataFrame</span></div><div style = \"clear: both;\"></div></div><div class = \"data-frame\" style = \"overflow-x: scroll;\"><table class = \"data-frame\" style = \"margin-bottom: 6px;\"><thead><tr class = \"header\"><th class = \"rowNumber\" style = \"font-weight: bold; text-align: right;\">Row</th><th style = \"text-align: left;\">Species</th><th style = \"text-align: left;\">nrow</th><th style = \"text-align: left;\">SepalLength_mean</th><th style = \"text-align: left;\">SepalWidth_std</th><th style = \"text-align: left;\">PetalWidth_maximum</th></tr><tr class = \"subheader headerLastRow\"><th class = \"rowNumber\" style = \"font-weight: bold; text-align: right;\"></th><th title = \"CategoricalArrays.CategoricalValue{String, UInt8}\" style = \"text-align: left;\">Cat…</th><th title = \"Int64\" style = \"text-align: left;\">Int64</th><th title = \"Float64\" style = \"text-align: left;\">Float64</th><th title = \"Float64\" style = \"text-align: left;\">Float64</th><th title = \"Float64\" style = \"text-align: left;\">Float64</th></tr></thead><tbody><tr><td class = \"rowNumber\" style = \"font-weight: bold; text-align: right;\">1</td><td style = \"text-align: left;\">setosa</td><td style = \"text-align: right;\">50</td><td style = \"text-align: right;\">5.006</td><td style = \"text-align: right;\">0.379064</td><td style = \"text-align: right;\">0.6</td></tr><tr><td class = \"rowNumber\" style = \"font-weight: bold; text-align: right;\">2</td><td style = \"text-align: left;\">versicolor</td><td style = \"text-align: right;\">50</td><td style = \"text-align: right;\">5.936</td><td style = \"text-align: right;\">0.313798</td><td style = \"text-align: right;\">1.8</td></tr><tr><td class = \"rowNumber\" style = \"font-weight: bold; text-align: right;\">3</td><td style = \"text-align: left;\">virginica</td><td style = \"text-align: right;\">50</td><td style = \"text-align: right;\">6.588</td><td style = \"text-align: right;\">0.322497</td><td style = \"text-align: right;\">2.5</td></tr></tbody></table></div>"
      ],
      "text/latex": [
       "\\begin{tabular}{r|ccccc}\n",
       "\t& Species & nrow & SepalLength\\_mean & SepalWidth\\_std & PetalWidth\\_maximum\\\\\n",
       "\t\\hline\n",
       "\t& Cat… & Int64 & Float64 & Float64 & Float64\\\\\n",
       "\t\\hline\n",
       "\t1 & setosa & 50 & 5.006 & 0.379064 & 0.6 \\\\\n",
       "\t2 & versicolor & 50 & 5.936 & 0.313798 & 1.8 \\\\\n",
       "\t3 & virginica & 50 & 6.588 & 0.322497 & 2.5 \\\\\n",
       "\\end{tabular}\n"
      ],
      "text/plain": [
       "\u001b[1m3×5 DataFrame\u001b[0m\n",
       "\u001b[1m Row \u001b[0m│\u001b[1m Species    \u001b[0m\u001b[1m nrow  \u001b[0m\u001b[1m SepalLength_mean \u001b[0m\u001b[1m SepalWidth_std \u001b[0m\u001b[1m PetalWidth_maximum\u001b[0m ⋯\n",
       "     │\u001b[90m Cat…       \u001b[0m\u001b[90m Int64 \u001b[0m\u001b[90m Float64          \u001b[0m\u001b[90m Float64        \u001b[0m\u001b[90m Float64           \u001b[0m ⋯\n",
       "─────┼──────────────────────────────────────────────────────────────────────────\n",
       "   1 │ setosa         50             5.006        0.379064                 0.6 ⋯\n",
       "   2 │ versicolor     50             5.936        0.313798                 1.8\n",
       "   3 │ virginica      50             6.588        0.322497                 2.5"
      ]
     },
     "metadata": {},
     "output_type": "display_data"
    }
   ],
   "source": [
    "@chain iris begin\n",
    "  groupby(:Species)\n",
    "  combine(nrow, :SepalLength => mean, :SepalWidth => std, :PetalWidth => maximum)\n",
    "end"
   ]
  },
  {
   "cell_type": "code",
   "execution_count": null,
   "metadata": {},
   "outputs": [],
   "source": []
  }
 ],
 "metadata": {
  "kernelspec": {
   "display_name": "Julia 1.11.1",
   "language": "julia",
   "name": "julia-1.11"
  },
  "language_info": {
   "file_extension": ".jl",
   "mimetype": "application/julia",
   "name": "julia",
   "version": "1.11.1"
  }
 },
 "nbformat": 4,
 "nbformat_minor": 2
}
