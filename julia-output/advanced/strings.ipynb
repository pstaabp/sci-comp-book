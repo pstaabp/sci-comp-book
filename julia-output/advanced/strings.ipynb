{
 "cells": [
  {
   "cell_type": "code",
   "execution_count": null,
   "metadata": {},
   "outputs": [
    {
     "data": {
      "text/plain": [
       "true"
      ]
     },
     "metadata": {},
     "output_type": "display_data"
    }
   ],
   "source": [
    "isfile(\"../data/IMBD.csv\")"
   ]
  },
  {
   "cell_type": "code",
   "execution_count": 1,
   "metadata": {},
   "outputs": [
    {
     "data": {
      "text/plain": [
       "9958-element Vector{String}:\n",
       " \"title,year,certificate,duration,genre,rating,description,stars,votes\"\n",
       " \"Cobra Kai,(2018– ),TV-14,30 min\"\u001b[93m\u001b[1m ⋯ 245 bytes ⋯ \u001b[22m\u001b[39m\", 'Xolo Maridueña']\\\",\\\"177,031\\\"\"\n",
       " \"The Crown,(2016– ),TV-MA,58 min\"\u001b[93m\u001b[1m ⋯ 228 bytes ⋯ \u001b[22m\u001b[39m\"n, ', 'Matt Smith']\\\",\\\"199,885\\\"\"\n",
       " \"Better Call Saul,(2015–2022),TV\"\u001b[93m\u001b[1m ⋯ 209 bytes ⋯ \u001b[22m\u001b[39m\", 'Patrick Fabian']\\\",\\\"501,384\\\"\"\n",
       " \"Devil in Ohio,(2022),TV-MA,356 \"\u001b[93m\u001b[1m ⋯ 243 bytes ⋯ \u001b[22m\u001b[39m\", 'Madeleine Arthur']\\\",\\\"9,773\\\"\"\n",
       " \"Cyberpunk: Edgerunners,(2022– )\"\u001b[93m\u001b[1m ⋯ 319 bytes ⋯ \u001b[22m\u001b[39m\"i Lo, ', 'Aoi Yûki']\\\",\\\"15,413\\\"\"\n",
       " \"The Sandman,(2022– ),TV-MA,45 m\"\u001b[93m\u001b[1m ⋯ 240 bytes ⋯ \u001b[22m\u001b[39m\"vienne Acheampong']\\\",\\\"116,358\\\"\"\n",
       " \"Rick and Morty,(2013– ),TV-MA,2\"\u001b[93m\u001b[1m ⋯ 197 bytes ⋯ \u001b[22m\u001b[39m\" ', 'Sarah Chalke']\\\",\\\"502,160\\\"\"\n",
       " \"Breaking Bad,(2008–2013),TV-MA,\"\u001b[93m\u001b[1m ⋯ 248 bytes ⋯ \u001b[22m\u001b[39m\", 'Betsy Brandt']\\\",\\\"1,831,340\\\"\"\n",
       " \"The Imperfects,(2022– ),TV-MA,4\"\u001b[93m\u001b[1m ⋯ 278 bytes ⋯ \u001b[22m\u001b[39m\"al, ', 'Iñaki Godoy']\\\",\\\"3,123\\\"\"\n",
       " ⋮\n",
       " \"Stranger Things,(2016– ),TV-14,\"\u001b[93m\u001b[1m ⋯ 246 bytes ⋯ \u001b[22m\u001b[39m\"aleb McLaughlin']\\\",\\\"1,149,902\\\"\"\n",
       " \"The Blacklist,(2013– ),TV-14,43\"\u001b[93m\u001b[1m ⋯ 293 bytes ⋯ \u001b[22m\u001b[39m\", ', 'Ryan Eggold']\\\",\\\"245,592\\\"\"\n",
       " \"American Horror Story,(2011– ),\"\u001b[93m\u001b[1m ⋯ 387 bytes ⋯ \u001b[22m\u001b[39m\"', 'Sarah Paulson']\\\",\\\"312,974\\\"\"\n",
       " \"Breaking Bad,(2008–2013),TV-MA,\"\u001b[93m\u001b[1m ⋯ 248 bytes ⋯ \u001b[22m\u001b[39m\", 'Betsy Brandt']\\\",\\\"1,831,359\\\"\"\n",
       " \"The Imperfects,(2022– ),TV-MA,4\"\u001b[93m\u001b[1m ⋯ 278 bytes ⋯ \u001b[22m\u001b[39m\"al, ', 'Iñaki Godoy']\\\",\\\"3,130\\\"\"\n",
       " \"The Walking Dead,(2010–2022),TV\"\u001b[93m\u001b[1m ⋯ 228 bytes ⋯ \u001b[22m\u001b[39m\" ', 'Lauren Cohan']\\\",\\\"970,067\\\"\"\n",
       " \"The Crown,(2016– ),TV-MA,58 min\"\u001b[93m\u001b[1m ⋯ 228 bytes ⋯ \u001b[22m\u001b[39m\"n, ', 'Matt Smith']\\\",\\\"199,898\\\"\"\n",
       " \"Supernatural,(2005–2020),TV-14,\"\u001b[93m\u001b[1m ⋯ 256 bytes ⋯ \u001b[22m\u001b[39m\"', 'Misha Collins']\\\",\\\"439,601\\\"\"\n",
       " \"Devil in Ohio,(2022),TV-MA,356 \"\u001b[93m\u001b[1m ⋯ 243 bytes ⋯ \u001b[22m\u001b[39m\", 'Madeleine Arthur']\\\",\\\"9,786\\\"\""
      ]
     },
     "metadata": {},
     "output_type": "display_data"
    }
   ],
   "source": [
    "movies = readlines(\"../data/IMBD.csv\")"
   ]
  },
  {
   "cell_type": "code",
   "execution_count": 2,
   "metadata": {},
   "outputs": [
    {
     "data": {
      "text/plain": [
       "\"title,year,certificate,duration,genre,rating,description,stars,votes\""
      ]
     },
     "metadata": {},
     "output_type": "display_data"
    }
   ],
   "source": [
    "m1 = movies[1]"
   ]
  },
  {
   "cell_type": "code",
   "execution_count": 3,
   "metadata": {},
   "outputs": [
    {
     "data": {
      "text/plain": [
       "'t': ASCII/Unicode U+0074 (category Ll: Letter, lowercase)"
      ]
     },
     "metadata": {},
     "output_type": "display_data"
    }
   ],
   "source": [
    "m1[1]"
   ]
  },
  {
   "cell_type": "code",
   "execution_count": 4,
   "metadata": {},
   "outputs": [
    {
     "name": "stdout",
     "output_type": "stream",
     "text": [
      "ch = 't'\n",
      "ch = 'i'\n",
      "ch = 't'\n",
      "ch = 'l'\n",
      "ch = 'e'\n",
      "ch = ','\n",
      "ch = 'y'\n",
      "ch = 'e'\n",
      "ch = 'a'\n",
      "ch = 'r'\n",
      "ch = ','\n",
      "ch = 'c'\n",
      "ch = 'e'\n",
      "ch = 'r'\n",
      "ch = 't'\n",
      "ch = 'i'\n",
      "ch = 'f'\n",
      "ch = 'i'\n",
      "ch = 'c'\n",
      "ch = 'a'\n",
      "ch = 't'\n",
      "ch = 'e'\n",
      "ch = ','\n",
      "ch = 'd'\n",
      "ch = 'u'\n",
      "ch = 'r'\n",
      "ch = 'a'\n",
      "ch = 't'\n",
      "ch = 'i'\n",
      "ch = 'o'\n",
      "ch = 'n'\n",
      "ch = ','\n",
      "ch = 'g'\n",
      "ch = 'e'\n",
      "ch = 'n'\n",
      "ch = 'r'\n",
      "ch = 'e'\n",
      "ch = ','\n",
      "ch = 'r'\n",
      "ch = 'a'\n",
      "ch = 't'\n",
      "ch = 'i'\n",
      "ch = 'n'\n",
      "ch = 'g'\n",
      "ch = ','\n",
      "ch = 'd'\n",
      "ch = 'e'\n",
      "ch = 's'\n",
      "ch = 'c'\n",
      "ch = 'r'\n",
      "ch = 'i'\n",
      "ch = 'p'\n",
      "ch = 't'\n",
      "ch = 'i'\n",
      "ch = 'o'\n",
      "ch = 'n'\n",
      "ch = ','\n",
      "ch = 's'\n",
      "ch = 't'\n",
      "ch = 'a'\n",
      "ch = 'r'\n",
      "ch = 's'\n",
      "ch = ','\n",
      "ch = 'v'\n",
      "ch = 'o'\n",
      "ch = 't'\n",
      "ch = 'e'\n",
      "ch = 's'\n"
     ]
    }
   ],
   "source": [
    "for ch in m1\n",
    "  @show ch\n",
    "end"
   ]
  },
  {
   "cell_type": "code",
   "execution_count": 6,
   "metadata": {},
   "outputs": [
    {
     "data": {
      "text/plain": [
       "\"Xolo Maridueña\""
      ]
     },
     "metadata": {},
     "output_type": "display_data"
    }
   ],
   "source": [
    "name = \"Xolo Maridueña\""
   ]
  },
  {
   "cell_type": "code",
   "execution_count": 7,
   "metadata": {},
   "outputs": [
    {
     "data": {
      "text/plain": [
       "2-element Base.CodeUnits{UInt8, String}:\n",
       " 0xc3\n",
       " 0xb1"
      ]
     },
     "metadata": {},
     "output_type": "display_data"
    }
   ],
   "source": [
    "codeunits(\"ñ\")"
   ]
  },
  {
   "cell_type": "code",
   "execution_count": 8,
   "metadata": {},
   "outputs": [
    {
     "data": {
      "text/plain": [
       "\"😂\""
      ]
     },
     "metadata": {},
     "output_type": "display_data"
    }
   ],
   "source": [
    "\"\\U1f602\""
   ]
  },
  {
   "cell_type": "code",
   "execution_count": 9,
   "metadata": {},
   "outputs": [
    {
     "data": {
      "text/plain": [
       "\"(x+1)² = x²+2x+1\""
      ]
     },
     "metadata": {},
     "output_type": "display_data"
    }
   ],
   "source": [
    "quad = \"(x+1)² = x²+2x+1\""
   ]
  },
  {
   "cell_type": "code",
   "execution_count": 10,
   "metadata": {},
   "outputs": [
    {
     "data": {
      "text/plain": [
       "\"(x+1)²\""
      ]
     },
     "metadata": {},
     "output_type": "display_data"
    }
   ],
   "source": [
    "quad[1:6]"
   ]
  },
  {
   "cell_type": "code",
   "execution_count": 11,
   "metadata": {},
   "outputs": [
    {
     "data": {
      "text/plain": [
       "String"
      ]
     },
     "metadata": {},
     "output_type": "display_data"
    }
   ],
   "source": [
    "typeof(quad[1:6])"
   ]
  },
  {
   "cell_type": "code",
   "execution_count": 12,
   "metadata": {},
   "outputs": [
    {
     "ename": "StringIndexError",
     "evalue": "StringIndexError: invalid index [13], valid nearby indices [12]=>'²', [14]=>'+'",
     "output_type": "error",
     "traceback": [
      "StringIndexError: invalid index [13], valid nearby indices [12]=>'²', [14]=>'+'\n",
      "\n",
      "Stacktrace:\n",
      " [1] string_index_err(s::String, i::Int64)\n",
      "   @ Base ./strings/string.jl:12\n",
      " [2] getindex_continued(s::String, i::Int64, u::UInt32)\n",
      "   @ Base ./strings/string.jl:472\n",
      " [3] getindex(s::String, i::Int64)\n",
      "   @ Base ./strings/string.jl:464\n",
      " [4] top-level scope\n",
      "   @ ~/code/sci-comp-book/julia-output/advanced/jl_notebook_cell_df34fa98e69747e1a8f8a730347b8e2f_X14sZmlsZQ==.jl:1"
     ]
    }
   ],
   "source": [
    "quad[13]"
   ]
  },
  {
   "cell_type": "code",
   "execution_count": 13,
   "metadata": {},
   "outputs": [
    {
     "data": {
      "text/plain": [
       "(true, true)"
      ]
     },
     "metadata": {},
     "output_type": "display_data"
    }
   ],
   "source": [
    "isascii('1'), isascii('A')"
   ]
  },
  {
   "cell_type": "code",
   "execution_count": 14,
   "metadata": {},
   "outputs": [
    {
     "data": {
      "text/plain": [
       "(true, false)"
      ]
     },
     "metadata": {},
     "output_type": "display_data"
    }
   ],
   "source": [
    "isascii('?'),isascii('à')"
   ]
  },
  {
   "cell_type": "code",
   "execution_count": 15,
   "metadata": {},
   "outputs": [
    {
     "data": {
      "text/plain": [
       "16-element Vector{Int64}:\n",
       "  1\n",
       "  2\n",
       "  3\n",
       "  4\n",
       "  5\n",
       "  6\n",
       "  8\n",
       "  9\n",
       " 10\n",
       " 11\n",
       " 12\n",
       " 14\n",
       " 15\n",
       " 16\n",
       " 17\n",
       " 18"
      ]
     },
     "metadata": {},
     "output_type": "display_data"
    }
   ],
   "source": [
    "collect(eachindex(quad))"
   ]
  },
  {
   "cell_type": "code",
   "execution_count": 16,
   "metadata": {},
   "outputs": [
    {
     "data": {
      "text/plain": [
       "2-element Base.CodeUnits{UInt8, String}:\n",
       " 0xc2\n",
       " 0xb2"
      ]
     },
     "metadata": {},
     "output_type": "display_data"
    }
   ],
   "source": [
    "codeunits(\"²\")"
   ]
  },
  {
   "cell_type": "code",
   "execution_count": 17,
   "metadata": {},
   "outputs": [
    {
     "data": {
      "text/plain": [
       "4-element Base.CodeUnits{UInt8, String}:\n",
       " 0xf0\n",
       " 0x9f\n",
       " 0x98\n",
       " 0x82"
      ]
     },
     "metadata": {},
     "output_type": "display_data"
    }
   ],
   "source": [
    "codeunits(\"😂\")"
   ]
  },
  {
   "cell_type": "code",
   "execution_count": 18,
   "metadata": {},
   "outputs": [
    {
     "data": {
      "text/plain": [
       "'😂': Unicode U+1F602 (category So: Symbol, other)"
      ]
     },
     "metadata": {},
     "output_type": "display_data"
    }
   ],
   "source": [
    "'😂'"
   ]
  },
  {
   "cell_type": "code",
   "execution_count": 19,
   "metadata": {},
   "outputs": [
    {
     "ename": "MethodError",
     "evalue": "MethodError: no method matching setindex!(::String, ::Char, ::Int64)\nThe function `setindex!` exists, but no method is defined for this combination of argument types.",
     "output_type": "error",
     "traceback": [
      "MethodError: no method matching setindex!(::String, ::Char, ::Int64)\n",
      "The function `setindex!` exists, but no method is defined for this combination of argument types.\n",
      "\n",
      "Stacktrace:\n",
      " [1] top-level scope\n",
      "   @ ~/code/sci-comp-book/julia-output/advanced/jl_notebook_cell_df34fa98e69747e1a8f8a730347b8e2f_X24sZmlsZQ==.jl:1"
     ]
    }
   ],
   "source": [
    "quad[1]='['"
   ]
  },
  {
   "cell_type": "code",
   "execution_count": 32,
   "metadata": {},
   "outputs": [
    {
     "data": {
      "text/plain": [
       "9-element Vector{SubString{String}}:\n",
       " \"title\"\n",
       " \"year\"\n",
       " \"certificate\"\n",
       " \"duration\"\n",
       " \"genre\"\n",
       " \"rating\"\n",
       " \"description\"\n",
       " \"stars\"\n",
       " \"votes\""
      ]
     },
     "metadata": {},
     "output_type": "display_data"
    }
   ],
   "source": [
    "categories = split(m1,\",\")"
   ]
  },
  {
   "cell_type": "code",
   "execution_count": 21,
   "metadata": {},
   "outputs": [],
   "source": []
  },
  {
   "cell_type": "code",
   "execution_count": 22,
   "metadata": {},
   "outputs": [
    {
     "data": {
      "text/plain": [
       "\"abcdabcd,abcdabcd,abcdabcd,abcdabcd,abcdabcd,abcdabcd,abcdabcd,abcdabcd,abcdabcd,abcdabcd,abcdabcd,abcdabcd,abcdabcd,abcdabcd,abcdabcd,abcdabcd,abcdabcd,abcdabcd,abcdabcd,abcdabcd,abcdabcd,abcdabcd,abcdabcd,abcdabcd,abcdabcd,abcdabcd,abcdabcd,abcdabcd,abcdabcd,abcdabcd,\"\u001b[93m\u001b[1m ⋯ 8459 bytes ⋯ \u001b[22m\u001b[39m\",abcdabcd,abcdabcd,abcdabcd,abcdabcd,abcdabcd,abcdabcd,abcdabcd,abcdabcd,abcdabcd,abcdabcd,abcdabcd,abcdabcd,abcdabcd,abcdabcd,abcdabcd,abcdabcd,abcdabcd,abcdabcd,abcdabcd,abcdabcd,abcdabcd,abcdabcd,abcdabcd,abcdabcd,abcdabcd,abcdabcd,abcdabcd,abcdabcd,abcdabcd,abcdabcd\""
      ]
     },
     "metadata": {},
     "output_type": "display_data"
    }
   ],
   "source": [
    "long_str = join(map(t->\"abcdabcd\",1:1000),\",\")"
   ]
  },
  {
   "cell_type": "code",
   "execution_count": 23,
   "metadata": {},
   "outputs": [
    {
     "data": {
      "text/plain": [
       "8999"
      ]
     },
     "metadata": {},
     "output_type": "display_data"
    }
   ],
   "source": [
    "sizeof(long_str)"
   ]
  },
  {
   "cell_type": "code",
   "execution_count": 24,
   "metadata": {},
   "outputs": [
    {
     "data": {
      "text/plain": [
       "\"abcdabcd,abcdabcd,abcdabcd,abcdabcd,abcdabcd,abcdabcd,abcdabcd,abcdabcd,abcdabcd,abcdabcd,abcdabcd,abcdabcd,abcdabcd,abcdabcd,abcdabcd,abcdabcd,abcdabcd,abcdabcd,abcdabcd,abcdabcd,abcdabcd,abcdabcd,abcdabcd,abcdabcd,abcdabcd,abcdabcd,abcdabcd,abcdabcd,abcdabcd,abcdabcd,a\"\u001b[93m\u001b[1m ⋯ 460 bytes ⋯ \u001b[22m\u001b[39m\"cdabcd,abcdabcd,abcdabcd,abcdabcd,abcdabcd,abcdabcd,abcdabcd,abcdabcd,abcdabcd,abcdabcd,abcdabcd,abcdabcd,abcdabcd,abcdabcd,abcdabcd,abcdabcd,abcdabcd,abcdabcd,abcdabcd,abcdabcd,abcdabcd,abcdabcd,abcdabcd,abcdabcd,abcdabcd,abcdabcd,abcdabcd,abcdabcd,abcdabcd,abcdabcd,ab\""
      ]
     },
     "metadata": {},
     "output_type": "display_data"
    }
   ],
   "source": [
    "s = SubString(long_str,10,1010)"
   ]
  },
  {
   "cell_type": "code",
   "execution_count": 25,
   "metadata": {},
   "outputs": [
    {
     "data": {
      "text/plain": [
       "1001"
      ]
     },
     "metadata": {},
     "output_type": "display_data"
    }
   ],
   "source": [
    "sizeof(s)"
   ]
  },
  {
   "cell_type": "code",
   "execution_count": 26,
   "metadata": {},
   "outputs": [
    {
     "data": {
      "text/plain": [
       "AbstractString"
      ]
     },
     "metadata": {},
     "output_type": "display_data"
    }
   ],
   "source": [
    "supertype(String)"
   ]
  },
  {
   "cell_type": "code",
   "execution_count": 27,
   "metadata": {},
   "outputs": [
    {
     "data": {
      "text/plain": [
       "AbstractString"
      ]
     },
     "metadata": {},
     "output_type": "display_data"
    }
   ],
   "source": [
    "supertype(SubString)"
   ]
  },
  {
   "cell_type": "code",
   "execution_count": 28,
   "metadata": {},
   "outputs": [
    {
     "data": {
      "text/plain": [
       "6-element Vector{Any}:\n",
       " Base.AnnotatedString\n",
       " Core.Compiler.LazyString\n",
       " LazyString\n",
       " String\n",
       " SubString\n",
       " SubstitutionString"
      ]
     },
     "metadata": {},
     "output_type": "display_data"
    }
   ],
   "source": [
    "subtypes(AbstractString)"
   ]
  },
  {
   "cell_type": "code",
   "execution_count": 30,
   "metadata": {},
   "outputs": [
    {
     "data": {
      "text/plain": [
       "concat (generic function with 1 method)"
      ]
     },
     "metadata": {},
     "output_type": "display_data"
    }
   ],
   "source": [
    "concat(str1::String, str2::String) = str1 * str2"
   ]
  },
  {
   "cell_type": "code",
   "execution_count": 31,
   "metadata": {},
   "outputs": [
    {
     "data": {
      "text/plain": [
       "\"string 1 and string2\""
      ]
     },
     "metadata": {},
     "output_type": "display_data"
    }
   ],
   "source": [
    "concat(\"string 1 and \", \"string2\")"
   ]
  },
  {
   "cell_type": "code",
   "execution_count": 33,
   "metadata": {},
   "outputs": [
    {
     "ename": "MethodError",
     "evalue": "MethodError: no method matching concat(::SubString{String}, ::SubString{String})\nThe function `concat` exists, but no method is defined for this combination of argument types.\n\nClosest candidates are:\n  concat(!Matched::String, !Matched::String)\n   @ Main ~/code/sci-comp-book/julia-output/advanced/jl_notebook_cell_df34fa98e69747e1a8f8a730347b8e2f_X40sZmlsZQ==.jl:1\n",
     "output_type": "error",
     "traceback": [
      "MethodError: no method matching concat(::SubString{String}, ::SubString{String})\n",
      "The function `concat` exists, but no method is defined for this combination of argument types.\n",
      "\n",
      "Closest candidates are:\n",
      "  concat(!Matched::String, !Matched::String)\n",
      "   @ Main ~/code/sci-comp-book/julia-output/advanced/jl_notebook_cell_df34fa98e69747e1a8f8a730347b8e2f_X40sZmlsZQ==.jl:1\n",
      "\n",
      "\n",
      "Stacktrace:\n",
      " [1] top-level scope\n",
      "   @ ~/code/sci-comp-book/julia-output/advanced/jl_notebook_cell_df34fa98e69747e1a8f8a730347b8e2f_X42sZmlsZQ==.jl:1"
     ]
    }
   ],
   "source": [
    "concat(categories[1], categories[2])"
   ]
  },
  {
   "cell_type": "code",
   "execution_count": 34,
   "metadata": {},
   "outputs": [
    {
     "data": {
      "text/plain": [
       "(AbstractString, AbstractString)"
      ]
     },
     "metadata": {},
     "output_type": "display_data"
    }
   ],
   "source": [
    "supertype(String), supertype(SubString{String})"
   ]
  },
  {
   "cell_type": "code",
   "execution_count": 5,
   "metadata": {},
   "outputs": [],
   "source": [
    "using CSV, DataFrames"
   ]
  },
  {
   "cell_type": "code",
   "execution_count": 7,
   "metadata": {},
   "outputs": [
    {
     "data": {
      "text/html": [
       "<div><div style = \"float: left;\"><span>9957×9 DataFrame</span></div><div style = \"float: right;\"><span style = \"font-style: italic;\">9932 rows omitted</span></div><div style = \"clear: both;\"></div></div><div class = \"data-frame\" style = \"overflow-x: scroll;\"><table class = \"data-frame\" style = \"margin-bottom: 6px;\"><thead><tr class = \"header\"><th class = \"rowNumber\" style = \"font-weight: bold; text-align: right;\">Row</th><th style = \"text-align: left;\">title</th><th style = \"text-align: left;\">year</th><th style = \"text-align: left;\">certificate</th><th style = \"text-align: left;\">duration</th><th style = \"text-align: left;\">genre</th><th style = \"text-align: left;\">rating</th><th style = \"text-align: left;\">description</th><th style = \"text-align: left;\">stars</th><th style = \"text-align: left;\">votes</th></tr><tr class = \"subheader headerLastRow\"><th class = \"rowNumber\" style = \"font-weight: bold; text-align: right;\"></th><th title = \"String\" style = \"text-align: left;\">String</th><th title = \"Union{Missing, String31}\" style = \"text-align: left;\">String31?</th><th title = \"Union{Missing, String15}\" style = \"text-align: left;\">String15?</th><th title = \"Union{Missing, String7}\" style = \"text-align: left;\">String7?</th><th title = \"Union{Missing, String}\" style = \"text-align: left;\">String?</th><th title = \"Union{Missing, Float64}\" style = \"text-align: left;\">Float64?</th><th title = \"String\" style = \"text-align: left;\">String</th><th title = \"String\" style = \"text-align: left;\">String</th><th title = \"Union{Missing, String15}\" style = \"text-align: left;\">String15?</th></tr></thead><tbody><tr><td class = \"rowNumber\" style = \"font-weight: bold; text-align: right;\">1</td><td style = \"text-align: left;\">Cobra Kai</td><td style = \"text-align: left;\">(2018– )</td><td style = \"text-align: left;\">TV-14</td><td style = \"text-align: left;\">30 min</td><td style = \"text-align: left;\">Action, Comedy, Drama</td><td style = \"text-align: right;\">8.5</td><td style = \"text-align: left;\">Decades after their 1984 All Valley Karate Tournament bout, a middle-aged Daniel LaRusso and Johnny Lawrence find themselves martial-arts rivals again.</td><td style = \"text-align: left;\">[&apos;Ralph Macchio, &apos;, &apos;William Zabka, &apos;, &apos;Courtney Henggeler, &apos;, &apos;Xolo Maridueña&apos;]</td><td style = \"text-align: left;\">177,031</td></tr><tr><td class = \"rowNumber\" style = \"font-weight: bold; text-align: right;\">2</td><td style = \"text-align: left;\">The Crown</td><td style = \"text-align: left;\">(2016– )</td><td style = \"text-align: left;\">TV-MA</td><td style = \"text-align: left;\">58 min</td><td style = \"text-align: left;\">Biography, Drama, History</td><td style = \"text-align: right;\">8.7</td><td style = \"text-align: left;\">Follows the political rivalries and romance of Queen Elizabeth II&apos;s reign and the events that shaped the second half of the twentieth century.</td><td style = \"text-align: left;\">[&apos;Claire Foy, &apos;, &apos;Olivia Colman, &apos;, &apos;Imelda Staunton, &apos;, &apos;Matt Smith&apos;]</td><td style = \"text-align: left;\">199,885</td></tr><tr><td class = \"rowNumber\" style = \"font-weight: bold; text-align: right;\">3</td><td style = \"text-align: left;\">Better Call Saul</td><td style = \"text-align: left;\">(2015–2022)</td><td style = \"text-align: left;\">TV-MA</td><td style = \"text-align: left;\">46 min</td><td style = \"text-align: left;\">Crime, Drama</td><td style = \"text-align: right;\">8.9</td><td style = \"text-align: left;\">The trials and tribulations of criminal lawyer Jimmy McGill before his fateful run-in with Walter White and Jesse Pinkman.</td><td style = \"text-align: left;\">[&apos;Bob Odenkirk, &apos;, &apos;Rhea Seehorn, &apos;, &apos;Jonathan Banks, &apos;, &apos;Patrick Fabian&apos;]</td><td style = \"text-align: left;\">501,384</td></tr><tr><td class = \"rowNumber\" style = \"font-weight: bold; text-align: right;\">4</td><td style = \"text-align: left;\">Devil in Ohio</td><td style = \"text-align: left;\">(2022)</td><td style = \"text-align: left;\">TV-MA</td><td style = \"text-align: left;\">356 min</td><td style = \"text-align: left;\">Drama, Horror, Mystery</td><td style = \"text-align: right;\">5.9</td><td style = \"text-align: left;\">When a psychiatrist shelters a mysterious cult escapee, her world is turned upside down as the girl&apos;s arrival threatens to tear her own family apart.</td><td style = \"text-align: left;\">[&apos;Emily Deschanel, &apos;, &apos;Sam Jaeger, &apos;, &apos;Gerardo Celasco, &apos;, &apos;Madeleine Arthur&apos;]</td><td style = \"text-align: left;\">9,773</td></tr><tr><td class = \"rowNumber\" style = \"font-weight: bold; text-align: right;\">5</td><td style = \"text-align: left;\">Cyberpunk: Edgerunners</td><td style = \"text-align: left;\">(2022– )</td><td style = \"text-align: left;\">TV-MA</td><td style = \"text-align: left;\">24 min</td><td style = \"text-align: left;\">Animation, Action, Adventure</td><td style = \"text-align: right;\">8.6</td><td style = \"text-align: left;\">A Street Kid trying to survive in a technology and body modification-obsessed city of the future. Having everything to lose, he chooses to stay alive by becoming an Edgerunner, a Mercenary outlaw also known as a Cyberpunk.</td><td style = \"text-align: left;\">[&apos;Zach Aguilar, &apos;, &apos;Kenichiro Ohashi, &apos;, &apos;Emi Lo, &apos;, &apos;Aoi Yûki&apos;]</td><td style = \"text-align: left;\">15,413</td></tr><tr><td class = \"rowNumber\" style = \"font-weight: bold; text-align: right;\">6</td><td style = \"text-align: left;\">The Sandman</td><td style = \"text-align: left;\">(2022– )</td><td style = \"text-align: left;\">TV-MA</td><td style = \"text-align: left;\">45 min</td><td style = \"text-align: left;\">Drama, Fantasy, Horror</td><td style = \"text-align: right;\">7.8</td><td style = \"text-align: left;\">Upon escaping after decades of imprisonment by a mortal wizard, Dream, the personification of dreams, sets about to reclaim his lost equipment.</td><td style = \"text-align: left;\">[&apos;Tom Sturridge, &apos;, &apos;Boyd Holbrook, &apos;, &apos;Patton Oswalt, &apos;, &apos;Vivienne Acheampong&apos;]</td><td style = \"text-align: left;\">116,358</td></tr><tr><td class = \"rowNumber\" style = \"font-weight: bold; text-align: right;\">7</td><td style = \"text-align: left;\">Rick and Morty</td><td style = \"text-align: left;\">(2013– )</td><td style = \"text-align: left;\">TV-MA</td><td style = \"text-align: left;\">23 min</td><td style = \"text-align: left;\">Animation, Adventure, Comedy</td><td style = \"text-align: right;\">9.2</td><td style = \"text-align: left;\">An animated series that follows the exploits of a super scientist and his not-so-bright grandson.</td><td style = \"text-align: left;\">[&apos;Justin Roiland, &apos;, &apos;Chris Parnell, &apos;, &apos;Spencer Grammer, &apos;, &apos;Sarah Chalke&apos;]</td><td style = \"text-align: left;\">502,160</td></tr><tr><td class = \"rowNumber\" style = \"font-weight: bold; text-align: right;\">8</td><td style = \"text-align: left;\">Breaking Bad</td><td style = \"text-align: left;\">(2008–2013)</td><td style = \"text-align: left;\">TV-MA</td><td style = \"text-align: left;\">49 min</td><td style = \"text-align: left;\">Crime, Drama, Thriller</td><td style = \"text-align: right;\">9.5</td><td style = \"text-align: left;\">A high school chemistry teacher diagnosed with inoperable lung cancer turns to manufacturing and selling methamphetamine in order to secure his family&apos;s future.</td><td style = \"text-align: left;\">[&apos;Bryan Cranston, &apos;, &apos;Aaron Paul, &apos;, &apos;Anna Gunn, &apos;, &apos;Betsy Brandt&apos;]</td><td style = \"text-align: left;\">1,831,340</td></tr><tr><td class = \"rowNumber\" style = \"font-weight: bold; text-align: right;\">9</td><td style = \"text-align: left;\">The Imperfects</td><td style = \"text-align: left;\">(2022– )</td><td style = \"text-align: left;\">TV-MA</td><td style = \"text-align: left;\">45 min</td><td style = \"text-align: left;\">Action, Adventure, Drama</td><td style = \"text-align: right;\">6.3</td><td style = \"text-align: left;\">After an experimental gene therapy turns them into monsters, three twenty-somethings band together to hunt down the scientist responsible and force him to make them human again.</td><td style = \"text-align: left;\">[&apos;Morgan Taylor Campbell, &apos;, &apos;Italia Ricci, &apos;, &apos;Rhianna Jagpal, &apos;, &apos;Iñaki Godoy&apos;]</td><td style = \"text-align: left;\">3,123</td></tr><tr><td class = \"rowNumber\" style = \"font-weight: bold; text-align: right;\">10</td><td style = \"text-align: left;\">Blonde</td><td style = \"text-align: left;\">(2022)</td><td style = \"text-align: left;\">NC-17</td><td style = \"text-align: left;\">166 min</td><td style = \"text-align: left;\">Biography, Drama, Mystery</td><td style = \"text-align: right;\">6.2</td><td style = \"text-align: left;\">A fictionalized chronicle of the inner life of Marilyn Monroe.</td><td style = \"text-align: left;\">[&apos;Andrew Dominik&apos;, &apos;| &apos;, &apos;    Stars:&apos;, &apos;Ana de Armas, &apos;, &apos;Lucy DeVito, &apos;, &apos;Garret Dillahunt, &apos;, &apos;Adrien Brody&apos;]</td><td style = \"text-align: left;\">935</td></tr><tr><td class = \"rowNumber\" style = \"font-weight: bold; text-align: right;\">11</td><td style = \"text-align: left;\">Stranger Things</td><td style = \"text-align: left;\">(2016– )</td><td style = \"text-align: left;\">TV-14</td><td style = \"text-align: left;\">51 min</td><td style = \"text-align: left;\">Drama, Fantasy, Horror</td><td style = \"text-align: right;\">8.7</td><td style = \"text-align: left;\">When a young boy disappears, his mother, a police chief and his friends must confront terrifying supernatural forces in order to get him back.</td><td style = \"text-align: left;\">[&apos;Millie Bobby Brown, &apos;, &apos;Finn Wolfhard, &apos;, &apos;Winona Ryder, &apos;, &apos;Caleb McLaughlin&apos;]</td><td style = \"text-align: left;\">1,149,889</td></tr><tr><td class = \"rowNumber\" style = \"font-weight: bold; text-align: right;\">12</td><td style = \"text-align: left;\">End of the Road</td><td style = \"text-align: left;\">(II) (2022)</td><td style = \"text-align: left;\">R</td><td style = \"text-align: left;\">89 min</td><td style = \"text-align: left;\">Action, Crime, Drama</td><td style = \"text-align: right;\">4.7</td><td style = \"text-align: left;\">In this high-octane action thriller, a cross-country road trip becomes a highway to hell for Brenda and her family. Alone in the New Mexico desert, they have to fight for their lives when they become the targets of a mysterious killer.</td><td style = \"text-align: left;\">[&apos;Millicent Shelton&apos;, &apos;| &apos;, &apos;    Stars:&apos;, &apos;Queen Latifah, &apos;, &apos;Ludacris, &apos;, &apos;Mychala Lee, &apos;, &apos;Shaun Dixon&apos;]</td><td style = \"text-align: left;\">5,122</td></tr><tr><td class = \"rowNumber\" style = \"font-weight: bold; text-align: right;\">13</td><td style = \"text-align: left;\">The Walking Dead</td><td style = \"text-align: left;\">(2010–2022)</td><td style = \"text-align: left;\">TV-MA</td><td style = \"text-align: left;\">44 min</td><td style = \"text-align: left;\">Drama, Horror, Thriller</td><td style = \"text-align: right;\">8.1</td><td style = \"text-align: left;\">Sheriff Deputy Rick Grimes wakes up from a coma to learn the world is in ruins and must lead a group of survivors to stay alive.</td><td style = \"text-align: left;\">[&apos;Andrew Lincoln, &apos;, &apos;Norman Reedus, &apos;, &apos;Melissa McBride, &apos;, &apos;Lauren Cohan&apos;]</td><td style = \"text-align: left;\">970,060</td></tr><tr><td style = \"text-align: right;\">&vellip;</td><td style = \"text-align: right;\">&vellip;</td><td style = \"text-align: right;\">&vellip;</td><td style = \"text-align: right;\">&vellip;</td><td style = \"text-align: right;\">&vellip;</td><td style = \"text-align: right;\">&vellip;</td><td style = \"text-align: right;\">&vellip;</td><td style = \"text-align: right;\">&vellip;</td><td style = \"text-align: right;\">&vellip;</td><td style = \"text-align: right;\">&vellip;</td></tr><tr><td class = \"rowNumber\" style = \"font-weight: bold; text-align: right;\">9946</td><td style = \"text-align: left;\">Echoes</td><td style = \"text-align: left;\">(2022)</td><td style = \"text-align: left;\">TV-MA</td><td style = \"text-align: left;\">326 min</td><td style = \"text-align: left;\">Drama, Mystery, Thriller</td><td style = \"text-align: right;\">5.9</td><td style = \"text-align: left;\">Leni and Gina are identical twins who have secretly swapped their lives since they were children, culminating in a double life as adults, but one of the sisters goes missing and everything in their perfectly schemed world turns into chaos.</td><td style = \"text-align: left;\">[&apos;Michelle Monaghan, &apos;, &apos;Matt Bomer, &apos;, &apos;Karen Robinson, &apos;, &apos;Ali Stroker&apos;]</td><td style = \"text-align: left;\">9,383</td></tr><tr><td class = \"rowNumber\" style = \"font-weight: bold; text-align: right;\">9947</td><td style = \"text-align: left;\">The Gray Man</td><td style = \"text-align: left;\">(2022)</td><td style = \"text-align: left;\">PG-13</td><td style = \"text-align: left;\">122 min</td><td style = \"text-align: left;\">Action, Thriller</td><td style = \"text-align: right;\">6.5</td><td style = \"text-align: left;\">When the CIA&apos;s most skilled operative-whose true identity is known to none-accidentally uncovers dark agency secrets, a psychopathic former colleague puts a bounty on his head, setting off a global manhunt by international assassins.</td><td style = \"text-align: left;\">[&apos;Anthony Russo, &apos;, &apos;Joe Russo&apos;, &apos;| &apos;, &apos;    Stars:&apos;, &apos;Ryan Gosling, &apos;, &apos;Chris Evans, &apos;, &apos;Ana de Armas, &apos;, &apos;Billy Bob Thornton&apos;]</td><td style = \"text-align: left;\">172,166</td></tr><tr><td class = \"rowNumber\" style = \"font-weight: bold; text-align: right;\">9948</td><td style = \"text-align: left;\">Black Mirror</td><td style = \"text-align: left;\">(2011–2019)</td><td style = \"text-align: left;\">TV-MA</td><td style = \"text-align: left;\">60 min</td><td style = \"text-align: left;\">Drama, Mystery, Sci-Fi</td><td style = \"text-align: right;\">8.8</td><td style = \"text-align: left;\">An anthology series exploring a twisted, high-tech multiverse where humanity&apos;s greatest innovations and darkest instincts collide.</td><td style = \"text-align: left;\">[&apos;Daniel Lapaine, &apos;, &apos;Hannah John-Kamen, &apos;, &apos;Michaela Coel, &apos;, &apos;Beatrice Robertson-Jones&apos;]</td><td style = \"text-align: left;\">535,785</td></tr><tr><td class = \"rowNumber\" style = \"font-weight: bold; text-align: right;\">9949</td><td style = \"text-align: left;\">Stranger Things</td><td style = \"text-align: left;\">(2016– )</td><td style = \"text-align: left;\">TV-14</td><td style = \"text-align: left;\">51 min</td><td style = \"text-align: left;\">Drama, Fantasy, Horror</td><td style = \"text-align: right;\">8.7</td><td style = \"text-align: left;\">When a young boy disappears, his mother, a police chief and his friends must confront terrifying supernatural forces in order to get him back.</td><td style = \"text-align: left;\">[&apos;Millie Bobby Brown, &apos;, &apos;Finn Wolfhard, &apos;, &apos;Winona Ryder, &apos;, &apos;Caleb McLaughlin&apos;]</td><td style = \"text-align: left;\">1,149,902</td></tr><tr><td class = \"rowNumber\" style = \"font-weight: bold; text-align: right;\">9950</td><td style = \"text-align: left;\">The Blacklist</td><td style = \"text-align: left;\">(2013– )</td><td style = \"text-align: left;\">TV-14</td><td style = \"text-align: left;\">43 min</td><td style = \"text-align: left;\">Crime, Drama, Mystery</td><td style = \"text-align: right;\">8.0</td><td style = \"text-align: left;\">A new FBI profiler, Elizabeth Keen, has her entire life uprooted when a mysterious criminal, Raymond Reddington, who has eluded capture for decades, turns himself in and insists on speaking only to her.</td><td style = \"text-align: left;\">[&apos;James Spader, &apos;, &apos;Megan Boone, &apos;, &apos;Diego Klattenhoff, &apos;, &apos;Ryan Eggold&apos;]</td><td style = \"text-align: left;\">245,592</td></tr><tr><td class = \"rowNumber\" style = \"font-weight: bold; text-align: right;\">9951</td><td style = \"text-align: left;\">American Horror Story</td><td style = \"text-align: left;\">(2011– )</td><td style = \"text-align: left;\">TV-MA</td><td style = \"text-align: left;\">60 min</td><td style = \"text-align: left;\">Drama, Horror, Sci-Fi</td><td style = \"text-align: right;\">8.0</td><td style = \"text-align: left;\">An anthology series centering on different characters and locations, including a house with a murderous past, an insane asylum, a witch coven, a freak show circus, a haunted hotel, a possessed farmhouse, a cult, the apocalypse, a slasher summer camp, and a bleak beach town and desert valley.</td><td style = \"text-align: left;\">[&apos;Lady Gaga, &apos;, &apos;Kathy Bates, &apos;, &apos;Angela Bassett, &apos;, &apos;Sarah Paulson&apos;]</td><td style = \"text-align: left;\">312,974</td></tr><tr><td class = \"rowNumber\" style = \"font-weight: bold; text-align: right;\">9952</td><td style = \"text-align: left;\">Breaking Bad</td><td style = \"text-align: left;\">(2008–2013)</td><td style = \"text-align: left;\">TV-MA</td><td style = \"text-align: left;\">49 min</td><td style = \"text-align: left;\">Crime, Drama, Thriller</td><td style = \"text-align: right;\">9.5</td><td style = \"text-align: left;\">A high school chemistry teacher diagnosed with inoperable lung cancer turns to manufacturing and selling methamphetamine in order to secure his family&apos;s future.</td><td style = \"text-align: left;\">[&apos;Bryan Cranston, &apos;, &apos;Aaron Paul, &apos;, &apos;Anna Gunn, &apos;, &apos;Betsy Brandt&apos;]</td><td style = \"text-align: left;\">1,831,359</td></tr><tr><td class = \"rowNumber\" style = \"font-weight: bold; text-align: right;\">9953</td><td style = \"text-align: left;\">The Imperfects</td><td style = \"text-align: left;\">(2022– )</td><td style = \"text-align: left;\">TV-MA</td><td style = \"text-align: left;\">45 min</td><td style = \"text-align: left;\">Action, Adventure, Drama</td><td style = \"text-align: right;\">6.3</td><td style = \"text-align: left;\">After an experimental gene therapy turns them into monsters, three twenty-somethings band together to hunt down the scientist responsible and force him to make them human again.</td><td style = \"text-align: left;\">[&apos;Morgan Taylor Campbell, &apos;, &apos;Italia Ricci, &apos;, &apos;Rhianna Jagpal, &apos;, &apos;Iñaki Godoy&apos;]</td><td style = \"text-align: left;\">3,130</td></tr><tr><td class = \"rowNumber\" style = \"font-weight: bold; text-align: right;\">9954</td><td style = \"text-align: left;\">The Walking Dead</td><td style = \"text-align: left;\">(2010–2022)</td><td style = \"text-align: left;\">TV-MA</td><td style = \"text-align: left;\">44 min</td><td style = \"text-align: left;\">Drama, Horror, Thriller</td><td style = \"text-align: right;\">8.1</td><td style = \"text-align: left;\">Sheriff Deputy Rick Grimes wakes up from a coma to learn the world is in ruins and must lead a group of survivors to stay alive.</td><td style = \"text-align: left;\">[&apos;Andrew Lincoln, &apos;, &apos;Norman Reedus, &apos;, &apos;Melissa McBride, &apos;, &apos;Lauren Cohan&apos;]</td><td style = \"text-align: left;\">970,067</td></tr><tr><td class = \"rowNumber\" style = \"font-weight: bold; text-align: right;\">9955</td><td style = \"text-align: left;\">The Crown</td><td style = \"text-align: left;\">(2016– )</td><td style = \"text-align: left;\">TV-MA</td><td style = \"text-align: left;\">58 min</td><td style = \"text-align: left;\">Biography, Drama, History</td><td style = \"text-align: right;\">8.7</td><td style = \"text-align: left;\">Follows the political rivalries and romance of Queen Elizabeth II&apos;s reign and the events that shaped the second half of the twentieth century.</td><td style = \"text-align: left;\">[&apos;Claire Foy, &apos;, &apos;Olivia Colman, &apos;, &apos;Imelda Staunton, &apos;, &apos;Matt Smith&apos;]</td><td style = \"text-align: left;\">199,898</td></tr><tr><td class = \"rowNumber\" style = \"font-weight: bold; text-align: right;\">9956</td><td style = \"text-align: left;\">Supernatural</td><td style = \"text-align: left;\">(2005–2020)</td><td style = \"text-align: left;\">TV-14</td><td style = \"text-align: left;\">44 min</td><td style = \"text-align: left;\">Drama, Fantasy, Horror</td><td style = \"text-align: right;\">8.4</td><td style = \"text-align: left;\">Two brothers follow their father&apos;s footsteps as hunters, fighting evil supernatural beings of many kinds, including monsters, demons and gods that roam the earth.</td><td style = \"text-align: left;\">[&apos;Jared Padalecki, &apos;, &apos;Jensen Ackles, &apos;, &apos;Jim Beaver, &apos;, &apos;Misha Collins&apos;]</td><td style = \"text-align: left;\">439,601</td></tr><tr><td class = \"rowNumber\" style = \"font-weight: bold; text-align: right;\">9957</td><td style = \"text-align: left;\">Devil in Ohio</td><td style = \"text-align: left;\">(2022)</td><td style = \"text-align: left;\">TV-MA</td><td style = \"text-align: left;\">356 min</td><td style = \"text-align: left;\">Drama, Horror, Mystery</td><td style = \"text-align: right;\">5.9</td><td style = \"text-align: left;\">When a psychiatrist shelters a mysterious cult escapee, her world is turned upside down as the girl&apos;s arrival threatens to tear her own family apart.</td><td style = \"text-align: left;\">[&apos;Emily Deschanel, &apos;, &apos;Sam Jaeger, &apos;, &apos;Gerardo Celasco, &apos;, &apos;Madeleine Arthur&apos;]</td><td style = \"text-align: left;\">9,786</td></tr></tbody></table></div>"
      ],
      "text/latex": [
       "\\begin{tabular}{r|ccccc}\n",
       "\t& title & year & certificate & duration & \\\\\n",
       "\t\\hline\n",
       "\t& String & String31? & String15? & String7? & \\\\\n",
       "\t\\hline\n",
       "\t1 & Cobra Kai & (2018– ) & TV-14 & 30 min & $\\dots$ \\\\\n",
       "\t2 & The Crown & (2016– ) & TV-MA & 58 min & $\\dots$ \\\\\n",
       "\t3 & Better Call Saul & (2015–2022) & TV-MA & 46 min & $\\dots$ \\\\\n",
       "\t4 & Devil in Ohio & (2022) & TV-MA & 356 min & $\\dots$ \\\\\n",
       "\t5 & Cyberpunk: Edgerunners & (2022– ) & TV-MA & 24 min & $\\dots$ \\\\\n",
       "\t6 & The Sandman & (2022– ) & TV-MA & 45 min & $\\dots$ \\\\\n",
       "\t7 & Rick and Morty & (2013– ) & TV-MA & 23 min & $\\dots$ \\\\\n",
       "\t8 & Breaking Bad & (2008–2013) & TV-MA & 49 min & $\\dots$ \\\\\n",
       "\t9 & The Imperfects & (2022– ) & TV-MA & 45 min & $\\dots$ \\\\\n",
       "\t10 & Blonde & (2022) & NC-17 & 166 min & $\\dots$ \\\\\n",
       "\t11 & Stranger Things & (2016– ) & TV-14 & 51 min & $\\dots$ \\\\\n",
       "\t12 & End of the Road & (II) (2022) & R & 89 min & $\\dots$ \\\\\n",
       "\t13 & The Walking Dead & (2010–2022) & TV-MA & 44 min & $\\dots$ \\\\\n",
       "\t14 & Glass Onion: A Knives Out Mystery & (2022) & PG-13 & 139 min & $\\dots$ \\\\\n",
       "\t15 & Do Revenge & (2022) & TV-MA & 118 min & $\\dots$ \\\\\n",
       "\t16 & I Came By & (2022) & TV-MA & 110 min & $\\dots$ \\\\\n",
       "\t17 & No Limit & (2022) & TV-MA & 118 min & $\\dots$ \\\\\n",
       "\t18 & 1899 & (2022– ) & \\emph{missing} & 60 min & $\\dots$ \\\\\n",
       "\t19 & Peaky Blinders & (2013–2022) & TV-MA & 60 min & $\\dots$ \\\\\n",
       "\t20 & Fate: The Winx Saga & (2021– ) & TV-MA & \\emph{missing} & $\\dots$ \\\\\n",
       "\t21 & The Lord of the Rings: The Fellowship of the Ring & (2001) & PG-13 & 178 min & $\\dots$ \\\\\n",
       "\t22 & Grey's Anatomy & (2005– ) & TV-14 & 41 min & $\\dots$ \\\\\n",
       "\t23 & Supernatural & (2005–2020) & TV-14 & 44 min & $\\dots$ \\\\\n",
       "\t24 & American Horror Story & (2011– ) & TV-MA & 60 min & $\\dots$ \\\\\n",
       "\t$\\dots$ & $\\dots$ & $\\dots$ & $\\dots$ & $\\dots$ &  \\\\\n",
       "\\end{tabular}\n"
      ],
      "text/plain": [
       "\u001b[1m9957×9 DataFrame\u001b[0m\n",
       "\u001b[1m  Row \u001b[0m│\u001b[1m title                  \u001b[0m\u001b[1m year        \u001b[0m\u001b[1m certificate \u001b[0m\u001b[1m duration \u001b[0m\u001b[1m genre     \u001b[0m ⋯\n",
       "      │\u001b[90m String                 \u001b[0m\u001b[90m String31?   \u001b[0m\u001b[90m String15?   \u001b[0m\u001b[90m String7? \u001b[0m\u001b[90m String?   \u001b[0m ⋯\n",
       "──────┼─────────────────────────────────────────────────────────────────────────\n",
       "    1 │ Cobra Kai               (2018– )     TV-14        30 min    Action, Co ⋯\n",
       "    2 │ The Crown               (2016– )     TV-MA        58 min    Biography,\n",
       "    3 │ Better Call Saul        (2015–2022)  TV-MA        46 min    Crime, Dra\n",
       "    4 │ Devil in Ohio           (2022)       TV-MA        356 min   Drama, Hor\n",
       "    5 │ Cyberpunk: Edgerunners  (2022– )     TV-MA        24 min    Animation, ⋯\n",
       "    6 │ The Sandman             (2022– )     TV-MA        45 min    Drama, Fan\n",
       "    7 │ Rick and Morty          (2013– )     TV-MA        23 min    Animation,\n",
       "    8 │ Breaking Bad            (2008–2013)  TV-MA        49 min    Crime, Dra\n",
       "  ⋮   │           ⋮                  ⋮            ⋮          ⋮                 ⋱\n",
       " 9951 │ American Horror Story   (2011– )     TV-MA        60 min    Drama, Hor ⋯\n",
       " 9952 │ Breaking Bad            (2008–2013)  TV-MA        49 min    Crime, Dra\n",
       " 9953 │ The Imperfects          (2022– )     TV-MA        45 min    Action, Ad\n",
       " 9954 │ The Walking Dead        (2010–2022)  TV-MA        44 min    Drama, Hor\n",
       " 9955 │ The Crown               (2016– )     TV-MA        58 min    Biography, ⋯\n",
       " 9956 │ Supernatural            (2005–2020)  TV-14        44 min    Drama, Fan\n",
       " 9957 │ Devil in Ohio           (2022)       TV-MA        356 min   Drama, Hor\n",
       "\u001b[36m                                                 5 columns and 9942 rows omitted\u001b[0m"
      ]
     },
     "metadata": {},
     "output_type": "display_data"
    }
   ],
   "source": [
    "m = CSV.read(\"../data/IMBD.csv\", DataFrame)"
   ]
  },
  {
   "cell_type": "code",
   "execution_count": null,
   "metadata": {},
   "outputs": [],
   "source": []
  }
 ],
 "metadata": {
  "kernelspec": {
   "display_name": "Julia 1.11.4",
   "language": "julia",
   "name": "julia-1.11"
  },
  "language_info": {
   "file_extension": ".jl",
   "mimetype": "application/julia",
   "name": "julia",
   "version": "1.11.4"
  }
 },
 "nbformat": 4,
 "nbformat_minor": 2
}
