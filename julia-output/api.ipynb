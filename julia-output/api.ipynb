{
 "cells": [
  {
   "cell_type": "code",
   "execution_count": 1,
   "metadata": {},
   "outputs": [
    {
     "data": {
      "text/plain": [
       "\"{\\n\\\"first_name\\\": \\\"Homer\\\",\\n\\\"last_name\\\": \\\"Simpson\\\",\\n\\\"age\\\":45,\\n\\\"phones\\\": [\\n    {\\\"number\\\": \\\"987-555-1234\\\", \\\"type\\\": \\\"home\\\"},\\n    {\\\"number\\\": \\\"987-555-1212\\\", \\\"type\\\": \\\"cell\\\"}\\n  ],\\n  \\\"home_address\\\": {\\n    \\\"street\\\": \\\"742 Evergreen Terrace\\\",\\n    \\\"city\\\": \\\"Springfield\\\"\\n  },\\n  \\\"work_address\\\": {\\n    \\\"street\\\": \\\"10 Power Plant Lane\\\",\\n    \\\"city\\\": \\\"Springfield\\\"\\n  }\\n  }\\n  \""
      ]
     },
     "metadata": {},
     "output_type": "display_data"
    }
   ],
   "source": [
    "str = \"\"\"\n",
    "{\n",
    "\"first_name\": \"Homer\",\n",
    "\"last_name\": \"Simpson\",\n",
    "\"age\":45,\n",
    "\"phones\": [\n",
    "    {\"number\": \"987-555-1234\", \"type\": \"home\"},\n",
    "    {\"number\": \"987-555-1212\", \"type\": \"cell\"}\n",
    "  ],\n",
    "  \"home_address\": {\n",
    "    \"street\": \"742 Evergreen Terrace\",\n",
    "    \"city\": \"Springfield\"\n",
    "  },\n",
    "  \"work_address\": {\n",
    "    \"street\": \"10 Power Plant Lane\",\n",
    "    \"city\": \"Springfield\"\n",
    "  }\n",
    "  }\n",
    "  \"\"\"\n"
   ]
  },
  {
   "cell_type": "code",
   "execution_count": 2,
   "metadata": {},
   "outputs": [],
   "source": [
    "using JSON"
   ]
  },
  {
   "cell_type": "code",
   "execution_count": 3,
   "metadata": {},
   "outputs": [
    {
     "data": {
      "text/plain": [
       "Dict{String, Any} with 6 entries:\n",
       "  \"first_name\"   => \"Homer\"\n",
       "  \"home_address\" => Dict{String, Any}(\"city\"=>\"Springfield\", \"street\"=>\"742 Eve…\n",
       "  \"phones\"       => Any[Dict{String, Any}(\"number\"=>\"987-555-1234\", \"type\"=>\"ho…\n",
       "  \"work_address\" => Dict{String, Any}(\"city\"=>\"Springfield\", \"street\"=>\"10 Powe…\n",
       "  \"last_name\"    => \"Simpson\"\n",
       "  \"age\"          => 45"
      ]
     },
     "metadata": {},
     "output_type": "display_data"
    }
   ],
   "source": [
    "j = JSON.parse(str)"
   ]
  },
  {
   "cell_type": "code",
   "execution_count": 4,
   "metadata": {},
   "outputs": [
    {
     "data": {
      "text/plain": [
       "Dict{String, Vector{Dict{String, String}}} with 1 entry:\n",
       "  \"items\" => [Dict(\"name\"=>\"hamburger\", \"price\"=>\"10.99\", \"type\"=>\"sandwich\"), …"
      ]
     },
     "metadata": {},
     "output_type": "display_data"
    }
   ],
   "source": [
    "menu = Dict(\"items\" => [\n",
    "  Dict(\"name\" => \"hamburger\", \"type\" => \"sandwich\", \"price\" => \"10.99\"),\n",
    "  Dict(\"name\" => \"Club Sandwich\", \"type\" => \"sandwich\", \"price\" => \"12.99\"),\n",
    "  Dict(\"name\" => \"spaghetti\", \"type\" => \"main\", \"price\" => \"14.99\"),\n",
    "  Dict(\"name\" => \"Caeasar Salad\", \"type\" => \"salad\", \"price\" => \"7.99\"),\n",
    "  Dict(\"name\" => \"Chococate Ice Cream\", \"type\" => \"dessert\", \"price\" => \"6.99\"),\n",
    "])"
   ]
  },
  {
   "cell_type": "code",
   "execution_count": 5,
   "metadata": {},
   "outputs": [
    {
     "data": {
      "text/plain": [
       "\"{\\\"items\\\":[{\\\"name\\\":\\\"hamburger\\\",\\\"price\\\":\\\"10.99\\\",\\\"type\\\":\\\"sandwich\\\"},{\\\"name\\\":\\\"Club Sandwich\\\",\\\"price\\\":\\\"12.99\\\",\\\"type\\\":\\\"sandwich\\\"},{\\\"name\\\":\\\"spaghetti\\\",\\\"price\\\":\\\"14.99\\\",\\\"type\\\":\\\"main\\\"},{\\\"name\\\":\\\"Caeasar Salad\\\",\\\"price\\\":\\\"7.99\\\",\\\"type\\\":\\\"salad\\\"},{\\\"name\\\":\\\"Chococate Ice Cream\\\",\\\"price\\\":\\\"6.99\\\",\\\"type\\\":\\\"dessert\\\"}]}\""
      ]
     },
     "metadata": {},
     "output_type": "display_data"
    }
   ],
   "source": [
    "json_menu = JSON.json(menu)"
   ]
  },
  {
   "cell_type": "code",
   "execution_count": 8,
   "metadata": {},
   "outputs": [],
   "source": [
    "using PrettyPrint, Downloads, JSON"
   ]
  },
  {
   "cell_type": "code",
   "execution_count": 7,
   "metadata": {},
   "outputs": [
    {
     "name": "stdout",
     "output_type": "stream",
     "text": [
      "{\n",
      "  \"items\" : [\n",
      "              {\"name\" : \"hamburger\", \n",
      "               \"price\" : \"10.99\", \n",
      "               \"type\" : \"sandwich\"},\n",
      "              {\"name\" : \"Club Sandwich\", \n",
      "               \"price\" : \"12.99\", \n",
      "               \"type\" : \"sandwich\"},\n",
      "              {\"name\" : \"spaghetti\", \n",
      "               \"price\" : \"14.99\", \n",
      "               \"type\" : \"main\"},\n",
      "              {\"name\" : \"Caeasar Salad\", \n",
      "               \"price\" : \"7.99\", \n",
      "               \"type\" : \"salad\"},\n",
      "              {\"name\" : \"Chococate Ice Cream\", \n",
      "               \"price\" : \"6.99\", \n",
      "               \"type\" : \"dessert\"},\n",
      "            ],\n",
      "}\n"
     ]
    }
   ],
   "source": [
    "pprintln(menu)"
   ]
  },
  {
   "cell_type": "code",
   "execution_count": 9,
   "metadata": {},
   "outputs": [
    {
     "data": {
      "text/plain": [
       "\"https://geocoding.geo.census.gov/geocoder/locations/address?street=80+Causeway+St&city=Boston&state=MA&zip=02114&benchmark=Public_AR_Current&format=json\""
      ]
     },
     "metadata": {},
     "output_type": "display_data"
    }
   ],
   "source": [
    "url = \"https://geocoding.geo.census.gov/geocoder/locations/address?street=80+Causeway+St&city=Boston&state=MA&zip=02114&benchmark=Public_AR_Current&format=json\""
   ]
  },
  {
   "cell_type": "code",
   "execution_count": 9,
   "metadata": {},
   "outputs": [
    {
     "data": {
      "text/plain": [
       "Response(\"https\", \"https://geocoding.geo.census.gov/geocoder/locations/address?street=80+Causeway+St&city=Boston&state=MA&zip=02114&benchmark=Public_AR_Current&format=json\", 200, \"HTTP/1.1 200\", [\"date\" => \"Fri, 13 Dec 2024 12:09:09 GMT\", \"content-type\" => \"application/json\", \"content-length\" => \"661\", \"connection\" => \"keep-alive\", \"x-frame-options\" => \"DENY\", \"cache-control\" => \"private, no-store\", \"strict-transport-security\" => \"max-age=31536000\", \"x-content-type-options\" => \"nosniff\", \"x-xss-protection\" => \"1;mode=block\", \"vary\" => \"Origin\", \"set-cookie\" => \"TS0193e6a1=01283c52a4cbdf5237af23885729e5ac8e298ee76c0ca7352af42727cf0a7d6f4b865b59d9d4e0c53d44c01d7e60d744831076a7ee; Path=/; Domain=.geocoding.geo.census.gov; Secure; HttpOnly;\"])"
      ]
     },
     "metadata": {},
     "output_type": "display_data"
    }
   ],
   "source": [
    "a = Downloads.request(url, output = \"tdgarden.json\")"
   ]
  },
  {
   "cell_type": "code",
   "execution_count": 10,
   "metadata": {},
   "outputs": [
    {
     "data": {
      "text/plain": [
       "Dict{String, Any} with 1 entry:\n",
       "  \"result\" => Dict{String, Any}(\"addressMatches\"=>Any[Dict{String, Any}(\"tigerL…"
      ]
     },
     "metadata": {},
     "output_type": "display_data"
    }
   ],
   "source": [
    "j = JSON.parsefile(\"tdgarden.json\")"
   ]
  },
  {
   "cell_type": "code",
   "execution_count": 11,
   "metadata": {},
   "outputs": [
    {
     "name": "stdout",
     "output_type": "stream",
     "text": [
      "{\n",
      "  \"result\" : {\n",
      "               \"addressMatches\" : [\n",
      "                                    {\n",
      "                                      \"tigerLine\" : {\"side\" : \"L\", \n",
      "                                                     \"tigerLineId\" : \"85709714\"},\n",
      "                                      \"coordinates\" : {\"x\" : -71.063299192963, \n",
      "                                                       \"y\" : 42.364398683584},\n",
      "                                      \"addressComponents\" : {\"toAddress\" : \"50\", \n",
      "                                                             \"preQualifier\" : \"\", \n",
      "                                                             \"zip\" : \"02114\", \n",
      "                                                             \"state\" : \"MA\", \n",
      "                                                             \"preType\" : \"\", \n",
      "                                                             \"streetName\" : \"CAUSEWAY\", \n",
      "                                                             \"suffixType\" : \"ST\", \n",
      "                                                             \"preDirection\" : \"\", \n",
      "                                                             \"city\" : \"BOSTON\", \n",
      "                                                             \"suffixQualifier\" : \"\", \n",
      "                                                             \"suffixDirection\" : \"\", \n",
      "                                                             \"fromAddress\" : \"98\"},\n",
      "                                      \"matchedAddress\" : \"80 CAUSEWAY ST, BOSTON, MA, 02114\",\n",
      "                                    },\n",
      "                                  ],\n",
      "               \"input\" : {\n",
      "                           \"benchmark\" : {\"benchmarkName\" : \"Public_AR_Current\", \n",
      "                                          \"isDefault\" : true, \n",
      "                                          \"benchmarkDescription\" : \"Public Address Ranges - Current Benchmark\", \n",
      "                                          \"id\" : \"4\"},\n",
      "                           \"address\" : {\"city\" : \"Boston\", \n",
      "                                        \"zip\" : \"02114\", \n",
      "                                        \"street\" : \"80 Causeway St\", \n",
      "                                        \"state\" : \"MA\"},\n",
      "                         },\n",
      "             },\n",
      "}\n"
     ]
    }
   ],
   "source": [
    "pprintln(j)"
   ]
  },
  {
   "cell_type": "code",
   "execution_count": 12,
   "metadata": {},
   "outputs": [
    {
     "data": {
      "text/plain": [
       "Dict{String, Any} with 2 entries:\n",
       "  \"x\" => -71.0633\n",
       "  \"y\" => 42.3644"
      ]
     },
     "metadata": {},
     "output_type": "display_data"
    }
   ],
   "source": [
    "j[\"result\"][\"addressMatches\"][1][\"coordinates\"]"
   ]
  },
  {
   "cell_type": "code",
   "execution_count": 18,
   "metadata": {},
   "outputs": [
    {
     "data": {
      "text/plain": [
       "Dict{String, Any} with 2 entries:\n",
       "  \"x\" => -71.0633\n",
       "  \"y\" => 42.3644"
      ]
     },
     "metadata": {},
     "output_type": "display_data"
    }
   ],
   "source": [
    "j[\"result\"][\"addressMatches\"][1][\"coordinates\"]"
   ]
  },
  {
   "cell_type": "code",
   "execution_count": 20,
   "metadata": {},
   "outputs": [],
   "source": [
    "struct Address\n",
    "  street::String\n",
    "  city::String\n",
    "  state::String\n",
    "  zip::String\n",
    "end"
   ]
  },
  {
   "cell_type": "code",
   "execution_count": 38,
   "metadata": {},
   "outputs": [
    {
     "data": {
      "text/plain": [
       "getCoordinates (generic function with 1 method)"
      ]
     },
     "metadata": {},
     "output_type": "display_data"
    }
   ],
   "source": [
    "function getCoordinates(add::Address)\n",
    "  fields = String[]\n",
    "  !isnothing(add.street) && push!(fields, \"street=$(replace(add.street,\" \" => \"+\"))\")\n",
    "  !isnothing(add.city) && push!(fields, \"city=$(replace(add.city,\" \" => \"+\"))\")\n",
    "  !isnothing(add.state) && push!(fields, \"state=$(add.state)\")\n",
    "  !isnothing(add.zip) && push!(fields, \"zip=$(add.zip)\")\n",
    "  url = \"https://geocoding.geo.census.gov/geocoder/locations/address?\" * join(fields,\"&\") * \"&benchmark=Public_AR_Current&format=json\"\n",
    "  Downloads.request(url, output = \"location.json\")\n",
    "  j = JSON.parsefile(\"location.json\")\n",
    "  j[\"result\"][\"addressMatches\"][1][\"coordinates\"]\n",
    "end"
   ]
  },
  {
   "cell_type": "code",
   "execution_count": 39,
   "metadata": {},
   "outputs": [
    {
     "data": {
      "text/plain": [
       "Dict{String, Any} with 2 entries:\n",
       "  \"x\" => -71.1149\n",
       "  \"y\" => 42.3228"
      ]
     },
     "metadata": {},
     "output_type": "display_data"
    }
   ],
   "source": [
    "getCoordinates(Address(\"6 Parkwood Ter\", \"Boston\" , \"MA\", \"02130\"  ))"
   ]
  },
  {
   "cell_type": "code",
   "execution_count": null,
   "metadata": {},
   "outputs": [],
   "source": []
  }
 ],
 "metadata": {
  "kernelspec": {
   "display_name": "Julia 1.11.2",
   "language": "julia",
   "name": "julia-1.11"
  },
  "language_info": {
   "file_extension": ".jl",
   "mimetype": "application/julia",
   "name": "julia",
   "version": "1.11.2"
  }
 },
 "nbformat": 4,
 "nbformat_minor": 2
}
