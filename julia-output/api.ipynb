{
 "cells": [
  {
   "cell_type": "code",
   "execution_count": 1,
   "metadata": {},
   "outputs": [
    {
     "data": {
      "text/plain": [
       "\"{\\n\\\"first_name\\\": \\\"Homer\\\",\\n\\\"last_name\\\": \\\"Simpson\\\",\\n\\\"age\\\":45,\\n\\\"phones\\\": [\\n    {\\\"number\\\": \\\"987-555-1234\\\", \\\"type\\\": \\\"home\\\"},\\n    {\\\"number\\\": \\\"987-555-1212\\\", \\\"type\\\": \\\"cell\\\"}\\n  ],\\n  \\\"home_address\\\": {\\n    \\\"street\\\": \\\"742 Evergreen Terrace\\\",\\n    \\\"city\\\": \\\"Springfield\\\"\\n  },\\n  \\\"work_address\\\": {\\n    \\\"street\\\": \\\"10 Power Plant Lane\\\",\\n    \\\"city\\\": \\\"Springfield\\\"\\n  }\\n  }\\n  \""
      ]
     },
     "metadata": {},
     "output_type": "display_data"
    }
   ],
   "source": [
    "str = \"\"\"\n",
    "{\n",
    "\"first_name\": \"Homer\",\n",
    "\"last_name\": \"Simpson\",\n",
    "\"age\":45,\n",
    "\"phones\": [\n",
    "    {\"number\": \"987-555-1234\", \"type\": \"home\"},\n",
    "    {\"number\": \"987-555-1212\", \"type\": \"cell\"}\n",
    "  ],\n",
    "  \"home_address\": {\n",
    "    \"street\": \"742 Evergreen Terrace\",\n",
    "    \"city\": \"Springfield\"\n",
    "  },\n",
    "  \"work_address\": {\n",
    "    \"street\": \"10 Power Plant Lane\",\n",
    "    \"city\": \"Springfield\"\n",
    "  }\n",
    "  }\n",
    "  \"\"\"\n"
   ]
  },
  {
   "cell_type": "code",
   "execution_count": 2,
   "metadata": {},
   "outputs": [],
   "source": [
    "using JSON"
   ]
  },
  {
   "cell_type": "code",
   "execution_count": 3,
   "metadata": {},
   "outputs": [
    {
     "data": {
      "text/plain": [
       "Dict{String, Any} with 6 entries:\n",
       "  \"first_name\"   => \"Homer\"\n",
       "  \"home_address\" => Dict{String, Any}(\"city\"=>\"Springfield\", \"street\"=>\"742 Eve…\n",
       "  \"phones\"       => Any[Dict{String, Any}(\"number\"=>\"987-555-1234\", \"type\"=>\"ho…\n",
       "  \"work_address\" => Dict{String, Any}(\"city\"=>\"Springfield\", \"street\"=>\"10 Powe…\n",
       "  \"last_name\"    => \"Simpson\"\n",
       "  \"age\"          => 45"
      ]
     },
     "metadata": {},
     "output_type": "display_data"
    }
   ],
   "source": [
    "j = JSON.parse(str)"
   ]
  },
  {
   "cell_type": "code",
   "execution_count": 6,
   "metadata": {},
   "outputs": [
    {
     "data": {
      "text/plain": [
       "Dict{String, Vector{Dict{String, String}}} with 1 entry:\n",
       "  \"items\" => [Dict(\"name\"=>\"hamburger\", \"price\"=>\"10.99\", \"type\"=>\"sandwich\"), …"
      ]
     },
     "metadata": {},
     "output_type": "display_data"
    }
   ],
   "source": [
    "menu = Dict(\"items\" => [\n",
    "  Dict(\"name\" => \"hamburger\", \"type\" => \"sandwich\", \"price\" => \"10.99\"),\n",
    "  Dict(\"name\" => \"Club Sandwich\", \"type\" => \"sandwich\", \"price\" => \"12.99\"),\n",
    "  Dict(\"name\" => \"spaghetti\", \"type\" => \"main\", \"price\" => \"14.99\"),\n",
    "  Dict(\"name\" => \"Caeasar Salad\", \"type\" => \"salad\", \"price\" => \"7.99\"),\n",
    "  Dict(\"name\" => \"Chococate Ice Cream\", \"type\" => \"dessert\", \"price\" => \"6.99\"),\n",
    "])"
   ]
  },
  {
   "cell_type": "code",
   "execution_count": 7,
   "metadata": {},
   "outputs": [
    {
     "data": {
      "text/plain": [
       "\"{\\\"items\\\":[{\\\"name\\\":\\\"hamburger\\\",\\\"price\\\":\\\"10.99\\\",\\\"type\\\":\\\"sandwich\\\"},{\\\"name\\\":\\\"Club Sandwich\\\",\\\"price\\\":\\\"12.99\\\",\\\"type\\\":\\\"sandwich\\\"},{\\\"name\\\":\\\"spaghetti\\\",\\\"price\\\":\\\"14.99\\\",\\\"type\\\":\\\"main\\\"},{\\\"name\\\":\\\"Caeasar Salad\\\",\\\"price\\\":\\\"7.99\\\",\\\"type\\\":\\\"salad\\\"},{\\\"name\\\":\\\"Chococate Ice Cream\\\",\\\"price\\\":\\\"6.99\\\",\\\"type\\\":\\\"dessert\\\"}]}\""
      ]
     },
     "metadata": {},
     "output_type": "display_data"
    }
   ],
   "source": [
    "JSON.json(menu)"
   ]
  },
  {
   "cell_type": "code",
   "execution_count": 3,
   "metadata": {},
   "outputs": [
    {
     "data": {
      "text/plain": [
       "\"/var/folders/f1/91842b0j29ncg7q803d3lvbr0000gp/T/jl_A9Qrel63gZ\""
      ]
     },
     "metadata": {},
     "output_type": "display_data"
    }
   ],
   "source": [
    "Downloads.download(\"https://www.apple.com\")"
   ]
  },
  {
   "cell_type": "code",
   "execution_count": 12,
   "metadata": {},
   "outputs": [],
   "source": [
    "using Downloads, JSON"
   ]
  },
  {
   "cell_type": "code",
   "execution_count": 8,
   "metadata": {},
   "outputs": [
    {
     "data": {
      "text/plain": [
       "\"https://geocoding.geo.census.gov/geocoder/locations/address?street=80+Causeway+St&city=Boston&state=MA&zip=02114&benchmark=Public_AR_Current&format=json\""
      ]
     },
     "metadata": {},
     "output_type": "display_data"
    }
   ],
   "source": [
    "url = \"https://geocoding.geo.census.gov/geocoder/locations/address?street=80+Causeway+St&city=Boston&state=MA&zip=02114&benchmark=Public_AR_Current&format=json\""
   ]
  },
  {
   "cell_type": "code",
   "execution_count": 10,
   "metadata": {},
   "outputs": [
    {
     "data": {
      "text/plain": [
       "Response(\"https\", \"https://geocoding.geo.census.gov/geocoder/locations/address?street=80+Causeway+St&city=Boston&state=MA&zip=02114&benchmark=Public_AR_Current&format=json\", 200, \"HTTP/1.1 200\", [\"date\" => \"Fri, 04 Oct 2024 16:06:49 GMT\", \"content-type\" => \"application/json\", \"content-length\" => \"665\", \"connection\" => \"keep-alive\", \"x-frame-options\" => \"DENY\", \"cache-control\" => \"private, no-store\", \"strict-transport-security\" => \"max-age=31536000\", \"x-content-type-options\" => \"nosniff\", \"x-xss-protection\" => \"1;mode=block\", \"vary\" => \"Origin\", \"set-cookie\" => \"TS0193e6a1=01283c52a41542471d4ff243c8d16cebe551e10c3dba570e722eacb05de5f7aab572476a5ecf567936e33079d66b18cc506edd01fd; Path=/; Domain=.geocoding.geo.census.gov; Secure; HttpOnly;\"])"
      ]
     },
     "metadata": {},
     "output_type": "display_data"
    }
   ],
   "source": [
    "a = Downloads.request(url, output = \"tdgarden.json\")"
   ]
  },
  {
   "cell_type": "code",
   "execution_count": 14,
   "metadata": {},
   "outputs": [
    {
     "data": {
      "text/plain": [
       "Dict{String, Any} with 1 entry:\n",
       "  \"result\" => Dict{String, Any}(\"addressMatches\"=>Any[Dict{String, Any}(\"tigerL…"
      ]
     },
     "metadata": {},
     "output_type": "display_data"
    }
   ],
   "source": [
    "j = JSON.parsefile(\"tdgarden.json\")"
   ]
  },
  {
   "cell_type": "code",
   "execution_count": 17,
   "metadata": {},
   "outputs": [
    {
     "data": {
      "text/plain": [
       "Dict{String, Any} with 4 entries:\n",
       "  \"tigerLine\"         => Dict{String, Any}(\"side\"=>\"L\", \"tigerLineId\"=>\"8570971…\n",
       "  \"coordinates\"       => Dict{String, Any}(\"x\"=>-71.0633, \"y\"=>42.3644)\n",
       "  \"addressComponents\" => Dict{String, Any}(\"toAddress\"=>\"50\", \"preQualifier\"=>\"…\n",
       "  \"matchedAddress\"    => \"80 CAUSEWAY ST, BOSTON, MA, 02114\""
      ]
     },
     "metadata": {},
     "output_type": "display_data"
    }
   ],
   "source": [
    "j[\"result\"][\"addressMatches\"][1]"
   ]
  },
  {
   "cell_type": "code",
   "execution_count": 18,
   "metadata": {},
   "outputs": [
    {
     "data": {
      "text/plain": [
       "Dict{String, Any} with 2 entries:\n",
       "  \"x\" => -71.0633\n",
       "  \"y\" => 42.3644"
      ]
     },
     "metadata": {},
     "output_type": "display_data"
    }
   ],
   "source": [
    "j[\"result\"][\"addressMatches\"][1][\"coordinates\"]"
   ]
  },
  {
   "cell_type": "code",
   "execution_count": 20,
   "metadata": {},
   "outputs": [],
   "source": [
    "struct Address\n",
    "  street::String\n",
    "  city::String\n",
    "  state::String\n",
    "  zip::String\n",
    "end"
   ]
  },
  {
   "cell_type": "code",
   "execution_count": 38,
   "metadata": {},
   "outputs": [
    {
     "data": {
      "text/plain": [
       "getCoordinates (generic function with 1 method)"
      ]
     },
     "metadata": {},
     "output_type": "display_data"
    }
   ],
   "source": [
    "function getCoordinates(add::Address)\n",
    "  fields = String[]\n",
    "  !isnothing(add.street) && push!(fields, \"street=$(replace(add.street,\" \" => \"+\"))\")\n",
    "  !isnothing(add.city) && push!(fields, \"city=$(replace(add.city,\" \" => \"+\"))\")\n",
    "  !isnothing(add.state) && push!(fields, \"state=$(add.state)\")\n",
    "  !isnothing(add.zip) && push!(fields, \"zip=$(add.zip)\")\n",
    "  url = \"https://geocoding.geo.census.gov/geocoder/locations/address?\" * join(fields,\"&\") * \"&benchmark=Public_AR_Current&format=json\"\n",
    "  Downloads.request(url, output = \"location.json\")\n",
    "  j = JSON.parsefile(\"location.json\")\n",
    "  j[\"result\"][\"addressMatches\"][1][\"coordinates\"]\n",
    "end"
   ]
  },
  {
   "cell_type": "code",
   "execution_count": 39,
   "metadata": {},
   "outputs": [
    {
     "data": {
      "text/plain": [
       "Dict{String, Any} with 2 entries:\n",
       "  \"x\" => -71.1149\n",
       "  \"y\" => 42.3228"
      ]
     },
     "metadata": {},
     "output_type": "display_data"
    }
   ],
   "source": [
    "getCoordinates(Address(\"6 Parkwood Ter\", \"Boston\" , \"MA\", \"02130\"  ))"
   ]
  },
  {
   "cell_type": "code",
   "execution_count": null,
   "metadata": {},
   "outputs": [],
   "source": []
  }
 ],
 "metadata": {
  "kernelspec": {
   "display_name": "Julia 1.11.0-rc4",
   "language": "julia",
   "name": "julia-1.11"
  },
  "language_info": {
   "file_extension": ".jl",
   "mimetype": "application/julia",
   "name": "julia",
   "version": "1.11.0-rc4"
  }
 },
 "nbformat": 4,
 "nbformat_minor": 2
}
