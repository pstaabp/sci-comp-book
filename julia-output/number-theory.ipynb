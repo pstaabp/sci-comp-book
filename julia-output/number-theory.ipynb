{
 "cells": [
  {
   "cell_type": "code",
   "execution_count": 12,
   "metadata": {},
   "outputs": [],
   "source": [
    "using BenchmarkTools"
   ]
  },
  {
   "cell_type": "code",
   "execution_count": 13,
   "metadata": {},
   "outputs": [
    {
     "data": {
      "text/plain": [
       "findAllFactors (generic function with 1 method)"
      ]
     },
     "metadata": {},
     "output_type": "display_data"
    }
   ],
   "source": [
    "findAllFactors(n::Integer) = filter(k -> n % k == 0, 1:n)"
   ]
  },
  {
   "cell_type": "code",
   "execution_count": 14,
   "metadata": {},
   "outputs": [
    {
     "name": "stdout",
     "output_type": "stream",
     "text": [
      "  7.979 ms (5 allocations: 33.37 MiB)\n"
     ]
    },
    {
     "data": {
      "text/plain": [
       "160-element Vector{Int64}:\n",
       "       1\n",
       "       2\n",
       "       3\n",
       "       4\n",
       "       5\n",
       "       6\n",
       "       8\n",
       "       9\n",
       "      10\n",
       "      12\n",
       "       ⋮\n",
       "  437400\n",
       "  486000\n",
       "  546750\n",
       "  729000\n",
       "  874800\n",
       " 1093500\n",
       " 1458000\n",
       " 2187000\n",
       " 4374000"
      ]
     },
     "metadata": {},
     "output_type": "display_data"
    }
   ],
   "source": [
    "@btime findAllFactors(2^4*5^3*3^7)"
   ]
  },
  {
   "cell_type": "code",
   "execution_count": 15,
   "metadata": {},
   "outputs": [
    {
     "data": {
      "text/plain": [
       "isPrime (generic function with 1 method)"
      ]
     },
     "metadata": {},
     "output_type": "display_data"
    }
   ],
   "source": [
    "isPrime(n::Integer) = length(findAllFactors(n)) == 2"
   ]
  },
  {
   "cell_type": "code",
   "execution_count": 16,
   "metadata": {},
   "outputs": [
    {
     "data": {
      "text/plain": [
       "nextPrime (generic function with 1 method)"
      ]
     },
     "metadata": {},
     "output_type": "display_data"
    }
   ],
   "source": [
    "nextPrime(n::Integer) = isPrime(n+1) ? n+1 : nextPrime(n+1)"
   ]
  },
  {
   "cell_type": "code",
   "execution_count": 17,
   "metadata": {},
   "outputs": [
    {
     "data": {
      "text/plain": [
       "(17, 29, 1000003)"
      ]
     },
     "metadata": {},
     "output_type": "display_data"
    }
   ],
   "source": [
    "nextPrime(16), nextPrime(26), nextPrime(1_000_000)"
   ]
  },
  {
   "cell_type": "code",
   "execution_count": 4,
   "metadata": {},
   "outputs": [
    {
     "data": {
      "text/plain": [
       "true"
      ]
     },
     "metadata": {},
     "output_type": "display_data"
    }
   ],
   "source": [
    "isPrime(11)"
   ]
  },
  {
   "cell_type": "code",
   "execution_count": 56,
   "metadata": {},
   "outputs": [
    {
     "data": {
      "text/plain": [
       "getPrimes (generic function with 2 methods)"
      ]
     },
     "metadata": {},
     "output_type": "display_data"
    }
   ],
   "source": [
    "getPrimes(n) = filter(isPrime,2:n)"
   ]
  },
  {
   "cell_type": "code",
   "execution_count": 19,
   "metadata": {},
   "outputs": [
    {
     "data": {
      "text/plain": [
       "25-element Vector{Int64}:\n",
       "  2\n",
       "  3\n",
       "  5\n",
       "  7\n",
       " 11\n",
       " 13\n",
       " 17\n",
       " 19\n",
       " 23\n",
       " 29\n",
       "  ⋮\n",
       " 59\n",
       " 61\n",
       " 67\n",
       " 71\n",
       " 73\n",
       " 79\n",
       " 83\n",
       " 89\n",
       " 97"
      ]
     },
     "metadata": {},
     "output_type": "display_data"
    }
   ],
   "source": [
    "getPrimes(100)"
   ]
  },
  {
   "cell_type": "code",
   "execution_count": 40,
   "metadata": {},
   "outputs": [
    {
     "data": {
      "text/plain": [
       "getPrimes2 (generic function with 1 method)"
      ]
     },
     "metadata": {},
     "output_type": "display_data"
    }
   ],
   "source": [
    "function getPrimes2(n::Integer)\n",
    "  local primes = Int[]\n",
    "  local k = 2\n",
    "  while k < n\n",
    "    push!(primes, k)\n",
    "    k = nextPrime(k)\n",
    "  end\n",
    "  primes\n",
    "end"
   ]
  },
  {
   "cell_type": "code",
   "execution_count": 25,
   "metadata": {},
   "outputs": [
    {
     "data": {
      "text/plain": [
       "25-element Vector{Int64}:\n",
       "  2\n",
       "  3\n",
       "  5\n",
       "  7\n",
       " 11\n",
       " 13\n",
       " 17\n",
       " 19\n",
       " 23\n",
       " 29\n",
       "  ⋮\n",
       " 59\n",
       " 61\n",
       " 67\n",
       " 71\n",
       " 73\n",
       " 79\n",
       " 83\n",
       " 89\n",
       " 97"
      ]
     },
     "metadata": {},
     "output_type": "display_data"
    }
   ],
   "source": [
    "getPrimes2(100)"
   ]
  },
  {
   "cell_type": "code",
   "execution_count": 27,
   "metadata": {},
   "outputs": [
    {
     "data": {
      "text/plain": [
       "isPerfect (generic function with 1 method)"
      ]
     },
     "metadata": {},
     "output_type": "display_data"
    }
   ],
   "source": [
    "function isPerfect(n::Integer)\n",
    "  A=findAllFactors(n)\n",
    "  pop!(A)\n",
    "  sum(A)==n\n",
    "end\n"
   ]
  },
  {
   "cell_type": "code",
   "execution_count": 28,
   "metadata": {},
   "outputs": [
    {
     "data": {
      "text/plain": [
       "isPerfect2 (generic function with 1 method)"
      ]
     },
     "metadata": {},
     "output_type": "display_data"
    }
   ],
   "source": [
    "isPerfect2(n::Integer) = sum(findAllFactors(n)) == 2n"
   ]
  },
  {
   "cell_type": "code",
   "execution_count": 29,
   "metadata": {},
   "outputs": [
    {
     "name": "stdout",
     "output_type": "stream",
     "text": [
      "  0.000465 seconds (5 allocations: 781.672 KiB)\n"
     ]
    },
    {
     "data": {
      "text/plain": [
       "false"
      ]
     },
     "metadata": {},
     "output_type": "display_data"
    }
   ],
   "source": [
    "@time isPerfect(100_000)"
   ]
  },
  {
   "cell_type": "code",
   "execution_count": 30,
   "metadata": {},
   "outputs": [
    {
     "name": "stdout",
     "output_type": "stream",
     "text": [
      "  0.000187 seconds (5 allocations: 781.672 KiB)\n"
     ]
    },
    {
     "data": {
      "text/plain": [
       "false"
      ]
     },
     "metadata": {},
     "output_type": "display_data"
    }
   ],
   "source": [
    "@time isPerfect2(100_000)"
   ]
  },
  {
   "cell_type": "code",
   "execution_count": 31,
   "metadata": {},
   "outputs": [
    {
     "name": "stdout",
     "output_type": "stream",
     "text": [
      "  180.292 μs (5 allocations: 781.67 KiB)\n"
     ]
    },
    {
     "data": {
      "text/plain": [
       "false"
      ]
     },
     "metadata": {},
     "output_type": "display_data"
    }
   ],
   "source": [
    "@btime isPerfect(100_000)"
   ]
  },
  {
   "cell_type": "code",
   "execution_count": 32,
   "metadata": {},
   "outputs": [
    {
     "name": "stdout",
     "output_type": "stream",
     "text": [
      "  181.000 μs (5 allocations: 781.67 KiB)\n"
     ]
    },
    {
     "data": {
      "text/plain": [
       "false"
      ]
     },
     "metadata": {},
     "output_type": "display_data"
    }
   ],
   "source": [
    "@btime isPerfect2(100_000)"
   ]
  },
  {
   "cell_type": "code",
   "execution_count": 2,
   "metadata": {},
   "outputs": [
    {
     "data": {
      "text/plain": [
       "4-element Vector{Int64}:\n",
       " 4\n",
       " 3\n",
       " 2\n",
       " 1"
      ]
     },
     "metadata": {},
     "output_type": "display_data"
    }
   ],
   "source": [
    "digits(1234)"
   ]
  },
  {
   "cell_type": "code",
   "execution_count": 36,
   "metadata": {},
   "outputs": [
    {
     "data": {
      "text/plain": [
       "isHappy (generic function with 1 method)"
      ]
     },
     "metadata": {},
     "output_type": "display_data"
    }
   ],
   "source": [
    "function isHappy(n::Integer)\n",
    "  if n==1\n",
    "    return true\n",
    "  elseif n==4\n",
    "    return false\n",
    "  else\n",
    "    local d = digits(n)\n",
    "    local sum = 0\n",
    "    for i=1:length(d)\n",
    "      sum += d[i]^2\n",
    "    end\n",
    "    return isHappy(sum)\n",
    "  end\n",
    "end"
   ]
  },
  {
   "cell_type": "code",
   "execution_count": 35,
   "metadata": {},
   "outputs": [
    {
     "data": {
      "text/plain": [
       "isHappy2 (generic function with 1 method)"
      ]
     },
     "metadata": {},
     "output_type": "display_data"
    }
   ],
   "source": [
    "function isHappy2(n::Integer)\n",
    "  if n==1\n",
    "    return true\n",
    "  elseif n==4\n",
    "    return false\n",
    "  else\n",
    "    return isHappy2(sum(x->x^2,digits(n)))\n",
    "  end\n",
    "end\n"
   ]
  },
  {
   "cell_type": "code",
   "execution_count": 33,
   "metadata": {},
   "outputs": [
    {
     "data": {
      "text/plain": [
       "isHappy3 (generic function with 1 method)"
      ]
     },
     "metadata": {},
     "output_type": "display_data"
    }
   ],
   "source": [
    "isHappy3(n::Integer) = n == 1 ? true : n == 4 ? false : isHappy3(sum(x->x^2,digits(n)))"
   ]
  },
  {
   "cell_type": "code",
   "execution_count": 4,
   "metadata": {},
   "outputs": [
    {
     "data": {
      "text/plain": [
       "20-element Vector{Int64}:\n",
       "   1\n",
       "   7\n",
       "  10\n",
       "  13\n",
       "  19\n",
       "  23\n",
       "  28\n",
       "  31\n",
       "  32\n",
       "  44\n",
       "  49\n",
       "  68\n",
       "  70\n",
       "  79\n",
       "  82\n",
       "  86\n",
       "  91\n",
       "  94\n",
       "  97\n",
       " 100"
      ]
     },
     "metadata": {},
     "output_type": "display_data"
    }
   ],
   "source": [
    "filter(isHappy3, 1:100)"
   ]
  },
  {
   "cell_type": "code",
   "execution_count": 5,
   "metadata": {},
   "outputs": [
    {
     "data": {
      "text/plain": [
       "\"1 7 10 13 19 23 28 31 32 44 49 68 70 79 82 86 91 94 97 100\""
      ]
     },
     "metadata": {},
     "output_type": "display_data"
    }
   ],
   "source": [
    "join(filter(isHappy3, 1:100),\" \")"
   ]
  },
  {
   "cell_type": "code",
   "execution_count": 37,
   "metadata": {},
   "outputs": [
    {
     "name": "stdout",
     "output_type": "stream",
     "text": [
      "  901.786 ns (24 allocations: 960 bytes)\n",
      "  890.957 ns (24 allocations: 960 bytes)\n",
      "  892.196 ns (24 allocations: 960 bytes)\n"
     ]
    },
    {
     "data": {
      "text/plain": [
       "false"
      ]
     },
     "metadata": {},
     "output_type": "display_data"
    }
   ],
   "source": [
    "@btime isHappy(1_234)\n",
    "@btime isHappy2(1_234)\n",
    "@btime isHappy3(1_234)"
   ]
  },
  {
   "cell_type": "code",
   "execution_count": 6,
   "metadata": {},
   "outputs": [
    {
     "data": {
      "text/plain": [
       "618970019642690137449562111"
      ]
     },
     "metadata": {},
     "output_type": "display_data"
    }
   ],
   "source": [
    "n = big(2)^89-1"
   ]
  },
  {
   "cell_type": "code",
   "execution_count": 10,
   "metadata": {},
   "outputs": [
    {
     "data": {
      "text/plain": [
       "isPrime (generic function with 1 method)"
      ]
     },
     "metadata": {},
     "output_type": "display_data"
    }
   ],
   "source": [
    "isPrime(n::Integer)= length(findAllFactors(n))==2"
   ]
  },
  {
   "cell_type": "code",
   "execution_count": 11,
   "metadata": {},
   "outputs": [
    {
     "name": "stdout",
     "output_type": "stream",
     "text": [
      "  1.098 ms (5 allocations: 7.63 MiB)\n"
     ]
    },
    {
     "data": {
      "text/plain": [
       "true"
      ]
     },
     "metadata": {},
     "output_type": "display_data"
    }
   ],
   "source": [
    "@btime isPrime(1_000_003)"
   ]
  },
  {
   "cell_type": "markdown",
   "metadata": {},
   "source": [
    "### Speedup #1"
   ]
  },
  {
   "cell_type": "code",
   "execution_count": 65,
   "metadata": {},
   "outputs": [
    {
     "data": {
      "text/plain": [
       "findAllFactors2 (generic function with 1 method)"
      ]
     },
     "metadata": {},
     "output_type": "display_data"
    }
   ],
   "source": [
    "function findAllFactors2(n::Integer)\n",
    "  factors = [1]\n",
    "  for i=2:n-1\n",
    "    if n % i ==0\n",
    "      push!(factors,i)\n",
    "    end\n",
    "  end\n",
    "  push!(factors,n) # n is always a factor of itself\n",
    "end"
   ]
  },
  {
   "cell_type": "code",
   "execution_count": 66,
   "metadata": {},
   "outputs": [
    {
     "name": "stdout",
     "output_type": "stream",
     "text": [
      "  90.179 ms (5 allocations: 373.84 MiB)\n"
     ]
    },
    {
     "data": {
      "text/plain": [
       "147-element Vector{Int64}:\n",
       "        1\n",
       "        2\n",
       "        4\n",
       "        5\n",
       "        7\n",
       "        8\n",
       "       10\n",
       "       14\n",
       "       16\n",
       "       20\n",
       "        ⋮\n",
       "  3062500\n",
       "  3500000\n",
       "  4900000\n",
       "  6125000\n",
       "  7000000\n",
       "  9800000\n",
       " 12250000\n",
       " 24500000\n",
       " 49000000"
      ]
     },
     "metadata": {},
     "output_type": "display_data"
    }
   ],
   "source": [
    "@btime findAllFactors(49_000_000)"
   ]
  },
  {
   "cell_type": "code",
   "execution_count": 67,
   "metadata": {},
   "outputs": [
    {
     "name": "stdout",
     "output_type": "stream",
     "text": [
      "  50.245 ms (5 allocations: 1.97 KiB)\n"
     ]
    },
    {
     "data": {
      "text/plain": [
       "147-element Vector{Int64}:\n",
       "        1\n",
       "        2\n",
       "        4\n",
       "        5\n",
       "        7\n",
       "        8\n",
       "       10\n",
       "       14\n",
       "       16\n",
       "       20\n",
       "        ⋮\n",
       "  3062500\n",
       "  3500000\n",
       "  4900000\n",
       "  6125000\n",
       "  7000000\n",
       "  9800000\n",
       " 12250000\n",
       " 24500000\n",
       " 49000000"
      ]
     },
     "metadata": {},
     "output_type": "display_data"
    }
   ],
   "source": [
    "@btime findAllFactors2(49_000_000)"
   ]
  },
  {
   "cell_type": "code",
   "execution_count": 68,
   "metadata": {},
   "outputs": [
    {
     "data": {
      "text/plain": [
       "isPrime2 (generic function with 1 method)"
      ]
     },
     "metadata": {},
     "output_type": "display_data"
    }
   ],
   "source": [
    "isPrime2(n::Integer) = length(findAllFactors2(n))==2"
   ]
  },
  {
   "cell_type": "code",
   "execution_count": 69,
   "metadata": {},
   "outputs": [
    {
     "name": "stdout",
     "output_type": "stream",
     "text": [
      "  1.023 ms (3 allocations: 160 bytes)\n"
     ]
    },
    {
     "data": {
      "text/plain": [
       "true"
      ]
     },
     "metadata": {},
     "output_type": "display_data"
    }
   ],
   "source": [
    "@btime isPrime2(1_000_003)"
   ]
  },
  {
   "cell_type": "markdown",
   "metadata": {},
   "source": [
    "### Speedup #2: reducing the checked factors"
   ]
  },
  {
   "cell_type": "code",
   "execution_count": 70,
   "metadata": {},
   "outputs": [
    {
     "data": {
      "text/plain": [
       "findAllFactors3 (generic function with 1 method)"
      ]
     },
     "metadata": {},
     "output_type": "display_data"
    }
   ],
   "source": [
    "function findAllFactors3(n::Integer)\n",
    "  local factors = [1]\n",
    "  for i=2:n÷2\n",
    "    if n % i ==0\n",
    "      push!(factors,i)\n",
    "    end\n",
    "  end\n",
    "  push!(factors,n)\n",
    "end"
   ]
  },
  {
   "cell_type": "code",
   "execution_count": 71,
   "metadata": {},
   "outputs": [
    {
     "name": "stdout",
     "output_type": "stream",
     "text": [
      "  25.071 ms (5 allocations: 1.97 KiB)\n"
     ]
    },
    {
     "data": {
      "text/plain": [
       "147-element Vector{Int64}:\n",
       "        1\n",
       "        2\n",
       "        4\n",
       "        5\n",
       "        7\n",
       "        8\n",
       "       10\n",
       "       14\n",
       "       16\n",
       "       20\n",
       "        ⋮\n",
       "  3062500\n",
       "  3500000\n",
       "  4900000\n",
       "  6125000\n",
       "  7000000\n",
       "  9800000\n",
       " 12250000\n",
       " 24500000\n",
       " 49000000"
      ]
     },
     "metadata": {},
     "output_type": "display_data"
    }
   ],
   "source": [
    "@btime findAllFactors3(49_000_000)"
   ]
  },
  {
   "cell_type": "code",
   "execution_count": 72,
   "metadata": {},
   "outputs": [
    {
     "data": {
      "text/plain": [
       "isPrime3 (generic function with 1 method)"
      ]
     },
     "metadata": {},
     "output_type": "display_data"
    }
   ],
   "source": [
    "isPrime3(n::Integer) = length(findAllFactors3(n)) == 2"
   ]
  },
  {
   "cell_type": "code",
   "execution_count": 73,
   "metadata": {},
   "outputs": [
    {
     "name": "stdout",
     "output_type": "stream",
     "text": [
      "  511.250 μs (3 allocations: 160 bytes)\n"
     ]
    },
    {
     "data": {
      "text/plain": [
       "true"
      ]
     },
     "metadata": {},
     "output_type": "display_data"
    }
   ],
   "source": [
    "@btime isPrime3(1_000_003)"
   ]
  },
  {
   "cell_type": "code",
   "execution_count": 74,
   "metadata": {},
   "outputs": [
    {
     "data": {
      "text/plain": [
       "isPrime3 (generic function with 1 method)"
      ]
     },
     "metadata": {},
     "output_type": "display_data"
    }
   ],
   "source": [
    "isPrime3(n::Integer) = length(findAllFactors3(n))==2"
   ]
  },
  {
   "cell_type": "code",
   "execution_count": 75,
   "metadata": {},
   "outputs": [
    {
     "name": "stdout",
     "output_type": "stream",
     "text": [
      "  511.250 μs (3 allocations: 160 bytes)\n"
     ]
    },
    {
     "data": {
      "text/plain": [
       "true"
      ]
     },
     "metadata": {},
     "output_type": "display_data"
    }
   ],
   "source": [
    "@btime isPrime3(1_000_003)"
   ]
  },
  {
   "cell_type": "markdown",
   "metadata": {},
   "source": [
    "#### Speedup #3: Notice that factors come in pairs "
   ]
  },
  {
   "cell_type": "code",
   "execution_count": 76,
   "metadata": {},
   "outputs": [
    {
     "data": {
      "text/plain": [
       "findAllFactors4 (generic function with 1 method)"
      ]
     },
     "metadata": {},
     "output_type": "display_data"
    }
   ],
   "source": [
    "function findAllFactors4(n::Integer)\n",
    "  local x = round(Int,sqrt(n)) # closest integer to sqrt(n)\n",
    "  local factors = [1,n]\n",
    "  local j=2 # keep track where to insert elements\n",
    "  for k=2:x\n",
    "    if n%k==0\n",
    "      # Insert the new factors in the middle of the factors array.\n",
    "      # If k^2 is n, just add k, otherwise add the pairs.\n",
    "      splice!(factors,j:(j-1),k^2 == n ? [k] : [k,div(n,k)])\n",
    "      j+=1\n",
    "    end\n",
    "  end\n",
    "  factors\n",
    "end"
   ]
  },
  {
   "cell_type": "code",
   "execution_count": 77,
   "metadata": {},
   "outputs": [
    {
     "name": "stdout",
     "output_type": "stream",
     "text": [
      "  14.541 μs (230 allocations: 15.73 KiB)\n"
     ]
    },
    {
     "data": {
      "text/plain": [
       "147-element Vector{Int64}:\n",
       "        1\n",
       "        2\n",
       "        4\n",
       "        5\n",
       "        7\n",
       "        8\n",
       "       10\n",
       "       14\n",
       "       16\n",
       "       20\n",
       "        ⋮\n",
       "  3062500\n",
       "  3500000\n",
       "  4900000\n",
       "  6125000\n",
       "  7000000\n",
       "  9800000\n",
       " 12250000\n",
       " 24500000\n",
       " 49000000"
      ]
     },
     "metadata": {},
     "output_type": "display_data"
    }
   ],
   "source": [
    "@btime findAllFactors4(49_000_000)"
   ]
  },
  {
   "cell_type": "code",
   "execution_count": 78,
   "metadata": {},
   "outputs": [
    {
     "data": {
      "text/plain": [
       "isPrime4 (generic function with 1 method)"
      ]
     },
     "metadata": {},
     "output_type": "display_data"
    }
   ],
   "source": [
    "isPrime4(n::Integer) = length(findAllFactors4(n))==2"
   ]
  },
  {
   "cell_type": "code",
   "execution_count": 79,
   "metadata": {},
   "outputs": [
    {
     "name": "stdout",
     "output_type": "stream",
     "text": [
      "  1.054 μs (2 allocations: 80 bytes)\n"
     ]
    },
    {
     "data": {
      "text/plain": [
       "true"
      ]
     },
     "metadata": {},
     "output_type": "display_data"
    }
   ],
   "source": [
    "@btime isPrime4(1_000_003)"
   ]
  },
  {
   "cell_type": "markdown",
   "metadata": {},
   "source": [
    "#### Speedup #5: don't use factors at all"
   ]
  },
  {
   "cell_type": "code",
   "execution_count": 80,
   "metadata": {},
   "outputs": [
    {
     "data": {
      "text/plain": [
       "isPrime5 (generic function with 1 method)"
      ]
     },
     "metadata": {},
     "output_type": "display_data"
    }
   ],
   "source": [
    "function isPrime5(n::Integer)\n",
    "  for k=2:floor(Int,sqrt(n)) # integer nearest sqrt(n)\n",
    "    if n%k==0\n",
    "      return false\n",
    "    end\n",
    "  end\n",
    "  true\n",
    "end"
   ]
  },
  {
   "cell_type": "code",
   "execution_count": 81,
   "metadata": {},
   "outputs": [
    {
     "name": "stdout",
     "output_type": "stream",
     "text": [
      "  1.012 μs (0 allocations: 0 bytes)\n"
     ]
    },
    {
     "data": {
      "text/plain": [
       "true"
      ]
     },
     "metadata": {},
     "output_type": "display_data"
    }
   ],
   "source": [
    "@btime isPrime5(1_000_003)"
   ]
  },
  {
   "cell_type": "markdown",
   "metadata": {},
   "source": [
    "#### Speedup #6: skip all even numbers"
   ]
  },
  {
   "cell_type": "code",
   "execution_count": 82,
   "metadata": {},
   "outputs": [
    {
     "data": {
      "text/plain": [
       "isPrime6 (generic function with 1 method)"
      ]
     },
     "metadata": {},
     "output_type": "display_data"
    }
   ],
   "source": [
    "function isPrime6(n::Integer)\n",
    "  if n == 1\n",
    "  \treturn false\n",
    "  elseif n == 2\n",
    "    return true\n",
    "  elseif n%2==0\n",
    "    return false\n",
    "  end\n",
    "  for k=3:2:floor(Int,sqrt(n)) # odd integers to sqrt(n)\n",
    "    if n%k==0\n",
    "      return false\n",
    "    end\n",
    "  end\n",
    "  true\n",
    "end"
   ]
  },
  {
   "cell_type": "code",
   "execution_count": 83,
   "metadata": {},
   "outputs": [
    {
     "name": "stdout",
     "output_type": "stream",
     "text": [
      "  509.715 ns (0 allocations: 0 bytes)\n"
     ]
    },
    {
     "data": {
      "text/plain": [
       "true"
      ]
     },
     "metadata": {},
     "output_type": "display_data"
    }
   ],
   "source": [
    "@btime isPrime6(1_000_003)"
   ]
  },
  {
   "cell_type": "code",
   "execution_count": 84,
   "metadata": {},
   "outputs": [
    {
     "data": {
      "text/plain": [
       "nextPrime3 (generic function with 1 method)"
      ]
     },
     "metadata": {},
     "output_type": "display_data"
    }
   ],
   "source": [
    "nextPrime3(n::Integer) = isPrime6(n+1) ? n+1 : nextPrime3(n+1)"
   ]
  },
  {
   "cell_type": "code",
   "execution_count": 85,
   "metadata": {},
   "outputs": [
    {
     "data": {
      "text/plain": [
       "getPrimes3 (generic function with 1 method)"
      ]
     },
     "metadata": {},
     "output_type": "display_data"
    }
   ],
   "source": [
    "function getPrimes3(m::Integer) ## return all primes up to n using\n",
    "  # the sieve of Eratosthenes\n",
    "  local is_prime=trues(m) ## assume all are prime\n",
    "  local k=2\n",
    "  while k < sqrt(m)\n",
    "    is_prime[2*k:k:m] .= false # all multiples of k are not prime\n",
    "    k = nextPrime(k+1) # find the next prime after k\n",
    "  end\n",
    "  findall(is_prime)[2:end]\n",
    "end"
   ]
  },
  {
   "cell_type": "code",
   "execution_count": 86,
   "metadata": {},
   "outputs": [
    {
     "name": "stdout",
     "output_type": "stream",
     "text": [
      "  134.839 ms (49784 allocations: 384.57 MiB)\n"
     ]
    },
    {
     "data": {
      "text/plain": [
       "1229-element Vector{Int64}:\n",
       "    2\n",
       "    3\n",
       "    5\n",
       "    7\n",
       "   11\n",
       "   13\n",
       "   17\n",
       "   19\n",
       "   23\n",
       "   29\n",
       "    ⋮\n",
       " 9901\n",
       " 9907\n",
       " 9923\n",
       " 9929\n",
       " 9931\n",
       " 9941\n",
       " 9949\n",
       " 9967\n",
       " 9973"
      ]
     },
     "metadata": {},
     "output_type": "display_data"
    }
   ],
   "source": [
    "@btime getPrimes2(10_000)"
   ]
  },
  {
   "cell_type": "code",
   "execution_count": 87,
   "metadata": {},
   "outputs": [
    {
     "data": {
      "text/plain": [
       "\"2 3 5 7 11 13 17 19 23 29 31 37 41 43 47 53 59 61 67 71 73 79 83 89 97\""
      ]
     },
     "metadata": {},
     "output_type": "display_data"
    }
   ],
   "source": [
    "join(getPrimes(100), \" \")"
   ]
  },
  {
   "cell_type": "code",
   "execution_count": 88,
   "metadata": {},
   "outputs": [
    {
     "name": "stdout",
     "output_type": "stream",
     "text": [
      "  6.143 ms (10 allocations: 1.32 MiB)\n",
      "  6.065 ms (4013 allocations: 5.49 MiB)\n"
     ]
    },
    {
     "data": {
      "text/plain": [
       "122896-element Vector{Int64}:\n",
       "      2\n",
       "      3\n",
       "      5\n",
       "      7\n",
       "      9\n",
       "     11\n",
       "     13\n",
       "     17\n",
       "     19\n",
       "     23\n",
       "      ⋮\n",
       " 999931\n",
       " 999953\n",
       " 999959\n",
       " 999961\n",
       " 999969\n",
       " 999979\n",
       " 999981\n",
       " 999983\n",
       " 999993"
      ]
     },
     "metadata": {},
     "output_type": "display_data"
    }
   ],
   "source": [
    "@btime getPrimes(1_000_000)\n",
    "# @btime getPrimes2(10_000)\n",
    "@btime getPrimes3(1_000_000)"
   ]
  },
  {
   "cell_type": "code",
   "execution_count": 89,
   "metadata": {},
   "outputs": [
    {
     "data": {
      "text/plain": [
       "isPrime7 (generic function with 1 method)"
      ]
     },
     "metadata": {},
     "output_type": "display_data"
    }
   ],
   "source": [
    "function isPrime7(n::Integer)\n",
    "  if n==1\n",
    "    return false\n",
    "  end\n",
    "  # get all primes up to the square root of n\n",
    "  for k in getPrimes3(floor(Int,sqrt(n)))\n",
    "    if n%k==0\n",
    "      return false\n",
    "    end\n",
    "  end\n",
    "  true\n",
    "end"
   ]
  },
  {
   "cell_type": "code",
   "execution_count": 90,
   "metadata": {},
   "outputs": [
    {
     "name": "stdout",
     "output_type": "stream",
     "text": [
      "  8.320 μs (107 allocations: 12.06 KiB)\n"
     ]
    },
    {
     "data": {
      "text/plain": [
       "true"
      ]
     },
     "metadata": {},
     "output_type": "display_data"
    }
   ],
   "source": [
    "@btime isPrime7(1_000_003)"
   ]
  },
  {
   "cell_type": "code",
   "execution_count": 91,
   "metadata": {},
   "outputs": [
    {
     "data": {
      "text/plain": [
       "1000000007"
      ]
     },
     "metadata": {},
     "output_type": "display_data"
    }
   ],
   "source": [
    "n = 1_000_000_007"
   ]
  },
  {
   "cell_type": "code",
   "execution_count": 92,
   "metadata": {},
   "outputs": [
    {
     "data": {
      "text/plain": [
       "true"
      ]
     },
     "metadata": {},
     "output_type": "display_data"
    }
   ],
   "source": [
    "isPrime(n)"
   ]
  },
  {
   "cell_type": "code",
   "execution_count": 94,
   "metadata": {},
   "outputs": [
    {
     "name": "stdout",
     "output_type": "stream",
     "text": [
      "  1.836 s (5 allocations: 7.45 GiB)\n",
      "  1.024 s (3 allocations: 160 bytes)\n",
      "  512.446 ms (3 allocations: 160 bytes)\n",
      "  32.375 μs (2 allocations: 80 bytes)\n",
      "  32.375 μs (0 allocations: 0 bytes)\n",
      "  16.167 μs (0 allocations: 0 bytes)\n",
      "  202.167 μs (562 allocations: 213.72 KiB)\n"
     ]
    },
    {
     "data": {
      "text/plain": [
       "true"
      ]
     },
     "metadata": {},
     "output_type": "display_data"
    }
   ],
   "source": [
    "@btime isPrime(n)\n",
    "@btime isPrime2(n)\n",
    "@btime isPrime3(n)\n",
    "@btime isPrime4(n)\n",
    "@btime isPrime5(n)\n",
    "@btime isPrime6(n)\n",
    "@btime isPrime7(n)"
   ]
  },
  {
   "cell_type": "code",
   "execution_count": 96,
   "metadata": {},
   "outputs": [],
   "source": [
    "using Primes"
   ]
  },
  {
   "cell_type": "code",
   "execution_count": 98,
   "metadata": {},
   "outputs": [
    {
     "name": "stdout",
     "output_type": "stream",
     "text": [
      "  1.154 μs (0 allocations: 0 bytes)\n"
     ]
    },
    {
     "data": {
      "text/plain": [
       "true"
      ]
     },
     "metadata": {},
     "output_type": "display_data"
    }
   ],
   "source": [
    "@btime isprime(n)"
   ]
  },
  {
   "cell_type": "code",
   "execution_count": 49,
   "metadata": {},
   "outputs": [
    {
     "data": {
      "text/plain": [
       "1000000007"
      ]
     },
     "metadata": {},
     "output_type": "display_data"
    }
   ],
   "source": [
    "n = nextprime(1_000_000_000)"
   ]
  },
  {
   "cell_type": "code",
   "execution_count": 60,
   "metadata": {},
   "outputs": [
    {
     "ename": "InterruptException",
     "evalue": "InterruptException:",
     "output_type": "error",
     "traceback": [
      "InterruptException:\n",
      "\n",
      "Stacktrace:\n",
      "  [1] init2!\n",
      "    @ ./gmp.jl:151 [inlined]\n",
      "  [2] BigInt(; nbits::Int64)\n",
      "    @ Base.GMP ./gmp.jl:64\n",
      "  [3] BigInt\n",
      "    @ ./gmp.jl:63 [inlined]\n",
      "  [4] tdiv_r\n",
      "    @ ./gmp.jl:166 [inlined]\n",
      "  [5] rem\n",
      "    @ ./gmp.jl:496 [inlined]\n",
      "  [6] rem(x::BigInt, y::Int64)\n",
      "    @ Base ./promotion.jl:487\n",
      "  [7] isPrime6(n::BigInt)\n",
      "    @ Main ~/code/sci-comp-book/julia-output/jl_notebook_cell_df34fa98e69747e1a8f8a730347b8e2f_X51sZmlsZQ==.jl:10\n",
      "  [8] eval\n",
      "    @ ./boot.jl:430 [inlined]\n",
      "  [9] include_string(mapexpr::typeof(REPL.softscope), mod::Module, code::String, filename::String)\n",
      "    @ Base ./loading.jl:2575\n",
      " [10] #invokelatest#2\n",
      "    @ ./essentials.jl:1054 [inlined]\n",
      " [11] invokelatest\n",
      "    @ ./essentials.jl:1051 [inlined]\n",
      " [12] (::VSCodeServer.var\"#217#218\"{VSCodeServer.NotebookRunCellArguments, String})()\n",
      "    @ VSCodeServer ~/.vscode/extensions/julialang.language-julia-1.120.2/scripts/packages/VSCodeServer/src/serve_notebook.jl:24\n",
      " [13] withpath(f::VSCodeServer.var\"#217#218\"{VSCodeServer.NotebookRunCellArguments, String}, path::String)\n",
      "    @ VSCodeServer ~/.vscode/extensions/julialang.language-julia-1.120.2/scripts/packages/VSCodeServer/src/repl.jl:276\n",
      " [14] notebook_runcell_request(conn::VSCodeServer.JSONRPC.JSONRPCEndpoint{Base.PipeEndpoint, Base.PipeEndpoint}, params::VSCodeServer.NotebookRunCellArguments)\n",
      "    @ VSCodeServer ~/.vscode/extensions/julialang.language-julia-1.120.2/scripts/packages/VSCodeServer/src/serve_notebook.jl:13\n",
      " [15] dispatch_msg(x::VSCodeServer.JSONRPC.JSONRPCEndpoint{Base.PipeEndpoint, Base.PipeEndpoint}, dispatcher::VSCodeServer.JSONRPC.MsgDispatcher, msg::Dict{String, Any})\n",
      "    @ VSCodeServer.JSONRPC ~/.vscode/extensions/julialang.language-julia-1.120.2/scripts/packages/JSONRPC/src/typed.jl:67\n",
      " [16] serve_notebook(pipename::String, debugger_pipename::String, outputchannel_logger::Base.CoreLogging.SimpleLogger; error_handler::var\"#5#10\"{String})\n",
      "    @ VSCodeServer ~/.vscode/extensions/julialang.language-julia-1.120.2/scripts/packages/VSCodeServer/src/serve_notebook.jl:147\n",
      " [17] top-level scope\n",
      "    @ ~/.vscode/extensions/julialang.language-julia-1.120.2/scripts/notebook/notebook.jl:35"
     ]
    }
   ],
   "source": [
    "isPrime6(big(2)^89-1)"
   ]
  },
  {
   "cell_type": "code",
   "execution_count": 61,
   "metadata": {},
   "outputs": [
    {
     "name": "stdout",
     "output_type": "stream",
     "text": [
      "  9.875 μs (12 allocations: 2.66 KiB)\n"
     ]
    },
    {
     "data": {
      "text/plain": [
       "true"
      ]
     },
     "metadata": {},
     "output_type": "display_data"
    }
   ],
   "source": [
    "@btime isprime(big(2)^89-1)"
   ]
  },
  {
   "cell_type": "code",
   "execution_count": null,
   "metadata": {},
   "outputs": [],
   "source": []
  }
 ],
 "metadata": {
  "kernelspec": {
   "display_name": "Julia 1.11.0-rc3",
   "language": "julia",
   "name": "julia-1.11"
  },
  "language_info": {
   "file_extension": ".jl",
   "mimetype": "application/julia",
   "name": "julia",
   "version": "1.11.0-rc3"
  }
 },
 "nbformat": 4,
 "nbformat_minor": 2
}
