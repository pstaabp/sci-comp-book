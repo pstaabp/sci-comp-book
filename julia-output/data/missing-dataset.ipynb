{
 "cells": [
  {
   "cell_type": "code",
   "execution_count": 1,
   "id": "cb2a072f",
   "metadata": {},
   "outputs": [],
   "source": [
    "using StatsBase"
   ]
  },
  {
   "cell_type": "code",
   "execution_count": 2,
   "id": "2611cb5e",
   "metadata": {},
   "outputs": [
    {
     "data": {
      "text/plain": [
       "missing"
      ]
     },
     "metadata": {},
     "output_type": "display_data"
    }
   ],
   "source": [
    "1+missing"
   ]
  },
  {
   "cell_type": "code",
   "execution_count": 3,
   "id": "c795f32d",
   "metadata": {},
   "outputs": [
    {
     "data": {
      "text/plain": [
       "7-element Vector{Union{Missing, Int64}}:\n",
       " 1\n",
       " 2\n",
       "  missing\n",
       " 4\n",
       " 5\n",
       " 6\n",
       " 7"
      ]
     },
     "metadata": {},
     "output_type": "display_data"
    }
   ],
   "source": [
    "v=[1,2,missing,4,5,6,7]"
   ]
  },
  {
   "cell_type": "code",
   "execution_count": 4,
   "id": "b29444be",
   "metadata": {},
   "outputs": [
    {
     "data": {
      "text/plain": [
       "missing"
      ]
     },
     "metadata": {},
     "output_type": "display_data"
    }
   ],
   "source": [
    "sum(v)"
   ]
  },
  {
   "cell_type": "code",
   "execution_count": 5,
   "id": "623ebe99",
   "metadata": {},
   "outputs": [
    {
     "data": {
      "text/plain": [
       "25"
      ]
     },
     "metadata": {},
     "output_type": "display_data"
    }
   ],
   "source": [
    "sum(deleteat!(v,3))"
   ]
  },
  {
   "cell_type": "code",
   "execution_count": 6,
   "id": "6d112083",
   "metadata": {},
   "outputs": [
    {
     "data": {
      "text/plain": [
       "12-element Vector{Union{Missing, Int64}}:\n",
       "  1\n",
       "  2\n",
       "   missing\n",
       "  4\n",
       "  5\n",
       "  6\n",
       "  7\n",
       "   missing\n",
       "  9\n",
       " 10\n",
       " 11\n",
       "   missing"
      ]
     },
     "metadata": {},
     "output_type": "display_data"
    }
   ],
   "source": [
    "w = [1,2,missing, 4,5,6,7,missing,9,10,11,missing]"
   ]
  },
  {
   "cell_type": "code",
   "execution_count": 7,
   "id": "0dfef980",
   "metadata": {},
   "outputs": [
    {
     "data": {
      "text/plain": [
       "9-element Vector{Union{Missing, Int64}}:\n",
       "  1\n",
       "  2\n",
       "  4\n",
       "  5\n",
       "  6\n",
       "  7\n",
       "  9\n",
       " 10\n",
       " 11"
      ]
     },
     "metadata": {},
     "output_type": "display_data"
    }
   ],
   "source": [
    "filter(x-> !ismissing(x), w)"
   ]
  },
  {
   "cell_type": "code",
   "execution_count": 8,
   "id": "7e2a71c4",
   "metadata": {},
   "outputs": [
    {
     "data": {
      "text/plain": [
       "skipmissing(Union{Missing, Int64}[1, 2, missing, 4, 5, 6, 7, missing, 9, 10, 11, missing])"
      ]
     },
     "metadata": {},
     "output_type": "display_data"
    }
   ],
   "source": [
    "skipmissing(w)"
   ]
  },
  {
   "cell_type": "code",
   "execution_count": 9,
   "id": "dcb678f2",
   "metadata": {},
   "outputs": [
    {
     "data": {
      "text/plain": [
       "55"
      ]
     },
     "metadata": {},
     "output_type": "display_data"
    }
   ],
   "source": [
    "sum(skipmissing(w))"
   ]
  },
  {
   "cell_type": "code",
   "execution_count": 10,
   "id": "b8585fd0",
   "metadata": {},
   "outputs": [
    {
     "data": {
      "text/plain": [
       "9-element Vector{Int64}:\n",
       "  1\n",
       "  2\n",
       "  4\n",
       "  5\n",
       "  6\n",
       "  7\n",
       "  9\n",
       " 10\n",
       " 11"
      ]
     },
     "metadata": {},
     "output_type": "display_data"
    }
   ],
   "source": [
    "collect(skipmissing(w))"
   ]
  },
  {
   "cell_type": "code",
   "execution_count": 22,
   "id": "4a3f7cea",
   "metadata": {},
   "outputs": [
    {
     "data": {
      "text/plain": [
       "15"
      ]
     },
     "metadata": {},
     "output_type": "display_data"
    }
   ],
   "source": [
    "sum(skipmissing([1 missing 3; missing 5 6]))"
   ]
  },
  {
   "cell_type": "code",
   "execution_count": 24,
   "id": "e214ee0c",
   "metadata": {},
   "outputs": [
    {
     "data": {
      "text/plain": [
       "Dict{String, Union{Missing, Int64}} with 4 entries:\n",
       "  \"B\" => 11\n",
       "  \"A\" => 3\n",
       "  \"C\" => missing\n",
       "  \"D\" => 9"
      ]
     },
     "metadata": {},
     "output_type": "display_data"
    }
   ],
   "source": [
    "D = Dict(\n",
    "  \"A\" => 3,\n",
    "  \"B\" => 11,\n",
    "  \"C\" => missing,\n",
    "  \"D\" => 9\n",
    ")"
   ]
  },
  {
   "cell_type": "code",
   "execution_count": 25,
   "id": "3d20a6fd",
   "metadata": {},
   "outputs": [
    {
     "data": {
      "text/plain": [
       "skipmissing(Dict{String, Union{Missing, Int64}}(\"B\" => 11, \"A\" => 3, \"C\" => missing, \"D\" => 9))"
      ]
     },
     "metadata": {},
     "output_type": "display_data"
    }
   ],
   "source": [
    "skipmissing(D)"
   ]
  },
  {
   "cell_type": "code",
   "execution_count": 29,
   "id": "cfaf5354",
   "metadata": {},
   "outputs": [
    {
     "data": {
      "text/plain": [
       "ValueIterator for a Dict{String, Union{Missing, Int64}} with 4 entries. Values:\n",
       "  11\n",
       "  3\n",
       "  missing\n",
       "  9"
      ]
     },
     "metadata": {},
     "output_type": "display_data"
    }
   ],
   "source": [
    "values(D)"
   ]
  },
  {
   "cell_type": "code",
   "execution_count": 28,
   "id": "529a2942",
   "metadata": {},
   "outputs": [
    {
     "data": {
      "text/plain": [
       "skipmissing(Dict{String, Union{Missing, Int64}}(\"B\" => 11, \"A\" => 3, \"C\" => missing, \"D\" => 9))"
      ]
     },
     "metadata": {},
     "output_type": "display_data"
    }
   ],
   "source": [
    "values(skipmissing(D))"
   ]
  },
  {
   "cell_type": "code",
   "execution_count": 30,
   "id": "78b1565f",
   "metadata": {},
   "outputs": [
    {
     "data": {
      "text/plain": [
       "8000000"
      ]
     },
     "metadata": {},
     "output_type": "display_data"
    }
   ],
   "source": [
    "C::Vector{Union{Missing,Int64}} = collect(1:1_000_000);\n",
    "sizeof(C)"
   ]
  },
  {
   "cell_type": "code",
   "execution_count": 31,
   "id": "3c5a05ca",
   "metadata": {},
   "outputs": [],
   "source": [
    "for _ = 1:100\n",
    "  i = rand(1:1_000_000)\n",
    "  C[i] = missing\n",
    "end"
   ]
  },
  {
   "cell_type": "code",
   "execution_count": 32,
   "id": "1bf2f358",
   "metadata": {},
   "outputs": [
    {
     "data": {
      "text/plain": [
       "8000000"
      ]
     },
     "metadata": {},
     "output_type": "display_data"
    }
   ],
   "source": [
    "sizeof(C)"
   ]
  },
  {
   "cell_type": "code",
   "execution_count": 21,
   "id": "4f0d64f7",
   "metadata": {},
   "outputs": [
    {
     "data": {
      "text/plain": [
       "8"
      ]
     },
     "metadata": {},
     "output_type": "display_data"
    }
   ],
   "source": [
    "C2 = skipmissing(C)\n",
    "sizeof(C2)"
   ]
  },
  {
   "cell_type": "code",
   "execution_count": null,
   "id": "1e98ace5",
   "metadata": {},
   "outputs": [],
   "source": []
  }
 ],
 "metadata": {
  "kernelspec": {
   "display_name": "Julia 1.12.0-beta4",
   "language": "julia",
   "name": "julia-1.12"
  },
  "language_info": {
   "file_extension": ".jl",
   "mimetype": "application/julia",
   "name": "julia",
   "version": "1.12.0-beta4"
  }
 },
 "nbformat": 4,
 "nbformat_minor": 5
}
