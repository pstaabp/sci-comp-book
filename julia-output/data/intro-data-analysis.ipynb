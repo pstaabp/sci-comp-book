{
 "cells": [
  {
   "cell_type": "code",
   "execution_count": 2,
   "metadata": {},
   "outputs": [],
   "source": [
    "using RDatasets, DataFrames"
   ]
  },
  {
   "cell_type": "code",
   "execution_count": 3,
   "metadata": {},
   "outputs": [
    {
     "data": {
      "text/html": [
       "<div><div style = \"float: left;\"><span>34×2 DataFrame</span></div><div style = \"float: right;\"><span style = \"font-style: italic;\">9 rows omitted</span></div><div style = \"clear: both;\"></div></div><div class = \"data-frame\" style = \"overflow-x: scroll;\"><table class = \"data-frame\" style = \"margin-bottom: 6px;\"><thead><tr class = \"header\"><th class = \"rowNumber\" style = \"font-weight: bold; text-align: right;\">Row</th><th style = \"text-align: left;\">Package</th><th style = \"text-align: left;\">Title</th></tr><tr class = \"subheader headerLastRow\"><th class = \"rowNumber\" style = \"font-weight: bold; text-align: right;\"></th><th title = \"InlineStrings.String15\" style = \"text-align: left;\">String15</th><th title = \"String\" style = \"text-align: left;\">String</th></tr></thead><tbody><tr><td class = \"rowNumber\" style = \"font-weight: bold; text-align: right;\">1</td><td style = \"text-align: left;\">COUNT</td><td style = \"text-align: left;\">Functions, data and code for count data.</td></tr><tr><td class = \"rowNumber\" style = \"font-weight: bold; text-align: right;\">2</td><td style = \"text-align: left;\">Ecdat</td><td style = \"text-align: left;\">Data sets for econometrics</td></tr><tr><td class = \"rowNumber\" style = \"font-weight: bold; text-align: right;\">3</td><td style = \"text-align: left;\">HSAUR</td><td style = \"text-align: left;\">A Handbook of Statistical Analyses Using R (1st Edition)</td></tr><tr><td class = \"rowNumber\" style = \"font-weight: bold; text-align: right;\">4</td><td style = \"text-align: left;\">HistData</td><td style = \"text-align: left;\">Data sets from the history of statistics and data visualization</td></tr><tr><td class = \"rowNumber\" style = \"font-weight: bold; text-align: right;\">5</td><td style = \"text-align: left;\">ISLR</td><td style = \"text-align: left;\">Data for An Introduction to Statistical Learning with Applications in R</td></tr><tr><td class = \"rowNumber\" style = \"font-weight: bold; text-align: right;\">6</td><td style = \"text-align: left;\">KMsurv</td><td style = \"text-align: left;\">Data sets from Klein and Moeschberger (1997), Survival Analysis</td></tr><tr><td class = \"rowNumber\" style = \"font-weight: bold; text-align: right;\">7</td><td style = \"text-align: left;\">MASS</td><td style = \"text-align: left;\">Support Functions and Datasets for Venables and Ripley&apos;s MASS</td></tr><tr><td class = \"rowNumber\" style = \"font-weight: bold; text-align: right;\">8</td><td style = \"text-align: left;\">SASmixed</td><td style = \"text-align: left;\">Data sets from &quot;SAS System for Mixed Models&quot;</td></tr><tr><td class = \"rowNumber\" style = \"font-weight: bold; text-align: right;\">9</td><td style = \"text-align: left;\">Zelig</td><td style = \"text-align: left;\">Everyone&apos;s Statistical Software</td></tr><tr><td class = \"rowNumber\" style = \"font-weight: bold; text-align: right;\">10</td><td style = \"text-align: left;\">adehabitatLT</td><td style = \"text-align: left;\">Analysis of Animal Movements</td></tr><tr><td class = \"rowNumber\" style = \"font-weight: bold; text-align: right;\">11</td><td style = \"text-align: left;\">boot</td><td style = \"text-align: left;\">Bootstrap Functions (Originally by Angelo Canty for S)</td></tr><tr><td class = \"rowNumber\" style = \"font-weight: bold; text-align: right;\">12</td><td style = \"text-align: left;\">car</td><td style = \"text-align: left;\">Companion to Applied Regression</td></tr><tr><td class = \"rowNumber\" style = \"font-weight: bold; text-align: right;\">13</td><td style = \"text-align: left;\">cluster</td><td style = \"text-align: left;\">Cluster Analysis Extended Rousseeuw et al.</td></tr><tr><td style = \"text-align: right;\">&vellip;</td><td style = \"text-align: right;\">&vellip;</td><td style = \"text-align: right;\">&vellip;</td></tr><tr><td class = \"rowNumber\" style = \"font-weight: bold; text-align: right;\">23</td><td style = \"text-align: left;\">plm</td><td style = \"text-align: left;\">Linear Models for Panel Data</td></tr><tr><td class = \"rowNumber\" style = \"font-weight: bold; text-align: right;\">24</td><td style = \"text-align: left;\">plyr</td><td style = \"text-align: left;\">Tools for splitting, applying and combining data</td></tr><tr><td class = \"rowNumber\" style = \"font-weight: bold; text-align: right;\">25</td><td style = \"text-align: left;\">pscl</td><td style = \"text-align: left;\">Political Science Computational Laboratory, Stanford University</td></tr><tr><td class = \"rowNumber\" style = \"font-weight: bold; text-align: right;\">26</td><td style = \"text-align: left;\">psych</td><td style = \"text-align: left;\">Procedures for Psychological, Psychometric, and Personality Research</td></tr><tr><td class = \"rowNumber\" style = \"font-weight: bold; text-align: right;\">27</td><td style = \"text-align: left;\">quantreg</td><td style = \"text-align: left;\">Quantile Regression</td></tr><tr><td class = \"rowNumber\" style = \"font-weight: bold; text-align: right;\">28</td><td style = \"text-align: left;\">reshape2</td><td style = \"text-align: left;\">Flexibly Reshape Data: A Reboot of the Reshape Package.</td></tr><tr><td class = \"rowNumber\" style = \"font-weight: bold; text-align: right;\">29</td><td style = \"text-align: left;\">robustbase</td><td style = \"text-align: left;\">Basic Robust Statistics</td></tr><tr><td class = \"rowNumber\" style = \"font-weight: bold; text-align: right;\">30</td><td style = \"text-align: left;\">rpart</td><td style = \"text-align: left;\">Recursive Partitioning and Regression Trees</td></tr><tr><td class = \"rowNumber\" style = \"font-weight: bold; text-align: right;\">31</td><td style = \"text-align: left;\">sandwich</td><td style = \"text-align: left;\">Robust Covariance Matrix Estimators</td></tr><tr><td class = \"rowNumber\" style = \"font-weight: bold; text-align: right;\">32</td><td style = \"text-align: left;\">sem</td><td style = \"text-align: left;\">Structural Equation Models</td></tr><tr><td class = \"rowNumber\" style = \"font-weight: bold; text-align: right;\">33</td><td style = \"text-align: left;\">survival</td><td style = \"text-align: left;\">Survival Analysis</td></tr><tr><td class = \"rowNumber\" style = \"font-weight: bold; text-align: right;\">34</td><td style = \"text-align: left;\">vcd</td><td style = \"text-align: left;\">Visualizing Categorical Data</td></tr></tbody></table></div>"
      ],
      "text/latex": [
       "\\begin{tabular}{r|cc}\n",
       "\t& Package & Title\\\\\n",
       "\t\\hline\n",
       "\t& String15 & String\\\\\n",
       "\t\\hline\n",
       "\t1 & COUNT & Functions, data and code for count data. \\\\\n",
       "\t2 & Ecdat & Data sets for econometrics \\\\\n",
       "\t3 & HSAUR & A Handbook of Statistical Analyses Using R (1st Edition) \\\\\n",
       "\t4 & HistData & Data sets from the history of statistics and data visualization \\\\\n",
       "\t5 & ISLR & Data for An Introduction to Statistical Learning with Applications in R \\\\\n",
       "\t6 & KMsurv & Data sets from Klein and Moeschberger (1997), Survival Analysis \\\\\n",
       "\t7 & MASS & Support Functions and Datasets for Venables and Ripley's MASS \\\\\n",
       "\t8 & SASmixed & Data sets from \"SAS System for Mixed Models\" \\\\\n",
       "\t9 & Zelig & Everyone's Statistical Software \\\\\n",
       "\t10 & adehabitatLT & Analysis of Animal Movements \\\\\n",
       "\t11 & boot & Bootstrap Functions (Originally by Angelo Canty for S) \\\\\n",
       "\t12 & car & Companion to Applied Regression \\\\\n",
       "\t13 & cluster & Cluster Analysis Extended Rousseeuw et al. \\\\\n",
       "\t14 & datasets & The R Datasets Package \\\\\n",
       "\t15 & gamair & Datasets used in the book Generalized Additive Models: An Introduction with R \\\\\n",
       "\t16 & gap & Genetic analysis package \\\\\n",
       "\t17 & ggplot2 & An Implementation of the Grammar of Graphics \\\\\n",
       "\t18 & lattice & Lattice Graphics \\\\\n",
       "\t19 & lme4 & Linear mixed-effects models using Eigen and S4 \\\\\n",
       "\t20 & mgcv & Mixed GAM Computation Vehicle with GCV/AIC/REML smoothness estimation \\\\\n",
       "\t21 & mlmRev & Examples from Multilevel Modelling Software Review \\\\\n",
       "\t22 & nlreg & Higher Order Inference for Nonlinear Heteroscedastic Models \\\\\n",
       "\t23 & plm & Linear Models for Panel Data \\\\\n",
       "\t24 & plyr & Tools for splitting, applying and combining data \\\\\n",
       "\t$\\dots$ & $\\dots$ & $\\dots$ \\\\\n",
       "\\end{tabular}\n"
      ],
      "text/plain": [
       "\u001b[1m34×2 DataFrame\u001b[0m\n",
       "\u001b[1m Row \u001b[0m│\u001b[1m Package      \u001b[0m\u001b[1m Title                             \u001b[0m\n",
       "     │\u001b[90m String15     \u001b[0m\u001b[90m String                            \u001b[0m\n",
       "─────┼─────────────────────────────────────────────────\n",
       "   1 │ COUNT         Functions, data and code for cou…\n",
       "   2 │ Ecdat         Data sets for econometrics\n",
       "   3 │ HSAUR         A Handbook of Statistical Analys…\n",
       "   4 │ HistData      Data sets from the history of st…\n",
       "   5 │ ISLR          Data for An Introduction to Stat…\n",
       "   6 │ KMsurv        Data sets from Klein and Moeschb…\n",
       "   7 │ MASS          Support Functions and Datasets f…\n",
       "   8 │ SASmixed      Data sets from \"SAS System for M…\n",
       "  ⋮  │      ⋮                        ⋮\n",
       "  28 │ reshape2      Flexibly Reshape Data: A Reboot …\n",
       "  29 │ robustbase    Basic Robust Statistics\n",
       "  30 │ rpart         Recursive Partitioning and Regre…\n",
       "  31 │ sandwich      Robust Covariance Matrix Estimat…\n",
       "  32 │ sem           Structural Equation Models\n",
       "  33 │ survival      Survival Analysis\n",
       "  34 │ vcd           Visualizing Categorical Data\n",
       "\u001b[36m                                        19 rows omitted\u001b[0m"
      ]
     },
     "metadata": {},
     "output_type": "display_data"
    }
   ],
   "source": [
    "RDatasets.packages()"
   ]
  },
  {
   "cell_type": "code",
   "execution_count": 4,
   "metadata": {},
   "outputs": [
    {
     "data": {
      "text/html": [
       "<div><div style = \"float: left;\"><span>50×5 DataFrame</span></div><div style = \"float: right;\"><span style = \"font-style: italic;\">25 rows omitted</span></div><div style = \"clear: both;\"></div></div><div class = \"data-frame\" style = \"overflow-x: scroll;\"><table class = \"data-frame\" style = \"margin-bottom: 6px;\"><thead><tr class = \"header\"><th class = \"rowNumber\" style = \"font-weight: bold; text-align: right;\">Row</th><th style = \"text-align: left;\">Package</th><th style = \"text-align: left;\">Dataset</th><th style = \"text-align: left;\">Title</th><th style = \"text-align: left;\">Rows</th><th style = \"text-align: left;\">Columns</th></tr><tr class = \"subheader headerLastRow\"><th class = \"rowNumber\" style = \"font-weight: bold; text-align: right;\"></th><th title = \"InlineStrings.String15\" style = \"text-align: left;\">String15</th><th title = \"InlineStrings.String31\" style = \"text-align: left;\">String31</th><th title = \"String\" style = \"text-align: left;\">String</th><th title = \"Int64\" style = \"text-align: left;\">Int64</th><th title = \"Int64\" style = \"text-align: left;\">Int64</th></tr></thead><tbody><tr><td class = \"rowNumber\" style = \"font-weight: bold; text-align: right;\">1</td><td style = \"text-align: left;\">datasets</td><td style = \"text-align: left;\">BOD</td><td style = \"text-align: left;\">Biochemical Oxygen Demand</td><td style = \"text-align: right;\">6</td><td style = \"text-align: right;\">2</td></tr><tr><td class = \"rowNumber\" style = \"font-weight: bold; text-align: right;\">2</td><td style = \"text-align: left;\">datasets</td><td style = \"text-align: left;\">CO2</td><td style = \"text-align: left;\">Carbon Dioxide Uptake in Grass Plants</td><td style = \"text-align: right;\">84</td><td style = \"text-align: right;\">5</td></tr><tr><td class = \"rowNumber\" style = \"font-weight: bold; text-align: right;\">3</td><td style = \"text-align: left;\">datasets</td><td style = \"text-align: left;\">Formaldehyde</td><td style = \"text-align: left;\">Determination of Formaldehyde</td><td style = \"text-align: right;\">6</td><td style = \"text-align: right;\">2</td></tr><tr><td class = \"rowNumber\" style = \"font-weight: bold; text-align: right;\">4</td><td style = \"text-align: left;\">datasets</td><td style = \"text-align: left;\">HairEyeColor</td><td style = \"text-align: left;\">Hair and Eye Color of Statistics Students</td><td style = \"text-align: right;\">32</td><td style = \"text-align: right;\">4</td></tr><tr><td class = \"rowNumber\" style = \"font-weight: bold; text-align: right;\">5</td><td style = \"text-align: left;\">datasets</td><td style = \"text-align: left;\">InsectSprays</td><td style = \"text-align: left;\">Effectiveness of Insect Sprays</td><td style = \"text-align: right;\">72</td><td style = \"text-align: right;\">2</td></tr><tr><td class = \"rowNumber\" style = \"font-weight: bold; text-align: right;\">6</td><td style = \"text-align: left;\">datasets</td><td style = \"text-align: left;\">LifeCycleSavings</td><td style = \"text-align: left;\">Intercountry Life-Cycle Savings Data</td><td style = \"text-align: right;\">50</td><td style = \"text-align: right;\">6</td></tr><tr><td class = \"rowNumber\" style = \"font-weight: bold; text-align: right;\">7</td><td style = \"text-align: left;\">datasets</td><td style = \"text-align: left;\">Loblolly</td><td style = \"text-align: left;\">Growth of Loblolly pine trees</td><td style = \"text-align: right;\">84</td><td style = \"text-align: right;\">4</td></tr><tr><td class = \"rowNumber\" style = \"font-weight: bold; text-align: right;\">8</td><td style = \"text-align: left;\">datasets</td><td style = \"text-align: left;\">OrchardSprays</td><td style = \"text-align: left;\">Potency of Orchard Sprays</td><td style = \"text-align: right;\">64</td><td style = \"text-align: right;\">4</td></tr><tr><td class = \"rowNumber\" style = \"font-weight: bold; text-align: right;\">9</td><td style = \"text-align: left;\">datasets</td><td style = \"text-align: left;\">PlantGrowth</td><td style = \"text-align: left;\">Results from an Experiment on Plant Growth</td><td style = \"text-align: right;\">30</td><td style = \"text-align: right;\">2</td></tr><tr><td class = \"rowNumber\" style = \"font-weight: bold; text-align: right;\">10</td><td style = \"text-align: left;\">datasets</td><td style = \"text-align: left;\">Puromycin</td><td style = \"text-align: left;\">Reaction Velocity of an Enzymatic Reaction</td><td style = \"text-align: right;\">23</td><td style = \"text-align: right;\">3</td></tr><tr><td class = \"rowNumber\" style = \"font-weight: bold; text-align: right;\">11</td><td style = \"text-align: left;\">datasets</td><td style = \"text-align: left;\">Theoph</td><td style = \"text-align: left;\">Pharmacokinetics of Theophylline</td><td style = \"text-align: right;\">132</td><td style = \"text-align: right;\">5</td></tr><tr><td class = \"rowNumber\" style = \"font-weight: bold; text-align: right;\">12</td><td style = \"text-align: left;\">datasets</td><td style = \"text-align: left;\">Titanic</td><td style = \"text-align: left;\">Survival of passengers on the Titanic</td><td style = \"text-align: right;\">32</td><td style = \"text-align: right;\">5</td></tr><tr><td class = \"rowNumber\" style = \"font-weight: bold; text-align: right;\">13</td><td style = \"text-align: left;\">datasets</td><td style = \"text-align: left;\">ToothGrowth</td><td style = \"text-align: left;\">The Effect of Vitamin C on Tooth Growth in Guinea Pigs</td><td style = \"text-align: right;\">60</td><td style = \"text-align: right;\">3</td></tr><tr><td style = \"text-align: right;\">&vellip;</td><td style = \"text-align: right;\">&vellip;</td><td style = \"text-align: right;\">&vellip;</td><td style = \"text-align: right;\">&vellip;</td><td style = \"text-align: right;\">&vellip;</td><td style = \"text-align: right;\">&vellip;</td></tr><tr><td class = \"rowNumber\" style = \"font-weight: bold; text-align: right;\">39</td><td style = \"text-align: left;\">datasets</td><td style = \"text-align: left;\">pressure</td><td style = \"text-align: left;\">Vapor Pressure of Mercury as a Function of Temperature</td><td style = \"text-align: right;\">19</td><td style = \"text-align: right;\">2</td></tr><tr><td class = \"rowNumber\" style = \"font-weight: bold; text-align: right;\">40</td><td style = \"text-align: left;\">datasets</td><td style = \"text-align: left;\">quakes</td><td style = \"text-align: left;\">Locations of Earthquakes off Fiji</td><td style = \"text-align: right;\">1000</td><td style = \"text-align: right;\">5</td></tr><tr><td class = \"rowNumber\" style = \"font-weight: bold; text-align: right;\">41</td><td style = \"text-align: left;\">datasets</td><td style = \"text-align: left;\">randu</td><td style = \"text-align: left;\">Random Numbers from Congruential Generator RANDU</td><td style = \"text-align: right;\">400</td><td style = \"text-align: right;\">3</td></tr><tr><td class = \"rowNumber\" style = \"font-weight: bold; text-align: right;\">42</td><td style = \"text-align: left;\">datasets</td><td style = \"text-align: left;\">rivers</td><td style = \"text-align: left;\">Lengths of Major North American Rivers</td><td style = \"text-align: right;\">141</td><td style = \"text-align: right;\">1</td></tr><tr><td class = \"rowNumber\" style = \"font-weight: bold; text-align: right;\">43</td><td style = \"text-align: left;\">datasets</td><td style = \"text-align: left;\">rock</td><td style = \"text-align: left;\">Measurements on Petroleum Rock Samples</td><td style = \"text-align: right;\">48</td><td style = \"text-align: right;\">4</td></tr><tr><td class = \"rowNumber\" style = \"font-weight: bold; text-align: right;\">44</td><td style = \"text-align: left;\">datasets</td><td style = \"text-align: left;\">sleep</td><td style = \"text-align: left;\">Student&apos;s Sleep Data</td><td style = \"text-align: right;\">20</td><td style = \"text-align: right;\">3</td></tr><tr><td class = \"rowNumber\" style = \"font-weight: bold; text-align: right;\">45</td><td style = \"text-align: left;\">datasets</td><td style = \"text-align: left;\">stackloss</td><td style = \"text-align: left;\">Brownlee&apos;s Stack Loss Plant Data</td><td style = \"text-align: right;\">21</td><td style = \"text-align: right;\">4</td></tr><tr><td class = \"rowNumber\" style = \"font-weight: bold; text-align: right;\">46</td><td style = \"text-align: left;\">datasets</td><td style = \"text-align: left;\">swiss</td><td style = \"text-align: left;\">Swiss Fertility and Socioeconomic Indicators (1888) Data</td><td style = \"text-align: right;\">47</td><td style = \"text-align: right;\">7</td></tr><tr><td class = \"rowNumber\" style = \"font-weight: bold; text-align: right;\">47</td><td style = \"text-align: left;\">datasets</td><td style = \"text-align: left;\">trees</td><td style = \"text-align: left;\">Girth, Height and Volume for Black Cherry Trees</td><td style = \"text-align: right;\">31</td><td style = \"text-align: right;\">3</td></tr><tr><td class = \"rowNumber\" style = \"font-weight: bold; text-align: right;\">48</td><td style = \"text-align: left;\">datasets</td><td style = \"text-align: left;\">volcano</td><td style = \"text-align: left;\">Topographic Information on Auckland&apos;s Maunga Whau Volcano</td><td style = \"text-align: right;\">87</td><td style = \"text-align: right;\">61</td></tr><tr><td class = \"rowNumber\" style = \"font-weight: bold; text-align: right;\">49</td><td style = \"text-align: left;\">datasets</td><td style = \"text-align: left;\">warpbreaks</td><td style = \"text-align: left;\">The Number of Breaks in Yarn during Weaving</td><td style = \"text-align: right;\">54</td><td style = \"text-align: right;\">3</td></tr><tr><td class = \"rowNumber\" style = \"font-weight: bold; text-align: right;\">50</td><td style = \"text-align: left;\">datasets</td><td style = \"text-align: left;\">women</td><td style = \"text-align: left;\">Average Heights and Weights for American Women</td><td style = \"text-align: right;\">15</td><td style = \"text-align: right;\">2</td></tr></tbody></table></div>"
      ],
      "text/latex": [
       "\\begin{tabular}{r|cccc}\n",
       "\t& Package & Dataset & Title & \\\\\n",
       "\t\\hline\n",
       "\t& String15 & String31 & String & \\\\\n",
       "\t\\hline\n",
       "\t1 & datasets & BOD & Biochemical Oxygen Demand & $\\dots$ \\\\\n",
       "\t2 & datasets & CO2 & Carbon Dioxide Uptake in Grass Plants & $\\dots$ \\\\\n",
       "\t3 & datasets & Formaldehyde & Determination of Formaldehyde & $\\dots$ \\\\\n",
       "\t4 & datasets & HairEyeColor & Hair and Eye Color of Statistics Students & $\\dots$ \\\\\n",
       "\t5 & datasets & InsectSprays & Effectiveness of Insect Sprays & $\\dots$ \\\\\n",
       "\t6 & datasets & LifeCycleSavings & Intercountry Life-Cycle Savings Data & $\\dots$ \\\\\n",
       "\t7 & datasets & Loblolly & Growth of Loblolly pine trees & $\\dots$ \\\\\n",
       "\t8 & datasets & OrchardSprays & Potency of Orchard Sprays & $\\dots$ \\\\\n",
       "\t9 & datasets & PlantGrowth & Results from an Experiment on Plant Growth & $\\dots$ \\\\\n",
       "\t10 & datasets & Puromycin & Reaction Velocity of an Enzymatic Reaction & $\\dots$ \\\\\n",
       "\t11 & datasets & Theoph & Pharmacokinetics of Theophylline & $\\dots$ \\\\\n",
       "\t12 & datasets & Titanic & Survival of passengers on the Titanic & $\\dots$ \\\\\n",
       "\t13 & datasets & ToothGrowth & The Effect of Vitamin C on Tooth Growth in Guinea Pigs & $\\dots$ \\\\\n",
       "\t14 & datasets & UCBAdmissions & Student Admissions at UC Berkeley & $\\dots$ \\\\\n",
       "\t15 & datasets & USArrests & Violent Crime Rates by US State & $\\dots$ \\\\\n",
       "\t16 & datasets & USJudgeRatings & Lawyers' Ratings of State Judges in the US Superior Court & $\\dots$ \\\\\n",
       "\t17 & datasets & USPersonalExpenditure & Personal Expenditure Data & $\\dots$ \\\\\n",
       "\t18 & datasets & VADeaths & Death Rates in Virginia (1940) & $\\dots$ \\\\\n",
       "\t19 & datasets & WorldPhones & The World's Telephones & $\\dots$ \\\\\n",
       "\t20 & datasets & airquality & New York Air Quality Measurements & $\\dots$ \\\\\n",
       "\t21 & datasets & anscombe & Anscombe's Quartet of 'Identical' Simple Linear Regressions & $\\dots$ \\\\\n",
       "\t22 & datasets & attenu & The Joyner-Boore Attenuation Data & $\\dots$ \\\\\n",
       "\t23 & datasets & attitude & The Chatterjee-Price Attitude Data & $\\dots$ \\\\\n",
       "\t24 & datasets & cars & Speed and Stopping Distances of Cars & $\\dots$ \\\\\n",
       "\t$\\dots$ & $\\dots$ & $\\dots$ & $\\dots$ &  \\\\\n",
       "\\end{tabular}\n"
      ],
      "text/plain": [
       "\u001b[1m50×5 DataFrame\u001b[0m\n",
       "\u001b[1m Row \u001b[0m│\u001b[1m Package  \u001b[0m\u001b[1m Dataset          \u001b[0m\u001b[1m Title                             \u001b[0m\u001b[1m Rows  \u001b[0m\u001b[1m C\u001b[0m ⋯\n",
       "     │\u001b[90m String15 \u001b[0m\u001b[90m String31         \u001b[0m\u001b[90m String                            \u001b[0m\u001b[90m Int64 \u001b[0m\u001b[90m I\u001b[0m ⋯\n",
       "─────┼──────────────────────────────────────────────────────────────────────────\n",
       "   1 │ datasets  BOD               Biochemical Oxygen Demand              6    ⋯\n",
       "   2 │ datasets  CO2               Carbon Dioxide Uptake in Grass P…     84\n",
       "   3 │ datasets  Formaldehyde      Determination of Formaldehyde          6\n",
       "   4 │ datasets  HairEyeColor      Hair and Eye Color of Statistics…     32\n",
       "   5 │ datasets  InsectSprays      Effectiveness of Insect Sprays        72    ⋯\n",
       "   6 │ datasets  LifeCycleSavings  Intercountry Life-Cycle Savings …     50\n",
       "   7 │ datasets  Loblolly          Growth of Loblolly pine trees         84\n",
       "   8 │ datasets  OrchardSprays     Potency of Orchard Sprays             64\n",
       "  ⋮  │    ⋮             ⋮                          ⋮                    ⋮      ⋱\n",
       "  44 │ datasets  sleep             Student's Sleep Data                  20    ⋯\n",
       "  45 │ datasets  stackloss         Brownlee's Stack Loss Plant Data      21\n",
       "  46 │ datasets  swiss             Swiss Fertility and Socioeconomi…     47\n",
       "  47 │ datasets  trees             Girth, Height and Volume for Bla…     31\n",
       "  48 │ datasets  volcano           Topographic Information on Auckl…     87    ⋯\n",
       "  49 │ datasets  warpbreaks        The Number of Breaks in Yarn dur…     54\n",
       "  50 │ datasets  women             Average Heights and Weights for …     15\n",
       "\u001b[36m                                                    1 column and 35 rows omitted\u001b[0m"
      ]
     },
     "metadata": {},
     "output_type": "display_data"
    }
   ],
   "source": [
    "RDatasets.datasets(\"datasets\")"
   ]
  },
  {
   "cell_type": "code",
   "execution_count": 5,
   "metadata": {},
   "outputs": [
    {
     "data": {
      "text/html": [
       "<div><div style = \"float: left;\"><span>150×5 DataFrame</span></div><div style = \"float: right;\"><span style = \"font-style: italic;\">125 rows omitted</span></div><div style = \"clear: both;\"></div></div><div class = \"data-frame\" style = \"overflow-x: scroll;\"><table class = \"data-frame\" style = \"margin-bottom: 6px;\"><thead><tr class = \"header\"><th class = \"rowNumber\" style = \"font-weight: bold; text-align: right;\">Row</th><th style = \"text-align: left;\">SepalLength</th><th style = \"text-align: left;\">SepalWidth</th><th style = \"text-align: left;\">PetalLength</th><th style = \"text-align: left;\">PetalWidth</th><th style = \"text-align: left;\">Species</th></tr><tr class = \"subheader headerLastRow\"><th class = \"rowNumber\" style = \"font-weight: bold; text-align: right;\"></th><th title = \"Float64\" style = \"text-align: left;\">Float64</th><th title = \"Float64\" style = \"text-align: left;\">Float64</th><th title = \"Float64\" style = \"text-align: left;\">Float64</th><th title = \"Float64\" style = \"text-align: left;\">Float64</th><th title = \"CategoricalArrays.CategoricalValue{String, UInt8}\" style = \"text-align: left;\">Cat…</th></tr></thead><tbody><tr><td class = \"rowNumber\" style = \"font-weight: bold; text-align: right;\">1</td><td style = \"text-align: right;\">5.1</td><td style = \"text-align: right;\">3.5</td><td style = \"text-align: right;\">1.4</td><td style = \"text-align: right;\">0.2</td><td style = \"text-align: left;\">setosa</td></tr><tr><td class = \"rowNumber\" style = \"font-weight: bold; text-align: right;\">2</td><td style = \"text-align: right;\">4.9</td><td style = \"text-align: right;\">3.0</td><td style = \"text-align: right;\">1.4</td><td style = \"text-align: right;\">0.2</td><td style = \"text-align: left;\">setosa</td></tr><tr><td class = \"rowNumber\" style = \"font-weight: bold; text-align: right;\">3</td><td style = \"text-align: right;\">4.7</td><td style = \"text-align: right;\">3.2</td><td style = \"text-align: right;\">1.3</td><td style = \"text-align: right;\">0.2</td><td style = \"text-align: left;\">setosa</td></tr><tr><td class = \"rowNumber\" style = \"font-weight: bold; text-align: right;\">4</td><td style = \"text-align: right;\">4.6</td><td style = \"text-align: right;\">3.1</td><td style = \"text-align: right;\">1.5</td><td style = \"text-align: right;\">0.2</td><td style = \"text-align: left;\">setosa</td></tr><tr><td class = \"rowNumber\" style = \"font-weight: bold; text-align: right;\">5</td><td style = \"text-align: right;\">5.0</td><td style = \"text-align: right;\">3.6</td><td style = \"text-align: right;\">1.4</td><td style = \"text-align: right;\">0.2</td><td style = \"text-align: left;\">setosa</td></tr><tr><td class = \"rowNumber\" style = \"font-weight: bold; text-align: right;\">6</td><td style = \"text-align: right;\">5.4</td><td style = \"text-align: right;\">3.9</td><td style = \"text-align: right;\">1.7</td><td style = \"text-align: right;\">0.4</td><td style = \"text-align: left;\">setosa</td></tr><tr><td class = \"rowNumber\" style = \"font-weight: bold; text-align: right;\">7</td><td style = \"text-align: right;\">4.6</td><td style = \"text-align: right;\">3.4</td><td style = \"text-align: right;\">1.4</td><td style = \"text-align: right;\">0.3</td><td style = \"text-align: left;\">setosa</td></tr><tr><td class = \"rowNumber\" style = \"font-weight: bold; text-align: right;\">8</td><td style = \"text-align: right;\">5.0</td><td style = \"text-align: right;\">3.4</td><td style = \"text-align: right;\">1.5</td><td style = \"text-align: right;\">0.2</td><td style = \"text-align: left;\">setosa</td></tr><tr><td class = \"rowNumber\" style = \"font-weight: bold; text-align: right;\">9</td><td style = \"text-align: right;\">4.4</td><td style = \"text-align: right;\">2.9</td><td style = \"text-align: right;\">1.4</td><td style = \"text-align: right;\">0.2</td><td style = \"text-align: left;\">setosa</td></tr><tr><td class = \"rowNumber\" style = \"font-weight: bold; text-align: right;\">10</td><td style = \"text-align: right;\">4.9</td><td style = \"text-align: right;\">3.1</td><td style = \"text-align: right;\">1.5</td><td style = \"text-align: right;\">0.1</td><td style = \"text-align: left;\">setosa</td></tr><tr><td class = \"rowNumber\" style = \"font-weight: bold; text-align: right;\">11</td><td style = \"text-align: right;\">5.4</td><td style = \"text-align: right;\">3.7</td><td style = \"text-align: right;\">1.5</td><td style = \"text-align: right;\">0.2</td><td style = \"text-align: left;\">setosa</td></tr><tr><td class = \"rowNumber\" style = \"font-weight: bold; text-align: right;\">12</td><td style = \"text-align: right;\">4.8</td><td style = \"text-align: right;\">3.4</td><td style = \"text-align: right;\">1.6</td><td style = \"text-align: right;\">0.2</td><td style = \"text-align: left;\">setosa</td></tr><tr><td class = \"rowNumber\" style = \"font-weight: bold; text-align: right;\">13</td><td style = \"text-align: right;\">4.8</td><td style = \"text-align: right;\">3.0</td><td style = \"text-align: right;\">1.4</td><td style = \"text-align: right;\">0.1</td><td style = \"text-align: left;\">setosa</td></tr><tr><td style = \"text-align: right;\">&vellip;</td><td style = \"text-align: right;\">&vellip;</td><td style = \"text-align: right;\">&vellip;</td><td style = \"text-align: right;\">&vellip;</td><td style = \"text-align: right;\">&vellip;</td><td style = \"text-align: right;\">&vellip;</td></tr><tr><td class = \"rowNumber\" style = \"font-weight: bold; text-align: right;\">139</td><td style = \"text-align: right;\">6.0</td><td style = \"text-align: right;\">3.0</td><td style = \"text-align: right;\">4.8</td><td style = \"text-align: right;\">1.8</td><td style = \"text-align: left;\">virginica</td></tr><tr><td class = \"rowNumber\" style = \"font-weight: bold; text-align: right;\">140</td><td style = \"text-align: right;\">6.9</td><td style = \"text-align: right;\">3.1</td><td style = \"text-align: right;\">5.4</td><td style = \"text-align: right;\">2.1</td><td style = \"text-align: left;\">virginica</td></tr><tr><td class = \"rowNumber\" style = \"font-weight: bold; text-align: right;\">141</td><td style = \"text-align: right;\">6.7</td><td style = \"text-align: right;\">3.1</td><td style = \"text-align: right;\">5.6</td><td style = \"text-align: right;\">2.4</td><td style = \"text-align: left;\">virginica</td></tr><tr><td class = \"rowNumber\" style = \"font-weight: bold; text-align: right;\">142</td><td style = \"text-align: right;\">6.9</td><td style = \"text-align: right;\">3.1</td><td style = \"text-align: right;\">5.1</td><td style = \"text-align: right;\">2.3</td><td style = \"text-align: left;\">virginica</td></tr><tr><td class = \"rowNumber\" style = \"font-weight: bold; text-align: right;\">143</td><td style = \"text-align: right;\">5.8</td><td style = \"text-align: right;\">2.7</td><td style = \"text-align: right;\">5.1</td><td style = \"text-align: right;\">1.9</td><td style = \"text-align: left;\">virginica</td></tr><tr><td class = \"rowNumber\" style = \"font-weight: bold; text-align: right;\">144</td><td style = \"text-align: right;\">6.8</td><td style = \"text-align: right;\">3.2</td><td style = \"text-align: right;\">5.9</td><td style = \"text-align: right;\">2.3</td><td style = \"text-align: left;\">virginica</td></tr><tr><td class = \"rowNumber\" style = \"font-weight: bold; text-align: right;\">145</td><td style = \"text-align: right;\">6.7</td><td style = \"text-align: right;\">3.3</td><td style = \"text-align: right;\">5.7</td><td style = \"text-align: right;\">2.5</td><td style = \"text-align: left;\">virginica</td></tr><tr><td class = \"rowNumber\" style = \"font-weight: bold; text-align: right;\">146</td><td style = \"text-align: right;\">6.7</td><td style = \"text-align: right;\">3.0</td><td style = \"text-align: right;\">5.2</td><td style = \"text-align: right;\">2.3</td><td style = \"text-align: left;\">virginica</td></tr><tr><td class = \"rowNumber\" style = \"font-weight: bold; text-align: right;\">147</td><td style = \"text-align: right;\">6.3</td><td style = \"text-align: right;\">2.5</td><td style = \"text-align: right;\">5.0</td><td style = \"text-align: right;\">1.9</td><td style = \"text-align: left;\">virginica</td></tr><tr><td class = \"rowNumber\" style = \"font-weight: bold; text-align: right;\">148</td><td style = \"text-align: right;\">6.5</td><td style = \"text-align: right;\">3.0</td><td style = \"text-align: right;\">5.2</td><td style = \"text-align: right;\">2.0</td><td style = \"text-align: left;\">virginica</td></tr><tr><td class = \"rowNumber\" style = \"font-weight: bold; text-align: right;\">149</td><td style = \"text-align: right;\">6.2</td><td style = \"text-align: right;\">3.4</td><td style = \"text-align: right;\">5.4</td><td style = \"text-align: right;\">2.3</td><td style = \"text-align: left;\">virginica</td></tr><tr><td class = \"rowNumber\" style = \"font-weight: bold; text-align: right;\">150</td><td style = \"text-align: right;\">5.9</td><td style = \"text-align: right;\">3.0</td><td style = \"text-align: right;\">5.1</td><td style = \"text-align: right;\">1.8</td><td style = \"text-align: left;\">virginica</td></tr></tbody></table></div>"
      ],
      "text/latex": [
       "\\begin{tabular}{r|ccccc}\n",
       "\t& SepalLength & SepalWidth & PetalLength & PetalWidth & Species\\\\\n",
       "\t\\hline\n",
       "\t& Float64 & Float64 & Float64 & Float64 & Cat…\\\\\n",
       "\t\\hline\n",
       "\t1 & 5.1 & 3.5 & 1.4 & 0.2 & setosa \\\\\n",
       "\t2 & 4.9 & 3.0 & 1.4 & 0.2 & setosa \\\\\n",
       "\t3 & 4.7 & 3.2 & 1.3 & 0.2 & setosa \\\\\n",
       "\t4 & 4.6 & 3.1 & 1.5 & 0.2 & setosa \\\\\n",
       "\t5 & 5.0 & 3.6 & 1.4 & 0.2 & setosa \\\\\n",
       "\t6 & 5.4 & 3.9 & 1.7 & 0.4 & setosa \\\\\n",
       "\t7 & 4.6 & 3.4 & 1.4 & 0.3 & setosa \\\\\n",
       "\t8 & 5.0 & 3.4 & 1.5 & 0.2 & setosa \\\\\n",
       "\t9 & 4.4 & 2.9 & 1.4 & 0.2 & setosa \\\\\n",
       "\t10 & 4.9 & 3.1 & 1.5 & 0.1 & setosa \\\\\n",
       "\t11 & 5.4 & 3.7 & 1.5 & 0.2 & setosa \\\\\n",
       "\t12 & 4.8 & 3.4 & 1.6 & 0.2 & setosa \\\\\n",
       "\t13 & 4.8 & 3.0 & 1.4 & 0.1 & setosa \\\\\n",
       "\t14 & 4.3 & 3.0 & 1.1 & 0.1 & setosa \\\\\n",
       "\t15 & 5.8 & 4.0 & 1.2 & 0.2 & setosa \\\\\n",
       "\t16 & 5.7 & 4.4 & 1.5 & 0.4 & setosa \\\\\n",
       "\t17 & 5.4 & 3.9 & 1.3 & 0.4 & setosa \\\\\n",
       "\t18 & 5.1 & 3.5 & 1.4 & 0.3 & setosa \\\\\n",
       "\t19 & 5.7 & 3.8 & 1.7 & 0.3 & setosa \\\\\n",
       "\t20 & 5.1 & 3.8 & 1.5 & 0.3 & setosa \\\\\n",
       "\t21 & 5.4 & 3.4 & 1.7 & 0.2 & setosa \\\\\n",
       "\t22 & 5.1 & 3.7 & 1.5 & 0.4 & setosa \\\\\n",
       "\t23 & 4.6 & 3.6 & 1.0 & 0.2 & setosa \\\\\n",
       "\t24 & 5.1 & 3.3 & 1.7 & 0.5 & setosa \\\\\n",
       "\t$\\dots$ & $\\dots$ & $\\dots$ & $\\dots$ & $\\dots$ & $\\dots$ \\\\\n",
       "\\end{tabular}\n"
      ],
      "text/plain": [
       "\u001b[1m150×5 DataFrame\u001b[0m\n",
       "\u001b[1m Row \u001b[0m│\u001b[1m SepalLength \u001b[0m\u001b[1m SepalWidth \u001b[0m\u001b[1m PetalLength \u001b[0m\u001b[1m PetalWidth \u001b[0m\u001b[1m Species   \u001b[0m\n",
       "     │\u001b[90m Float64     \u001b[0m\u001b[90m Float64    \u001b[0m\u001b[90m Float64     \u001b[0m\u001b[90m Float64    \u001b[0m\u001b[90m Cat…      \u001b[0m\n",
       "─────┼─────────────────────────────────────────────────────────────\n",
       "   1 │         5.1         3.5          1.4         0.2  setosa\n",
       "   2 │         4.9         3.0          1.4         0.2  setosa\n",
       "   3 │         4.7         3.2          1.3         0.2  setosa\n",
       "   4 │         4.6         3.1          1.5         0.2  setosa\n",
       "   5 │         5.0         3.6          1.4         0.2  setosa\n",
       "   6 │         5.4         3.9          1.7         0.4  setosa\n",
       "   7 │         4.6         3.4          1.4         0.3  setosa\n",
       "   8 │         5.0         3.4          1.5         0.2  setosa\n",
       "  ⋮  │      ⋮           ⋮            ⋮           ⋮           ⋮\n",
       " 144 │         6.8         3.2          5.9         2.3  virginica\n",
       " 145 │         6.7         3.3          5.7         2.5  virginica\n",
       " 146 │         6.7         3.0          5.2         2.3  virginica\n",
       " 147 │         6.3         2.5          5.0         1.9  virginica\n",
       " 148 │         6.5         3.0          5.2         2.0  virginica\n",
       " 149 │         6.2         3.4          5.4         2.3  virginica\n",
       " 150 │         5.9         3.0          5.1         1.8  virginica\n",
       "\u001b[36m                                                   135 rows omitted\u001b[0m"
      ]
     },
     "metadata": {},
     "output_type": "display_data"
    }
   ],
   "source": [
    "iris=RDatasets.dataset(\"datasets\",\"iris\")"
   ]
  },
  {
   "cell_type": "code",
   "execution_count": 6,
   "metadata": {},
   "outputs": [
    {
     "data": {
      "text/plain": [
       "10-element Vector{Float64}:\n",
       " 3.7\n",
       " 3.4\n",
       " 3.0\n",
       " 3.0\n",
       " 4.0\n",
       " 4.4\n",
       " 3.9\n",
       " 3.5\n",
       " 3.8\n",
       " 3.8"
      ]
     },
     "metadata": {},
     "output_type": "display_data"
    }
   ],
   "source": [
    "iris[11:20,:SepalWidth]"
   ]
  },
  {
   "cell_type": "code",
   "execution_count": 7,
   "metadata": {},
   "outputs": [
    {
     "data": {
      "text/html": [
       "<div><div style = \"float: left;\"><span>7×4 DataFrame</span></div><div style = \"clear: both;\"></div></div><div class = \"data-frame\" style = \"overflow-x: scroll;\"><table class = \"data-frame\" style = \"margin-bottom: 6px;\"><thead><tr class = \"header\"><th class = \"rowNumber\" style = \"font-weight: bold; text-align: right;\">Row</th><th style = \"text-align: left;\">A</th><th style = \"text-align: left;\">B</th><th style = \"text-align: left;\">C</th><th style = \"text-align: left;\">D</th></tr><tr class = \"subheader headerLastRow\"><th class = \"rowNumber\" style = \"font-weight: bold; text-align: right;\"></th><th title = \"Int64\" style = \"text-align: left;\">Int64</th><th title = \"String\" style = \"text-align: left;\">String</th><th title = \"Float64\" style = \"text-align: left;\">Float64</th><th title = \"Rational{Int64}\" style = \"text-align: left;\">Rational…</th></tr></thead><tbody><tr><td class = \"rowNumber\" style = \"font-weight: bold; text-align: right;\">1</td><td style = \"text-align: right;\">1</td><td style = \"text-align: left;\">M</td><td style = \"text-align: right;\">3.0</td><td style = \"text-align: right;\">-1//1</td></tr><tr><td class = \"rowNumber\" style = \"font-weight: bold; text-align: right;\">2</td><td style = \"text-align: right;\">3</td><td style = \"text-align: left;\">F</td><td style = \"text-align: right;\">2.5</td><td style = \"text-align: right;\">1//2</td></tr><tr><td class = \"rowNumber\" style = \"font-weight: bold; text-align: right;\">3</td><td style = \"text-align: right;\">5</td><td style = \"text-align: left;\">F</td><td style = \"text-align: right;\">3.14159</td><td style = \"text-align: right;\">-1//3</td></tr><tr><td class = \"rowNumber\" style = \"font-weight: bold; text-align: right;\">4</td><td style = \"text-align: right;\">7</td><td style = \"text-align: left;\">M</td><td style = \"text-align: right;\">-2.3</td><td style = \"text-align: right;\">1//4</td></tr><tr><td class = \"rowNumber\" style = \"font-weight: bold; text-align: right;\">5</td><td style = \"text-align: right;\">9</td><td style = \"text-align: left;\">X</td><td style = \"text-align: right;\">0.333333</td><td style = \"text-align: right;\">-1//5</td></tr><tr><td class = \"rowNumber\" style = \"font-weight: bold; text-align: right;\">6</td><td style = \"text-align: right;\">11</td><td style = \"text-align: left;\">F</td><td style = \"text-align: right;\">56.0</td><td style = \"text-align: right;\">1//6</td></tr><tr><td class = \"rowNumber\" style = \"font-weight: bold; text-align: right;\">7</td><td style = \"text-align: right;\">13</td><td style = \"text-align: left;\">M</td><td style = \"text-align: right;\">100.0</td><td style = \"text-align: right;\">-1//7</td></tr></tbody></table></div>"
      ],
      "text/latex": [
       "\\begin{tabular}{r|cccc}\n",
       "\t& A & B & C & D\\\\\n",
       "\t\\hline\n",
       "\t& Int64 & String & Float64 & Rational…\\\\\n",
       "\t\\hline\n",
       "\t1 & 1 & M & 3.0 & -1 \\\\\n",
       "\t2 & 3 & F & 2.5 & 1//2 \\\\\n",
       "\t3 & 5 & F & 3.14159 & -1//3 \\\\\n",
       "\t4 & 7 & M & -2.3 & 1//4 \\\\\n",
       "\t5 & 9 & X & 0.333333 & -1//5 \\\\\n",
       "\t6 & 11 & F & 56.0 & 1//6 \\\\\n",
       "\t7 & 13 & M & 100.0 & -1//7 \\\\\n",
       "\\end{tabular}\n"
      ],
      "text/plain": [
       "\u001b[1m7×4 DataFrame\u001b[0m\n",
       "\u001b[1m Row \u001b[0m│\u001b[1m A     \u001b[0m\u001b[1m B      \u001b[0m\u001b[1m C          \u001b[0m\u001b[1m D         \u001b[0m\n",
       "     │\u001b[90m Int64 \u001b[0m\u001b[90m String \u001b[0m\u001b[90m Float64    \u001b[0m\u001b[90m Rational… \u001b[0m\n",
       "─────┼──────────────────────────────────────\n",
       "   1 │     1  M         3.0           -1//1\n",
       "   2 │     3  F         2.5            1//2\n",
       "   3 │     5  F         3.14159       -1//3\n",
       "   4 │     7  M        -2.3            1//4\n",
       "   5 │     9  X         0.333333      -1//5\n",
       "   6 │    11  F        56.0            1//6\n",
       "   7 │    13  M       100.0           -1//7"
      ]
     },
     "metadata": {},
     "output_type": "display_data"
    }
   ],
   "source": [
    "data = DataFrame(\n",
    "          A = 1:2:13,\n",
    "          B = [\"M\", \"F\", \"F\", \"M\",\"X\",\"F\",\"M\"],\n",
    "          C=[3.0,2.5,pi,-2.3,1/3,56,100],\n",
    "          D=[(-1)^n//n for n=1:7]\n",
    "        )"
   ]
  },
  {
   "cell_type": "code",
   "execution_count": 12,
   "metadata": {},
   "outputs": [
    {
     "data": {
      "text/html": [
       "<div><div style = \"float: left;\"><span>5×7 DataFrame</span></div><div style = \"clear: both;\"></div></div><div class = \"data-frame\" style = \"overflow-x: scroll;\"><table class = \"data-frame\" style = \"margin-bottom: 6px;\"><thead><tr class = \"header\"><th class = \"rowNumber\" style = \"font-weight: bold; text-align: right;\">Row</th><th style = \"text-align: left;\">variable</th><th style = \"text-align: left;\">mean</th><th style = \"text-align: left;\">min</th><th style = \"text-align: left;\">median</th><th style = \"text-align: left;\">max</th><th style = \"text-align: left;\">nmissing</th><th style = \"text-align: left;\">eltype</th></tr><tr class = \"subheader headerLastRow\"><th class = \"rowNumber\" style = \"font-weight: bold; text-align: right;\"></th><th title = \"Symbol\" style = \"text-align: left;\">Symbol</th><th title = \"Union{Nothing, Float64}\" style = \"text-align: left;\">Union…</th><th title = \"Any\" style = \"text-align: left;\">Any</th><th title = \"Union{Nothing, Float64}\" style = \"text-align: left;\">Union…</th><th title = \"Any\" style = \"text-align: left;\">Any</th><th title = \"Int64\" style = \"text-align: left;\">Int64</th><th title = \"DataType\" style = \"text-align: left;\">DataType</th></tr></thead><tbody><tr><td class = \"rowNumber\" style = \"font-weight: bold; text-align: right;\">1</td><td style = \"text-align: left;\">SepalLength</td><td style = \"text-align: left;\">5.84333</td><td style = \"text-align: left;\">4.3</td><td style = \"text-align: left;\">5.8</td><td style = \"text-align: left;\">7.9</td><td style = \"text-align: right;\">0</td><td style = \"text-align: left;\">Float64</td></tr><tr><td class = \"rowNumber\" style = \"font-weight: bold; text-align: right;\">2</td><td style = \"text-align: left;\">SepalWidth</td><td style = \"text-align: left;\">3.05733</td><td style = \"text-align: left;\">2.0</td><td style = \"text-align: left;\">3.0</td><td style = \"text-align: left;\">4.4</td><td style = \"text-align: right;\">0</td><td style = \"text-align: left;\">Float64</td></tr><tr><td class = \"rowNumber\" style = \"font-weight: bold; text-align: right;\">3</td><td style = \"text-align: left;\">PetalLength</td><td style = \"text-align: left;\">3.758</td><td style = \"text-align: left;\">1.0</td><td style = \"text-align: left;\">4.35</td><td style = \"text-align: left;\">6.9</td><td style = \"text-align: right;\">0</td><td style = \"text-align: left;\">Float64</td></tr><tr><td class = \"rowNumber\" style = \"font-weight: bold; text-align: right;\">4</td><td style = \"text-align: left;\">PetalWidth</td><td style = \"text-align: left;\">1.19933</td><td style = \"text-align: left;\">0.1</td><td style = \"text-align: left;\">1.3</td><td style = \"text-align: left;\">2.5</td><td style = \"text-align: right;\">0</td><td style = \"text-align: left;\">Float64</td></tr><tr><td class = \"rowNumber\" style = \"font-weight: bold; text-align: right;\">5</td><td style = \"text-align: left;\">Species</td><td style = \"font-style: italic; text-align: left;\"></td><td style = \"text-align: left;\">setosa</td><td style = \"font-style: italic; text-align: left;\"></td><td style = \"text-align: left;\">virginica</td><td style = \"text-align: right;\">0</td><td style = \"text-align: left;\">CategoricalValue{String, UInt8}</td></tr></tbody></table></div>"
      ],
      "text/latex": [
       "\\begin{tabular}{r|ccccccc}\n",
       "\t& variable & mean & min & median & max & nmissing & eltype\\\\\n",
       "\t\\hline\n",
       "\t& Symbol & Union… & Any & Union… & Any & Int64 & DataType\\\\\n",
       "\t\\hline\n",
       "\t1 & SepalLength & 5.84333 & 4.3 & 5.8 & 7.9 & 0 & Float64 \\\\\n",
       "\t2 & SepalWidth & 3.05733 & 2.0 & 3.0 & 4.4 & 0 & Float64 \\\\\n",
       "\t3 & PetalLength & 3.758 & 1.0 & 4.35 & 6.9 & 0 & Float64 \\\\\n",
       "\t4 & PetalWidth & 1.19933 & 0.1 & 1.3 & 2.5 & 0 & Float64 \\\\\n",
       "\t5 & Species &  & setosa &  & virginica & 0 & CategoricalValue\\{String, UInt8\\} \\\\\n",
       "\\end{tabular}\n"
      ],
      "text/plain": [
       "\u001b[1m5×7 DataFrame\u001b[0m\n",
       "\u001b[1m Row \u001b[0m│\u001b[1m variable    \u001b[0m\u001b[1m mean    \u001b[0m\u001b[1m min    \u001b[0m\u001b[1m median \u001b[0m\u001b[1m max       \u001b[0m\u001b[1m nmissing \u001b[0m\u001b[1m eltype      \u001b[0m ⋯\n",
       "     │\u001b[90m Symbol      \u001b[0m\u001b[90m Union…  \u001b[0m\u001b[90m Any    \u001b[0m\u001b[90m Union… \u001b[0m\u001b[90m Any       \u001b[0m\u001b[90m Int64    \u001b[0m\u001b[90m DataType    \u001b[0m ⋯\n",
       "─────┼──────────────────────────────────────────────────────────────────────────\n",
       "   1 │ SepalLength  5.84333  4.3     5.8     7.9               0  Float64      ⋯\n",
       "   2 │ SepalWidth   3.05733  2.0     3.0     4.4               0  Float64\n",
       "   3 │ PetalLength  3.758    1.0     4.35    6.9               0  Float64\n",
       "   4 │ PetalWidth   1.19933  0.1     1.3     2.5               0  Float64\n",
       "   5 │ Species     \u001b[90m         \u001b[0m setosa \u001b[90m        \u001b[0m virginica         0  CategoricalV ⋯\n",
       "\u001b[36m                                                                1 column omitted\u001b[0m"
      ]
     },
     "metadata": {},
     "output_type": "display_data"
    }
   ],
   "source": [
    "describe(iris)"
   ]
  },
  {
   "cell_type": "code",
   "execution_count": 9,
   "metadata": {},
   "outputs": [
    {
     "data": {
      "text/plain": [
       "(5.843333333333334, 0.828066127977863)"
      ]
     },
     "metadata": {},
     "output_type": "display_data"
    }
   ],
   "source": [
    "using Statistics\n",
    "mean(iris[!,:SepalLength]),std(iris[!,:SepalLength])"
   ]
  },
  {
   "cell_type": "code",
   "execution_count": 14,
   "metadata": {},
   "outputs": [
    {
     "data": {
      "text/plain": [
       "0.9535708819095105398718705441330078869495314128723191646104050462287315327622005"
      ]
     },
     "metadata": {},
     "output_type": "display_data"
    }
   ],
   "source": [
    "sqrt(sin(big(2.0)))"
   ]
  },
  {
   "cell_type": "code",
   "execution_count": 10,
   "metadata": {},
   "outputs": [
    {
     "data": {
      "text/plain": [
       "3.0"
      ]
     },
     "metadata": {},
     "output_type": "display_data"
    }
   ],
   "source": [
    "1:5  |>\n",
    "  collect  |>\n",
    "  arr  -> deleteat!(arr,3) |>\n",
    "  mean"
   ]
  },
  {
   "cell_type": "code",
   "execution_count": 12,
   "metadata": {},
   "outputs": [],
   "source": [
    "using Chain, Statistics"
   ]
  },
  {
   "cell_type": "code",
   "execution_count": 13,
   "metadata": {},
   "outputs": [
    {
     "data": {
      "text/plain": [
       "4.0"
      ]
     },
     "metadata": {},
     "output_type": "display_data"
    }
   ],
   "source": [
    "@chain 1:7 begin\n",
    "  collect\n",
    "  deleteat!(4)\n",
    "  mean\n",
    "end"
   ]
  },
  {
   "cell_type": "code",
   "execution_count": 14,
   "metadata": {},
   "outputs": [
    {
     "data": {
      "text/plain": [
       "38.67815921162743"
      ]
     },
     "metadata": {},
     "output_type": "display_data"
    }
   ],
   "source": [
    "@chain 1:10 begin\n",
    "  map(x -> x^2, _)\n",
    "  filter(x -> x % 2 == 0, _)\n",
    "  std\n",
    "end"
   ]
  },
  {
   "cell_type": "code",
   "execution_count": 19,
   "metadata": {},
   "outputs": [
    {
     "data": {
      "text/html": [
       "<div><div style = \"float: left;\"><span>7×5 DataFrame</span></div><div style = \"clear: both;\"></div></div><div class = \"data-frame\" style = \"overflow-x: scroll;\"><table class = \"data-frame\" style = \"margin-bottom: 6px;\"><thead><tr class = \"header\"><th class = \"rowNumber\" style = \"font-weight: bold; text-align: right;\">Row</th><th style = \"text-align: left;\">id</th><th style = \"text-align: left;\">name</th><th style = \"text-align: left;\">age</th><th style = \"text-align: left;\">salary</th><th style = \"text-align: left;\">favorite_food</th></tr><tr class = \"subheader headerLastRow\"><th class = \"rowNumber\" style = \"font-weight: bold; text-align: right;\"></th><th title = \"Int64\" style = \"text-align: left;\">Int64</th><th title = \"String\" style = \"text-align: left;\">String</th><th title = \"Int64\" style = \"text-align: left;\">Int64</th><th title = \"Union{Missing, Int64}\" style = \"text-align: left;\">Int64?</th><th title = \"Union{Missing, String}\" style = \"text-align: left;\">String?</th></tr></thead><tbody><tr><td class = \"rowNumber\" style = \"font-weight: bold; text-align: right;\">1</td><td style = \"text-align: right;\">1</td><td style = \"text-align: left;\">Homer</td><td style = \"text-align: right;\">45</td><td style = \"text-align: right;\">50000</td><td style = \"text-align: left;\">pork chops</td></tr><tr><td class = \"rowNumber\" style = \"font-weight: bold; text-align: right;\">2</td><td style = \"text-align: right;\">3</td><td style = \"text-align: left;\">Marge</td><td style = \"text-align: right;\">42</td><td style = \"text-align: right;\">25000</td><td style = \"text-align: left;\">casserole</td></tr><tr><td class = \"rowNumber\" style = \"font-weight: bold; text-align: right;\">3</td><td style = \"text-align: right;\">5</td><td style = \"text-align: left;\">Lisa</td><td style = \"text-align: right;\">8</td><td style = \"text-align: right;\">10000</td><td style = \"text-align: left;\">salad</td></tr><tr><td class = \"rowNumber\" style = \"font-weight: bold; text-align: right;\">4</td><td style = \"text-align: right;\">7</td><td style = \"text-align: left;\">Bart</td><td style = \"text-align: right;\">10</td><td style = \"font-style: italic; text-align: right;\">missing</td><td style = \"text-align: left;\">hamburger</td></tr><tr><td class = \"rowNumber\" style = \"font-weight: bold; text-align: right;\">5</td><td style = \"text-align: right;\">9</td><td style = \"text-align: left;\">Maggie</td><td style = \"text-align: right;\">1</td><td style = \"font-style: italic; text-align: right;\">missing</td><td style = \"font-style: italic; text-align: left;\">missing</td></tr><tr><td class = \"rowNumber\" style = \"font-weight: bold; text-align: right;\">6</td><td style = \"text-align: right;\">11</td><td style = \"text-align: left;\">Apu</td><td style = \"text-align: right;\">38</td><td style = \"text-align: right;\">45000</td><td style = \"text-align: left;\">saag paneer</td></tr><tr><td class = \"rowNumber\" style = \"font-weight: bold; text-align: right;\">7</td><td style = \"text-align: right;\">13</td><td style = \"text-align: left;\">Moe</td><td style = \"text-align: right;\">59</td><td style = \"text-align: right;\">3000</td><td style = \"text-align: left;\">peanuts</td></tr></tbody></table></div>"
      ],
      "text/latex": [
       "\\begin{tabular}{r|ccccc}\n",
       "\t& id & name & age & salary & favorite\\_food\\\\\n",
       "\t\\hline\n",
       "\t& Int64 & String & Int64 & Int64? & String?\\\\\n",
       "\t\\hline\n",
       "\t1 & 1 & Homer & 45 & 50000 & pork chops \\\\\n",
       "\t2 & 3 & Marge & 42 & 25000 & casserole \\\\\n",
       "\t3 & 5 & Lisa & 8 & 10000 & salad \\\\\n",
       "\t4 & 7 & Bart & 10 & \\emph{missing} & hamburger \\\\\n",
       "\t5 & 9 & Maggie & 1 & \\emph{missing} & \\emph{missing} \\\\\n",
       "\t6 & 11 & Apu & 38 & 45000 & saag paneer \\\\\n",
       "\t7 & 13 & Moe & 59 & 3000 & peanuts \\\\\n",
       "\\end{tabular}\n"
      ],
      "text/plain": [
       "\u001b[1m7×5 DataFrame\u001b[0m\n",
       "\u001b[1m Row \u001b[0m│\u001b[1m id    \u001b[0m\u001b[1m name   \u001b[0m\u001b[1m age   \u001b[0m\u001b[1m salary  \u001b[0m\u001b[1m favorite_food \u001b[0m\n",
       "     │\u001b[90m Int64 \u001b[0m\u001b[90m String \u001b[0m\u001b[90m Int64 \u001b[0m\u001b[90m Int64?  \u001b[0m\u001b[90m String?       \u001b[0m\n",
       "─────┼──────────────────────────────────────────────\n",
       "   1 │     1  Homer      45    50000  pork chops\n",
       "   2 │     3  Marge      42    25000  casserole\n",
       "   3 │     5  Lisa        8    10000  salad\n",
       "   4 │     7  Bart       10 \u001b[90m missing \u001b[0m hamburger\n",
       "   5 │     9  Maggie      1 \u001b[90m missing \u001b[0m\u001b[90m missing       \u001b[0m\n",
       "   6 │    11  Apu        38    45000  saag paneer\n",
       "   7 │    13  Moe        59     3000  peanuts"
      ]
     },
     "metadata": {},
     "output_type": "display_data"
    }
   ],
   "source": [
    "simpsons = DataFrame(\n",
    "  id=1:2:13,\n",
    "  name=[\"Homer\",\"Marge\",\"Lisa\",\"Bart\",\"Maggie\",\"Apu\",\"Moe\"],\n",
    "  age =[45,42,8,10,1,38,59],\n",
    "  salary = [50000,25000,10000,missing,missing,45000,3000],\n",
    "  favorite_food = [\"pork chops\",\"casserole\",\"salad\",\"hamburger\",missing,\"saag paneer\",\"peanuts\"]\n",
    ")\n"
   ]
  },
  {
   "cell_type": "code",
   "execution_count": 20,
   "metadata": {},
   "outputs": [
    {
     "data": {
      "text/html": [
       "<div><div style = \"float: left;\"><span>5×7 DataFrame</span></div><div style = \"clear: both;\"></div></div><div class = \"data-frame\" style = \"overflow-x: scroll;\"><table class = \"data-frame\" style = \"margin-bottom: 6px;\"><thead><tr class = \"header\"><th class = \"rowNumber\" style = \"font-weight: bold; text-align: right;\">Row</th><th style = \"text-align: left;\">variable</th><th style = \"text-align: left;\">mean</th><th style = \"text-align: left;\">min</th><th style = \"text-align: left;\">median</th><th style = \"text-align: left;\">max</th><th style = \"text-align: left;\">nmissing</th><th style = \"text-align: left;\">eltype</th></tr><tr class = \"subheader headerLastRow\"><th class = \"rowNumber\" style = \"font-weight: bold; text-align: right;\"></th><th title = \"Symbol\" style = \"text-align: left;\">Symbol</th><th title = \"Union{Nothing, Float64}\" style = \"text-align: left;\">Union…</th><th title = \"Any\" style = \"text-align: left;\">Any</th><th title = \"Union{Nothing, Float64}\" style = \"text-align: left;\">Union…</th><th title = \"Any\" style = \"text-align: left;\">Any</th><th title = \"Int64\" style = \"text-align: left;\">Int64</th><th title = \"Type\" style = \"text-align: left;\">Type</th></tr></thead><tbody><tr><td class = \"rowNumber\" style = \"font-weight: bold; text-align: right;\">1</td><td style = \"text-align: left;\">id</td><td style = \"text-align: left;\">7.0</td><td style = \"text-align: left;\">1</td><td style = \"text-align: left;\">7.0</td><td style = \"text-align: left;\">13</td><td style = \"text-align: right;\">0</td><td style = \"text-align: left;\">Int64</td></tr><tr><td class = \"rowNumber\" style = \"font-weight: bold; text-align: right;\">2</td><td style = \"text-align: left;\">name</td><td style = \"font-style: italic; text-align: left;\"></td><td style = \"text-align: left;\">Apu</td><td style = \"font-style: italic; text-align: left;\"></td><td style = \"text-align: left;\">Moe</td><td style = \"text-align: right;\">0</td><td style = \"text-align: left;\">String</td></tr><tr><td class = \"rowNumber\" style = \"font-weight: bold; text-align: right;\">3</td><td style = \"text-align: left;\">age</td><td style = \"text-align: left;\">29.0</td><td style = \"text-align: left;\">1</td><td style = \"text-align: left;\">38.0</td><td style = \"text-align: left;\">59</td><td style = \"text-align: right;\">0</td><td style = \"text-align: left;\">Int64</td></tr><tr><td class = \"rowNumber\" style = \"font-weight: bold; text-align: right;\">4</td><td style = \"text-align: left;\">salary</td><td style = \"text-align: left;\">26600.0</td><td style = \"text-align: left;\">3000</td><td style = \"text-align: left;\">25000.0</td><td style = \"text-align: left;\">50000</td><td style = \"text-align: right;\">2</td><td style = \"text-align: left;\">Union{Missing, Int64}</td></tr><tr><td class = \"rowNumber\" style = \"font-weight: bold; text-align: right;\">5</td><td style = \"text-align: left;\">favorite_food</td><td style = \"font-style: italic; text-align: left;\"></td><td style = \"text-align: left;\">casserole</td><td style = \"font-style: italic; text-align: left;\"></td><td style = \"text-align: left;\">salad</td><td style = \"text-align: right;\">1</td><td style = \"text-align: left;\">Union{Missing, String}</td></tr></tbody></table></div>"
      ],
      "text/latex": [
       "\\begin{tabular}{r|ccccccc}\n",
       "\t& variable & mean & min & median & max & nmissing & eltype\\\\\n",
       "\t\\hline\n",
       "\t& Symbol & Union… & Any & Union… & Any & Int64 & Type\\\\\n",
       "\t\\hline\n",
       "\t1 & id & 7.0 & 1 & 7.0 & 13 & 0 & Int64 \\\\\n",
       "\t2 & name &  & Apu &  & Moe & 0 & String \\\\\n",
       "\t3 & age & 29.0 & 1 & 38.0 & 59 & 0 & Int64 \\\\\n",
       "\t4 & salary & 26600.0 & 3000 & 25000.0 & 50000 & 2 & Union\\{Missing, Int64\\} \\\\\n",
       "\t5 & favorite\\_food &  & casserole &  & salad & 1 & Union\\{Missing, String\\} \\\\\n",
       "\\end{tabular}\n"
      ],
      "text/plain": [
       "\u001b[1m5×7 DataFrame\u001b[0m\n",
       "\u001b[1m Row \u001b[0m│\u001b[1m variable      \u001b[0m\u001b[1m mean    \u001b[0m\u001b[1m min       \u001b[0m\u001b[1m median  \u001b[0m\u001b[1m max   \u001b[0m\u001b[1m nmissing \u001b[0m\u001b[1m eltype    \u001b[0m ⋯\n",
       "     │\u001b[90m Symbol        \u001b[0m\u001b[90m Union…  \u001b[0m\u001b[90m Any       \u001b[0m\u001b[90m Union…  \u001b[0m\u001b[90m Any   \u001b[0m\u001b[90m Int64    \u001b[0m\u001b[90m Type      \u001b[0m ⋯\n",
       "─────┼──────────────────────────────────────────────────────────────────────────\n",
       "   1 │ id             7.0      1          7.0      13            0  Int64      ⋯\n",
       "   2 │ name          \u001b[90m         \u001b[0m Apu       \u001b[90m         \u001b[0m Moe           0  String\n",
       "   3 │ age            29.0     1          38.0     59            0  Int64\n",
       "   4 │ salary         26600.0  3000       25000.0  50000         2  Union{Miss\n",
       "   5 │ favorite_food \u001b[90m         \u001b[0m casserole \u001b[90m         \u001b[0m salad         1  Union{Miss ⋯\n",
       "\u001b[36m                                                                1 column omitted\u001b[0m"
      ]
     },
     "metadata": {},
     "output_type": "display_data"
    }
   ],
   "source": [
    "describe(simpsons)"
   ]
  },
  {
   "cell_type": "code",
   "execution_count": 21,
   "metadata": {},
   "outputs": [
    {
     "data": {
      "text/plain": [
       "Vector{Union{Missing, Int64}}\u001b[90m (alias for \u001b[39m\u001b[90mArray{Union{Missing, Int64}, 1}\u001b[39m\u001b[90m)\u001b[39m"
      ]
     },
     "metadata": {},
     "output_type": "display_data"
    }
   ],
   "source": [
    "typeof(simpsons[!,:salary])"
   ]
  },
  {
   "cell_type": "code",
   "execution_count": 22,
   "metadata": {},
   "outputs": [
    {
     "data": {
      "text/plain": [
       "29.0"
      ]
     },
     "metadata": {},
     "output_type": "display_data"
    }
   ],
   "source": [
    "mean(simpsons[!,:age])"
   ]
  },
  {
   "cell_type": "code",
   "execution_count": 23,
   "metadata": {},
   "outputs": [
    {
     "data": {
      "text/plain": [
       "missing"
      ]
     },
     "metadata": {},
     "output_type": "display_data"
    }
   ],
   "source": [
    "mean(simpsons[!,:salary])"
   ]
  },
  {
   "cell_type": "code",
   "execution_count": 24,
   "metadata": {},
   "outputs": [
    {
     "data": {
      "text/plain": [
       "skipmissing(Union{Missing, Int64}[50000, 25000, 10000, missing, missing, 45000, 3000])"
      ]
     },
     "metadata": {},
     "output_type": "display_data"
    }
   ],
   "source": [
    "salary = skipmissing(simpsons[!,:salary])"
   ]
  },
  {
   "cell_type": "code",
   "execution_count": 25,
   "metadata": {},
   "outputs": [
    {
     "data": {
      "text/plain": [
       "26600.0"
      ]
     },
     "metadata": {},
     "output_type": "display_data"
    }
   ],
   "source": [
    "mean(salary)"
   ]
  },
  {
   "cell_type": "code",
   "execution_count": 27,
   "metadata": {},
   "outputs": [],
   "source": [
    "using CSV"
   ]
  },
  {
   "cell_type": "code",
   "execution_count": 30,
   "metadata": {},
   "outputs": [
    {
     "data": {
      "text/html": [
       "<div><div style = \"float: left;\"><span>6×5 DataFrame</span></div><div style = \"clear: both;\"></div></div><div class = \"data-frame\" style = \"overflow-x: scroll;\"><table class = \"data-frame\" style = \"margin-bottom: 6px;\"><thead><tr class = \"header\"><th class = \"rowNumber\" style = \"font-weight: bold; text-align: right;\">Row</th><th style = \"text-align: left;\">Name</th><th style = \"text-align: left;\">Age</th><th style = \"text-align: left;\">Sex</th><th style = \"text-align: left;\">Shoe Size</th><th style = \"text-align: left;\">Pay Rate</th></tr><tr class = \"subheader headerLastRow\"><th class = \"rowNumber\" style = \"font-weight: bold; text-align: right;\"></th><th title = \"String15\" style = \"text-align: left;\">String15</th><th title = \"Int64\" style = \"text-align: left;\">Int64</th><th title = \"String1\" style = \"text-align: left;\">String1</th><th title = \"Float64\" style = \"text-align: left;\">Float64</th><th title = \"Float64\" style = \"text-align: left;\">Float64</th></tr></thead><tbody><tr><td class = \"rowNumber\" style = \"font-weight: bold; text-align: right;\">1</td><td style = \"text-align: left;\">Alice</td><td style = \"text-align: right;\">18</td><td style = \"text-align: left;\">F</td><td style = \"text-align: right;\">6.5</td><td style = \"text-align: right;\">15.5</td></tr><tr><td class = \"rowNumber\" style = \"font-weight: bold; text-align: right;\">2</td><td style = \"text-align: left;\">Barry</td><td style = \"text-align: right;\">24</td><td style = \"text-align: left;\">M</td><td style = \"text-align: right;\">12.0</td><td style = \"text-align: right;\">18.25</td></tr><tr><td class = \"rowNumber\" style = \"font-weight: bold; text-align: right;\">3</td><td style = \"text-align: left;\">Charlize</td><td style = \"text-align: right;\">45</td><td style = \"text-align: left;\">X</td><td style = \"text-align: right;\">8.0</td><td style = \"text-align: right;\">22.5</td></tr><tr><td class = \"rowNumber\" style = \"font-weight: bold; text-align: right;\">4</td><td style = \"text-align: left;\">Doreen</td><td style = \"text-align: right;\">72</td><td style = \"text-align: left;\">F</td><td style = \"text-align: right;\">7.5</td><td style = \"text-align: right;\">24.5</td></tr><tr><td class = \"rowNumber\" style = \"font-weight: bold; text-align: right;\">5</td><td style = \"text-align: left;\">Edgar</td><td style = \"text-align: right;\">64</td><td style = \"text-align: left;\">M</td><td style = \"text-align: right;\">10.0</td><td style = \"text-align: right;\">33.0</td></tr><tr><td class = \"rowNumber\" style = \"font-weight: bold; text-align: right;\">6</td><td style = \"text-align: left;\">Francine</td><td style = \"text-align: right;\">16</td><td style = \"text-align: left;\">F</td><td style = \"text-align: right;\">9.0</td><td style = \"text-align: right;\">18.75</td></tr></tbody></table></div>"
      ],
      "text/latex": [
       "\\begin{tabular}{r|ccccc}\n",
       "\t& Name & Age & Sex & Shoe Size & Pay Rate\\\\\n",
       "\t\\hline\n",
       "\t& String15 & Int64 & String1 & Float64 & Float64\\\\\n",
       "\t\\hline\n",
       "\t1 & Alice & 18 & F & 6.5 & 15.5 \\\\\n",
       "\t2 & Barry & 24 & M & 12.0 & 18.25 \\\\\n",
       "\t3 & Charlize & 45 & X & 8.0 & 22.5 \\\\\n",
       "\t4 & Doreen & 72 & F & 7.5 & 24.5 \\\\\n",
       "\t5 & Edgar & 64 & M & 10.0 & 33.0 \\\\\n",
       "\t6 & Francine & 16 & F & 9.0 & 18.75 \\\\\n",
       "\\end{tabular}\n"
      ],
      "text/plain": [
       "\u001b[1m6×5 DataFrame\u001b[0m\n",
       "\u001b[1m Row \u001b[0m│\u001b[1m Name     \u001b[0m\u001b[1m Age   \u001b[0m\u001b[1m Sex     \u001b[0m\u001b[1m Shoe Size \u001b[0m\u001b[1m Pay Rate \u001b[0m\n",
       "     │\u001b[90m String15 \u001b[0m\u001b[90m Int64 \u001b[0m\u001b[90m String1 \u001b[0m\u001b[90m Float64   \u001b[0m\u001b[90m Float64  \u001b[0m\n",
       "─────┼───────────────────────────────────────────────\n",
       "   1 │ Alice        18  F              6.5     15.5\n",
       "   2 │ Barry        24  M             12.0     18.25\n",
       "   3 │ Charlize     45  X              8.0     22.5\n",
       "   4 │ Doreen       72  F              7.5     24.5\n",
       "   5 │ Edgar        64  M             10.0     33.0\n",
       "   6 │ Francine     16  F              9.0     18.75"
      ]
     },
     "metadata": {},
     "output_type": "display_data"
    }
   ],
   "source": [
    "CSV.read(\"simple.csv\", DataFrame)"
   ]
  },
  {
   "cell_type": "code",
   "execution_count": 32,
   "metadata": {},
   "outputs": [
    {
     "data": {
      "text/html": [
       "<div><div style = \"float: left;\"><span>6×5 DataFrame</span></div><div style = \"clear: both;\"></div></div><div class = \"data-frame\" style = \"overflow-x: scroll;\"><table class = \"data-frame\" style = \"margin-bottom: 6px;\"><thead><tr class = \"header\"><th class = \"rowNumber\" style = \"font-weight: bold; text-align: right;\">Row</th><th style = \"text-align: left;\">Name</th><th style = \"text-align: left;\">Age</th><th style = \"text-align: left;\">Sex</th><th style = \"text-align: left;\">Shoe_Size</th><th style = \"text-align: left;\">Pay_Rate</th></tr><tr class = \"subheader headerLastRow\"><th class = \"rowNumber\" style = \"font-weight: bold; text-align: right;\"></th><th title = \"String15\" style = \"text-align: left;\">String15</th><th title = \"Int64\" style = \"text-align: left;\">Int64</th><th title = \"String1\" style = \"text-align: left;\">String1</th><th title = \"Float64\" style = \"text-align: left;\">Float64</th><th title = \"Float64\" style = \"text-align: left;\">Float64</th></tr></thead><tbody><tr><td class = \"rowNumber\" style = \"font-weight: bold; text-align: right;\">1</td><td style = \"text-align: left;\">Alice</td><td style = \"text-align: right;\">18</td><td style = \"text-align: left;\">F</td><td style = \"text-align: right;\">6.5</td><td style = \"text-align: right;\">15.5</td></tr><tr><td class = \"rowNumber\" style = \"font-weight: bold; text-align: right;\">2</td><td style = \"text-align: left;\">Barry</td><td style = \"text-align: right;\">24</td><td style = \"text-align: left;\">M</td><td style = \"text-align: right;\">12.0</td><td style = \"text-align: right;\">18.25</td></tr><tr><td class = \"rowNumber\" style = \"font-weight: bold; text-align: right;\">3</td><td style = \"text-align: left;\">Charlize</td><td style = \"text-align: right;\">45</td><td style = \"text-align: left;\">X</td><td style = \"text-align: right;\">8.0</td><td style = \"text-align: right;\">22.5</td></tr><tr><td class = \"rowNumber\" style = \"font-weight: bold; text-align: right;\">4</td><td style = \"text-align: left;\">Doreen</td><td style = \"text-align: right;\">72</td><td style = \"text-align: left;\">F</td><td style = \"text-align: right;\">7.5</td><td style = \"text-align: right;\">24.5</td></tr><tr><td class = \"rowNumber\" style = \"font-weight: bold; text-align: right;\">5</td><td style = \"text-align: left;\">Edgar</td><td style = \"text-align: right;\">64</td><td style = \"text-align: left;\">M</td><td style = \"text-align: right;\">10.0</td><td style = \"text-align: right;\">33.0</td></tr><tr><td class = \"rowNumber\" style = \"font-weight: bold; text-align: right;\">6</td><td style = \"text-align: left;\">Francine</td><td style = \"text-align: right;\">16</td><td style = \"text-align: left;\">F</td><td style = \"text-align: right;\">9.0</td><td style = \"text-align: right;\">18.75</td></tr></tbody></table></div>"
      ],
      "text/latex": [
       "\\begin{tabular}{r|ccccc}\n",
       "\t& Name & Age & Sex & Shoe\\_Size & Pay\\_Rate\\\\\n",
       "\t\\hline\n",
       "\t& String15 & Int64 & String1 & Float64 & Float64\\\\\n",
       "\t\\hline\n",
       "\t1 & Alice & 18 & F & 6.5 & 15.5 \\\\\n",
       "\t2 & Barry & 24 & M & 12.0 & 18.25 \\\\\n",
       "\t3 & Charlize & 45 & X & 8.0 & 22.5 \\\\\n",
       "\t4 & Doreen & 72 & F & 7.5 & 24.5 \\\\\n",
       "\t5 & Edgar & 64 & M & 10.0 & 33.0 \\\\\n",
       "\t6 & Francine & 16 & F & 9.0 & 18.75 \\\\\n",
       "\\end{tabular}\n"
      ],
      "text/plain": [
       "\u001b[1m6×5 DataFrame\u001b[0m\n",
       "\u001b[1m Row \u001b[0m│\u001b[1m Name     \u001b[0m\u001b[1m Age   \u001b[0m\u001b[1m Sex     \u001b[0m\u001b[1m Shoe_Size \u001b[0m\u001b[1m Pay_Rate \u001b[0m\n",
       "     │\u001b[90m String15 \u001b[0m\u001b[90m Int64 \u001b[0m\u001b[90m String1 \u001b[0m\u001b[90m Float64   \u001b[0m\u001b[90m Float64  \u001b[0m\n",
       "─────┼───────────────────────────────────────────────\n",
       "   1 │ Alice        18  F              6.5     15.5\n",
       "   2 │ Barry        24  M             12.0     18.25\n",
       "   3 │ Charlize     45  X              8.0     22.5\n",
       "   4 │ Doreen       72  F              7.5     24.5\n",
       "   5 │ Edgar        64  M             10.0     33.0\n",
       "   6 │ Francine     16  F              9.0     18.75"
      ]
     },
     "metadata": {},
     "output_type": "display_data"
    }
   ],
   "source": [
    "CSV.read(\"simple.csv\", DataFrame, normalizenames = true)"
   ]
  },
  {
   "cell_type": "code",
   "execution_count": 21,
   "metadata": {},
   "outputs": [
    {
     "name": "stderr",
     "output_type": "stream",
     "text": [
      "\n",
      "SYSTEM: caught exception of type :MethodError while trying to print a failed Task notice; giving up\n",
      "\n",
      "SYSTEM: caught exception of type :MethodError while trying to print a failed Task notice; giving up\n"
     ]
    }
   ],
   "source": [
    "using XLSX"
   ]
  },
  {
   "cell_type": "code",
   "execution_count": 22,
   "metadata": {},
   "outputs": [
    {
     "data": {
      "text/plain": [
       "XLSXFile(\"simple.xlsx\") containing 1 Worksheet\n",
       "            sheetname size          range        \n",
       "-------------------------------------------------\n",
       "               Sheet1 7x5           A1:E7        \n"
      ]
     },
     "metadata": {},
     "output_type": "display_data"
    }
   ],
   "source": [
    "xf = XLSX.readxlsx(\"simple.xlsx\")"
   ]
  },
  {
   "cell_type": "code",
   "execution_count": 40,
   "metadata": {},
   "outputs": [
    {
     "data": {
      "text/plain": [
       "7×5 XLSX.Worksheet: [\"Sheet1\"](A1:E7) "
      ]
     },
     "metadata": {},
     "output_type": "display_data"
    }
   ],
   "source": [
    "xf[\"Sheet1\"]"
   ]
  },
  {
   "cell_type": "code",
   "execution_count": 23,
   "metadata": {},
   "outputs": [
    {
     "data": {
      "text/html": [
       "<div><div style = \"float: left;\"><span>6×5 DataFrame</span></div><div style = \"clear: both;\"></div></div><div class = \"data-frame\" style = \"overflow-x: scroll;\"><table class = \"data-frame\" style = \"margin-bottom: 6px;\"><thead><tr class = \"header\"><th class = \"rowNumber\" style = \"font-weight: bold; text-align: right;\">Row</th><th style = \"text-align: left;\">Name</th><th style = \"text-align: left;\">Age</th><th style = \"text-align: left;\">Sex</th><th style = \"text-align: left;\">Shoe Size</th><th style = \"text-align: left;\">Pay Rate</th></tr><tr class = \"subheader headerLastRow\"><th class = \"rowNumber\" style = \"font-weight: bold; text-align: right;\"></th><th title = \"Any\" style = \"text-align: left;\">Any</th><th title = \"Any\" style = \"text-align: left;\">Any</th><th title = \"Any\" style = \"text-align: left;\">Any</th><th title = \"Any\" style = \"text-align: left;\">Any</th><th title = \"Any\" style = \"text-align: left;\">Any</th></tr></thead><tbody><tr><td class = \"rowNumber\" style = \"font-weight: bold; text-align: right;\">1</td><td style = \"text-align: left;\">Alice</td><td style = \"text-align: left;\">18</td><td style = \"text-align: left;\">F</td><td style = \"text-align: left;\">6.5</td><td style = \"text-align: left;\">15.5</td></tr><tr><td class = \"rowNumber\" style = \"font-weight: bold; text-align: right;\">2</td><td style = \"text-align: left;\">Barry</td><td style = \"text-align: left;\">24</td><td style = \"text-align: left;\">M</td><td style = \"text-align: left;\">12</td><td style = \"text-align: left;\">18.25</td></tr><tr><td class = \"rowNumber\" style = \"font-weight: bold; text-align: right;\">3</td><td style = \"text-align: left;\">Charlize</td><td style = \"text-align: left;\">45</td><td style = \"text-align: left;\">X</td><td style = \"text-align: left;\">8</td><td style = \"text-align: left;\">22.5</td></tr><tr><td class = \"rowNumber\" style = \"font-weight: bold; text-align: right;\">4</td><td style = \"text-align: left;\">Doreen</td><td style = \"text-align: left;\">72</td><td style = \"text-align: left;\">F</td><td style = \"text-align: left;\">7.5</td><td style = \"text-align: left;\">24.5</td></tr><tr><td class = \"rowNumber\" style = \"font-weight: bold; text-align: right;\">5</td><td style = \"text-align: left;\">Edgar</td><td style = \"text-align: left;\">64</td><td style = \"text-align: left;\">M</td><td style = \"text-align: left;\">10</td><td style = \"text-align: left;\">33</td></tr><tr><td class = \"rowNumber\" style = \"font-weight: bold; text-align: right;\">6</td><td style = \"text-align: left;\">Francine</td><td style = \"text-align: left;\">16</td><td style = \"text-align: left;\">F</td><td style = \"text-align: left;\">9</td><td style = \"text-align: left;\">18.75</td></tr></tbody></table></div>"
      ],
      "text/latex": [
       "\\begin{tabular}{r|ccccc}\n",
       "\t& Name & Age & Sex & Shoe Size & Pay Rate\\\\\n",
       "\t\\hline\n",
       "\t& Any & Any & Any & Any & Any\\\\\n",
       "\t\\hline\n",
       "\t1 & Alice & 18 & F & 6.5 & 15.5 \\\\\n",
       "\t2 & Barry & 24 & M & 12 & 18.25 \\\\\n",
       "\t3 & Charlize & 45 & X & 8 & 22.5 \\\\\n",
       "\t4 & Doreen & 72 & F & 7.5 & 24.5 \\\\\n",
       "\t5 & Edgar & 64 & M & 10 & 33 \\\\\n",
       "\t6 & Francine & 16 & F & 9 & 18.75 \\\\\n",
       "\\end{tabular}\n"
      ],
      "text/plain": [
       "\u001b[1m6×5 DataFrame\u001b[0m\n",
       "\u001b[1m Row \u001b[0m│\u001b[1m Name     \u001b[0m\u001b[1m Age \u001b[0m\u001b[1m Sex \u001b[0m\u001b[1m Shoe Size \u001b[0m\u001b[1m Pay Rate \u001b[0m\n",
       "     │\u001b[90m Any      \u001b[0m\u001b[90m Any \u001b[0m\u001b[90m Any \u001b[0m\u001b[90m Any       \u001b[0m\u001b[90m Any      \u001b[0m\n",
       "─────┼─────────────────────────────────────────\n",
       "   1 │ Alice     18   F    6.5        15.5\n",
       "   2 │ Barry     24   M    12         18.25\n",
       "   3 │ Charlize  45   X    8          22.5\n",
       "   4 │ Doreen    72   F    7.5        24.5\n",
       "   5 │ Edgar     64   M    10         33\n",
       "   6 │ Francine  16   F    9          18.75"
      ]
     },
     "metadata": {},
     "output_type": "display_data"
    }
   ],
   "source": [
    "df = DataFrame(XLSX.readtable(\"simple.xlsx\", \"Sheet1\"))"
   ]
  },
  {
   "cell_type": "code",
   "execution_count": 24,
   "metadata": {},
   "outputs": [
    {
     "data": {
      "text/html": [
       "<div><div style = \"float: left;\"><span>6×5 DataFrame</span></div><div style = \"clear: both;\"></div></div><div class = \"data-frame\" style = \"overflow-x: scroll;\"><table class = \"data-frame\" style = \"margin-bottom: 6px;\"><thead><tr class = \"header\"><th class = \"rowNumber\" style = \"font-weight: bold; text-align: right;\">Row</th><th style = \"text-align: left;\">Name</th><th style = \"text-align: left;\">Age</th><th style = \"text-align: left;\">Sex</th><th style = \"text-align: left;\">Shoe Size</th><th style = \"text-align: left;\">Pay Rate</th></tr><tr class = \"subheader headerLastRow\"><th class = \"rowNumber\" style = \"font-weight: bold; text-align: right;\"></th><th title = \"String\" style = \"text-align: left;\">String</th><th title = \"Int64\" style = \"text-align: left;\">Int64</th><th title = \"String\" style = \"text-align: left;\">String</th><th title = \"Float64\" style = \"text-align: left;\">Float64</th><th title = \"Float64\" style = \"text-align: left;\">Float64</th></tr></thead><tbody><tr><td class = \"rowNumber\" style = \"font-weight: bold; text-align: right;\">1</td><td style = \"text-align: left;\">Alice</td><td style = \"text-align: right;\">18</td><td style = \"text-align: left;\">F</td><td style = \"text-align: right;\">6.5</td><td style = \"text-align: right;\">15.5</td></tr><tr><td class = \"rowNumber\" style = \"font-weight: bold; text-align: right;\">2</td><td style = \"text-align: left;\">Barry</td><td style = \"text-align: right;\">24</td><td style = \"text-align: left;\">M</td><td style = \"text-align: right;\">12.0</td><td style = \"text-align: right;\">18.25</td></tr><tr><td class = \"rowNumber\" style = \"font-weight: bold; text-align: right;\">3</td><td style = \"text-align: left;\">Charlize</td><td style = \"text-align: right;\">45</td><td style = \"text-align: left;\">X</td><td style = \"text-align: right;\">8.0</td><td style = \"text-align: right;\">22.5</td></tr><tr><td class = \"rowNumber\" style = \"font-weight: bold; text-align: right;\">4</td><td style = \"text-align: left;\">Doreen</td><td style = \"text-align: right;\">72</td><td style = \"text-align: left;\">F</td><td style = \"text-align: right;\">7.5</td><td style = \"text-align: right;\">24.5</td></tr><tr><td class = \"rowNumber\" style = \"font-weight: bold; text-align: right;\">5</td><td style = \"text-align: left;\">Edgar</td><td style = \"text-align: right;\">64</td><td style = \"text-align: left;\">M</td><td style = \"text-align: right;\">10.0</td><td style = \"text-align: right;\">33.0</td></tr><tr><td class = \"rowNumber\" style = \"font-weight: bold; text-align: right;\">6</td><td style = \"text-align: left;\">Francine</td><td style = \"text-align: right;\">16</td><td style = \"text-align: left;\">F</td><td style = \"text-align: right;\">9.0</td><td style = \"text-align: right;\">18.75</td></tr></tbody></table></div>"
      ],
      "text/latex": [
       "\\begin{tabular}{r|ccccc}\n",
       "\t& Name & Age & Sex & Shoe Size & Pay Rate\\\\\n",
       "\t\\hline\n",
       "\t& String & Int64 & String & Float64 & Float64\\\\\n",
       "\t\\hline\n",
       "\t1 & Alice & 18 & F & 6.5 & 15.5 \\\\\n",
       "\t2 & Barry & 24 & M & 12.0 & 18.25 \\\\\n",
       "\t3 & Charlize & 45 & X & 8.0 & 22.5 \\\\\n",
       "\t4 & Doreen & 72 & F & 7.5 & 24.5 \\\\\n",
       "\t5 & Edgar & 64 & M & 10.0 & 33.0 \\\\\n",
       "\t6 & Francine & 16 & F & 9.0 & 18.75 \\\\\n",
       "\\end{tabular}\n"
      ],
      "text/plain": [
       "\u001b[1m6×5 DataFrame\u001b[0m\n",
       "\u001b[1m Row \u001b[0m│\u001b[1m Name     \u001b[0m\u001b[1m Age   \u001b[0m\u001b[1m Sex    \u001b[0m\u001b[1m Shoe Size \u001b[0m\u001b[1m Pay Rate \u001b[0m\n",
       "     │\u001b[90m String   \u001b[0m\u001b[90m Int64 \u001b[0m\u001b[90m String \u001b[0m\u001b[90m Float64   \u001b[0m\u001b[90m Float64  \u001b[0m\n",
       "─────┼──────────────────────────────────────────────\n",
       "   1 │ Alice        18  F             6.5     15.5\n",
       "   2 │ Barry        24  M            12.0     18.25\n",
       "   3 │ Charlize     45  X             8.0     22.5\n",
       "   4 │ Doreen       72  F             7.5     24.5\n",
       "   5 │ Edgar        64  M            10.0     33.0\n",
       "   6 │ Francine     16  F             9.0     18.75"
      ]
     },
     "metadata": {},
     "output_type": "display_data"
    }
   ],
   "source": [
    "df = DataFrame(XLSX.readtable(\"simple.xlsx\", \"Sheet1\", infer_eltypes = true))"
   ]
  },
  {
   "cell_type": "code",
   "execution_count": 25,
   "metadata": {},
   "outputs": [
    {
     "data": {
      "text/plain": [
       "6-element Vector{String1}:\n",
       " \"F\"\n",
       " \"M\"\n",
       " \"X\"\n",
       " \"F\"\n",
       " \"M\"\n",
       " \"F\""
      ]
     },
     "metadata": {},
     "output_type": "display_data"
    }
   ],
   "source": [
    "df[!,:Name] = convert.(String15, df[!,:Name])\n",
    "df[!,:Sex] = convert.(String1, df[!,:Sex])"
   ]
  },
  {
   "cell_type": "code",
   "execution_count": 26,
   "metadata": {},
   "outputs": [
    {
     "data": {
      "text/html": [
       "<div><div style = \"float: left;\"><span>6×5 DataFrame</span></div><div style = \"clear: both;\"></div></div><div class = \"data-frame\" style = \"overflow-x: scroll;\"><table class = \"data-frame\" style = \"margin-bottom: 6px;\"><thead><tr class = \"header\"><th class = \"rowNumber\" style = \"font-weight: bold; text-align: right;\">Row</th><th style = \"text-align: left;\">Name</th><th style = \"text-align: left;\">Age</th><th style = \"text-align: left;\">Sex</th><th style = \"text-align: left;\">Shoe Size</th><th style = \"text-align: left;\">Pay Rate</th></tr><tr class = \"subheader headerLastRow\"><th class = \"rowNumber\" style = \"font-weight: bold; text-align: right;\"></th><th title = \"String15\" style = \"text-align: left;\">String15</th><th title = \"Int64\" style = \"text-align: left;\">Int64</th><th title = \"String1\" style = \"text-align: left;\">String1</th><th title = \"Float64\" style = \"text-align: left;\">Float64</th><th title = \"Float64\" style = \"text-align: left;\">Float64</th></tr></thead><tbody><tr><td class = \"rowNumber\" style = \"font-weight: bold; text-align: right;\">1</td><td style = \"text-align: left;\">Alice</td><td style = \"text-align: right;\">18</td><td style = \"text-align: left;\">F</td><td style = \"text-align: right;\">6.5</td><td style = \"text-align: right;\">15.5</td></tr><tr><td class = \"rowNumber\" style = \"font-weight: bold; text-align: right;\">2</td><td style = \"text-align: left;\">Barry</td><td style = \"text-align: right;\">24</td><td style = \"text-align: left;\">M</td><td style = \"text-align: right;\">12.0</td><td style = \"text-align: right;\">18.25</td></tr><tr><td class = \"rowNumber\" style = \"font-weight: bold; text-align: right;\">3</td><td style = \"text-align: left;\">Charlize</td><td style = \"text-align: right;\">45</td><td style = \"text-align: left;\">X</td><td style = \"text-align: right;\">8.0</td><td style = \"text-align: right;\">22.5</td></tr><tr><td class = \"rowNumber\" style = \"font-weight: bold; text-align: right;\">4</td><td style = \"text-align: left;\">Doreen</td><td style = \"text-align: right;\">72</td><td style = \"text-align: left;\">F</td><td style = \"text-align: right;\">7.5</td><td style = \"text-align: right;\">24.5</td></tr><tr><td class = \"rowNumber\" style = \"font-weight: bold; text-align: right;\">5</td><td style = \"text-align: left;\">Edgar</td><td style = \"text-align: right;\">64</td><td style = \"text-align: left;\">M</td><td style = \"text-align: right;\">10.0</td><td style = \"text-align: right;\">33.0</td></tr><tr><td class = \"rowNumber\" style = \"font-weight: bold; text-align: right;\">6</td><td style = \"text-align: left;\">Francine</td><td style = \"text-align: right;\">16</td><td style = \"text-align: left;\">F</td><td style = \"text-align: right;\">9.0</td><td style = \"text-align: right;\">18.75</td></tr></tbody></table></div>"
      ],
      "text/latex": [
       "\\begin{tabular}{r|ccccc}\n",
       "\t& Name & Age & Sex & Shoe Size & Pay Rate\\\\\n",
       "\t\\hline\n",
       "\t& String15 & Int64 & String1 & Float64 & Float64\\\\\n",
       "\t\\hline\n",
       "\t1 & Alice & 18 & F & 6.5 & 15.5 \\\\\n",
       "\t2 & Barry & 24 & M & 12.0 & 18.25 \\\\\n",
       "\t3 & Charlize & 45 & X & 8.0 & 22.5 \\\\\n",
       "\t4 & Doreen & 72 & F & 7.5 & 24.5 \\\\\n",
       "\t5 & Edgar & 64 & M & 10.0 & 33.0 \\\\\n",
       "\t6 & Francine & 16 & F & 9.0 & 18.75 \\\\\n",
       "\\end{tabular}\n"
      ],
      "text/plain": [
       "\u001b[1m6×5 DataFrame\u001b[0m\n",
       "\u001b[1m Row \u001b[0m│\u001b[1m Name     \u001b[0m\u001b[1m Age   \u001b[0m\u001b[1m Sex     \u001b[0m\u001b[1m Shoe Size \u001b[0m\u001b[1m Pay Rate \u001b[0m\n",
       "     │\u001b[90m String15 \u001b[0m\u001b[90m Int64 \u001b[0m\u001b[90m String1 \u001b[0m\u001b[90m Float64   \u001b[0m\u001b[90m Float64  \u001b[0m\n",
       "─────┼───────────────────────────────────────────────\n",
       "   1 │ Alice        18  F              6.5     15.5\n",
       "   2 │ Barry        24  M             12.0     18.25\n",
       "   3 │ Charlize     45  X              8.0     22.5\n",
       "   4 │ Doreen       72  F              7.5     24.5\n",
       "   5 │ Edgar        64  M             10.0     33.0\n",
       "   6 │ Francine     16  F              9.0     18.75"
      ]
     },
     "metadata": {},
     "output_type": "display_data"
    }
   ],
   "source": [
    "df"
   ]
  },
  {
   "cell_type": "code",
   "execution_count": 27,
   "metadata": {},
   "outputs": [
    {
     "data": {
      "text/html": [
       "<div><div style = \"float: left;\"><span>6×5 DataFrame</span></div><div style = \"clear: both;\"></div></div><div class = \"data-frame\" style = \"overflow-x: scroll;\"><table class = \"data-frame\" style = \"margin-bottom: 6px;\"><thead><tr class = \"header\"><th class = \"rowNumber\" style = \"font-weight: bold; text-align: right;\">Row</th><th style = \"text-align: left;\">Name</th><th style = \"text-align: left;\">Age</th><th style = \"text-align: left;\">Sex</th><th style = \"text-align: left;\">Shoe_Size</th><th style = \"text-align: left;\">Pay_Rate</th></tr><tr class = \"subheader headerLastRow\"><th class = \"rowNumber\" style = \"font-weight: bold; text-align: right;\"></th><th title = \"String15\" style = \"text-align: left;\">String15</th><th title = \"Int64\" style = \"text-align: left;\">Int64</th><th title = \"String1\" style = \"text-align: left;\">String1</th><th title = \"Float64\" style = \"text-align: left;\">Float64</th><th title = \"Float64\" style = \"text-align: left;\">Float64</th></tr></thead><tbody><tr><td class = \"rowNumber\" style = \"font-weight: bold; text-align: right;\">1</td><td style = \"text-align: left;\">Alice</td><td style = \"text-align: right;\">18</td><td style = \"text-align: left;\">F</td><td style = \"text-align: right;\">6.5</td><td style = \"text-align: right;\">15.5</td></tr><tr><td class = \"rowNumber\" style = \"font-weight: bold; text-align: right;\">2</td><td style = \"text-align: left;\">Barry</td><td style = \"text-align: right;\">24</td><td style = \"text-align: left;\">M</td><td style = \"text-align: right;\">12.0</td><td style = \"text-align: right;\">18.25</td></tr><tr><td class = \"rowNumber\" style = \"font-weight: bold; text-align: right;\">3</td><td style = \"text-align: left;\">Charlize</td><td style = \"text-align: right;\">45</td><td style = \"text-align: left;\">X</td><td style = \"text-align: right;\">8.0</td><td style = \"text-align: right;\">22.5</td></tr><tr><td class = \"rowNumber\" style = \"font-weight: bold; text-align: right;\">4</td><td style = \"text-align: left;\">Doreen</td><td style = \"text-align: right;\">72</td><td style = \"text-align: left;\">F</td><td style = \"text-align: right;\">7.5</td><td style = \"text-align: right;\">24.5</td></tr><tr><td class = \"rowNumber\" style = \"font-weight: bold; text-align: right;\">5</td><td style = \"text-align: left;\">Edgar</td><td style = \"text-align: right;\">64</td><td style = \"text-align: left;\">M</td><td style = \"text-align: right;\">10.0</td><td style = \"text-align: right;\">33.0</td></tr><tr><td class = \"rowNumber\" style = \"font-weight: bold; text-align: right;\">6</td><td style = \"text-align: left;\">Francine</td><td style = \"text-align: right;\">16</td><td style = \"text-align: left;\">F</td><td style = \"text-align: right;\">9.0</td><td style = \"text-align: right;\">18.75</td></tr></tbody></table></div>"
      ],
      "text/latex": [
       "\\begin{tabular}{r|ccccc}\n",
       "\t& Name & Age & Sex & Shoe\\_Size & Pay\\_Rate\\\\\n",
       "\t\\hline\n",
       "\t& String15 & Int64 & String1 & Float64 & Float64\\\\\n",
       "\t\\hline\n",
       "\t1 & Alice & 18 & F & 6.5 & 15.5 \\\\\n",
       "\t2 & Barry & 24 & M & 12.0 & 18.25 \\\\\n",
       "\t3 & Charlize & 45 & X & 8.0 & 22.5 \\\\\n",
       "\t4 & Doreen & 72 & F & 7.5 & 24.5 \\\\\n",
       "\t5 & Edgar & 64 & M & 10.0 & 33.0 \\\\\n",
       "\t6 & Francine & 16 & F & 9.0 & 18.75 \\\\\n",
       "\\end{tabular}\n"
      ],
      "text/plain": [
       "\u001b[1m6×5 DataFrame\u001b[0m\n",
       "\u001b[1m Row \u001b[0m│\u001b[1m Name     \u001b[0m\u001b[1m Age   \u001b[0m\u001b[1m Sex     \u001b[0m\u001b[1m Shoe_Size \u001b[0m\u001b[1m Pay_Rate \u001b[0m\n",
       "     │\u001b[90m String15 \u001b[0m\u001b[90m Int64 \u001b[0m\u001b[90m String1 \u001b[0m\u001b[90m Float64   \u001b[0m\u001b[90m Float64  \u001b[0m\n",
       "─────┼───────────────────────────────────────────────\n",
       "   1 │ Alice        18  F              6.5     15.5\n",
       "   2 │ Barry        24  M             12.0     18.25\n",
       "   3 │ Charlize     45  X              8.0     22.5\n",
       "   4 │ Doreen       72  F              7.5     24.5\n",
       "   5 │ Edgar        64  M             10.0     33.0\n",
       "   6 │ Francine     16  F              9.0     18.75"
      ]
     },
     "metadata": {},
     "output_type": "display_data"
    }
   ],
   "source": [
    "rename!(df, :\"Shoe Size\" => :Shoe_Size, :\"Pay Rate\" => :Pay_Rate)"
   ]
  },
  {
   "cell_type": "code",
   "execution_count": 47,
   "metadata": {},
   "outputs": [
    {
     "data": {
      "text/plain": [
       "6-element Vector{Float64}:\n",
       " 15.5\n",
       " 18.25\n",
       " 22.5\n",
       " 24.5\n",
       " 33.0\n",
       " 18.75"
      ]
     },
     "metadata": {},
     "output_type": "display_data"
    }
   ],
   "source": [
    "df[!,:Name] = convert.(String, df[!,:Name])\n",
    "df[!,:Age] = convert.(Int64, df[!,:Age])\n",
    "df[!,:Sex] = convert.(String, df[!,:Sex])\n",
    "df[!,:Shoe_Size] = convert.(Float64, df[!,:Shoe_Size])\n",
    "df[!,:Pay_Rate] = convert.(Float64, df[!,:Pay_Rate])"
   ]
  },
  {
   "cell_type": "code",
   "execution_count": 48,
   "metadata": {},
   "outputs": [
    {
     "data": {
      "text/html": [
       "<div><div style = \"float: left;\"><span>6×5 DataFrame</span></div><div style = \"clear: both;\"></div></div><div class = \"data-frame\" style = \"overflow-x: scroll;\"><table class = \"data-frame\" style = \"margin-bottom: 6px;\"><thead><tr class = \"header\"><th class = \"rowNumber\" style = \"font-weight: bold; text-align: right;\">Row</th><th style = \"text-align: left;\">Name</th><th style = \"text-align: left;\">Age</th><th style = \"text-align: left;\">Sex</th><th style = \"text-align: left;\">Shoe_Size</th><th style = \"text-align: left;\">Pay_Rate</th></tr><tr class = \"subheader headerLastRow\"><th class = \"rowNumber\" style = \"font-weight: bold; text-align: right;\"></th><th title = \"String\" style = \"text-align: left;\">String</th><th title = \"Int64\" style = \"text-align: left;\">Int64</th><th title = \"String\" style = \"text-align: left;\">String</th><th title = \"Float64\" style = \"text-align: left;\">Float64</th><th title = \"Float64\" style = \"text-align: left;\">Float64</th></tr></thead><tbody><tr><td class = \"rowNumber\" style = \"font-weight: bold; text-align: right;\">1</td><td style = \"text-align: left;\">Alice</td><td style = \"text-align: right;\">18</td><td style = \"text-align: left;\">F</td><td style = \"text-align: right;\">6.5</td><td style = \"text-align: right;\">15.5</td></tr><tr><td class = \"rowNumber\" style = \"font-weight: bold; text-align: right;\">2</td><td style = \"text-align: left;\">Barry</td><td style = \"text-align: right;\">24</td><td style = \"text-align: left;\">M</td><td style = \"text-align: right;\">12.0</td><td style = \"text-align: right;\">18.25</td></tr><tr><td class = \"rowNumber\" style = \"font-weight: bold; text-align: right;\">3</td><td style = \"text-align: left;\">Charlize</td><td style = \"text-align: right;\">45</td><td style = \"text-align: left;\">X</td><td style = \"text-align: right;\">8.0</td><td style = \"text-align: right;\">22.5</td></tr><tr><td class = \"rowNumber\" style = \"font-weight: bold; text-align: right;\">4</td><td style = \"text-align: left;\">Doreen</td><td style = \"text-align: right;\">72</td><td style = \"text-align: left;\">F</td><td style = \"text-align: right;\">7.5</td><td style = \"text-align: right;\">24.5</td></tr><tr><td class = \"rowNumber\" style = \"font-weight: bold; text-align: right;\">5</td><td style = \"text-align: left;\">Edgar</td><td style = \"text-align: right;\">64</td><td style = \"text-align: left;\">M</td><td style = \"text-align: right;\">10.0</td><td style = \"text-align: right;\">33.0</td></tr><tr><td class = \"rowNumber\" style = \"font-weight: bold; text-align: right;\">6</td><td style = \"text-align: left;\">Francine</td><td style = \"text-align: right;\">16</td><td style = \"text-align: left;\">F</td><td style = \"text-align: right;\">9.0</td><td style = \"text-align: right;\">18.75</td></tr></tbody></table></div>"
      ],
      "text/latex": [
       "\\begin{tabular}{r|ccccc}\n",
       "\t& Name & Age & Sex & Shoe\\_Size & Pay\\_Rate\\\\\n",
       "\t\\hline\n",
       "\t& String & Int64 & String & Float64 & Float64\\\\\n",
       "\t\\hline\n",
       "\t1 & Alice & 18 & F & 6.5 & 15.5 \\\\\n",
       "\t2 & Barry & 24 & M & 12.0 & 18.25 \\\\\n",
       "\t3 & Charlize & 45 & X & 8.0 & 22.5 \\\\\n",
       "\t4 & Doreen & 72 & F & 7.5 & 24.5 \\\\\n",
       "\t5 & Edgar & 64 & M & 10.0 & 33.0 \\\\\n",
       "\t6 & Francine & 16 & F & 9.0 & 18.75 \\\\\n",
       "\\end{tabular}\n"
      ],
      "text/plain": [
       "\u001b[1m6×5 DataFrame\u001b[0m\n",
       "\u001b[1m Row \u001b[0m│\u001b[1m Name     \u001b[0m\u001b[1m Age   \u001b[0m\u001b[1m Sex    \u001b[0m\u001b[1m Shoe_Size \u001b[0m\u001b[1m Pay_Rate \u001b[0m\n",
       "     │\u001b[90m String   \u001b[0m\u001b[90m Int64 \u001b[0m\u001b[90m String \u001b[0m\u001b[90m Float64   \u001b[0m\u001b[90m Float64  \u001b[0m\n",
       "─────┼──────────────────────────────────────────────\n",
       "   1 │ Alice        18  F             6.5     15.5\n",
       "   2 │ Barry        24  M            12.0     18.25\n",
       "   3 │ Charlize     45  X             8.0     22.5\n",
       "   4 │ Doreen       72  F             7.5     24.5\n",
       "   5 │ Edgar        64  M            10.0     33.0\n",
       "   6 │ Francine     16  F             9.0     18.75"
      ]
     },
     "metadata": {},
     "output_type": "display_data"
    }
   ],
   "source": [
    "df"
   ]
  },
  {
   "cell_type": "code",
   "execution_count": 49,
   "metadata": {},
   "outputs": [
    {
     "data": {
      "text/html": [
       "<div><div style = \"float: left;\"><span>6×5 DataFrame</span></div><div style = \"clear: both;\"></div></div><div class = \"data-frame\" style = \"overflow-x: scroll;\"><table class = \"data-frame\" style = \"margin-bottom: 6px;\"><thead><tr class = \"header\"><th class = \"rowNumber\" style = \"font-weight: bold; text-align: right;\">Row</th><th style = \"text-align: left;\">Name</th><th style = \"text-align: left;\">Age</th><th style = \"text-align: left;\">Sex</th><th style = \"text-align: left;\">Shoe Size</th><th style = \"text-align: left;\">Pay Rate</th></tr><tr class = \"subheader headerLastRow\"><th class = \"rowNumber\" style = \"font-weight: bold; text-align: right;\"></th><th title = \"String\" style = \"text-align: left;\">String</th><th title = \"Int64\" style = \"text-align: left;\">Int64</th><th title = \"String\" style = \"text-align: left;\">String</th><th title = \"Any\" style = \"text-align: left;\">Any</th><th title = \"Any\" style = \"text-align: left;\">Any</th></tr></thead><tbody><tr><td class = \"rowNumber\" style = \"font-weight: bold; text-align: right;\">1</td><td style = \"text-align: left;\">Alice</td><td style = \"text-align: right;\">18</td><td style = \"text-align: left;\">F</td><td style = \"text-align: left;\">6.5</td><td style = \"text-align: left;\">15.5</td></tr><tr><td class = \"rowNumber\" style = \"font-weight: bold; text-align: right;\">2</td><td style = \"text-align: left;\">Barry</td><td style = \"text-align: right;\">24</td><td style = \"text-align: left;\">M</td><td style = \"text-align: left;\">12</td><td style = \"text-align: left;\">18.25</td></tr><tr><td class = \"rowNumber\" style = \"font-weight: bold; text-align: right;\">3</td><td style = \"text-align: left;\">Charlize</td><td style = \"text-align: right;\">45</td><td style = \"text-align: left;\">X</td><td style = \"text-align: left;\">8</td><td style = \"text-align: left;\">22.5</td></tr><tr><td class = \"rowNumber\" style = \"font-weight: bold; text-align: right;\">4</td><td style = \"text-align: left;\">Doreen</td><td style = \"text-align: right;\">72</td><td style = \"text-align: left;\">F</td><td style = \"text-align: left;\">7.5</td><td style = \"text-align: left;\">24.5</td></tr><tr><td class = \"rowNumber\" style = \"font-weight: bold; text-align: right;\">5</td><td style = \"text-align: left;\">Edgar</td><td style = \"text-align: right;\">64</td><td style = \"text-align: left;\">M</td><td style = \"text-align: left;\">10</td><td style = \"text-align: left;\">33</td></tr><tr><td class = \"rowNumber\" style = \"font-weight: bold; text-align: right;\">6</td><td style = \"text-align: left;\">Francine</td><td style = \"text-align: right;\">16</td><td style = \"text-align: left;\">F</td><td style = \"text-align: left;\">9</td><td style = \"text-align: left;\">18.75</td></tr></tbody></table></div>"
      ],
      "text/latex": [
       "\\begin{tabular}{r|ccccc}\n",
       "\t& Name & Age & Sex & Shoe Size & Pay Rate\\\\\n",
       "\t\\hline\n",
       "\t& String & Int64 & String & Any & Any\\\\\n",
       "\t\\hline\n",
       "\t1 & Alice & 18 & F & 6.5 & 15.5 \\\\\n",
       "\t2 & Barry & 24 & M & 12 & 18.25 \\\\\n",
       "\t3 & Charlize & 45 & X & 8 & 22.5 \\\\\n",
       "\t4 & Doreen & 72 & F & 7.5 & 24.5 \\\\\n",
       "\t5 & Edgar & 64 & M & 10 & 33 \\\\\n",
       "\t6 & Francine & 16 & F & 9 & 18.75 \\\\\n",
       "\\end{tabular}\n"
      ],
      "text/plain": [
       "\u001b[1m6×5 DataFrame\u001b[0m\n",
       "\u001b[1m Row \u001b[0m│\u001b[1m Name     \u001b[0m\u001b[1m Age   \u001b[0m\u001b[1m Sex    \u001b[0m\u001b[1m Shoe Size \u001b[0m\u001b[1m Pay Rate \u001b[0m\n",
       "     │\u001b[90m String   \u001b[0m\u001b[90m Int64 \u001b[0m\u001b[90m String \u001b[0m\u001b[90m Any       \u001b[0m\u001b[90m Any      \u001b[0m\n",
       "─────┼──────────────────────────────────────────────\n",
       "   1 │ Alice        18  F       6.5        15.5\n",
       "   2 │ Barry        24  M       12         18.25\n",
       "   3 │ Charlize     45  X       8          22.5\n",
       "   4 │ Doreen       72  F       7.5        24.5\n",
       "   5 │ Edgar        64  M       10         33\n",
       "   6 │ Francine     16  F       9          18.75"
      ]
     },
     "metadata": {},
     "output_type": "display_data"
    }
   ],
   "source": [
    "df = DataFrame(XLSX.readtable(\"simple.xlsx\", \"Sheet1\", infer_eltypes=true))"
   ]
  },
  {
   "cell_type": "code",
   "execution_count": 16,
   "metadata": {},
   "outputs": [],
   "source": [
    "using CSV"
   ]
  },
  {
   "cell_type": "code",
   "execution_count": 18,
   "metadata": {},
   "outputs": [
    {
     "data": {
      "text/html": [
       "<div><div style = \"float: left;\"><span>6×5 DataFrame</span></div><div style = \"clear: both;\"></div></div><div class = \"data-frame\" style = \"overflow-x: scroll;\"><table class = \"data-frame\" style = \"margin-bottom: 6px;\"><thead><tr class = \"header\"><th class = \"rowNumber\" style = \"font-weight: bold; text-align: right;\">Row</th><th style = \"text-align: left;\">Name</th><th style = \"text-align: left;\">Age</th><th style = \"text-align: left;\">Sex</th><th style = \"text-align: left;\">Shoe Size</th><th style = \"text-align: left;\">Pay Rate</th></tr><tr class = \"subheader headerLastRow\"><th class = \"rowNumber\" style = \"font-weight: bold; text-align: right;\"></th><th title = \"String15\" style = \"text-align: left;\">String15</th><th title = \"Int64\" style = \"text-align: left;\">Int64</th><th title = \"String1\" style = \"text-align: left;\">String1</th><th title = \"Float64\" style = \"text-align: left;\">Float64</th><th title = \"Float64\" style = \"text-align: left;\">Float64</th></tr></thead><tbody><tr><td class = \"rowNumber\" style = \"font-weight: bold; text-align: right;\">1</td><td style = \"text-align: left;\">Alice</td><td style = \"text-align: right;\">18</td><td style = \"text-align: left;\">F</td><td style = \"text-align: right;\">6.5</td><td style = \"text-align: right;\">15.5</td></tr><tr><td class = \"rowNumber\" style = \"font-weight: bold; text-align: right;\">2</td><td style = \"text-align: left;\">Barry</td><td style = \"text-align: right;\">24</td><td style = \"text-align: left;\">M</td><td style = \"text-align: right;\">12.0</td><td style = \"text-align: right;\">18.25</td></tr><tr><td class = \"rowNumber\" style = \"font-weight: bold; text-align: right;\">3</td><td style = \"text-align: left;\">Charlize</td><td style = \"text-align: right;\">45</td><td style = \"text-align: left;\">X</td><td style = \"text-align: right;\">8.0</td><td style = \"text-align: right;\">22.5</td></tr><tr><td class = \"rowNumber\" style = \"font-weight: bold; text-align: right;\">4</td><td style = \"text-align: left;\">Doreen</td><td style = \"text-align: right;\">72</td><td style = \"text-align: left;\">F</td><td style = \"text-align: right;\">7.5</td><td style = \"text-align: right;\">24.5</td></tr><tr><td class = \"rowNumber\" style = \"font-weight: bold; text-align: right;\">5</td><td style = \"text-align: left;\">Edgar</td><td style = \"text-align: right;\">64</td><td style = \"text-align: left;\">M</td><td style = \"text-align: right;\">10.0</td><td style = \"text-align: right;\">33.0</td></tr><tr><td class = \"rowNumber\" style = \"font-weight: bold; text-align: right;\">6</td><td style = \"text-align: left;\">Francine</td><td style = \"text-align: right;\">16</td><td style = \"text-align: left;\">F</td><td style = \"text-align: right;\">9.0</td><td style = \"text-align: right;\">18.75</td></tr></tbody></table></div>"
      ],
      "text/latex": [
       "\\begin{tabular}{r|ccccc}\n",
       "\t& Name & Age & Sex & Shoe Size & Pay Rate\\\\\n",
       "\t\\hline\n",
       "\t& String15 & Int64 & String1 & Float64 & Float64\\\\\n",
       "\t\\hline\n",
       "\t1 & Alice & 18 & F & 6.5 & 15.5 \\\\\n",
       "\t2 & Barry & 24 & M & 12.0 & 18.25 \\\\\n",
       "\t3 & Charlize & 45 & X & 8.0 & 22.5 \\\\\n",
       "\t4 & Doreen & 72 & F & 7.5 & 24.5 \\\\\n",
       "\t5 & Edgar & 64 & M & 10.0 & 33.0 \\\\\n",
       "\t6 & Francine & 16 & F & 9.0 & 18.75 \\\\\n",
       "\\end{tabular}\n"
      ],
      "text/plain": [
       "\u001b[1m6×5 DataFrame\u001b[0m\n",
       "\u001b[1m Row \u001b[0m│\u001b[1m Name     \u001b[0m\u001b[1m Age   \u001b[0m\u001b[1m Sex     \u001b[0m\u001b[1m Shoe Size \u001b[0m\u001b[1m Pay Rate \u001b[0m\n",
       "     │\u001b[90m String15 \u001b[0m\u001b[90m Int64 \u001b[0m\u001b[90m String1 \u001b[0m\u001b[90m Float64   \u001b[0m\u001b[90m Float64  \u001b[0m\n",
       "─────┼───────────────────────────────────────────────\n",
       "   1 │ Alice        18  F              6.5     15.5\n",
       "   2 │ Barry        24  M             12.0     18.25\n",
       "   3 │ Charlize     45  X              8.0     22.5\n",
       "   4 │ Doreen       72  F              7.5     24.5\n",
       "   5 │ Edgar        64  M             10.0     33.0\n",
       "   6 │ Francine     16  F              9.0     18.75"
      ]
     },
     "metadata": {},
     "output_type": "display_data"
    }
   ],
   "source": [
    "simple = CSV.read(\"simple.csv\", DataFrame)"
   ]
  },
  {
   "cell_type": "code",
   "execution_count": 19,
   "metadata": {},
   "outputs": [
    {
     "data": {
      "text/html": [
       "<div><div style = \"float: left;\"><span>6×5 DataFrame</span></div><div style = \"clear: both;\"></div></div><div class = \"data-frame\" style = \"overflow-x: scroll;\"><table class = \"data-frame\" style = \"margin-bottom: 6px;\"><thead><tr class = \"header\"><th class = \"rowNumber\" style = \"font-weight: bold; text-align: right;\">Row</th><th style = \"text-align: left;\">Name</th><th style = \"text-align: left;\">Age</th><th style = \"text-align: left;\">Sex</th><th style = \"text-align: left;\">Shoe_Size</th><th style = \"text-align: left;\">Pay_Rate</th></tr><tr class = \"subheader headerLastRow\"><th class = \"rowNumber\" style = \"font-weight: bold; text-align: right;\"></th><th title = \"String15\" style = \"text-align: left;\">String15</th><th title = \"Int64\" style = \"text-align: left;\">Int64</th><th title = \"String1\" style = \"text-align: left;\">String1</th><th title = \"Float64\" style = \"text-align: left;\">Float64</th><th title = \"Float64\" style = \"text-align: left;\">Float64</th></tr></thead><tbody><tr><td class = \"rowNumber\" style = \"font-weight: bold; text-align: right;\">1</td><td style = \"text-align: left;\">Alice</td><td style = \"text-align: right;\">18</td><td style = \"text-align: left;\">F</td><td style = \"text-align: right;\">6.5</td><td style = \"text-align: right;\">15.5</td></tr><tr><td class = \"rowNumber\" style = \"font-weight: bold; text-align: right;\">2</td><td style = \"text-align: left;\">Barry</td><td style = \"text-align: right;\">24</td><td style = \"text-align: left;\">M</td><td style = \"text-align: right;\">12.0</td><td style = \"text-align: right;\">18.25</td></tr><tr><td class = \"rowNumber\" style = \"font-weight: bold; text-align: right;\">3</td><td style = \"text-align: left;\">Charlize</td><td style = \"text-align: right;\">45</td><td style = \"text-align: left;\">X</td><td style = \"text-align: right;\">8.0</td><td style = \"text-align: right;\">22.5</td></tr><tr><td class = \"rowNumber\" style = \"font-weight: bold; text-align: right;\">4</td><td style = \"text-align: left;\">Doreen</td><td style = \"text-align: right;\">72</td><td style = \"text-align: left;\">F</td><td style = \"text-align: right;\">7.5</td><td style = \"text-align: right;\">24.5</td></tr><tr><td class = \"rowNumber\" style = \"font-weight: bold; text-align: right;\">5</td><td style = \"text-align: left;\">Edgar</td><td style = \"text-align: right;\">64</td><td style = \"text-align: left;\">M</td><td style = \"text-align: right;\">10.0</td><td style = \"text-align: right;\">33.0</td></tr><tr><td class = \"rowNumber\" style = \"font-weight: bold; text-align: right;\">6</td><td style = \"text-align: left;\">Francine</td><td style = \"text-align: right;\">16</td><td style = \"text-align: left;\">F</td><td style = \"text-align: right;\">9.0</td><td style = \"text-align: right;\">18.75</td></tr></tbody></table></div>"
      ],
      "text/latex": [
       "\\begin{tabular}{r|ccccc}\n",
       "\t& Name & Age & Sex & Shoe\\_Size & Pay\\_Rate\\\\\n",
       "\t\\hline\n",
       "\t& String15 & Int64 & String1 & Float64 & Float64\\\\\n",
       "\t\\hline\n",
       "\t1 & Alice & 18 & F & 6.5 & 15.5 \\\\\n",
       "\t2 & Barry & 24 & M & 12.0 & 18.25 \\\\\n",
       "\t3 & Charlize & 45 & X & 8.0 & 22.5 \\\\\n",
       "\t4 & Doreen & 72 & F & 7.5 & 24.5 \\\\\n",
       "\t5 & Edgar & 64 & M & 10.0 & 33.0 \\\\\n",
       "\t6 & Francine & 16 & F & 9.0 & 18.75 \\\\\n",
       "\\end{tabular}\n"
      ],
      "text/plain": [
       "\u001b[1m6×5 DataFrame\u001b[0m\n",
       "\u001b[1m Row \u001b[0m│\u001b[1m Name     \u001b[0m\u001b[1m Age   \u001b[0m\u001b[1m Sex     \u001b[0m\u001b[1m Shoe_Size \u001b[0m\u001b[1m Pay_Rate \u001b[0m\n",
       "     │\u001b[90m String15 \u001b[0m\u001b[90m Int64 \u001b[0m\u001b[90m String1 \u001b[0m\u001b[90m Float64   \u001b[0m\u001b[90m Float64  \u001b[0m\n",
       "─────┼───────────────────────────────────────────────\n",
       "   1 │ Alice        18  F              6.5     15.5\n",
       "   2 │ Barry        24  M             12.0     18.25\n",
       "   3 │ Charlize     45  X              8.0     22.5\n",
       "   4 │ Doreen       72  F              7.5     24.5\n",
       "   5 │ Edgar        64  M             10.0     33.0\n",
       "   6 │ Francine     16  F              9.0     18.75"
      ]
     },
     "metadata": {},
     "output_type": "display_data"
    }
   ],
   "source": [
    "simple = CSV.read(\"simple.csv\", DataFrame, normalizenames = true)"
   ]
  },
  {
   "cell_type": "code",
   "execution_count": 20,
   "metadata": {},
   "outputs": [
    {
     "ename": "UndefVarError",
     "evalue": "UndefVarError: `XLSX` not defined in `Main`\nSuggestion: check for spelling errors or missing imports.",
     "output_type": "error",
     "traceback": [
      "UndefVarError: `XLSX` not defined in `Main`\n",
      "Suggestion: check for spelling errors or missing imports.\n",
      "\n",
      "Stacktrace:\n",
      " [1] top-level scope\n",
      "   @ ~/code/sci-comp-book/julia-output/data/jl_notebook_cell_df34fa98e69747e1a8f8a730347b8e2f_X54sZmlsZQ==.jl:1"
     ]
    }
   ],
   "source": [
    "xf = XLSX.readxlsx(\"simple.xlsx\")"
   ]
  },
  {
   "cell_type": "code",
   "execution_count": null,
   "metadata": {},
   "outputs": [],
   "source": []
  }
 ],
 "metadata": {
  "kernelspec": {
   "display_name": "Julia 1.12.0-beta4",
   "language": "julia",
   "name": "julia-1.12"
  },
  "language_info": {
   "file_extension": ".jl",
   "mimetype": "application/julia",
   "name": "julia",
   "version": "1.12.0-beta4"
  }
 },
 "nbformat": 4,
 "nbformat_minor": 2
}
