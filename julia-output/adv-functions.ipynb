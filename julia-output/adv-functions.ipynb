{
 "cells": [
  {
   "cell_type": "code",
   "execution_count": 1,
   "metadata": {},
   "outputs": [
    {
     "data": {
      "text/plain": [
       "fact (generic function with 1 method)"
      ]
     },
     "metadata": {},
     "output_type": "display_data"
    }
   ],
   "source": [
    "fact(n::Integer) = n==0 ? 1 : n*fact(n-1)"
   ]
  },
  {
   "cell_type": "code",
   "execution_count": 2,
   "metadata": {},
   "outputs": [
    {
     "data": {
      "text/plain": [
       "720"
      ]
     },
     "metadata": {},
     "output_type": "display_data"
    }
   ],
   "source": [
    "fact(6)"
   ]
  },
  {
   "cell_type": "code",
   "execution_count": 3,
   "metadata": {},
   "outputs": [
    {
     "ename": "StackOverflowError",
     "evalue": "StackOverflowError:",
     "output_type": "error",
     "traceback": [
      "StackOverflowError:\n",
      "\n",
      "Stacktrace:\n",
      " [1] fact(n::Int64) (repeats 2 times)\n",
      "   @ Main ~/code/sci-comp-book/julia-output/adv-functions.ipynb:1"
     ]
    }
   ],
   "source": [
    "fact(-5)"
   ]
  },
  {
   "cell_type": "code",
   "execution_count": 2,
   "metadata": {},
   "outputs": [
    {
     "data": {
      "text/plain": [
       "fact (generic function with 1 method)"
      ]
     },
     "metadata": {},
     "output_type": "display_data"
    }
   ],
   "source": [
    "function fact(n::Integer)\n",
    "  n >=0 || throw(ArgumentError(\"The argument must be a nonnegative integer.\"))\n",
    "  n == 0 ? 1 : n*fact(n-1)\n",
    "end"
   ]
  },
  {
   "cell_type": "code",
   "execution_count": 3,
   "metadata": {},
   "outputs": [
    {
     "ename": "ArgumentError",
     "evalue": "ArgumentError: The argument must be a nonnegative integer.",
     "output_type": "error",
     "traceback": [
      "ArgumentError: The argument must be a nonnegative integer.\n",
      "\n",
      "Stacktrace:\n",
      " [1] fact(n::Int64)\n",
      "   @ Main ~/code/sci-comp-book/julia-output/adv-functions.ipynb:2\n",
      " [2] top-level scope\n",
      "   @ ~/code/sci-comp-book/julia-output/adv-functions.ipynb:1"
     ]
    }
   ],
   "source": [
    "fact(-5)"
   ]
  },
  {
   "cell_type": "code",
   "execution_count": 4,
   "metadata": {},
   "outputs": [
    {
     "data": {
      "text/plain": [
       "newton (generic function with 1 method)"
      ]
     },
     "metadata": {},
     "output_type": "display_data"
    }
   ],
   "source": [
    "using ForwardDiff\n",
    "function newton(f::Function, x0::Number)\n",
    "  local x1 = x0\n",
    "  local dx = f(x1)/ForwardDiff.derivative(f, x1)\n",
    "  local steps = 0\n",
    "  while abs(dx) > 1e-6 && steps < 10\n",
    "    x1 -= dx\n",
    "    dx = f(x1)/ForwardDiff.derivative(f, x1)\n",
    "    steps += 1\n",
    "  end\n",
    "  x1\n",
    "end"
   ]
  },
  {
   "cell_type": "code",
   "execution_count": 5,
   "metadata": {},
   "outputs": [
    {
     "data": {
      "text/plain": [
       "1.4142135623746899"
      ]
     },
     "metadata": {},
     "output_type": "display_data"
    }
   ],
   "source": [
    "newton(x -> x^2-2,1)"
   ]
  },
  {
   "cell_type": "code",
   "execution_count": 7,
   "metadata": {},
   "outputs": [
    {
     "data": {
      "text/plain": [
       "newton (generic function with 3 methods)"
      ]
     },
     "metadata": {},
     "output_type": "display_data"
    }
   ],
   "source": [
    "function newton(f::Function, x0::Number, tol = 1e-6, max_steps = 10)\n",
    "  local x1 = x0\n",
    "  local dx = f(x1)/ForwardDiff.derivative(f, x1)\n",
    "  local steps = 0\n",
    "  while abs(dx) > tol && steps < max_steps\n",
    "    x1 -= dx\n",
    "    dx = f(x1)/ForwardDiff.derivative(f, x1)\n",
    "    steps += 1\n",
    "  end\n",
    "  x1\n",
    "end"
   ]
  },
  {
   "cell_type": "code",
   "execution_count": 16,
   "metadata": {},
   "outputs": [
    {
     "data": {
      "text/plain": [
       "2.236067977915804"
      ]
     },
     "metadata": {},
     "output_type": "display_data"
    }
   ],
   "source": [
    "newton(x -> x^2-5, 2)"
   ]
  },
  {
   "cell_type": "code",
   "execution_count": 15,
   "metadata": {},
   "outputs": [
    {
     "data": {
      "text/plain": [
       "2.236111111111111"
      ]
     },
     "metadata": {},
     "output_type": "display_data"
    }
   ],
   "source": [
    "newton(x->x^2-5, 2, 1e-3)"
   ]
  },
  {
   "cell_type": "code",
   "execution_count": 14,
   "metadata": {},
   "outputs": [
    {
     "data": {
      "text/plain": [
       "2.236111111111111"
      ]
     },
     "metadata": {},
     "output_type": "display_data"
    }
   ],
   "source": [
    "newton(x->x^2-5, 2, 1e-3, 5)"
   ]
  },
  {
   "cell_type": "code",
   "execution_count": 22,
   "metadata": {},
   "outputs": [
    {
     "data": {
      "text/plain": [
       "newton (generic function with 3 methods)"
      ]
     },
     "metadata": {},
     "output_type": "display_data"
    }
   ],
   "source": [
    "function newton(f::Function, x0::Number; tol = 1e-6, max_steps = 10)\n",
    "  tol > 0 || throw(ArgumentError(\"The parameter tol must be positive\"))\n",
    "  max_steps > 0 || throw(ArgumentError(\"The parameter max_steps must be positive\"))\n",
    "  local x1 = x0\n",
    "  local dx = f(x1)/ForwardDiff.derivative(f, x1)\n",
    "  local steps = 0\n",
    "  while abs(dx) > tol && steps < max_steps\n",
    "    x1 -= dx\n",
    "    dx = f(x1)/ForwardDiff.derivative(f, x1)\n",
    "    steps += 1\n",
    "  end\n",
    "  steps < max_steps || throw(ErrorException(\"The maximum number of steps: $max_steps was reached without convergence\"))\n",
    "  x1\n",
    "end"
   ]
  },
  {
   "cell_type": "code",
   "execution_count": 23,
   "metadata": {},
   "outputs": [
    {
     "ename": "ErrorException",
     "evalue": "The maximum number of steps: 10 was reached without convergence",
     "output_type": "error",
     "traceback": [
      "The maximum number of steps: 10 was reached without convergence\n",
      "\n",
      "Stacktrace:\n",
      " [1] newton(f::typeof(f), x0::Int64; tol::Float64, max_steps::Int64)\n",
      "   @ Main ~/code/sci-comp-book/julia-output/adv-functions.ipynb:12\n",
      " [2] newton(f::Function, x0::Int64)\n",
      "   @ Main ~/code/sci-comp-book/julia-output/adv-functions.ipynb:1\n",
      " [3] top-level scope\n",
      "   @ ~/code/sci-comp-book/julia-output/adv-functions.ipynb:2"
     ]
    }
   ],
   "source": [
    "f(x)=x^2+1\n",
    "root=newton(f,2)"
   ]
  },
  {
   "cell_type": "code",
   "execution_count": 24,
   "metadata": {},
   "outputs": [
    {
     "data": {
      "text/plain": [
       "6.764226660756428"
      ]
     },
     "metadata": {},
     "output_type": "display_data"
    }
   ],
   "source": [
    "f(root)"
   ]
  },
  {
   "cell_type": "code",
   "execution_count": 25,
   "metadata": {},
   "outputs": [
    {
     "data": {
      "text/plain": [
       "1.4142156862745099"
      ]
     },
     "metadata": {},
     "output_type": "display_data"
    }
   ],
   "source": [
    "newton(x -> x^2-2,1,tol=1e-3)"
   ]
  },
  {
   "cell_type": "code",
   "execution_count": 26,
   "metadata": {},
   "outputs": [
    {
     "data": {
      "text/plain": [
       "1.41421356237384"
      ]
     },
     "metadata": {},
     "output_type": "display_data"
    }
   ],
   "source": [
    "newton(x -> x^2-2,100,max_steps=20)"
   ]
  },
  {
   "cell_type": "code",
   "execution_count": 27,
   "metadata": {},
   "outputs": [
    {
     "data": {
      "text/plain": [
       "trapRule (generic function with 1 method)"
      ]
     },
     "metadata": {},
     "output_type": "display_data"
    }
   ],
   "source": [
    "function trapRule(f::Function,a::Number,b::Number)\n",
    "  local h = (b-a)/10\n",
    "  0.5*h*sum(map(f,a:h:b-h)+map(f,a+h:h:b))\n",
    "end"
   ]
  },
  {
   "cell_type": "code",
   "execution_count": 28,
   "metadata": {},
   "outputs": [
    {
     "data": {
      "text/plain": [
       "64.64000000000001"
      ]
     },
     "metadata": {},
     "output_type": "display_data"
    }
   ],
   "source": [
    "trapRule(x -> x^3,0,4)"
   ]
  },
  {
   "cell_type": "code",
   "execution_count": 29,
   "metadata": {},
   "outputs": [
    {
     "data": {
      "text/plain": [
       "findMax (generic function with 1 method)"
      ]
     },
     "metadata": {},
     "output_type": "display_data"
    }
   ],
   "source": [
    "findMax(x::Real,y::Real) = x > y ? x : y"
   ]
  },
  {
   "cell_type": "code",
   "execution_count": 30,
   "metadata": {},
   "outputs": [
    {
     "data": {
      "text/plain": [
       "findMax (generic function with 2 methods)"
      ]
     },
     "metadata": {},
     "output_type": "display_data"
    }
   ],
   "source": [
    "function findMax(nums::Real...)\n",
    "\tlocal max = -Inf\n",
    "\tfor num in nums\n",
    "\t\tif num &gt; max\n",
    "\t\t\tmax = num\n",
    "\t\tend\n",
    "\tend\n",
    "\tmax\n",
    "end"
   ]
  },
  {
   "cell_type": "code",
   "execution_count": 31,
   "metadata": {},
   "outputs": [
    {
     "data": {
      "text/plain": [
       "findMax (generic function with 3 methods)"
      ]
     },
     "metadata": {},
     "output_type": "display_data"
    }
   ],
   "source": [
    "function findMax(arr::Vector{Real})\n",
    "\tlocal max = -Inf\n",
    "\tfor num in arr\n",
    "\t\tif num &gt; max\n",
    "\t\t\tmax = num\n",
    "\t\tend\n",
    "\tend\n",
    "\tmax\n",
    "end"
   ]
  },
  {
   "cell_type": "code",
   "execution_count": 32,
   "metadata": {},
   "outputs": [
    {
     "ename": "MethodError",
     "evalue": "MethodError: no method matching findMax(::Vector{Int64})\nThe function `findMax` exists, but no method is defined for this combination of argument types.\n\nClosest candidates are:\n  findMax(!Matched::Vector{Real})\n   @ Main ~/code/sci-comp-book/julia-output/adv-functions.ipynb:1\n  findMax(!Matched::Real, !Matched::Real)\n   @ Main ~/code/sci-comp-book/julia-output/adv-functions.ipynb:1\n  findMax(!Matched::Real...)\n   @ Main ~/code/sci-comp-book/julia-output/adv-functions.ipynb:1\n",
     "output_type": "error",
     "traceback": [
      "MethodError: no method matching findMax(::Vector{Int64})\n",
      "The function `findMax` exists, but no method is defined for this combination of argument types.\n",
      "\n",
      "Closest candidates are:\n",
      "  findMax(!Matched::Vector{Real})\n",
      "   @ Main ~/code/sci-comp-book/julia-output/adv-functions.ipynb:1\n",
      "  findMax(!Matched::Real, !Matched::Real)\n",
      "   @ Main ~/code/sci-comp-book/julia-output/adv-functions.ipynb:1\n",
      "  findMax(!Matched::Real...)\n",
      "   @ Main ~/code/sci-comp-book/julia-output/adv-functions.ipynb:1\n",
      "\n",
      "\n",
      "Stacktrace:\n",
      " [1] top-level scope\n",
      "   @ ~/code/sci-comp-book/julia-output/adv-functions.ipynb:1"
     ]
    }
   ],
   "source": [
    "findMax(collect(1:10))"
   ]
  },
  {
   "cell_type": "code",
   "execution_count": 35,
   "metadata": {},
   "outputs": [
    {
     "data": {
      "text/plain": [
       "findMax (generic function with 4 methods)"
      ]
     },
     "metadata": {},
     "output_type": "display_data"
    }
   ],
   "source": [
    "function findMax(arr::Vector{T}) where T <: Real\n",
    "\tlocal max = -Inf\n",
    "\tfor num in arr\n",
    "\t\tif num > max\n",
    "\t\t\tmax = num\n",
    "\t\tend\n",
    "\tend\n",
    "\tmax\n",
    "end"
   ]
  },
  {
   "cell_type": "code",
   "execution_count": 36,
   "metadata": {},
   "outputs": [
    {
     "data": {
      "text/plain": [
       "10"
      ]
     },
     "metadata": {},
     "output_type": "display_data"
    }
   ],
   "source": [
    "findMax(collect(1:10))"
   ]
  },
  {
   "cell_type": "code",
   "execution_count": 37,
   "metadata": {},
   "outputs": [
    {
     "data": {
      "text/plain": [
       "10"
      ]
     },
     "metadata": {},
     "output_type": "display_data"
    }
   ],
   "source": [
    "findMax(collect(big(1):big(10)))"
   ]
  },
  {
   "cell_type": "code",
   "execution_count": 40,
   "metadata": {},
   "outputs": [
    {
     "data": {
      "text/plain": [
       "findProduct (generic function with 1 method)"
      ]
     },
     "metadata": {},
     "output_type": "display_data"
    }
   ],
   "source": [
    "function findProduct(arr::Vector{T}) where T<: Number\n",
    "  local prod = one(T)\n",
    "  for x in arr\n",
    "    prod *= x\n",
    "  end\n",
    "  prod\n",
    "end"
   ]
  },
  {
   "cell_type": "code",
   "execution_count": 41,
   "metadata": {},
   "outputs": [
    {
     "data": {
      "text/plain": [
       "3628800"
      ]
     },
     "metadata": {},
     "output_type": "display_data"
    }
   ],
   "source": [
    "findProduct(collect(1:10))"
   ]
  },
  {
   "cell_type": "code",
   "execution_count": 42,
   "metadata": {},
   "outputs": [
    {
     "data": {
      "text/plain": [
       "9.80713072705879e18"
      ]
     },
     "metadata": {},
     "output_type": "display_data"
    }
   ],
   "source": [
    "findProduct(collect(3.0:4.0:56.0))"
   ]
  },
  {
   "cell_type": "code",
   "execution_count": 43,
   "metadata": {},
   "outputs": [
    {
     "data": {
      "text/plain": [
       "280//27"
      ]
     },
     "metadata": {},
     "output_type": "display_data"
    }
   ],
   "source": [
    "findProduct(collect(1:1//3:7//3))"
   ]
  },
  {
   "cell_type": "code",
   "execution_count": 12,
   "metadata": {},
   "outputs": [
    {
     "data": {
      "text/plain": [
       "g (generic function with 2 methods)"
      ]
     },
     "metadata": {},
     "output_type": "display_data"
    }
   ],
   "source": [
    "function g(x::Number)\n",
    "  x *= 2\n",
    "  x += 7\n",
    "end"
   ]
  },
  {
   "cell_type": "code",
   "execution_count": 13,
   "metadata": {},
   "outputs": [
    {
     "data": {
      "text/plain": [
       "15"
      ]
     },
     "metadata": {},
     "output_type": "display_data"
    }
   ],
   "source": [
    "x=4\n",
    "g(4)"
   ]
  },
  {
   "cell_type": "code",
   "execution_count": 9,
   "metadata": {},
   "outputs": [
    {
     "data": {
      "text/plain": [
       "4"
      ]
     },
     "metadata": {},
     "output_type": "display_data"
    }
   ],
   "source": [
    "x"
   ]
  },
  {
   "cell_type": "code",
   "execution_count": 11,
   "metadata": {},
   "outputs": [
    {
     "data": {
      "text/plain": [
       "5-element Vector{Int64}:\n",
       " 1\n",
       " 2\n",
       " 3\n",
       " 4\n",
       " 5"
      ]
     },
     "metadata": {},
     "output_type": "display_data"
    }
   ],
   "source": [
    "A = [4,5,2,3,1]\n",
    "sort!(A)\n",
    "A\n"
   ]
  },
  {
   "cell_type": "code",
   "execution_count": 18,
   "metadata": {},
   "outputs": [
    {
     "data": {
      "text/plain": [
       "change3! (generic function with 1 method)"
      ]
     },
     "metadata": {},
     "output_type": "display_data"
    }
   ],
   "source": [
    "function change3!(A::Vector{T}) where T <: Number\n",
    "  A[3] *= 2\n",
    "end"
   ]
  },
  {
   "cell_type": "code",
   "execution_count": 19,
   "metadata": {},
   "outputs": [
    {
     "data": {
      "text/plain": [
       "6"
      ]
     },
     "metadata": {},
     "output_type": "display_data"
    }
   ],
   "source": [
    "A = [1,2,3,4]\n",
    "change3!(A)"
   ]
  },
  {
   "cell_type": "code",
   "execution_count": 20,
   "metadata": {},
   "outputs": [
    {
     "data": {
      "text/plain": [
       "4-element Vector{Int64}:\n",
       " 1\n",
       " 2\n",
       " 6\n",
       " 4"
      ]
     },
     "metadata": {},
     "output_type": "display_data"
    }
   ],
   "source": [
    "A"
   ]
  },
  {
   "cell_type": "code",
   "execution_count": null,
   "metadata": {},
   "outputs": [],
   "source": []
  }
 ],
 "metadata": {
  "kernelspec": {
   "display_name": "Julia 1.11.0-rc3",
   "language": "julia",
   "name": "julia-1.11"
  },
  "language_info": {
   "file_extension": ".jl",
   "mimetype": "application/julia",
   "name": "julia",
   "version": "1.11.0-rc3"
  }
 },
 "nbformat": 4,
 "nbformat_minor": 2
}
