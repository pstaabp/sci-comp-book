{
 "cells": [
  {
   "cell_type": "code",
   "execution_count": 7,
   "metadata": {},
   "outputs": [
    {
     "data": {
      "text/plain": [
       "matrixMult (generic function with 1 method)"
      ]
     },
     "metadata": {},
     "output_type": "display_data"
    }
   ],
   "source": [
    "function matrixMult(n::Integer)\n",
    "  local A = rand(n,n)\n",
    "  local B = rand(n,n)\n",
    "  A*B\n",
    "end"
   ]
  },
  {
   "cell_type": "code",
   "execution_count": 9,
   "metadata": {},
   "outputs": [
    {
     "name": "stdout",
     "output_type": "stream",
     "text": [
      "  0.000262 seconds (9 allocations: 234.609 KiB)\n"
     ]
    },
    {
     "data": {
      "text/plain": [
       "100×100 Matrix{Float64}:\n",
       " 23.3053  25.4656  21.8943  23.8885  …  23.4054  23.8434  25.8325  23.5207\n",
       " 24.6242  25.5309  22.6624  23.936      25.5954  26.5222  28.1051  25.164\n",
       " 27.0999  26.703   24.1298  24.0197     25.3714  25.7151  26.0756  26.0713\n",
       " 26.0418  25.8661  23.5956  23.4786     24.7454  26.3742  26.0239  24.7085\n",
       " 21.5463  21.2701  20.7173  21.4373     22.1972  22.669   23.1438  22.6051\n",
       " 25.1498  26.6899  22.3437  24.1935  …  24.3847  25.3745  24.4874  25.6407\n",
       " 27.012   26.456   24.2771  26.4606     24.6943  25.2417  26.7308  24.9637\n",
       " 26.7316  27.7516  23.7065  25.6369     25.6148  26.248   26.5292  26.1987\n",
       " 23.1575  24.7928  23.5282  25.1838     25.1354  24.9187  26.4445  23.953\n",
       " 25.0841  27.5498  23.3765  24.0355     25.8379  26.3272  27.2398  27.3525\n",
       "  ⋮                                  ⋱                             \n",
       " 24.9091  26.5907  24.1542  24.8084     24.5125  25.043   23.9205  24.1213\n",
       " 26.0513  25.3495  23.7739  25.3528     24.3189  27.3143  27.7804  26.2616\n",
       " 26.7645  27.8923  27.4738  27.4687     26.365   26.801   28.4069  26.8646\n",
       " 26.6192  26.811   24.4817  23.7916     25.3159  26.0289  26.4461  26.4258\n",
       " 24.2432  27.3467  23.8366  25.8203  …  27.1972  24.8976  27.8883  26.2606\n",
       " 23.0598  23.0145  21.3583  21.6058     21.2218  22.4123  23.1705  22.1442\n",
       " 26.3885  26.3195  25.1262  26.8776     25.0043  26.7797  28.9133  27.0331\n",
       " 28.0055  27.7005  23.5953  25.3676     25.6334  24.5641  26.9053  27.2259\n",
       " 27.6849  27.8784  24.1666  24.4463     25.9986  25.4473  27.7838  27.6026"
      ]
     },
     "metadata": {},
     "output_type": "display_data"
    }
   ],
   "source": [
    "@time matrixMult(100)"
   ]
  },
  {
   "cell_type": "code",
   "execution_count": 1,
   "metadata": {},
   "outputs": [
    {
     "data": {
      "text/plain": [
       "sum1 (generic function with 1 method)"
      ]
     },
     "metadata": {},
     "output_type": "display_data"
    }
   ],
   "source": [
    "function sum1(n::Int)\n",
    "  local arr = collect(1:n)\n",
    "  local sum = 0\n",
    "  for i in arr\n",
    "    sum += i\n",
    "  end\n",
    "  sum\n",
    "end\n"
   ]
  },
  {
   "cell_type": "code",
   "execution_count": 2,
   "metadata": {},
   "outputs": [
    {
     "name": "stdout",
     "output_type": "stream",
     "text": [
      "  0.008172 seconds (2 allocations: 7.629 MiB, 85.48% gc time)\n"
     ]
    },
    {
     "data": {
      "text/plain": [
       "500000500000"
      ]
     },
     "metadata": {},
     "output_type": "display_data"
    }
   ],
   "source": [
    "@time sum1(1_000_000)"
   ]
  },
  {
   "cell_type": "code",
   "execution_count": 3,
   "metadata": {},
   "outputs": [
    {
     "name": "stdout",
     "output_type": "stream",
     "text": [
      "  3.616744 seconds (2 allocations: 7.451 GiB, 0.09% gc time)\n"
     ]
    },
    {
     "data": {
      "text/plain": [
       "500000000500000000"
      ]
     },
     "metadata": {},
     "output_type": "display_data"
    }
   ],
   "source": [
    "@time sum1(1_000_000_000)"
   ]
  },
  {
   "cell_type": "code",
   "execution_count": 4,
   "metadata": {},
   "outputs": [
    {
     "data": {
      "text/plain": [
       "163.2326617663861"
      ]
     },
     "metadata": {},
     "output_type": "display_data"
    }
   ],
   "source": [
    "4.286/0.026257"
   ]
  },
  {
   "cell_type": "code",
   "execution_count": 5,
   "metadata": {},
   "outputs": [
    {
     "data": {
      "text/plain": [
       "sum2 (generic function with 1 method)"
      ]
     },
     "metadata": {},
     "output_type": "display_data"
    }
   ],
   "source": [
    "function sum2(n::Integer)\n",
    "  local sum = 0\n",
    "  for i=1:n\n",
    "    sum+=i\n",
    "  end\n",
    "  sum\n",
    "end"
   ]
  },
  {
   "cell_type": "code",
   "execution_count": 6,
   "metadata": {},
   "outputs": [
    {
     "name": "stdout",
     "output_type": "stream",
     "text": [
      "  0.000000 seconds\n"
     ]
    },
    {
     "data": {
      "text/plain": [
       "500000000500000000"
      ]
     },
     "metadata": {},
     "output_type": "display_data"
    }
   ],
   "source": [
    "@time sum2(1_000_000_000)"
   ]
  },
  {
   "cell_type": "code",
   "execution_count": 7,
   "metadata": {},
   "outputs": [
    {
     "data": {
      "text/plain": [
       "sum3 (generic function with 1 method)"
      ]
     },
     "metadata": {},
     "output_type": "display_data"
    }
   ],
   "source": [
    "function sum3(n::Int)\n",
    "  local sum = big(0)\n",
    "  for i=1:n\n",
    "    sum+=i\n",
    "  end\n",
    "  sum\n",
    "end"
   ]
  },
  {
   "cell_type": "code",
   "execution_count": 8,
   "metadata": {},
   "outputs": [
    {
     "name": "stdout",
     "output_type": "stream",
     "text": [
      "  0.074336 seconds (3.00 M allocations: 45.776 MiB)\n"
     ]
    },
    {
     "data": {
      "text/plain": [
       "500000500000"
      ]
     },
     "metadata": {},
     "output_type": "display_data"
    }
   ],
   "source": [
    "@time sum3(1_000_000)"
   ]
  },
  {
   "cell_type": "code",
   "execution_count": 9,
   "metadata": {},
   "outputs": [
    {
     "name": "stdout",
     "output_type": "stream",
     "text": [
      "  0.541505 seconds (30.00 M allocations: 457.764 MiB)\n"
     ]
    },
    {
     "data": {
      "text/plain": [
       "50000005000000"
      ]
     },
     "metadata": {},
     "output_type": "display_data"
    }
   ],
   "source": [
    "@time sum3(10_000_000)"
   ]
  },
  {
   "cell_type": "code",
   "execution_count": 10,
   "metadata": {},
   "outputs": [
    {
     "data": {
      "text/plain": [
       "sum4 (generic function with 1 method)"
      ]
     },
     "metadata": {},
     "output_type": "display_data"
    }
   ],
   "source": [
    "function sum4(n::Int)\n",
    "  reduce(+,1:big(n))\n",
    "end"
   ]
  },
  {
   "cell_type": "code",
   "execution_count": 11,
   "metadata": {},
   "outputs": [
    {
     "name": "stdout",
     "output_type": "stream",
     "text": [
      "  0.096799 seconds (5.00 M allocations: 91.553 MiB)\n"
     ]
    },
    {
     "data": {
      "text/plain": [
       "500000500000"
      ]
     },
     "metadata": {},
     "output_type": "display_data"
    }
   ],
   "source": [
    "@time sum4(1_000_000)"
   ]
  },
  {
   "cell_type": "code",
   "execution_count": 12,
   "metadata": {},
   "outputs": [
    {
     "name": "stdout",
     "output_type": "stream",
     "text": [
      "  2.895185 seconds (50.00 M allocations: 915.528 MiB, 35.73% gc time)\n"
     ]
    },
    {
     "data": {
      "text/plain": [
       "50000005000000"
      ]
     },
     "metadata": {},
     "output_type": "display_data"
    }
   ],
   "source": [
    "@time sum4(10_000_000)"
   ]
  },
  {
   "cell_type": "code",
   "execution_count": 13,
   "metadata": {},
   "outputs": [
    {
     "name": "stdout",
     "output_type": "stream",
     "text": [
      "  0.000264 seconds (41 allocations: 816 bytes)\n"
     ]
    },
    {
     "data": {
      "text/plain": [
       "500000500000"
      ]
     },
     "metadata": {},
     "output_type": "display_data"
    }
   ],
   "source": [
    "@time sum(1:big(10)^6)"
   ]
  },
  {
   "cell_type": "code",
   "execution_count": 14,
   "metadata": {},
   "outputs": [
    {
     "name": "stdout",
     "output_type": "stream",
     "text": [
      "  0.000033 seconds (42 allocations: 904 bytes)\n"
     ]
    },
    {
     "data": {
      "text/plain": [
       "5000000000000000000050000000000000000000"
      ]
     },
     "metadata": {},
     "output_type": "display_data"
    }
   ],
   "source": [
    "@time sum(1:big(10)^20)"
   ]
  },
  {
   "cell_type": "code",
   "execution_count": 15,
   "metadata": {},
   "outputs": [
    {
     "data": {
      "text/plain": [
       "fibonacci (generic function with 1 method)"
      ]
     },
     "metadata": {},
     "output_type": "display_data"
    }
   ],
   "source": [
    "fibonacci(n::Integer) = (n==1 || n==2) ? 1 : fibonacci(n-1) + fibonacci(n-2)"
   ]
  },
  {
   "cell_type": "code",
   "execution_count": 16,
   "metadata": {},
   "outputs": [
    {
     "data": {
      "text/plain": [
       "10-element Vector{Int64}:\n",
       "  1\n",
       "  1\n",
       "  2\n",
       "  3\n",
       "  5\n",
       "  8\n",
       " 13\n",
       " 21\n",
       " 34\n",
       " 55"
      ]
     },
     "metadata": {},
     "output_type": "display_data"
    }
   ],
   "source": [
    "map(fibonacci,1:10)"
   ]
  },
  {
   "cell_type": "code",
   "execution_count": 17,
   "metadata": {},
   "outputs": [
    {
     "name": "stdout",
     "output_type": "stream",
     "text": [
      "  3.149046 seconds\n"
     ]
    },
    {
     "data": {
      "text/plain": [
       "1134903170"
      ]
     },
     "metadata": {},
     "output_type": "display_data"
    }
   ],
   "source": [
    "@time fibonacci(45)"
   ]
  },
  {
   "cell_type": "code",
   "execution_count": 24,
   "metadata": {},
   "outputs": [
    {
     "name": "stdout",
     "output_type": "stream",
     "text": [
      "  5.068255 seconds\n"
     ]
    },
    {
     "data": {
      "text/plain": [
       "1836311903"
      ]
     },
     "metadata": {},
     "output_type": "display_data"
    }
   ],
   "source": [
    "@time fibonacci(46)"
   ]
  },
  {
   "cell_type": "code",
   "execution_count": 18,
   "metadata": {},
   "outputs": [
    {
     "data": {
      "text/plain": [
       "fibonacciEval (generic function with 1 method)"
      ]
     },
     "metadata": {},
     "output_type": "display_data"
    }
   ],
   "source": [
    "function fibonacciEval(n::Integer)\n",
    "  global num_evals\n",
    "  if n==1 || n==2\n",
    "    num_evals +=1\n",
    "    return 1\n",
    "  else\n",
    "    num_evals += 2\n",
    "    return fibonacciEval(n-1) + fibonacciEval(n-2)\n",
    "  end\n",
    "end"
   ]
  },
  {
   "cell_type": "code",
   "execution_count": 19,
   "metadata": {},
   "outputs": [
    {
     "data": {
      "text/plain": [
       "32836"
      ]
     },
     "metadata": {},
     "output_type": "display_data"
    }
   ],
   "source": [
    "num_evals = 0\n",
    "fibonacciEval(21)\n",
    "num_evals"
   ]
  },
  {
   "cell_type": "code",
   "execution_count": 25,
   "metadata": {},
   "outputs": [
    {
     "data": {
      "text/plain": [
       "fibonacci2 (generic function with 1 method)"
      ]
     },
     "metadata": {},
     "output_type": "display_data"
    }
   ],
   "source": [
    "function fibonacci2(n::Integer)\n",
    "  local x,y = (1,1)\n",
    "  for i = 1:n-1\n",
    "    x,y = (y, x+y)\n",
    "  end\n",
    "  x\n",
    "end"
   ]
  },
  {
   "cell_type": "code",
   "execution_count": 26,
   "metadata": {},
   "outputs": [
    {
     "name": "stdout",
     "output_type": "stream",
     "text": [
      "  0.000000 seconds\n"
     ]
    },
    {
     "data": {
      "text/plain": [
       "3736710778780434371"
      ]
     },
     "metadata": {},
     "output_type": "display_data"
    }
   ],
   "source": [
    "@time fibonacci2(100)"
   ]
  },
  {
   "cell_type": "code",
   "execution_count": 27,
   "metadata": {},
   "outputs": [
    {
     "name": "stdout",
     "output_type": "stream",
     "text": [
      "  0.000000 seconds\n"
     ]
    },
    {
     "data": {
      "text/plain": [
       "-1123705814761610347"
      ]
     },
     "metadata": {},
     "output_type": "display_data"
    }
   ],
   "source": [
    "@time fibonacci2(200)"
   ]
  },
  {
   "cell_type": "code",
   "execution_count": 22,
   "metadata": {},
   "outputs": [
    {
     "data": {
      "text/plain": [
       "100-element Vector{Int64}:\n",
       "                    1\n",
       "                    1\n",
       "                    2\n",
       "                    3\n",
       "                    5\n",
       "                    8\n",
       "                   13\n",
       "                   21\n",
       "                   34\n",
       "                   55\n",
       "                    ⋮\n",
       "  7540113804746346429\n",
       " -6246583658587674878\n",
       "  1293530146158671551\n",
       " -4953053512429003327\n",
       " -3659523366270331776\n",
       " -8612576878699335103\n",
       "  6174643828739884737\n",
       " -2437933049959450366\n",
       "  3736710778780434371"
      ]
     },
     "metadata": {},
     "output_type": "display_data"
    }
   ],
   "source": [
    "map(fibonacci2, 1:100)"
   ]
  },
  {
   "cell_type": "code",
   "execution_count": 23,
   "metadata": {},
   "outputs": [],
   "source": []
  }
 ],
 "metadata": {
  "kernelspec": {
   "display_name": "Julia 1.11.2",
   "language": "julia",
   "name": "julia-1.11"
  },
  "language_info": {
   "file_extension": ".jl",
   "mimetype": "application/julia",
   "name": "julia",
   "version": "1.11.2"
  }
 },
 "nbformat": 4,
 "nbformat_minor": 2
}
