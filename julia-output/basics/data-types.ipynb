{
 "cells": [
  {
   "cell_type": "code",
   "execution_count": 1,
   "metadata": {},
   "outputs": [
    {
     "data": {
      "text/plain": [
       "(-9223372036854775808, 9223372036854775807)"
      ]
     },
     "metadata": {},
     "output_type": "display_data"
    }
   ],
   "source": [
    "typemin(Int64), typemax(Int64)"
   ]
  },
  {
   "cell_type": "code",
   "execution_count": 2,
   "metadata": {},
   "outputs": [
    {
     "data": {
      "text/plain": [
       "(-128, 127)"
      ]
     },
     "metadata": {},
     "output_type": "display_data"
    }
   ],
   "source": [
    "typemin(Int8), typemax(Int8)"
   ]
  },
  {
   "cell_type": "code",
   "execution_count": 3,
   "metadata": {},
   "outputs": [
    {
     "data": {
      "text/plain": [
       "(0x00, 0xff)"
      ]
     },
     "metadata": {},
     "output_type": "display_data"
    }
   ],
   "source": [
    "typemin(UInt8), typemax(UInt8)"
   ]
  },
  {
   "cell_type": "code",
   "execution_count": 4,
   "metadata": {},
   "outputs": [
    {
     "data": {
      "text/plain": [
       "(-Inf32, Inf32)"
      ]
     },
     "metadata": {},
     "output_type": "display_data"
    }
   ],
   "source": [
    "typemin(Float32), typemax(Float32)"
   ]
  },
  {
   "cell_type": "code",
   "execution_count": 5,
   "metadata": {},
   "outputs": [
    {
     "name": "stdout",
     "output_type": "stream",
     "text": [
      "Float32(10 ^ n) = 1.590898f18\n",
      "Float32(10 ^ n) = -2.5377644f18\n",
      "Float32(10 ^ n) = -6.930899f18\n",
      "Float32(10 ^ n) = 4.4779882f18\n",
      "Float32(10 ^ n) = 7.8863923f18\n",
      "Float32(10 ^ n) = 5.0769444f18\n",
      "Float32(10 ^ n) = -4.5707894f18\n",
      "Float32(10 ^ n) = -8.814407f18\n",
      "Float32(10 ^ n) = 4.08965f18\n",
      "Float32(10 ^ n) = 4.0030123f18\n",
      "Float32(10 ^ n) = 3.136634f18\n",
      "Float32(10 ^ n) = -5.5271493f18\n",
      "Float32(10 ^ n) = 6.8739955f16\n",
      "Float32(10 ^ n) = 6.8739955f17\n",
      "Float32(10 ^ n) = 6.8739955f18\n",
      "Float32(10 ^ n) = -5.047021f18\n"
     ]
    }
   ],
   "source": [
    "for n=25:40\n",
    "  @show Float32(10^n)\n",
    "end"
   ]
  },
  {
   "cell_type": "code",
   "execution_count": 6,
   "metadata": {},
   "outputs": [],
   "source": []
  },
  {
   "cell_type": "code",
   "execution_count": 7,
   "metadata": {},
   "outputs": [
    {
     "data": {
      "text/plain": [
       "Inf32"
      ]
     },
     "metadata": {},
     "output_type": "display_data"
    }
   ],
   "source": [
    "Float32(10^5) + Inf32"
   ]
  },
  {
   "cell_type": "code",
   "execution_count": 8,
   "metadata": {},
   "outputs": [
    {
     "data": {
      "text/plain": [
       "\"00010010\""
      ]
     },
     "metadata": {},
     "output_type": "display_data"
    }
   ],
   "source": [
    "bitstring(UInt8(18))"
   ]
  },
  {
   "cell_type": "code",
   "execution_count": 9,
   "metadata": {},
   "outputs": [
    {
     "data": {
      "text/plain": [
       "\"11111111\""
      ]
     },
     "metadata": {},
     "output_type": "display_data"
    }
   ],
   "source": [
    "bitstring(UInt8(255))"
   ]
  },
  {
   "cell_type": "code",
   "execution_count": 10,
   "metadata": {},
   "outputs": [
    {
     "data": {
      "text/plain": [
       "\"0000000000000000000000000000000000000000000000011000011010100000\""
      ]
     },
     "metadata": {},
     "output_type": "display_data"
    }
   ],
   "source": [
    "bitstring(UInt64(100000))"
   ]
  },
  {
   "cell_type": "code",
   "execution_count": 11,
   "metadata": {},
   "outputs": [
    {
     "data": {
      "text/plain": [
       "(-128, 127)"
      ]
     },
     "metadata": {},
     "output_type": "display_data"
    }
   ],
   "source": [
    "typemin(Int8), typemax(Int8)"
   ]
  },
  {
   "cell_type": "code",
   "execution_count": 12,
   "metadata": {},
   "outputs": [
    {
     "data": {
      "text/plain": [
       "70"
      ]
     },
     "metadata": {},
     "output_type": "display_data"
    }
   ],
   "source": [
    "x=Int8(95)\n",
    "y=Int8(70)"
   ]
  },
  {
   "cell_type": "code",
   "execution_count": 13,
   "metadata": {},
   "outputs": [
    {
     "data": {
      "text/plain": [
       "-91"
      ]
     },
     "metadata": {},
     "output_type": "display_data"
    }
   ],
   "source": [
    "x+y"
   ]
  },
  {
   "cell_type": "code",
   "execution_count": 14,
   "metadata": {},
   "outputs": [
    {
     "ename": "OverflowError",
     "evalue": "OverflowError: 95 + 70 overflowed for type Int8",
     "output_type": "error",
     "traceback": [
      "OverflowError: 95 + 70 overflowed for type Int8\n",
      "\n",
      "Stacktrace:\n",
      " [1] throw_overflowerr_binaryop(op::Symbol, x::Int8, y::Int8)\n",
      "   @ Base.Checked ./checked.jl:163\n",
      " [2] checked_add(x::Int8, y::Int8)\n",
      "   @ Base.Checked ./checked.jl:175\n",
      " [3] top-level scope\n",
      "   @ ~/code/sci-comp-book/julia-output/basics/jl_notebook_cell_df34fa98e69747e1a8f8a730347b8e2f_X16sZmlsZQ==.jl:1"
     ]
    }
   ],
   "source": [
    "Base.checked_add(x,y)"
   ]
  },
  {
   "cell_type": "code",
   "execution_count": 15,
   "metadata": {},
   "outputs": [
    {
     "data": {
      "text/plain": [
       "(Inf16, Inf32, Inf)"
      ]
     },
     "metadata": {},
     "output_type": "display_data"
    }
   ],
   "source": [
    "typemax(Float16),typemax(Float32),typemax(Float64)"
   ]
  },
  {
   "cell_type": "code",
   "execution_count": 16,
   "metadata": {},
   "outputs": [
    {
     "data": {
      "text/plain": [
       "(Float16(6.55e4), 3.4028235f38, 1.7976931348623157e308)"
      ]
     },
     "metadata": {},
     "output_type": "display_data"
    }
   ],
   "source": [
    "floatmax(Float16),floatmax(Float32),floatmax(Float64)"
   ]
  },
  {
   "cell_type": "code",
   "execution_count": 17,
   "metadata": {},
   "outputs": [
    {
     "data": {
      "text/plain": [
       "(2.2250738585072014e-308, 1.7976931348623157e308)"
      ]
     },
     "metadata": {},
     "output_type": "display_data"
    }
   ],
   "source": [
    "floatmin(Float64),  floatmax(Float64)"
   ]
  },
  {
   "cell_type": "code",
   "execution_count": 18,
   "metadata": {},
   "outputs": [
    {
     "data": {
      "text/plain": [
       "(Float16(0.3333), 0.33333334f0, 0.3333333333333333)"
      ]
     },
     "metadata": {},
     "output_type": "display_data"
    }
   ],
   "source": [
    "Float16(1/3),Float32(1/3),Float64(1/3)"
   ]
  },
  {
   "cell_type": "code",
   "execution_count": 19,
   "metadata": {},
   "outputs": [
    {
     "data": {
      "text/plain": [
       "Float16(0.3333)"
      ]
     },
     "metadata": {},
     "output_type": "display_data"
    }
   ],
   "source": [
    "Float16(1)/Float16(3)"
   ]
  },
  {
   "cell_type": "code",
   "execution_count": 20,
   "metadata": {},
   "outputs": [
    {
     "data": {
      "text/plain": [
       "18"
      ]
     },
     "metadata": {},
     "output_type": "display_data"
    }
   ],
   "source": [
    "length(string(1/3))"
   ]
  },
  {
   "cell_type": "code",
   "execution_count": 21,
   "metadata": {},
   "outputs": [
    {
     "data": {
      "text/plain": [
       "0.2"
      ]
     },
     "metadata": {},
     "output_type": "display_data"
    }
   ],
   "source": [
    "0.2"
   ]
  },
  {
   "cell_type": "code",
   "execution_count": 22,
   "metadata": {},
   "outputs": [
    {
     "data": {
      "text/plain": [
       "0.6000000000000001"
      ]
     },
     "metadata": {},
     "output_type": "display_data"
    }
   ],
   "source": [
    "0.4 + 0.2"
   ]
  },
  {
   "cell_type": "code",
   "execution_count": 23,
   "metadata": {},
   "outputs": [
    {
     "data": {
      "text/plain": [
       "\"0100100001010000\""
      ]
     },
     "metadata": {},
     "output_type": "display_data"
    }
   ],
   "source": [
    "bitstring(Float16(8.625))"
   ]
  },
  {
   "cell_type": "code",
   "execution_count": 24,
   "metadata": {},
   "outputs": [
    {
     "data": {
      "text/plain": [
       "\"0011111111010101010101010101010101010101010101010101010101010101\""
      ]
     },
     "metadata": {},
     "output_type": "display_data"
    }
   ],
   "source": [
    "bitstring(1/3)"
   ]
  },
  {
   "cell_type": "code",
   "execution_count": 25,
   "metadata": {},
   "outputs": [
    {
     "data": {
      "text/plain": [
       "1.0000000000000002"
      ]
     },
     "metadata": {},
     "output_type": "display_data"
    }
   ],
   "source": [
    "1/9+1/9+1/9+1/9+1/9+1/9+1/9+1/9+1/9"
   ]
  },
  {
   "cell_type": "code",
   "execution_count": 26,
   "metadata": {},
   "outputs": [
    {
     "data": {
      "text/plain": [
       "10000000000000000000000000000000000000000000000000000000000000000000000000000000000000000000000000000"
      ]
     },
     "metadata": {},
     "output_type": "display_data"
    }
   ],
   "source": [
    "big(10)^100"
   ]
  },
  {
   "cell_type": "code",
   "execution_count": 27,
   "metadata": {},
   "outputs": [
    {
     "data": {
      "text/plain": [
       "0.111111111111111104943205418749130330979824066162109375"
      ]
     },
     "metadata": {},
     "output_type": "display_data"
    }
   ],
   "source": [
    "a=big(1/9)"
   ]
  },
  {
   "cell_type": "code",
   "execution_count": 28,
   "metadata": {},
   "outputs": [
    {
     "data": {
      "text/plain": [
       "0.1111111111111111111111111111111111111111111111111111111111111111111111111111109"
      ]
     },
     "metadata": {},
     "output_type": "display_data"
    }
   ],
   "source": [
    "a = big(1)/big(9)"
   ]
  },
  {
   "cell_type": "code",
   "execution_count": 29,
   "metadata": {},
   "outputs": [
    {
     "data": {
      "text/plain": [
       "81"
      ]
     },
     "metadata": {},
     "output_type": "display_data"
    }
   ],
   "source": [
    "length(string(a))"
   ]
  },
  {
   "cell_type": "code",
   "execution_count": 30,
   "metadata": {},
   "outputs": [
    {
     "data": {
      "text/plain": [
       "256"
      ]
     },
     "metadata": {},
     "output_type": "display_data"
    }
   ],
   "source": [
    "precision(a)"
   ]
  },
  {
   "cell_type": "code",
   "execution_count": 31,
   "metadata": {},
   "outputs": [
    {
     "data": {
      "text/plain": [
       "1024"
      ]
     },
     "metadata": {},
     "output_type": "display_data"
    }
   ],
   "source": [
    "setprecision(2^10)"
   ]
  },
  {
   "cell_type": "code",
   "execution_count": 32,
   "metadata": {},
   "outputs": [
    {
     "data": {
      "text/plain": [
       "0.111111111111111111111111111111111111111111111111111111111111111111111111111111111111111111111111111111111111111111111111111111111111111111111111111111111111111111111111111111111111111111111111111111111111111111111111111111111111111111111111111111111111111111111111111111111111111111111111111111111111111111111"
      ]
     },
     "metadata": {},
     "output_type": "display_data"
    }
   ],
   "source": [
    "big(1)/big(9)"
   ]
  },
  {
   "cell_type": "code",
   "execution_count": 33,
   "metadata": {},
   "outputs": [
    {
     "data": {
      "text/plain": [
       "311"
      ]
     },
     "metadata": {},
     "output_type": "display_data"
    }
   ],
   "source": [
    "length(string(big(1)/big(9)))"
   ]
  },
  {
   "cell_type": "code",
   "execution_count": 34,
   "metadata": {},
   "outputs": [
    {
     "data": {
      "text/plain": [
       "Rational{Int64}"
      ]
     },
     "metadata": {},
     "output_type": "display_data"
    }
   ],
   "source": [
    "typeof(1//2)"
   ]
  },
  {
   "cell_type": "code",
   "execution_count": 35,
   "metadata": {},
   "outputs": [
    {
     "data": {
      "text/plain": [
       "1//1"
      ]
     },
     "metadata": {},
     "output_type": "display_data"
    }
   ],
   "source": [
    "1//9+1//9+1//9+1//9+1//9+1//9+1//9+1//9+1//9"
   ]
  },
  {
   "cell_type": "code",
   "execution_count": 36,
   "metadata": {},
   "outputs": [
    {
     "ename": "OverflowError",
     "evalue": "OverflowError: 5943339269060627227 * 47 overflowed for type Int64",
     "output_type": "error",
     "traceback": [
      "OverflowError: 5943339269060627227 * 47 overflowed for type Int64\n",
      "\n",
      "Stacktrace:\n",
      "  [1] throw_overflowerr_binaryop(op::Symbol, x::Int64, y::Int64)\n",
      "    @ Base.Checked ./checked.jl:163\n",
      "  [2] checked_mul\n",
      "    @ ./checked.jl:297 [inlined]\n",
      "  [3] +\n",
      "    @ ./rational.jl:350 [inlined]\n",
      "  [4] add_sum\n",
      "    @ ./reduce.jl:27 [inlined]\n",
      "  [5] macro expansion\n",
      "    @ ./reduce.jl:265 [inlined]\n",
      "  [6] macro expansion\n",
      "    @ ./simdloop.jl:77 [inlined]\n",
      "  [7] mapreduce_impl(f::var\"#11#12\", op::typeof(Base.add_sum), A::UnitRange{Int64}, ifirst::Int64, ilast::Int64, blksize::Int64)\n",
      "    @ Base ./reduce.jl:263\n",
      "  [8] mapreduce_impl\n",
      "    @ ./reduce.jl:277 [inlined]\n",
      "  [9] _mapreduce(f::var\"#11#12\", op::typeof(Base.add_sum), ::IndexLinear, A::UnitRange{Int64})\n",
      "    @ Base ./reduce.jl:444\n",
      " [10] _mapreduce_dim(f::Function, op::Function, ::Base._InitialValue, A::UnitRange{Int64}, ::Colon)\n",
      "    @ Base ./reducedim.jl:337\n",
      " [11] mapreduce\n",
      "    @ ./reducedim.jl:329 [inlined]\n",
      " [12] _sum\n",
      "    @ ./reducedim.jl:987 [inlined]\n",
      " [13] sum(f::Function, a::UnitRange{Int64})\n",
      "    @ Base ./reducedim.jl:983\n",
      " [14] top-level scope\n",
      "    @ ~/code/sci-comp-book/julia-output/basics/jl_notebook_cell_df34fa98e69747e1a8f8a730347b8e2f_X50sZmlsZQ==.jl:1"
     ]
    }
   ],
   "source": [
    "sum(i->1//i,1:50)"
   ]
  },
  {
   "cell_type": "code",
   "execution_count": 37,
   "metadata": {},
   "outputs": [
    {
     "data": {
      "text/plain": [
       "7381//2520"
      ]
     },
     "metadata": {},
     "output_type": "display_data"
    }
   ],
   "source": [
    "7381//2520"
   ]
  },
  {
   "cell_type": "code",
   "execution_count": 38,
   "metadata": {},
   "outputs": [
    {
     "data": {
      "text/plain": [
       "1 + 2im"
      ]
     },
     "metadata": {},
     "output_type": "display_data"
    }
   ],
   "source": [
    "z=1+2im"
   ]
  },
  {
   "cell_type": "code",
   "execution_count": 39,
   "metadata": {},
   "outputs": [
    {
     "data": {
      "text/plain": [
       "Complex{Int64}"
      ]
     },
     "metadata": {},
     "output_type": "display_data"
    }
   ],
   "source": [
    "typeof(z)"
   ]
  },
  {
   "cell_type": "code",
   "execution_count": 40,
   "metadata": {},
   "outputs": [
    {
     "data": {
      "text/plain": [
       "Complex{Int64}"
      ]
     },
     "metadata": {},
     "output_type": "display_data"
    }
   ],
   "source": [
    "Complex{Int64}"
   ]
  },
  {
   "cell_type": "code",
   "execution_count": 41,
   "metadata": {},
   "outputs": [
    {
     "data": {
      "text/plain": [
       "true"
      ]
     },
     "metadata": {},
     "output_type": "display_data"
    }
   ],
   "source": [
    "UInt8 <: Integer"
   ]
  },
  {
   "cell_type": "code",
   "execution_count": 42,
   "metadata": {},
   "outputs": [
    {
     "data": {
      "text/plain": [
       "0.3333333333333333"
      ]
     },
     "metadata": {},
     "output_type": "display_data"
    }
   ],
   "source": [
    "float(1//3)"
   ]
  },
  {
   "cell_type": "code",
   "execution_count": 43,
   "metadata": {},
   "outputs": [
    {
     "data": {
      "text/plain": [
       "Float16(0.3333)"
      ]
     },
     "metadata": {},
     "output_type": "display_data"
    }
   ],
   "source": [
    "convert(Float16,1/3)"
   ]
  },
  {
   "cell_type": "code",
   "execution_count": 44,
   "metadata": {},
   "outputs": [
    {
     "data": {
      "text/plain": [
       "1234.0"
      ]
     },
     "metadata": {},
     "output_type": "display_data"
    }
   ],
   "source": [
    "parse(Float64,\"1234\")"
   ]
  },
  {
   "cell_type": "code",
   "execution_count": 45,
   "metadata": {},
   "outputs": [
    {
     "data": {
      "text/plain": [
       "19"
      ]
     },
     "metadata": {},
     "output_type": "display_data"
    }
   ],
   "source": [
    "parse(Int,\"10011\",base=2)"
   ]
  },
  {
   "cell_type": "code",
   "execution_count": 46,
   "metadata": {},
   "outputs": [
    {
     "data": {
      "text/plain": [
       "Tuple{Int64, Int64}"
      ]
     },
     "metadata": {},
     "output_type": "display_data"
    }
   ],
   "source": [
    "typeof((1,2))"
   ]
  },
  {
   "cell_type": "code",
   "execution_count": 47,
   "metadata": {},
   "outputs": [
    {
     "data": {
      "text/plain": [
       "Tuple{Int64, Int64}"
      ]
     },
     "metadata": {},
     "output_type": "display_data"
    }
   ],
   "source": [
    "Tuple{Int64, Int64}"
   ]
  },
  {
   "cell_type": "code",
   "execution_count": 48,
   "metadata": {},
   "outputs": [
    {
     "data": {
      "text/plain": [
       "(5, 7.8, \"Hello\")"
      ]
     },
     "metadata": {},
     "output_type": "display_data"
    }
   ],
   "source": [
    "(5,7.8, \"Hello\")"
   ]
  },
  {
   "cell_type": "code",
   "execution_count": 49,
   "metadata": {},
   "outputs": [
    {
     "data": {
      "text/plain": [
       "Tuple{Int64, Float64, String}"
      ]
     },
     "metadata": {},
     "output_type": "display_data"
    }
   ],
   "source": [
    "typeof((5,7.8, \"Hello\"))"
   ]
  },
  {
   "cell_type": "code",
   "execution_count": 50,
   "metadata": {},
   "outputs": [
    {
     "data": {
      "text/plain": [
       "(x = 11, y = 3.2, z = 9)"
      ]
     },
     "metadata": {},
     "output_type": "display_data"
    }
   ],
   "source": [
    "pt = (x=11, y=3.2, z=9)"
   ]
  },
  {
   "cell_type": "code",
   "execution_count": 51,
   "metadata": {},
   "outputs": [
    {
     "ename": "ErrorException",
     "evalue": "setfield!: immutable struct of type NamedTuple cannot be changed",
     "output_type": "error",
     "traceback": [
      "setfield!: immutable struct of type NamedTuple cannot be changed\n",
      "\n",
      "Stacktrace:\n",
      " [1] setproperty!(x::@NamedTuple{x::Int64, y::Float64, z::Int64}, f::Symbol, v::Int64)\n",
      "   @ Base ./Base.jl:53\n",
      " [2] top-level scope\n",
      "   @ ~/code/sci-comp-book/julia-output/basics/jl_notebook_cell_df34fa98e69747e1a8f8a730347b8e2f_Y101sZmlsZQ==.jl:1"
     ]
    }
   ],
   "source": [
    "pt.z = 3"
   ]
  },
  {
   "cell_type": "code",
   "execution_count": 52,
   "metadata": {},
   "outputs": [
    {
     "data": {
      "text/plain": [
       "isOdd (generic function with 1 method)"
      ]
     },
     "metadata": {},
     "output_type": "display_data"
    }
   ],
   "source": [
    "isOdd(n::Integer) = mod(n,2)==1"
   ]
  },
  {
   "cell_type": "code",
   "execution_count": 53,
   "metadata": {},
   "outputs": [
    {
     "ename": "MethodError",
     "evalue": "MethodError: no method matching isOdd(::Float64)\nThe function `isOdd` exists, but no method is defined for this combination of argument types.\n\nClosest candidates are:\n  isOdd(!Matched::Integer)\n   @ Main ~/code/sci-comp-book/julia-output/basics/jl_notebook_cell_df34fa98e69747e1a8f8a730347b8e2f_Y102sZmlsZQ==.jl:1\n",
     "output_type": "error",
     "traceback": [
      "MethodError: no method matching isOdd(::Float64)\n",
      "The function `isOdd` exists, but no method is defined for this combination of argument types.\n",
      "\n",
      "Closest candidates are:\n",
      "  isOdd(!Matched::Integer)\n",
      "   @ Main ~/code/sci-comp-book/julia-output/basics/jl_notebook_cell_df34fa98e69747e1a8f8a730347b8e2f_Y102sZmlsZQ==.jl:1\n",
      "\n",
      "\n",
      "Stacktrace:\n",
      " [1] top-level scope\n",
      "   @ ~/code/sci-comp-book/julia-output/basics/jl_notebook_cell_df34fa98e69747e1a8f8a730347b8e2f_Y103sZmlsZQ==.jl:1"
     ]
    }
   ],
   "source": [
    "isOdd(3.5)"
   ]
  },
  {
   "cell_type": "code",
   "execution_count": 56,
   "metadata": {},
   "outputs": [
    {
     "data": {
      "text/plain": [
       "-4"
      ]
     },
     "metadata": {},
     "output_type": "display_data"
    }
   ],
   "source": [
    "round(Int, -3.5)"
   ]
  },
  {
   "cell_type": "code",
   "execution_count": 57,
   "metadata": {},
   "outputs": [
    {
     "data": {
      "text/plain": [
       "true"
      ]
     },
     "metadata": {},
     "output_type": "display_data"
    }
   ],
   "source": [
    "using CairoMakie\n",
    "CairoMakie.activate!()\n",
    "Makie.inline!(true)"
   ]
  },
  {
   "cell_type": "code",
   "execution_count": 62,
   "metadata": {},
   "outputs": [
    {
     "data": {
      "image/png": "[encoded data removed]",
      "text/html": [
       "<img width=600 height=450 style='object-fit: contain; height: auto;' src=\"data:image/png;base64, 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\"/>"
      ]
     },
     "metadata": {},
     "output_type": "display_data"
    }
   ],
   "source": [
    "fig, ax = lines(-3..3,x->round(Int,x))\n",
    "lines!(ax, -3..3, x->ceil(Int,x))\n",
    "lines!(ax, -3..3, x->floor(Int,x))\n",
    "fig"
   ]
  },
  {
   "cell_type": "code",
   "execution_count": 1,
   "metadata": {},
   "outputs": [
    {
     "data": {
      "text/plain": [
       "3.0"
      ]
     },
     "metadata": {},
     "output_type": "display_data"
    }
   ],
   "source": [
    "round(Float64,3.2)"
   ]
  },
  {
   "cell_type": "code",
   "execution_count": 2,
   "metadata": {},
   "outputs": [
    {
     "data": {
      "text/plain": [
       "4//1"
      ]
     },
     "metadata": {},
     "output_type": "display_data"
    }
   ],
   "source": [
    "floor(Rational{Int}, 4.5)"
   ]
  },
  {
   "cell_type": "code",
   "execution_count": null,
   "metadata": {},
   "outputs": [],
   "source": []
  }
 ],
 "metadata": {
  "kernelspec": {
   "display_name": "Julia 1.11.2",
   "language": "julia",
   "name": "julia-1.11"
  },
  "language_info": {
   "file_extension": ".jl",
   "mimetype": "application/julia",
   "name": "julia",
   "version": "1.11.2"
  }
 },
 "nbformat": 4,
 "nbformat_minor": 2
}
