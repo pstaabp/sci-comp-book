{
 "cells": [
  {
   "cell_type": "code",
   "execution_count": 2,
   "metadata": {},
   "outputs": [],
   "source": [
    "using Test"
   ]
  },
  {
   "cell_type": "code",
   "execution_count": 3,
   "metadata": {},
   "outputs": [
    {
     "data": {
      "text/plain": [
       "true"
      ]
     },
     "metadata": {},
     "output_type": "display_data"
    }
   ],
   "source": [
    "occursin(\"cat\",\"cat\")"
   ]
  },
  {
   "cell_type": "code",
   "execution_count": 4,
   "metadata": {},
   "outputs": [
    {
     "data": {
      "text/plain": [
       "true"
      ]
     },
     "metadata": {},
     "output_type": "display_data"
    }
   ],
   "source": [
    "\"cat\"==\"cat\""
   ]
  },
  {
   "cell_type": "code",
   "execution_count": 5,
   "metadata": {},
   "outputs": [
    {
     "data": {
      "text/plain": [
       "true"
      ]
     },
     "metadata": {},
     "output_type": "display_data"
    }
   ],
   "source": [
    "occursin(\"cat\",\"scatter\")"
   ]
  },
  {
   "cell_type": "code",
   "execution_count": 6,
   "metadata": {},
   "outputs": [
    {
     "data": {
      "text/plain": [
       "false"
      ]
     },
     "metadata": {},
     "output_type": "display_data"
    }
   ],
   "source": [
    "occursin(\"cat\", \"cottage\")"
   ]
  },
  {
   "cell_type": "code",
   "execution_count": 1,
   "metadata": {},
   "outputs": [
    {
     "data": {
      "text/plain": [
       "2-element Vector{Bool}:\n",
       " 1\n",
       " 0"
      ]
     },
     "metadata": {},
     "output_type": "display_data"
    }
   ],
   "source": [
    "map(s -> occursin(\"cat\", s), [\"scatter\", \"cottage\"])"
   ]
  },
  {
   "cell_type": "code",
   "execution_count": 2,
   "metadata": {},
   "outputs": [
    {
     "data": {
      "text/plain": [
       "3-element Vector{Bool}:\n",
       " 1\n",
       " 0\n",
       " 0"
      ]
     },
     "metadata": {},
     "output_type": "display_data"
    }
   ],
   "source": [
    "map(s->startswith(s, \"cat\"), [\"catastrophe\", \"scatter\", \"tigercat\"])"
   ]
  },
  {
   "cell_type": "code",
   "execution_count": 3,
   "metadata": {},
   "outputs": [
    {
     "data": {
      "text/plain": [
       "3-element Vector{Bool}:\n",
       " 0\n",
       " 0\n",
       " 1"
      ]
     },
     "metadata": {},
     "output_type": "display_data"
    }
   ],
   "source": [
    "map(s->endswith(s, \"cat\"), [\"catastrophe\", \"scatter\", \"tigercat\"])"
   ]
  },
  {
   "cell_type": "code",
   "execution_count": 7,
   "metadata": {},
   "outputs": [
    {
     "data": {
      "text/plain": [
       "r\"cat\""
      ]
     },
     "metadata": {},
     "output_type": "display_data"
    }
   ],
   "source": [
    "r\"cat\""
   ]
  },
  {
   "cell_type": "code",
   "execution_count": 4,
   "metadata": {},
   "outputs": [
    {
     "data": {
      "text/plain": [
       "3-element Vector{Bool}:\n",
       " 1\n",
       " 1\n",
       " 1"
      ]
     },
     "metadata": {},
     "output_type": "display_data"
    }
   ],
   "source": [
    "map(s-> occursin(r\"cat\", s), [\"catastrophe\", \"scatter\", \"tigercat\"])"
   ]
  },
  {
   "cell_type": "code",
   "execution_count": 5,
   "metadata": {},
   "outputs": [
    {
     "data": {
      "text/plain": [
       "3-element Vector{Bool}:\n",
       " 1\n",
       " 0\n",
       " 0"
      ]
     },
     "metadata": {},
     "output_type": "display_data"
    }
   ],
   "source": [
    "map(s-> occursin(r\"^cat\", s), [\"catastrophe\", \"scatter\", \"tigercat\"])"
   ]
  },
  {
   "cell_type": "code",
   "execution_count": 7,
   "metadata": {},
   "outputs": [
    {
     "data": {
      "text/plain": [
       "4-element Vector{Bool}:\n",
       " 1\n",
       " 1\n",
       " 1\n",
       " 0"
      ]
     },
     "metadata": {},
     "output_type": "display_data"
    }
   ],
   "source": [
    "map(s -> occursin(r\"c[auo]t\", s), [\"catalog\", \"scotch\", \"cutlery\", \"settle\"])"
   ]
  },
  {
   "cell_type": "code",
   "execution_count": 8,
   "metadata": {},
   "outputs": [
    {
     "data": {
      "text/plain": [
       "4-element Vector{Bool}:\n",
       " 1\n",
       " 1\n",
       " 1\n",
       " 0"
      ]
     },
     "metadata": {},
     "output_type": "display_data"
    }
   ],
   "source": [
    "map(s -> occursin(r\"^[a-f]\",s), [\"apple\", \"checkmate\", \"frosted flakes\", \"zebra\"])"
   ]
  },
  {
   "cell_type": "code",
   "execution_count": 10,
   "metadata": {},
   "outputs": [
    {
     "data": {
      "text/plain": [
       "4-element Vector{Bool}:\n",
       " 0\n",
       " 0\n",
       " 1\n",
       " 1"
      ]
     },
     "metadata": {},
     "output_type": "display_data"
    }
   ],
   "source": [
    "map(s -> occursin(r\"^[^a-f]\",s), [\"apple\", \"frosted flakes\", \"poutine\", \"zebra\"])"
   ]
  },
  {
   "cell_type": "code",
   "execution_count": 11,
   "metadata": {},
   "outputs": [
    {
     "data": {
      "text/plain": [
       "3-element Vector{Bool}:\n",
       " 1\n",
       " 0\n",
       " 1"
      ]
     },
     "metadata": {},
     "output_type": "display_data"
    }
   ],
   "source": [
    "map(s -> occursin(r\"c.t\",s), [\"catalog\", \"tactile\", \"yacht\"])"
   ]
  },
  {
   "cell_type": "code",
   "execution_count": null,
   "metadata": {},
   "outputs": [
    {
     "data": {
      "text/plain": [
       "3-element Vector{Bool}:\n",
       " 1\n",
       " 1\n",
       " 0"
      ]
     },
     "metadata": {},
     "output_type": "display_data"
    }
   ],
   "source": [
    "map(s -> occursin(r\"dog|cat\",s), [\"dogma\", \"catalog\", \"fish\"])"
   ]
  },
  {
   "cell_type": "code",
   "execution_count": 14,
   "metadata": {},
   "outputs": [
    {
     "data": {
      "text/plain": [
       "3-element Vector{Bool}:\n",
       " 1\n",
       " 1\n",
       " 0"
      ]
     },
     "metadata": {},
     "output_type": "display_data"
    }
   ],
   "source": [
    "map(s -> occursin(r\"(dog|cat)fish\",s), [\"dogfish\", \"catfish\", \"clownfish\"])"
   ]
  },
  {
   "cell_type": "code",
   "execution_count": 14,
   "metadata": {},
   "outputs": [
    {
     "data": {
      "text/plain": [
       "true"
      ]
     },
     "metadata": {},
     "output_type": "display_data"
    }
   ],
   "source": [
    "occursin(r\"^[0-9]\",\"1234\")"
   ]
  },
  {
   "cell_type": "code",
   "execution_count": 15,
   "metadata": {},
   "outputs": [
    {
     "data": {
      "text/plain": [
       "true"
      ]
     },
     "metadata": {},
     "output_type": "display_data"
    }
   ],
   "source": [
    "occursin(r\"^\\d\",\"1234\")"
   ]
  },
  {
   "cell_type": "code",
   "execution_count": 16,
   "metadata": {},
   "outputs": [
    {
     "data": {
      "text/plain": [
       "3-element Vector{Bool}:\n",
       " 1\n",
       " 1\n",
       " 0"
      ]
     },
     "metadata": {},
     "output_type": "display_data"
    }
   ],
   "source": [
    "map(s-> occursin(r\"^[a-z]\", s), [\"apple\", \"zebra\", \"1234\"])"
   ]
  },
  {
   "cell_type": "code",
   "execution_count": 17,
   "metadata": {},
   "outputs": [
    {
     "data": {
      "text/plain": [
       "3-element Vector{Bool}:\n",
       " 1\n",
       " 1\n",
       " 0"
      ]
     },
     "metadata": {},
     "output_type": "display_data"
    }
   ],
   "source": [
    "map(s -> occursin(r\"^[[:alpha:]]\",s) , [\"apple\", \"ωγ\", \"1234\"])"
   ]
  },
  {
   "cell_type": "code",
   "execution_count": 18,
   "metadata": {},
   "outputs": [
    {
     "data": {
      "text/plain": [
       "3-element Vector{Bool}:\n",
       " 1\n",
       " 1\n",
       " 0"
      ]
     },
     "metadata": {},
     "output_type": "display_data"
    }
   ],
   "source": [
    "map(s -> occursin(r\"\\w\\w\\w\", s), [\"r2c\", \"ww_c\", \"i a\"])"
   ]
  },
  {
   "cell_type": "code",
   "execution_count": 1,
   "metadata": {},
   "outputs": [
    {
     "data": {
      "text/plain": [
       "6-element Vector{SubString{String}}:\n",
       " \"The\"\n",
       " \"dog\"\n",
       " \"jumps\"\n",
       " \"over\"\n",
       " \"the\"\n",
       " \"log\""
      ]
     },
     "metadata": {},
     "output_type": "display_data"
    }
   ],
   "source": [
    "split( \"The dog\tjumps over the log\", r\"\\s\")"
   ]
  },
  {
   "cell_type": "code",
   "execution_count": 2,
   "metadata": {},
   "outputs": [
    {
     "data": {
      "text/plain": [
       "6-element Vector{SubString{String}}:\n",
       " \"1.0\"\n",
       " \"2.0\"\n",
       " \"3.0\"\n",
       " \"4.5\"\n",
       " \"7.9\"\n",
       " \"-10\""
      ]
     },
     "metadata": {},
     "output_type": "display_data"
    }
   ],
   "source": [
    "split(\"1.0,2.0,3.0;4.5,7.9;-10\", r\"[,;]\")"
   ]
  },
  {
   "cell_type": "markdown",
   "metadata": {},
   "source": [
    "### Quantifiers\n",
    "\n",
    "We often want to match some character (or range) some number of times.  We can do that by just repeating that character, like: "
   ]
  },
  {
   "cell_type": "code",
   "execution_count": 21,
   "metadata": {},
   "outputs": [
    {
     "data": {
      "text/plain": [
       "false"
      ]
     },
     "metadata": {},
     "output_type": "display_data"
    }
   ],
   "source": [
    "occursin(r\"ccc\",\"cc\")"
   ]
  },
  {
   "cell_type": "markdown",
   "metadata": {},
   "source": [
    "Or we can use the `{n}` after a character to match `n` times.  "
   ]
  },
  {
   "cell_type": "code",
   "execution_count": 22,
   "metadata": {},
   "outputs": [
    {
     "data": {
      "text/plain": [
       "false"
      ]
     },
     "metadata": {},
     "output_type": "display_data"
    }
   ],
   "source": [
    "occursin(r\"c{3}\",\"cc\")"
   ]
  },
  {
   "cell_type": "markdown",
   "metadata": {},
   "source": [
    "The following matches `c` between 2 and 4 times. "
   ]
  },
  {
   "cell_type": "code",
   "execution_count": 23,
   "metadata": {},
   "outputs": [
    {
     "data": {
      "text/plain": [
       "5-element Vector{Bool}:\n",
       " 0\n",
       " 1\n",
       " 1\n",
       " 1\n",
       " 0"
      ]
     },
     "metadata": {},
     "output_type": "display_data"
    }
   ],
   "source": [
    "map(s -> occursin(r\"^c{2,4}$\",s),[\"c\",\"cc\",\"ccc\",\"cccc\",\"ccccc\"])"
   ]
  },
  {
   "cell_type": "code",
   "execution_count": 24,
   "metadata": {},
   "outputs": [
    {
     "data": {
      "text/plain": [
       "5-element Vector{Bool}:\n",
       " 0\n",
       " 0\n",
       " 1\n",
       " 1\n",
       " 1"
      ]
     },
     "metadata": {},
     "output_type": "display_data"
    }
   ],
   "source": [
    "map(s -> occursin(r\"^c{3,}$\",s),[\"c\",\"cc\",\"ccc\",\"cccc\",\"ccccc\"])"
   ]
  },
  {
   "cell_type": "code",
   "execution_count": 17,
   "metadata": {},
   "outputs": [
    {
     "data": {
      "text/plain": [
       "5-element Vector{Bool}:\n",
       " 1\n",
       " 1\n",
       " 1\n",
       " 0\n",
       " 0"
      ]
     },
     "metadata": {},
     "output_type": "display_data"
    }
   ],
   "source": [
    "map(s -> occursin(r\"^c{0,3}$\",s),[\"c\",\"cc\",\"ccc\",\"cccc\",\"ccccc\"])"
   ]
  },
  {
   "cell_type": "markdown",
   "metadata": {},
   "source": [
    "We can match a character 0 or more times with a `*`."
   ]
  },
  {
   "cell_type": "code",
   "execution_count": 26,
   "metadata": {},
   "outputs": [
    {
     "data": {
      "text/plain": [
       "5-element Vector{Bool}:\n",
       " 1\n",
       " 1\n",
       " 1\n",
       " 1\n",
       " 1"
      ]
     },
     "metadata": {},
     "output_type": "display_data"
    }
   ],
   "source": [
    "map(s -> occursin(r\"^c*a\",s),[\"a\",\"ca\",\"cca\",\"ccca\",\"cccca\"])"
   ]
  },
  {
   "cell_type": "markdown",
   "metadata": {},
   "source": [
    "We can match a character 1 or more times with a `+`."
   ]
  },
  {
   "cell_type": "code",
   "execution_count": 27,
   "metadata": {},
   "outputs": [
    {
     "data": {
      "text/plain": [
       "5-element Vector{Bool}:\n",
       " 0\n",
       " 1\n",
       " 1\n",
       " 1\n",
       " 1"
      ]
     },
     "metadata": {},
     "output_type": "display_data"
    }
   ],
   "source": [
    "map(s -> occursin(r\"^c+a\",s),[\"a\",\"ca\",\"cca\",\"ccca\",\"cccca\"])"
   ]
  },
  {
   "cell_type": "markdown",
   "metadata": {},
   "source": [
    "### Parsing strings and extracting substrings\n",
    "\n",
    "A bigger use of regular expressions is for extracting substrings and parsing those substrings.  We first examine the `match` method to extract information. \n",
    "\n",
    "If we want to match a string with 3 words separated by spaces, we can use the regular expression `r\"\\w+\\s+\\w+\\s+\\w+\"` for example:"
   ]
  },
  {
   "cell_type": "code",
   "execution_count": 36,
   "metadata": {},
   "outputs": [
    {
     "data": {
      "text/plain": [
       "true"
      ]
     },
     "metadata": {},
     "output_type": "display_data"
    }
   ],
   "source": [
    "occursin(r\"\\w+\\s+\\w+\\s+\\w+\", \"Three big pigs\")"
   ]
  },
  {
   "cell_type": "markdown",
   "metadata": {},
   "source": [
    "Now this just tells us if the string matches.  However lets say that we want to extract the three strings. We can do that first of all by surrounding the `\\w+` with `()`, which makes a grouping.  "
   ]
  },
  {
   "cell_type": "code",
   "execution_count": 37,
   "metadata": {},
   "outputs": [
    {
     "data": {
      "text/plain": [
       "true"
      ]
     },
     "metadata": {},
     "output_type": "display_data"
    }
   ],
   "source": [
    "occursin(r\"(\\w+)\\s+(\\w+)\\s+(\\w+)\", \"Three big pigs\")"
   ]
  },
  {
   "cell_type": "markdown",
   "metadata": {},
   "source": [
    "And now we will use `match` instead of `occursin`:"
   ]
  },
  {
   "cell_type": "code",
   "execution_count": 39,
   "metadata": {},
   "outputs": [
    {
     "data": {
      "text/plain": [
       "RegexMatch(\"Three big pigs\", 1=\"Three\", 2=\"big\", 3=\"pigs\")"
      ]
     },
     "metadata": {},
     "output_type": "display_data"
    }
   ],
   "source": [
    "m = match(r\"(\\w+)\\s+(\\w+)\\s+(\\w+)\", \"Three big pigs\")"
   ]
  },
  {
   "cell_type": "markdown",
   "metadata": {},
   "source": [
    "This returns a `RegexMatch` object, which returns the matched string (the whole thing) and the three groupings.  We can next get the groups with `m[1]`, `m[2]` and `m[3]`:"
   ]
  },
  {
   "cell_type": "code",
   "execution_count": 40,
   "metadata": {},
   "outputs": [
    {
     "data": {
      "text/plain": [
       "(\"Three\", \"big\", \"pigs\")"
      ]
     },
     "metadata": {},
     "output_type": "display_data"
    }
   ],
   "source": [
    "m[1], m[2], m[3]"
   ]
  },
  {
   "cell_type": "markdown",
   "metadata": {},
   "source": [
    "### Exercise\n",
    "\n",
    "Let's say there are sports scores like `78-75` or `5-3` where the first number is the home team, the second is the visitor team.  Extract the scores.  Test with a few options. "
   ]
  },
  {
   "cell_type": "code",
   "execution_count": 4,
   "metadata": {},
   "outputs": [
    {
     "data": {
      "text/plain": [
       "3-element Vector{Bool}:\n",
       " 1\n",
       " 1\n",
       " 1"
      ]
     },
     "metadata": {},
     "output_type": "display_data"
    }
   ],
   "source": [
    "map(s -> occursin(r\"^\\d+-\\d+$\", s), [\"78-75\",\"5-3\", \"123-97\"])"
   ]
  },
  {
   "cell_type": "code",
   "execution_count": 5,
   "metadata": {},
   "outputs": [
    {
     "data": {
      "text/plain": [
       "RegexMatch(\"78-75\", 1=\"78\", 2=\"75\")"
      ]
     },
     "metadata": {},
     "output_type": "display_data"
    }
   ],
   "source": [
    "match(r\"^(\\d+)-(\\d+)$\", \"78-75\")"
   ]
  },
  {
   "cell_type": "markdown",
   "metadata": {},
   "source": [
    "### Decimals and Integers"
   ]
  },
  {
   "cell_type": "code",
   "execution_count": 28,
   "metadata": {},
   "outputs": [
    {
     "data": {
      "text/plain": [
       "r\"[+-]?\\d+\""
      ]
     },
     "metadata": {},
     "output_type": "display_data"
    }
   ],
   "source": [
    "int_re = r\"[+-]?\\d+\""
   ]
  },
  {
   "cell_type": "code",
   "execution_count": 29,
   "metadata": {},
   "outputs": [
    {
     "data": {
      "text/plain": [
       "3-element Vector{Bool}:\n",
       " 1\n",
       " 1\n",
       " 1"
      ]
     },
     "metadata": {},
     "output_type": "display_data"
    }
   ],
   "source": [
    "map(s-> occursin(int_re, s),[\"1234\", \"+1234\", \"-1234\"])"
   ]
  },
  {
   "cell_type": "code",
   "execution_count": 20,
   "metadata": {},
   "outputs": [
    {
     "data": {
      "text/plain": [
       "r\"^[+-]?\\d+\\.\\d*$\""
      ]
     },
     "metadata": {},
     "output_type": "display_data"
    }
   ],
   "source": [
    "dec_re = r\"^[+-]?\\d+\\.\\d*$\""
   ]
  },
  {
   "cell_type": "code",
   "execution_count": 21,
   "metadata": {},
   "outputs": [
    {
     "data": {
      "text/plain": [
       "5-element Vector{Bool}:\n",
       " 1\n",
       " 1\n",
       " 1\n",
       " 0\n",
       " 0"
      ]
     },
     "metadata": {},
     "output_type": "display_data"
    }
   ],
   "source": [
    "map(s -> occursin(dec_re, s),[\"-1.3\", \"-1.\", \"14.0343\", \"14\", \"-15\"])"
   ]
  },
  {
   "cell_type": "code",
   "execution_count": 22,
   "metadata": {},
   "outputs": [
    {
     "data": {
      "text/plain": [
       "r\"^[+-]?\\d+(\\.\\d*)?$\""
      ]
     },
     "metadata": {},
     "output_type": "display_data"
    }
   ],
   "source": [
    "int_or_dec_re = r\"^[+-]?\\d+(\\.\\d*)?$\""
   ]
  },
  {
   "cell_type": "code",
   "execution_count": 23,
   "metadata": {},
   "outputs": [
    {
     "data": {
      "text/plain": [
       "5-element Vector{Bool}:\n",
       " 1\n",
       " 1\n",
       " 1\n",
       " 1\n",
       " 1"
      ]
     },
     "metadata": {},
     "output_type": "display_data"
    }
   ],
   "source": [
    "map(s -> occursin(int_or_dec_re, s),[\"-1.3\", \"-1.\", \"14.0343\", \"14\", \"-15\"])"
   ]
  },
  {
   "cell_type": "code",
   "execution_count": 24,
   "metadata": {},
   "outputs": [
    {
     "data": {
      "text/plain": [
       "r\"\\(([+-]?\\d+),([+-]?\\d+)\\)\""
      ]
     },
     "metadata": {},
     "output_type": "display_data"
    }
   ],
   "source": [
    "pt_re = r\"\\(([+-]?\\d+),([+-]?\\d+)\\)\""
   ]
  },
  {
   "cell_type": "code",
   "execution_count": 25,
   "metadata": {},
   "outputs": [
    {
     "data": {
      "text/plain": [
       "true"
      ]
     },
     "metadata": {},
     "output_type": "display_data"
    }
   ],
   "source": [
    "occursin(pt_re,\"(14,-17)\")"
   ]
  },
  {
   "cell_type": "code",
   "execution_count": null,
   "metadata": {},
   "outputs": [],
   "source": []
  },
  {
   "cell_type": "code",
   "execution_count": 36,
   "metadata": {},
   "outputs": [
    {
     "data": {
      "text/plain": [
       "RegexMatch(\"(14,-17)\", 1=\"14\", 2=\"-17\")"
      ]
     },
     "metadata": {},
     "output_type": "display_data"
    }
   ],
   "source": [
    "m = match(pt_re, \"(14,-17)\")"
   ]
  },
  {
   "cell_type": "code",
   "execution_count": 37,
   "metadata": {},
   "outputs": [
    {
     "data": {
      "text/plain": [
       "\"14\""
      ]
     },
     "metadata": {},
     "output_type": "display_data"
    }
   ],
   "source": [
    "m[1]"
   ]
  },
  {
   "cell_type": "code",
   "execution_count": 38,
   "metadata": {},
   "outputs": [
    {
     "data": {
      "text/plain": [
       "\"Ben like cookies.  Also, Ben doesn't like carrots.\""
      ]
     },
     "metadata": {},
     "output_type": "display_data"
    }
   ],
   "source": [
    "replace(\"Alice like cookies.  Also, Alice doesn't like carrots.\", \"Alice\" => \"Ben\")"
   ]
  },
  {
   "cell_type": "code",
   "execution_count": 39,
   "metadata": {},
   "outputs": [
    {
     "data": {
      "text/plain": [
       "\"are there a doctor in the house?  There are.\""
      ]
     },
     "metadata": {},
     "output_type": "display_data"
    }
   ],
   "source": [
    "replace(\"Is there a doctor in the house?  There is.\", r\"[Ii]s\" => \"are\")"
   ]
  },
  {
   "cell_type": "code",
   "execution_count": 40,
   "metadata": {},
   "outputs": [
    {
     "data": {
      "text/plain": [
       "\"Is the kid still in the pond?  Is the adult sitting on the beach?\""
      ]
     },
     "metadata": {},
     "output_type": "display_data"
    }
   ],
   "source": [
    "replace(\"Are the kids still in the pond?  Are the adults sitting on the beach?\", \"Are\" => \"Is\", r\"\\s(\\w+)s\\s\" => s\" \\1 \")"
   ]
  },
  {
   "cell_type": "code",
   "execution_count": 41,
   "metadata": {},
   "outputs": [
    {
     "data": {
      "text/plain": [
       "r\"([+-]?\\d+)x([+-]?\\d+)\""
      ]
     },
     "metadata": {},
     "output_type": "display_data"
    }
   ],
   "source": [
    "lin = r\"([+-]?\\d+)x([+-]?\\d+)\""
   ]
  },
  {
   "cell_type": "code",
   "execution_count": 42,
   "metadata": {},
   "outputs": [
    {
     "data": {
      "text/plain": [
       "RegexMatch(\"5x-10\", 1=\"5\", 2=\"-10\")"
      ]
     },
     "metadata": {},
     "output_type": "display_data"
    }
   ],
   "source": [
    "match(lin, \"5x-10\")"
   ]
  },
  {
   "cell_type": "code",
   "execution_count": 43,
   "metadata": {},
   "outputs": [
    {
     "name": "stdout",
     "output_type": "stream",
     "text": [
      "Linear Functions: \u001b[91m\u001b[1mTest Failed\u001b[22m\u001b[39m at \u001b[39m\u001b[1m/Users/pstaab/code/sci-comp-book/julia-output/jl_notebook_cell_df34fa98e69747e1a8f8a730347b8e2f_X56sZmlsZQ==.jl:6\u001b[22m\n",
      "  Expression: match(lin, \"5x\") !== nothing\n",
      "   Evaluated: nothing !== nothing\n",
      "\n",
      "Stacktrace:\n",
      " [1] \u001b[0m\u001b[1mmacro expansion\u001b[22m\n",
      "\u001b[90m   @\u001b[39m \u001b[90m~/.julia/juliaup/julia-1.11.0-rc2+0.aarch64.apple.darwin14/share/julia/stdlib/v1.11/Test/src/\u001b[39m\u001b[90m\u001b[4mTest.jl:679\u001b[24m\u001b[39m\u001b[90m [inlined]\u001b[39m\n",
      " [2] \u001b[0m\u001b[1mmacro expansion\u001b[22m\n",
      "\u001b[90m   @\u001b[39m \u001b[90m~/code/sci-comp-book/julia-output/\u001b[39m\u001b[90m\u001b[4mjl_notebook_cell_df34fa98e69747e1a8f8a730347b8e2f_X56sZmlsZQ==.jl:6\u001b[24m\u001b[39m\u001b[90m [inlined]\u001b[39m\n",
      " [3] \u001b[0m\u001b[1mmacro expansion\u001b[22m\n",
      "\u001b[90m   @\u001b[39m \u001b[90m~/.julia/juliaup/julia-1.11.0-rc2+0.aarch64.apple.darwin14/share/julia/stdlib/v1.11/Test/src/\u001b[39m\u001b[90m\u001b[4mTest.jl:1700\u001b[24m\u001b[39m\u001b[90m [inlined]\u001b[39m\n",
      " [4] top-level scope\n",
      "\u001b[90m   @\u001b[39m \u001b[90m~/code/sci-comp-book/julia-output/\u001b[39m\u001b[90m\u001b[4mjl_notebook_cell_df34fa98e69747e1a8f8a730347b8e2f_X56sZmlsZQ==.jl:2\u001b[24m\u001b[39m\n",
      "Linear Functions: \u001b[91m\u001b[1mTest Failed\u001b[22m\u001b[39m at \u001b[39m\u001b[1m/Users/pstaab/code/sci-comp-book/julia-output/jl_notebook_cell_df34fa98e69747e1a8f8a730347b8e2f_X56sZmlsZQ==.jl:7\u001b[22m\n",
      "  Expression: match(lin, \"5*x-10\") !== nothing\n",
      "   Evaluated: nothing !== nothing\n",
      "\n",
      "Stacktrace:\n",
      " [1] \u001b[0m\u001b[1mmacro expansion\u001b[22m\n",
      "\u001b[90m   @\u001b[39m \u001b[90m~/.julia/juliaup/julia-1.11.0-rc2+0.aarch64.apple.darwin14/share/julia/stdlib/v1.11/Test/src/\u001b[39m\u001b[90m\u001b[4mTest.jl:679\u001b[24m\u001b[39m\u001b[90m [inlined]\u001b[39m\n",
      " [2] \u001b[0m\u001b[1mmacro expansion\u001b[22m\n",
      "\u001b[90m   @\u001b[39m \u001b[90m~/code/sci-comp-book/julia-output/\u001b[39m\u001b[90m\u001b[4mjl_notebook_cell_df34fa98e69747e1a8f8a730347b8e2f_X56sZmlsZQ==.jl:7\u001b[24m\u001b[39m\u001b[90m [inlined]\u001b[39m\n",
      " [3] \u001b[0m\u001b[1mmacro expansion\u001b[22m\n",
      "\u001b[90m   @\u001b[39m \u001b[90m~/.julia/juliaup/julia-1.11.0-rc2+0.aarch64.apple.darwin14/share/julia/stdlib/v1.11/Test/src/\u001b[39m\u001b[90m\u001b[4mTest.jl:1700\u001b[24m\u001b[39m\u001b[90m [inlined]\u001b[39m\n",
      " [4] top-level scope\n",
      "\u001b[90m   @\u001b[39m \u001b[90m~/code/sci-comp-book/julia-output/\u001b[39m\u001b[90m\u001b[4mjl_notebook_cell_df34fa98e69747e1a8f8a730347b8e2f_X56sZmlsZQ==.jl:2\u001b[24m\u001b[39m\n",
      "\u001b[0m\u001b[1mTest Summary:    | \u001b[22m\u001b[32m\u001b[1mPass  \u001b[22m\u001b[39m\u001b[91m\u001b[1mFail  \u001b[22m\u001b[39m\u001b[36m\u001b[1mTotal  \u001b[22m\u001b[39m\u001b[0m\u001b[1mTime\u001b[22m\n",
      "Linear Functions | \u001b[32m   4  \u001b[39m\u001b[91m   2  \u001b[39m\u001b[36m    6  \u001b[39m\u001b[0m2.1s\n"
     ]
    },
    {
     "ename": "TestSetException",
     "evalue": "Some tests did not pass: 4 passed, 2 failed, 0 errored, 0 broken.",
     "output_type": "error",
     "traceback": [
      "Some tests did not pass: 4 passed, 2 failed, 0 errored, 0 broken.\n",
      "\n",
      "Stacktrace:\n",
      " [1] finish(ts::Test.DefaultTestSet; print_results::Bool)\n",
      "   @ Test ~/.julia/juliaup/julia-1.11.0-rc2+0.aarch64.apple.darwin14/share/julia/stdlib/v1.11/Test/src/Test.jl:1254\n",
      " [2] finish(ts::Test.DefaultTestSet)\n",
      "   @ Test ~/.julia/juliaup/julia-1.11.0-rc2+0.aarch64.apple.darwin14/share/julia/stdlib/v1.11/Test/src/Test.jl:1229\n",
      " [3] macro expansion\n",
      "   @ ~/.julia/juliaup/julia-1.11.0-rc2+0.aarch64.apple.darwin14/share/julia/stdlib/v1.11/Test/src/Test.jl:1716 [inlined]\n",
      " [4] top-level scope\n",
      "   @ ~/code/sci-comp-book/julia-output/jl_notebook_cell_df34fa98e69747e1a8f8a730347b8e2f_X56sZmlsZQ==.jl:2"
     ]
    }
   ],
   "source": [
    "@testset \"Linear Functions\" begin\n",
    "  @test match(lin, \"5x-10\") !== nothing\n",
    "  @test match(lin, \"-5x-10\") !== nothing\n",
    "  @test match(lin, \"5x+10\") !== nothing\n",
    "  @test match(lin, \"-5x+10\") !== nothing\n",
    "  @test match(lin, \"5x\") !== nothing\n",
    "  @test match(lin, \"5*x-10\") !== nothing\n",
    "end"
   ]
  },
  {
   "cell_type": "code",
   "execution_count": 44,
   "metadata": {},
   "outputs": [
    {
     "data": {
      "text/plain": [
       "r\"([-+]?\\d+)\\*?x([-+]?\\d+)?\""
      ]
     },
     "metadata": {},
     "output_type": "display_data"
    }
   ],
   "source": [
    "lin2 = r\"([-+]?\\d+)\\*?x([-+]?\\d+)?\""
   ]
  },
  {
   "cell_type": "code",
   "execution_count": 45,
   "metadata": {},
   "outputs": [
    {
     "name": "stdout",
     "output_type": "stream",
     "text": [
      "\u001b[0m\u001b[1mTest Summary:    | \u001b[22m\u001b[32m\u001b[1mPass  \u001b[22m\u001b[39m\u001b[36m\u001b[1mTotal  \u001b[22m\u001b[39m\u001b[0m\u001b[1mTime\u001b[22m\n",
      "Linear Functions | \u001b[32m   6  \u001b[39m\u001b[36m    6  \u001b[39m\u001b[0m0.0s\n"
     ]
    },
    {
     "data": {
      "text/plain": [
       "Test.DefaultTestSet(\"Linear Functions\", Any[], 6, false, false, true, 1.722298900105663e9, 1.722298900105727e9, false, \"/Users/pstaab/code/sci-comp-book/julia-output/jl_notebook_cell_df34fa98e69747e1a8f8a730347b8e2f_X61sZmlsZQ==.jl\")"
      ]
     },
     "metadata": {},
     "output_type": "display_data"
    }
   ],
   "source": [
    "@testset \"Linear Functions\" begin\n",
    "  @test match(lin2, \"5x-10\") !== nothing\n",
    "  @test match(lin2, \"-5x-10\") !== nothing\n",
    "  @test match(lin2, \"5x+10\") !== nothing\n",
    "  @test match(lin2, \"-5x+10\") !== nothing\n",
    "  @test match(lin2, \"5x\") !== nothing\n",
    "  @test match(lin2, \"5*x-10\") !== nothing\n",
    "end"
   ]
  },
  {
   "cell_type": "code",
   "execution_count": 46,
   "metadata": {},
   "outputs": [
    {
     "data": {
      "text/plain": [
       "r\"^[-+]?\\d+(\\.\\d*)?$\""
      ]
     },
     "metadata": {},
     "output_type": "display_data"
    }
   ],
   "source": [
    "dec = r\"^[-+]?\\d+(\\.\\d*)?$\""
   ]
  },
  {
   "cell_type": "code",
   "execution_count": 47,
   "metadata": {},
   "outputs": [
    {
     "name": "stdout",
     "output_type": "stream",
     "text": [
      "\u001b[0m\u001b[1mTest Summary: | \u001b[22m\u001b[32m\u001b[1mPass  \u001b[22m\u001b[39m\u001b[36m\u001b[1mTotal  \u001b[22m\u001b[39m\u001b[0m\u001b[1mTime\u001b[22m\n",
      "Decimals      | \u001b[32m   6  \u001b[39m\u001b[36m    6  \u001b[39m\u001b[0m0.0s\n"
     ]
    },
    {
     "data": {
      "text/plain": [
       "Test.DefaultTestSet(\"Decimals\", Any[], 6, false, false, true, 1.722298900122997e9, 1.722298900123055e9, false, \"/Users/pstaab/code/sci-comp-book/julia-output/jl_notebook_cell_df34fa98e69747e1a8f8a730347b8e2f_X63sZmlsZQ==.jl\")"
      ]
     },
     "metadata": {},
     "output_type": "display_data"
    }
   ],
   "source": [
    "@testset \"Decimals\" begin\n",
    "   @test match(dec, \"10\") !== nothing\n",
    "   @test match(dec, \"10.\") !== nothing\n",
    "   @test match(dec, \"10.123\") !== nothing\n",
    "   @test match(dec, \"-10\") !== nothing\n",
    "   @test match(dec, \"-10.\") !== nothing\n",
    "   @test match(dec, \"-10.123\") !== nothing\n",
    "end"
   ]
  },
  {
   "cell_type": "code",
   "execution_count": 48,
   "metadata": {},
   "outputs": [
    {
     "data": {
      "text/plain": [
       "r\"([-+]?\\d+(\\.\\d*)?)\\*?x([-+]?\\d+(\\.\\d*)?)?\""
      ]
     },
     "metadata": {},
     "output_type": "display_data"
    }
   ],
   "source": [
    "lin_dec = r\"([-+]?\\d+(\\.\\d*)?)\\*?x([-+]?\\d+(\\.\\d*)?)?\""
   ]
  },
  {
   "cell_type": "code",
   "execution_count": 49,
   "metadata": {},
   "outputs": [
    {
     "name": "stdout",
     "output_type": "stream",
     "text": [
      "\u001b[0m\u001b[1mTest Summary:                             | \u001b[22m\u001b[32m\u001b[1mPass  \u001b[22m\u001b[39m\u001b[36m\u001b[1mTotal  \u001b[22m\u001b[39m\u001b[0m\u001b[1mTime\u001b[22m\n",
      "Linear Functions with integer coefficents | \u001b[32m   6  \u001b[39m\u001b[36m    6  \u001b[39m\u001b[0m0.0s\n"
     ]
    },
    {
     "data": {
      "text/plain": [
       "Test.DefaultTestSet(\"Linear Functions with integer coefficents\", Any[], 6, false, false, true, 1.722298900139907e9, 1.722298900139966e9, false, \"/Users/pstaab/code/sci-comp-book/julia-output/jl_notebook_cell_df34fa98e69747e1a8f8a730347b8e2f_X65sZmlsZQ==.jl\")"
      ]
     },
     "metadata": {},
     "output_type": "display_data"
    }
   ],
   "source": [
    "@testset \"Linear Functions with integer coefficents\" begin\n",
    "  @test match(lin_dec, \"5x-10\") !== nothing\n",
    "  @test match(lin_dec, \"-5x-10\") !== nothing\n",
    "  @test match(lin_dec, \"5x+10\") !== nothing\n",
    "  @test match(lin_dec, \"-5x+10\") !== nothing\n",
    "  @test match(lin_dec, \"5x\") !== nothing\n",
    "  @test match(lin_dec, \"5*x-10\") !== nothing\n",
    "end"
   ]
  },
  {
   "cell_type": "code",
   "execution_count": 50,
   "metadata": {},
   "outputs": [
    {
     "name": "stdout",
     "output_type": "stream",
     "text": [
      "\u001b[0m\u001b[1mTest Summary:                             | \u001b[22m\u001b[32m\u001b[1mPass  \u001b[22m\u001b[39m\u001b[36m\u001b[1mTotal  \u001b[22m\u001b[39m\u001b[0m\u001b[1mTime\u001b[22m\n",
      "Linear Functions with decimal coefficents | \u001b[32m   6  \u001b[39m\u001b[36m    6  \u001b[39m\u001b[0m0.0s\n"
     ]
    },
    {
     "data": {
      "text/plain": [
       "Test.DefaultTestSet(\"Linear Functions with decimal coefficents\", Any[], 6, false, false, true, 1.722298900152981e9, 1.722298900153047e9, false, \"/Users/pstaab/code/sci-comp-book/julia-output/jl_notebook_cell_df34fa98e69747e1a8f8a730347b8e2f_X66sZmlsZQ==.jl\")"
      ]
     },
     "metadata": {},
     "output_type": "display_data"
    }
   ],
   "source": [
    "@testset \"Linear Functions with decimal coefficents\" begin\n",
    "  @test match(lin_dec, \"5.0x-10.5\") !== nothing\n",
    "  @test match(lin_dec, \"-5.9x-10.2\") !== nothing\n",
    "  @test match(lin_dec, \"5.3x+10.4\") !== nothing\n",
    "  @test match(lin_dec, \"-5.25x+10.8\") !== nothing\n",
    "  @test match(lin_dec, \"5.x\") !== nothing\n",
    "  @test match(lin_dec, \"5.3*x-10.55\") !== nothing\n",
    "end"
   ]
  },
  {
   "cell_type": "code",
   "execution_count": 51,
   "metadata": {},
   "outputs": [
    {
     "data": {
      "text/plain": [
       "Base.SplitIterator{String, Regex}(\"18x^2-17x-10\", r\"[+-]\", 0, true)"
      ]
     },
     "metadata": {},
     "output_type": "display_data"
    }
   ],
   "source": [
    "eachsplit(\"18x^2-17x-10\",r\"[+-]\")"
   ]
  },
  {
   "cell_type": "code",
   "execution_count": 52,
   "metadata": {},
   "outputs": [
    {
     "data": {
      "text/plain": [
       "RegexMatch(\"18x\", 1=\"18x\", 2=\"18\", 3=nothing)"
      ]
     },
     "metadata": {},
     "output_type": "display_data"
    }
   ],
   "source": [
    "match(r\"(([+-]?\\d+)\\*?x(^\\d)?)\",\"18x^2-17x-10\",)"
   ]
  },
  {
   "cell_type": "code",
   "execution_count": 53,
   "metadata": {},
   "outputs": [
    {
     "data": {
      "text/plain": [
       "RegexMatch(\"18x^2\", 1=nothing)"
      ]
     },
     "metadata": {},
     "output_type": "display_data"
    }
   ],
   "source": [
    "match(r\"(.)?18x\\^2\", \"18x^2-17x-10\")"
   ]
  },
  {
   "cell_type": "code",
   "execution_count": 54,
   "metadata": {},
   "outputs": [
    {
     "data": {
      "text/plain": [
       "1:1"
      ]
     },
     "metadata": {},
     "output_type": "display_data"
    }
   ],
   "source": [
    "findnext(r\"[+-]\", \"-18x^2-17x-10\",1)"
   ]
  },
  {
   "cell_type": "code",
   "execution_count": 55,
   "metadata": {},
   "outputs": [
    {
     "data": {
      "text/plain": [
       "splitPoly (generic function with 1 method)"
      ]
     },
     "metadata": {},
     "output_type": "display_data"
    }
   ],
   "source": [
    "function splitPoly(p::String)\n",
    "  local terms = String[]\n",
    "  # if the first character is a +/-, start the index at 2\n",
    "  local ind1 = occursin(r\"^[+-]\",p) ? 2 : 1\n",
    "\n",
    "  while true\n",
    "    ind2 = findnext(r\"[+-]\", p, ind1)\n",
    "    if ind2 == nothing\n",
    "      # Push the last term onto the term stack.\n",
    "      push!(terms, string(SubString(p, ind1-1)))\n",
    "      break\n",
    "    end\n",
    "    # The first time through the loop, the substring calculation is different.\n",
    "    push!(terms, string(SubString(p,(ind1 == 1 ? 1 : ind1 -1):first(ind2)-1)))\n",
    "    ind1 = first(ind2)+1\n",
    "  end\n",
    "  terms\n",
    "end"
   ]
  },
  {
   "cell_type": "code",
   "execution_count": 56,
   "metadata": {},
   "outputs": [
    {
     "data": {
      "text/plain": [
       "3-element Vector{String}:\n",
       " \"4x^3\"\n",
       " \"-2x\"\n",
       " \"+6\""
      ]
     },
     "metadata": {},
     "output_type": "display_data"
    }
   ],
   "source": [
    "splitPoly(\"4x^3-2x+6\")"
   ]
  },
  {
   "cell_type": "code",
   "execution_count": 57,
   "metadata": {},
   "outputs": [
    {
     "data": {
      "text/plain": [
       "r\"^([+-]?\\d+)(x(\\^(\\d+))?)?$\""
      ]
     },
     "metadata": {},
     "output_type": "display_data"
    }
   ],
   "source": [
    "poly_re = r\"^([+-]?\\d+)(x(\\^(\\d+))?)?$\""
   ]
  },
  {
   "cell_type": "code",
   "execution_count": 58,
   "metadata": {},
   "outputs": [],
   "source": [
    "match(poly_re, \"-x^2\")"
   ]
  },
  {
   "cell_type": "code",
   "execution_count": 59,
   "metadata": {},
   "outputs": [
    {
     "data": {
      "text/plain": [
       "r\"^([+-]?)(\\d+)?(x(\\^(\\d+))?)?$\""
      ]
     },
     "metadata": {},
     "output_type": "display_data"
    }
   ],
   "source": [
    "poly_re = r\"^([+-]?)(\\d+)?(x(\\^(\\d+))?)?$\"\n",
    "# poly_re = r\"([+-]?\\d+)x\\^\\d+\""
   ]
  },
  {
   "cell_type": "code",
   "execution_count": 60,
   "metadata": {},
   "outputs": [
    {
     "data": {
      "text/plain": [
       "RegexMatch(\"-x^2\", 1=\"-\", 2=nothing, 3=\"x^2\", 4=\"^2\", 5=\"2\")"
      ]
     },
     "metadata": {},
     "output_type": "display_data"
    }
   ],
   "source": [
    "match(poly_re, \"-x^2\")"
   ]
  },
  {
   "cell_type": "code",
   "execution_count": 61,
   "metadata": {},
   "outputs": [
    {
     "data": {
      "text/plain": [
       "3-element Vector{RegexMatch{String}}:\n",
       " RegexMatch(\"4x^3\", 1=\"\", 2=\"4\", 3=\"x^3\", 4=\"^3\", 5=\"3\")\n",
       " RegexMatch(\"-2x\", 1=\"-\", 2=\"2\", 3=\"x\", 4=nothing, 5=nothing)\n",
       " RegexMatch(\"+6\", 1=\"+\", 2=\"6\", 3=nothing, 4=nothing, 5=nothing)"
      ]
     },
     "metadata": {},
     "output_type": "display_data"
    }
   ],
   "source": [
    "map(s -> match(poly_re, s), splitPoly(\"4x^3-2x+6\"))"
   ]
  },
  {
   "cell_type": "code",
   "execution_count": 62,
   "metadata": {},
   "outputs": [
    {
     "data": {
      "text/plain": [
       "RegexMatch(\"-17x\", 1=\"-\", 2=\"17\", 3=\"x\", 4=nothing, 5=nothing)"
      ]
     },
     "metadata": {},
     "output_type": "display_data"
    }
   ],
   "source": [
    "match(poly_re, \"-17x\")"
   ]
  },
  {
   "cell_type": "code",
   "execution_count": 63,
   "metadata": {},
   "outputs": [
    {
     "data": {
      "text/plain": [
       "RegexMatch(\"+10\", 1=\"+\", 2=\"10\", 3=nothing, 4=nothing, 5=nothing)"
      ]
     },
     "metadata": {},
     "output_type": "display_data"
    }
   ],
   "source": [
    "match(poly_re, \"+10\")"
   ]
  },
  {
   "cell_type": "code",
   "execution_count": 64,
   "metadata": {},
   "outputs": [],
   "source": [
    "using Revise\n",
    "includet(\"Polynomial.jl\")\n",
    "using .Poly"
   ]
  },
  {
   "cell_type": "code",
   "execution_count": 65,
   "metadata": {},
   "outputs": [
    {
     "data": {
      "text/plain": [
       "  1 x^0 + 2 x^1 + 3 x^2"
      ]
     },
     "metadata": {},
     "output_type": "display_data"
    }
   ],
   "source": [
    "p = Polynomial([1,2,3])"
   ]
  },
  {
   "cell_type": "code",
   "execution_count": 66,
   "metadata": {},
   "outputs": [
    {
     "data": {
      "text/plain": [
       "polyTerm (generic function with 1 method)"
      ]
     },
     "metadata": {},
     "output_type": "display_data"
    }
   ],
   "source": [
    "function polyTerm(str::String)\n",
    "  local poly_re = r\"^([+-]?)(\\d+)?(x(\\^(\\d+))?)?$\"\n",
    "  local m = match(poly_re, str)\n",
    "  local c = \"$(m[1])$(m[2] == nothing ? 1 : m[2])\"\n",
    "  (coeff = parse(Int, c), pow = m[3] == \"x\" ? 1 : m[5] !== nothing ? parse(Int, m[5]) : 0)\n",
    "end"
   ]
  },
  {
   "cell_type": "code",
   "execution_count": 67,
   "metadata": {},
   "outputs": [
    {
     "name": "stdout",
     "output_type": "stream",
     "text": [
      "\u001b[0m\u001b[1mTest Summary: | \u001b[22m\u001b[32m\u001b[1mPass  \u001b[22m\u001b[39m\u001b[36m\u001b[1mTotal  \u001b[22m\u001b[39m\u001b[0m\u001b[1mTime\u001b[22m\n",
      "test set      | \u001b[32m  10  \u001b[39m\u001b[36m   10  \u001b[39m\u001b[0m0.1s\n"
     ]
    },
    {
     "data": {
      "text/plain": [
       "Test.DefaultTestSet(\"test set\", Any[], 10, false, false, true, 1.722298904473303e9, 1.722298904554002e9, false, \"/Users/pstaab/code/sci-comp-book/julia-output/jl_notebook_cell_df34fa98e69747e1a8f8a730347b8e2f_Y122sZmlsZQ==.jl\")"
      ]
     },
     "metadata": {},
     "output_type": "display_data"
    }
   ],
   "source": [
    "@testset begin\n",
    "  @test polyTerm(\"10x^3\") == (coeff = 10, pow = 3)\n",
    "  @test polyTerm(\"-10x^3\") == (coeff = -10, pow = 3)\n",
    "  @test polyTerm(\"+x^3\") == (coeff = 1, pow = 3)\n",
    "  @test polyTerm(\"-x^3\") == (coeff = -1, pow = 3)\n",
    "  @test polyTerm(\"5x\") == (coeff = 5, pow = 1)\n",
    "  @test polyTerm(\"-10\") == (coeff = -10, pow = 0)\n",
    "  @test polyTerm(\"5\") == (coeff = 5, pow = 0)\n",
    "  @test polyTerm(\"+5\") == (coeff = 5, pow = 0)\n",
    "  @test polyTerm(\"-x\") == (coeff = -1, pow = 1)\n",
    "  @test polyTerm(\"x\") == (coeff = 1, pow = 1)\n",
    "end"
   ]
  },
  {
   "cell_type": "code",
   "execution_count": 68,
   "metadata": {},
   "outputs": [
    {
     "data": {
      "text/plain": [
       "  6 x^0 + -2 x^1 + 0 x^2 + 4 x^3"
      ]
     },
     "metadata": {},
     "output_type": "display_data"
    }
   ],
   "source": [
    "Polynomial(\"4x^3-2x+6\")"
   ]
  },
  {
   "cell_type": "code",
   "execution_count": 88,
   "metadata": {},
   "outputs": [
    {
     "name": "stdout",
     "output_type": "stream",
     "text": [
      "\u001b[0m\u001b[1mTest Summary:                                     | \u001b[22m\u001b[32m\u001b[1mPass  \u001b[22m\u001b[39m\u001b[36m\u001b[1mTotal  \u001b[22m\u001b[39m\u001b[0m\u001b[1mTime\u001b[22m\n",
      "Creating a Polynomial as a Vector of Coefficients | \u001b[32m  12  \u001b[39m\u001b[36m   12  \u001b[39m\u001b[0m0.0s\n",
      "\"here\" = \"here\"\n",
      "\"here\" = \"here\"\n",
      "\"here\" = \"here\"\n",
      "\u001b[0m\u001b[1mTest Summary:                                                 | \u001b[22m\u001b[32m\u001b[1mPass  \u001b[22m\u001b[39m\u001b[36m\u001b[1mTotal  \u001b[22m\u001b[39m\u001b[0m\u001b[1mTime\u001b[22m\n",
      "Creating a Polynomial from a string with integer coefficients | \u001b[32m   9  \u001b[39m\u001b[36m    9  \u001b[39m\u001b[0m0.0s\n"
     ]
    },
    {
     "data": {
      "text/plain": [
       "Test.DefaultTestSet(\"Creating a Polynomial from a string with integer coefficients\", Any[], 9, false, false, true, 1.722299620867498e9, 1.722299620874879e9, false, \"/Users/pstaab/code/sci-comp-book/julia-output/test-polynomial.jl\")"
      ]
     },
     "metadata": {},
     "output_type": "display_data"
    }
   ],
   "source": [
    "include(\"test-polynomial.jl\")"
   ]
  },
  {
   "cell_type": "code",
   "execution_count": 78,
   "metadata": {},
   "outputs": [
    {
     "data": {
      "text/plain": [
       "  1.0 x^0 + 1.5 x^1 + 0.6666666666666666 x^2"
      ]
     },
     "metadata": {},
     "output_type": "display_data"
    }
   ],
   "source": [
    "Polynomial([1,1.5,2//3])"
   ]
  },
  {
   "cell_type": "code",
   "execution_count": null,
   "metadata": {},
   "outputs": [],
   "source": []
  }
 ],
 "metadata": {
  "kernelspec": {
   "display_name": "Julia 1.11.1",
   "language": "julia",
   "name": "julia-1.11"
  },
  "language_info": {
   "file_extension": ".jl",
   "mimetype": "application/julia",
   "name": "julia",
   "version": "1.11.1"
  }
 },
 "nbformat": 4,
 "nbformat_minor": 2
}
